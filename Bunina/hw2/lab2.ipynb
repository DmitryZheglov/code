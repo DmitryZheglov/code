{
 "cells": [
  {
   "cell_type": "markdown",
   "metadata": {},
   "source": [
    "## Лабораторная работа 2. Введение в машинное обучение.\n",
    "\n",
    "Результат лабораторной работы − отчет. Мы принимаем отчеты в формате ноутбуков IPython (ipynb-файл). Постарайтесь сделать ваш отчет интересным рассказом, последовательно отвечающим на вопросы из заданий. Помимо ответов на вопросы, в отчете также должен быть код, однако чем меньше кода, тем лучше всем: нам − меньше проверять, вам — проще найти ошибку или дополнить эксперимент. При проверке оценивается четкость ответов на вопросы, аккуратность отчета и кода.\n",
    "\n",
    "### Оценивание \n",
    "Каждая из задач имеет определенную «стоимость» (указана в скобках около задачи). Максимально допустимая оценка за работу — 10 баллов. Сдавать задание после указанного срока сдачи нельзя. "
   ]
  },
  {
   "cell_type": "markdown",
   "metadata": {},
   "source": [
    "## Данные\n",
    "\n",
    "\n",
    "В этой лабораторной работе мы научимся обучать модели машинного обучения, корректно ставить эксперименты, подбирать гиперпараметры, сравнивать и смешивать модели. Вам предлагается решить задачу бинарной классификации, а именно построить алгоритм, определяющий превысит ли средний заработок человека порог $50k. Каждый объект выборки — человек, для которого известны следующие признаки:\n",
    " - age\n",
    " - workclass\n",
    " - fnlwgt\n",
    " - education\n",
    " - education-num\n",
    " - marital-status\n",
    " - occupation\n",
    " - relationship\n",
    " - race\n",
    " - sex\n",
    " - capital-gain\n",
    " - capital-loss\n",
    " - hours-per-week\n",
    " \n",
    "Более подробно про признаки можно почитать [здесь](http://archive.ics.uci.edu/ml/machine-learning-databases/adult/adult.names). Целевой признак записан в переменной *>50K,<=50K*."
   ]
  },
  {
   "cell_type": "markdown",
   "metadata": {},
   "source": [
    "## Метрика качества\n",
    "\n",
    "Обучение и оценка качества модели производится на независимых множествах примеров. Как правило, имеющиеся примеры разбивают на два подмножества: обучение (train) и контроль (test). Выбор пропорции разбиения — компромисс. Действительно, большой размер обучения ведет к более качественным алгоритмам, но бОльшему шуму в оценке модели на контроле. И наоборот, большой размер контрольной выборки ведет к менее шумной оценке качества, однако модели получаются менее точными.\n",
    "\n",
    "Многие модели классификации получают оценку принадлежности положительному классу $\\tilde{y}(x) \\in R$ (например, вероятность принадлежности классу 1). Затем принимают решение о классе объекта путем сравнения оценки с некоторым порогом $\\theta$:\n",
    "\n",
    "$y(x) = +1$,  если $\\tilde{y}(x) \\geq \\theta$, $y(x) = -1$, если $\\tilde{y}(x) < \\theta$\n",
    "\n",
    "В этом случае можно рассматривать метрики, которые умеют работать с исходным ответом классификатора. В задании мы будем работать с метрикой AUC-ROC, которую в данном случае можно считать как долю неправильно упорядоченных пар объектов, отсортированных по возрастанию предсказанной оценки принадлежности классу 1 (более подробно можно узнать [здесь](https://github.com/esokolov/ml-course-msu/blob/master/ML15/lecture-notes/Sem05_metrics.pdf)). Детального понимания принципов работы метрики AUC-ROC для выполнения лабораторной не требуется."
   ]
  },
  {
   "cell_type": "markdown",
   "metadata": {},
   "source": [
    "## Подбор гиперпараметров модели\n",
    "\n",
    "В задачах машинного обучения следует различать параметры модели и гиперпараметры (структурные параметры). Обычно параметры модели настраиваются в ходе обучения (например, веса в линейной модели или структура решающего дерева), в то время как гиперпараметры задаются заранее (например, регуляризация в линейной модели или максимальная глубина решающего дерева). Каждая модель обычно имеет множество гиперпараметров, и нет универсальных наборов гиперпараметров, оптимально работающих во всех задачах, для каждой задачи нужно подбирать свой набор.\n",
    "\n",
    "Для оптимизации гиперпараметров модели часто используют _перебор по сетке (grid search)_: для каждого гиперпараметра выбирается несколько значений, перебираются все комбинации значений и выбирается комбинация, на которой модель показывает лучшее качество (с точки зрения метрики, которая оптимизируется). Однако в этом случае нужно грамотно оценивать построенную модель, а именно делать разбиение на обучающую и тестовую выборку. Есть несколько схем, как это можно реализовать: \n",
    "\n",
    " - Разбить имеющуюся выборку на обучающую и тестовую. В этом случае сравнение большого числа моделей при переборе параметров приводит к ситуации, когда лучшая на тестовой подвыборке модель не сохраняет свои качества на новых данных. Можно сказать, что происходит _переобучение_ на тестовую выборку.\n",
    " - Для устранения описанной выше проблемы, можно разбить данные на 3 непересекающихся подвыборки: обучение (`train`), валидация (`validation`) и контроль (`test`). Валидационную подвыборку используют для сравнения моделей, а `test` — для окончательной оценки качества и сравнения семейств моделей с подобранными параметрами.\n",
    " - Другой способ сравнения моделей — [кросс-валидация](http://en.wikipedia.org/wiki/Cross-validation_(statistics). Существуют различные схемы кросс-валидации:\n",
    "  - Leave-One-Out\n",
    "  - K-Fold\n",
    "  - Многократное случайное разбиение выборки\n",
    "  \n",
    "Кросс-валидация вычислительно затратна, особенно если вы делаете перебор по сетке с очень большим числом комбинаций. С учетом конечности времени на выполнение задания возникает ряд компромиссов: \n",
    "  - сетку можно делать более разреженной, перебирая меньше значений каждого параметра; однако, надо не забывать, что в таком случае можно пропустить хорошую комбинацию параметров;\n",
    "  - кросс-валидацию можно делать с меньшим числом разбиений или фолдов, но в таком случае оценка качества кросс-валидации становится более шумной и увеличивается риск выбрать неоптимальный набор параметров из-за случайности разбиения;\n",
    "  - параметры можно оптимизировать последовательно (жадно) — один за другим, а не перебирать все комбинации; такая стратегия не всегда приводит к оптимальному набору;\n",
    "  - перебирать не все комбинации параметров, а небольшое число случайно выбранных."
   ]
  },
  {
   "cell_type": "markdown",
   "metadata": {},
   "source": [
    "## Задание\n",
    "\n",
    "Прежде чем приступать к заданию, рекомендуем прочитать его до конца."
   ]
  },
  {
   "cell_type": "code",
   "execution_count": 1,
   "metadata": {
    "collapsed": true
   },
   "outputs": [],
   "source": [
    "import pandas as pd\n",
    "import numpy as np\n",
    "from sklearn.preprocessing import LabelEncoder\n",
    "from sklearn.neighbors import KNeighborsClassifier\n",
    "from sklearn.model_selection import GridSearchCV\n",
    "from __future__ import division, print_function\n",
    "# отключим всякие предупреждения Anaconda\n",
    "import warnings\n",
    "warnings.filterwarnings('ignore')\n",
    "%matplotlib inline\n",
    "from matplotlib import pyplot as plt\n",
    "plt.style.use('ggplot')"
   ]
  },
  {
   "cell_type": "markdown",
   "metadata": {},
   "source": [
    "Загрузите набор данных *data.adult.csv*. Чтобы лучше понимать, с чем вы работаете/корректно ли вы загрузили данные, можно вывести несколько первых строк на экран."
   ]
  },
  {
   "cell_type": "code",
   "execution_count": 2,
   "metadata": {
    "collapsed": false
   },
   "outputs": [],
   "source": [
    "data = pd.read_csv('data.adult.csv')"
   ]
  },
  {
   "cell_type": "code",
   "execution_count": 3,
   "metadata": {
    "collapsed": false
   },
   "outputs": [
    {
     "data": {
      "text/html": [
       "<div>\n",
       "<table border=\"1\" class=\"dataframe\">\n",
       "  <thead>\n",
       "    <tr style=\"text-align: right;\">\n",
       "      <th></th>\n",
       "      <th>age</th>\n",
       "      <th>workclass</th>\n",
       "      <th>fnlwgt</th>\n",
       "      <th>education</th>\n",
       "      <th>education-num</th>\n",
       "      <th>marital-status</th>\n",
       "      <th>occupation</th>\n",
       "      <th>relationship</th>\n",
       "      <th>race</th>\n",
       "      <th>sex</th>\n",
       "      <th>capital-gain</th>\n",
       "      <th>capital-loss</th>\n",
       "      <th>hours-per-week</th>\n",
       "      <th>&gt;50K,&lt;=50K</th>\n",
       "    </tr>\n",
       "  </thead>\n",
       "  <tbody>\n",
       "    <tr>\n",
       "      <th>0</th>\n",
       "      <td>34</td>\n",
       "      <td>Local-gov</td>\n",
       "      <td>284843</td>\n",
       "      <td>HS-grad</td>\n",
       "      <td>9</td>\n",
       "      <td>Never-married</td>\n",
       "      <td>Farming-fishing</td>\n",
       "      <td>Not-in-family</td>\n",
       "      <td>Black</td>\n",
       "      <td>Male</td>\n",
       "      <td>594</td>\n",
       "      <td>0</td>\n",
       "      <td>60</td>\n",
       "      <td>&lt;=50K</td>\n",
       "    </tr>\n",
       "    <tr>\n",
       "      <th>1</th>\n",
       "      <td>40</td>\n",
       "      <td>Private</td>\n",
       "      <td>190290</td>\n",
       "      <td>Some-college</td>\n",
       "      <td>10</td>\n",
       "      <td>Divorced</td>\n",
       "      <td>Sales</td>\n",
       "      <td>Not-in-family</td>\n",
       "      <td>White</td>\n",
       "      <td>Male</td>\n",
       "      <td>0</td>\n",
       "      <td>0</td>\n",
       "      <td>40</td>\n",
       "      <td>&lt;=50K</td>\n",
       "    </tr>\n",
       "    <tr>\n",
       "      <th>2</th>\n",
       "      <td>36</td>\n",
       "      <td>Local-gov</td>\n",
       "      <td>177858</td>\n",
       "      <td>Bachelors</td>\n",
       "      <td>13</td>\n",
       "      <td>Married-civ-spouse</td>\n",
       "      <td>Prof-specialty</td>\n",
       "      <td>Own-child</td>\n",
       "      <td>White</td>\n",
       "      <td>Male</td>\n",
       "      <td>0</td>\n",
       "      <td>0</td>\n",
       "      <td>40</td>\n",
       "      <td>&lt;=50K</td>\n",
       "    </tr>\n",
       "    <tr>\n",
       "      <th>3</th>\n",
       "      <td>22</td>\n",
       "      <td>Private</td>\n",
       "      <td>184756</td>\n",
       "      <td>Some-college</td>\n",
       "      <td>10</td>\n",
       "      <td>Never-married</td>\n",
       "      <td>Sales</td>\n",
       "      <td>Own-child</td>\n",
       "      <td>White</td>\n",
       "      <td>Female</td>\n",
       "      <td>0</td>\n",
       "      <td>0</td>\n",
       "      <td>30</td>\n",
       "      <td>&lt;=50K</td>\n",
       "    </tr>\n",
       "    <tr>\n",
       "      <th>4</th>\n",
       "      <td>47</td>\n",
       "      <td>Private</td>\n",
       "      <td>149700</td>\n",
       "      <td>Bachelors</td>\n",
       "      <td>13</td>\n",
       "      <td>Married-civ-spouse</td>\n",
       "      <td>Tech-support</td>\n",
       "      <td>Husband</td>\n",
       "      <td>White</td>\n",
       "      <td>Male</td>\n",
       "      <td>15024</td>\n",
       "      <td>0</td>\n",
       "      <td>40</td>\n",
       "      <td>&gt;50K</td>\n",
       "    </tr>\n",
       "    <tr>\n",
       "      <th>5</th>\n",
       "      <td>18</td>\n",
       "      <td>Private</td>\n",
       "      <td>446771</td>\n",
       "      <td>Some-college</td>\n",
       "      <td>10</td>\n",
       "      <td>Never-married</td>\n",
       "      <td>Adm-clerical</td>\n",
       "      <td>Own-child</td>\n",
       "      <td>White</td>\n",
       "      <td>Male</td>\n",
       "      <td>0</td>\n",
       "      <td>0</td>\n",
       "      <td>25</td>\n",
       "      <td>&lt;=50K</td>\n",
       "    </tr>\n",
       "    <tr>\n",
       "      <th>6</th>\n",
       "      <td>31</td>\n",
       "      <td>Federal-gov</td>\n",
       "      <td>108464</td>\n",
       "      <td>Assoc-acdm</td>\n",
       "      <td>12</td>\n",
       "      <td>Married-civ-spouse</td>\n",
       "      <td>Tech-support</td>\n",
       "      <td>Husband</td>\n",
       "      <td>White</td>\n",
       "      <td>Male</td>\n",
       "      <td>0</td>\n",
       "      <td>0</td>\n",
       "      <td>40</td>\n",
       "      <td>&lt;=50K</td>\n",
       "    </tr>\n",
       "  </tbody>\n",
       "</table>\n",
       "</div>"
      ],
      "text/plain": [
       "   age    workclass  fnlwgt     education  education-num      marital-status  \\\n",
       "0   34    Local-gov  284843       HS-grad              9       Never-married   \n",
       "1   40      Private  190290  Some-college             10            Divorced   \n",
       "2   36    Local-gov  177858     Bachelors             13  Married-civ-spouse   \n",
       "3   22      Private  184756  Some-college             10       Never-married   \n",
       "4   47      Private  149700     Bachelors             13  Married-civ-spouse   \n",
       "5   18      Private  446771  Some-college             10       Never-married   \n",
       "6   31  Federal-gov  108464    Assoc-acdm             12  Married-civ-spouse   \n",
       "\n",
       "        occupation   relationship   race     sex  capital-gain  capital-loss  \\\n",
       "0  Farming-fishing  Not-in-family  Black    Male           594             0   \n",
       "1            Sales  Not-in-family  White    Male             0             0   \n",
       "2   Prof-specialty      Own-child  White    Male             0             0   \n",
       "3            Sales      Own-child  White  Female             0             0   \n",
       "4     Tech-support        Husband  White    Male         15024             0   \n",
       "5     Adm-clerical      Own-child  White    Male             0             0   \n",
       "6     Tech-support        Husband  White    Male             0             0   \n",
       "\n",
       "   hours-per-week >50K,<=50K  \n",
       "0              60      <=50K  \n",
       "1              40      <=50K  \n",
       "2              40      <=50K  \n",
       "3              30      <=50K  \n",
       "4              40       >50K  \n",
       "5              25      <=50K  \n",
       "6              40      <=50K  "
      ]
     },
     "execution_count": 3,
     "metadata": {},
     "output_type": "execute_result"
    }
   ],
   "source": [
    "data.head(7)"
   ]
  },
  {
   "cell_type": "markdown",
   "metadata": {},
   "source": [
    "Иногда в данных встречаются пропуски. Как задаются пропуски, обычно либо прописывается в описании к данным, либо просто на месте пропуска после чтения данных оказывается значение numpy.nan. Более подробно о работе с пропусками в Pandas можно прочитать например [здесь](http://pandas.pydata.org/pandas-docs/stable/missing_data.html). \n",
    "\n",
    "В данном датасете пропущенные значения обозначены как \"?\". \n",
    "\n",
    "**(0.5 балла)** Найдите все признаки, имеющие пропущенные значения. Удалите из выборки все объекты с пропусками."
   ]
  },
  {
   "cell_type": "markdown",
   "metadata": {},
   "source": [
    "нашли"
   ]
  },
  {
   "cell_type": "code",
   "execution_count": 4,
   "metadata": {
    "collapsed": false
   },
   "outputs": [],
   "source": [
    "data = data.replace('?', np.nan)"
   ]
  },
  {
   "cell_type": "code",
   "execution_count": 5,
   "metadata": {
    "collapsed": false
   },
   "outputs": [
    {
     "data": {
      "text/plain": [
       "age                 0\n",
       "workclass         929\n",
       "fnlwgt              0\n",
       "education           0\n",
       "education-num       0\n",
       "marital-status      0\n",
       "occupation        933\n",
       "relationship        0\n",
       "race                0\n",
       "sex                 0\n",
       "capital-gain        0\n",
       "capital-loss        0\n",
       "hours-per-week      0\n",
       ">50K,<=50K          0\n",
       "dtype: int64"
      ]
     },
     "execution_count": 5,
     "metadata": {},
     "output_type": "execute_result"
    }
   ],
   "source": [
    "data.isnull().sum()"
   ]
  },
  {
   "cell_type": "code",
   "execution_count": 6,
   "metadata": {
    "collapsed": false
   },
   "outputs": [
    {
     "data": {
      "text/plain": [
       "(16280, 14)"
      ]
     },
     "execution_count": 6,
     "metadata": {},
     "output_type": "execute_result"
    }
   ],
   "source": [
    "data.shape"
   ]
  },
  {
   "cell_type": "markdown",
   "metadata": {},
   "source": [
    "удалили)"
   ]
  },
  {
   "cell_type": "code",
   "execution_count": 7,
   "metadata": {
    "collapsed": false
   },
   "outputs": [
    {
     "data": {
      "text/plain": [
       "(15347, 14)"
      ]
     },
     "execution_count": 7,
     "metadata": {},
     "output_type": "execute_result"
    }
   ],
   "source": [
    "data.dropna(inplace = True)\n",
    "data.shape"
   ]
  },
  {
   "cell_type": "code",
   "execution_count": 8,
   "metadata": {
    "collapsed": false
   },
   "outputs": [
    {
     "data": {
      "text/plain": [
       "age               0\n",
       "workclass         0\n",
       "fnlwgt            0\n",
       "education         0\n",
       "education-num     0\n",
       "marital-status    0\n",
       "occupation        0\n",
       "relationship      0\n",
       "race              0\n",
       "sex               0\n",
       "capital-gain      0\n",
       "capital-loss      0\n",
       "hours-per-week    0\n",
       ">50K,<=50K        0\n",
       "dtype: int64"
      ]
     },
     "execution_count": 8,
     "metadata": {},
     "output_type": "execute_result"
    }
   ],
   "source": [
    "data.isnull().sum()"
   ]
  },
  {
   "cell_type": "markdown",
   "metadata": {},
   "source": [
    "Обычно после загрузки датасета необходима его некоторая предобработка. В данном случае она будет заключаться в следующем: \n",
    "\n",
    " - Выделите целевую переменную (ту, которую мы хотим предсказывать) в отдельную переменную, удалите ее из датасета и преобразуйте к бинарному формату.\n",
    " - Обратите внимание, что не все признаки являются вещественными (числовыми). В начале мы будем работать только с вещественными признаками. Выделите их отдельно."
   ]
  },
  {
   "cell_type": "code",
   "execution_count": 9,
   "metadata": {
    "collapsed": false
   },
   "outputs": [
    {
     "data": {
      "text/plain": [
       "Index(['age', 'workclass', 'fnlwgt', 'education', 'education-num',\n",
       "       'marital-status', 'occupation', 'relationship', 'race', 'sex',\n",
       "       'capital-gain', 'capital-loss', 'hours-per-week', '>50K,<=50K'],\n",
       "      dtype='object')"
      ]
     },
     "execution_count": 9,
     "metadata": {},
     "output_type": "execute_result"
    }
   ],
   "source": [
    "data.columns"
   ]
  },
  {
   "cell_type": "markdown",
   "metadata": {},
   "source": [
    "после удаления нанов сделает ресет индексов"
   ]
  },
  {
   "cell_type": "code",
   "execution_count": 10,
   "metadata": {
    "collapsed": false
   },
   "outputs": [
    {
     "data": {
      "text/html": [
       "<div>\n",
       "<table border=\"1\" class=\"dataframe\">\n",
       "  <thead>\n",
       "    <tr style=\"text-align: right;\">\n",
       "      <th></th>\n",
       "      <th>age</th>\n",
       "      <th>workclass</th>\n",
       "      <th>fnlwgt</th>\n",
       "      <th>education</th>\n",
       "      <th>education-num</th>\n",
       "      <th>marital-status</th>\n",
       "      <th>occupation</th>\n",
       "      <th>relationship</th>\n",
       "      <th>race</th>\n",
       "      <th>sex</th>\n",
       "      <th>capital-gain</th>\n",
       "      <th>capital-loss</th>\n",
       "      <th>hours-per-week</th>\n",
       "      <th>&gt;50K,&lt;=50K</th>\n",
       "    </tr>\n",
       "  </thead>\n",
       "  <tbody>\n",
       "    <tr>\n",
       "      <th>0</th>\n",
       "      <td>34</td>\n",
       "      <td>Local-gov</td>\n",
       "      <td>284843</td>\n",
       "      <td>HS-grad</td>\n",
       "      <td>9</td>\n",
       "      <td>Never-married</td>\n",
       "      <td>Farming-fishing</td>\n",
       "      <td>Not-in-family</td>\n",
       "      <td>Black</td>\n",
       "      <td>Male</td>\n",
       "      <td>594</td>\n",
       "      <td>0</td>\n",
       "      <td>60</td>\n",
       "      <td>&lt;=50K</td>\n",
       "    </tr>\n",
       "    <tr>\n",
       "      <th>1</th>\n",
       "      <td>40</td>\n",
       "      <td>Private</td>\n",
       "      <td>190290</td>\n",
       "      <td>Some-college</td>\n",
       "      <td>10</td>\n",
       "      <td>Divorced</td>\n",
       "      <td>Sales</td>\n",
       "      <td>Not-in-family</td>\n",
       "      <td>White</td>\n",
       "      <td>Male</td>\n",
       "      <td>0</td>\n",
       "      <td>0</td>\n",
       "      <td>40</td>\n",
       "      <td>&lt;=50K</td>\n",
       "    </tr>\n",
       "    <tr>\n",
       "      <th>2</th>\n",
       "      <td>36</td>\n",
       "      <td>Local-gov</td>\n",
       "      <td>177858</td>\n",
       "      <td>Bachelors</td>\n",
       "      <td>13</td>\n",
       "      <td>Married-civ-spouse</td>\n",
       "      <td>Prof-specialty</td>\n",
       "      <td>Own-child</td>\n",
       "      <td>White</td>\n",
       "      <td>Male</td>\n",
       "      <td>0</td>\n",
       "      <td>0</td>\n",
       "      <td>40</td>\n",
       "      <td>&lt;=50K</td>\n",
       "    </tr>\n",
       "    <tr>\n",
       "      <th>3</th>\n",
       "      <td>22</td>\n",
       "      <td>Private</td>\n",
       "      <td>184756</td>\n",
       "      <td>Some-college</td>\n",
       "      <td>10</td>\n",
       "      <td>Never-married</td>\n",
       "      <td>Sales</td>\n",
       "      <td>Own-child</td>\n",
       "      <td>White</td>\n",
       "      <td>Female</td>\n",
       "      <td>0</td>\n",
       "      <td>0</td>\n",
       "      <td>30</td>\n",
       "      <td>&lt;=50K</td>\n",
       "    </tr>\n",
       "    <tr>\n",
       "      <th>4</th>\n",
       "      <td>47</td>\n",
       "      <td>Private</td>\n",
       "      <td>149700</td>\n",
       "      <td>Bachelors</td>\n",
       "      <td>13</td>\n",
       "      <td>Married-civ-spouse</td>\n",
       "      <td>Tech-support</td>\n",
       "      <td>Husband</td>\n",
       "      <td>White</td>\n",
       "      <td>Male</td>\n",
       "      <td>15024</td>\n",
       "      <td>0</td>\n",
       "      <td>40</td>\n",
       "      <td>&gt;50K</td>\n",
       "    </tr>\n",
       "  </tbody>\n",
       "</table>\n",
       "</div>"
      ],
      "text/plain": [
       "   age  workclass  fnlwgt     education  education-num      marital-status  \\\n",
       "0   34  Local-gov  284843       HS-grad              9       Never-married   \n",
       "1   40    Private  190290  Some-college             10            Divorced   \n",
       "2   36  Local-gov  177858     Bachelors             13  Married-civ-spouse   \n",
       "3   22    Private  184756  Some-college             10       Never-married   \n",
       "4   47    Private  149700     Bachelors             13  Married-civ-spouse   \n",
       "\n",
       "        occupation   relationship   race     sex  capital-gain  capital-loss  \\\n",
       "0  Farming-fishing  Not-in-family  Black    Male           594             0   \n",
       "1            Sales  Not-in-family  White    Male             0             0   \n",
       "2   Prof-specialty      Own-child  White    Male             0             0   \n",
       "3            Sales      Own-child  White  Female             0             0   \n",
       "4     Tech-support        Husband  White    Male         15024             0   \n",
       "\n",
       "   hours-per-week >50K,<=50K  \n",
       "0              60      <=50K  \n",
       "1              40      <=50K  \n",
       "2              40      <=50K  \n",
       "3              30      <=50K  \n",
       "4              40       >50K  "
      ]
     },
     "execution_count": 10,
     "metadata": {},
     "output_type": "execute_result"
    }
   ],
   "source": [
    "data.reset_index(inplace = True)\n",
    "data.drop(['index'],inplace = True, axis = 1)\n",
    "data.head()"
   ]
  },
  {
   "cell_type": "code",
   "execution_count": 11,
   "metadata": {
    "collapsed": false
   },
   "outputs": [
    {
     "data": {
      "text/plain": [
       "15347"
      ]
     },
     "execution_count": 11,
     "metadata": {},
     "output_type": "execute_result"
    }
   ],
   "source": [
    "# перекодируем target в числовое поле\n",
    "data.at[data['>50K,<=50K'] == '<=50K', '>50K,<=50K'] = 0\n",
    "data.at[data['>50K,<=50K'] == '>50K', '>50K,<=50K'] = 1\n",
    "data['>50K,<=50K'] = data['>50K,<=50K'].apply(np.int)\n",
    "y = np.array(data['>50K,<=50K'])\n",
    "len(y)\n"
   ]
  },
  {
   "cell_type": "code",
   "execution_count": 12,
   "metadata": {
    "collapsed": false
   },
   "outputs": [
    {
     "data": {
      "text/plain": [
       "(15347, 13)"
      ]
     },
     "execution_count": 12,
     "metadata": {},
     "output_type": "execute_result"
    }
   ],
   "source": [
    "data.drop(['>50K,<=50K'],axis = 1, inplace = True)\n",
    "data.shape"
   ]
  },
  {
   "cell_type": "code",
   "execution_count": 13,
   "metadata": {
    "collapsed": false
   },
   "outputs": [
    {
     "data": {
      "text/html": [
       "<div>\n",
       "<table border=\"1\" class=\"dataframe\">\n",
       "  <thead>\n",
       "    <tr style=\"text-align: right;\">\n",
       "      <th></th>\n",
       "      <th>age</th>\n",
       "      <th>workclass</th>\n",
       "      <th>fnlwgt</th>\n",
       "      <th>education</th>\n",
       "      <th>education-num</th>\n",
       "      <th>marital-status</th>\n",
       "      <th>occupation</th>\n",
       "      <th>relationship</th>\n",
       "      <th>race</th>\n",
       "      <th>sex</th>\n",
       "      <th>capital-gain</th>\n",
       "      <th>capital-loss</th>\n",
       "      <th>hours-per-week</th>\n",
       "    </tr>\n",
       "  </thead>\n",
       "  <tbody>\n",
       "    <tr>\n",
       "      <th>0</th>\n",
       "      <td>34</td>\n",
       "      <td>Local-gov</td>\n",
       "      <td>284843</td>\n",
       "      <td>HS-grad</td>\n",
       "      <td>9</td>\n",
       "      <td>Never-married</td>\n",
       "      <td>Farming-fishing</td>\n",
       "      <td>Not-in-family</td>\n",
       "      <td>Black</td>\n",
       "      <td>Male</td>\n",
       "      <td>594</td>\n",
       "      <td>0</td>\n",
       "      <td>60</td>\n",
       "    </tr>\n",
       "    <tr>\n",
       "      <th>1</th>\n",
       "      <td>40</td>\n",
       "      <td>Private</td>\n",
       "      <td>190290</td>\n",
       "      <td>Some-college</td>\n",
       "      <td>10</td>\n",
       "      <td>Divorced</td>\n",
       "      <td>Sales</td>\n",
       "      <td>Not-in-family</td>\n",
       "      <td>White</td>\n",
       "      <td>Male</td>\n",
       "      <td>0</td>\n",
       "      <td>0</td>\n",
       "      <td>40</td>\n",
       "    </tr>\n",
       "    <tr>\n",
       "      <th>2</th>\n",
       "      <td>36</td>\n",
       "      <td>Local-gov</td>\n",
       "      <td>177858</td>\n",
       "      <td>Bachelors</td>\n",
       "      <td>13</td>\n",
       "      <td>Married-civ-spouse</td>\n",
       "      <td>Prof-specialty</td>\n",
       "      <td>Own-child</td>\n",
       "      <td>White</td>\n",
       "      <td>Male</td>\n",
       "      <td>0</td>\n",
       "      <td>0</td>\n",
       "      <td>40</td>\n",
       "    </tr>\n",
       "    <tr>\n",
       "      <th>3</th>\n",
       "      <td>22</td>\n",
       "      <td>Private</td>\n",
       "      <td>184756</td>\n",
       "      <td>Some-college</td>\n",
       "      <td>10</td>\n",
       "      <td>Never-married</td>\n",
       "      <td>Sales</td>\n",
       "      <td>Own-child</td>\n",
       "      <td>White</td>\n",
       "      <td>Female</td>\n",
       "      <td>0</td>\n",
       "      <td>0</td>\n",
       "      <td>30</td>\n",
       "    </tr>\n",
       "    <tr>\n",
       "      <th>4</th>\n",
       "      <td>47</td>\n",
       "      <td>Private</td>\n",
       "      <td>149700</td>\n",
       "      <td>Bachelors</td>\n",
       "      <td>13</td>\n",
       "      <td>Married-civ-spouse</td>\n",
       "      <td>Tech-support</td>\n",
       "      <td>Husband</td>\n",
       "      <td>White</td>\n",
       "      <td>Male</td>\n",
       "      <td>15024</td>\n",
       "      <td>0</td>\n",
       "      <td>40</td>\n",
       "    </tr>\n",
       "  </tbody>\n",
       "</table>\n",
       "</div>"
      ],
      "text/plain": [
       "   age  workclass  fnlwgt     education  education-num      marital-status  \\\n",
       "0   34  Local-gov  284843       HS-grad              9       Never-married   \n",
       "1   40    Private  190290  Some-college             10            Divorced   \n",
       "2   36  Local-gov  177858     Bachelors             13  Married-civ-spouse   \n",
       "3   22    Private  184756  Some-college             10       Never-married   \n",
       "4   47    Private  149700     Bachelors             13  Married-civ-spouse   \n",
       "\n",
       "        occupation   relationship   race     sex  capital-gain  capital-loss  \\\n",
       "0  Farming-fishing  Not-in-family  Black    Male           594             0   \n",
       "1            Sales  Not-in-family  White    Male             0             0   \n",
       "2   Prof-specialty      Own-child  White    Male             0             0   \n",
       "3            Sales      Own-child  White  Female             0             0   \n",
       "4     Tech-support        Husband  White    Male         15024             0   \n",
       "\n",
       "   hours-per-week  \n",
       "0              60  \n",
       "1              40  \n",
       "2              40  \n",
       "3              30  \n",
       "4              40  "
      ]
     },
     "execution_count": 13,
     "metadata": {},
     "output_type": "execute_result"
    }
   ],
   "source": [
    "data.head()"
   ]
  },
  {
   "cell_type": "code",
   "execution_count": 14,
   "metadata": {
    "collapsed": false
   },
   "outputs": [
    {
     "data": {
      "text/plain": [
       "age                int64\n",
       "workclass         object\n",
       "fnlwgt             int64\n",
       "education         object\n",
       "education-num      int64\n",
       "marital-status    object\n",
       "occupation        object\n",
       "relationship      object\n",
       "race              object\n",
       "sex               object\n",
       "capital-gain       int64\n",
       "capital-loss       int64\n",
       "hours-per-week     int64\n",
       "dtype: object"
      ]
     },
     "execution_count": 14,
     "metadata": {},
     "output_type": "execute_result"
    }
   ],
   "source": [
    "data.dtypes"
   ]
  },
  {
   "cell_type": "code",
   "execution_count": 15,
   "metadata": {
    "collapsed": false
   },
   "outputs": [
    {
     "name": "stdout",
     "output_type": "stream",
     "text": [
      "categorical_columns: ['workclass', 'education', 'marital-status', 'occupation', 'relationship', 'race', 'sex']\n",
      "numerical_columns: ['age', 'fnlwgt', 'education-num', 'capital-gain', 'capital-loss', 'hours-per-week']\n"
     ]
    }
   ],
   "source": [
    "# выделим в выборках категориальные и числовые поля\n",
    "categorical_columns = [c for c in data.columns if data[c].dtype.name == 'object']\n",
    "numerical_columns = [c for c in data.columns if data[c].dtype.name != 'object']\n",
    "\n",
    "print('categorical_columns:', categorical_columns)\n",
    "print('numerical_columns:', numerical_columns)"
   ]
  },
  {
   "cell_type": "markdown",
   "metadata": {},
   "source": [
    "## Обучение классификаторов на вещественных признаках\n",
    "\n",
    "В данном разделе необходимо будет работать только с вещественными признаками и целевой переменной.\n",
    "\n",
    "В начале посмотрим, как работает подбор параметров по сетке и как влияет на качество разбиение выборки. Сейчас и далее будем рассматривать 4 алгоритма:\n",
    " - [kNN](http://scikit-learn.org/stable/modules/generated/sklearn.neighbors.KNeighborsClassifier.html)\n",
    " - [DecisonTree](http://scikit-learn.org/stable/modules/generated/sklearn.tree.DecisionTreeClassifier.html#sklearn.tree.DecisionTreeClassifier)\n",
    " - [RandomForest](http://scikit-learn.org/stable/modules/generated/sklearn.ensemble.RandomForestClassifier.html)\n",
    " - [SGD Linear Classifier](http://scikit-learn.org/stable/modules/generated/sklearn.linear_model.SGDClassifier.html)\n",
    "\n",
    "Для начала у первых трёх алгоритмов выберем один гиперпараметр, который будем оптимизировать:\n",
    " - kNN — число соседей (*n_neighbors*)\n",
    " - DecisonTree — глубина дерева (*max_depth*)\n",
    " - SGD Linear Classifier — оптимизируемая функция (*loss*)\n",
    " \n",
    "Остальные параметры оставляйте в значениях по умолчанию. Для подбора гиперпараметров воспользуйтесь перебором по сетке, который реализован в классе [GridSearchCV](http://scikit-learn.org/stable/modules/generated/sklearn.grid_search.GridSearchCV.html#sklearn.grid_search.GridSearchCV). В качестве схемы кросс-валидации используйте 5-fold cv, которую можно задать с помощью класса [KFoldCV](http://scikit-learn.org/stable/modules/generated/sklearn.cross_validation.KFold.html).\n",
    "\n",
    "**(1.5 балла)** Для каждого алгоритма подберите оптимальные значения указанных гиперпараметров. Постройте график среднего качества по кросс-валидации алгоритма при заданном значении гиперпараметра, на котором также отобразите доверительный интервал."
   ]
  },
  {
   "cell_type": "markdown",
   "metadata": {},
   "source": [
    "можно использовать kFOld и по циклу обучать модель с разными параметрами, сохранять результаты в массивы, но намного проще использовать внутренний параметр  GridSearchCV'а cv=5(integer, to specify the number of folds in a (Stratified)KFold)"
   ]
  },
  {
   "cell_type": "code",
   "execution_count": 16,
   "metadata": {
    "collapsed": false
   },
   "outputs": [
    {
     "name": "stdout",
     "output_type": "stream",
     "text": [
      "TRAIN: 12277 TEST: 3070\n",
      "TRAIN: 12277 TEST: 3070\n",
      "TRAIN: 12278 TEST: 3069\n",
      "TRAIN: 12278 TEST: 3069\n",
      "TRAIN: 12278 TEST: 3069\n"
     ]
    }
   ],
   "source": [
    "from sklearn.cross_validation import KFold\n",
    "kf = KFold(data.shape[0],5)\n",
    "for train_index, test_index in kf:\n",
    "    print(\"TRAIN:\", len(train_index), \"TEST:\", len(test_index))\n",
    "    X_train, X_test = data.loc[train_index], data.loc[test_index]\n",
    "    y_train, y_test = y[train_index], y[test_index]"
   ]
  },
  {
   "cell_type": "markdown",
   "metadata": {},
   "source": [
    "# kNN"
   ]
  },
  {
   "cell_type": "markdown",
   "metadata": {},
   "source": [
    "буду строить доверительный интервал в 1 стандартное отклонение"
   ]
  },
  {
   "cell_type": "code",
   "execution_count": 17,
   "metadata": {
    "collapsed": false
   },
   "outputs": [
    {
     "name": "stdout",
     "output_type": "stream",
     "text": [
      "Best params: {'n_neighbors': 4}\n",
      "Best cross validaton score 0.640716052871\n"
     ]
    },
    {
     "data": {
      "image/png": "[encoded data removed]",
      "text/plain": [
       "<matplotlib.figure.Figure at 0x7f1f2d6f8860>"
      ]
     },
     "metadata": {},
     "output_type": "display_data"
    }
   ],
   "source": [
    "parameters = {'n_neighbors':np.arange(1,10,1)}\n",
    "neigh = KNeighborsClassifier()\n",
    "clf = GridSearchCV(neigh, parameters, cv = 5,scoring='roc_auc')\n",
    "clf.fit(data[numerical_columns], y)\n",
    "\n",
    "def plot_with_err(x, data, **kwargs):\n",
    "    mu = clf.cv_results_['mean_'+data+'_score']\n",
    "    std = clf.cv_results_['std_'+data+'_score']\n",
    "    lines = plt.plot(x, mu, '-', **kwargs)\n",
    "    plt.fill_between(x, mu - std, mu + std, edgecolor='none',\n",
    "    facecolor=lines[0].get_color(), alpha=0.2)\n",
    "\n",
    "plot_with_err(np.array(clf.cv_results_['param_n_neighbors'].data,dtype = int), 'train',  label='training scores')\n",
    "plot_with_err(np.array(clf.cv_results_['param_n_neighbors'].data,dtype = int), 'test',  label='validation scores')\n",
    "plt.xlabel('n_neigh')\n",
    "plt.ylabel('ROC AUC')\n",
    "plt.legend()\n",
    "\n",
    "print(\"Best params:\", clf.best_params_)\n",
    "print(\"Best cross validaton score\", clf.best_score_)"
   ]
  },
  {
   "cell_type": "markdown",
   "metadata": {},
   "source": [
    "# DesicionTree"
   ]
  },
  {
   "cell_type": "code",
   "execution_count": 16,
   "metadata": {
    "collapsed": true
   },
   "outputs": [],
   "source": [
    "from sklearn.tree import DecisionTreeClassifier"
   ]
  },
  {
   "cell_type": "code",
   "execution_count": 19,
   "metadata": {
    "collapsed": false
   },
   "outputs": [
    {
     "name": "stdout",
     "output_type": "stream",
     "text": [
      "Best params: {'max_depth': 7}\n",
      "Best cross validaton score 0.841456219488\n"
     ]
    },
    {
     "data": {
      "image/png": "[encoded data removed]",
      "text/plain": [
       "<matplotlib.figure.Figure at 0x7f1eea892d68>"
      ]
     },
     "metadata": {},
     "output_type": "display_data"
    }
   ],
   "source": [
    "parameters = {'max_depth':np.arange(1,10,1)}\n",
    "decis = DecisionTreeClassifier(random_state=7)\n",
    "clf = GridSearchCV(decis, parameters, cv = 5,scoring='roc_auc')\n",
    "clf.fit(data[numerical_columns], y)\n",
    "\n",
    "def plot_with_err(x, data, **kwargs):\n",
    "    mu = clf.cv_results_['mean_'+data+'_score']\n",
    "    std = clf.cv_results_['std_'+data+'_score']\n",
    "    lines = plt.plot(x, mu, '-', **kwargs)\n",
    "    plt.fill_between(x, mu - std, mu + std, edgecolor='none',\n",
    "    facecolor=lines[0].get_color(), alpha=0.2)\n",
    "\n",
    "plot_with_err(np.array(clf.cv_results_['param_max_depth'].data,dtype = int), 'train', label='train scores')\n",
    "plot_with_err(np.array(clf.cv_results_['param_max_depth'].data,dtype = int), 'test',  label='validation scores')\n",
    "plt.xlabel('max_depth')\n",
    "plt.ylabel('ROC AUC')\n",
    "plt.legend(loc='best')\n",
    "\n",
    "print(\"Best params:\", clf.best_params_)\n",
    "print(\"Best cross validaton score\", clf.best_score_)"
   ]
  },
  {
   "cell_type": "markdown",
   "metadata": {},
   "source": [
    "# SGDClassifier"
   ]
  },
  {
   "cell_type": "code",
   "execution_count": 25,
   "metadata": {
    "collapsed": true
   },
   "outputs": [],
   "source": [
    "from sklearn import linear_model\n",
    "import matplotlib.ticker as ticker"
   ]
  },
  {
   "cell_type": "code",
   "execution_count": 22,
   "metadata": {
    "collapsed": false
   },
   "outputs": [
    {
     "name": "stdout",
     "output_type": "stream",
     "text": [
      "Best params: {'loss': 'modified_huber'}\n",
      "Best cross validaton score 0.604463616241\n"
     ]
    },
    {
     "data": {
      "image/png": "[encoded data removed]",
      "text/plain": [
       "<matplotlib.figure.Figure at 0x7f1ee5bd02b0>"
      ]
     },
     "metadata": {},
     "output_type": "display_data"
    }
   ],
   "source": [
    "parameters = {'loss':['hinge', 'log', 'modified_huber', 'squared_hinge', 'perceptron']}\n",
    "sgd = linear_model.SGDClassifier()\n",
    "clf = GridSearchCV(sgd, parameters, cv = 5,scoring='roc_auc')\n",
    "clf.fit(data[numerical_columns], y)\n",
    "\n",
    "def plot_with_err(x, data, **kwargs):\n",
    "    mu = clf.cv_results_['mean_'+data+'_score']\n",
    "    std = clf.cv_results_['std_'+data+'_score']\n",
    "    lines = plt.plot(x, mu, '-', **kwargs)\n",
    "    plt.fill_between(x, mu - std, mu + std, edgecolor='none',\n",
    "    facecolor=lines[0].get_color(), alpha=0.2)\n",
    "\n",
    "plot_with_err(np.arange(len(list(clf.cv_results_['param_loss'].data))), 'train', label = 'train scores')\n",
    "plot_with_err(np.arange(len(list(clf.cv_results_['param_loss'].data))), 'test',  label='validation scores')\n",
    "plt.xlabel('max_depth')\n",
    "plt.ylabel('ROC AUC')\n",
    "plt.xticks(range(len(list(clf.cv_results_['param_loss'].data))), list(clf.cv_results_['param_loss'].data), rotation=45)\n",
    "plt.legend(loc = 'best')\n",
    "\n",
    "\n",
    "print(\"Best params:\", clf.best_params_)\n",
    "print(\"Best cross validaton score\", clf.best_score_)"
   ]
  },
  {
   "cell_type": "markdown",
   "metadata": {},
   "source": [
    "Что вы можете сказать о получившихся графиках?\n",
    "\n",
    "**(1 балл)** Также подберём число деревьев (*n_estimators*) в алгоритме RandomForest. Как известно, в общем случае Random Forest не переобучается с увеличением количества деревьев, так что при увеличении этого гиперпараметра его качество не будет становиться хуже. Поэтому подберите такое количество деревьев, при котором качество на кросс-валидации стабилизируется. Обратите внимание, что для проведения этого эксперимента не нужно с нуля обучать много случайных лесов с различными количествами деревьев. Обучите один случайный лес с максимальным интересным количеством деревьев, а затем рассмотрите подмножества разных размеров, состоящие из деревьев построенного леса (поле [*estimators_*](http://scikit-learn.org/stable/modules/generated/sklearn.ensemble.RandomForestClassifier.html)). В дальнейших экспериментах используйте это количество деревьев."
   ]
  },
  {
   "cell_type": "markdown",
   "metadata": {
    "collapsed": true
   },
   "source": [
    "видим что когда на train оверфитимся, то на test качество плохое, но когда начинаем недофичиваемся(underfitting), то качество на test падает. \n",
    "На последнем графике огромный разброс по сравнению с остальными.\n",
    "Так же на валидации дисперсия больше\n",
    "Качество достаточно изменяется при изменении параметров, а значит поиск параметров важная задача"
   ]
  },
  {
   "cell_type": "code",
   "execution_count": 24,
   "metadata": {
    "collapsed": true
   },
   "outputs": [],
   "source": [
    "from sklearn.ensemble import RandomForestClassifier\n",
    "from sklearn.metrics import roc_auc_score"
   ]
  },
  {
   "cell_type": "code",
   "execution_count": 24,
   "metadata": {
    "collapsed": false
   },
   "outputs": [
    {
     "name": "stdout",
     "output_type": "stream",
     "text": [
      "TRAIN: 12277 TEST: 3070\n",
      "TRAIN: 12277 TEST: 3070\n",
      "TRAIN: 12278 TEST: 3069\n",
      "TRAIN: 12278 TEST: 3069\n",
      "TRAIN: 12278 TEST: 3069\n"
     ]
    }
   ],
   "source": [
    "from sklearn.cross_validation import KFold\n",
    "kf = KFold(data.shape[0],5)\n",
    "n = 200\n",
    "rf = RandomForestClassifier(n_estimators=n, n_jobs=4, random_state = 7)\n",
    "res_test = np.zeros(5*n).reshape((n,5))\n",
    "res_train = np.zeros(5*n).reshape((n,5))\n",
    "k = 0\n",
    "for train_index, test_index in kf:\n",
    "    print(\"TRAIN:\", len(train_index), \"TEST:\", len(test_index))\n",
    "    X_train, X_test = data.loc[train_index][numerical_columns], data.loc[test_index][numerical_columns]\n",
    "    y_train, y_test = y[train_index], y[test_index]\n",
    "    rf.fit(X_train, y_train)\n",
    "    yp_train = np.zeros(len(y_train))\n",
    "    yp_test = np.zeros(len(y_test))\n",
    "    for i in range(n):\n",
    "        yp_train = yp_train + rf.estimators_[i].predict(X_train)\n",
    "        yp_test = yp_test + rf.estimators_[i].predict(X_test)\n",
    "        res_train[i,k] = roc_auc_score(y_train, yp_train)\n",
    "        res_test[i,k] = roc_auc_score(y_test, yp_test)\n",
    "    k = k + 1"
   ]
  },
  {
   "cell_type": "code",
   "execution_count": 25,
   "metadata": {
    "collapsed": false
   },
   "outputs": [
    {
     "name": "stdout",
     "output_type": "stream",
     "text": [
      "Best params: 200\n",
      "Best cross validaton score 0.818905407547\n"
     ]
    },
    {
     "data": {
      "image/png": "[encoded data removed]",
      "text/plain": [
       "<matplotlib.figure.Figure at 0x7f1ee11ca160>"
      ]
     },
     "metadata": {},
     "output_type": "display_data"
    }
   ],
   "source": [
    "n_est = np.arange(1,n+1)\n",
    "def plot_with_err(x, data, **kwargs):\n",
    "    mu = data.mean(axis = 1)\n",
    "    std = data.std(axis = 1)\n",
    "    lines = plt.plot(x, mu, '-', **kwargs)\n",
    "    plt.fill_between(x, mu - std, mu + std, edgecolor='none',\n",
    "    facecolor=lines[0].get_color(), alpha=0.2)\n",
    "\n",
    "plot_with_err(n_est, res_train, label='train scores')\n",
    "plot_with_err(n_est, res_test,  label='test scores')\n",
    "plt.xlabel('alpha')\n",
    "plt.ylabel('ROC AUC')\n",
    "plt.legend(loc='best')\n",
    "\n",
    "print(\"Best params:\", n_est[res_test.mean(axis = 1).argmax()])\n",
    "print(\"Best cross validaton score\", res_test.mean(axis = 1).max())"
   ]
  },
  {
   "cell_type": "markdown",
   "metadata": {},
   "source": [
    "видим,что примерно с 75 деревьев качество почти перестает улучшаться,то буду считать значение 100 оптимальным, так как наша выборка будет не 80% для итогового предсказания, а 100% от изначальной, поэтому оптимальное число деревьев увеличиваю"
   ]
  },
  {
   "cell_type": "markdown",
   "metadata": {},
   "source": [
    "При обучении алгоритмов стоит обращать внимание не только на качество, но и каким образом они работают с данными. В этой задаче получилось так, что некоторые из используемых алгоритмов чувствительны к масштабу признаков. Чтобы убедиться, что это как-то могло повлиять на качество, давайте посмотрим на сами признаки.\n",
    "\n",
    "**(0.5 балла)** Постройте гистограммы для признаков *age*, *fnlwgt*, *capital-gain*."
   ]
  },
  {
   "cell_type": "code",
   "execution_count": 26,
   "metadata": {
    "collapsed": false
   },
   "outputs": [
    {
     "data": {
      "image/png": "[encoded data removed]",
      "text/plain": [
       "<matplotlib.figure.Figure at 0x7f1ee11c9518>"
      ]
     },
     "metadata": {},
     "output_type": "display_data"
    }
   ],
   "source": [
    "fig,axes = plt.subplots(nrows=1, ncols=3, figsize=(16, 10))\n",
    "i=0\n",
    "for col in  ['age','fnlwgt','capital-gain']:\n",
    "    axes[i].set_title(str(col))\n",
    "    data[col].hist(ax=axes[i])\n",
    "    i = i +1"
   ]
  },
  {
   "cell_type": "markdown",
   "metadata": {},
   "source": [
    "**(0.5 балла)** Глядя на получившиеся графики, объясните, в чем заключается особенность данных? На какие алгоритмы это может повлиять? Может ли масшитабирование повлиять на работу этих алгоритмов?"
   ]
  },
  {
   "cell_type": "markdown",
   "metadata": {},
   "source": [
    "По графикам видно, что у двух переменных есть очень большие значения. По сравнению с ними возраст очень мал.\n",
    "Величины переменных могут повлиять на алгоритмы основанные на метрике. Например kNN, если использовать евклидову метрику, то возраст почти не будет влиять на дистанцию до соседей. Масштабирование должно улучшить качество модели.\n",
    "Также поможет и SGD, потому что при больших значениях скалярного произведения (w,x_i) производная функции активации в алгоритме равна почти нулю, в связи с этим вектор весов w почти перестает меняться."
   ]
  },
  {
   "cell_type": "markdown",
   "metadata": {},
   "source": [
    "Масштабирование признаков можно выполнить, например, одним из следующих способов:\n",
    " - $x_{new} = \\dfrac{x - \\mu}{\\sigma}$, где $\\mu, \\sigma$ — среднее и стандартное отклонение значения признака по всей выборке (см. функцию [scale](http://scikit-learn.org/stable/modules/generated/sklearn.preprocessing.scale.html))\n",
    " - $x_{new} = \\dfrac{x - x_{min}}{x_{max} - x_{min}}$, где $[x_{min}, x_{max}]$ — минимальный интервал значений признака\n",
    " \n",
    "**(1 балл)** Масштабируйте все вещественные признаки одним из указанных способов и подберите оптимальные значения гиперпараметров аналогичо пункту выше."
   ]
  },
  {
   "cell_type": "code",
   "execution_count": 19,
   "metadata": {
    "collapsed": true
   },
   "outputs": [],
   "source": [
    "from sklearn import preprocessing"
   ]
  },
  {
   "cell_type": "code",
   "execution_count": 20,
   "metadata": {
    "collapsed": false
   },
   "outputs": [
    {
     "data": {
      "text/plain": [
       "array([[ 0.23287671,  0.18120681,  0.53333333,  0.00594006,  0.        ,\n",
       "         0.60204082],\n",
       "       [ 0.31506849,  0.11668326,  0.6       ,  0.        ,  0.        ,\n",
       "         0.39795918],\n",
       "       [ 0.26027397,  0.10819959,  0.8       ,  0.        ,  0.        ,\n",
       "         0.39795918],\n",
       "       ..., \n",
       "       [ 0.1369863 ,  0.05811029,  0.8       ,  0.        ,  0.        ,\n",
       "         0.39795918],\n",
       "       [ 0.57534247,  0.17019073,  0.53333333,  0.        ,  0.        ,\n",
       "         0.39795918],\n",
       "       [ 0.21917808,  0.0271468 ,  0.8       ,  0.        ,  0.48769231,\n",
       "         0.44897959]])"
      ]
     },
     "execution_count": 20,
     "metadata": {},
     "output_type": "execute_result"
    }
   ],
   "source": [
    "preprocessing.MinMaxScaler().fit_transform(data[numerical_columns])"
   ]
  },
  {
   "cell_type": "code",
   "execution_count": 21,
   "metadata": {
    "collapsed": false
   },
   "outputs": [],
   "source": [
    "Xtr = preprocessing.scale(data[numerical_columns])\n",
    "Xtr = pd.DataFrame(Xtr)"
   ]
  },
  {
   "cell_type": "code",
   "execution_count": 30,
   "metadata": {
    "collapsed": false
   },
   "outputs": [
    {
     "name": "stdout",
     "output_type": "stream",
     "text": [
      "KNN:\n",
      "Best params: {'n_neighbors': 9}\n",
      "Best cross validaton score 0.804009741995\n",
      "decisionTree\n",
      "Best params: {'max_depth': 7}\n",
      "Best cross validaton score 0.841502501819\n",
      "SGD\n",
      "Best params: {'loss': 'log'}\n",
      "Best cross validaton score 0.792946478684\n"
     ]
    }
   ],
   "source": [
    "parameters = {'n_neighbors':np.arange(1,10,1)}\n",
    "neigh = KNeighborsClassifier()\n",
    "clf = GridSearchCV(neigh, parameters, cv = 5,scoring='roc_auc')\n",
    "clf.fit(Xtr, y)\n",
    "print(\"KNN:\")\n",
    "print(\"Best params:\", clf.best_params_)\n",
    "print(\"Best cross validaton score\", clf.best_score_)\n",
    "\n",
    "parameters = {'max_depth':np.arange(1,10,1)}\n",
    "decis = DecisionTreeClassifier(random_state=7)\n",
    "clf = GridSearchCV(decis, parameters, cv = 5,scoring='roc_auc')\n",
    "clf.fit(Xtr, y)\n",
    "print(\"decisionTree\")\n",
    "print(\"Best params:\", clf.best_params_)\n",
    "print(\"Best cross validaton score\", clf.best_score_)\n",
    "\n",
    "parameters = {'loss':['hinge', 'log', 'modified_huber', 'squared_hinge', 'perceptron']}\n",
    "sgd = linear_model.SGDClassifier()\n",
    "clf = GridSearchCV(sgd, parameters, cv = 5,scoring='roc_auc')\n",
    "clf.fit(Xtr, y)\n",
    "print(\"SGD\")\n",
    "print(\"Best params:\", clf.best_params_)\n",
    "print(\"Best cross validaton score\", clf.best_score_)"
   ]
  },
  {
   "cell_type": "code",
   "execution_count": 31,
   "metadata": {
    "collapsed": false
   },
   "outputs": [
    {
     "name": "stdout",
     "output_type": "stream",
     "text": [
      "TRAIN: 12277 TEST: 3070\n",
      "TRAIN: 12277 TEST: 3070\n",
      "TRAIN: 12278 TEST: 3069\n",
      "TRAIN: 12278 TEST: 3069\n",
      "TRAIN: 12278 TEST: 3069\n",
      "Best params: 200\n",
      "Best cross validaton score 0.818940781704\n"
     ]
    },
    {
     "data": {
      "image/png": "[encoded data removed]",
      "text/plain": [
       "<matplotlib.figure.Figure at 0x7f1eea8b1f28>"
      ]
     },
     "metadata": {},
     "output_type": "display_data"
    }
   ],
   "source": [
    "from sklearn.cross_validation import KFold\n",
    "n = 200\n",
    "kf = KFold(Xtr.shape[0],5)\n",
    "rf = RandomForestClassifier(n_estimators=n, n_jobs=4, random_state = 7)\n",
    "res_test = np.zeros(5*n).reshape((n,5))\n",
    "res_train = np.zeros(5*n).reshape((n,5))\n",
    "k = 0\n",
    "for train_index, test_index in kf:\n",
    "    print(\"TRAIN:\", len(train_index), \"TEST:\", len(test_index))\n",
    "    X_train, X_test = Xtr.loc[train_index], Xtr.loc[test_index]\n",
    "    y_train, y_test = y[train_index], y[test_index]\n",
    "    rf.fit(X_train, y_train)\n",
    "    yp_train = np.zeros(len(y_train))\n",
    "    yp_test = np.zeros(len(y_test))\n",
    "    for i in range(n):\n",
    "        yp_train = yp_train + rf.estimators_[i].predict(X_train)\n",
    "        yp_test = yp_test + rf.estimators_[i].predict(X_test)\n",
    "        res_train[i,k] = roc_auc_score(y_train, yp_train)\n",
    "        res_test[i,k] = roc_auc_score(y_test, yp_test)\n",
    "    k = k + 1\n",
    "    \n",
    "n_est = np.arange(1,n+1)\n",
    "def plot_with_err(x, data, **kwargs):\n",
    "    mu = data.mean(axis = 1)\n",
    "    std = data.std(axis = 1)\n",
    "    lines = plt.plot(x, mu, '-', **kwargs)\n",
    "    plt.fill_between(x, mu - std, mu + std, edgecolor='none',\n",
    "    facecolor=lines[0].get_color(), alpha=0.2)\n",
    "\n",
    "plot_with_err(n_est, res_train, label='train scores')\n",
    "plot_with_err(n_est, res_test,  label='test scores')\n",
    "plt.xlabel('alpha')\n",
    "plt.ylabel('ROC AUC')\n",
    "plt.legend(loc='best')\n",
    "\n",
    "print(\"Best params:\", n_est[res_test.mean(axis = 1).argmax()])\n",
    "print(\"Best cross validaton score\", res_test.mean(axis = 1).max())"
   ]
  },
  {
   "cell_type": "markdown",
   "metadata": {},
   "source": [
    "Изменилось ли качество у некоторых алгоритмов?"
   ]
  },
  {
   "cell_type": "markdown",
   "metadata": {},
   "source": [
    "KNN:\n",
    "    было:\n",
    "    Best params: {'n_neighbors': 4}\n",
    "    Best cross validaton score 0.640716052871\n",
    "    стало:\n",
    "    Best params: {'n_neighbors': 9}\n",
    "    Best cross validaton score 0.804009741995\n",
    "    \n",
    "Decision:\n",
    "    last:\n",
    "    Best params: {'max_depth': 7}\n",
    "    Best cross validaton score 0.841456219488\n",
    "    now:\n",
    "    Best params: {'max_depth': 7}\n",
    "    Best cross validaton score 0.841502501819\n",
    "SGD:\n",
    "    last:\n",
    "    Best params: {'loss': 'modified_huber'}\n",
    "    Best cross validaton score 0.607100270291\n",
    "    now:\n",
    "    Best params: {'loss': 'log'}\n",
    "    Best cross validaton score 0.807427790765\n",
    "     \n",
    "RF:\n",
    "    last:\n",
    "    Best params: 200\n",
    "    Best cross validaton score 0.818905407547\n",
    "    now:\n",
    "    Best params: 200\n",
    "    Best cross validaton score 0.818940781704"
   ]
  },
  {
   "cell_type": "markdown",
   "metadata": {},
   "source": [
    "Видим, что деревьям безразницы на нормализацию признаков, потому что это операция не меняет их порядка, следовательно не влияет на алгоритм, так как дерево сечет пространство гиперплоскостями.\n",
    "А вот для kNN и SGD нормализация была очень полезна прирост примерно на треть!"
   ]
  },
  {
   "cell_type": "markdown",
   "metadata": {},
   "source": [
    "**(1,5 балла)** Теперь сделайте перебор нескольких гиперпараметров по сетке и найдите оптимальные комбинации (лучшее среднее значение качества) для каждого алгоритма в данном случае: \n",
    " - KNN — число соседей (*n_neighbors*) и метрика (*metric*)\n",
    " - DecisonTree — глубина дерева (*max_depth*) и критерий разбиения (*criterion*)\n",
    " - RandomForest — критерий разбиения в деревьях (*criterion*) и *max_features* (при фиксированном количестве деревьев, найденном ранее)\n",
    " - SGDClassifier — оптимизируемая функция (*loss*) и *penalty*\n",
    " \n",
    "Обратите внимание, что эта операция может быть ресурсо- и трудоемкой. Как оптимизировать подбор параметров по сетке, сказано в разделе \"Подбор гиперпараметров модели\""
   ]
  },
  {
   "cell_type": "markdown",
   "metadata": {},
   "source": [
    "Выполним подбор параметров при нормализированных признаках"
   ]
  },
  {
   "cell_type": "code",
   "execution_count": 26,
   "metadata": {
    "collapsed": false
   },
   "outputs": [
    {
     "name": "stdout",
     "output_type": "stream",
     "text": [
      "KNN:\n",
      "Best params: {'n_neighbors': 9, 'metric': 'manhattan'}\n",
      "Best cross validaton score 0.808328347251\n",
      "decisionTree\n",
      "Best params: {'max_depth': 8, 'criterion': 'entropy'}\n",
      "Best cross validaton score 0.842409742088\n",
      "SGD\n",
      "Best params: {'penalty': 'none', 'loss': 'log'}\n",
      "Best cross validaton score 0.810039876501\n",
      "RF\n",
      "Best params: {'max_features': 0.90000000000000002, 'criterion': 'entropy'}\n",
      "Best cross validaton score 0.820578617635\n"
     ]
    }
   ],
   "source": [
    "parameters = {'n_neighbors':np.arange(1,10,1),'metric':['euclidean','manhattan','chebyshev','minkowski']}\n",
    "neigh = KNeighborsClassifier()\n",
    "clf = GridSearchCV(neigh, parameters, cv = 5,scoring='roc_auc')\n",
    "clf.fit(Xtr, y)\n",
    "print(\"KNN:\")\n",
    "print(\"Best params:\", clf.best_params_)\n",
    "print(\"Best cross validaton score\", clf.best_score_)\n",
    "\n",
    "parameters = {'max_depth':np.arange(1,10,1),'criterion':['gini','entropy']}\n",
    "decis = DecisionTreeClassifier(random_state=7)\n",
    "clf = GridSearchCV(decis, parameters, cv = 5,scoring='roc_auc')\n",
    "clf.fit(Xtr, y)\n",
    "print(\"decisionTree\")\n",
    "print(\"Best params:\", clf.best_params_)\n",
    "print(\"Best cross validaton score\", clf.best_score_)\n",
    "\n",
    "parameters = {'loss':['hinge', 'log', 'modified_huber', 'squared_hinge', 'perceptron'],'penalty':['none', 'l2', 'l1', 'elasticnet']}\n",
    "sgd = linear_model.SGDClassifier()\n",
    "clf = GridSearchCV(sgd, parameters, cv = 5,scoring='roc_auc')\n",
    "clf.fit(Xtr, y)\n",
    "print(\"SGD\")\n",
    "print(\"Best params:\", clf.best_params_)\n",
    "print(\"Best cross validaton score\", clf.best_score_)\n",
    "\n",
    "parameters = {'max_features':np.arange(0.1,1,0.1),'criterion':['gini','entropy']}\n",
    "rf = RandomForestClassifier(n_estimators = 100,n_jobs=4,random_state=7)\n",
    "clf = GridSearchCV(rf, parameters, cv = 5,scoring='roc_auc')\n",
    "clf.fit(Xtr, y)\n",
    "print(\"RF\")\n",
    "print(\"Best params:\", clf.best_params_)\n",
    "print(\"Best cross validaton score\", clf.best_score_)"
   ]
  },
  {
   "cell_type": "markdown",
   "metadata": {},
   "source": [
    "Лучше всего показал себя Random Forest"
   ]
  },
  {
   "cell_type": "markdown",
   "metadata": {},
   "source": [
    "Какой из алгоритмов имеет наилучшее качество? \n",
    "\n",
    "**(0.5 балла)** Сравните алгоритмы с точки зрения времени обучения. Обучение какого из алгоритмов работает дольше всего и, как вы думаете, почему?"
   ]
  },
  {
   "cell_type": "code",
   "execution_count": 68,
   "metadata": {
    "collapsed": true
   },
   "outputs": [],
   "source": [
    "import time"
   ]
  },
  {
   "cell_type": "code",
   "execution_count": 69,
   "metadata": {
    "collapsed": false
   },
   "outputs": [
    {
     "name": "stdout",
     "output_type": "stream",
     "text": [
      "KNN: 0.3397510051727295\n",
      "decisionTree 0.059105634689331055\n",
      "SGD 0.04121565818786621\n",
      "RF 0.9951643943786621\n"
     ]
    }
   ],
   "source": [
    "t = time.time()\n",
    "clf = KNeighborsClassifier(n_neighbors = 9)\n",
    "clf.fit(Xtr, y)\n",
    "print(\"KNN:\",time.time() - t)\n",
    "\n",
    "\n",
    "t = time.time()\n",
    "clf = DecisionTreeClassifier(max_depth = 7,random_state=7)\n",
    "clf.fit(Xtr, y)\n",
    "print(\"decisionTree\",time.time() - t)\n",
    "\n",
    "t = time.time()\n",
    "clf = linear_model.SGDClassifier(loss = 'log')\n",
    "clf.fit(Xtr, y)\n",
    "print(\"SGD\",time.time() - t)\n",
    "\n",
    "\n",
    "t = time.time()\n",
    "clf = RandomForestClassifier(n_estimators = 100, n_jobs=4, random_state=7)\n",
    "clf.fit(Xtr, y)\n",
    "print(\"RF\",time.time() - t)"
   ]
  },
  {
   "cell_type": "markdown",
   "metadata": {},
   "source": [
    "Дольше всего отработал RF так как он строит много деревьев большой глубины, значит время постройки одного дерева надо умножать на количество деревьев"
   ]
  },
  {
   "cell_type": "markdown",
   "metadata": {},
   "source": [
    "## Добавление категориальных признаков в модели\n",
    "\n",
    "Пока мы не использовали нечисловые признаки, которые есть в датасете. Давайте посмотрим, правильно ли мы сделали и увеличится ли качество моделей после добавления этих признаков. \n",
    "\n",
    "**(0.5 балла)** Преобразуйте все категориальные признаки с помощью метода one-hot-encoding (например, это можно сделать с помощью функции [pandas.get_dummies](http://pandas.pydata.org/pandas-docs/stable/generated/pandas.get_dummies.html) или [DictVectorizer](http://scikit-learn.org/stable/modules/generated/sklearn.feature_extraction.DictVectorizer.html) из sklearn)."
   ]
  },
  {
   "cell_type": "code",
   "execution_count": 27,
   "metadata": {
    "collapsed": false
   },
   "outputs": [
    {
     "data": {
      "text/plain": [
       "['workclass',\n",
       " 'education',\n",
       " 'marital-status',\n",
       " 'occupation',\n",
       " 'relationship',\n",
       " 'race',\n",
       " 'sex']"
      ]
     },
     "execution_count": 27,
     "metadata": {},
     "output_type": "execute_result"
    }
   ],
   "source": [
    "# выделим категориальные \n",
    "categorical_columns = [c for c in data.columns if data[c].dtype.name == 'object']\n",
    "categorical_columns"
   ]
  },
  {
   "cell_type": "code",
   "execution_count": 28,
   "metadata": {
    "collapsed": false
   },
   "outputs": [
    {
     "name": "stdout",
     "output_type": "stream",
     "text": [
      "(15347, 13)\n",
      "(15347, 29)\n",
      "(15347, 36)\n",
      "(15347, 50)\n",
      "(15347, 56)\n",
      "(15347, 61)\n",
      "(15347, 63)\n"
     ]
    }
   ],
   "source": [
    "for c in categorical_columns:\n",
    "    Xtr = pd.concat([Xtr, pd.get_dummies(data[c], prefix=c)],axis = 1)\n",
    "    print(Xtr.shape)"
   ]
  },
  {
   "cell_type": "markdown",
   "metadata": {},
   "source": [
    "Так как после кодирования признаков получилось достаточно много, в этой работе мы не будем добавлять их и подбирать заново оптимальные гиперпараметры. \n",
    "\n",
    "**(0.5 балла)** Добавьте к нормированным вещественным признакам закодированные категориальные и обучите алгоритмы с наилучшими гиперпараметрами из предыдущего пункта. Дало ли добавление новых признаков прирост качества? Измеряйте качество как и раньше используя 5-Fold CV. Для этого удобно воспользоваться функцией [cross_val_score](http://scikit-learn.org/stable/modules/generated/sklearn.cross_validation.cross_val_score.html#sklearn.cross_validation.cross_val_score)."
   ]
  },
  {
   "cell_type": "code",
   "execution_count": 29,
   "metadata": {
    "collapsed": true
   },
   "outputs": [],
   "source": [
    "from sklearn import datasets, linear_model\n",
    "from sklearn.cross_validation import cross_val_score"
   ]
  },
  {
   "cell_type": "code",
   "execution_count": 30,
   "metadata": {
    "collapsed": false
   },
   "outputs": [
    {
     "name": "stdout",
     "output_type": "stream",
     "text": [
      "KNN: 0.828240118958\n",
      "decisionTree 0.843422477374\n",
      "SGD 0.830846343014\n",
      "RF 0.847657578199\n"
     ]
    }
   ],
   "source": [
    "clf = KNeighborsClassifier(n_neighbors = 9,metric =  'manhattan')\n",
    "print(\"KNN:\",cross_val_score(clf, Xtr, y,cv = 5).mean())\n",
    "\n",
    "\n",
    "clf = DecisionTreeClassifier(max_depth = 8,criterion = 'entropy',random_state=7)\n",
    "print(\"decisionTree\",cross_val_score(clf, Xtr, y,cv = 5).mean())\n",
    "\n",
    "\n",
    "clf = linear_model.SGDClassifier(loss = 'log',penalty = 'elasticnet')\n",
    "print(\"SGD\",cross_val_score(clf, Xtr, y,cv = 5).mean())\n",
    "\n",
    "\n",
    "clf = RandomForestClassifier(n_estimators = 100,max_features =  0.9, criterion = 'entropy', n_jobs=4, random_state=7)\n",
    "print(\"RF\",cross_val_score(clf, Xtr, y,cv = 5).mean())"
   ]
  },
  {
   "cell_type": "code",
   "execution_count": null,
   "metadata": {
    "collapsed": true
   },
   "outputs": [],
   "source": [
    "#Было\n",
    "KNN:\n",
    "Best cross validaton score 0.808328347251\n",
    "decisionTree\n",
    "Best cross validaton score 0.842409742088\n",
    "SGD\n",
    "Best cross validaton score 0.813747455053\n",
    "RF\n",
    "Best cross validaton score 0.856006205381"
   ]
  },
  {
   "cell_type": "markdown",
   "metadata": {},
   "source": [
    "Отличается ли теперь наилучший классификатор от наилучшего в предыдущем пункте?"
   ]
  },
  {
   "cell_type": "markdown",
   "metadata": {
    "collapsed": true
   },
   "source": [
    "Качество DecisionTree и RF ухудшилось, наверно ему стало труднее работать с таким большим количеством признаков, нужно заного подбирать параметры, возможно нужно большее количество деревьев\n",
    "У остальных произошел прирост, значит признаки несут в себе новую информацию"
   ]
  },
  {
   "cell_type": "markdown",
   "metadata": {},
   "source": [
    "## Смешивание моделей\n",
    "\n",
    "Во всех предыдущих пунктах мы получили много сильных моделей, которые могут быть достаточно разными по своей природе (например, метод ближайших соседей и случайный лес). Часто на практике оказывается возможным увеличить качество предсказани путем смешивания подобных разных моделей. Давайте посмотрим, действительно ли это дает прирост в качестве.\n",
    "\n",
    "Выберете из построенных моделей двух предыдущих пунктов две, которые дали наибольшее начество на кросс-валидации (обозначим их $clf_1$ и $clf_2$). Далее постройте новый классификатор, ответ которого на некотором объекте $x$ будет выглядеть следующим образом:\n",
    "\n",
    "$$result(x) = clf_1(x) * \\alpha + clf_2(x) * (1 - \\alpha)$$\n",
    "\n",
    "где $\\alpha$ — гиперпараметр нового классификатора.\n",
    "\n",
    "**(1 балл)** Подберите по сетке от 0 до 1 $\\alpha$ для этого классификатора с помощью 5-Fold CV и постройте график качества в зависимости от $\\alpha$ (аналогичный графику в разделе \"Обучение классификаторов и оценка качества\"). Дал ли этот подход прирост к качеству по сравнению с моделями ранее?"
   ]
  },
  {
   "cell_type": "markdown",
   "metadata": {},
   "source": [
    "Decision Tree и RandomForest дали лучшие результаты, но они достаточно сильно похожи, поэтому для лучшей стабильности и разносторонности модели мы возьмем лучше RF и kNN чтобы улучшить качество. SGD лишь немного лучше kNN"
   ]
  },
  {
   "cell_type": "code",
   "execution_count": 71,
   "metadata": {
    "collapsed": false
   },
   "outputs": [
    {
     "name": "stdout",
     "output_type": "stream",
     "text": [
      "TRAIN: 12277 TEST: 3070\n",
      "0 -0.853764533996582\n",
      "1 -32.23166799545288\n",
      "2 -62.754854679107666\n",
      "3 -91.762460231781\n",
      "4 -119.44827580451965\n",
      "-151.0008888244629\n",
      "TRAIN: 12277 TEST: 3070\n",
      "0 -0.8178598880767822\n",
      "1 -27.983814477920532\n",
      "2 -54.807050943374634\n",
      "3 -81.83705425262451\n",
      "4 -108.94788885116577\n",
      "-135.71936869621277\n",
      "TRAIN: 12278 TEST: 3069\n",
      "0 -0.8101096153259277\n",
      "1 -34.29374361038208\n",
      "2 -64.96173739433289\n",
      "3 -95.67191648483276\n",
      "4 -125.5480101108551\n",
      "-161.97269225120544\n",
      "TRAIN: 12278 TEST: 3069\n",
      "0 -1.293964147567749\n",
      "1 -32.21451926231384\n",
      "2 -62.84834384918213\n",
      "3 -95.25071668624878\n",
      "4 -126.59171533584595\n",
      "-163.78057384490967\n",
      "TRAIN: 12278 TEST: 3069\n",
      "0 -1.196173906326294\n",
      "1 -34.062384605407715\n",
      "2 -67.19604301452637\n",
      "3 -100.37662434577942\n",
      "4 -132.57242059707642\n",
      "-163.77845287322998\n"
     ]
    }
   ],
   "source": [
    "from sklearn.cross_validation import KFold\n",
    "kf = KFold(data.shape[0],5)\n",
    "clf1 = KNeighborsClassifier(n_neighbors = 9,metric =  'manhattan')\n",
    "clf2 = RandomForestClassifier(n_estimators = 100,max_features =  0.9, criterion = 'entropy', n_jobs=4, random_state=7)\n",
    "setka = np.arange(0,1,0.2)\n",
    "res_test = np.zeros(5*len(setka)).reshape((len(setka),5))\n",
    "res_train = np.zeros(5*len(setka)).reshape((len(setka),5))\n",
    "k = 0\n",
    "for train_index, test_index in kf:\n",
    "    t = time.time()\n",
    "    print(\"TRAIN:\", len(train_index), \"TEST:\", len(test_index))\n",
    "    X_train, X_test = data.loc[train_index][numerical_columns], data.loc[test_index][numerical_columns]\n",
    "    X_train2, X_test2 = Xtr.loc[train_index], Xtr.loc[test_index]\n",
    "    y_train, y_test = y[train_index], y[test_index]\n",
    "    clf1.fit(X_train2, y_train)\n",
    "    clf2.fit(X_train, y_train)\n",
    "    \n",
    "    for i in range(len(setka)):\n",
    "        print(i,t - time.time())\n",
    "        yp_train = setka[i]*clf1.predict_proba(X_train2) + (1-setka[i])*clf2.predict_proba(X_train)\n",
    "        yp_test = setka[i]*clf1.predict_proba(X_test2) + (1-setka[i])*clf2.predict_proba(X_test)\n",
    "        res_train[i,k] = roc_auc_score(y_train, yp_train[:,1])\n",
    "        res_test[i,k] = roc_auc_score(y_test, yp_test[:,1])\n",
    "    k = k + 1\n",
    "    print(t-time.time())"
   ]
  },
  {
   "cell_type": "code",
   "execution_count": 72,
   "metadata": {
    "collapsed": false
   },
   "outputs": [
    {
     "name": "stdout",
     "output_type": "stream",
     "text": [
      "Best params: 0.6\n",
      "Best cross validaton score 0.897674530806\n"
     ]
    },
    {
     "data": {
      "image/png": "[encoded data removed]",
      "text/plain": [
       "<matplotlib.figure.Figure at 0x7f1ee0a2d978>"
      ]
     },
     "metadata": {},
     "output_type": "display_data"
    }
   ],
   "source": [
    "def plot_with_err(x, data, **kwargs):\n",
    "    mu = data.mean(axis = 1)\n",
    "    std = data.std(axis = 1)\n",
    "    lines = plt.plot(x, mu, '-', **kwargs)\n",
    "    plt.fill_between(x, mu - std, mu + std, edgecolor='none',\n",
    "    facecolor=lines[0].get_color(), alpha=0.2)\n",
    "\n",
    "plot_with_err(setka, res_train, label='train scores')\n",
    "plot_with_err(setka, res_test,  label='test scores')\n",
    "plt.xlabel('alpha')\n",
    "plt.ylabel('ROC AUC')\n",
    "plt.legend(loc='best')\n",
    "\n",
    "print(\"Best params:\", setka[res_test.mean(axis = 1).argmax()])\n",
    "print(\"Best cross validaton score\", res_test.mean(axis = 1).max())"
   ]
  },
  {
   "cell_type": "markdown",
   "metadata": {},
   "source": [
    "Видим, что комбинация различных моделей дает приличный прирост, я прошелся по сетке с шагом 0.2, скорее всего при более мелкой сетки, можно получить еще более хорошее качество. "
   ]
  },
  {
   "cell_type": "markdown",
   "metadata": {},
   "source": [
    "## Сравнение построенных моделей\n",
    "\n",
    "\n",
    "**(1 балл)** Сделайте общие итоговые выводы о классификаторах с точки зрения их работы с признаками и сложности самой модели (какие гиперпараметры есть у модели, сильно ли изменение значения гиперпараметра влияет на качество модели)."
   ]
  },
  {
   "cell_type": "markdown",
   "metadata": {
    "collapsed": true
   },
   "source": [
    "KNN — число соседей (n_neighbors) и метрика (metric)\n",
    "DecisonTree — глубина дерева (max_depth) и критерий разбиения (criterion)\n",
    "RandomForest — критерий разбиения в деревьях (criterion) и max_features (при фиксированном количестве деревьев, найденном ранее)\n",
    "SGDClassifier — оптимизируемая функция (loss) и penalty"
   ]
  },
  {
   "cell_type": "markdown",
   "metadata": {},
   "source": [
    "kNN:\n",
    "работает лучше с нормализованными признаками,3 по скорости среди этих 4 алгоритмов, у модели есть несколько параметров таких как: число соседей и метрика,изменение параметров дают ощутимый прирост качества\n",
    "\n",
    "DecisonTree:\n",
    "Безразницы на нормализацию признаков,2 по скорости среди этих 4 алгоритмов, у модели есть несколько параметров таких как: глубина дерева и критерий разбиения,изменение параметров дают ощутимый прирост качества\n",
    "\n",
    "RandomForest:\n",
    "Безразницы на нормализацию признаков,самый медленный по скорости среди этих 4 алгоритмов, у модели есть несколько параметров таких как: число деревьев, максимальное количество фичей и критерий разбиения,изменение параметров дают ощутимый прирост качества, но например прирост числа деревьев в какой-то момент почти перестает давать прирост\n",
    "\n",
    "SGDClassifier:\n",
    "работает лучше с нормализованными признаками,самый быстрый по скорости среди этих 4 алгоритмов, у модели есть несколько параметров таких как: оптимизируемая функция (loss) и penalty,изменение параметров дают приятный прирост качества"
   ]
  }
 ],
 "metadata": {
  "anaconda-cloud": {},
  "kernelspec": {
   "display_name": "Python 3",
   "language": "python",
   "name": "python3"
  },
  "language_info": {
   "codemirror_mode": {
    "name": "ipython",
    "version": 3
   },
   "file_extension": ".py",
   "mimetype": "text/x-python",
   "name": "python",
   "nbconvert_exporter": "python",
   "pygments_lexer": "ipython3",
   "version": "3.6.0"
  }
 },
 "nbformat": 4,
 "nbformat_minor": 0
}
