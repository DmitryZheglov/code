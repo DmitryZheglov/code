{
 "cells": [
  {
   "cell_type": "markdown",
   "metadata": {},
   "source": [
    "# Approximate q-learning\n",
    "\n",
    "In this notebook you will teach a __pytorch__ neural network to do Q-learning."
   ]
  },
  {
   "cell_type": "code",
   "execution_count": 1,
   "metadata": {},
   "outputs": [],
   "source": [
    "#XVFB will be launched if you run on a server\n",
    "import os\n",
    "if type(os.environ.get(\"DISPLAY\")) is not str or len(os.environ.get(\"DISPLAY\"))==0:\n",
    "    !bash ../xvfb start\n",
    "    %env DISPLAY=:1"
   ]
  },
  {
   "cell_type": "code",
   "execution_count": 2,
   "metadata": {},
   "outputs": [],
   "source": [
    "import gym\n",
    "import numpy as np\n",
    "import pandas as pd\n",
    "import matplotlib.pyplot as plt\n",
    "%matplotlib inline"
   ]
  },
  {
   "cell_type": "code",
   "execution_count": 3,
   "metadata": {
    "scrolled": false
   },
   "outputs": [
    {
     "name": "stdout",
     "output_type": "stream",
     "text": [
      "\u001b[33mWARN: gym.spaces.Box autodetected dtype as <class 'numpy.float32'>. Please provide explicit dtype.\u001b[0m\n"
     ]
    },
    {
     "data": {
      "text/plain": [
       "<matplotlib.image.AxesImage at 0x7fa7ade118d0>"
      ]
     },
     "execution_count": 3,
     "metadata": {},
     "output_type": "execute_result"
    },
    {
     "data": {
      "image/png": "[encoded data removed]",
      "text/plain": [
       "<matplotlib.figure.Figure at 0x7fa7bfbcddd8>"
      ]
     },
     "metadata": {},
     "output_type": "display_data"
    }
   ],
   "source": [
    "env = gym.make(\"CartPole-v0\").env\n",
    "env.reset()\n",
    "n_actions = env.action_space.n\n",
    "state_dim = env.observation_space.shape\n",
    "\n",
    "plt.imshow(env.render(\"rgb_array\"))"
   ]
  },
  {
   "cell_type": "markdown",
   "metadata": {},
   "source": [
    "# Approximate Q-learning: building the network\n",
    "\n",
    "To train a neural network policy one must have a neural network policy. Let's build it.\n",
    "\n",
    "\n",
    "Since we're working with a pre-extracted features (cart positions, angles and velocities), we don't need a complicated network yet. In fact, let's build something like this for starters:\n",
    "\n",
    "![img](https://s14.postimg.org/uzay2q5rl/qlearning_scheme.png)\n",
    "\n",
    "For your first run, please only use linear layers (nn.Linear) and activations. Stuff like batch normalization or dropout may ruin everything if used haphazardly. \n",
    "\n",
    "Also please avoid using nonlinearities like sigmoid & tanh: agent's observations are not normalized so sigmoids may become saturated from init.\n",
    "\n",
    "Ideally you should start small with maybe 1-2 hidden layers with < 200 neurons and then increase network size if agent doesn't beat the target score."
   ]
  },
  {
   "cell_type": "code",
   "execution_count": 4,
   "metadata": {},
   "outputs": [],
   "source": [
    "import torch, torch.nn as nn\n",
    "import torch.nn.functional as F\n",
    "from torch.autograd import Variable"
   ]
  },
  {
   "cell_type": "code",
   "execution_count": 5,
   "metadata": {},
   "outputs": [
    {
     "data": {
      "text/plain": [
       "4"
      ]
     },
     "execution_count": 5,
     "metadata": {},
     "output_type": "execute_result"
    }
   ],
   "source": [
    "state_dim[0]"
   ]
  },
  {
   "cell_type": "code",
   "execution_count": 53,
   "metadata": {},
   "outputs": [],
   "source": [
    "network = nn.Sequential()\n",
    "\n",
    "network.add_module('layer1', nn.Linear(state_dim[0], 128))\n",
    "network.add_module('l1_relu', nn.ReLU())\n",
    "network.add_module('layer2', nn.Linear(128, n_actions))\n",
    "#network.add_module('output', nn.Sigmoid())\n",
    "\n",
    "#<YOUR CODE: stack layers!!!1 >\n",
    "opt = torch.optim.Adam(network.parameters(), lr=1e-3)\n",
    "# hint: use state_dim[0] as input size    "
   ]
  },
  {
   "cell_type": "code",
   "execution_count": 54,
   "metadata": {},
   "outputs": [
    {
     "data": {
      "text/plain": [
       "3"
      ]
     },
     "execution_count": 54,
     "metadata": {},
     "output_type": "execute_result"
    }
   ],
   "source": [
    "q = np.array([1,2,3,4])\n",
    "np.argmax(q)"
   ]
  },
  {
   "cell_type": "code",
   "execution_count": 55,
   "metadata": {},
   "outputs": [],
   "source": [
    "def get_action(state, epsilon=0):\n",
    "    \"\"\"\n",
    "    sample actions with epsilon-greedy policy\n",
    "    recap: with p = epsilon pick random action, else pick action with highest Q(s,a)\n",
    "    \"\"\"\n",
    "    state = Variable(torch.FloatTensor(state[None]))\n",
    "    q_values = network(state).data.numpy()\n",
    "    \n",
    "    ###YOUR CODE\n",
    "    #like = np.random.choice([True, False], p = [1 - epsilon, epsilon])\n",
    "    #print('1',q_values, int(np.argmax(q_values)))\n",
    "    #if like is True:\n",
    "    if np.random.uniform(0,1) > epsilon:\n",
    "        ans = int(np.argmax(q_values[0]))\n",
    "        #print(ans)\n",
    "    else:\n",
    "        ans = np.random.choice(n_actions)\n",
    "    return ans\n"
   ]
  },
  {
   "cell_type": "code",
   "execution_count": 56,
   "metadata": {},
   "outputs": [
    {
     "name": "stdout",
     "output_type": "stream",
     "text": [
      "e=0.0 tests passed\n",
      "e=0.1 tests passed\n",
      "e=0.5 tests passed\n",
      "e=1.0 tests passed\n"
     ]
    }
   ],
   "source": [
    "s = env.reset()\n",
    "assert tuple(network(Variable(torch.FloatTensor([s]*3))).size()) == (3, n_actions), \"please make sure your model maps state s -> [Q(s,a0), ..., Q(s, a_last)]\"\n",
    "assert isinstance(list(network.modules())[-1], nn.Linear), \"please make sure you predict q-values without nonlinearity (ignore if you know what you're doing)\"\n",
    "assert isinstance(get_action(s), int), \"get_action(s) must return int, not %s. try int(action)\" % (type(get_action(s)))\n",
    "\n",
    "# test epsilon-greedy exploration\n",
    "for eps in [0., 0.1, 0.5, 1.0]:\n",
    "    state_frequencies = np.bincount([get_action(s, epsilon=eps) for i in range(10000)], minlength=n_actions)\n",
    "    best_action = state_frequencies.argmax()\n",
    "    assert abs(state_frequencies[best_action] - 10000 * (1 - eps + eps / n_actions)) < 200\n",
    "    for other_action in range(n_actions):\n",
    "        if other_action != best_action:\n",
    "            assert abs(state_frequencies[other_action] - 10000 * (eps / n_actions)) < 200\n",
    "    print('e=%.1f tests passed'%eps)"
   ]
  },
  {
   "cell_type": "markdown",
   "metadata": {},
   "source": [
    "### Q-learning via gradient descent\n",
    "\n",
    "We shall now train our agent's Q-function by minimizing the TD loss:\n",
    "$$ L = { 1 \\over N} \\sum_i (Q_{\\theta}(s,a) - [r(s,a) + \\gamma \\cdot max_{a'} Q_{-}(s', a')]) ^2 $$\n",
    "\n",
    "\n",
    "Where\n",
    "* $s, a, r, s'$ are current state, action, reward and next state respectively\n",
    "* $\\gamma$ is a discount factor defined two cells above.\n",
    "\n",
    "The tricky part is with  $Q_{-}(s',a')$. From an engineering standpoint, it's the same as $Q_{\\theta}$ - the output of your neural network policy. However, when doing gradient descent, __we won't propagate gradients through it__ to make training more stable (see lectures).\n",
    "\n",
    "To do so, we shall use `x.detach()` function which basically says \"consider this thing constant when doingbackprop\"."
   ]
  },
  {
   "cell_type": "code",
   "execution_count": 57,
   "metadata": {},
   "outputs": [],
   "source": [
    "def to_one_hot(y, n_dims=None):\n",
    "    \"\"\" helper: take an integer vector (tensor of variable) and convert it to 1-hot matrix. \"\"\"\n",
    "    y_tensor = y.data if isinstance(y, Variable) else y\n",
    "    y_tensor = y_tensor.type(torch.LongTensor).view(-1, 1)\n",
    "    n_dims = n_dims if n_dims is not None else int(torch.max(y_tensor)) + 1\n",
    "    y_one_hot = torch.zeros(y_tensor.size()[0], n_dims).scatter_(1, y_tensor, 1)\n",
    "    return Variable(y_one_hot) if isinstance(y, Variable) else y_one_hot\n",
    "\n",
    "def where(cond, x_1, x_2):\n",
    "    \"\"\" helper: like np.where but in pytorch. \"\"\"\n",
    "    return (cond * x_1) + ((1-cond) * x_2)"
   ]
  },
  {
   "cell_type": "code",
   "execution_count": 58,
   "metadata": {},
   "outputs": [],
   "source": [
    "def compute_td_loss(states, actions, rewards, next_states, is_done, gamma = 0.99, check_shapes = False):\n",
    "    \"\"\" Compute td loss using torch operations only. Use the formula above. \"\"\"\n",
    "    states = Variable(torch.FloatTensor(states))    # shape: [batch_size, state_size]\n",
    "    actions = Variable(torch.IntTensor(actions))    # shape: [batch_size]\n",
    "    rewards = Variable(torch.FloatTensor(rewards))  # shape: [batch_size]\n",
    "    next_states = Variable(torch.FloatTensor(next_states)) # shape: [batch_size, state_size]\n",
    "    is_done = Variable(torch.FloatTensor(is_done))  # shape: [batch_size]\n",
    "    \n",
    "    #get q-values for all actions in current states\n",
    "    predicted_qvalues = network(states)\n",
    "\n",
    "    #select q-values for chosen actions\n",
    "    predicted_qvalues_for_actions = torch.sum(predicted_qvalues * to_one_hot(actions, n_actions), dim=1)\n",
    "    \n",
    "    # compute q-values for all actions in next states\n",
    "    predicted_next_qvalues = network(next_states)###YOUR CODE\n",
    "    #batch_size, n_actions\n",
    "    # compute V*(next_states) using predicted next q-values\n",
    "    next_state_values = torch.max(predicted_next_qvalues)#YOUR CODE\n",
    "    assert isinstance(next_state_values.data, torch.FloatTensor)\n",
    "\n",
    "    # compute \"target q-values\" for loss - it's what's inside square parentheses in the above formula.\n",
    "    target_qvalues_for_actions = rewards + gamma * next_state_values### YOUR CODE\n",
    "\n",
    "    # at the last state we shall use simplified formula: Q(s,a) = r(s,a) since s' doesn't exist\n",
    "    target_qvalues_for_actions = where(is_done, rewards, target_qvalues_for_actions)\n",
    "    \n",
    "    #mean squared error loss to minimize\n",
    "    #detach for not compute gradient else it will train longer\n",
    "    loss = torch.mean((predicted_qvalues_for_actions - target_qvalues_for_actions.detach()) ** 2 )\n",
    "    \n",
    "    if check_shapes:\n",
    "        assert predicted_next_qvalues.data.dim() == 2, \"make sure you predicted q-values for all actions in next state\"\n",
    "        assert next_state_values.data.dim() == 1, \"make sure you computed V(s') as maximum over just the actions axis and not all axes\"\n",
    "        assert target_qvalues_for_actions.data.dim() == 1, \"there's something wrong with target q-values, they must be a vector\"\n",
    "    \n",
    "    return loss\n",
    "\n",
    "    "
   ]
  },
  {
   "cell_type": "code",
   "execution_count": 59,
   "metadata": {},
   "outputs": [],
   "source": [
    "# sanity checks\n",
    "s = env.reset()\n",
    "a = env.action_space.sample()\n",
    "next_s, r, done, _ = env.step(a)\n",
    "loss = compute_td_loss([s],[a],[r],[next_s],[done], check_shapes=True)\n",
    "loss.backward()\n",
    "\n",
    "assert isinstance(loss, Variable) and tuple(loss.data.size()) == (1,), \"you must return scalar loss - mean over batch\"\n",
    "assert np.any(next(network.parameters()).grad.data.numpy() != 0), \"loss must be differentiable w.r.t. network weights\""
   ]
  },
  {
   "cell_type": "markdown",
   "metadata": {},
   "source": [
    "### Playing the game"
   ]
  },
  {
   "cell_type": "code",
   "execution_count": 60,
   "metadata": {},
   "outputs": [],
   "source": [
    "opt = torch.optim.Adam(network.parameters(), lr=1e-4)\n",
    "epsilon = 0.5"
   ]
  },
  {
   "cell_type": "code",
   "execution_count": 61,
   "metadata": {},
   "outputs": [],
   "source": [
    "def generate_session(t_max=1000, epsilon=0, train=False):\n",
    "    \"\"\"play env with approximate q-learning agent and train it at the same time\"\"\"\n",
    "    total_reward = 0\n",
    "    s = env.reset()\n",
    "    \n",
    "    for t in range(t_max):\n",
    "        a = get_action(s, epsilon=epsilon)       \n",
    "        next_s, r, done, _ = env.step(a)\n",
    "        \n",
    "        if train:\n",
    "            opt.zero_grad()\n",
    "            compute_td_loss([s], [a], [r], [next_s], [done]).backward()\n",
    "            opt.step()\n",
    "            \n",
    "        total_reward += r\n",
    "        s = next_s\n",
    "        if done: break\n",
    "            \n",
    "    return total_reward"
   ]
  },
  {
   "cell_type": "code",
   "execution_count": 62,
   "metadata": {
    "scrolled": true
   },
   "outputs": [
    {
     "name": "stdout",
     "output_type": "stream",
     "text": [
      "epoch #0\tmean reward = 13.960\tepsilon = 0.500\n",
      "epoch #1\tmean reward = 13.450\tepsilon = 0.495\n",
      "epoch #2\tmean reward = 13.560\tepsilon = 0.490\n",
      "epoch #3\tmean reward = 14.080\tepsilon = 0.485\n",
      "epoch #4\tmean reward = 13.620\tepsilon = 0.480\n",
      "epoch #5\tmean reward = 14.060\tepsilon = 0.475\n",
      "epoch #6\tmean reward = 14.710\tepsilon = 0.471\n",
      "epoch #7\tmean reward = 15.100\tepsilon = 0.466\n",
      "epoch #8\tmean reward = 19.820\tepsilon = 0.461\n",
      "epoch #9\tmean reward = 12.220\tepsilon = 0.457\n",
      "epoch #10\tmean reward = 12.970\tepsilon = 0.452\n",
      "epoch #11\tmean reward = 12.820\tepsilon = 0.448\n",
      "epoch #12\tmean reward = 14.070\tepsilon = 0.443\n",
      "epoch #13\tmean reward = 12.430\tepsilon = 0.439\n",
      "epoch #14\tmean reward = 12.490\tepsilon = 0.434\n",
      "epoch #15\tmean reward = 12.730\tepsilon = 0.430\n",
      "epoch #16\tmean reward = 14.500\tepsilon = 0.426\n",
      "epoch #17\tmean reward = 13.020\tepsilon = 0.421\n",
      "epoch #18\tmean reward = 13.020\tepsilon = 0.417\n",
      "epoch #19\tmean reward = 13.730\tepsilon = 0.413\n",
      "epoch #20\tmean reward = 12.620\tepsilon = 0.409\n",
      "epoch #21\tmean reward = 14.390\tepsilon = 0.405\n",
      "epoch #22\tmean reward = 12.510\tepsilon = 0.401\n",
      "epoch #23\tmean reward = 29.050\tepsilon = 0.397\n",
      "epoch #24\tmean reward = 15.690\tepsilon = 0.393\n",
      "epoch #25\tmean reward = 30.630\tepsilon = 0.389\n",
      "epoch #26\tmean reward = 23.780\tepsilon = 0.385\n",
      "epoch #27\tmean reward = 32.290\tepsilon = 0.381\n",
      "epoch #28\tmean reward = 27.350\tepsilon = 0.377\n",
      "epoch #29\tmean reward = 30.630\tepsilon = 0.374\n",
      "epoch #30\tmean reward = 32.950\tepsilon = 0.370\n",
      "epoch #31\tmean reward = 32.440\tepsilon = 0.366\n",
      "epoch #32\tmean reward = 30.990\tepsilon = 0.362\n",
      "epoch #33\tmean reward = 34.770\tepsilon = 0.359\n",
      "epoch #34\tmean reward = 34.910\tepsilon = 0.355\n",
      "epoch #35\tmean reward = 36.580\tepsilon = 0.352\n",
      "epoch #36\tmean reward = 38.890\tepsilon = 0.348\n",
      "epoch #37\tmean reward = 39.070\tepsilon = 0.345\n",
      "epoch #38\tmean reward = 41.550\tepsilon = 0.341\n",
      "epoch #39\tmean reward = 43.200\tepsilon = 0.338\n",
      "epoch #40\tmean reward = 45.520\tepsilon = 0.334\n",
      "epoch #41\tmean reward = 50.620\tepsilon = 0.331\n",
      "epoch #42\tmean reward = 49.340\tepsilon = 0.328\n",
      "epoch #43\tmean reward = 46.330\tepsilon = 0.325\n",
      "epoch #44\tmean reward = 52.840\tepsilon = 0.321\n",
      "epoch #45\tmean reward = 58.570\tepsilon = 0.318\n",
      "epoch #46\tmean reward = 62.590\tepsilon = 0.315\n",
      "epoch #47\tmean reward = 56.590\tepsilon = 0.312\n",
      "epoch #48\tmean reward = 60.510\tepsilon = 0.309\n",
      "epoch #49\tmean reward = 87.200\tepsilon = 0.306\n",
      "epoch #50\tmean reward = 104.620\tepsilon = 0.303\n",
      "epoch #51\tmean reward = 39.600\tepsilon = 0.299\n",
      "epoch #52\tmean reward = 100.770\tepsilon = 0.296\n",
      "epoch #53\tmean reward = 113.360\tepsilon = 0.294\n",
      "epoch #54\tmean reward = 135.660\tepsilon = 0.291\n",
      "epoch #55\tmean reward = 124.500\tepsilon = 0.288\n",
      "epoch #56\tmean reward = 32.030\tepsilon = 0.285\n",
      "epoch #57\tmean reward = 11.710\tepsilon = 0.282\n",
      "epoch #58\tmean reward = 23.970\tepsilon = 0.279\n",
      "epoch #59\tmean reward = 14.190\tepsilon = 0.276\n",
      "epoch #60\tmean reward = 163.840\tepsilon = 0.274\n",
      "epoch #61\tmean reward = 97.000\tepsilon = 0.271\n",
      "epoch #62\tmean reward = 126.590\tepsilon = 0.268\n",
      "epoch #63\tmean reward = 122.880\tepsilon = 0.265\n",
      "epoch #64\tmean reward = 167.280\tepsilon = 0.263\n",
      "epoch #65\tmean reward = 147.560\tepsilon = 0.260\n",
      "epoch #66\tmean reward = 158.270\tepsilon = 0.258\n",
      "epoch #67\tmean reward = 295.920\tepsilon = 0.255\n",
      "epoch #68\tmean reward = 134.510\tepsilon = 0.252\n",
      "epoch #69\tmean reward = 28.200\tepsilon = 0.250\n",
      "epoch #70\tmean reward = 10.640\tepsilon = 0.247\n",
      "epoch #71\tmean reward = 26.100\tepsilon = 0.245\n",
      "epoch #72\tmean reward = 11.150\tepsilon = 0.242\n",
      "epoch #73\tmean reward = 168.890\tepsilon = 0.240\n",
      "epoch #74\tmean reward = 107.510\tepsilon = 0.238\n",
      "epoch #75\tmean reward = 166.000\tepsilon = 0.235\n",
      "epoch #76\tmean reward = 115.280\tepsilon = 0.233\n",
      "epoch #77\tmean reward = 79.060\tepsilon = 0.231\n",
      "epoch #78\tmean reward = 98.750\tepsilon = 0.228\n",
      "epoch #79\tmean reward = 99.900\tepsilon = 0.226\n",
      "epoch #80\tmean reward = 38.160\tepsilon = 0.224\n",
      "epoch #81\tmean reward = 39.370\tepsilon = 0.222\n",
      "epoch #82\tmean reward = 56.170\tepsilon = 0.219\n",
      "epoch #83\tmean reward = 142.380\tepsilon = 0.217\n",
      "epoch #84\tmean reward = 79.670\tepsilon = 0.215\n",
      "epoch #85\tmean reward = 74.880\tepsilon = 0.213\n",
      "epoch #86\tmean reward = 99.100\tepsilon = 0.211\n",
      "epoch #87\tmean reward = 83.070\tepsilon = 0.209\n",
      "epoch #88\tmean reward = 54.010\tepsilon = 0.206\n",
      "epoch #89\tmean reward = 100.130\tepsilon = 0.204\n",
      "epoch #90\tmean reward = 93.380\tepsilon = 0.202\n",
      "epoch #91\tmean reward = 122.590\tepsilon = 0.200\n",
      "epoch #92\tmean reward = 62.190\tepsilon = 0.198\n",
      "epoch #93\tmean reward = 73.420\tepsilon = 0.196\n",
      "epoch #94\tmean reward = 85.360\tepsilon = 0.194\n",
      "epoch #95\tmean reward = 83.560\tepsilon = 0.192\n",
      "epoch #96\tmean reward = 64.240\tepsilon = 0.191\n",
      "epoch #97\tmean reward = 63.630\tepsilon = 0.189\n",
      "epoch #98\tmean reward = 63.160\tepsilon = 0.187\n",
      "epoch #99\tmean reward = 53.370\tepsilon = 0.185\n",
      "epoch #100\tmean reward = 107.870\tepsilon = 0.183\n",
      "epoch #101\tmean reward = 108.800\tepsilon = 0.181\n",
      "epoch #102\tmean reward = 129.350\tepsilon = 0.179\n",
      "epoch #103\tmean reward = 111.310\tepsilon = 0.178\n",
      "epoch #104\tmean reward = 168.090\tepsilon = 0.176\n",
      "epoch #105\tmean reward = 216.660\tepsilon = 0.174\n",
      "epoch #106\tmean reward = 153.500\tepsilon = 0.172\n",
      "epoch #107\tmean reward = 135.460\tepsilon = 0.171\n",
      "epoch #108\tmean reward = 101.110\tepsilon = 0.169\n",
      "epoch #109\tmean reward = 67.330\tepsilon = 0.167\n",
      "epoch #110\tmean reward = 39.660\tepsilon = 0.166\n",
      "epoch #111\tmean reward = 57.990\tepsilon = 0.164\n",
      "epoch #112\tmean reward = 82.630\tepsilon = 0.162\n",
      "epoch #113\tmean reward = 106.820\tepsilon = 0.161\n",
      "epoch #114\tmean reward = 119.700\tepsilon = 0.159\n",
      "epoch #115\tmean reward = 133.690\tepsilon = 0.157\n",
      "epoch #116\tmean reward = 130.440\tepsilon = 0.156\n",
      "epoch #117\tmean reward = 151.570\tepsilon = 0.154\n",
      "epoch #118\tmean reward = 155.430\tepsilon = 0.153\n",
      "epoch #119\tmean reward = 237.500\tepsilon = 0.151\n",
      "epoch #120\tmean reward = 113.240\tepsilon = 0.150\n",
      "epoch #121\tmean reward = 117.810\tepsilon = 0.148\n",
      "epoch #122\tmean reward = 122.550\tepsilon = 0.147\n",
      "epoch #123\tmean reward = 210.110\tepsilon = 0.145\n",
      "epoch #124\tmean reward = 179.520\tepsilon = 0.144\n",
      "epoch #125\tmean reward = 137.510\tepsilon = 0.142\n",
      "epoch #126\tmean reward = 92.740\tepsilon = 0.141\n",
      "epoch #127\tmean reward = 57.240\tepsilon = 0.140\n",
      "epoch #128\tmean reward = 84.130\tepsilon = 0.138\n",
      "epoch #129\tmean reward = 91.410\tepsilon = 0.137\n",
      "epoch #130\tmean reward = 125.160\tepsilon = 0.135\n",
      "epoch #131\tmean reward = 170.550\tepsilon = 0.134\n",
      "epoch #132\tmean reward = 238.830\tepsilon = 0.133\n",
      "epoch #133\tmean reward = 216.160\tepsilon = 0.131\n",
      "epoch #134\tmean reward = 109.320\tepsilon = 0.130\n",
      "epoch #135\tmean reward = 167.320\tepsilon = 0.129\n",
      "epoch #136\tmean reward = 128.690\tepsilon = 0.127\n",
      "epoch #137\tmean reward = 176.730\tepsilon = 0.126\n",
      "epoch #138\tmean reward = 199.670\tepsilon = 0.125\n",
      "epoch #139\tmean reward = 119.290\tepsilon = 0.124\n",
      "epoch #140\tmean reward = 88.910\tepsilon = 0.122\n",
      "epoch #141\tmean reward = 153.530\tepsilon = 0.121\n",
      "epoch #142\tmean reward = 249.190\tepsilon = 0.120\n",
      "epoch #143\tmean reward = 243.770\tepsilon = 0.119\n",
      "epoch #144\tmean reward = 143.610\tepsilon = 0.118\n",
      "epoch #145\tmean reward = 110.370\tepsilon = 0.116\n",
      "epoch #146\tmean reward = 112.140\tepsilon = 0.115\n",
      "epoch #147\tmean reward = 126.980\tepsilon = 0.114\n",
      "epoch #148\tmean reward = 141.910\tepsilon = 0.113\n",
      "epoch #149\tmean reward = 319.570\tepsilon = 0.112\n",
      "You Win!\n"
     ]
    }
   ],
   "source": [
    "for i in range(1000):\n",
    "    session_rewards = [generate_session(epsilon=epsilon, train=True) for _ in range(100)]\n",
    "    print(\"epoch #{}\\tmean reward = {:.3f}\\tepsilon = {:.3f}\".format(i, np.mean(session_rewards), epsilon))\n",
    "    \n",
    "    epsilon *= 0.99\n",
    "    assert epsilon >= 1e-4, \"Make sure epsilon is always nonzero during training\"\n",
    "    \n",
    "    if np.mean(session_rewards) > 300:\n",
    "        print (\"You Win!\")\n",
    "        break\n"
   ]
  },
  {
   "cell_type": "code",
   "execution_count": null,
   "metadata": {},
   "outputs": [],
   "source": [
    "#network bad becouse:\n",
    "#target is not constant and loss change\n",
    "#train on samples of her games\n",
    "#optimize mse"
   ]
  },
  {
   "cell_type": "markdown",
   "metadata": {},
   "source": [
    "### How to interpret results\n",
    "\n",
    "\n",
    "Welcome to the f.. world of deep f...n reinforcement learning. Don't expect agent's reward to smoothly go up. Hope for it to go increase eventually. If it deems you worthy.\n",
    "\n",
    "Seriously though,\n",
    "* __ mean reward__ is the average reward per game. For a correct implementation it may stay low for some 10 epochs, then start growing while oscilating insanely and converges by ~50-100 steps depending on the network architecture. \n",
    "* If it never reaches target score by the end of for loop, try increasing the number of hidden neurons or look at the epsilon.\n",
    "* __ epsilon__ - agent's willingness to explore. If you see that agent's already at < 0.01 epsilon before it's is at least 200, just reset it back to 0.1 - 0.5."
   ]
  },
  {
   "cell_type": "markdown",
   "metadata": {},
   "source": [
    "### Record videos\n",
    "\n",
    "As usual, we now use `gym.wrappers.Monitor` to record a video of our agent playing the game. Unlike our previous attempts with state binarization, this time we expect our agent to act ~~(or fail)~~ more smoothly since there's no more binarization error at play.\n",
    "\n",
    "As you already did with tabular q-learning, we set epsilon=0 for final evaluation to prevent agent from exploring himself to death."
   ]
  },
  {
   "cell_type": "code",
   "execution_count": 63,
   "metadata": {
    "scrolled": true
   },
   "outputs": [
    {
     "name": "stdout",
     "output_type": "stream",
     "text": [
      "\u001b[33mWARN: gym.spaces.Box autodetected dtype as <class 'numpy.float32'>. Please provide explicit dtype.\u001b[0m\n"
     ]
    }
   ],
   "source": [
    "#record sessions\n",
    "import gym.wrappers\n",
    "env = gym.wrappers.Monitor(gym.make(\"CartPole-v0\"),directory=\"videos\",force=True)\n",
    "sessions = [generate_session(epsilon=0, train=False) for _ in range(100)]\n",
    "env.close()\n"
   ]
  },
  {
   "cell_type": "code",
   "execution_count": 64,
   "metadata": {},
   "outputs": [
    {
     "data": {
      "text/html": [
       "\n",
       "<video width=\"640\" height=\"480\" controls>\n",
       "  <source src=\"./videos/openaigym.video.0.3366.video000000.mp4\" type=\"video/mp4\">\n",
       "</video>\n"
      ],
      "text/plain": [
       "<IPython.core.display.HTML object>"
      ]
     },
     "execution_count": 64,
     "metadata": {},
     "output_type": "execute_result"
    }
   ],
   "source": [
    "#show video\n",
    "from IPython.display import HTML\n",
    "import os\n",
    "\n",
    "video_names = list(filter(lambda s:s.endswith(\".mp4\"),os.listdir(\"./videos/\")))\n",
    "\n",
    "HTML(\"\"\"\n",
    "<video width=\"640\" height=\"480\" controls>\n",
    "  <source src=\"{}\" type=\"video/mp4\">\n",
    "</video>\n",
    "\"\"\".format(\"./videos/\"+video_names[-1])) #this may or may not be _last_ video. Try other indices"
   ]
  },
  {
   "cell_type": "code",
   "execution_count": null,
   "metadata": {
    "collapsed": true
   },
   "outputs": [],
   "source": []
  }
 ],
 "metadata": {
  "anaconda-cloud": {},
  "kernelspec": {
   "display_name": "Python 3",
   "language": "python",
   "name": "python3"
  },
  "language_info": {
   "codemirror_mode": {
    "name": "ipython",
    "version": 3
   },
   "file_extension": ".py",
   "mimetype": "text/x-python",
   "name": "python",
   "nbconvert_exporter": "python",
   "pygments_lexer": "ipython3",
   "version": "3.6.4"
  }
 },
 "nbformat": 4,
 "nbformat_minor": 1
}
