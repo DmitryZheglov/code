{
 "cells": [
  {
   "cell_type": "code",
   "execution_count": 1,
   "metadata": {
    "collapsed": false
   },
   "outputs": [
    {
     "name": "stderr",
     "output_type": "stream",
     "text": [
      "/home/dz/anaconda3/lib/python3.6/site-packages/sklearn/cross_validation.py:44: DeprecationWarning: This module was deprecated in version 0.18 in favor of the model_selection module into which all the refactored classes and functions are moved. Also note that the interface of the new CV iterators are different from that of this module. This module will be removed in 0.20.\n",
      "  \"This module will be removed in 0.20.\", DeprecationWarning)\n"
     ]
    }
   ],
   "source": [
    "import pandas as pd\n",
    "\n",
    "from sklearn.feature_extraction.text import TfidfVectorizer\n",
    "from sklearn.feature_extraction import DictVectorizer\n",
    "\n",
    "#В зависимости от версии sklearn\n",
    "#from sklearn.model_selection import train_test_split\n",
    "from sklearn.cross_validation import train_test_split\n",
    "\n",
    "from sklearn.linear_model import Ridge\n",
    "from sklearn.metrics import mean_squared_error\n",
    "\n",
    "import numpy as np\n",
    "import scipy\n",
    "\n",
    "%matplotlib inline\n",
    "from matplotlib import pyplot as plt"
   ]
  },
  {
   "cell_type": "markdown",
   "metadata": {},
   "source": [
    "# GetData"
   ]
  },
  {
   "cell_type": "markdown",
   "metadata": {},
   "source": [
    "# train"
   ]
  },
  {
   "cell_type": "code",
   "execution_count": 22,
   "metadata": {
    "collapsed": false
   },
   "outputs": [
    {
     "data": {
      "text/plain": [
       "('Аладдин Р.Д.',\n",
       " 'hub/system_programming',\n",
       " 'https://habrastorage.org/files/cbd/cf9/5ff/cbdcf95ffd2241df9ba029f65cc753e3.png',\n",
       " None,\n",
       " 'https://habrahabr.ru/company/aladdinrd')"
      ]
     },
     "execution_count": 22,
     "metadata": {},
     "output_type": "execute_result"
    }
   ],
   "source": [
    "data['author']['name'],data['hubs'][0]['id'],data['meta_tags']['og:image'],data['author']['nickname'],\\\n",
    "data['author']['url'],data['content']"
   ]
  },
  {
   "cell_type": "code",
   "execution_count": 21,
   "metadata": {
    "collapsed": false
   },
   "outputs": [],
   "source": [
    "#data['content']"
   ]
  },
  {
   "cell_type": "code",
   "execution_count": 4,
   "metadata": {
    "collapsed": false
   },
   "outputs": [
    {
     "data": {
      "text/plain": [
       "{'_id': 'https://geektimes.ru/post/21866/',\n",
       " '_timestamp': 1493193871.827317,\n",
       " 'author': {'name': \"Сергей 'pokatusher'\",\n",
       "  'nickname': '@M_org',\n",
       "  'url': 'https://geektimes.ru/users/M_org'},\n",
       " 'content': 'Итак, если 3 дня назад я <a href=\"http://habrahabr.ru/blog/apple/37661.html\">отписался</a> то что в продаже появился MacBook Air, то сейчас новость покруче. eeePC в продаже — и это не шутки. Цена — <strong>9999 рублей</strong>. Магазины — «Эльдорадо» и «ЭТО». <br>\\r\\n<br>\\r\\n<img src=\"https://habrastorage.org/getpro/habr/olpictures/0c8/296/593/0c82965935830e6d6262dab6253766cd.jpg\" width=\"450\" height=\"337\" hspace=\"10\" vspace=\"10\"><br>\\r\\n<br>\\r\\n<em>Основная информация:</em><br>\\r\\n<br>\\r\\n — 4 гб диск<br>\\r\\n — веб-камера<br>\\r\\n — слот для оперативки (с лючком, правда висит пломбочка)<br>\\r\\n — 512 памяти<br>\\r\\n — Windows XP (грузится за 30 секунд)<br>\\r\\n — по умолчанию работает на 630 мгц.<br>\\r\\n — цвет только черный<br>\\r\\n<strong> — в комплекте:</strong> зарядка (размером с зарядку для телефона), кабеля, чехол.<br>\\r\\n — <strong>Wi-Fi есть</strong>. Сам через голден сидел.<br>\\r\\n<br>\\r\\nВопросы — спрашивайте. Почему пришел нjа 8 дней раньше обещанного (25 марта) — не знаю :)<br>\\r\\n<br>\\r\\n<strong>UPD:</strong> надоели уже вопросы «а зачем эта игрушка нужна?», «это не ноутбук», «я лучше за 15 куплю нормальный ноут». Отвечу цитатой юзера <a href=\"http://geektimes.ru/users/minixan/\" class=\"user_link\">minixan</a><blockquote>у меня дома 4-ядерный десктоп, +ноут довольно хороший, но блин, таскать с собой везде 3 кг каждый день ради того чтобы иметь везде доступ к почте, браузеру, аське и скайпу — напрягает.</blockquote>',\n",
       " 'domain': 'geektimes.ru',\n",
       " 'flags': [],\n",
       " 'flow': None,\n",
       " 'hubs': [{'id': 'hub/hardware',\n",
       "   'title': 'Железо',\n",
       "   'url': 'https://geektimes.ru/hub/hardware/'}],\n",
       " 'link_tags': {'alternate': 'https://geektimes.ru/rss/post/21866/',\n",
       "  'apple-touch-icon-precomposed': '/images/favicons/apple-touch-icon-152x152.png',\n",
       "  'canonical': 'https://geektimes.ru/post/21866/',\n",
       "  'icon': '/images/favicons/favicon-16x16.png',\n",
       "  'image_src': 'https://habrastorage.org/getpro/habr/olpictures/0c8/296/593/0c82965935830e6d6262dab6253766cd.jpg',\n",
       "  'stylesheet': 'https://habracdn.net/gt/styles/1493134248/_build/global_main.css'},\n",
       " 'meta_tags': {'al:android:app_name': 'TechMedia',\n",
       "  'al:android:package': 'ru.habrahabr',\n",
       "  'al:android:url': 'geektimes://post/21866',\n",
       "  'al:windows_phone:app_id': '460a6bd6-8955-470f-935e-9ea1726a6060',\n",
       "  'al:windows_phone:app_name': 'TechMedia',\n",
       "  'al:windows_phone:url': 'geektimes://post/21866',\n",
       "  'apple-mobile-web-app-title': 'Geektimes',\n",
       "  'application-name': 'Geektimes',\n",
       "  'description': 'Итак, если 3 дня назад я отписался то что в продаже появился MacBook Air, то сейчас новость покруче. eeePC в продаже — и это не шутки. Цена — 9999 рублей. Магазины — «Эльдорадо» и «ЭТО»....',\n",
       "  'keywords': 'eeepc, asus, ЭТО, эльдорадо, ура',\n",
       "  'msapplication-TileColor': '#FFFFFF',\n",
       "  'msapplication-TileImage': 'mstile-144x144.png',\n",
       "  'og:description': 'Итак, если 3 дня назад я отписался то что в продаже появился MacBook Air, то сейчас новость покруче. eeePC в продаже — и это не шутки. Цена — 9999 рублей.',\n",
       "  'og:image': 'https://habrastorage.org/getpro/habr/olpictures/0c8/296/593/0c82965935830e6d6262dab6253766cd.jpg',\n",
       "  'og:title': 'eeePC в продаже. Да. Правда.',\n",
       "  'og:type': 'article',\n",
       "  'og:url': 'https://geektimes.ru/post/21866/',\n",
       "  'pocket-site-verification': 'ed24b2b9721edf0a282c5b4a3232c4',\n",
       "  'referrer': 'unsafe-url',\n",
       "  'twitter:card': 'summary',\n",
       "  'twitter:site': '@geektimes_ru',\n",
       "  'viewport': 'width=1024',\n",
       "  'yandex-verification': '6f22b39b973dfed8'},\n",
       " 'polling': None,\n",
       " 'post_id': 21866,\n",
       " 'published': {'$date': '2008-03-17T18:55:00.000Z'},\n",
       " 'tags': ['eeepc', 'asus', 'ЭТО', 'эльдорадо', 'ура'],\n",
       " 'title': 'eeePC в продаже. Да. Правда.',\n",
       " 'url': 'https://geektimes.ru/post/21866/'}"
      ]
     },
     "execution_count": 4,
     "metadata": {},
     "output_type": "execute_result"
    }
   ],
   "source": [
    "data"
   ]
  },
  {
   "cell_type": "code",
   "execution_count": 23,
   "metadata": {
    "collapsed": true
   },
   "outputs": [],
   "source": [
    "with open('data/train/'+files[100]) as data_file:    \n",
    "        data = json.load(data_file)"
   ]
  },
  {
   "cell_type": "code",
   "execution_count": 24,
   "metadata": {
    "collapsed": false
   },
   "outputs": [
    {
     "data": {
      "text/plain": [
       "{'_id': 'https://geektimes.ru/post/27747/',\n",
       " '_timestamp': 1493194334.500344,\n",
       " 'author': {'name': 'Bazinga',\n",
       "  'nickname': '@LifeOS',\n",
       "  'url': 'https://geektimes.ru/users/LifeOS'},\n",
       " 'content': '<img src=\"https://habrastorage.org/getpro/habr/olpictures/20b/b7e/9e7/20bb7e9e7b3904bb273346ace18a7d16.jpg\" width=\"200\" height=\"158\" alt=\"microsoft\" hspace=\"10\" vspace=\"10\" align=\"left\">Окружной суд Сан-Диего предписал компании Microsoft выплатить <strong>511,6 млн. долл</strong>. в качестве компенсации за ущерб, вызванный нарушением патентов, принадлежащих Alcatel-Lucent. Как стало известно, Microsoft намерена подать апелляцию. Разбирательство между двумя компаниями длится уже пять лет.<br>\\r\\n<br>\\r\\nРанее суд решил, что Microsoft нарушила два патента Alcatel. Один из них описывает метод выбора календарной даты в меню некоторых программ, включая Microsoft Outlook и Windows Mobile, другой касается использования пера в планшетном компьютере. <br>\\r\\n<a name=\"habracut\"></a><br>\\r\\nКрупнейший в мире производитель программного обеспечения обратился в суд с просьбой пересмотреть определенный в апреле размер выплаты в пользу Alcatel-Lucent, равный 357,7 млн. долл. <br>\\r\\n<br>\\r\\nНа этой неделе судья Мэрилин Л. Хафф (Marilyn L. Huff) отклонила обращение Microsoft и изменила сумму выплаты в пользу Alcatel-Lucent. Теперь сумма включает проценты за период, прошедший до вынесения судебного решения. Сумма могла быть еще больше, но суд не нашел нарушения патента, принадлежащего Alcatel-Lucent и относящегося к технологии кодирования видео, используемой Microsoft. <br>\\r\\n<br>\\r\\nНапомним, в прошлом году другой окружной судья вынес вердикт, отменяющий выплату со стороны Microsoft в размере <strong>1,5 млрд. долл</strong>. за нарушение патента в области цифровой звукозаписи.<br>\\r\\n<br>\\r\\nИсточник <a href=\"http://www.ixbt.com/news/hard/index.shtml?10/64/57\">тут</a>.<br>\\r\\n',\n",
       " 'domain': 'geektimes.ru',\n",
       " 'flags': [],\n",
       " 'flow': None,\n",
       " 'hubs': [{'id': 'hub/closet',\n",
       "   'title': 'Чёрная дыра',\n",
       "   'url': 'https://geektimes.ru/hub/closet/'}],\n",
       " 'link_tags': {'alternate': 'https://geektimes.ru/rss/post/27747/',\n",
       "  'apple-touch-icon-precomposed': '/images/favicons/apple-touch-icon-152x152.png',\n",
       "  'canonical': 'https://geektimes.ru/post/27747/',\n",
       "  'icon': '/images/favicons/favicon-16x16.png',\n",
       "  'image_src': 'https://habrastorage.org/getpro/habr/olpictures/20b/b7e/9e7/20bb7e9e7b3904bb273346ace18a7d16.jpg',\n",
       "  'stylesheet': 'https://habracdn.net/gt/styles/1493134248/_build/global_main.css'},\n",
       " 'meta_tags': {'al:android:app_name': 'TechMedia',\n",
       "  'al:android:package': 'ru.habrahabr',\n",
       "  'al:android:url': 'geektimes://post/27747',\n",
       "  'al:windows_phone:app_id': '460a6bd6-8955-470f-935e-9ea1726a6060',\n",
       "  'al:windows_phone:app_name': 'TechMedia',\n",
       "  'al:windows_phone:url': 'geektimes://post/27747',\n",
       "  'apple-mobile-web-app-title': 'Geektimes',\n",
       "  'application-name': 'Geektimes',\n",
       "  'description': 'Окружной суд Сан-Диего предписал компании Microsoft выплатить 511,6 млн. долл. в качестве компенсации за ущерб, вызванный нарушением патентов, принадлежащих Alcatel-Lucent. Как стало известно,...',\n",
       "  'keywords': 'microsoft, нарушение патента, Alcatel, Windows Mobile',\n",
       "  'msapplication-TileColor': '#FFFFFF',\n",
       "  'msapplication-TileImage': 'mstile-144x144.png',\n",
       "  'og:description': 'Окружной суд Сан-Диего предписал компании Microsoft выплатить 511,6 млн. долл. в качестве компенсации за ущерб, вызванный нарушением патентов, принадлежащих...',\n",
       "  'og:image': 'https://habrastorage.org/getpro/habr/olpictures/20b/b7e/9e7/20bb7e9e7b3904bb273346ace18a7d16.jpg',\n",
       "  'og:title': 'Microsoft обязали заплатить полмиллиарда долларов за нарушение двух патентов',\n",
       "  'og:type': 'article',\n",
       "  'og:url': 'https://geektimes.ru/post/27747/',\n",
       "  'pocket-site-verification': 'ed24b2b9721edf0a282c5b4a3232c4',\n",
       "  'referrer': 'unsafe-url',\n",
       "  'robots': 'noindex',\n",
       "  'twitter:card': 'summary',\n",
       "  'twitter:site': '@geektimes_ru',\n",
       "  'viewport': 'width=1024',\n",
       "  'yandex-verification': '6f22b39b973dfed8'},\n",
       " 'polling': None,\n",
       " 'post_id': 27747,\n",
       " 'published': {'$date': '2008-06-21T21:35:00.000Z'},\n",
       " 'tags': ['microsoft', 'нарушение патента', 'Alcatel', 'Windows Mobile'],\n",
       " 'title': 'Microsoft обязали заплатить полмиллиарда долларов за нарушение двух патентов',\n",
       " 'url': 'https://geektimes.ru/post/27747/'}"
      ]
     },
     "execution_count": 24,
     "metadata": {},
     "output_type": "execute_result"
    }
   ],
   "source": [
    "data"
   ]
  },
  {
   "cell_type": "code",
   "execution_count": 2,
   "metadata": {
    "collapsed": true
   },
   "outputs": [],
   "source": [
    "#Подключаем модуль \n",
    "import os \n",
    "import json\n",
    "#Каталог из которого будем брать файлы \n",
    "directory = '/home/dz/kaggle/habr/data/train' \n",
    "#Получаем список файлов в переменную files \n",
    "files = os.listdir(directory) "
   ]
  },
  {
   "cell_type": "code",
   "execution_count": 30,
   "metadata": {
    "collapsed": false
   },
   "outputs": [
    {
     "name": "stdout",
     "output_type": "stream",
     "text": [
      "CPU times: user 2min 7s, sys: 21.1 s, total: 2min 28s\n",
      "Wall time: 3min 10s\n"
     ]
    }
   ],
   "source": [
    "%%time\n",
    "#frame = pd.DataFrame()\n",
    "list_ = []\n",
    "\n",
    "#frame = pd.concat(list_)\n",
    "#df = pd.DataFrame(columns=('_id', 'date', 'tags','title','hubs_title','description'))\n",
    "for i in range(len(files)):\n",
    "    with open('data/train/'+files[i]) as data_file:    \n",
    "        data = json.load(data_file)\n",
    "        list_.append([data['_id'],data['published']['$date'],data['tags'],data['title'],data['hubs'][0]['title'],data['meta_tags']['og:description'],\\\n",
    "                    data['author']['name'],data['hubs'][0]['id'],data['meta_tags']['og:image'],data['author']['nickname'],data['author']['url'],data['content']])\n",
    "        \n",
    "frame = pd.DataFrame(list_)  "
   ]
  },
  {
   "cell_type": "code",
   "execution_count": 31,
   "metadata": {
    "collapsed": false
   },
   "outputs": [
    {
     "data": {
      "text/html": [
       "<div>\n",
       "<table border=\"1\" class=\"dataframe\">\n",
       "  <thead>\n",
       "    <tr style=\"text-align: right;\">\n",
       "      <th></th>\n",
       "      <th>0</th>\n",
       "      <th>1</th>\n",
       "      <th>2</th>\n",
       "      <th>3</th>\n",
       "      <th>4</th>\n",
       "      <th>5</th>\n",
       "      <th>6</th>\n",
       "      <th>7</th>\n",
       "      <th>8</th>\n",
       "      <th>9</th>\n",
       "      <th>10</th>\n",
       "      <th>11</th>\n",
       "    </tr>\n",
       "  </thead>\n",
       "  <tbody>\n",
       "    <tr>\n",
       "      <th>0</th>\n",
       "      <td>https://geektimes.ru/post/21866/</td>\n",
       "      <td>2008-03-17T18:55:00.000Z</td>\n",
       "      <td>[eeepc, asus, ЭТО, эльдорадо, ура]</td>\n",
       "      <td>eeePC в продаже. Да. Правда.</td>\n",
       "      <td>Железо</td>\n",
       "      <td>Итак, если 3 дня назад я отписался то что в пр...</td>\n",
       "      <td>Сергей 'pokatusher'</td>\n",
       "      <td>hub/hardware</td>\n",
       "      <td>https://habrastorage.org/getpro/habr/olpicture...</td>\n",
       "      <td>@M_org</td>\n",
       "      <td>https://geektimes.ru/users/M_org</td>\n",
       "      <td>Итак, если 3 дня назад я &lt;a href=\"http://habra...</td>\n",
       "    </tr>\n",
       "    <tr>\n",
       "      <th>1</th>\n",
       "      <td>https://habrahabr.ru/company/aladdinrd/blog/30...</td>\n",
       "      <td>2016-06-24T13:02:00.000Z</td>\n",
       "      <td>[Интеграция, шифрование, Windows, Win32, NTFS,...</td>\n",
       "      <td>«Разрубить Гордиев узел» или преодоление пробл...</td>\n",
       "      <td>Системное программирование</td>\n",
       "      <td>Современная операционная система это сложный и...</td>\n",
       "      <td>Аладдин Р.Д.</td>\n",
       "      <td>hub/system_programming</td>\n",
       "      <td>https://habrastorage.org/files/cbd/cf9/5ff/cbd...</td>\n",
       "      <td>None</td>\n",
       "      <td>https://habrahabr.ru/company/aladdinrd</td>\n",
       "      <td>Современная операционная система это сложный и...</td>\n",
       "    </tr>\n",
       "    <tr>\n",
       "      <th>2</th>\n",
       "      <td>https://geektimes.ru/post/92887/</td>\n",
       "      <td>2010-05-06T10:00:00.000Z</td>\n",
       "      <td>[mc, midnight commander, diffview, merge, file...</td>\n",
       "      <td>Релиз Midnight Commander 4.7.2 и 4.7.0.5</td>\n",
       "      <td>Чёрная дыра</td>\n",
       "      <td>Спустя 2 месяца упорных трудов вышла новая вер...</td>\n",
       "      <td>Илья Маслаков</td>\n",
       "      <td>hub/closet</td>\n",
       "      <td>https://geektimes.ru/images/logo.png</td>\n",
       "      <td>@smind</td>\n",
       "      <td>https://geektimes.ru/users/smind</td>\n",
       "      <td>Спустя 2 месяца упорных трудов вышла новая вер...</td>\n",
       "    </tr>\n",
       "    <tr>\n",
       "      <th>3</th>\n",
       "      <td>https://habrahabr.ru/post/290824/</td>\n",
       "      <td>2015-05-22T11:01:00.000Z</td>\n",
       "      <td>[бизнес-модель, бизнес-моделирование]</td>\n",
       "      <td>7 шагов для постройки правильной бизнес-модели</td>\n",
       "      <td>Интернет-маркетинг</td>\n",
       "      <td>Большинство IT предпринимателей сосредотачиваю...</td>\n",
       "      <td>Александр</td>\n",
       "      <td>hub/internetmarketing</td>\n",
       "      <td>https://habrastorage.org/files/50e/211/9a0/50e...</td>\n",
       "      <td>@jasiejames</td>\n",
       "      <td>https://habrahabr.ru/users/jasiejames</td>\n",
       "      <td>&lt;img src=\"https://habrastorage.org/files/50e/2...</td>\n",
       "    </tr>\n",
       "    <tr>\n",
       "      <th>4</th>\n",
       "      <td>https://habrahabr.ru/post/190088/</td>\n",
       "      <td>2014-09-04T00:32:00.000Z</td>\n",
       "      <td>[python, flask, mongodb, pet-project]</td>\n",
       "      <td>Thunderargs: практика использования. Часть 2</td>\n",
       "      <td>Программирование</td>\n",
       "      <td>История создания Часть 1  Добрый день. Вкратце...</td>\n",
       "      <td>Данияр Супиев</td>\n",
       "      <td>hub/programming</td>\n",
       "      <td>https://habrahabr.ru/i/habralogo.jpg</td>\n",
       "      <td>@uthunderbird</td>\n",
       "      <td>https://habrahabr.ru/users/uthunderbird</td>\n",
       "      <td>&lt;a href=\"http://habrahabr.ru/post/223041/\"&gt;Ист...</td>\n",
       "    </tr>\n",
       "  </tbody>\n",
       "</table>\n",
       "</div>"
      ],
      "text/plain": [
       "                                                  0   \\\n",
       "0                   https://geektimes.ru/post/21866/   \n",
       "1  https://habrahabr.ru/company/aladdinrd/blog/30...   \n",
       "2                   https://geektimes.ru/post/92887/   \n",
       "3                  https://habrahabr.ru/post/290824/   \n",
       "4                  https://habrahabr.ru/post/190088/   \n",
       "\n",
       "                         1   \\\n",
       "0  2008-03-17T18:55:00.000Z   \n",
       "1  2016-06-24T13:02:00.000Z   \n",
       "2  2010-05-06T10:00:00.000Z   \n",
       "3  2015-05-22T11:01:00.000Z   \n",
       "4  2014-09-04T00:32:00.000Z   \n",
       "\n",
       "                                                  2   \\\n",
       "0                 [eeepc, asus, ЭТО, эльдорадо, ура]   \n",
       "1  [Интеграция, шифрование, Windows, Win32, NTFS,...   \n",
       "2  [mc, midnight commander, diffview, merge, file...   \n",
       "3              [бизнес-модель, бизнес-моделирование]   \n",
       "4              [python, flask, mongodb, pet-project]   \n",
       "\n",
       "                                                  3   \\\n",
       "0                       eeePC в продаже. Да. Правда.   \n",
       "1  «Разрубить Гордиев узел» или преодоление пробл...   \n",
       "2           Релиз Midnight Commander 4.7.2 и 4.7.0.5   \n",
       "3     7 шагов для постройки правильной бизнес-модели   \n",
       "4       Thunderargs: практика использования. Часть 2   \n",
       "\n",
       "                           4   \\\n",
       "0                      Железо   \n",
       "1  Системное программирование   \n",
       "2                 Чёрная дыра   \n",
       "3          Интернет-маркетинг   \n",
       "4            Программирование   \n",
       "\n",
       "                                                  5                    6   \\\n",
       "0  Итак, если 3 дня назад я отписался то что в пр...  Сергей 'pokatusher'   \n",
       "1  Современная операционная система это сложный и...         Аладдин Р.Д.   \n",
       "2  Спустя 2 месяца упорных трудов вышла новая вер...        Илья Маслаков   \n",
       "3  Большинство IT предпринимателей сосредотачиваю...            Александр   \n",
       "4  История создания Часть 1  Добрый день. Вкратце...        Данияр Супиев   \n",
       "\n",
       "                       7                                                  8   \\\n",
       "0            hub/hardware  https://habrastorage.org/getpro/habr/olpicture...   \n",
       "1  hub/system_programming  https://habrastorage.org/files/cbd/cf9/5ff/cbd...   \n",
       "2              hub/closet               https://geektimes.ru/images/logo.png   \n",
       "3   hub/internetmarketing  https://habrastorage.org/files/50e/211/9a0/50e...   \n",
       "4         hub/programming               https://habrahabr.ru/i/habralogo.jpg   \n",
       "\n",
       "              9                                        10  \\\n",
       "0         @M_org         https://geektimes.ru/users/M_org   \n",
       "1           None   https://habrahabr.ru/company/aladdinrd   \n",
       "2         @smind         https://geektimes.ru/users/smind   \n",
       "3    @jasiejames    https://habrahabr.ru/users/jasiejames   \n",
       "4  @uthunderbird  https://habrahabr.ru/users/uthunderbird   \n",
       "\n",
       "                                                  11  \n",
       "0  Итак, если 3 дня назад я <a href=\"http://habra...  \n",
       "1  Современная операционная система это сложный и...  \n",
       "2  Спустя 2 месяца упорных трудов вышла новая вер...  \n",
       "3  <img src=\"https://habrastorage.org/files/50e/2...  \n",
       "4  <a href=\"http://habrahabr.ru/post/223041/\">Ист...  "
      ]
     },
     "execution_count": 31,
     "metadata": {},
     "output_type": "execute_result"
    }
   ],
   "source": [
    "frame.head()"
   ]
  },
  {
   "cell_type": "code",
   "execution_count": 32,
   "metadata": {
    "collapsed": false
   },
   "outputs": [
    {
     "data": {
      "text/html": [
       "<div>\n",
       "<table border=\"1\" class=\"dataframe\">\n",
       "  <thead>\n",
       "    <tr style=\"text-align: right;\">\n",
       "      <th></th>\n",
       "      <th>_id</th>\n",
       "      <th>favs_lognorm</th>\n",
       "    </tr>\n",
       "  </thead>\n",
       "  <tbody>\n",
       "    <tr>\n",
       "      <th>0</th>\n",
       "      <td>https://habrahabr.ru/post/7/</td>\n",
       "      <td>0.693147</td>\n",
       "    </tr>\n",
       "    <tr>\n",
       "      <th>1</th>\n",
       "      <td>https://geektimes.ru/post/8/</td>\n",
       "      <td>0.693147</td>\n",
       "    </tr>\n",
       "    <tr>\n",
       "      <th>2</th>\n",
       "      <td>https://geektimes.ru/post/4/</td>\n",
       "      <td>0.693147</td>\n",
       "    </tr>\n",
       "    <tr>\n",
       "      <th>3</th>\n",
       "      <td>https://habrahabr.ru/post/2/</td>\n",
       "      <td>0.693147</td>\n",
       "    </tr>\n",
       "    <tr>\n",
       "      <th>4</th>\n",
       "      <td>https://habrahabr.ru/post/6/</td>\n",
       "      <td>0.693147</td>\n",
       "    </tr>\n",
       "  </tbody>\n",
       "</table>\n",
       "</div>"
      ],
      "text/plain": [
       "                            _id  favs_lognorm\n",
       "0  https://habrahabr.ru/post/7/      0.693147\n",
       "1  https://geektimes.ru/post/8/      0.693147\n",
       "2  https://geektimes.ru/post/4/      0.693147\n",
       "3  https://habrahabr.ru/post/2/      0.693147\n",
       "4  https://habrahabr.ru/post/6/      0.693147"
      ]
     },
     "execution_count": 32,
     "metadata": {},
     "output_type": "execute_result"
    }
   ],
   "source": [
    "y = pd.read_csv('data/train_target.csv')\n",
    "y.head()"
   ]
  },
  {
   "cell_type": "code",
   "execution_count": 35,
   "metadata": {
    "collapsed": false
   },
   "outputs": [
    {
     "name": "stdout",
     "output_type": "stream",
     "text": [
      "(172913, 13)\n"
     ]
    },
    {
     "data": {
      "text/html": [
       "<div>\n",
       "<table border=\"1\" class=\"dataframe\">\n",
       "  <thead>\n",
       "    <tr style=\"text-align: right;\">\n",
       "      <th></th>\n",
       "      <th>_id</th>\n",
       "      <th>date</th>\n",
       "      <th>tags</th>\n",
       "      <th>title</th>\n",
       "      <th>hubs_title</th>\n",
       "      <th>description</th>\n",
       "      <th>name</th>\n",
       "      <th>hub</th>\n",
       "      <th>png</th>\n",
       "      <th>nick</th>\n",
       "      <th>url</th>\n",
       "      <th>content</th>\n",
       "      <th>favs_lognorm</th>\n",
       "    </tr>\n",
       "  </thead>\n",
       "  <tbody>\n",
       "    <tr>\n",
       "      <th>0</th>\n",
       "      <td>https://geektimes.ru/post/21866/</td>\n",
       "      <td>2008-03-17T18:55:00.000Z</td>\n",
       "      <td>[eeepc, asus, ЭТО, эльдорадо, ура]</td>\n",
       "      <td>eeePC в продаже. Да. Правда.</td>\n",
       "      <td>Железо</td>\n",
       "      <td>Итак, если 3 дня назад я отписался то что в пр...</td>\n",
       "      <td>Сергей 'pokatusher'</td>\n",
       "      <td>hub/hardware</td>\n",
       "      <td>https://habrastorage.org/getpro/habr/olpicture...</td>\n",
       "      <td>@M_org</td>\n",
       "      <td>https://geektimes.ru/users/M_org</td>\n",
       "      <td>Итак, если 3 дня назад я &lt;a href=\"http://habra...</td>\n",
       "      <td>2.484907</td>\n",
       "    </tr>\n",
       "    <tr>\n",
       "      <th>1</th>\n",
       "      <td>https://habrahabr.ru/company/aladdinrd/blog/30...</td>\n",
       "      <td>2016-06-24T13:02:00.000Z</td>\n",
       "      <td>[Интеграция, шифрование, Windows, Win32, NTFS,...</td>\n",
       "      <td>«Разрубить Гордиев узел» или преодоление пробл...</td>\n",
       "      <td>Системное программирование</td>\n",
       "      <td>Современная операционная система это сложный и...</td>\n",
       "      <td>Аладдин Р.Д.</td>\n",
       "      <td>hub/system_programming</td>\n",
       "      <td>https://habrastorage.org/files/cbd/cf9/5ff/cbd...</td>\n",
       "      <td>None</td>\n",
       "      <td>https://habrahabr.ru/company/aladdinrd</td>\n",
       "      <td>Современная операционная система это сложный и...</td>\n",
       "      <td>4.174387</td>\n",
       "    </tr>\n",
       "    <tr>\n",
       "      <th>2</th>\n",
       "      <td>https://geektimes.ru/post/92887/</td>\n",
       "      <td>2010-05-06T10:00:00.000Z</td>\n",
       "      <td>[mc, midnight commander, diffview, merge, file...</td>\n",
       "      <td>Релиз Midnight Commander 4.7.2 и 4.7.0.5</td>\n",
       "      <td>Чёрная дыра</td>\n",
       "      <td>Спустя 2 месяца упорных трудов вышла новая вер...</td>\n",
       "      <td>Илья Маслаков</td>\n",
       "      <td>hub/closet</td>\n",
       "      <td>https://geektimes.ru/images/logo.png</td>\n",
       "      <td>@smind</td>\n",
       "      <td>https://geektimes.ru/users/smind</td>\n",
       "      <td>Спустя 2 месяца упорных трудов вышла новая вер...</td>\n",
       "      <td>0.000000</td>\n",
       "    </tr>\n",
       "    <tr>\n",
       "      <th>3</th>\n",
       "      <td>https://habrahabr.ru/post/290824/</td>\n",
       "      <td>2015-05-22T11:01:00.000Z</td>\n",
       "      <td>[бизнес-модель, бизнес-моделирование]</td>\n",
       "      <td>7 шагов для постройки правильной бизнес-модели</td>\n",
       "      <td>Интернет-маркетинг</td>\n",
       "      <td>Большинство IT предпринимателей сосредотачиваю...</td>\n",
       "      <td>Александр</td>\n",
       "      <td>hub/internetmarketing</td>\n",
       "      <td>https://habrastorage.org/files/50e/211/9a0/50e...</td>\n",
       "      <td>@jasiejames</td>\n",
       "      <td>https://habrahabr.ru/users/jasiejames</td>\n",
       "      <td>&lt;img src=\"https://habrastorage.org/files/50e/2...</td>\n",
       "      <td>3.496508</td>\n",
       "    </tr>\n",
       "    <tr>\n",
       "      <th>4</th>\n",
       "      <td>https://habrahabr.ru/post/190088/</td>\n",
       "      <td>2014-09-04T00:32:00.000Z</td>\n",
       "      <td>[python, flask, mongodb, pet-project]</td>\n",
       "      <td>Thunderargs: практика использования. Часть 2</td>\n",
       "      <td>Программирование</td>\n",
       "      <td>История создания Часть 1  Добрый день. Вкратце...</td>\n",
       "      <td>Данияр Супиев</td>\n",
       "      <td>hub/programming</td>\n",
       "      <td>https://habrahabr.ru/i/habralogo.jpg</td>\n",
       "      <td>@uthunderbird</td>\n",
       "      <td>https://habrahabr.ru/users/uthunderbird</td>\n",
       "      <td>&lt;a href=\"http://habrahabr.ru/post/223041/\"&gt;Ист...</td>\n",
       "      <td>3.688879</td>\n",
       "    </tr>\n",
       "  </tbody>\n",
       "</table>\n",
       "</div>"
      ],
      "text/plain": [
       "                                                 _id  \\\n",
       "0                   https://geektimes.ru/post/21866/   \n",
       "1  https://habrahabr.ru/company/aladdinrd/blog/30...   \n",
       "2                   https://geektimes.ru/post/92887/   \n",
       "3                  https://habrahabr.ru/post/290824/   \n",
       "4                  https://habrahabr.ru/post/190088/   \n",
       "\n",
       "                       date  \\\n",
       "0  2008-03-17T18:55:00.000Z   \n",
       "1  2016-06-24T13:02:00.000Z   \n",
       "2  2010-05-06T10:00:00.000Z   \n",
       "3  2015-05-22T11:01:00.000Z   \n",
       "4  2014-09-04T00:32:00.000Z   \n",
       "\n",
       "                                                tags  \\\n",
       "0                 [eeepc, asus, ЭТО, эльдорадо, ура]   \n",
       "1  [Интеграция, шифрование, Windows, Win32, NTFS,...   \n",
       "2  [mc, midnight commander, diffview, merge, file...   \n",
       "3              [бизнес-модель, бизнес-моделирование]   \n",
       "4              [python, flask, mongodb, pet-project]   \n",
       "\n",
       "                                               title  \\\n",
       "0                       eeePC в продаже. Да. Правда.   \n",
       "1  «Разрубить Гордиев узел» или преодоление пробл...   \n",
       "2           Релиз Midnight Commander 4.7.2 и 4.7.0.5   \n",
       "3     7 шагов для постройки правильной бизнес-модели   \n",
       "4       Thunderargs: практика использования. Часть 2   \n",
       "\n",
       "                   hubs_title  \\\n",
       "0                      Железо   \n",
       "1  Системное программирование   \n",
       "2                 Чёрная дыра   \n",
       "3          Интернет-маркетинг   \n",
       "4            Программирование   \n",
       "\n",
       "                                         description                 name  \\\n",
       "0  Итак, если 3 дня назад я отписался то что в пр...  Сергей 'pokatusher'   \n",
       "1  Современная операционная система это сложный и...         Аладдин Р.Д.   \n",
       "2  Спустя 2 месяца упорных трудов вышла новая вер...        Илья Маслаков   \n",
       "3  Большинство IT предпринимателей сосредотачиваю...            Александр   \n",
       "4  История создания Часть 1  Добрый день. Вкратце...        Данияр Супиев   \n",
       "\n",
       "                      hub                                                png  \\\n",
       "0            hub/hardware  https://habrastorage.org/getpro/habr/olpicture...   \n",
       "1  hub/system_programming  https://habrastorage.org/files/cbd/cf9/5ff/cbd...   \n",
       "2              hub/closet               https://geektimes.ru/images/logo.png   \n",
       "3   hub/internetmarketing  https://habrastorage.org/files/50e/211/9a0/50e...   \n",
       "4         hub/programming               https://habrahabr.ru/i/habralogo.jpg   \n",
       "\n",
       "            nick                                      url  \\\n",
       "0         @M_org         https://geektimes.ru/users/M_org   \n",
       "1           None   https://habrahabr.ru/company/aladdinrd   \n",
       "2         @smind         https://geektimes.ru/users/smind   \n",
       "3    @jasiejames    https://habrahabr.ru/users/jasiejames   \n",
       "4  @uthunderbird  https://habrahabr.ru/users/uthunderbird   \n",
       "\n",
       "                                             content  favs_lognorm  \n",
       "0  Итак, если 3 дня назад я <a href=\"http://habra...      2.484907  \n",
       "1  Современная операционная система это сложный и...      4.174387  \n",
       "2  Спустя 2 месяца упорных трудов вышла новая вер...      0.000000  \n",
       "3  <img src=\"https://habrastorage.org/files/50e/2...      3.496508  \n",
       "4  <a href=\"http://habrahabr.ru/post/223041/\">Ист...      3.688879  "
      ]
     },
     "execution_count": 35,
     "metadata": {},
     "output_type": "execute_result"
    }
   ],
   "source": [
    "frame.columns = ['_id', 'date', 'tags','title','hubs_title','description','name','hub','png','nick','url','content']\n",
    "frame = pd.merge(frame,y,on='_id')\n",
    "print(frame.shape)\n",
    "frame.to_csv('data/train_content.csv',index=False)\n",
    "frame.head()"
   ]
  },
  {
   "cell_type": "markdown",
   "metadata": {},
   "source": [
    "# test"
   ]
  },
  {
   "cell_type": "code",
   "execution_count": 37,
   "metadata": {
    "collapsed": false
   },
   "outputs": [
    {
     "data": {
      "text/plain": [
       "5405"
      ]
     },
     "execution_count": 37,
     "metadata": {},
     "output_type": "execute_result"
    }
   ],
   "source": [
    "#Каталог из которого будем брать файлы \n",
    "directory = '/home/dz/kaggle/habr/data/test' \n",
    "#Получаем список файлов в переменную files \n",
    "files = os.listdir(directory) \n",
    "len(files)"
   ]
  },
  {
   "cell_type": "code",
   "execution_count": 38,
   "metadata": {
    "collapsed": false
   },
   "outputs": [
    {
     "name": "stdout",
     "output_type": "stream",
     "text": [
      "CPU times: user 6.71 s, sys: 1.08 s, total: 7.79 s\n",
      "Wall time: 9.49 s\n"
     ]
    }
   ],
   "source": [
    "%%time\n",
    "#frame = pd.DataFrame()\n",
    "list_ = []\n",
    "\n",
    "#frame = pd.concat(list_)\n",
    "#df = pd.DataFrame(columns=('_id', 'date', 'tags','title','hubs_title','description'))\n",
    "for i in range(len(files)):\n",
    "    with open('data/test/'+files[i]) as data_file:    \n",
    "        data = json.load(data_file)\n",
    "        list_.append([data['_id'],data['published']['$date'],data['tags'],data['title'],data['hubs'][0]['title'],data['meta_tags']['og:description'],\\\n",
    "                    data['author']['name'],data['hubs'][0]['id'],data['meta_tags']['og:image'],data['author']['nickname'],data['author']['url'],data['content']])\n",
    "        \n",
    "frame = pd.DataFrame(list_)  "
   ]
  },
  {
   "cell_type": "code",
   "execution_count": 39,
   "metadata": {
    "collapsed": false
   },
   "outputs": [
    {
     "name": "stdout",
     "output_type": "stream",
     "text": [
      "(5405, 12)\n"
     ]
    },
    {
     "data": {
      "text/html": [
       "<div>\n",
       "<table border=\"1\" class=\"dataframe\">\n",
       "  <thead>\n",
       "    <tr style=\"text-align: right;\">\n",
       "      <th></th>\n",
       "      <th>_id</th>\n",
       "      <th>date</th>\n",
       "      <th>tags</th>\n",
       "      <th>title</th>\n",
       "      <th>hubs_title</th>\n",
       "      <th>description</th>\n",
       "      <th>name</th>\n",
       "      <th>hub</th>\n",
       "      <th>png</th>\n",
       "      <th>nick</th>\n",
       "      <th>url</th>\n",
       "      <th>content</th>\n",
       "    </tr>\n",
       "  </thead>\n",
       "  <tbody>\n",
       "    <tr>\n",
       "      <th>0</th>\n",
       "      <td>https://habrahabr.ru/company/jetinfosystems/bl...</td>\n",
       "      <td>2017-01-19T15:24:00.000Z</td>\n",
       "      <td>[инфосистемы джет, аналитика, отчеты, монитори...</td>\n",
       "      <td>Gartner выкатил новый магический квадрант для ...</td>\n",
       "      <td>Исследования и прогнозы в IT</td>\n",
       "      <td>Мы уже успели истереть в кровь указательные па...</td>\n",
       "      <td>Инфосистемы Джет</td>\n",
       "      <td>hub/research</td>\n",
       "      <td>https://habrastorage.org/getpro/habr/post_imag...</td>\n",
       "      <td>None</td>\n",
       "      <td>https://habrahabr.ru/company/jetinfosystems</td>\n",
       "      <td>Мы уже успели истереть в кровь указательные па...</td>\n",
       "    </tr>\n",
       "    <tr>\n",
       "      <th>1</th>\n",
       "      <td>https://habrahabr.ru/company/oleg-bunin/blog/3...</td>\n",
       "      <td>2017-01-20T17:29:00.000Z</td>\n",
       "      <td>[юрий краснощек, highload junior, кеширование,...</td>\n",
       "      <td>Кэширование данных в web приложениях. Использо...</td>\n",
       "      <td>Разработка веб-сайтов</td>\n",
       "      <td>Юрий Краснощек (Delphi LLC, Dell) Я немного ра...</td>\n",
       "      <td>Конференции Олега Бунина (Онтико)</td>\n",
       "      <td>hub/webdev</td>\n",
       "      <td>https://habrastorage.org/getpro/habr/post_imag...</td>\n",
       "      <td>None</td>\n",
       "      <td>https://habrahabr.ru/company/oleg-bunin</td>\n",
       "      <td>&lt;img src=\"https://habrastorage.org/getpro/habr...</td>\n",
       "    </tr>\n",
       "    <tr>\n",
       "      <th>2</th>\n",
       "      <td>https://geektimes.ru/post/284882/</td>\n",
       "      <td>2017-01-19T18:50:00.000Z</td>\n",
       "      <td>[удача, везение, случайность]</td>\n",
       "      <td>Почему не стоит верить в удачу</td>\n",
       "      <td>Лайфхаки для гиков</td>\n",
       "      <td>Считаете ли вы себя удачливым человеком? Были ...</td>\n",
       "      <td>Вячеслав Голованов</td>\n",
       "      <td>hub/lifehacks</td>\n",
       "      <td>https://habrastorage.org/getpro/geektimes/post...</td>\n",
       "      <td>@SLY_G</td>\n",
       "      <td>https://geektimes.ru/users/SLY_G</td>\n",
       "      <td>&lt;img src=\"https://habrastorage.org/getpro/geek...</td>\n",
       "    </tr>\n",
       "    <tr>\n",
       "      <th>3</th>\n",
       "      <td>https://habrahabr.ru/post/320212/</td>\n",
       "      <td>2017-01-23T13:28:00.000Z</td>\n",
       "      <td>[qt, qt quick, qml, qt scene graph]</td>\n",
       "      <td>Закруглённые изображения на Qt Quick Scene Graph</td>\n",
       "      <td>Разработка мобильных приложений</td>\n",
       "      <td>Я использую Qt в разработке уже более 6 лет, и...</td>\n",
       "      <td>Михаил Серебренников</td>\n",
       "      <td>hub/mobile_dev</td>\n",
       "      <td>https://habrastorage.org/files/3b3/866/f3f/3b3...</td>\n",
       "      <td>@aleusessentia</td>\n",
       "      <td>https://habrahabr.ru/users/aleusessentia</td>\n",
       "      <td>&lt;p&gt;Я использую Qt в разработке уже более 6 лет...</td>\n",
       "    </tr>\n",
       "    <tr>\n",
       "      <th>4</th>\n",
       "      <td>https://geektimes.ru/post/288212/</td>\n",
       "      <td>2017-04-18T16:41:00.000Z</td>\n",
       "      <td>[Facebook, Facebook Live, прямые трансляции, у...</td>\n",
       "      <td>Моральная паника: Facebook обвиняют в недостат...</td>\n",
       "      <td>Социальные сети и сообщества</td>\n",
       "      <td>Прошло всего несколько месяцев после скандала ...</td>\n",
       "      <td>Анатолий Ализар</td>\n",
       "      <td>hub/social_networks</td>\n",
       "      <td>https://habrastorage.org/getpro/geektimes/post...</td>\n",
       "      <td>@alizar</td>\n",
       "      <td>https://geektimes.ru/users/alizar</td>\n",
       "      <td>&lt;img src=\"https://habrastorage.org/getpro/geek...</td>\n",
       "    </tr>\n",
       "  </tbody>\n",
       "</table>\n",
       "</div>"
      ],
      "text/plain": [
       "                                                 _id  \\\n",
       "0  https://habrahabr.ru/company/jetinfosystems/bl...   \n",
       "1  https://habrahabr.ru/company/oleg-bunin/blog/3...   \n",
       "2                  https://geektimes.ru/post/284882/   \n",
       "3                  https://habrahabr.ru/post/320212/   \n",
       "4                  https://geektimes.ru/post/288212/   \n",
       "\n",
       "                       date  \\\n",
       "0  2017-01-19T15:24:00.000Z   \n",
       "1  2017-01-20T17:29:00.000Z   \n",
       "2  2017-01-19T18:50:00.000Z   \n",
       "3  2017-01-23T13:28:00.000Z   \n",
       "4  2017-04-18T16:41:00.000Z   \n",
       "\n",
       "                                                tags  \\\n",
       "0  [инфосистемы джет, аналитика, отчеты, монитори...   \n",
       "1  [юрий краснощек, highload junior, кеширование,...   \n",
       "2                      [удача, везение, случайность]   \n",
       "3                [qt, qt quick, qml, qt scene graph]   \n",
       "4  [Facebook, Facebook Live, прямые трансляции, у...   \n",
       "\n",
       "                                               title  \\\n",
       "0  Gartner выкатил новый магический квадрант для ...   \n",
       "1  Кэширование данных в web приложениях. Использо...   \n",
       "2                     Почему не стоит верить в удачу   \n",
       "3   Закруглённые изображения на Qt Quick Scene Graph   \n",
       "4  Моральная паника: Facebook обвиняют в недостат...   \n",
       "\n",
       "                        hubs_title  \\\n",
       "0     Исследования и прогнозы в IT   \n",
       "1            Разработка веб-сайтов   \n",
       "2               Лайфхаки для гиков   \n",
       "3  Разработка мобильных приложений   \n",
       "4     Социальные сети и сообщества   \n",
       "\n",
       "                                         description  \\\n",
       "0  Мы уже успели истереть в кровь указательные па...   \n",
       "1  Юрий Краснощек (Delphi LLC, Dell) Я немного ра...   \n",
       "2  Считаете ли вы себя удачливым человеком? Были ...   \n",
       "3  Я использую Qt в разработке уже более 6 лет, и...   \n",
       "4  Прошло всего несколько месяцев после скандала ...   \n",
       "\n",
       "                                name                  hub  \\\n",
       "0                   Инфосистемы Джет         hub/research   \n",
       "1  Конференции Олега Бунина (Онтико)           hub/webdev   \n",
       "2                 Вячеслав Голованов        hub/lifehacks   \n",
       "3               Михаил Серебренников       hub/mobile_dev   \n",
       "4                    Анатолий Ализар  hub/social_networks   \n",
       "\n",
       "                                                 png            nick  \\\n",
       "0  https://habrastorage.org/getpro/habr/post_imag...            None   \n",
       "1  https://habrastorage.org/getpro/habr/post_imag...            None   \n",
       "2  https://habrastorage.org/getpro/geektimes/post...          @SLY_G   \n",
       "3  https://habrastorage.org/files/3b3/866/f3f/3b3...  @aleusessentia   \n",
       "4  https://habrastorage.org/getpro/geektimes/post...         @alizar   \n",
       "\n",
       "                                           url  \\\n",
       "0  https://habrahabr.ru/company/jetinfosystems   \n",
       "1      https://habrahabr.ru/company/oleg-bunin   \n",
       "2             https://geektimes.ru/users/SLY_G   \n",
       "3     https://habrahabr.ru/users/aleusessentia   \n",
       "4            https://geektimes.ru/users/alizar   \n",
       "\n",
       "                                             content  \n",
       "0  Мы уже успели истереть в кровь указательные па...  \n",
       "1  <img src=\"https://habrastorage.org/getpro/habr...  \n",
       "2  <img src=\"https://habrastorage.org/getpro/geek...  \n",
       "3  <p>Я использую Qt в разработке уже более 6 лет...  \n",
       "4  <img src=\"https://habrastorage.org/getpro/geek...  "
      ]
     },
     "execution_count": 39,
     "metadata": {},
     "output_type": "execute_result"
    }
   ],
   "source": [
    "frame.columns = ['_id', 'date', 'tags','title','hubs_title','description','name','hub','png','nick','url','content']\n",
    "print(frame.shape)\n",
    "frame.to_csv('data/test_content.csv',index=False)\n",
    "frame.head()"
   ]
  },
  {
   "cell_type": "markdown",
   "metadata": {},
   "source": [
    "# DATAPrep"
   ]
  },
  {
   "cell_type": "code",
   "execution_count": 3,
   "metadata": {
    "collapsed": false
   },
   "outputs": [
    {
     "name": "stdout",
     "output_type": "stream",
     "text": [
      "(172913, 13) (5405, 12)\n"
     ]
    },
    {
     "data": {
      "text/html": [
       "<div>\n",
       "<table border=\"1\" class=\"dataframe\">\n",
       "  <thead>\n",
       "    <tr style=\"text-align: right;\">\n",
       "      <th></th>\n",
       "      <th>_id</th>\n",
       "      <th>date</th>\n",
       "      <th>tags</th>\n",
       "      <th>title</th>\n",
       "      <th>hubs_title</th>\n",
       "      <th>description</th>\n",
       "      <th>name</th>\n",
       "      <th>hub</th>\n",
       "      <th>png</th>\n",
       "      <th>nick</th>\n",
       "      <th>url</th>\n",
       "      <th>content</th>\n",
       "      <th>favs_lognorm</th>\n",
       "    </tr>\n",
       "  </thead>\n",
       "  <tbody>\n",
       "    <tr>\n",
       "      <th>0</th>\n",
       "      <td>https://geektimes.ru/post/21866/</td>\n",
       "      <td>2008-03-17T18:55:00.000Z</td>\n",
       "      <td>['eeepc', 'asus', 'ЭТО', 'эльдорадо', 'ура']</td>\n",
       "      <td>eeePC в продаже. Да. Правда.</td>\n",
       "      <td>Железо</td>\n",
       "      <td>Итак, если 3 дня назад я отписался то что в пр...</td>\n",
       "      <td>Сергей 'pokatusher'</td>\n",
       "      <td>hub/hardware</td>\n",
       "      <td>https://habrastorage.org/getpro/habr/olpicture...</td>\n",
       "      <td>@M_org</td>\n",
       "      <td>https://geektimes.ru/users/M_org</td>\n",
       "      <td>Итак, если 3 дня назад я &lt;a href=\"http://habra...</td>\n",
       "      <td>2.484907</td>\n",
       "    </tr>\n",
       "    <tr>\n",
       "      <th>1</th>\n",
       "      <td>https://habrahabr.ru/company/aladdinrd/blog/30...</td>\n",
       "      <td>2016-06-24T13:02:00.000Z</td>\n",
       "      <td>['Интеграция', 'шифрование', 'Windows', 'Win32...</td>\n",
       "      <td>«Разрубить Гордиев узел» или преодоление пробл...</td>\n",
       "      <td>Системное программирование</td>\n",
       "      <td>Современная операционная система это сложный и...</td>\n",
       "      <td>Аладдин Р.Д.</td>\n",
       "      <td>hub/system_programming</td>\n",
       "      <td>https://habrastorage.org/files/cbd/cf9/5ff/cbd...</td>\n",
       "      <td>NaN</td>\n",
       "      <td>https://habrahabr.ru/company/aladdinrd</td>\n",
       "      <td>Современная операционная система это сложный и...</td>\n",
       "      <td>4.174387</td>\n",
       "    </tr>\n",
       "    <tr>\n",
       "      <th>2</th>\n",
       "      <td>https://geektimes.ru/post/92887/</td>\n",
       "      <td>2010-05-06T10:00:00.000Z</td>\n",
       "      <td>['mc', 'midnight commander', 'diffview', 'merg...</td>\n",
       "      <td>Релиз Midnight Commander 4.7.2 и 4.7.0.5</td>\n",
       "      <td>Чёрная дыра</td>\n",
       "      <td>Спустя 2 месяца упорных трудов вышла новая вер...</td>\n",
       "      <td>Илья Маслаков</td>\n",
       "      <td>hub/closet</td>\n",
       "      <td>https://geektimes.ru/images/logo.png</td>\n",
       "      <td>@smind</td>\n",
       "      <td>https://geektimes.ru/users/smind</td>\n",
       "      <td>Спустя 2 месяца упорных трудов вышла новая вер...</td>\n",
       "      <td>0.000000</td>\n",
       "    </tr>\n",
       "    <tr>\n",
       "      <th>3</th>\n",
       "      <td>https://habrahabr.ru/post/290824/</td>\n",
       "      <td>2015-05-22T11:01:00.000Z</td>\n",
       "      <td>['бизнес-модель', 'бизнес-моделирование']</td>\n",
       "      <td>7 шагов для постройки правильной бизнес-модели</td>\n",
       "      <td>Интернет-маркетинг</td>\n",
       "      <td>Большинство IT предпринимателей сосредотачиваю...</td>\n",
       "      <td>Александр</td>\n",
       "      <td>hub/internetmarketing</td>\n",
       "      <td>https://habrastorage.org/files/50e/211/9a0/50e...</td>\n",
       "      <td>@jasiejames</td>\n",
       "      <td>https://habrahabr.ru/users/jasiejames</td>\n",
       "      <td>&lt;img src=\"https://habrastorage.org/files/50e/2...</td>\n",
       "      <td>3.496508</td>\n",
       "    </tr>\n",
       "    <tr>\n",
       "      <th>4</th>\n",
       "      <td>https://habrahabr.ru/post/190088/</td>\n",
       "      <td>2014-09-04T00:32:00.000Z</td>\n",
       "      <td>['python', 'flask', 'mongodb', 'pet-project']</td>\n",
       "      <td>Thunderargs: практика использования. Часть 2</td>\n",
       "      <td>Программирование</td>\n",
       "      <td>История создания Часть 1  Добрый день. Вкратце...</td>\n",
       "      <td>Данияр Супиев</td>\n",
       "      <td>hub/programming</td>\n",
       "      <td>https://habrahabr.ru/i/habralogo.jpg</td>\n",
       "      <td>@uthunderbird</td>\n",
       "      <td>https://habrahabr.ru/users/uthunderbird</td>\n",
       "      <td>&lt;a href=\"http://habrahabr.ru/post/223041/\"&gt;Ист...</td>\n",
       "      <td>3.688879</td>\n",
       "    </tr>\n",
       "  </tbody>\n",
       "</table>\n",
       "</div>"
      ],
      "text/plain": [
       "                                                 _id  \\\n",
       "0                   https://geektimes.ru/post/21866/   \n",
       "1  https://habrahabr.ru/company/aladdinrd/blog/30...   \n",
       "2                   https://geektimes.ru/post/92887/   \n",
       "3                  https://habrahabr.ru/post/290824/   \n",
       "4                  https://habrahabr.ru/post/190088/   \n",
       "\n",
       "                       date  \\\n",
       "0  2008-03-17T18:55:00.000Z   \n",
       "1  2016-06-24T13:02:00.000Z   \n",
       "2  2010-05-06T10:00:00.000Z   \n",
       "3  2015-05-22T11:01:00.000Z   \n",
       "4  2014-09-04T00:32:00.000Z   \n",
       "\n",
       "                                                tags  \\\n",
       "0       ['eeepc', 'asus', 'ЭТО', 'эльдорадо', 'ура']   \n",
       "1  ['Интеграция', 'шифрование', 'Windows', 'Win32...   \n",
       "2  ['mc', 'midnight commander', 'diffview', 'merg...   \n",
       "3          ['бизнес-модель', 'бизнес-моделирование']   \n",
       "4      ['python', 'flask', 'mongodb', 'pet-project']   \n",
       "\n",
       "                                               title  \\\n",
       "0                       eeePC в продаже. Да. Правда.   \n",
       "1  «Разрубить Гордиев узел» или преодоление пробл...   \n",
       "2           Релиз Midnight Commander 4.7.2 и 4.7.0.5   \n",
       "3     7 шагов для постройки правильной бизнес-модели   \n",
       "4       Thunderargs: практика использования. Часть 2   \n",
       "\n",
       "                   hubs_title  \\\n",
       "0                      Железо   \n",
       "1  Системное программирование   \n",
       "2                 Чёрная дыра   \n",
       "3          Интернет-маркетинг   \n",
       "4            Программирование   \n",
       "\n",
       "                                         description                 name  \\\n",
       "0  Итак, если 3 дня назад я отписался то что в пр...  Сергей 'pokatusher'   \n",
       "1  Современная операционная система это сложный и...         Аладдин Р.Д.   \n",
       "2  Спустя 2 месяца упорных трудов вышла новая вер...        Илья Маслаков   \n",
       "3  Большинство IT предпринимателей сосредотачиваю...            Александр   \n",
       "4  История создания Часть 1  Добрый день. Вкратце...        Данияр Супиев   \n",
       "\n",
       "                      hub                                                png  \\\n",
       "0            hub/hardware  https://habrastorage.org/getpro/habr/olpicture...   \n",
       "1  hub/system_programming  https://habrastorage.org/files/cbd/cf9/5ff/cbd...   \n",
       "2              hub/closet               https://geektimes.ru/images/logo.png   \n",
       "3   hub/internetmarketing  https://habrastorage.org/files/50e/211/9a0/50e...   \n",
       "4         hub/programming               https://habrahabr.ru/i/habralogo.jpg   \n",
       "\n",
       "            nick                                      url  \\\n",
       "0         @M_org         https://geektimes.ru/users/M_org   \n",
       "1            NaN   https://habrahabr.ru/company/aladdinrd   \n",
       "2         @smind         https://geektimes.ru/users/smind   \n",
       "3    @jasiejames    https://habrahabr.ru/users/jasiejames   \n",
       "4  @uthunderbird  https://habrahabr.ru/users/uthunderbird   \n",
       "\n",
       "                                             content  favs_lognorm  \n",
       "0  Итак, если 3 дня назад я <a href=\"http://habra...      2.484907  \n",
       "1  Современная операционная система это сложный и...      4.174387  \n",
       "2  Спустя 2 месяца упорных трудов вышла новая вер...      0.000000  \n",
       "3  <img src=\"https://habrastorage.org/files/50e/2...      3.496508  \n",
       "4  <a href=\"http://habrahabr.ru/post/223041/\">Ист...      3.688879  "
      ]
     },
     "execution_count": 3,
     "metadata": {},
     "output_type": "execute_result"
    }
   ],
   "source": [
    "Xtrain = pd.read_csv('data/train_content.csv')\n",
    "Xtest = pd.read_csv('data/test_content.csv')\n",
    "print(Xtrain.shape,Xtest.shape)\n",
    "Xtrain.head()"
   ]
  },
  {
   "cell_type": "code",
   "execution_count": 15,
   "metadata": {
    "collapsed": false
   },
   "outputs": [
    {
     "data": {
      "text/plain": [
       "0"
      ]
     },
     "execution_count": 15,
     "metadata": {},
     "output_type": "execute_result"
    }
   ],
   "source": [
    "Xtrain.favs_lognorm.isnull().sum()"
   ]
  },
  {
   "cell_type": "code",
   "execution_count": 11,
   "metadata": {
    "collapsed": false
   },
   "outputs": [
    {
     "data": {
      "text/html": [
       "<div>\n",
       "<table border=\"1\" class=\"dataframe\">\n",
       "  <thead>\n",
       "    <tr style=\"text-align: right;\">\n",
       "      <th></th>\n",
       "      <th>_id</th>\n",
       "      <th>date</th>\n",
       "      <th>tags</th>\n",
       "      <th>title</th>\n",
       "      <th>hubs_title</th>\n",
       "      <th>description</th>\n",
       "      <th>name</th>\n",
       "      <th>hub</th>\n",
       "      <th>png</th>\n",
       "      <th>nick</th>\n",
       "      <th>url</th>\n",
       "      <th>content</th>\n",
       "      <th>favs_lognorm</th>\n",
       "      <th>med</th>\n",
       "    </tr>\n",
       "  </thead>\n",
       "  <tbody>\n",
       "    <tr>\n",
       "      <th>0</th>\n",
       "      <td>https://geektimes.ru/post/21866/</td>\n",
       "      <td>2008-03-17T18:55:00.000Z</td>\n",
       "      <td>['eeepc', 'asus', 'ЭТО', 'эльдорадо', 'ура']</td>\n",
       "      <td>eeePC в продаже. Да. Правда.</td>\n",
       "      <td>Железо</td>\n",
       "      <td>Итак, если 3 дня назад я отписался то что в пр...</td>\n",
       "      <td>Сергей 'pokatusher'</td>\n",
       "      <td>hub/hardware</td>\n",
       "      <td>https://habrastorage.org/getpro/habr/olpicture...</td>\n",
       "      <td>@M_org</td>\n",
       "      <td>https://geektimes.ru/users/M_org</td>\n",
       "      <td>Итак, если 3 дня назад я &lt;a href=\"http://habra...</td>\n",
       "      <td>2.484907</td>\n",
       "      <td>1.375467</td>\n",
       "    </tr>\n",
       "    <tr>\n",
       "      <th>1</th>\n",
       "      <td>https://habrahabr.ru/company/aladdinrd/blog/30...</td>\n",
       "      <td>2016-06-24T13:02:00.000Z</td>\n",
       "      <td>['Интеграция', 'шифрование', 'Windows', 'Win32...</td>\n",
       "      <td>«Разрубить Гордиев узел» или преодоление пробл...</td>\n",
       "      <td>Системное программирование</td>\n",
       "      <td>Современная операционная система это сложный и...</td>\n",
       "      <td>Аладдин Р.Д.</td>\n",
       "      <td>hub/system_programming</td>\n",
       "      <td>https://habrastorage.org/files/cbd/cf9/5ff/cbd...</td>\n",
       "      <td>NaN</td>\n",
       "      <td>https://habrahabr.ru/company/aladdinrd</td>\n",
       "      <td>Современная операционная система это сложный и...</td>\n",
       "      <td>4.174387</td>\n",
       "      <td>NaN</td>\n",
       "    </tr>\n",
       "    <tr>\n",
       "      <th>2</th>\n",
       "      <td>https://geektimes.ru/post/92887/</td>\n",
       "      <td>2010-05-06T10:00:00.000Z</td>\n",
       "      <td>['mc', 'midnight commander', 'diffview', 'merg...</td>\n",
       "      <td>Релиз Midnight Commander 4.7.2 и 4.7.0.5</td>\n",
       "      <td>Чёрная дыра</td>\n",
       "      <td>Спустя 2 месяца упорных трудов вышла новая вер...</td>\n",
       "      <td>Илья Маслаков</td>\n",
       "      <td>hub/closet</td>\n",
       "      <td>https://geektimes.ru/images/logo.png</td>\n",
       "      <td>@smind</td>\n",
       "      <td>https://geektimes.ru/users/smind</td>\n",
       "      <td>Спустя 2 месяца упорных трудов вышла новая вер...</td>\n",
       "      <td>0.000000</td>\n",
       "      <td>2.662966</td>\n",
       "    </tr>\n",
       "    <tr>\n",
       "      <th>3</th>\n",
       "      <td>https://habrahabr.ru/post/290824/</td>\n",
       "      <td>2015-05-22T11:01:00.000Z</td>\n",
       "      <td>['бизнес-модель', 'бизнес-моделирование']</td>\n",
       "      <td>7 шагов для постройки правильной бизнес-модели</td>\n",
       "      <td>Интернет-маркетинг</td>\n",
       "      <td>Большинство IT предпринимателей сосредотачиваю...</td>\n",
       "      <td>Александр</td>\n",
       "      <td>hub/internetmarketing</td>\n",
       "      <td>https://habrastorage.org/files/50e/211/9a0/50e...</td>\n",
       "      <td>@jasiejames</td>\n",
       "      <td>https://habrahabr.ru/users/jasiejames</td>\n",
       "      <td>&lt;img src=\"https://habrastorage.org/files/50e/2...</td>\n",
       "      <td>3.496508</td>\n",
       "      <td>2.188905</td>\n",
       "    </tr>\n",
       "    <tr>\n",
       "      <th>4</th>\n",
       "      <td>https://habrahabr.ru/post/190088/</td>\n",
       "      <td>2014-09-04T00:32:00.000Z</td>\n",
       "      <td>['python', 'flask', 'mongodb', 'pet-project']</td>\n",
       "      <td>Thunderargs: практика использования. Часть 2</td>\n",
       "      <td>Программирование</td>\n",
       "      <td>История создания Часть 1  Добрый день. Вкратце...</td>\n",
       "      <td>Данияр Супиев</td>\n",
       "      <td>hub/programming</td>\n",
       "      <td>https://habrahabr.ru/i/habralogo.jpg</td>\n",
       "      <td>@uthunderbird</td>\n",
       "      <td>https://habrahabr.ru/users/uthunderbird</td>\n",
       "      <td>&lt;a href=\"http://habrahabr.ru/post/223041/\"&gt;Ист...</td>\n",
       "      <td>3.688879</td>\n",
       "      <td>3.656210</td>\n",
       "    </tr>\n",
       "  </tbody>\n",
       "</table>\n",
       "</div>"
      ],
      "text/plain": [
       "                                                 _id  \\\n",
       "0                   https://geektimes.ru/post/21866/   \n",
       "1  https://habrahabr.ru/company/aladdinrd/blog/30...   \n",
       "2                   https://geektimes.ru/post/92887/   \n",
       "3                  https://habrahabr.ru/post/290824/   \n",
       "4                  https://habrahabr.ru/post/190088/   \n",
       "\n",
       "                       date  \\\n",
       "0  2008-03-17T18:55:00.000Z   \n",
       "1  2016-06-24T13:02:00.000Z   \n",
       "2  2010-05-06T10:00:00.000Z   \n",
       "3  2015-05-22T11:01:00.000Z   \n",
       "4  2014-09-04T00:32:00.000Z   \n",
       "\n",
       "                                                tags  \\\n",
       "0       ['eeepc', 'asus', 'ЭТО', 'эльдорадо', 'ура']   \n",
       "1  ['Интеграция', 'шифрование', 'Windows', 'Win32...   \n",
       "2  ['mc', 'midnight commander', 'diffview', 'merg...   \n",
       "3          ['бизнес-модель', 'бизнес-моделирование']   \n",
       "4      ['python', 'flask', 'mongodb', 'pet-project']   \n",
       "\n",
       "                                               title  \\\n",
       "0                       eeePC в продаже. Да. Правда.   \n",
       "1  «Разрубить Гордиев узел» или преодоление пробл...   \n",
       "2           Релиз Midnight Commander 4.7.2 и 4.7.0.5   \n",
       "3     7 шагов для постройки правильной бизнес-модели   \n",
       "4       Thunderargs: практика использования. Часть 2   \n",
       "\n",
       "                   hubs_title  \\\n",
       "0                      Железо   \n",
       "1  Системное программирование   \n",
       "2                 Чёрная дыра   \n",
       "3          Интернет-маркетинг   \n",
       "4            Программирование   \n",
       "\n",
       "                                         description                 name  \\\n",
       "0  Итак, если 3 дня назад я отписался то что в пр...  Сергей 'pokatusher'   \n",
       "1  Современная операционная система это сложный и...         Аладдин Р.Д.   \n",
       "2  Спустя 2 месяца упорных трудов вышла новая вер...        Илья Маслаков   \n",
       "3  Большинство IT предпринимателей сосредотачиваю...            Александр   \n",
       "4  История создания Часть 1  Добрый день. Вкратце...        Данияр Супиев   \n",
       "\n",
       "                      hub                                                png  \\\n",
       "0            hub/hardware  https://habrastorage.org/getpro/habr/olpicture...   \n",
       "1  hub/system_programming  https://habrastorage.org/files/cbd/cf9/5ff/cbd...   \n",
       "2              hub/closet               https://geektimes.ru/images/logo.png   \n",
       "3   hub/internetmarketing  https://habrastorage.org/files/50e/211/9a0/50e...   \n",
       "4         hub/programming               https://habrahabr.ru/i/habralogo.jpg   \n",
       "\n",
       "            nick                                      url  \\\n",
       "0         @M_org         https://geektimes.ru/users/M_org   \n",
       "1            NaN   https://habrahabr.ru/company/aladdinrd   \n",
       "2         @smind         https://geektimes.ru/users/smind   \n",
       "3    @jasiejames    https://habrahabr.ru/users/jasiejames   \n",
       "4  @uthunderbird  https://habrahabr.ru/users/uthunderbird   \n",
       "\n",
       "                                             content  favs_lognorm       med  \n",
       "0  Итак, если 3 дня назад я <a href=\"http://habra...      2.484907  1.375467  \n",
       "1  Современная операционная система это сложный и...      4.174387       NaN  \n",
       "2  Спустя 2 месяца упорных трудов вышла новая вер...      0.000000  2.662966  \n",
       "3  <img src=\"https://habrastorage.org/files/50e/2...      3.496508  2.188905  \n",
       "4  <a href=\"http://habrahabr.ru/post/223041/\">Ист...      3.688879  3.656210  "
      ]
     },
     "execution_count": 11,
     "metadata": {},
     "output_type": "execute_result"
    }
   ],
   "source": [
    "Xtrain['med'] = Xtrain.groupby(['nick'])['favs_lognorm'].transform(np.mean)\n",
    "m = Xtrain.favs_lognorm.median()\n",
    "med = np.ones(len(Xtrain))*m\n",
    "mean_squared_error(Xtrain.favs_lognorm, med)\n",
    "mean_squared_error(Xtrain.favs_lognorm, Xtrain.med.fillna(m))\n",
    "Xtrain.head()"
   ]
  },
  {
   "cell_type": "code",
   "execution_count": 43,
   "metadata": {
    "collapsed": false
   },
   "outputs": [
    {
     "data": {
      "text/plain": [
       "(26671, 1422)"
      ]
     },
     "execution_count": 43,
     "metadata": {},
     "output_type": "execute_result"
    }
   ],
   "source": [
    "len(set(Xtrain['nick'])),len(set(Xtest['nick']))"
   ]
  },
  {
   "cell_type": "code",
   "execution_count": 46,
   "metadata": {
    "collapsed": false
   },
   "outputs": [
    {
     "data": {
      "text/plain": [
       "(45294, 1833)"
      ]
     },
     "execution_count": 46,
     "metadata": {},
     "output_type": "execute_result"
    }
   ],
   "source": [
    "len(set(Xtrain['url'])),len(set(Xtest['url']))"
   ]
  },
  {
   "cell_type": "code",
   "execution_count": 48,
   "metadata": {
    "collapsed": false
   },
   "outputs": [
    {
     "data": {
      "text/plain": [
       "(16141, 1074)"
      ]
     },
     "execution_count": 48,
     "metadata": {},
     "output_type": "execute_result"
    }
   ],
   "source": [
    "len(set(Xtrain['name'])),len(set(Xtest['name']))"
   ]
  },
  {
   "cell_type": "code",
   "execution_count": 45,
   "metadata": {
    "collapsed": false
   },
   "outputs": [
    {
     "data": {
      "text/plain": [
       "822"
      ]
     },
     "execution_count": 45,
     "metadata": {},
     "output_type": "execute_result"
    }
   ],
   "source": [
    "len(set(Xtrain['nick']) & set(Xtest['nick']))"
   ]
  },
  {
   "cell_type": "code",
   "execution_count": 47,
   "metadata": {
    "collapsed": false
   },
   "outputs": [
    {
     "data": {
      "text/plain": [
       "1040"
      ]
     },
     "execution_count": 47,
     "metadata": {},
     "output_type": "execute_result"
    }
   ],
   "source": [
    "len(set(Xtrain['url']) & set(Xtest['url']))"
   ]
  },
  {
   "cell_type": "code",
   "execution_count": 49,
   "metadata": {
    "collapsed": false
   },
   "outputs": [
    {
     "data": {
      "text/plain": [
       "777"
      ]
     },
     "execution_count": 49,
     "metadata": {},
     "output_type": "execute_result"
    }
   ],
   "source": [
    "len(set(Xtrain['name']) & set(Xtest['name']))"
   ]
  },
  {
   "cell_type": "code",
   "execution_count": 22,
   "metadata": {
    "collapsed": false
   },
   "outputs": [
    {
     "data": {
      "text/plain": [
       "((172913, 14), (5405, 13), (178318, 14))"
      ]
     },
     "execution_count": 22,
     "metadata": {},
     "output_type": "execute_result"
    }
   ],
   "source": [
    "Xtest['favs_lognorm'] = -1\n",
    "data = pd.concat([Xtrain,Xtest],axis = 0,ignore_index = True)\n",
    "Xtrain.shape,Xtest.shape,data.shape"
   ]
  },
  {
   "cell_type": "code",
   "execution_count": 26,
   "metadata": {
    "collapsed": false
   },
   "outputs": [
    {
     "data": {
      "text/plain": [
       "(6, 800, 72)"
      ]
     },
     "execution_count": 26,
     "metadata": {},
     "output_type": "execute_result"
    }
   ],
   "source": [
    "2,1000,50\n",
    "6,800,72#test len tags"
   ]
  },
  {
   "cell_type": "code",
   "execution_count": 5,
   "metadata": {
    "collapsed": false
   },
   "outputs": [
    {
     "data": {
      "text/plain": [
       "(2.8022948813630992, 2.8903717578961645)"
      ]
     },
     "execution_count": 5,
     "metadata": {},
     "output_type": "execute_result"
    }
   ],
   "source": [
    "Xtrain['favs_lognorm'].mean(),Xtrain['favs_lognorm'].median()"
   ]
  },
  {
   "cell_type": "code",
   "execution_count": 23,
   "metadata": {
    "collapsed": true
   },
   "outputs": [],
   "source": [
    "from sklearn.metrics import mean_squared_error\n",
    "from gensim.models import word2vec"
   ]
  },
  {
   "cell_type": "code",
   "execution_count": 30,
   "metadata": {
    "collapsed": true
   },
   "outputs": [],
   "source": [
    "from sklearn.feature_extraction.text import TfidfVectorizer\n",
    "from collections import defaultdict\n",
    "\n",
    "class tfidf_vectorizer(object):\n",
    "    def __init__(self, word2vec):\n",
    "        self.word2vec = word2vec\n",
    "        self.word2weight = None\n",
    "        self.dim = len(next(iter(w2v.values())))\n",
    "\n",
    "    def fit(self, X):\n",
    "        tfidf = TfidfVectorizer(analyzer=lambda x: x)\n",
    "        tfidf.fit(X)\n",
    "        # if a word was never seen - it must be at least as infrequent\n",
    "        # as any of the known words - so the default idf is the max of \n",
    "        # known idf's\n",
    "        max_idf = max(tfidf.idf_)\n",
    "        self.word2weight = defaultdict(\n",
    "            lambda: max_idf,\n",
    "            [(w, tfidf.idf_[i]) for w, i in tfidf.vocabulary_.items()])\n",
    "\n",
    "        return self\n",
    "\n",
    "    def transform(self, X):\n",
    "        return np.array([\n",
    "                np.mean([self.word2vec[w] * self.word2weight[w]\n",
    "                         for w in words if w in self.word2vec] or\n",
    "                        [np.zeros(self.dim)], axis=0)\n",
    "                for words in X\n",
    "            ])"
   ]
  },
  {
   "cell_type": "markdown",
   "metadata": {},
   "source": [
    "# w2v on tags"
   ]
  },
  {
   "cell_type": "code",
   "execution_count": 218,
   "metadata": {
    "collapsed": true
   },
   "outputs": [],
   "source": [
    "model = word2vec.Word2Vec(data['descr_clear'], size=200, window=10, workers=4)\n",
    "w2v = dict(zip(model.wv.index2word, model.wv.syn0))"
   ]
  },
  {
   "cell_type": "code",
   "execution_count": null,
   "metadata": {
    "collapsed": true
   },
   "outputs": [],
   "source": [
    "#tags,descr_clear"
   ]
  },
  {
   "cell_type": "markdown",
   "metadata": {},
   "source": [
    "# Description"
   ]
  },
  {
   "cell_type": "code",
   "execution_count": 123,
   "metadata": {
    "collapsed": false
   },
   "outputs": [
    {
     "data": {
      "text/html": [
       "<div>\n",
       "<table border=\"1\" class=\"dataframe\">\n",
       "  <thead>\n",
       "    <tr style=\"text-align: right;\">\n",
       "      <th></th>\n",
       "      <th>_id</th>\n",
       "      <th>date</th>\n",
       "      <th>tags</th>\n",
       "      <th>title</th>\n",
       "      <th>hubs_title</th>\n",
       "      <th>description</th>\n",
       "      <th>favs_lognorm</th>\n",
       "      <th>year</th>\n",
       "      <th>month</th>\n",
       "      <th>day</th>\n",
       "      <th>hour</th>\n",
       "      <th>minut</th>\n",
       "    </tr>\n",
       "  </thead>\n",
       "  <tbody>\n",
       "    <tr>\n",
       "      <th>0</th>\n",
       "      <td>https://geektimes.ru/post/21866/</td>\n",
       "      <td>2008-03-17T18:55:00.000Z</td>\n",
       "      <td>['eeepc', 'asus', 'ЭТО', 'эльдорадо', 'ура']</td>\n",
       "      <td>eeePC в продаже. Да. Правда.</td>\n",
       "      <td>Железо</td>\n",
       "      <td>Итак, если 3 дня назад я отписался то что в пр...</td>\n",
       "      <td>2.484907</td>\n",
       "      <td>2008</td>\n",
       "      <td>3</td>\n",
       "      <td>17</td>\n",
       "      <td>18</td>\n",
       "      <td>55</td>\n",
       "    </tr>\n",
       "    <tr>\n",
       "      <th>1</th>\n",
       "      <td>https://habrahabr.ru/company/aladdinrd/blog/30...</td>\n",
       "      <td>2016-06-24T13:02:00.000Z</td>\n",
       "      <td>['Интеграция', 'шифрование', 'Windows', 'Win32...</td>\n",
       "      <td>«Разрубить Гордиев узел» или преодоление пробл...</td>\n",
       "      <td>Системное программирование</td>\n",
       "      <td>Современная операционная система это сложный и...</td>\n",
       "      <td>4.174387</td>\n",
       "      <td>2016</td>\n",
       "      <td>6</td>\n",
       "      <td>24</td>\n",
       "      <td>13</td>\n",
       "      <td>2</td>\n",
       "    </tr>\n",
       "    <tr>\n",
       "      <th>2</th>\n",
       "      <td>https://geektimes.ru/post/92887/</td>\n",
       "      <td>2010-05-06T10:00:00.000Z</td>\n",
       "      <td>['mc', 'midnight commander', 'diffview', 'merg...</td>\n",
       "      <td>Релиз Midnight Commander 4.7.2 и 4.7.0.5</td>\n",
       "      <td>Чёрная дыра</td>\n",
       "      <td>Спустя 2 месяца упорных трудов вышла новая вер...</td>\n",
       "      <td>0.000000</td>\n",
       "      <td>2010</td>\n",
       "      <td>5</td>\n",
       "      <td>6</td>\n",
       "      <td>10</td>\n",
       "      <td>0</td>\n",
       "    </tr>\n",
       "    <tr>\n",
       "      <th>3</th>\n",
       "      <td>https://habrahabr.ru/post/290824/</td>\n",
       "      <td>2015-05-22T11:01:00.000Z</td>\n",
       "      <td>['бизнес-модель', 'бизнес-моделирование']</td>\n",
       "      <td>7 шагов для постройки правильной бизнес-модели</td>\n",
       "      <td>Интернет-маркетинг</td>\n",
       "      <td>Большинство IT предпринимателей сосредотачиваю...</td>\n",
       "      <td>3.496508</td>\n",
       "      <td>2015</td>\n",
       "      <td>5</td>\n",
       "      <td>22</td>\n",
       "      <td>11</td>\n",
       "      <td>1</td>\n",
       "    </tr>\n",
       "    <tr>\n",
       "      <th>4</th>\n",
       "      <td>https://habrahabr.ru/post/190088/</td>\n",
       "      <td>2014-09-04T00:32:00.000Z</td>\n",
       "      <td>['python', 'flask', 'mongodb', 'pet-project']</td>\n",
       "      <td>Thunderargs: практика использования. Часть 2</td>\n",
       "      <td>Программирование</td>\n",
       "      <td>История создания Часть 1  Добрый день. Вкратце...</td>\n",
       "      <td>3.688879</td>\n",
       "      <td>2014</td>\n",
       "      <td>9</td>\n",
       "      <td>4</td>\n",
       "      <td>0</td>\n",
       "      <td>32</td>\n",
       "    </tr>\n",
       "  </tbody>\n",
       "</table>\n",
       "</div>"
      ],
      "text/plain": [
       "                                                 _id  \\\n",
       "0                   https://geektimes.ru/post/21866/   \n",
       "1  https://habrahabr.ru/company/aladdinrd/blog/30...   \n",
       "2                   https://geektimes.ru/post/92887/   \n",
       "3                  https://habrahabr.ru/post/290824/   \n",
       "4                  https://habrahabr.ru/post/190088/   \n",
       "\n",
       "                       date  \\\n",
       "0  2008-03-17T18:55:00.000Z   \n",
       "1  2016-06-24T13:02:00.000Z   \n",
       "2  2010-05-06T10:00:00.000Z   \n",
       "3  2015-05-22T11:01:00.000Z   \n",
       "4  2014-09-04T00:32:00.000Z   \n",
       "\n",
       "                                                tags  \\\n",
       "0       ['eeepc', 'asus', 'ЭТО', 'эльдорадо', 'ура']   \n",
       "1  ['Интеграция', 'шифрование', 'Windows', 'Win32...   \n",
       "2  ['mc', 'midnight commander', 'diffview', 'merg...   \n",
       "3          ['бизнес-модель', 'бизнес-моделирование']   \n",
       "4      ['python', 'flask', 'mongodb', 'pet-project']   \n",
       "\n",
       "                                               title  \\\n",
       "0                       eeePC в продаже. Да. Правда.   \n",
       "1  «Разрубить Гордиев узел» или преодоление пробл...   \n",
       "2           Релиз Midnight Commander 4.7.2 и 4.7.0.5   \n",
       "3     7 шагов для постройки правильной бизнес-модели   \n",
       "4       Thunderargs: практика использования. Часть 2   \n",
       "\n",
       "                   hubs_title  \\\n",
       "0                      Железо   \n",
       "1  Системное программирование   \n",
       "2                 Чёрная дыра   \n",
       "3          Интернет-маркетинг   \n",
       "4            Программирование   \n",
       "\n",
       "                                         description  favs_lognorm  year  \\\n",
       "0  Итак, если 3 дня назад я отписался то что в пр...      2.484907  2008   \n",
       "1  Современная операционная система это сложный и...      4.174387  2016   \n",
       "2  Спустя 2 месяца упорных трудов вышла новая вер...      0.000000  2010   \n",
       "3  Большинство IT предпринимателей сосредотачиваю...      3.496508  2015   \n",
       "4  История создания Часть 1  Добрый день. Вкратце...      3.688879  2014   \n",
       "\n",
       "   month  day  hour  minut  \n",
       "0      3   17    18     55  \n",
       "1      6   24    13      2  \n",
       "2      5    6    10      0  \n",
       "3      5   22    11      1  \n",
       "4      9    4     0     32  "
      ]
     },
     "execution_count": 123,
     "metadata": {},
     "output_type": "execute_result"
    }
   ],
   "source": [
    "data.head()"
   ]
  },
  {
   "cell_type": "code",
   "execution_count": null,
   "metadata": {
    "collapsed": true
   },
   "outputs": [],
   "source": []
  },
  {
   "cell_type": "code",
   "execution_count": 2,
   "metadata": {
    "collapsed": true
   },
   "outputs": [],
   "source": [
    "from bs4 import BeautifulSoup\n",
    "import re\n",
    "from nltk.corpus import stopwords\n",
    "import pymorphy2\n",
    "morph = pymorphy2.MorphAnalyzer()\n",
    "\n",
    "stops = set(stopwords.words(\"english\")) | set(stopwords.words(\"russian\"))\n",
    "def review_to_wordlist( review):\n",
    "    # Function to convert a document to a sequence of words,\n",
    "    # optionally removing stop words.  Returns a list of words.\n",
    "    #\n",
    "    # 1. Remove HTML\n",
    "    #review_text = BeautifulSoup(review).get_text()\n",
    "    #  \n",
    "    # 2. Remove non-letters\n",
    "    review_text = re.sub(\"[^а-яА-Яa-zA-Z]\",\" \", review)\n",
    "    #\n",
    "    # 3. Convert words to lower case and split them\n",
    "    words = review_text.lower().split()\n",
    "    #\n",
    "    # 4. Optionally remove stop words (false by default)\n",
    "    \n",
    "    words = [w for w in words if not w in stops]\n",
    "    #\n",
    "    #5.\n",
    "    words = [morph.parse(w)[0].normal_form for w in words ]\n",
    "    words = [w for w in words if not w in stops]\n",
    "    # 5. Return a list of words\n",
    "    return(words)"
   ]
  },
  {
   "cell_type": "code",
   "execution_count": null,
   "metadata": {
    "collapsed": true
   },
   "outputs": [],
   "source": []
  },
  {
   "cell_type": "code",
   "execution_count": 175,
   "metadata": {
    "collapsed": false
   },
   "outputs": [],
   "source": [
    "data['descr_clear'] = data['description'].apply(str)"
   ]
  },
  {
   "cell_type": "code",
   "execution_count": 176,
   "metadata": {
    "collapsed": false
   },
   "outputs": [
    {
     "name": "stdout",
     "output_type": "stream",
     "text": [
      "CPU times: user 1min 28s, sys: 368 ms, total: 1min 28s\n",
      "Wall time: 1min 28s\n"
     ]
    }
   ],
   "source": [
    "%%time\n",
    "data['descr_clear'] = data['descr_clear'].apply(review_to_wordlist)"
   ]
  },
  {
   "cell_type": "code",
   "execution_count": 181,
   "metadata": {
    "collapsed": false
   },
   "outputs": [
    {
     "data": {
      "text/html": [
       "<div>\n",
       "<table border=\"1\" class=\"dataframe\">\n",
       "  <thead>\n",
       "    <tr style=\"text-align: right;\">\n",
       "      <th></th>\n",
       "      <th>_id</th>\n",
       "      <th>date</th>\n",
       "      <th>tags</th>\n",
       "      <th>title</th>\n",
       "      <th>hubs_title</th>\n",
       "      <th>description</th>\n",
       "      <th>favs_lognorm</th>\n",
       "      <th>year</th>\n",
       "      <th>month</th>\n",
       "      <th>day</th>\n",
       "      <th>hour</th>\n",
       "      <th>minut</th>\n",
       "      <th>descr_clear</th>\n",
       "      <th>desc</th>\n",
       "    </tr>\n",
       "  </thead>\n",
       "  <tbody>\n",
       "    <tr>\n",
       "      <th>0</th>\n",
       "      <td>https://geektimes.ru/post/21866/</td>\n",
       "      <td>2008-03-17T18:55:00.000Z</td>\n",
       "      <td>['eeepc', 'asus', 'ЭТО', 'эльдорадо', 'ура']</td>\n",
       "      <td>eeePC в продаже. Да. Правда.</td>\n",
       "      <td>Железо</td>\n",
       "      <td>Итак, если 3 дня назад я отписался то что в пр...</td>\n",
       "      <td>2.484907</td>\n",
       "      <td>2008</td>\n",
       "      <td>3</td>\n",
       "      <td>17</td>\n",
       "      <td>18</td>\n",
       "      <td>55</td>\n",
       "      <td>[итак, день, назад, отписаться, продажа, появи...</td>\n",
       "      <td>итак день назад отписаться продажа появиться m...</td>\n",
       "    </tr>\n",
       "    <tr>\n",
       "      <th>1</th>\n",
       "      <td>https://habrahabr.ru/company/aladdinrd/blog/30...</td>\n",
       "      <td>2016-06-24T13:02:00.000Z</td>\n",
       "      <td>['Интеграция', 'шифрование', 'Windows', 'Win32...</td>\n",
       "      <td>«Разрубить Гордиев узел» или преодоление пробл...</td>\n",
       "      <td>Системное программирование</td>\n",
       "      <td>Современная операционная система это сложный и...</td>\n",
       "      <td>4.174387</td>\n",
       "      <td>2016</td>\n",
       "      <td>6</td>\n",
       "      <td>24</td>\n",
       "      <td>13</td>\n",
       "      <td>2</td>\n",
       "      <td>[современный, операционный, система, это, слож...</td>\n",
       "      <td>современный операционный система это сложный и...</td>\n",
       "    </tr>\n",
       "    <tr>\n",
       "      <th>2</th>\n",
       "      <td>https://geektimes.ru/post/92887/</td>\n",
       "      <td>2010-05-06T10:00:00.000Z</td>\n",
       "      <td>['mc', 'midnight commander', 'diffview', 'merg...</td>\n",
       "      <td>Релиз Midnight Commander 4.7.2 и 4.7.0.5</td>\n",
       "      <td>Чёрная дыра</td>\n",
       "      <td>Спустя 2 месяца упорных трудов вышла новая вер...</td>\n",
       "      <td>0.000000</td>\n",
       "      <td>2010</td>\n",
       "      <td>5</td>\n",
       "      <td>6</td>\n",
       "      <td>10</td>\n",
       "      <td>0</td>\n",
       "      <td>[спустя, месяц, упорный, труд, выйти, новый, в...</td>\n",
       "      <td>спустя месяц упорный труд выйти новый версия к...</td>\n",
       "    </tr>\n",
       "    <tr>\n",
       "      <th>3</th>\n",
       "      <td>https://habrahabr.ru/post/290824/</td>\n",
       "      <td>2015-05-22T11:01:00.000Z</td>\n",
       "      <td>['бизнес-модель', 'бизнес-моделирование']</td>\n",
       "      <td>7 шагов для постройки правильной бизнес-модели</td>\n",
       "      <td>Интернет-маркетинг</td>\n",
       "      <td>Большинство IT предпринимателей сосредотачиваю...</td>\n",
       "      <td>3.496508</td>\n",
       "      <td>2015</td>\n",
       "      <td>5</td>\n",
       "      <td>22</td>\n",
       "      <td>11</td>\n",
       "      <td>1</td>\n",
       "      <td>[большинство, предприниматель, сосредотачивать...</td>\n",
       "      <td>большинство предприниматель сосредотачиваться ...</td>\n",
       "    </tr>\n",
       "    <tr>\n",
       "      <th>4</th>\n",
       "      <td>https://habrahabr.ru/post/190088/</td>\n",
       "      <td>2014-09-04T00:32:00.000Z</td>\n",
       "      <td>['python', 'flask', 'mongodb', 'pet-project']</td>\n",
       "      <td>Thunderargs: практика использования. Часть 2</td>\n",
       "      <td>Программирование</td>\n",
       "      <td>История создания Часть 1  Добрый день. Вкратце...</td>\n",
       "      <td>3.688879</td>\n",
       "      <td>2014</td>\n",
       "      <td>9</td>\n",
       "      <td>4</td>\n",
       "      <td>0</td>\n",
       "      <td>32</td>\n",
       "      <td>[история, создание, часть, добрый, день, вкрат...</td>\n",
       "      <td>история создание часть добрый день вкратце нап...</td>\n",
       "    </tr>\n",
       "  </tbody>\n",
       "</table>\n",
       "</div>"
      ],
      "text/plain": [
       "                                                 _id  \\\n",
       "0                   https://geektimes.ru/post/21866/   \n",
       "1  https://habrahabr.ru/company/aladdinrd/blog/30...   \n",
       "2                   https://geektimes.ru/post/92887/   \n",
       "3                  https://habrahabr.ru/post/290824/   \n",
       "4                  https://habrahabr.ru/post/190088/   \n",
       "\n",
       "                       date  \\\n",
       "0  2008-03-17T18:55:00.000Z   \n",
       "1  2016-06-24T13:02:00.000Z   \n",
       "2  2010-05-06T10:00:00.000Z   \n",
       "3  2015-05-22T11:01:00.000Z   \n",
       "4  2014-09-04T00:32:00.000Z   \n",
       "\n",
       "                                                tags  \\\n",
       "0       ['eeepc', 'asus', 'ЭТО', 'эльдорадо', 'ура']   \n",
       "1  ['Интеграция', 'шифрование', 'Windows', 'Win32...   \n",
       "2  ['mc', 'midnight commander', 'diffview', 'merg...   \n",
       "3          ['бизнес-модель', 'бизнес-моделирование']   \n",
       "4      ['python', 'flask', 'mongodb', 'pet-project']   \n",
       "\n",
       "                                               title  \\\n",
       "0                       eeePC в продаже. Да. Правда.   \n",
       "1  «Разрубить Гордиев узел» или преодоление пробл...   \n",
       "2           Релиз Midnight Commander 4.7.2 и 4.7.0.5   \n",
       "3     7 шагов для постройки правильной бизнес-модели   \n",
       "4       Thunderargs: практика использования. Часть 2   \n",
       "\n",
       "                   hubs_title  \\\n",
       "0                      Железо   \n",
       "1  Системное программирование   \n",
       "2                 Чёрная дыра   \n",
       "3          Интернет-маркетинг   \n",
       "4            Программирование   \n",
       "\n",
       "                                         description  favs_lognorm  year  \\\n",
       "0  Итак, если 3 дня назад я отписался то что в пр...      2.484907  2008   \n",
       "1  Современная операционная система это сложный и...      4.174387  2016   \n",
       "2  Спустя 2 месяца упорных трудов вышла новая вер...      0.000000  2010   \n",
       "3  Большинство IT предпринимателей сосредотачиваю...      3.496508  2015   \n",
       "4  История создания Часть 1  Добрый день. Вкратце...      3.688879  2014   \n",
       "\n",
       "   month  day  hour  minut                                        descr_clear  \\\n",
       "0      3   17    18     55  [итак, день, назад, отписаться, продажа, появи...   \n",
       "1      6   24    13      2  [современный, операционный, система, это, слож...   \n",
       "2      5    6    10      0  [спустя, месяц, упорный, труд, выйти, новый, в...   \n",
       "3      5   22    11      1  [большинство, предприниматель, сосредотачивать...   \n",
       "4      9    4     0     32  [история, создание, часть, добрый, день, вкрат...   \n",
       "\n",
       "                                                desc  \n",
       "0  итак день назад отписаться продажа появиться m...  \n",
       "1  современный операционный система это сложный и...  \n",
       "2  спустя месяц упорный труд выйти новый версия к...  \n",
       "3  большинство предприниматель сосредотачиваться ...  \n",
       "4  история создание часть добрый день вкратце нап...  "
      ]
     },
     "execution_count": 181,
     "metadata": {},
     "output_type": "execute_result"
    }
   ],
   "source": [
    "data.head()"
   ]
  },
  {
   "cell_type": "code",
   "execution_count": 179,
   "metadata": {
    "collapsed": false
   },
   "outputs": [
    {
     "data": {
      "text/plain": [
       "'1 2 3'"
      ]
     },
     "execution_count": 179,
     "metadata": {},
     "output_type": "execute_result"
    }
   ],
   "source": [
    "list1 = ['1', '2', '3']\n",
    "str1 = ' '.join(list1)\n",
    "str1"
   ]
  },
  {
   "cell_type": "code",
   "execution_count": 180,
   "metadata": {
    "collapsed": true
   },
   "outputs": [],
   "source": [
    "data['desc'] = data['descr_clear'].apply(lambda x: ' '.join(x))"
   ]
  },
  {
   "cell_type": "code",
   "execution_count": 37,
   "metadata": {
    "collapsed": false
   },
   "outputs": [
    {
     "data": {
      "text/plain": [
       "1    0.5\n",
       "dtype: float64"
      ]
     },
     "execution_count": 37,
     "metadata": {},
     "output_type": "execute_result"
    }
   ],
   "source": [
    "s = pd.DataFrame()\n",
    "s['1'] = [0,1,1,np.nan,0,np.nan]\n",
    "s.median()"
   ]
  },
  {
   "cell_type": "code",
   "execution_count": null,
   "metadata": {
    "collapsed": true
   },
   "outputs": [],
   "source": []
  },
  {
   "cell_type": "markdown",
   "metadata": {},
   "source": [
    "# time"
   ]
  },
  {
   "cell_type": "code",
   "execution_count": 24,
   "metadata": {
    "collapsed": false
   },
   "outputs": [],
   "source": [
    "def weekand(x):\n",
    "    if x>4:\n",
    "        return 1\n",
    "    else:\n",
    "        return 0"
   ]
  },
  {
   "cell_type": "code",
   "execution_count": 24,
   "metadata": {
    "collapsed": false
   },
   "outputs": [],
   "source": [
    "data['date'] = data['date'].apply(pd.to_datetime)"
   ]
  },
  {
   "cell_type": "code",
   "execution_count": 25,
   "metadata": {
    "collapsed": false
   },
   "outputs": [
    {
     "data": {
      "text/html": [
       "<div>\n",
       "<table border=\"1\" class=\"dataframe\">\n",
       "  <thead>\n",
       "    <tr style=\"text-align: right;\">\n",
       "      <th></th>\n",
       "      <th>_id</th>\n",
       "      <th>content</th>\n",
       "      <th>date</th>\n",
       "      <th>description</th>\n",
       "      <th>favs_lognorm</th>\n",
       "      <th>hub</th>\n",
       "      <th>hubs_title</th>\n",
       "      <th>med</th>\n",
       "      <th>name</th>\n",
       "      <th>nick</th>\n",
       "      <th>png</th>\n",
       "      <th>tags</th>\n",
       "      <th>title</th>\n",
       "      <th>url</th>\n",
       "    </tr>\n",
       "  </thead>\n",
       "  <tbody>\n",
       "    <tr>\n",
       "      <th>0</th>\n",
       "      <td>https://geektimes.ru/post/21866/</td>\n",
       "      <td>Итак, если 3 дня назад я &lt;a href=\"http://habra...</td>\n",
       "      <td>2008-03-17 18:55:00</td>\n",
       "      <td>Итак, если 3 дня назад я отписался то что в пр...</td>\n",
       "      <td>2.484907</td>\n",
       "      <td>hub/hardware</td>\n",
       "      <td>Железо</td>\n",
       "      <td>1.375467</td>\n",
       "      <td>Сергей 'pokatusher'</td>\n",
       "      <td>@M_org</td>\n",
       "      <td>https://habrastorage.org/getpro/habr/olpicture...</td>\n",
       "      <td>['eeepc', 'asus', 'ЭТО', 'эльдорадо', 'ура']</td>\n",
       "      <td>eeePC в продаже. Да. Правда.</td>\n",
       "      <td>https://geektimes.ru/users/M_org</td>\n",
       "    </tr>\n",
       "    <tr>\n",
       "      <th>1</th>\n",
       "      <td>https://habrahabr.ru/company/aladdinrd/blog/30...</td>\n",
       "      <td>Современная операционная система это сложный и...</td>\n",
       "      <td>2016-06-24 13:02:00</td>\n",
       "      <td>Современная операционная система это сложный и...</td>\n",
       "      <td>4.174387</td>\n",
       "      <td>hub/system_programming</td>\n",
       "      <td>Системное программирование</td>\n",
       "      <td>NaN</td>\n",
       "      <td>Аладдин Р.Д.</td>\n",
       "      <td>NaN</td>\n",
       "      <td>https://habrastorage.org/files/cbd/cf9/5ff/cbd...</td>\n",
       "      <td>['Интеграция', 'шифрование', 'Windows', 'Win32...</td>\n",
       "      <td>«Разрубить Гордиев узел» или преодоление пробл...</td>\n",
       "      <td>https://habrahabr.ru/company/aladdinrd</td>\n",
       "    </tr>\n",
       "    <tr>\n",
       "      <th>2</th>\n",
       "      <td>https://geektimes.ru/post/92887/</td>\n",
       "      <td>Спустя 2 месяца упорных трудов вышла новая вер...</td>\n",
       "      <td>2010-05-06 10:00:00</td>\n",
       "      <td>Спустя 2 месяца упорных трудов вышла новая вер...</td>\n",
       "      <td>0.000000</td>\n",
       "      <td>hub/closet</td>\n",
       "      <td>Чёрная дыра</td>\n",
       "      <td>2.662966</td>\n",
       "      <td>Илья Маслаков</td>\n",
       "      <td>@smind</td>\n",
       "      <td>https://geektimes.ru/images/logo.png</td>\n",
       "      <td>['mc', 'midnight commander', 'diffview', 'merg...</td>\n",
       "      <td>Релиз Midnight Commander 4.7.2 и 4.7.0.5</td>\n",
       "      <td>https://geektimes.ru/users/smind</td>\n",
       "    </tr>\n",
       "    <tr>\n",
       "      <th>3</th>\n",
       "      <td>https://habrahabr.ru/post/290824/</td>\n",
       "      <td>&lt;img src=\"https://habrastorage.org/files/50e/2...</td>\n",
       "      <td>2015-05-22 11:01:00</td>\n",
       "      <td>Большинство IT предпринимателей сосредотачиваю...</td>\n",
       "      <td>3.496508</td>\n",
       "      <td>hub/internetmarketing</td>\n",
       "      <td>Интернет-маркетинг</td>\n",
       "      <td>2.188905</td>\n",
       "      <td>Александр</td>\n",
       "      <td>@jasiejames</td>\n",
       "      <td>https://habrastorage.org/files/50e/211/9a0/50e...</td>\n",
       "      <td>['бизнес-модель', 'бизнес-моделирование']</td>\n",
       "      <td>7 шагов для постройки правильной бизнес-модели</td>\n",
       "      <td>https://habrahabr.ru/users/jasiejames</td>\n",
       "    </tr>\n",
       "    <tr>\n",
       "      <th>4</th>\n",
       "      <td>https://habrahabr.ru/post/190088/</td>\n",
       "      <td>&lt;a href=\"http://habrahabr.ru/post/223041/\"&gt;Ист...</td>\n",
       "      <td>2014-09-04 00:32:00</td>\n",
       "      <td>История создания Часть 1  Добрый день. Вкратце...</td>\n",
       "      <td>3.688879</td>\n",
       "      <td>hub/programming</td>\n",
       "      <td>Программирование</td>\n",
       "      <td>3.656210</td>\n",
       "      <td>Данияр Супиев</td>\n",
       "      <td>@uthunderbird</td>\n",
       "      <td>https://habrahabr.ru/i/habralogo.jpg</td>\n",
       "      <td>['python', 'flask', 'mongodb', 'pet-project']</td>\n",
       "      <td>Thunderargs: практика использования. Часть 2</td>\n",
       "      <td>https://habrahabr.ru/users/uthunderbird</td>\n",
       "    </tr>\n",
       "  </tbody>\n",
       "</table>\n",
       "</div>"
      ],
      "text/plain": [
       "                                                 _id  \\\n",
       "0                   https://geektimes.ru/post/21866/   \n",
       "1  https://habrahabr.ru/company/aladdinrd/blog/30...   \n",
       "2                   https://geektimes.ru/post/92887/   \n",
       "3                  https://habrahabr.ru/post/290824/   \n",
       "4                  https://habrahabr.ru/post/190088/   \n",
       "\n",
       "                                             content                date  \\\n",
       "0  Итак, если 3 дня назад я <a href=\"http://habra... 2008-03-17 18:55:00   \n",
       "1  Современная операционная система это сложный и... 2016-06-24 13:02:00   \n",
       "2  Спустя 2 месяца упорных трудов вышла новая вер... 2010-05-06 10:00:00   \n",
       "3  <img src=\"https://habrastorage.org/files/50e/2... 2015-05-22 11:01:00   \n",
       "4  <a href=\"http://habrahabr.ru/post/223041/\">Ист... 2014-09-04 00:32:00   \n",
       "\n",
       "                                         description  favs_lognorm  \\\n",
       "0  Итак, если 3 дня назад я отписался то что в пр...      2.484907   \n",
       "1  Современная операционная система это сложный и...      4.174387   \n",
       "2  Спустя 2 месяца упорных трудов вышла новая вер...      0.000000   \n",
       "3  Большинство IT предпринимателей сосредотачиваю...      3.496508   \n",
       "4  История создания Часть 1  Добрый день. Вкратце...      3.688879   \n",
       "\n",
       "                      hub                  hubs_title       med  \\\n",
       "0            hub/hardware                      Железо  1.375467   \n",
       "1  hub/system_programming  Системное программирование       NaN   \n",
       "2              hub/closet                 Чёрная дыра  2.662966   \n",
       "3   hub/internetmarketing          Интернет-маркетинг  2.188905   \n",
       "4         hub/programming            Программирование  3.656210   \n",
       "\n",
       "                  name           nick  \\\n",
       "0  Сергей 'pokatusher'         @M_org   \n",
       "1         Аладдин Р.Д.            NaN   \n",
       "2        Илья Маслаков         @smind   \n",
       "3            Александр    @jasiejames   \n",
       "4        Данияр Супиев  @uthunderbird   \n",
       "\n",
       "                                                 png  \\\n",
       "0  https://habrastorage.org/getpro/habr/olpicture...   \n",
       "1  https://habrastorage.org/files/cbd/cf9/5ff/cbd...   \n",
       "2               https://geektimes.ru/images/logo.png   \n",
       "3  https://habrastorage.org/files/50e/211/9a0/50e...   \n",
       "4               https://habrahabr.ru/i/habralogo.jpg   \n",
       "\n",
       "                                                tags  \\\n",
       "0       ['eeepc', 'asus', 'ЭТО', 'эльдорадо', 'ура']   \n",
       "1  ['Интеграция', 'шифрование', 'Windows', 'Win32...   \n",
       "2  ['mc', 'midnight commander', 'diffview', 'merg...   \n",
       "3          ['бизнес-модель', 'бизнес-моделирование']   \n",
       "4      ['python', 'flask', 'mongodb', 'pet-project']   \n",
       "\n",
       "                                               title  \\\n",
       "0                       eeePC в продаже. Да. Правда.   \n",
       "1  «Разрубить Гордиев узел» или преодоление пробл...   \n",
       "2           Релиз Midnight Commander 4.7.2 и 4.7.0.5   \n",
       "3     7 шагов для постройки правильной бизнес-модели   \n",
       "4       Thunderargs: практика использования. Часть 2   \n",
       "\n",
       "                                       url  \n",
       "0         https://geektimes.ru/users/M_org  \n",
       "1   https://habrahabr.ru/company/aladdinrd  \n",
       "2         https://geektimes.ru/users/smind  \n",
       "3    https://habrahabr.ru/users/jasiejames  \n",
       "4  https://habrahabr.ru/users/uthunderbird  "
      ]
     },
     "execution_count": 25,
     "metadata": {},
     "output_type": "execute_result"
    }
   ],
   "source": [
    "data.head()"
   ]
  },
  {
   "cell_type": "code",
   "execution_count": null,
   "metadata": {
    "collapsed": false
   },
   "outputs": [],
   "source": []
  },
  {
   "cell_type": "code",
   "execution_count": 26,
   "metadata": {
    "collapsed": false
   },
   "outputs": [
    {
     "ename": "NameError",
     "evalue": "name 'weekand' is not defined",
     "output_type": "error",
     "traceback": [
      "\u001b[0;31m---------------------------------------------------------------------------\u001b[0m",
      "\u001b[0;31mNameError\u001b[0m                                 Traceback (most recent call last)",
      "\u001b[0;32m<ipython-input-26-c86093e0a7f0>\u001b[0m in \u001b[0;36m<module>\u001b[0;34m()\u001b[0m\n\u001b[1;32m      6\u001b[0m \u001b[0mdata\u001b[0m\u001b[0;34m[\u001b[0m\u001b[0;34m'weekday'\u001b[0m\u001b[0;34m]\u001b[0m \u001b[0;34m=\u001b[0m \u001b[0mdata\u001b[0m\u001b[0;34m[\u001b[0m\u001b[0;34m'date'\u001b[0m\u001b[0;34m]\u001b[0m\u001b[0;34m.\u001b[0m\u001b[0mapply\u001b[0m\u001b[0;34m(\u001b[0m\u001b[0;32mlambda\u001b[0m \u001b[0mx\u001b[0m\u001b[0;34m:\u001b[0m \u001b[0mx\u001b[0m\u001b[0;34m.\u001b[0m\u001b[0mdayofweek\u001b[0m\u001b[0;34m)\u001b[0m\u001b[0;34m\u001b[0m\u001b[0m\n\u001b[1;32m      7\u001b[0m \u001b[0mdata\u001b[0m\u001b[0;34m[\u001b[0m\u001b[0;34m'dayofyear'\u001b[0m\u001b[0;34m]\u001b[0m \u001b[0;34m=\u001b[0m \u001b[0mdata\u001b[0m\u001b[0;34m[\u001b[0m\u001b[0;34m'date'\u001b[0m\u001b[0;34m]\u001b[0m\u001b[0;34m.\u001b[0m\u001b[0mapply\u001b[0m\u001b[0;34m(\u001b[0m\u001b[0;32mlambda\u001b[0m \u001b[0mx\u001b[0m\u001b[0;34m:\u001b[0m \u001b[0mx\u001b[0m\u001b[0;34m.\u001b[0m\u001b[0mdayofyear\u001b[0m\u001b[0;34m)\u001b[0m\u001b[0;34m\u001b[0m\u001b[0m\n\u001b[0;32m----> 8\u001b[0;31m \u001b[0mdata\u001b[0m\u001b[0;34m[\u001b[0m\u001b[0;34m'weekand'\u001b[0m\u001b[0;34m]\u001b[0m \u001b[0;34m=\u001b[0m \u001b[0mdata\u001b[0m\u001b[0;34m[\u001b[0m\u001b[0;34m'weekday'\u001b[0m\u001b[0;34m]\u001b[0m\u001b[0;34m.\u001b[0m\u001b[0mapply\u001b[0m\u001b[0;34m(\u001b[0m\u001b[0mweekand\u001b[0m\u001b[0;34m)\u001b[0m\u001b[0;34m\u001b[0m\u001b[0m\n\u001b[0m",
      "\u001b[0;31mNameError\u001b[0m: name 'weekand' is not defined"
     ]
    }
   ],
   "source": [
    "data['year'] = data['date'].apply(lambda x: x.year)\n",
    "data['month'] = data['date'].apply(lambda x: x.month)\n",
    "data['day'] = data['date'].apply(lambda x: x.day)\n",
    "data['hour'] = data['date'].apply(lambda x: x.hour)\n",
    "data['minut'] = data['date'].apply(lambda x: x.minute)\n",
    "data['weekday'] = data['date'].apply(lambda x: x.dayofweek)\n",
    "data['dayofyear'] = data['date'].apply(lambda x: x.dayofyear)\n",
    "data['weekand'] = data['weekday'].apply(weekand)"
   ]
  },
  {
   "cell_type": "code",
   "execution_count": null,
   "metadata": {
    "collapsed": true
   },
   "outputs": [],
   "source": [
    "array(['2008', '2016', '2010', '2015', '2014', '2009', '2012', '2011',\n",
    "       '2013', '2007', '2006'], dtype=object)\n",
    "array(['2017'], dtype=object)"
   ]
  },
  {
   "cell_type": "code",
   "execution_count": 67,
   "metadata": {
    "collapsed": false
   },
   "outputs": [
    {
     "data": {
      "text/plain": [
       "array([2008, 2016, 2010, 2015, 2014, 2009, 2012, 2011, 2013, 2007, 2006])"
      ]
     },
     "execution_count": 67,
     "metadata": {},
     "output_type": "execute_result"
    }
   ],
   "source": [
    "data[data['favs_lognorm'] != -1]['year'].unique()"
   ]
  },
  {
   "cell_type": "code",
   "execution_count": 68,
   "metadata": {
    "collapsed": false
   },
   "outputs": [
    {
     "data": {
      "text/plain": [
       "array([2017])"
      ]
     },
     "execution_count": 68,
     "metadata": {},
     "output_type": "execute_result"
    }
   ],
   "source": [
    "data[data['favs_lognorm'] == -1]['year'].unique()"
   ]
  },
  {
   "cell_type": "markdown",
   "metadata": {},
   "source": [
    "# Validation"
   ]
  },
  {
   "cell_type": "code",
   "execution_count": 236,
   "metadata": {
    "collapsed": false
   },
   "outputs": [
    {
     "data": {
      "text/plain": [
       "array([1, 4, 2, 3])"
      ]
     },
     "execution_count": 236,
     "metadata": {},
     "output_type": "execute_result"
    }
   ],
   "source": [
    "Xtest['month'].unique()"
   ]
  },
  {
   "cell_type": "code",
   "execution_count": 27,
   "metadata": {
    "collapsed": false
   },
   "outputs": [
    {
     "name": "stderr",
     "output_type": "stream",
     "text": [
      "/home/dz/anaconda3/lib/python3.6/site-packages/ipykernel/__main__.py:8: SettingWithCopyWarning: \n",
      "A value is trying to be set on a copy of a slice from a DataFrame\n",
      "\n",
      "See the caveats in the documentation: http://pandas.pydata.org/pandas-docs/stable/indexing.html#indexing-view-versus-copy\n",
      "/home/dz/anaconda3/lib/python3.6/site-packages/ipykernel/__main__.py:9: SettingWithCopyWarning: \n",
      "A value is trying to be set on a copy of a slice from a DataFrame\n",
      "\n",
      "See the caveats in the documentation: http://pandas.pydata.org/pandas-docs/stable/indexing.html#indexing-view-versus-copy\n",
      "/home/dz/anaconda3/lib/python3.6/site-packages/ipykernel/__main__.py:10: SettingWithCopyWarning: \n",
      "A value is trying to be set on a copy of a slice from a DataFrame\n",
      "\n",
      "See the caveats in the documentation: http://pandas.pydata.org/pandas-docs/stable/indexing.html#indexing-view-versus-copy\n",
      "/home/dz/anaconda3/lib/python3.6/site-packages/ipykernel/__main__.py:11: SettingWithCopyWarning: \n",
      "A value is trying to be set on a copy of a slice from a DataFrame\n",
      "\n",
      "See the caveats in the documentation: http://pandas.pydata.org/pandas-docs/stable/indexing.html#indexing-view-versus-copy\n"
     ]
    },
    {
     "data": {
      "text/plain": [
       "((153633, 20), (7556, 20), (172913, 20), (5405, 20))"
      ]
     },
     "execution_count": 27,
     "metadata": {},
     "output_type": "execute_result"
    }
   ],
   "source": [
    "Xtr = data[(data['favs_lognorm'] != -1) & (data['year']!=2016)]\n",
    "Xval = data[(data['favs_lognorm'] != -1) & (data['year']==2016)& (data['month']<=4)]\n",
    "ytr = Xtr['favs_lognorm']\n",
    "yval = Xval['favs_lognorm']\n",
    "ytrain = data[(data['favs_lognorm'] != -1)]['favs_lognorm']\n",
    "Xtrain = data[(data['favs_lognorm'] != -1)]\n",
    "Xtest = data[(data['favs_lognorm'] == -1)]\n",
    "Xtr.drop(['favs_lognorm'],axis=1,inplace = True)\n",
    "Xval.drop(['favs_lognorm'],axis=1,inplace = True)\n",
    "Xtrain.drop(['favs_lognorm'],axis=1,inplace = True)\n",
    "Xtest.drop(['favs_lognorm'],axis=1,inplace = True)\n",
    "Xtr.shape,Xval.shape,Xtrain.shape,Xtest.shape"
   ]
  },
  {
   "cell_type": "code",
   "execution_count": null,
   "metadata": {
    "collapsed": true
   },
   "outputs": [],
   "source": []
  },
  {
   "cell_type": "code",
   "execution_count": 197,
   "metadata": {
    "collapsed": false
   },
   "outputs": [
    {
     "name": "stdout",
     "output_type": "stream",
     "text": [
      "15000\n"
     ]
    },
    {
     "data": {
      "text/plain": [
       "((153633, 15000), (19280, 15000), (172913, 15000), (5405, 15000))"
      ]
     },
     "execution_count": 197,
     "metadata": {},
     "output_type": "execute_result"
    }
   ],
   "source": [
    "from sklearn.feature_extraction.text import CountVectorizer\n",
    "cv = CountVectorizer(max_features = 15000)\n",
    "cv.fit(Xtr['desc'])\n",
    "print(len(cv.vocabulary_))\n",
    "Xtr_cv = cv.transform(Xtr['desc'])\n",
    "Xval_cv = cv.transform(Xval['desc'])\n",
    "Xtrain_cv = cv.transform(Xtrain['desc'])\n",
    "Xtest_cv = cv.transform(Xtest['desc'])\n",
    "Xtr_cv.shape,Xval_cv.shape,Xtrain_cv.shape,Xtest_cv.shape"
   ]
  },
  {
   "cell_type": "code",
   "execution_count": 244,
   "metadata": {
    "collapsed": false
   },
   "outputs": [
    {
     "name": "stdout",
     "output_type": "stream",
     "text": [
      "CPU times: user 8.3 s, sys: 0 ns, total: 8.3 s\n",
      "Wall time: 8.29 s\n"
     ]
    }
   ],
   "source": [
    "%%time\n",
    "from sklearn.feature_extraction.text import HashingVectorizer\n",
    "cv = HashingVectorizer(non_negative=True,n_features = 15000)\n",
    "cv.fit(Xtr['desc'])\n",
    "#print(len(cv.vocabulary_))\n",
    "Xtr_cv = cv.transform(Xtr['desc'])\n",
    "Xval_cv = cv.transform(Xval['desc'])\n",
    "Xtrain_cv = cv.transform(Xtrain['desc'])\n",
    "Xtest_cv = cv.transform(Xtest['desc'])\n",
    "Xtr_cv.shape,Xval_cv.shape,Xtrain_cv.shape,Xtest_cv.shape"
   ]
  },
  {
   "cell_type": "code",
   "execution_count": 250,
   "metadata": {
    "collapsed": false
   },
   "outputs": [
    {
     "name": "stdout",
     "output_type": "stream",
     "text": [
      "CPU times: user 4min 56s, sys: 420 ms, total: 4min 57s\n",
      "Wall time: 4min 57s\n"
     ]
    }
   ],
   "source": [
    "%%time\n",
    "Xtr_tfidf = tfidf_vectorizer(w2v).fit(data['descr_clear']).transform(Xtr['descr_clear'])\n",
    "Xval_tfidf = tfidf_vectorizer(w2v).fit(data['descr_clear']).transform(Xval['descr_clear'])\n",
    "Xtrain_tfidf = tfidf_vectorizer(w2v).fit(data['descr_clear']).transform(Xtrain['descr_clear'])\n",
    "Xtest_tfidf = tfidf_vectorizer(w2v).fit(data['descr_clear']).transform(Xtest['descr_clear'])\n",
    "Xtr_tfidf.shape,Xval_tfidf.shape,Xtrain_tfidf.shape,Xtest_tfidf.shape"
   ]
  },
  {
   "cell_type": "code",
   "execution_count": 251,
   "metadata": {
    "collapsed": true
   },
   "outputs": [],
   "source": [
    "#tags,descr_clear"
   ]
  },
  {
   "cell_type": "code",
   "execution_count": 280,
   "metadata": {
    "collapsed": false
   },
   "outputs": [
    {
     "data": {
      "text/plain": [
       "((153633, 205), (7556, 205))"
      ]
     },
     "execution_count": 280,
     "metadata": {},
     "output_type": "execute_result"
    }
   ],
   "source": [
    "from sklearn.preprocessing import StandardScaler\n",
    "Xtra = np.concatenate((StandardScaler().fit_transform(Xtr[['month','year','day','hour','minut']]), Xtr_tfidf), axis=1)\n",
    "Xvala = np.concatenate((StandardScaler().fit_transform(Xval[['month','year','day','hour','minut']]), Xval_tfidf), axis=1)\n",
    "Xtraina = np.concatenate((StandardScaler().fit_transform(Xtrain[['month','year','day','hour','minut']]), Xtrain_tfidf), axis=1)\n",
    "Xtesta = np.concatenate((StandardScaler().fit_transform(Xtest[['month','year','day','hour','minut']]), Xtest_tfidf), axis=1)\n",
    "Xtra.shape,Xvala.shape"
   ]
  },
  {
   "cell_type": "code",
   "execution_count": null,
   "metadata": {
    "collapsed": true
   },
   "outputs": [],
   "source": [
    "StandardScaler().fit_transform(Xtr[['month','year','day','hour','minut']])"
   ]
  },
  {
   "cell_type": "markdown",
   "metadata": {},
   "source": [
    "# models"
   ]
  },
  {
   "cell_type": "markdown",
   "metadata": {},
   "source": [
    "# linear"
   ]
  },
  {
   "cell_type": "code",
   "execution_count": 71,
   "metadata": {
    "collapsed": true
   },
   "outputs": [],
   "source": [
    "from sklearn.linear_model import Ridge"
   ]
  },
  {
   "cell_type": "code",
   "execution_count": 253,
   "metadata": {
    "collapsed": false
   },
   "outputs": [
    {
     "name": "stdout",
     "output_type": "stream",
     "text": [
      "Ошибка на трейне 1.61166609564\n",
      "Ошибка на тесте 1.37444453277\n",
      "Ошибка на тесте 1.72521656855\n",
      "CPU times: user 1.04 s, sys: 284 ms, total: 1.33 s\n",
      "Wall time: 950 ms\n"
     ]
    }
   ],
   "source": [
    "%%time\n",
    "model1 = Ridge(alpha = 1,random_state=1)\n",
    "model1.fit(Xtra, ytr)\n",
    "train_preds1 = model1.predict(Xtra)\n",
    "valid_preds1 = model1.predict(Xvala)\n",
    "ymed = np.ones(len(valid_preds1))*ytr.median()\n",
    "print('Ошибка на трейне',mean_squared_error(ytr, train_preds1))\n",
    "print('Ошибка на тесте',mean_squared_error(yval, valid_preds1))\n",
    "print('Ошибка на тесте',mean_squared_error(yval, ymed))"
   ]
  },
  {
   "cell_type": "code",
   "execution_count": null,
   "metadata": {
    "collapsed": true
   },
   "outputs": [],
   "source": [
    "1.6337374013,1.41043145387"
   ]
  },
  {
   "cell_type": "code",
   "execution_count": 245,
   "metadata": {
    "collapsed": false
   },
   "outputs": [
    {
     "name": "stdout",
     "output_type": "stream",
     "text": [
      "Ошибка на трейне 1.98739932598\n",
      "Ошибка на тесте 1.25895997295\n",
      "Ошибка на тесте 1.72521656855\n",
      "CPU times: user 1.5 s, sys: 8 ms, total: 1.5 s\n",
      "Wall time: 1.5 s\n"
     ]
    }
   ],
   "source": [
    "%%time\n",
    "model1 = Ridge(alpha = 5,random_state=1)\n",
    "model1.fit(Xtr_cv, ytr)\n",
    "train_preds1 = model1.predict(Xtr_cv)\n",
    "valid_preds1 = model1.predict(Xval_cv)\n",
    "ymed = np.ones(len(valid_preds1))*ytr.median()\n",
    "print('Ошибка на трейне',mean_squared_error(ytr, train_preds1))\n",
    "print('Ошибка на тесте',mean_squared_error(yval, valid_preds1))\n",
    "print('Ошибка на тесте',mean_squared_error(yval, ymed))"
   ]
  },
  {
   "cell_type": "code",
   "execution_count": 203,
   "metadata": {
    "collapsed": false
   },
   "outputs": [
    {
     "data": {
      "text/plain": [
       "0.33375"
      ]
     },
     "execution_count": 203,
     "metadata": {},
     "output_type": "execute_result"
    }
   ],
   "source": [
    "1.335/4"
   ]
  },
  {
   "cell_type": "code",
   "execution_count": 187,
   "metadata": {
    "collapsed": true
   },
   "outputs": [],
   "source": [
    "from sklearn.linear_model import Lasso"
   ]
  },
  {
   "cell_type": "code",
   "execution_count": 246,
   "metadata": {
    "collapsed": false
   },
   "outputs": [
    {
     "name": "stdout",
     "output_type": "stream",
     "text": [
      "Ошибка на трейне 3.0822703163\n",
      "Ошибка на тесте 1.78920289632\n",
      "Ошибка на тесте 1.72521656855\n",
      "CPU times: user 4.66 s, sys: 0 ns, total: 4.66 s\n",
      "Wall time: 4.46 s\n"
     ]
    }
   ],
   "source": [
    "%%time\n",
    "model1 = Lasso(random_state=1)\n",
    "model1.fit(Xtr_cv, ytr)\n",
    "train_preds1 = model1.predict(Xtr_cv)\n",
    "valid_preds1 = model1.predict(Xval_cv)\n",
    "ymed = np.ones(len(valid_preds1))*ytr.median()\n",
    "print('Ошибка на трейне',mean_squared_error(ytr, train_preds1))\n",
    "print('Ошибка на тесте',mean_squared_error(yval, valid_preds1))\n",
    "print('Ошибка на тесте',mean_squared_error(yval, ymed))"
   ]
  },
  {
   "cell_type": "code",
   "execution_count": 82,
   "metadata": {
    "collapsed": false
   },
   "outputs": [
    {
     "ename": "SyntaxError",
     "evalue": "invalid syntax (<ipython-input-82-7b4f95b596de>, line 1)",
     "output_type": "error",
     "traceback": [
      "\u001b[0;36m  File \u001b[0;32m\"<ipython-input-82-7b4f95b596de>\"\u001b[0;36m, line \u001b[0;32m1\u001b[0m\n\u001b[0;31m    1.58990626524 tags 250 linea\u001b[0m\n\u001b[0m                     ^\u001b[0m\n\u001b[0;31mSyntaxError\u001b[0m\u001b[0;31m:\u001b[0m invalid syntax\n"
     ]
    }
   ],
   "source": [
    "1.58990626524 tags 250 linea\n",
    "Ошибка на тесте 1.41410777425 descr lasso cv15"
   ]
  },
  {
   "cell_type": "code",
   "execution_count": 83,
   "metadata": {
    "collapsed": true
   },
   "outputs": [],
   "source": [
    "import xgboost as xgb"
   ]
  },
  {
   "cell_type": "code",
   "execution_count": 254,
   "metadata": {
    "collapsed": true
   },
   "outputs": [],
   "source": [
    "dtr = xgb.DMatrix(Xtra, label= ytr,missing = np.nan)\n",
    "dval = xgb.DMatrix(Xvala, label= yval,missing = np.nan)\n",
    "watchlist = [(dtr, 'train'), (dval, 'eval')]\n",
    "history = dict()"
   ]
  },
  {
   "cell_type": "code",
   "execution_count": 255,
   "metadata": {
    "collapsed": true
   },
   "outputs": [],
   "source": [
    "params = {\n",
    "    'max_depth': 20,\n",
    "    'eta': 0.025,\n",
    "    'nthread': 4,\n",
    "    #'gamma' : 1,\n",
    "    'alpha' : 1,\n",
    "    'subsample': 0.85,\n",
    "    'eval_metric': ['rmse'],\n",
    "    #'objective': 'binary:logistic',\n",
    "    'objective': 'reg:linear',\n",
    "    'colsample_bytree': 0.9,\n",
    "    'min_child_weight': 20,\n",
    "    'seed':7\n",
    "}"
   ]
  },
  {
   "cell_type": "code",
   "execution_count": 256,
   "metadata": {
    "collapsed": false
   },
   "outputs": [
    {
     "name": "stdout",
     "output_type": "stream",
     "text": [
      "[0]\ttrain-rmse:2.76755\teval-rmse:2.99696\n",
      "[20]\ttrain-rmse:1.86942\teval-rmse:2.18281\n"
     ]
    },
    {
     "ename": "KeyboardInterrupt",
     "evalue": "",
     "output_type": "error",
     "traceback": [
      "\u001b[0;31m---------------------------------------------------------------------------\u001b[0m",
      "\u001b[0;31mKeyboardInterrupt\u001b[0m                         Traceback (most recent call last)",
      "\u001b[0;32m<ipython-input-256-8fee40de2c8f>\u001b[0m in \u001b[0;36m<module>\u001b[0;34m()\u001b[0m\n\u001b[0;32m----> 1\u001b[0;31m \u001b[0mmodel\u001b[0m \u001b[0;34m=\u001b[0m \u001b[0mxgb\u001b[0m\u001b[0;34m.\u001b[0m\u001b[0mtrain\u001b[0m\u001b[0;34m(\u001b[0m\u001b[0mparams\u001b[0m\u001b[0;34m,\u001b[0m \u001b[0mdtr\u001b[0m\u001b[0;34m,\u001b[0m \u001b[0mnum_boost_round\u001b[0m\u001b[0;34m=\u001b[0m\u001b[0;36m1900\u001b[0m\u001b[0;34m,\u001b[0m \u001b[0mevals\u001b[0m\u001b[0;34m=\u001b[0m\u001b[0mwatchlist\u001b[0m\u001b[0;34m,\u001b[0m\u001b[0mevals_result\u001b[0m\u001b[0;34m=\u001b[0m\u001b[0mhistory\u001b[0m\u001b[0;34m,\u001b[0m \u001b[0mverbose_eval\u001b[0m\u001b[0;34m=\u001b[0m\u001b[0;36m20\u001b[0m\u001b[0;34m)\u001b[0m\u001b[0;34m\u001b[0m\u001b[0m\n\u001b[0m",
      "\u001b[0;32m/home/dz/anaconda3/lib/python3.6/site-packages/xgboost/training.py\u001b[0m in \u001b[0;36mtrain\u001b[0;34m(params, dtrain, num_boost_round, evals, obj, feval, maximize, early_stopping_rounds, evals_result, verbose_eval, learning_rates, xgb_model, callbacks)\u001b[0m\n\u001b[1;32m    203\u001b[0m                            \u001b[0mevals\u001b[0m\u001b[0;34m=\u001b[0m\u001b[0mevals\u001b[0m\u001b[0;34m,\u001b[0m\u001b[0;34m\u001b[0m\u001b[0m\n\u001b[1;32m    204\u001b[0m                            \u001b[0mobj\u001b[0m\u001b[0;34m=\u001b[0m\u001b[0mobj\u001b[0m\u001b[0;34m,\u001b[0m \u001b[0mfeval\u001b[0m\u001b[0;34m=\u001b[0m\u001b[0mfeval\u001b[0m\u001b[0;34m,\u001b[0m\u001b[0;34m\u001b[0m\u001b[0m\n\u001b[0;32m--> 205\u001b[0;31m                            xgb_model=xgb_model, callbacks=callbacks)\n\u001b[0m\u001b[1;32m    206\u001b[0m \u001b[0;34m\u001b[0m\u001b[0m\n\u001b[1;32m    207\u001b[0m \u001b[0;34m\u001b[0m\u001b[0m\n",
      "\u001b[0;32m/home/dz/anaconda3/lib/python3.6/site-packages/xgboost/training.py\u001b[0m in \u001b[0;36m_train_internal\u001b[0;34m(params, dtrain, num_boost_round, evals, obj, feval, xgb_model, callbacks)\u001b[0m\n\u001b[1;32m     74\u001b[0m         \u001b[0;31m# Skip the first update if it is a recovery step.\u001b[0m\u001b[0;34m\u001b[0m\u001b[0;34m\u001b[0m\u001b[0m\n\u001b[1;32m     75\u001b[0m         \u001b[0;32mif\u001b[0m \u001b[0mversion\u001b[0m \u001b[0;34m%\u001b[0m \u001b[0;36m2\u001b[0m \u001b[0;34m==\u001b[0m \u001b[0;36m0\u001b[0m\u001b[0;34m:\u001b[0m\u001b[0;34m\u001b[0m\u001b[0m\n\u001b[0;32m---> 76\u001b[0;31m             \u001b[0mbst\u001b[0m\u001b[0;34m.\u001b[0m\u001b[0mupdate\u001b[0m\u001b[0;34m(\u001b[0m\u001b[0mdtrain\u001b[0m\u001b[0;34m,\u001b[0m \u001b[0mi\u001b[0m\u001b[0;34m,\u001b[0m \u001b[0mobj\u001b[0m\u001b[0;34m)\u001b[0m\u001b[0;34m\u001b[0m\u001b[0m\n\u001b[0m\u001b[1;32m     77\u001b[0m             \u001b[0mbst\u001b[0m\u001b[0;34m.\u001b[0m\u001b[0msave_rabit_checkpoint\u001b[0m\u001b[0;34m(\u001b[0m\u001b[0;34m)\u001b[0m\u001b[0;34m\u001b[0m\u001b[0m\n\u001b[1;32m     78\u001b[0m             \u001b[0mversion\u001b[0m \u001b[0;34m+=\u001b[0m \u001b[0;36m1\u001b[0m\u001b[0;34m\u001b[0m\u001b[0m\n",
      "\u001b[0;32m/home/dz/anaconda3/lib/python3.6/site-packages/xgboost/core.py\u001b[0m in \u001b[0;36mupdate\u001b[0;34m(self, dtrain, iteration, fobj)\u001b[0m\n\u001b[1;32m    804\u001b[0m \u001b[0;34m\u001b[0m\u001b[0m\n\u001b[1;32m    805\u001b[0m         \u001b[0;32mif\u001b[0m \u001b[0mfobj\u001b[0m \u001b[0;32mis\u001b[0m \u001b[0;32mNone\u001b[0m\u001b[0;34m:\u001b[0m\u001b[0;34m\u001b[0m\u001b[0m\n\u001b[0;32m--> 806\u001b[0;31m             \u001b[0m_check_call\u001b[0m\u001b[0;34m(\u001b[0m\u001b[0m_LIB\u001b[0m\u001b[0;34m.\u001b[0m\u001b[0mXGBoosterUpdateOneIter\u001b[0m\u001b[0;34m(\u001b[0m\u001b[0mself\u001b[0m\u001b[0;34m.\u001b[0m\u001b[0mhandle\u001b[0m\u001b[0;34m,\u001b[0m \u001b[0miteration\u001b[0m\u001b[0;34m,\u001b[0m \u001b[0mdtrain\u001b[0m\u001b[0;34m.\u001b[0m\u001b[0mhandle\u001b[0m\u001b[0;34m)\u001b[0m\u001b[0;34m)\u001b[0m\u001b[0;34m\u001b[0m\u001b[0m\n\u001b[0m\u001b[1;32m    807\u001b[0m         \u001b[0;32melse\u001b[0m\u001b[0;34m:\u001b[0m\u001b[0;34m\u001b[0m\u001b[0m\n\u001b[1;32m    808\u001b[0m             \u001b[0mpred\u001b[0m \u001b[0;34m=\u001b[0m \u001b[0mself\u001b[0m\u001b[0;34m.\u001b[0m\u001b[0mpredict\u001b[0m\u001b[0;34m(\u001b[0m\u001b[0mdtrain\u001b[0m\u001b[0;34m)\u001b[0m\u001b[0;34m\u001b[0m\u001b[0m\n",
      "\u001b[0;31mKeyboardInterrupt\u001b[0m: "
     ]
    }
   ],
   "source": [
    "model = xgb.train(params, dtr, num_boost_round=1900, evals=watchlist,evals_result=history, verbose_eval=20)"
   ]
  },
  {
   "cell_type": "code",
   "execution_count": null,
   "metadata": {
    "collapsed": true
   },
   "outputs": [],
   "source": [
    "1.23\n",
    "1.169 +time+descr 200"
   ]
  },
  {
   "cell_type": "code",
   "execution_count": null,
   "metadata": {
    "collapsed": true
   },
   "outputs": [],
   "source": [
    "1.169*1.169"
   ]
  },
  {
   "cell_type": "markdown",
   "metadata": {},
   "source": [
    "# NN"
   ]
  },
  {
   "cell_type": "code",
   "execution_count": 189,
   "metadata": {
    "collapsed": false
   },
   "outputs": [],
   "source": [
    "from keras.models import Sequential, Model\n",
    "from keras.layers import Dense, Dropout, Activation, Input\n",
    "from keras.preprocessing.text import Tokenizer\n",
    "from keras import regularizers\n",
    "from keras.wrappers.scikit_learn import KerasRegressor"
   ]
  },
  {
   "cell_type": "code",
   "execution_count": 103,
   "metadata": {
    "collapsed": false
   },
   "outputs": [],
   "source": [
    "model = Sequential()\n",
    "model.add(Dense(128, input_dim=(Xtr_tfidf.shape[1])))\n",
    "model.add(Activation('relu'))\n",
    "model.add(Dropout(0.5))\n",
    "#model.add(Dense(128))\n",
    "#model.add(Activation('relu'))\n",
    "#model.add(Dropout(0.5))\n",
    "model.add(Dense(1))\n",
    "#model.add(Activation('sigmoid'))\n",
    "model.compile(loss='mean_squared_error',\n",
    "              optimizer='adam',\n",
    "              metrics=['mse'])"
   ]
  },
  {
   "cell_type": "code",
   "execution_count": 281,
   "metadata": {
    "collapsed": true
   },
   "outputs": [],
   "source": [
    "def baseline_model():\n",
    "    model = Sequential()\n",
    "    model.add(Dense(128, input_dim=Xtraina.shape[1], kernel_initializer='normal', activation='relu'))\n",
    "    model.add(Dropout(0.5))\n",
    "    model.add(Dense(1, kernel_initializer='normal'))\n",
    "\n",
    "    model.compile(loss='mean_squared_error', optimizer='adam')\n",
    "    return model"
   ]
  },
  {
   "cell_type": "code",
   "execution_count": 282,
   "metadata": {
    "collapsed": true
   },
   "outputs": [],
   "source": [
    "estimator = KerasRegressor(build_fn=baseline_model,epochs=2, nb_epoch=20, batch_size=32,validation_data=(Xvala, yval), verbose=2)"
   ]
  },
  {
   "cell_type": "code",
   "execution_count": 278,
   "metadata": {
    "collapsed": false
   },
   "outputs": [
    {
     "name": "stdout",
     "output_type": "stream",
     "text": [
      "Train on 153633 samples, validate on 7556 samples\n",
      "Epoch 1/3\n",
      "7s - loss: 1.8518 - val_loss: 1.3504\n",
      "Epoch 2/3\n",
      "8s - loss: 1.7066 - val_loss: 1.5441\n",
      "Epoch 3/3\n"
     ]
    },
    {
     "ename": "KeyboardInterrupt",
     "evalue": "",
     "output_type": "error",
     "traceback": [
      "\u001b[0;31m---------------------------------------------------------------------------\u001b[0m",
      "\u001b[0;31mKeyboardInterrupt\u001b[0m                         Traceback (most recent call last)",
      "\u001b[0;32m<ipython-input-278-376f6782edc1>\u001b[0m in \u001b[0;36m<module>\u001b[0;34m()\u001b[0m\n\u001b[0;32m----> 1\u001b[0;31m \u001b[0mestimator\u001b[0m\u001b[0;34m.\u001b[0m\u001b[0mfit\u001b[0m\u001b[0;34m(\u001b[0m\u001b[0mXtra\u001b[0m\u001b[0;34m,\u001b[0m \u001b[0mytr\u001b[0m\u001b[0;34m)\u001b[0m\u001b[0;34m\u001b[0m\u001b[0m\n\u001b[0m",
      "\u001b[0;32m/home/dz/anaconda3/lib/python3.6/site-packages/keras/wrappers/scikit_learn.py\u001b[0m in \u001b[0;36mfit\u001b[0;34m(self, x, y, **kwargs)\u001b[0m\n\u001b[1;32m    147\u001b[0m         \u001b[0mfit_args\u001b[0m\u001b[0;34m.\u001b[0m\u001b[0mupdate\u001b[0m\u001b[0;34m(\u001b[0m\u001b[0mkwargs\u001b[0m\u001b[0;34m)\u001b[0m\u001b[0;34m\u001b[0m\u001b[0m\n\u001b[1;32m    148\u001b[0m \u001b[0;34m\u001b[0m\u001b[0m\n\u001b[0;32m--> 149\u001b[0;31m         \u001b[0mhistory\u001b[0m \u001b[0;34m=\u001b[0m \u001b[0mself\u001b[0m\u001b[0;34m.\u001b[0m\u001b[0mmodel\u001b[0m\u001b[0;34m.\u001b[0m\u001b[0mfit\u001b[0m\u001b[0;34m(\u001b[0m\u001b[0mx\u001b[0m\u001b[0;34m,\u001b[0m \u001b[0my\u001b[0m\u001b[0;34m,\u001b[0m \u001b[0;34m**\u001b[0m\u001b[0mfit_args\u001b[0m\u001b[0;34m)\u001b[0m\u001b[0;34m\u001b[0m\u001b[0m\n\u001b[0m\u001b[1;32m    150\u001b[0m \u001b[0;34m\u001b[0m\u001b[0m\n\u001b[1;32m    151\u001b[0m         \u001b[0;32mreturn\u001b[0m \u001b[0mhistory\u001b[0m\u001b[0;34m\u001b[0m\u001b[0m\n",
      "\u001b[0;32m/home/dz/anaconda3/lib/python3.6/site-packages/keras/models.py\u001b[0m in \u001b[0;36mfit\u001b[0;34m(self, x, y, batch_size, epochs, verbose, callbacks, validation_split, validation_data, shuffle, class_weight, sample_weight, initial_epoch, **kwargs)\u001b[0m\n\u001b[1;32m    854\u001b[0m                               \u001b[0mclass_weight\u001b[0m\u001b[0;34m=\u001b[0m\u001b[0mclass_weight\u001b[0m\u001b[0;34m,\u001b[0m\u001b[0;34m\u001b[0m\u001b[0m\n\u001b[1;32m    855\u001b[0m                               \u001b[0msample_weight\u001b[0m\u001b[0;34m=\u001b[0m\u001b[0msample_weight\u001b[0m\u001b[0;34m,\u001b[0m\u001b[0;34m\u001b[0m\u001b[0m\n\u001b[0;32m--> 856\u001b[0;31m                               initial_epoch=initial_epoch)\n\u001b[0m\u001b[1;32m    857\u001b[0m \u001b[0;34m\u001b[0m\u001b[0m\n\u001b[1;32m    858\u001b[0m     def evaluate(self, x, y, batch_size=32, verbose=1,\n",
      "\u001b[0;32m/home/dz/anaconda3/lib/python3.6/site-packages/keras/engine/training.py\u001b[0m in \u001b[0;36mfit\u001b[0;34m(self, x, y, batch_size, epochs, verbose, callbacks, validation_split, validation_data, shuffle, class_weight, sample_weight, initial_epoch, **kwargs)\u001b[0m\n\u001b[1;32m   1496\u001b[0m                               \u001b[0mval_f\u001b[0m\u001b[0;34m=\u001b[0m\u001b[0mval_f\u001b[0m\u001b[0;34m,\u001b[0m \u001b[0mval_ins\u001b[0m\u001b[0;34m=\u001b[0m\u001b[0mval_ins\u001b[0m\u001b[0;34m,\u001b[0m \u001b[0mshuffle\u001b[0m\u001b[0;34m=\u001b[0m\u001b[0mshuffle\u001b[0m\u001b[0;34m,\u001b[0m\u001b[0;34m\u001b[0m\u001b[0m\n\u001b[1;32m   1497\u001b[0m                               \u001b[0mcallback_metrics\u001b[0m\u001b[0;34m=\u001b[0m\u001b[0mcallback_metrics\u001b[0m\u001b[0;34m,\u001b[0m\u001b[0;34m\u001b[0m\u001b[0m\n\u001b[0;32m-> 1498\u001b[0;31m                               initial_epoch=initial_epoch)\n\u001b[0m\u001b[1;32m   1499\u001b[0m \u001b[0;34m\u001b[0m\u001b[0m\n\u001b[1;32m   1500\u001b[0m     \u001b[0;32mdef\u001b[0m \u001b[0mevaluate\u001b[0m\u001b[0;34m(\u001b[0m\u001b[0mself\u001b[0m\u001b[0;34m,\u001b[0m \u001b[0mx\u001b[0m\u001b[0;34m,\u001b[0m \u001b[0my\u001b[0m\u001b[0;34m,\u001b[0m \u001b[0mbatch_size\u001b[0m\u001b[0;34m=\u001b[0m\u001b[0;36m32\u001b[0m\u001b[0;34m,\u001b[0m \u001b[0mverbose\u001b[0m\u001b[0;34m=\u001b[0m\u001b[0;36m1\u001b[0m\u001b[0;34m,\u001b[0m \u001b[0msample_weight\u001b[0m\u001b[0;34m=\u001b[0m\u001b[0;32mNone\u001b[0m\u001b[0;34m)\u001b[0m\u001b[0;34m:\u001b[0m\u001b[0;34m\u001b[0m\u001b[0m\n",
      "\u001b[0;32m/home/dz/anaconda3/lib/python3.6/site-packages/keras/engine/training.py\u001b[0m in \u001b[0;36m_fit_loop\u001b[0;34m(self, f, ins, out_labels, batch_size, epochs, verbose, callbacks, val_f, val_ins, shuffle, callback_metrics, initial_epoch)\u001b[0m\n\u001b[1;32m   1150\u001b[0m                 \u001b[0mbatch_logs\u001b[0m\u001b[0;34m[\u001b[0m\u001b[0;34m'size'\u001b[0m\u001b[0;34m]\u001b[0m \u001b[0;34m=\u001b[0m \u001b[0mlen\u001b[0m\u001b[0;34m(\u001b[0m\u001b[0mbatch_ids\u001b[0m\u001b[0;34m)\u001b[0m\u001b[0;34m\u001b[0m\u001b[0m\n\u001b[1;32m   1151\u001b[0m                 \u001b[0mcallbacks\u001b[0m\u001b[0;34m.\u001b[0m\u001b[0mon_batch_begin\u001b[0m\u001b[0;34m(\u001b[0m\u001b[0mbatch_index\u001b[0m\u001b[0;34m,\u001b[0m \u001b[0mbatch_logs\u001b[0m\u001b[0;34m)\u001b[0m\u001b[0;34m\u001b[0m\u001b[0m\n\u001b[0;32m-> 1152\u001b[0;31m                 \u001b[0mouts\u001b[0m \u001b[0;34m=\u001b[0m \u001b[0mf\u001b[0m\u001b[0;34m(\u001b[0m\u001b[0mins_batch\u001b[0m\u001b[0;34m)\u001b[0m\u001b[0;34m\u001b[0m\u001b[0m\n\u001b[0m\u001b[1;32m   1153\u001b[0m                 \u001b[0;32mif\u001b[0m \u001b[0;32mnot\u001b[0m \u001b[0misinstance\u001b[0m\u001b[0;34m(\u001b[0m\u001b[0mouts\u001b[0m\u001b[0;34m,\u001b[0m \u001b[0mlist\u001b[0m\u001b[0;34m)\u001b[0m\u001b[0;34m:\u001b[0m\u001b[0;34m\u001b[0m\u001b[0m\n\u001b[1;32m   1154\u001b[0m                     \u001b[0mouts\u001b[0m \u001b[0;34m=\u001b[0m \u001b[0;34m[\u001b[0m\u001b[0mouts\u001b[0m\u001b[0;34m]\u001b[0m\u001b[0;34m\u001b[0m\u001b[0m\n",
      "\u001b[0;32m/home/dz/anaconda3/lib/python3.6/site-packages/keras/backend/theano_backend.py\u001b[0m in \u001b[0;36m__call__\u001b[0;34m(self, inputs)\u001b[0m\n\u001b[1;32m   1156\u001b[0m     \u001b[0;32mdef\u001b[0m \u001b[0m__call__\u001b[0m\u001b[0;34m(\u001b[0m\u001b[0mself\u001b[0m\u001b[0;34m,\u001b[0m \u001b[0minputs\u001b[0m\u001b[0;34m)\u001b[0m\u001b[0;34m:\u001b[0m\u001b[0;34m\u001b[0m\u001b[0m\n\u001b[1;32m   1157\u001b[0m         \u001b[0;32massert\u001b[0m \u001b[0misinstance\u001b[0m\u001b[0;34m(\u001b[0m\u001b[0minputs\u001b[0m\u001b[0;34m,\u001b[0m \u001b[0;34m(\u001b[0m\u001b[0mlist\u001b[0m\u001b[0;34m,\u001b[0m \u001b[0mtuple\u001b[0m\u001b[0;34m)\u001b[0m\u001b[0;34m)\u001b[0m\u001b[0;34m\u001b[0m\u001b[0m\n\u001b[0;32m-> 1158\u001b[0;31m         \u001b[0;32mreturn\u001b[0m \u001b[0mself\u001b[0m\u001b[0;34m.\u001b[0m\u001b[0mfunction\u001b[0m\u001b[0;34m(\u001b[0m\u001b[0;34m*\u001b[0m\u001b[0minputs\u001b[0m\u001b[0;34m)\u001b[0m\u001b[0;34m\u001b[0m\u001b[0m\n\u001b[0m\u001b[1;32m   1159\u001b[0m \u001b[0;34m\u001b[0m\u001b[0m\n\u001b[1;32m   1160\u001b[0m \u001b[0;34m\u001b[0m\u001b[0m\n",
      "\u001b[0;32m/home/dz/anaconda3/lib/python3.6/site-packages/theano/compile/function_module.py\u001b[0m in \u001b[0;36m__call__\u001b[0;34m(self, *args, **kwargs)\u001b[0m\n\u001b[1;32m    882\u001b[0m         \u001b[0;32mtry\u001b[0m\u001b[0;34m:\u001b[0m\u001b[0;34m\u001b[0m\u001b[0m\n\u001b[1;32m    883\u001b[0m             \u001b[0moutputs\u001b[0m \u001b[0;34m=\u001b[0m\u001b[0;31m\\\u001b[0m\u001b[0;34m\u001b[0m\u001b[0m\n\u001b[0;32m--> 884\u001b[0;31m                 \u001b[0mself\u001b[0m\u001b[0;34m.\u001b[0m\u001b[0mfn\u001b[0m\u001b[0;34m(\u001b[0m\u001b[0;34m)\u001b[0m \u001b[0;32mif\u001b[0m \u001b[0moutput_subset\u001b[0m \u001b[0;32mis\u001b[0m \u001b[0;32mNone\u001b[0m \u001b[0;32melse\u001b[0m\u001b[0;31m\\\u001b[0m\u001b[0;34m\u001b[0m\u001b[0m\n\u001b[0m\u001b[1;32m    885\u001b[0m                 \u001b[0mself\u001b[0m\u001b[0;34m.\u001b[0m\u001b[0mfn\u001b[0m\u001b[0;34m(\u001b[0m\u001b[0moutput_subset\u001b[0m\u001b[0;34m=\u001b[0m\u001b[0moutput_subset\u001b[0m\u001b[0;34m)\u001b[0m\u001b[0;34m\u001b[0m\u001b[0m\n\u001b[1;32m    886\u001b[0m         \u001b[0;32mexcept\u001b[0m \u001b[0mException\u001b[0m\u001b[0;34m:\u001b[0m\u001b[0;34m\u001b[0m\u001b[0m\n",
      "\u001b[0;31mKeyboardInterrupt\u001b[0m: "
     ]
    }
   ],
   "source": [
    "estimator.fit(Xtra, ytr)"
   ]
  },
  {
   "cell_type": "code",
   "execution_count": null,
   "metadata": {
    "collapsed": true
   },
   "outputs": [],
   "source": []
  },
  {
   "cell_type": "code",
   "execution_count": null,
   "metadata": {
    "collapsed": true
   },
   "outputs": [],
   "source": [
    "valid_preds1 = model1.predict(Xval_tfidf)\n",
    "ymed = np.ones(len(valid_preds1))*ytr.median()\n",
    "print('Ошибка на трейне',mean_squared_error(ytr, train_preds1))\n",
    "print('Ошибка на тесте',mean_squared_error(yval, valid_preds1))\n",
    "print('Ошибка на тесте',mean_squared_error(yval, ymed))"
   ]
  },
  {
   "cell_type": "code",
   "execution_count": 115,
   "metadata": {
    "collapsed": false
   },
   "outputs": [
    {
     "name": "stdout",
     "output_type": "stream",
     "text": [
      "Epoch 1/10\n",
      "1s - loss: 2.8186\n",
      "Epoch 2/10\n",
      "1s - loss: 2.7043\n",
      "Epoch 3/10\n",
      "1s - loss: 2.6817\n",
      "Epoch 4/10\n",
      "1s - loss: 2.6668\n",
      "Epoch 5/10\n",
      "2s - loss: 2.6535\n",
      "Epoch 6/10\n",
      "1s - loss: 2.6426\n",
      "Epoch 7/10\n",
      "1s - loss: 2.6368\n",
      "Epoch 8/10\n",
      "1s - loss: 2.6264\n",
      "Epoch 9/10\n",
      "1s - loss: 2.6199\n",
      "Epoch 10/10\n",
      "1s - loss: 2.6129\n",
      "Epoch 1/10\n",
      "1s - loss: 2.8259\n",
      "Epoch 2/10\n",
      "1s - loss: 2.7104\n",
      "Epoch 3/10\n",
      "2s - loss: 2.6837\n",
      "Epoch 4/10\n",
      "1s - loss: 2.6720\n",
      "Epoch 5/10\n",
      "1s - loss: 2.6583\n",
      "Epoch 6/10\n",
      "2s - loss: 2.6480\n",
      "Epoch 7/10\n",
      "1s - loss: 2.6394\n",
      "Epoch 8/10\n"
     ]
    },
    {
     "ename": "KeyboardInterrupt",
     "evalue": "",
     "output_type": "error",
     "traceback": [
      "\u001b[0;31m---------------------------------------------------------------------------\u001b[0m",
      "\u001b[0;31mKeyboardInterrupt\u001b[0m                         Traceback (most recent call last)",
      "\u001b[0;32m<ipython-input-115-5ab97506da1e>\u001b[0m in \u001b[0;36m<module>\u001b[0;34m()\u001b[0m\n\u001b[1;32m      3\u001b[0m \u001b[0;32mfrom\u001b[0m \u001b[0msklearn\u001b[0m\u001b[0;34m.\u001b[0m\u001b[0mmodel_selection\u001b[0m \u001b[0;32mimport\u001b[0m \u001b[0mKFold\u001b[0m\u001b[0;34m\u001b[0m\u001b[0m\n\u001b[1;32m      4\u001b[0m \u001b[0mkfold\u001b[0m \u001b[0;34m=\u001b[0m \u001b[0mKFold\u001b[0m\u001b[0;34m(\u001b[0m\u001b[0mn_splits\u001b[0m\u001b[0;34m=\u001b[0m\u001b[0;36m5\u001b[0m\u001b[0;34m,\u001b[0m \u001b[0mrandom_state\u001b[0m\u001b[0;34m=\u001b[0m\u001b[0;36m7\u001b[0m\u001b[0;34m)\u001b[0m\u001b[0;34m\u001b[0m\u001b[0m\n\u001b[0;32m----> 5\u001b[0;31m \u001b[0mresults\u001b[0m \u001b[0;34m=\u001b[0m \u001b[0mcross_val_score\u001b[0m\u001b[0;34m(\u001b[0m\u001b[0mestimator\u001b[0m\u001b[0;34m,\u001b[0m \u001b[0mXtr_tfidf\u001b[0m\u001b[0;34m,\u001b[0m \u001b[0mytr\u001b[0m\u001b[0;34m,\u001b[0m \u001b[0mcv\u001b[0m\u001b[0;34m=\u001b[0m\u001b[0mkfold\u001b[0m\u001b[0;34m)\u001b[0m\u001b[0;34m\u001b[0m\u001b[0m\n\u001b[0m\u001b[1;32m      6\u001b[0m \u001b[0mprint\u001b[0m\u001b[0;34m(\u001b[0m\u001b[0;34m\"Results: %.2f (%.2f) MSE\"\u001b[0m \u001b[0;34m%\u001b[0m \u001b[0;34m(\u001b[0m\u001b[0mresults\u001b[0m\u001b[0;34m.\u001b[0m\u001b[0mmean\u001b[0m\u001b[0;34m(\u001b[0m\u001b[0;34m)\u001b[0m\u001b[0;34m,\u001b[0m \u001b[0mresults\u001b[0m\u001b[0;34m.\u001b[0m\u001b[0mstd\u001b[0m\u001b[0;34m(\u001b[0m\u001b[0;34m)\u001b[0m\u001b[0;34m)\u001b[0m\u001b[0;34m)\u001b[0m\u001b[0;34m\u001b[0m\u001b[0m\n",
      "\u001b[0;32m/home/dz/anaconda3/lib/python3.6/site-packages/sklearn/model_selection/_validation.py\u001b[0m in \u001b[0;36mcross_val_score\u001b[0;34m(estimator, X, y, groups, scoring, cv, n_jobs, verbose, fit_params, pre_dispatch)\u001b[0m\n\u001b[1;32m    138\u001b[0m                                               \u001b[0mtrain\u001b[0m\u001b[0;34m,\u001b[0m \u001b[0mtest\u001b[0m\u001b[0;34m,\u001b[0m \u001b[0mverbose\u001b[0m\u001b[0;34m,\u001b[0m \u001b[0;32mNone\u001b[0m\u001b[0;34m,\u001b[0m\u001b[0;34m\u001b[0m\u001b[0m\n\u001b[1;32m    139\u001b[0m                                               fit_params)\n\u001b[0;32m--> 140\u001b[0;31m                       for train, test in cv_iter)\n\u001b[0m\u001b[1;32m    141\u001b[0m     \u001b[0;32mreturn\u001b[0m \u001b[0mnp\u001b[0m\u001b[0;34m.\u001b[0m\u001b[0marray\u001b[0m\u001b[0;34m(\u001b[0m\u001b[0mscores\u001b[0m\u001b[0;34m)\u001b[0m\u001b[0;34m[\u001b[0m\u001b[0;34m:\u001b[0m\u001b[0;34m,\u001b[0m \u001b[0;36m0\u001b[0m\u001b[0;34m]\u001b[0m\u001b[0;34m\u001b[0m\u001b[0m\n\u001b[1;32m    142\u001b[0m \u001b[0;34m\u001b[0m\u001b[0m\n",
      "\u001b[0;32m/home/dz/anaconda3/lib/python3.6/site-packages/sklearn/externals/joblib/parallel.py\u001b[0m in \u001b[0;36m__call__\u001b[0;34m(self, iterable)\u001b[0m\n\u001b[1;32m    756\u001b[0m             \u001b[0;31m# was dispatched. In particular this covers the edge\u001b[0m\u001b[0;34m\u001b[0m\u001b[0;34m\u001b[0m\u001b[0m\n\u001b[1;32m    757\u001b[0m             \u001b[0;31m# case of Parallel used with an exhausted iterator.\u001b[0m\u001b[0;34m\u001b[0m\u001b[0;34m\u001b[0m\u001b[0m\n\u001b[0;32m--> 758\u001b[0;31m             \u001b[0;32mwhile\u001b[0m \u001b[0mself\u001b[0m\u001b[0;34m.\u001b[0m\u001b[0mdispatch_one_batch\u001b[0m\u001b[0;34m(\u001b[0m\u001b[0miterator\u001b[0m\u001b[0;34m)\u001b[0m\u001b[0;34m:\u001b[0m\u001b[0;34m\u001b[0m\u001b[0m\n\u001b[0m\u001b[1;32m    759\u001b[0m                 \u001b[0mself\u001b[0m\u001b[0;34m.\u001b[0m\u001b[0m_iterating\u001b[0m \u001b[0;34m=\u001b[0m \u001b[0;32mTrue\u001b[0m\u001b[0;34m\u001b[0m\u001b[0m\n\u001b[1;32m    760\u001b[0m             \u001b[0;32melse\u001b[0m\u001b[0;34m:\u001b[0m\u001b[0;34m\u001b[0m\u001b[0m\n",
      "\u001b[0;32m/home/dz/anaconda3/lib/python3.6/site-packages/sklearn/externals/joblib/parallel.py\u001b[0m in \u001b[0;36mdispatch_one_batch\u001b[0;34m(self, iterator)\u001b[0m\n\u001b[1;32m    606\u001b[0m                 \u001b[0;32mreturn\u001b[0m \u001b[0;32mFalse\u001b[0m\u001b[0;34m\u001b[0m\u001b[0m\n\u001b[1;32m    607\u001b[0m             \u001b[0;32melse\u001b[0m\u001b[0;34m:\u001b[0m\u001b[0;34m\u001b[0m\u001b[0m\n\u001b[0;32m--> 608\u001b[0;31m                 \u001b[0mself\u001b[0m\u001b[0;34m.\u001b[0m\u001b[0m_dispatch\u001b[0m\u001b[0;34m(\u001b[0m\u001b[0mtasks\u001b[0m\u001b[0;34m)\u001b[0m\u001b[0;34m\u001b[0m\u001b[0m\n\u001b[0m\u001b[1;32m    609\u001b[0m                 \u001b[0;32mreturn\u001b[0m \u001b[0;32mTrue\u001b[0m\u001b[0;34m\u001b[0m\u001b[0m\n\u001b[1;32m    610\u001b[0m \u001b[0;34m\u001b[0m\u001b[0m\n",
      "\u001b[0;32m/home/dz/anaconda3/lib/python3.6/site-packages/sklearn/externals/joblib/parallel.py\u001b[0m in \u001b[0;36m_dispatch\u001b[0;34m(self, batch)\u001b[0m\n\u001b[1;32m    569\u001b[0m         \u001b[0mdispatch_timestamp\u001b[0m \u001b[0;34m=\u001b[0m \u001b[0mtime\u001b[0m\u001b[0;34m.\u001b[0m\u001b[0mtime\u001b[0m\u001b[0;34m(\u001b[0m\u001b[0;34m)\u001b[0m\u001b[0;34m\u001b[0m\u001b[0m\n\u001b[1;32m    570\u001b[0m         \u001b[0mcb\u001b[0m \u001b[0;34m=\u001b[0m \u001b[0mBatchCompletionCallBack\u001b[0m\u001b[0;34m(\u001b[0m\u001b[0mdispatch_timestamp\u001b[0m\u001b[0;34m,\u001b[0m \u001b[0mlen\u001b[0m\u001b[0;34m(\u001b[0m\u001b[0mbatch\u001b[0m\u001b[0;34m)\u001b[0m\u001b[0;34m,\u001b[0m \u001b[0mself\u001b[0m\u001b[0;34m)\u001b[0m\u001b[0;34m\u001b[0m\u001b[0m\n\u001b[0;32m--> 571\u001b[0;31m         \u001b[0mjob\u001b[0m \u001b[0;34m=\u001b[0m \u001b[0mself\u001b[0m\u001b[0;34m.\u001b[0m\u001b[0m_backend\u001b[0m\u001b[0;34m.\u001b[0m\u001b[0mapply_async\u001b[0m\u001b[0;34m(\u001b[0m\u001b[0mbatch\u001b[0m\u001b[0;34m,\u001b[0m \u001b[0mcallback\u001b[0m\u001b[0;34m=\u001b[0m\u001b[0mcb\u001b[0m\u001b[0;34m)\u001b[0m\u001b[0;34m\u001b[0m\u001b[0m\n\u001b[0m\u001b[1;32m    572\u001b[0m         \u001b[0mself\u001b[0m\u001b[0;34m.\u001b[0m\u001b[0m_jobs\u001b[0m\u001b[0;34m.\u001b[0m\u001b[0mappend\u001b[0m\u001b[0;34m(\u001b[0m\u001b[0mjob\u001b[0m\u001b[0;34m)\u001b[0m\u001b[0;34m\u001b[0m\u001b[0m\n\u001b[1;32m    573\u001b[0m \u001b[0;34m\u001b[0m\u001b[0m\n",
      "\u001b[0;32m/home/dz/anaconda3/lib/python3.6/site-packages/sklearn/externals/joblib/_parallel_backends.py\u001b[0m in \u001b[0;36mapply_async\u001b[0;34m(self, func, callback)\u001b[0m\n\u001b[1;32m    107\u001b[0m     \u001b[0;32mdef\u001b[0m \u001b[0mapply_async\u001b[0m\u001b[0;34m(\u001b[0m\u001b[0mself\u001b[0m\u001b[0;34m,\u001b[0m \u001b[0mfunc\u001b[0m\u001b[0;34m,\u001b[0m \u001b[0mcallback\u001b[0m\u001b[0;34m=\u001b[0m\u001b[0;32mNone\u001b[0m\u001b[0;34m)\u001b[0m\u001b[0;34m:\u001b[0m\u001b[0;34m\u001b[0m\u001b[0m\n\u001b[1;32m    108\u001b[0m         \u001b[0;34m\"\"\"Schedule a func to be run\"\"\"\u001b[0m\u001b[0;34m\u001b[0m\u001b[0m\n\u001b[0;32m--> 109\u001b[0;31m         \u001b[0mresult\u001b[0m \u001b[0;34m=\u001b[0m \u001b[0mImmediateResult\u001b[0m\u001b[0;34m(\u001b[0m\u001b[0mfunc\u001b[0m\u001b[0;34m)\u001b[0m\u001b[0;34m\u001b[0m\u001b[0m\n\u001b[0m\u001b[1;32m    110\u001b[0m         \u001b[0;32mif\u001b[0m \u001b[0mcallback\u001b[0m\u001b[0;34m:\u001b[0m\u001b[0;34m\u001b[0m\u001b[0m\n\u001b[1;32m    111\u001b[0m             \u001b[0mcallback\u001b[0m\u001b[0;34m(\u001b[0m\u001b[0mresult\u001b[0m\u001b[0;34m)\u001b[0m\u001b[0;34m\u001b[0m\u001b[0m\n",
      "\u001b[0;32m/home/dz/anaconda3/lib/python3.6/site-packages/sklearn/externals/joblib/_parallel_backends.py\u001b[0m in \u001b[0;36m__init__\u001b[0;34m(self, batch)\u001b[0m\n\u001b[1;32m    324\u001b[0m         \u001b[0;31m# Don't delay the application, to avoid keeping the input\u001b[0m\u001b[0;34m\u001b[0m\u001b[0;34m\u001b[0m\u001b[0m\n\u001b[1;32m    325\u001b[0m         \u001b[0;31m# arguments in memory\u001b[0m\u001b[0;34m\u001b[0m\u001b[0;34m\u001b[0m\u001b[0m\n\u001b[0;32m--> 326\u001b[0;31m         \u001b[0mself\u001b[0m\u001b[0;34m.\u001b[0m\u001b[0mresults\u001b[0m \u001b[0;34m=\u001b[0m \u001b[0mbatch\u001b[0m\u001b[0;34m(\u001b[0m\u001b[0;34m)\u001b[0m\u001b[0;34m\u001b[0m\u001b[0m\n\u001b[0m\u001b[1;32m    327\u001b[0m \u001b[0;34m\u001b[0m\u001b[0m\n\u001b[1;32m    328\u001b[0m     \u001b[0;32mdef\u001b[0m \u001b[0mget\u001b[0m\u001b[0;34m(\u001b[0m\u001b[0mself\u001b[0m\u001b[0;34m)\u001b[0m\u001b[0;34m:\u001b[0m\u001b[0;34m\u001b[0m\u001b[0m\n",
      "\u001b[0;32m/home/dz/anaconda3/lib/python3.6/site-packages/sklearn/externals/joblib/parallel.py\u001b[0m in \u001b[0;36m__call__\u001b[0;34m(self)\u001b[0m\n\u001b[1;32m    129\u001b[0m \u001b[0;34m\u001b[0m\u001b[0m\n\u001b[1;32m    130\u001b[0m     \u001b[0;32mdef\u001b[0m \u001b[0m__call__\u001b[0m\u001b[0;34m(\u001b[0m\u001b[0mself\u001b[0m\u001b[0;34m)\u001b[0m\u001b[0;34m:\u001b[0m\u001b[0;34m\u001b[0m\u001b[0m\n\u001b[0;32m--> 131\u001b[0;31m         \u001b[0;32mreturn\u001b[0m \u001b[0;34m[\u001b[0m\u001b[0mfunc\u001b[0m\u001b[0;34m(\u001b[0m\u001b[0;34m*\u001b[0m\u001b[0margs\u001b[0m\u001b[0;34m,\u001b[0m \u001b[0;34m**\u001b[0m\u001b[0mkwargs\u001b[0m\u001b[0;34m)\u001b[0m \u001b[0;32mfor\u001b[0m \u001b[0mfunc\u001b[0m\u001b[0;34m,\u001b[0m \u001b[0margs\u001b[0m\u001b[0;34m,\u001b[0m \u001b[0mkwargs\u001b[0m \u001b[0;32min\u001b[0m \u001b[0mself\u001b[0m\u001b[0;34m.\u001b[0m\u001b[0mitems\u001b[0m\u001b[0;34m]\u001b[0m\u001b[0;34m\u001b[0m\u001b[0m\n\u001b[0m\u001b[1;32m    132\u001b[0m \u001b[0;34m\u001b[0m\u001b[0m\n\u001b[1;32m    133\u001b[0m     \u001b[0;32mdef\u001b[0m \u001b[0m__len__\u001b[0m\u001b[0;34m(\u001b[0m\u001b[0mself\u001b[0m\u001b[0;34m)\u001b[0m\u001b[0;34m:\u001b[0m\u001b[0;34m\u001b[0m\u001b[0m\n",
      "\u001b[0;32m/home/dz/anaconda3/lib/python3.6/site-packages/sklearn/externals/joblib/parallel.py\u001b[0m in \u001b[0;36m<listcomp>\u001b[0;34m(.0)\u001b[0m\n\u001b[1;32m    129\u001b[0m \u001b[0;34m\u001b[0m\u001b[0m\n\u001b[1;32m    130\u001b[0m     \u001b[0;32mdef\u001b[0m \u001b[0m__call__\u001b[0m\u001b[0;34m(\u001b[0m\u001b[0mself\u001b[0m\u001b[0;34m)\u001b[0m\u001b[0;34m:\u001b[0m\u001b[0;34m\u001b[0m\u001b[0m\n\u001b[0;32m--> 131\u001b[0;31m         \u001b[0;32mreturn\u001b[0m \u001b[0;34m[\u001b[0m\u001b[0mfunc\u001b[0m\u001b[0;34m(\u001b[0m\u001b[0;34m*\u001b[0m\u001b[0margs\u001b[0m\u001b[0;34m,\u001b[0m \u001b[0;34m**\u001b[0m\u001b[0mkwargs\u001b[0m\u001b[0;34m)\u001b[0m \u001b[0;32mfor\u001b[0m \u001b[0mfunc\u001b[0m\u001b[0;34m,\u001b[0m \u001b[0margs\u001b[0m\u001b[0;34m,\u001b[0m \u001b[0mkwargs\u001b[0m \u001b[0;32min\u001b[0m \u001b[0mself\u001b[0m\u001b[0;34m.\u001b[0m\u001b[0mitems\u001b[0m\u001b[0;34m]\u001b[0m\u001b[0;34m\u001b[0m\u001b[0m\n\u001b[0m\u001b[1;32m    132\u001b[0m \u001b[0;34m\u001b[0m\u001b[0m\n\u001b[1;32m    133\u001b[0m     \u001b[0;32mdef\u001b[0m \u001b[0m__len__\u001b[0m\u001b[0;34m(\u001b[0m\u001b[0mself\u001b[0m\u001b[0;34m)\u001b[0m\u001b[0;34m:\u001b[0m\u001b[0;34m\u001b[0m\u001b[0m\n",
      "\u001b[0;32m/home/dz/anaconda3/lib/python3.6/site-packages/sklearn/model_selection/_validation.py\u001b[0m in \u001b[0;36m_fit_and_score\u001b[0;34m(estimator, X, y, scorer, train, test, verbose, parameters, fit_params, return_train_score, return_parameters, return_n_test_samples, return_times, error_score)\u001b[0m\n\u001b[1;32m    236\u001b[0m             \u001b[0mestimator\u001b[0m\u001b[0;34m.\u001b[0m\u001b[0mfit\u001b[0m\u001b[0;34m(\u001b[0m\u001b[0mX_train\u001b[0m\u001b[0;34m,\u001b[0m \u001b[0;34m**\u001b[0m\u001b[0mfit_params\u001b[0m\u001b[0;34m)\u001b[0m\u001b[0;34m\u001b[0m\u001b[0m\n\u001b[1;32m    237\u001b[0m         \u001b[0;32melse\u001b[0m\u001b[0;34m:\u001b[0m\u001b[0;34m\u001b[0m\u001b[0m\n\u001b[0;32m--> 238\u001b[0;31m             \u001b[0mestimator\u001b[0m\u001b[0;34m.\u001b[0m\u001b[0mfit\u001b[0m\u001b[0;34m(\u001b[0m\u001b[0mX_train\u001b[0m\u001b[0;34m,\u001b[0m \u001b[0my_train\u001b[0m\u001b[0;34m,\u001b[0m \u001b[0;34m**\u001b[0m\u001b[0mfit_params\u001b[0m\u001b[0;34m)\u001b[0m\u001b[0;34m\u001b[0m\u001b[0m\n\u001b[0m\u001b[1;32m    239\u001b[0m \u001b[0;34m\u001b[0m\u001b[0m\n\u001b[1;32m    240\u001b[0m     \u001b[0;32mexcept\u001b[0m \u001b[0mException\u001b[0m \u001b[0;32mas\u001b[0m \u001b[0me\u001b[0m\u001b[0;34m:\u001b[0m\u001b[0;34m\u001b[0m\u001b[0m\n",
      "\u001b[0;32m/home/dz/anaconda3/lib/python3.6/site-packages/keras/wrappers/scikit_learn.py\u001b[0m in \u001b[0;36mfit\u001b[0;34m(self, x, y, **kwargs)\u001b[0m\n\u001b[1;32m    147\u001b[0m         \u001b[0mfit_args\u001b[0m\u001b[0;34m.\u001b[0m\u001b[0mupdate\u001b[0m\u001b[0;34m(\u001b[0m\u001b[0mkwargs\u001b[0m\u001b[0;34m)\u001b[0m\u001b[0;34m\u001b[0m\u001b[0m\n\u001b[1;32m    148\u001b[0m \u001b[0;34m\u001b[0m\u001b[0m\n\u001b[0;32m--> 149\u001b[0;31m         \u001b[0mhistory\u001b[0m \u001b[0;34m=\u001b[0m \u001b[0mself\u001b[0m\u001b[0;34m.\u001b[0m\u001b[0mmodel\u001b[0m\u001b[0;34m.\u001b[0m\u001b[0mfit\u001b[0m\u001b[0;34m(\u001b[0m\u001b[0mx\u001b[0m\u001b[0;34m,\u001b[0m \u001b[0my\u001b[0m\u001b[0;34m,\u001b[0m \u001b[0;34m**\u001b[0m\u001b[0mfit_args\u001b[0m\u001b[0;34m)\u001b[0m\u001b[0;34m\u001b[0m\u001b[0m\n\u001b[0m\u001b[1;32m    150\u001b[0m \u001b[0;34m\u001b[0m\u001b[0m\n\u001b[1;32m    151\u001b[0m         \u001b[0;32mreturn\u001b[0m \u001b[0mhistory\u001b[0m\u001b[0;34m\u001b[0m\u001b[0m\n",
      "\u001b[0;32m/home/dz/anaconda3/lib/python3.6/site-packages/keras/models.py\u001b[0m in \u001b[0;36mfit\u001b[0;34m(self, x, y, batch_size, epochs, verbose, callbacks, validation_split, validation_data, shuffle, class_weight, sample_weight, initial_epoch, **kwargs)\u001b[0m\n\u001b[1;32m    854\u001b[0m                               \u001b[0mclass_weight\u001b[0m\u001b[0;34m=\u001b[0m\u001b[0mclass_weight\u001b[0m\u001b[0;34m,\u001b[0m\u001b[0;34m\u001b[0m\u001b[0m\n\u001b[1;32m    855\u001b[0m                               \u001b[0msample_weight\u001b[0m\u001b[0;34m=\u001b[0m\u001b[0msample_weight\u001b[0m\u001b[0;34m,\u001b[0m\u001b[0;34m\u001b[0m\u001b[0m\n\u001b[0;32m--> 856\u001b[0;31m                               initial_epoch=initial_epoch)\n\u001b[0m\u001b[1;32m    857\u001b[0m \u001b[0;34m\u001b[0m\u001b[0m\n\u001b[1;32m    858\u001b[0m     def evaluate(self, x, y, batch_size=32, verbose=1,\n",
      "\u001b[0;32m/home/dz/anaconda3/lib/python3.6/site-packages/keras/engine/training.py\u001b[0m in \u001b[0;36mfit\u001b[0;34m(self, x, y, batch_size, epochs, verbose, callbacks, validation_split, validation_data, shuffle, class_weight, sample_weight, initial_epoch, **kwargs)\u001b[0m\n\u001b[1;32m   1496\u001b[0m                               \u001b[0mval_f\u001b[0m\u001b[0;34m=\u001b[0m\u001b[0mval_f\u001b[0m\u001b[0;34m,\u001b[0m \u001b[0mval_ins\u001b[0m\u001b[0;34m=\u001b[0m\u001b[0mval_ins\u001b[0m\u001b[0;34m,\u001b[0m \u001b[0mshuffle\u001b[0m\u001b[0;34m=\u001b[0m\u001b[0mshuffle\u001b[0m\u001b[0;34m,\u001b[0m\u001b[0;34m\u001b[0m\u001b[0m\n\u001b[1;32m   1497\u001b[0m                               \u001b[0mcallback_metrics\u001b[0m\u001b[0;34m=\u001b[0m\u001b[0mcallback_metrics\u001b[0m\u001b[0;34m,\u001b[0m\u001b[0;34m\u001b[0m\u001b[0m\n\u001b[0;32m-> 1498\u001b[0;31m                               initial_epoch=initial_epoch)\n\u001b[0m\u001b[1;32m   1499\u001b[0m \u001b[0;34m\u001b[0m\u001b[0m\n\u001b[1;32m   1500\u001b[0m     \u001b[0;32mdef\u001b[0m \u001b[0mevaluate\u001b[0m\u001b[0;34m(\u001b[0m\u001b[0mself\u001b[0m\u001b[0;34m,\u001b[0m \u001b[0mx\u001b[0m\u001b[0;34m,\u001b[0m \u001b[0my\u001b[0m\u001b[0;34m,\u001b[0m \u001b[0mbatch_size\u001b[0m\u001b[0;34m=\u001b[0m\u001b[0;36m32\u001b[0m\u001b[0;34m,\u001b[0m \u001b[0mverbose\u001b[0m\u001b[0;34m=\u001b[0m\u001b[0;36m1\u001b[0m\u001b[0;34m,\u001b[0m \u001b[0msample_weight\u001b[0m\u001b[0;34m=\u001b[0m\u001b[0;32mNone\u001b[0m\u001b[0;34m)\u001b[0m\u001b[0;34m:\u001b[0m\u001b[0;34m\u001b[0m\u001b[0m\n",
      "\u001b[0;32m/home/dz/anaconda3/lib/python3.6/site-packages/keras/engine/training.py\u001b[0m in \u001b[0;36m_fit_loop\u001b[0;34m(self, f, ins, out_labels, batch_size, epochs, verbose, callbacks, val_f, val_ins, shuffle, callback_metrics, initial_epoch)\u001b[0m\n\u001b[1;32m   1150\u001b[0m                 \u001b[0mbatch_logs\u001b[0m\u001b[0;34m[\u001b[0m\u001b[0;34m'size'\u001b[0m\u001b[0;34m]\u001b[0m \u001b[0;34m=\u001b[0m \u001b[0mlen\u001b[0m\u001b[0;34m(\u001b[0m\u001b[0mbatch_ids\u001b[0m\u001b[0;34m)\u001b[0m\u001b[0;34m\u001b[0m\u001b[0m\n\u001b[1;32m   1151\u001b[0m                 \u001b[0mcallbacks\u001b[0m\u001b[0;34m.\u001b[0m\u001b[0mon_batch_begin\u001b[0m\u001b[0;34m(\u001b[0m\u001b[0mbatch_index\u001b[0m\u001b[0;34m,\u001b[0m \u001b[0mbatch_logs\u001b[0m\u001b[0;34m)\u001b[0m\u001b[0;34m\u001b[0m\u001b[0m\n\u001b[0;32m-> 1152\u001b[0;31m                 \u001b[0mouts\u001b[0m \u001b[0;34m=\u001b[0m \u001b[0mf\u001b[0m\u001b[0;34m(\u001b[0m\u001b[0mins_batch\u001b[0m\u001b[0;34m)\u001b[0m\u001b[0;34m\u001b[0m\u001b[0m\n\u001b[0m\u001b[1;32m   1153\u001b[0m                 \u001b[0;32mif\u001b[0m \u001b[0;32mnot\u001b[0m \u001b[0misinstance\u001b[0m\u001b[0;34m(\u001b[0m\u001b[0mouts\u001b[0m\u001b[0;34m,\u001b[0m \u001b[0mlist\u001b[0m\u001b[0;34m)\u001b[0m\u001b[0;34m:\u001b[0m\u001b[0;34m\u001b[0m\u001b[0m\n\u001b[1;32m   1154\u001b[0m                     \u001b[0mouts\u001b[0m \u001b[0;34m=\u001b[0m \u001b[0;34m[\u001b[0m\u001b[0mouts\u001b[0m\u001b[0;34m]\u001b[0m\u001b[0;34m\u001b[0m\u001b[0m\n",
      "\u001b[0;32m/home/dz/anaconda3/lib/python3.6/site-packages/keras/backend/theano_backend.py\u001b[0m in \u001b[0;36m__call__\u001b[0;34m(self, inputs)\u001b[0m\n\u001b[1;32m   1156\u001b[0m     \u001b[0;32mdef\u001b[0m \u001b[0m__call__\u001b[0m\u001b[0;34m(\u001b[0m\u001b[0mself\u001b[0m\u001b[0;34m,\u001b[0m \u001b[0minputs\u001b[0m\u001b[0;34m)\u001b[0m\u001b[0;34m:\u001b[0m\u001b[0;34m\u001b[0m\u001b[0m\n\u001b[1;32m   1157\u001b[0m         \u001b[0;32massert\u001b[0m \u001b[0misinstance\u001b[0m\u001b[0;34m(\u001b[0m\u001b[0minputs\u001b[0m\u001b[0;34m,\u001b[0m \u001b[0;34m(\u001b[0m\u001b[0mlist\u001b[0m\u001b[0;34m,\u001b[0m \u001b[0mtuple\u001b[0m\u001b[0;34m)\u001b[0m\u001b[0;34m)\u001b[0m\u001b[0;34m\u001b[0m\u001b[0m\n\u001b[0;32m-> 1158\u001b[0;31m         \u001b[0;32mreturn\u001b[0m \u001b[0mself\u001b[0m\u001b[0;34m.\u001b[0m\u001b[0mfunction\u001b[0m\u001b[0;34m(\u001b[0m\u001b[0;34m*\u001b[0m\u001b[0minputs\u001b[0m\u001b[0;34m)\u001b[0m\u001b[0;34m\u001b[0m\u001b[0m\n\u001b[0m\u001b[1;32m   1159\u001b[0m \u001b[0;34m\u001b[0m\u001b[0m\n\u001b[1;32m   1160\u001b[0m \u001b[0;34m\u001b[0m\u001b[0m\n",
      "\u001b[0;32m/home/dz/anaconda3/lib/python3.6/site-packages/theano/compile/function_module.py\u001b[0m in \u001b[0;36m__call__\u001b[0;34m(self, *args, **kwargs)\u001b[0m\n\u001b[1;32m    866\u001b[0m                                     getattr(self.inv_finder[c], 'variable',\n\u001b[1;32m    867\u001b[0m                                             self.inv_finder[c]))\n\u001b[0;32m--> 868\u001b[0;31m                 \u001b[0;32mif\u001b[0m \u001b[0mc\u001b[0m\u001b[0;34m.\u001b[0m\u001b[0mprovided\u001b[0m \u001b[0;34m>\u001b[0m \u001b[0;36m1\u001b[0m\u001b[0;34m:\u001b[0m\u001b[0;34m\u001b[0m\u001b[0m\n\u001b[0m\u001b[1;32m    869\u001b[0m                     \u001b[0mrestore_defaults\u001b[0m\u001b[0;34m(\u001b[0m\u001b[0;34m)\u001b[0m\u001b[0;34m\u001b[0m\u001b[0m\n\u001b[1;32m    870\u001b[0m                     raise TypeError(\"Multiple values for input: %s\" %\n",
      "\u001b[0;31mKeyboardInterrupt\u001b[0m: "
     ]
    }
   ],
   "source": [
    "\n",
    "from sklearn.model_selection import cross_val_score\n",
    "from sklearn.model_selection import KFold\n",
    "kfold = KFold(n_splits=5, random_state=7)\n",
    "results = cross_val_score(estimator, Xtr_tfidf, ytr, cv=kfold)\n",
    "print(\"Results: %.2f (%.2f) MSE\" % (results.mean(), results.std()))"
   ]
  },
  {
   "cell_type": "markdown",
   "metadata": {},
   "source": [
    "# FINAL"
   ]
  },
  {
   "cell_type": "code",
   "execution_count": 227,
   "metadata": {
    "collapsed": false
   },
   "outputs": [
    {
     "name": "stdout",
     "output_type": "stream",
     "text": [
      "CPU times: user 672 ms, sys: 88 ms, total: 760 ms\n",
      "Wall time: 577 ms\n"
     ]
    }
   ],
   "source": [
    "%%time\n",
    "model1 = Ridge(alpha = 1,random_state=1)\n",
    "model1.fit(Xtrain_tfidf, ytrain)\n",
    "test_preds = model1.predict(Xtest_tfidf)\n"
   ]
  },
  {
   "cell_type": "code",
   "execution_count": 283,
   "metadata": {
    "collapsed": false
   },
   "outputs": [
    {
     "name": "stdout",
     "output_type": "stream",
     "text": [
      "Train on 172913 samples, validate on 7556 samples\n",
      "Epoch 1/2\n",
      "6s - loss: 1.8245 - val_loss: 1.3140\n",
      "Epoch 2/2\n",
      "6s - loss: 1.6497 - val_loss: 1.1909\n"
     ]
    },
    {
     "data": {
      "text/plain": [
       "<keras.callbacks.History at 0x7fbb33c6a3c8>"
      ]
     },
     "execution_count": 283,
     "metadata": {},
     "output_type": "execute_result"
    }
   ],
   "source": [
    "estimator.fit(Xtraina, ytrain)"
   ]
  },
  {
   "cell_type": "code",
   "execution_count": 284,
   "metadata": {
    "collapsed": true
   },
   "outputs": [],
   "source": [
    "test_preds = estimator.predict(Xtesta)"
   ]
  },
  {
   "cell_type": "code",
   "execution_count": 285,
   "metadata": {
    "collapsed": false
   },
   "outputs": [],
   "source": [
    "sample_submission = pd.read_csv('data/sample_submission.csv', index_col='_id')"
   ]
  },
  {
   "cell_type": "code",
   "execution_count": 286,
   "metadata": {
    "collapsed": false
   },
   "outputs": [
    {
     "data": {
      "text/html": [
       "<div>\n",
       "<table border=\"1\" class=\"dataframe\">\n",
       "  <thead>\n",
       "    <tr style=\"text-align: right;\">\n",
       "      <th></th>\n",
       "      <th>favs_lognorm</th>\n",
       "    </tr>\n",
       "    <tr>\n",
       "      <th>_id</th>\n",
       "      <th></th>\n",
       "    </tr>\n",
       "  </thead>\n",
       "  <tbody>\n",
       "    <tr>\n",
       "      <th>https://habrahabr.ru/company/yandex/blog/192874/</th>\n",
       "      <td>0.125884</td>\n",
       "    </tr>\n",
       "    <tr>\n",
       "      <th>https://habrahabr.ru/post/250195/</th>\n",
       "      <td>0.435991</td>\n",
       "    </tr>\n",
       "    <tr>\n",
       "      <th>https://habrahabr.ru/post/255767/</th>\n",
       "      <td>0.856924</td>\n",
       "    </tr>\n",
       "    <tr>\n",
       "      <th>https://geektimes.ru/company/hashflare/blog/265820/</th>\n",
       "      <td>0.388287</td>\n",
       "    </tr>\n",
       "    <tr>\n",
       "      <th>https://geektimes.ru/post/266112/</th>\n",
       "      <td>0.005399</td>\n",
       "    </tr>\n",
       "  </tbody>\n",
       "</table>\n",
       "</div>"
      ],
      "text/plain": [
       "                                                    favs_lognorm\n",
       "_id                                                             \n",
       "https://habrahabr.ru/company/yandex/blog/192874/        0.125884\n",
       "https://habrahabr.ru/post/250195/                       0.435991\n",
       "https://habrahabr.ru/post/255767/                       0.856924\n",
       "https://geektimes.ru/company/hashflare/blog/265...      0.388287\n",
       "https://geektimes.ru/post/266112/                       0.005399"
      ]
     },
     "execution_count": 286,
     "metadata": {},
     "output_type": "execute_result"
    }
   ],
   "source": [
    "sample_submission.head()"
   ]
  },
  {
   "cell_type": "code",
   "execution_count": 288,
   "metadata": {
    "collapsed": true
   },
   "outputs": [],
   "source": [
    "ridge_submission = sample_submission.copy()\n",
    "ridge_submission['favs_lognorm'] = test_preds\n",
    "ridge_submission.to_csv('pred/NN_descr_w2v200_10_time.csv')"
   ]
  },
  {
   "cell_type": "code",
   "execution_count": 289,
   "metadata": {
    "collapsed": false
   },
   "outputs": [
    {
     "data": {
      "text/html": [
       "<div>\n",
       "<table border=\"1\" class=\"dataframe\">\n",
       "  <thead>\n",
       "    <tr style=\"text-align: right;\">\n",
       "      <th></th>\n",
       "      <th>favs_lognorm</th>\n",
       "    </tr>\n",
       "    <tr>\n",
       "      <th>_id</th>\n",
       "      <th></th>\n",
       "    </tr>\n",
       "  </thead>\n",
       "  <tbody>\n",
       "    <tr>\n",
       "      <th>https://habrahabr.ru/company/yandex/blog/192874/</th>\n",
       "      <td>2.174906</td>\n",
       "    </tr>\n",
       "    <tr>\n",
       "      <th>https://habrahabr.ru/post/250195/</th>\n",
       "      <td>3.300094</td>\n",
       "    </tr>\n",
       "    <tr>\n",
       "      <th>https://habrahabr.ru/post/255767/</th>\n",
       "      <td>2.774219</td>\n",
       "    </tr>\n",
       "    <tr>\n",
       "      <th>https://geektimes.ru/company/hashflare/blog/265820/</th>\n",
       "      <td>3.737534</td>\n",
       "    </tr>\n",
       "    <tr>\n",
       "      <th>https://geektimes.ru/post/266112/</th>\n",
       "      <td>2.492351</td>\n",
       "    </tr>\n",
       "    <tr>\n",
       "      <th>https://habrahabr.ru/post/266175/</th>\n",
       "      <td>3.634932</td>\n",
       "    </tr>\n",
       "    <tr>\n",
       "      <th>https://geektimes.ru/post/274300/</th>\n",
       "      <td>3.429037</td>\n",
       "    </tr>\n",
       "    <tr>\n",
       "      <th>https://geektimes.ru/company/payonline/blog/278940/</th>\n",
       "      <td>2.501338</td>\n",
       "    </tr>\n",
       "    <tr>\n",
       "      <th>https://geektimes.ru/post/278972/</th>\n",
       "      <td>3.123697</td>\n",
       "    </tr>\n",
       "    <tr>\n",
       "      <th>https://habrahabr.ru/post/279989/</th>\n",
       "      <td>2.118262</td>\n",
       "    </tr>\n",
       "    <tr>\n",
       "      <th>https://habrahabr.ru/post/280105/</th>\n",
       "      <td>2.111156</td>\n",
       "    </tr>\n",
       "    <tr>\n",
       "      <th>https://habrahabr.ru/post/280666/</th>\n",
       "      <td>2.263399</td>\n",
       "    </tr>\n",
       "    <tr>\n",
       "      <th>https://geektimes.ru/company/wirex/blog/281128/</th>\n",
       "      <td>3.380571</td>\n",
       "    </tr>\n",
       "    <tr>\n",
       "      <th>https://geektimes.ru/company/wirex/blog/281130/</th>\n",
       "      <td>2.628244</td>\n",
       "    </tr>\n",
       "    <tr>\n",
       "      <th>https://geektimes.ru/company/wirex/blog/281132/</th>\n",
       "      <td>4.184358</td>\n",
       "    </tr>\n",
       "    <tr>\n",
       "      <th>https://geektimes.ru/company/wirex/blog/281142/</th>\n",
       "      <td>3.344119</td>\n",
       "    </tr>\n",
       "    <tr>\n",
       "      <th>https://geektimes.ru/company/wirex/blog/281140/</th>\n",
       "      <td>3.347633</td>\n",
       "    </tr>\n",
       "    <tr>\n",
       "      <th>https://geektimes.ru/post/281632/</th>\n",
       "      <td>2.925905</td>\n",
       "    </tr>\n",
       "    <tr>\n",
       "      <th>https://geektimes.ru/post/281642/</th>\n",
       "      <td>3.662876</td>\n",
       "    </tr>\n",
       "    <tr>\n",
       "      <th>https://geektimes.ru/post/281804/</th>\n",
       "      <td>2.288716</td>\n",
       "    </tr>\n",
       "    <tr>\n",
       "      <th>https://geektimes.ru/company/waves/blog/282352/</th>\n",
       "      <td>2.609886</td>\n",
       "    </tr>\n",
       "    <tr>\n",
       "      <th>https://geektimes.ru/company/waves/blog/282354/</th>\n",
       "      <td>1.654657</td>\n",
       "    </tr>\n",
       "    <tr>\n",
       "      <th>https://geektimes.ru/company/waves/blog/282358/</th>\n",
       "      <td>3.383008</td>\n",
       "    </tr>\n",
       "    <tr>\n",
       "      <th>https://geektimes.ru/company/waves/blog/282362/</th>\n",
       "      <td>3.602736</td>\n",
       "    </tr>\n",
       "    <tr>\n",
       "      <th>https://geektimes.ru/company/waves/blog/282364/</th>\n",
       "      <td>3.308940</td>\n",
       "    </tr>\n",
       "    <tr>\n",
       "      <th>https://geektimes.ru/company/waves/blog/282360/</th>\n",
       "      <td>3.161477</td>\n",
       "    </tr>\n",
       "    <tr>\n",
       "      <th>https://geektimes.ru/post/282532/</th>\n",
       "      <td>3.462088</td>\n",
       "    </tr>\n",
       "    <tr>\n",
       "      <th>https://geektimes.ru/company/payonline/blog/282660/</th>\n",
       "      <td>3.380440</td>\n",
       "    </tr>\n",
       "    <tr>\n",
       "      <th>https://geektimes.ru/company/payonline/blog/282656/</th>\n",
       "      <td>3.355838</td>\n",
       "    </tr>\n",
       "    <tr>\n",
       "      <th>https://geektimes.ru/company/payonline/blog/282658/</th>\n",
       "      <td>2.956147</td>\n",
       "    </tr>\n",
       "    <tr>\n",
       "      <th>...</th>\n",
       "      <td>...</td>\n",
       "    </tr>\n",
       "    <tr>\n",
       "      <th>https://habrahabr.ru/company/pentestit/blog/327378/</th>\n",
       "      <td>1.647906</td>\n",
       "    </tr>\n",
       "    <tr>\n",
       "      <th>https://habrahabr.ru/company/gridgain/blog/327380/</th>\n",
       "      <td>3.703074</td>\n",
       "    </tr>\n",
       "    <tr>\n",
       "      <th>https://habrahabr.ru/company/sap/blog/327384/</th>\n",
       "      <td>4.078423</td>\n",
       "    </tr>\n",
       "    <tr>\n",
       "      <th>https://habrahabr.ru/company/stss/blog/327386/</th>\n",
       "      <td>1.944959</td>\n",
       "    </tr>\n",
       "    <tr>\n",
       "      <th>https://habrahabr.ru/company/flyelephant/blog/327390/</th>\n",
       "      <td>3.445947</td>\n",
       "    </tr>\n",
       "    <tr>\n",
       "      <th>https://habrahabr.ru/company/pvs-studio/blog/327388/</th>\n",
       "      <td>2.885641</td>\n",
       "    </tr>\n",
       "    <tr>\n",
       "      <th>https://habrahabr.ru/post/327394/</th>\n",
       "      <td>3.011282</td>\n",
       "    </tr>\n",
       "    <tr>\n",
       "      <th>https://habrahabr.ru/company/3cx/blog/327398/</th>\n",
       "      <td>3.866495</td>\n",
       "    </tr>\n",
       "    <tr>\n",
       "      <th>https://habrahabr.ru/post/327402/</th>\n",
       "      <td>3.476263</td>\n",
       "    </tr>\n",
       "    <tr>\n",
       "      <th>https://habrahabr.ru/post/327404/</th>\n",
       "      <td>3.379617</td>\n",
       "    </tr>\n",
       "    <tr>\n",
       "      <th>https://habrahabr.ru/post/327408/</th>\n",
       "      <td>3.367430</td>\n",
       "    </tr>\n",
       "    <tr>\n",
       "      <th>https://habrahabr.ru/company/plarium/blog/327406/</th>\n",
       "      <td>2.697668</td>\n",
       "    </tr>\n",
       "    <tr>\n",
       "      <th>https://habrahabr.ru/post/327414/</th>\n",
       "      <td>1.694521</td>\n",
       "    </tr>\n",
       "    <tr>\n",
       "      <th>https://habrahabr.ru/company/dentalcloud/blog/327412/</th>\n",
       "      <td>3.281619</td>\n",
       "    </tr>\n",
       "    <tr>\n",
       "      <th>https://habrahabr.ru/company/webo/blog/327410/</th>\n",
       "      <td>2.761148</td>\n",
       "    </tr>\n",
       "    <tr>\n",
       "      <th>https://habrahabr.ru/company/mobileup/blog/327416/</th>\n",
       "      <td>2.581536</td>\n",
       "    </tr>\n",
       "    <tr>\n",
       "      <th>https://habrahabr.ru/company/pgdayrussia/blog/327418/</th>\n",
       "      <td>2.861251</td>\n",
       "    </tr>\n",
       "    <tr>\n",
       "      <th>https://habrahabr.ru/company/1cloud/blog/327420/</th>\n",
       "      <td>2.727500</td>\n",
       "    </tr>\n",
       "    <tr>\n",
       "      <th>https://habrahabr.ru/post/327422/</th>\n",
       "      <td>4.482303</td>\n",
       "    </tr>\n",
       "    <tr>\n",
       "      <th>https://habrahabr.ru/company/logomachine/blog/327428/</th>\n",
       "      <td>2.803751</td>\n",
       "    </tr>\n",
       "    <tr>\n",
       "      <th>https://habrahabr.ru/post/327426/</th>\n",
       "      <td>3.178893</td>\n",
       "    </tr>\n",
       "    <tr>\n",
       "      <th>https://habrahabr.ru/post/327424/</th>\n",
       "      <td>2.263375</td>\n",
       "    </tr>\n",
       "    <tr>\n",
       "      <th>https://habrahabr.ru/company/regionsoft/blog/327430/</th>\n",
       "      <td>3.252523</td>\n",
       "    </tr>\n",
       "    <tr>\n",
       "      <th>https://habrahabr.ru/company/muk/blog/327432/</th>\n",
       "      <td>3.517596</td>\n",
       "    </tr>\n",
       "    <tr>\n",
       "      <th>https://habrahabr.ru/company/mailru/blog/327434/</th>\n",
       "      <td>3.114048</td>\n",
       "    </tr>\n",
       "    <tr>\n",
       "      <th>https://habrahabr.ru/company/mipt/blog/327438/</th>\n",
       "      <td>3.050078</td>\n",
       "    </tr>\n",
       "    <tr>\n",
       "      <th>https://habrahabr.ru/company/rambler-co/blog/327436/</th>\n",
       "      <td>2.528947</td>\n",
       "    </tr>\n",
       "    <tr>\n",
       "      <th>https://habrahabr.ru/post/327440/</th>\n",
       "      <td>3.151476</td>\n",
       "    </tr>\n",
       "    <tr>\n",
       "      <th>https://habrahabr.ru/company/yandex/blog/327444/</th>\n",
       "      <td>3.108654</td>\n",
       "    </tr>\n",
       "    <tr>\n",
       "      <th>https://habrahabr.ru/company/potok/blog/327446/</th>\n",
       "      <td>2.772382</td>\n",
       "    </tr>\n",
       "  </tbody>\n",
       "</table>\n",
       "<p>5405 rows × 1 columns</p>\n",
       "</div>"
      ],
      "text/plain": [
       "                                                    favs_lognorm\n",
       "_id                                                             \n",
       "https://habrahabr.ru/company/yandex/blog/192874/        2.174906\n",
       "https://habrahabr.ru/post/250195/                       3.300094\n",
       "https://habrahabr.ru/post/255767/                       2.774219\n",
       "https://geektimes.ru/company/hashflare/blog/265...      3.737534\n",
       "https://geektimes.ru/post/266112/                       2.492351\n",
       "https://habrahabr.ru/post/266175/                       3.634932\n",
       "https://geektimes.ru/post/274300/                       3.429037\n",
       "https://geektimes.ru/company/payonline/blog/278...      2.501338\n",
       "https://geektimes.ru/post/278972/                       3.123697\n",
       "https://habrahabr.ru/post/279989/                       2.118262\n",
       "https://habrahabr.ru/post/280105/                       2.111156\n",
       "https://habrahabr.ru/post/280666/                       2.263399\n",
       "https://geektimes.ru/company/wirex/blog/281128/         3.380571\n",
       "https://geektimes.ru/company/wirex/blog/281130/         2.628244\n",
       "https://geektimes.ru/company/wirex/blog/281132/         4.184358\n",
       "https://geektimes.ru/company/wirex/blog/281142/         3.344119\n",
       "https://geektimes.ru/company/wirex/blog/281140/         3.347633\n",
       "https://geektimes.ru/post/281632/                       2.925905\n",
       "https://geektimes.ru/post/281642/                       3.662876\n",
       "https://geektimes.ru/post/281804/                       2.288716\n",
       "https://geektimes.ru/company/waves/blog/282352/         2.609886\n",
       "https://geektimes.ru/company/waves/blog/282354/         1.654657\n",
       "https://geektimes.ru/company/waves/blog/282358/         3.383008\n",
       "https://geektimes.ru/company/waves/blog/282362/         3.602736\n",
       "https://geektimes.ru/company/waves/blog/282364/         3.308940\n",
       "https://geektimes.ru/company/waves/blog/282360/         3.161477\n",
       "https://geektimes.ru/post/282532/                       3.462088\n",
       "https://geektimes.ru/company/payonline/blog/282...      3.380440\n",
       "https://geektimes.ru/company/payonline/blog/282...      3.355838\n",
       "https://geektimes.ru/company/payonline/blog/282...      2.956147\n",
       "...                                                          ...\n",
       "https://habrahabr.ru/company/pentestit/blog/327...      1.647906\n",
       "https://habrahabr.ru/company/gridgain/blog/327380/      3.703074\n",
       "https://habrahabr.ru/company/sap/blog/327384/           4.078423\n",
       "https://habrahabr.ru/company/stss/blog/327386/          1.944959\n",
       "https://habrahabr.ru/company/flyelephant/blog/3...      3.445947\n",
       "https://habrahabr.ru/company/pvs-studio/blog/32...      2.885641\n",
       "https://habrahabr.ru/post/327394/                       3.011282\n",
       "https://habrahabr.ru/company/3cx/blog/327398/           3.866495\n",
       "https://habrahabr.ru/post/327402/                       3.476263\n",
       "https://habrahabr.ru/post/327404/                       3.379617\n",
       "https://habrahabr.ru/post/327408/                       3.367430\n",
       "https://habrahabr.ru/company/plarium/blog/327406/       2.697668\n",
       "https://habrahabr.ru/post/327414/                       1.694521\n",
       "https://habrahabr.ru/company/dentalcloud/blog/3...      3.281619\n",
       "https://habrahabr.ru/company/webo/blog/327410/          2.761148\n",
       "https://habrahabr.ru/company/mobileup/blog/327416/      2.581536\n",
       "https://habrahabr.ru/company/pgdayrussia/blog/3...      2.861251\n",
       "https://habrahabr.ru/company/1cloud/blog/327420/        2.727500\n",
       "https://habrahabr.ru/post/327422/                       4.482303\n",
       "https://habrahabr.ru/company/logomachine/blog/3...      2.803751\n",
       "https://habrahabr.ru/post/327426/                       3.178893\n",
       "https://habrahabr.ru/post/327424/                       2.263375\n",
       "https://habrahabr.ru/company/regionsoft/blog/32...      3.252523\n",
       "https://habrahabr.ru/company/muk/blog/327432/           3.517596\n",
       "https://habrahabr.ru/company/mailru/blog/327434/        3.114048\n",
       "https://habrahabr.ru/company/mipt/blog/327438/          3.050078\n",
       "https://habrahabr.ru/company/rambler-co/blog/32...      2.528947\n",
       "https://habrahabr.ru/post/327440/                       3.151476\n",
       "https://habrahabr.ru/company/yandex/blog/327444/        3.108654\n",
       "https://habrahabr.ru/company/potok/blog/327446/         2.772382\n",
       "\n",
       "[5405 rows x 1 columns]"
      ]
     },
     "execution_count": 289,
     "metadata": {},
     "output_type": "execute_result"
    }
   ],
   "source": [
    "ridge_submission"
   ]
  },
  {
   "cell_type": "code",
   "execution_count": 287,
   "metadata": {
    "collapsed": false
   },
   "outputs": [
    {
     "data": {
      "text/html": [
       "<div>\n",
       "<table border=\"1\" class=\"dataframe\">\n",
       "  <thead>\n",
       "    <tr style=\"text-align: right;\">\n",
       "      <th></th>\n",
       "      <th>favs_lognorm</th>\n",
       "    </tr>\n",
       "    <tr>\n",
       "      <th>_id</th>\n",
       "      <th></th>\n",
       "    </tr>\n",
       "  </thead>\n",
       "  <tbody>\n",
       "    <tr>\n",
       "      <th>https://habrahabr.ru/company/yandex/blog/192874/</th>\n",
       "      <td>1.972408</td>\n",
       "    </tr>\n",
       "    <tr>\n",
       "      <th>https://habrahabr.ru/post/250195/</th>\n",
       "      <td>3.029772</td>\n",
       "    </tr>\n",
       "    <tr>\n",
       "      <th>https://habrahabr.ru/post/255767/</th>\n",
       "      <td>3.130344</td>\n",
       "    </tr>\n",
       "    <tr>\n",
       "      <th>https://geektimes.ru/company/hashflare/blog/265820/</th>\n",
       "      <td>4.935033</td>\n",
       "    </tr>\n",
       "    <tr>\n",
       "      <th>https://geektimes.ru/post/266112/</th>\n",
       "      <td>2.532828</td>\n",
       "    </tr>\n",
       "    <tr>\n",
       "      <th>https://habrahabr.ru/post/266175/</th>\n",
       "      <td>4.253950</td>\n",
       "    </tr>\n",
       "    <tr>\n",
       "      <th>https://geektimes.ru/post/274300/</th>\n",
       "      <td>3.430338</td>\n",
       "    </tr>\n",
       "    <tr>\n",
       "      <th>https://geektimes.ru/company/payonline/blog/278940/</th>\n",
       "      <td>2.855791</td>\n",
       "    </tr>\n",
       "    <tr>\n",
       "      <th>https://geektimes.ru/post/278972/</th>\n",
       "      <td>3.055595</td>\n",
       "    </tr>\n",
       "    <tr>\n",
       "      <th>https://habrahabr.ru/post/279989/</th>\n",
       "      <td>2.281591</td>\n",
       "    </tr>\n",
       "    <tr>\n",
       "      <th>https://habrahabr.ru/post/280105/</th>\n",
       "      <td>2.289623</td>\n",
       "    </tr>\n",
       "    <tr>\n",
       "      <th>https://habrahabr.ru/post/280666/</th>\n",
       "      <td>3.017908</td>\n",
       "    </tr>\n",
       "    <tr>\n",
       "      <th>https://geektimes.ru/company/wirex/blog/281128/</th>\n",
       "      <td>3.811437</td>\n",
       "    </tr>\n",
       "    <tr>\n",
       "      <th>https://geektimes.ru/company/wirex/blog/281130/</th>\n",
       "      <td>2.348458</td>\n",
       "    </tr>\n",
       "    <tr>\n",
       "      <th>https://geektimes.ru/company/wirex/blog/281132/</th>\n",
       "      <td>4.823343</td>\n",
       "    </tr>\n",
       "    <tr>\n",
       "      <th>https://geektimes.ru/company/wirex/blog/281142/</th>\n",
       "      <td>3.458552</td>\n",
       "    </tr>\n",
       "    <tr>\n",
       "      <th>https://geektimes.ru/company/wirex/blog/281140/</th>\n",
       "      <td>3.474322</td>\n",
       "    </tr>\n",
       "    <tr>\n",
       "      <th>https://geektimes.ru/post/281632/</th>\n",
       "      <td>3.413218</td>\n",
       "    </tr>\n",
       "    <tr>\n",
       "      <th>https://geektimes.ru/post/281642/</th>\n",
       "      <td>4.105183</td>\n",
       "    </tr>\n",
       "    <tr>\n",
       "      <th>https://geektimes.ru/post/281804/</th>\n",
       "      <td>2.711197</td>\n",
       "    </tr>\n",
       "    <tr>\n",
       "      <th>https://geektimes.ru/company/waves/blog/282352/</th>\n",
       "      <td>2.554722</td>\n",
       "    </tr>\n",
       "    <tr>\n",
       "      <th>https://geektimes.ru/company/waves/blog/282354/</th>\n",
       "      <td>1.665749</td>\n",
       "    </tr>\n",
       "    <tr>\n",
       "      <th>https://geektimes.ru/company/waves/blog/282358/</th>\n",
       "      <td>3.461740</td>\n",
       "    </tr>\n",
       "    <tr>\n",
       "      <th>https://geektimes.ru/company/waves/blog/282362/</th>\n",
       "      <td>3.348244</td>\n",
       "    </tr>\n",
       "    <tr>\n",
       "      <th>https://geektimes.ru/company/waves/blog/282364/</th>\n",
       "      <td>3.403038</td>\n",
       "    </tr>\n",
       "    <tr>\n",
       "      <th>https://geektimes.ru/company/waves/blog/282360/</th>\n",
       "      <td>2.891258</td>\n",
       "    </tr>\n",
       "    <tr>\n",
       "      <th>https://geektimes.ru/post/282532/</th>\n",
       "      <td>3.570029</td>\n",
       "    </tr>\n",
       "    <tr>\n",
       "      <th>https://geektimes.ru/company/payonline/blog/282660/</th>\n",
       "      <td>2.838697</td>\n",
       "    </tr>\n",
       "    <tr>\n",
       "      <th>https://geektimes.ru/company/payonline/blog/282656/</th>\n",
       "      <td>3.239388</td>\n",
       "    </tr>\n",
       "    <tr>\n",
       "      <th>https://geektimes.ru/company/payonline/blog/282658/</th>\n",
       "      <td>2.941202</td>\n",
       "    </tr>\n",
       "    <tr>\n",
       "      <th>...</th>\n",
       "      <td>...</td>\n",
       "    </tr>\n",
       "    <tr>\n",
       "      <th>https://habrahabr.ru/company/pentestit/blog/327378/</th>\n",
       "      <td>1.164063</td>\n",
       "    </tr>\n",
       "    <tr>\n",
       "      <th>https://habrahabr.ru/company/gridgain/blog/327380/</th>\n",
       "      <td>4.512351</td>\n",
       "    </tr>\n",
       "    <tr>\n",
       "      <th>https://habrahabr.ru/company/sap/blog/327384/</th>\n",
       "      <td>4.309073</td>\n",
       "    </tr>\n",
       "    <tr>\n",
       "      <th>https://habrahabr.ru/company/stss/blog/327386/</th>\n",
       "      <td>1.949475</td>\n",
       "    </tr>\n",
       "    <tr>\n",
       "      <th>https://habrahabr.ru/company/flyelephant/blog/327390/</th>\n",
       "      <td>3.326710</td>\n",
       "    </tr>\n",
       "    <tr>\n",
       "      <th>https://habrahabr.ru/company/pvs-studio/blog/327388/</th>\n",
       "      <td>2.834118</td>\n",
       "    </tr>\n",
       "    <tr>\n",
       "      <th>https://habrahabr.ru/post/327394/</th>\n",
       "      <td>3.295222</td>\n",
       "    </tr>\n",
       "    <tr>\n",
       "      <th>https://habrahabr.ru/company/3cx/blog/327398/</th>\n",
       "      <td>3.904995</td>\n",
       "    </tr>\n",
       "    <tr>\n",
       "      <th>https://habrahabr.ru/post/327402/</th>\n",
       "      <td>3.569863</td>\n",
       "    </tr>\n",
       "    <tr>\n",
       "      <th>https://habrahabr.ru/post/327404/</th>\n",
       "      <td>3.658280</td>\n",
       "    </tr>\n",
       "    <tr>\n",
       "      <th>https://habrahabr.ru/post/327408/</th>\n",
       "      <td>2.748002</td>\n",
       "    </tr>\n",
       "    <tr>\n",
       "      <th>https://habrahabr.ru/company/plarium/blog/327406/</th>\n",
       "      <td>3.354439</td>\n",
       "    </tr>\n",
       "    <tr>\n",
       "      <th>https://habrahabr.ru/post/327414/</th>\n",
       "      <td>1.408001</td>\n",
       "    </tr>\n",
       "    <tr>\n",
       "      <th>https://habrahabr.ru/company/dentalcloud/blog/327412/</th>\n",
       "      <td>3.090917</td>\n",
       "    </tr>\n",
       "    <tr>\n",
       "      <th>https://habrahabr.ru/company/webo/blog/327410/</th>\n",
       "      <td>3.093122</td>\n",
       "    </tr>\n",
       "    <tr>\n",
       "      <th>https://habrahabr.ru/company/mobileup/blog/327416/</th>\n",
       "      <td>2.591321</td>\n",
       "    </tr>\n",
       "    <tr>\n",
       "      <th>https://habrahabr.ru/company/pgdayrussia/blog/327418/</th>\n",
       "      <td>2.872089</td>\n",
       "    </tr>\n",
       "    <tr>\n",
       "      <th>https://habrahabr.ru/company/1cloud/blog/327420/</th>\n",
       "      <td>2.692021</td>\n",
       "    </tr>\n",
       "    <tr>\n",
       "      <th>https://habrahabr.ru/post/327422/</th>\n",
       "      <td>5.008919</td>\n",
       "    </tr>\n",
       "    <tr>\n",
       "      <th>https://habrahabr.ru/company/logomachine/blog/327428/</th>\n",
       "      <td>2.342370</td>\n",
       "    </tr>\n",
       "    <tr>\n",
       "      <th>https://habrahabr.ru/post/327426/</th>\n",
       "      <td>3.554713</td>\n",
       "    </tr>\n",
       "    <tr>\n",
       "      <th>https://habrahabr.ru/post/327424/</th>\n",
       "      <td>1.848131</td>\n",
       "    </tr>\n",
       "    <tr>\n",
       "      <th>https://habrahabr.ru/company/regionsoft/blog/327430/</th>\n",
       "      <td>4.035472</td>\n",
       "    </tr>\n",
       "    <tr>\n",
       "      <th>https://habrahabr.ru/company/muk/blog/327432/</th>\n",
       "      <td>3.894163</td>\n",
       "    </tr>\n",
       "    <tr>\n",
       "      <th>https://habrahabr.ru/company/mailru/blog/327434/</th>\n",
       "      <td>3.129520</td>\n",
       "    </tr>\n",
       "    <tr>\n",
       "      <th>https://habrahabr.ru/company/mipt/blog/327438/</th>\n",
       "      <td>2.686173</td>\n",
       "    </tr>\n",
       "    <tr>\n",
       "      <th>https://habrahabr.ru/company/rambler-co/blog/327436/</th>\n",
       "      <td>2.567631</td>\n",
       "    </tr>\n",
       "    <tr>\n",
       "      <th>https://habrahabr.ru/post/327440/</th>\n",
       "      <td>3.179406</td>\n",
       "    </tr>\n",
       "    <tr>\n",
       "      <th>https://habrahabr.ru/company/yandex/blog/327444/</th>\n",
       "      <td>3.125116</td>\n",
       "    </tr>\n",
       "    <tr>\n",
       "      <th>https://habrahabr.ru/company/potok/blog/327446/</th>\n",
       "      <td>2.263620</td>\n",
       "    </tr>\n",
       "  </tbody>\n",
       "</table>\n",
       "<p>5405 rows × 1 columns</p>\n",
       "</div>"
      ],
      "text/plain": [
       "                                                    favs_lognorm\n",
       "_id                                                             \n",
       "https://habrahabr.ru/company/yandex/blog/192874/        1.972408\n",
       "https://habrahabr.ru/post/250195/                       3.029772\n",
       "https://habrahabr.ru/post/255767/                       3.130344\n",
       "https://geektimes.ru/company/hashflare/blog/265...      4.935033\n",
       "https://geektimes.ru/post/266112/                       2.532828\n",
       "https://habrahabr.ru/post/266175/                       4.253950\n",
       "https://geektimes.ru/post/274300/                       3.430338\n",
       "https://geektimes.ru/company/payonline/blog/278...      2.855791\n",
       "https://geektimes.ru/post/278972/                       3.055595\n",
       "https://habrahabr.ru/post/279989/                       2.281591\n",
       "https://habrahabr.ru/post/280105/                       2.289623\n",
       "https://habrahabr.ru/post/280666/                       3.017908\n",
       "https://geektimes.ru/company/wirex/blog/281128/         3.811437\n",
       "https://geektimes.ru/company/wirex/blog/281130/         2.348458\n",
       "https://geektimes.ru/company/wirex/blog/281132/         4.823343\n",
       "https://geektimes.ru/company/wirex/blog/281142/         3.458552\n",
       "https://geektimes.ru/company/wirex/blog/281140/         3.474322\n",
       "https://geektimes.ru/post/281632/                       3.413218\n",
       "https://geektimes.ru/post/281642/                       4.105183\n",
       "https://geektimes.ru/post/281804/                       2.711197\n",
       "https://geektimes.ru/company/waves/blog/282352/         2.554722\n",
       "https://geektimes.ru/company/waves/blog/282354/         1.665749\n",
       "https://geektimes.ru/company/waves/blog/282358/         3.461740\n",
       "https://geektimes.ru/company/waves/blog/282362/         3.348244\n",
       "https://geektimes.ru/company/waves/blog/282364/         3.403038\n",
       "https://geektimes.ru/company/waves/blog/282360/         2.891258\n",
       "https://geektimes.ru/post/282532/                       3.570029\n",
       "https://geektimes.ru/company/payonline/blog/282...      2.838697\n",
       "https://geektimes.ru/company/payonline/blog/282...      3.239388\n",
       "https://geektimes.ru/company/payonline/blog/282...      2.941202\n",
       "...                                                          ...\n",
       "https://habrahabr.ru/company/pentestit/blog/327...      1.164063\n",
       "https://habrahabr.ru/company/gridgain/blog/327380/      4.512351\n",
       "https://habrahabr.ru/company/sap/blog/327384/           4.309073\n",
       "https://habrahabr.ru/company/stss/blog/327386/          1.949475\n",
       "https://habrahabr.ru/company/flyelephant/blog/3...      3.326710\n",
       "https://habrahabr.ru/company/pvs-studio/blog/32...      2.834118\n",
       "https://habrahabr.ru/post/327394/                       3.295222\n",
       "https://habrahabr.ru/company/3cx/blog/327398/           3.904995\n",
       "https://habrahabr.ru/post/327402/                       3.569863\n",
       "https://habrahabr.ru/post/327404/                       3.658280\n",
       "https://habrahabr.ru/post/327408/                       2.748002\n",
       "https://habrahabr.ru/company/plarium/blog/327406/       3.354439\n",
       "https://habrahabr.ru/post/327414/                       1.408001\n",
       "https://habrahabr.ru/company/dentalcloud/blog/3...      3.090917\n",
       "https://habrahabr.ru/company/webo/blog/327410/          3.093122\n",
       "https://habrahabr.ru/company/mobileup/blog/327416/      2.591321\n",
       "https://habrahabr.ru/company/pgdayrussia/blog/3...      2.872089\n",
       "https://habrahabr.ru/company/1cloud/blog/327420/        2.692021\n",
       "https://habrahabr.ru/post/327422/                       5.008919\n",
       "https://habrahabr.ru/company/logomachine/blog/3...      2.342370\n",
       "https://habrahabr.ru/post/327426/                       3.554713\n",
       "https://habrahabr.ru/post/327424/                       1.848131\n",
       "https://habrahabr.ru/company/regionsoft/blog/32...      4.035472\n",
       "https://habrahabr.ru/company/muk/blog/327432/           3.894163\n",
       "https://habrahabr.ru/company/mailru/blog/327434/        3.129520\n",
       "https://habrahabr.ru/company/mipt/blog/327438/          2.686173\n",
       "https://habrahabr.ru/company/rambler-co/blog/32...      2.567631\n",
       "https://habrahabr.ru/post/327440/                       3.179406\n",
       "https://habrahabr.ru/company/yandex/blog/327444/        3.125116\n",
       "https://habrahabr.ru/company/potok/blog/327446/         2.263620\n",
       "\n",
       "[5405 rows x 1 columns]"
      ]
     },
     "execution_count": 287,
     "metadata": {},
     "output_type": "execute_result"
    }
   ],
   "source": [
    "ridge_submission"
   ]
  },
  {
   "cell_type": "code",
   "execution_count": null,
   "metadata": {
    "collapsed": true
   },
   "outputs": [],
   "source": []
  }
 ],
 "metadata": {
  "kernelspec": {
   "display_name": "Python 3",
   "language": "python",
   "name": "python3"
  },
  "language_info": {
   "codemirror_mode": {
    "name": "ipython",
    "version": 3
   },
   "file_extension": ".py",
   "mimetype": "text/x-python",
   "name": "python",
   "nbconvert_exporter": "python",
   "pygments_lexer": "ipython3",
   "version": "3.6.0"
  }
 },
 "nbformat": 4,
 "nbformat_minor": 2
}
