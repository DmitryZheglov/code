{
 "cells": [
  {
   "cell_type": "markdown",
   "metadata": {},
   "source": [
    "### Simple baseline\n",
    "\n",
    "In this baseline we take data from the primary source, aggregate it by squares and compute some basic features from those squares.\n",
    "\n",
    "We then fit a gradient boosting ensemble to predict whether it was raining in this particular square & hour.\n",
    "\n",
    "For starters, let's take a look at our data."
   ]
  },
  {
   "cell_type": "code",
   "execution_count": 10,
   "metadata": {
    "collapsed": true
   },
   "outputs": [],
   "source": [
    "TRAIN_PATH = \"data/train_spb.tsv\"\n",
    "NETATMO_PATH = \"data/train_spb_netatmo.tsv\"\n",
    "TEST_PATH = \"data/test_spb_features.tsv\"\n",
    "TEST_NETATMO_PATH = \"data/test_spb_netatmo.tsv\"\n",
    "\n",
    "CITY_PREDICTIONS_PATH = \"intermediate_data/prediction_spb.csv\""
   ]
  },
  {
   "cell_type": "code",
   "execution_count": 3,
   "metadata": {
    "collapsed": false
   },
   "outputs": [],
   "source": [
    "import numpy as np\n",
    "import pandas as pd\n",
    "import matplotlib.pyplot as plt\n",
    "import json\n",
    "%matplotlib inline\n",
    "from scipy.stats import kurtosis,skew, mode"
   ]
  },
  {
   "cell_type": "code",
   "execution_count": 21,
   "metadata": {
    "collapsed": false
   },
   "outputs": [],
   "source": [
    "train = pd.read_csv(TRAIN_PATH, sep='\\t',chunksize=200000)"
   ]
  },
  {
   "cell_type": "code",
   "execution_count": 23,
   "metadata": {
    "collapsed": false
   },
   "outputs": [
    {
     "name": "stderr",
     "output_type": "stream",
     "text": [
      "/home/dz/anaconda3/lib/python3.6/site-packages/IPython/core/interactiveshell.py:2717: DtypeWarning: Columns (26) have mixed types. Specify dtype option on import or set low_memory=False.\n",
      "  interactivity=interactivity, compiler=compiler, result=result)\n",
      "/home/dz/anaconda3/lib/python3.6/site-packages/IPython/core/interactiveshell.py:2717: DtypeWarning: Columns (23) have mixed types. Specify dtype option on import or set low_memory=False.\n",
      "  interactivity=interactivity, compiler=compiler, result=result)\n",
      "/home/dz/anaconda3/lib/python3.6/site-packages/IPython/core/interactiveshell.py:2717: DtypeWarning: Columns (23,31) have mixed types. Specify dtype option on import or set low_memory=False.\n",
      "  interactivity=interactivity, compiler=compiler, result=result)\n",
      "/home/dz/anaconda3/lib/python3.6/site-packages/IPython/core/interactiveshell.py:2717: DtypeWarning: Columns (26,31) have mixed types. Specify dtype option on import or set low_memory=False.\n",
      "  interactivity=interactivity, compiler=compiler, result=result)\n",
      "/home/dz/anaconda3/lib/python3.6/site-packages/IPython/core/interactiveshell.py:2717: DtypeWarning: Columns (31) have mixed types. Specify dtype option on import or set low_memory=False.\n",
      "  interactivity=interactivity, compiler=compiler, result=result)\n",
      "/home/dz/anaconda3/lib/python3.6/site-packages/IPython/core/interactiveshell.py:2717: DtypeWarning: Columns (23,26) have mixed types. Specify dtype option on import or set low_memory=False.\n",
      "  interactivity=interactivity, compiler=compiler, result=result)\n",
      "/home/dz/anaconda3/lib/python3.6/site-packages/IPython/core/interactiveshell.py:2717: DtypeWarning: Columns (23,26,31) have mixed types. Specify dtype option on import or set low_memory=False.\n",
      "  interactivity=interactivity, compiler=compiler, result=result)\n"
     ]
    }
   ],
   "source": [
    "\n",
    "i=0\n",
    "for chunk in train:\n",
    "    if(i==0):\n",
    "        data = chunk.sample(frac=0.025, replace=True,random_state=7)\n",
    "    \n",
    "    data = pd.concat([data,chunk.sample(frac=0.025, replace=True,random_state=7)], ignore_index=True)\n",
    "    i = i+1\n",
    "    \n",
    "    #print(i,\" \",len(data.groupby([\"city_code\",\"sq_x\",\"sq_y\",\"hour_hash\"])['day_hour']), ' ', len(data) )\n",
    "    if(len(data)==1000000):\n",
    "        print(i,\" \",len(data.groupby([\"city_code\",\"sq_x\",\"sq_y\",\"hour_hash\"])['day_hour']), ' ', len(data) )"
   ]
  },
  {
   "cell_type": "code",
   "execution_count": 25,
   "metadata": {
    "collapsed": false
   },
   "outputs": [
    {
     "data": {
      "text/plain": [
       "22379"
      ]
     },
     "execution_count": 25,
     "metadata": {},
     "output_type": "execute_result"
    }
   ],
   "source": [
    "len(data.groupby([\"city_code\",\"sq_x\",\"sq_y\",\"hour_hash\"])['day_hour'])"
   ]
  },
  {
   "cell_type": "code",
   "execution_count": null,
   "metadata": {
    "collapsed": true
   },
   "outputs": [],
   "source": [
    "1kk - 12218\n",
    "500k - 22k"
   ]
  },
  {
   "cell_type": "code",
   "execution_count": 11,
   "metadata": {
    "collapsed": false
   },
   "outputs": [
    {
     "name": "stdout",
     "output_type": "stream",
     "text": [
      "(500000, 32) 664\n"
     ]
    },
    {
     "data": {
      "text/html": [
       "<div>\n",
       "<table border=\"1\" class=\"dataframe\">\n",
       "  <thead>\n",
       "    <tr style=\"text-align: right;\">\n",
       "      <th></th>\n",
       "      <th>hour_hash</th>\n",
       "      <th>sq_x</th>\n",
       "      <th>sq_y</th>\n",
       "      <th>EventTimestampDelta</th>\n",
       "      <th>day_hour</th>\n",
       "      <th>cell_hash</th>\n",
       "      <th>sq_time</th>\n",
       "      <th>radio</th>\n",
       "      <th>LocationSpeed</th>\n",
       "      <th>LAC</th>\n",
       "      <th>...</th>\n",
       "      <th>day</th>\n",
       "      <th>ver_hash</th>\n",
       "      <th>SignalStrength</th>\n",
       "      <th>rain</th>\n",
       "      <th>u_hashed</th>\n",
       "      <th>city_code</th>\n",
       "      <th>cell_lat</th>\n",
       "      <th>OperatorID</th>\n",
       "      <th>LocationTimestampDelta</th>\n",
       "      <th>device_model_hash</th>\n",
       "    </tr>\n",
       "  </thead>\n",
       "  <tbody>\n",
       "    <tr>\n",
       "      <th>4700000</th>\n",
       "      <td>4010289168781209103</td>\n",
       "      <td>-4</td>\n",
       "      <td>0</td>\n",
       "      <td>-3006</td>\n",
       "      <td>7</td>\n",
       "      <td>14671138891631709261</td>\n",
       "      <td>1500361200</td>\n",
       "      <td>-999</td>\n",
       "      <td>-999</td>\n",
       "      <td>0</td>\n",
       "      <td>...</td>\n",
       "      <td>17</td>\n",
       "      <td>2970743340414944099</td>\n",
       "      <td>-51</td>\n",
       "      <td>False</td>\n",
       "      <td>3204656002632688640</td>\n",
       "      <td>78</td>\n",
       "      <td>-999.000000</td>\n",
       "      <td>99</td>\n",
       "      <td>-3006</td>\n",
       "      <td>5927460862193958912</td>\n",
       "    </tr>\n",
       "    <tr>\n",
       "      <th>4700001</th>\n",
       "      <td>4010289168781209103</td>\n",
       "      <td>-4</td>\n",
       "      <td>0</td>\n",
       "      <td>-3006</td>\n",
       "      <td>7</td>\n",
       "      <td>14671138891631709261</td>\n",
       "      <td>1500361200</td>\n",
       "      <td>-999</td>\n",
       "      <td>-999</td>\n",
       "      <td>0</td>\n",
       "      <td>...</td>\n",
       "      <td>17</td>\n",
       "      <td>2970743340414944099</td>\n",
       "      <td>-51</td>\n",
       "      <td>False</td>\n",
       "      <td>3204656002632688640</td>\n",
       "      <td>78</td>\n",
       "      <td>-999.000000</td>\n",
       "      <td>99</td>\n",
       "      <td>-3006</td>\n",
       "      <td>5927460862193958912</td>\n",
       "    </tr>\n",
       "    <tr>\n",
       "      <th>4700002</th>\n",
       "      <td>4010289168781209103</td>\n",
       "      <td>-4</td>\n",
       "      <td>0</td>\n",
       "      <td>-3006</td>\n",
       "      <td>7</td>\n",
       "      <td>13516483322492722186</td>\n",
       "      <td>1500361200</td>\n",
       "      <td>-999</td>\n",
       "      <td>-999</td>\n",
       "      <td>17803</td>\n",
       "      <td>...</td>\n",
       "      <td>17</td>\n",
       "      <td>2970743340414944099</td>\n",
       "      <td>-95</td>\n",
       "      <td>False</td>\n",
       "      <td>3204656002632688640</td>\n",
       "      <td>78</td>\n",
       "      <td>-999.000000</td>\n",
       "      <td>99</td>\n",
       "      <td>-3006</td>\n",
       "      <td>5927460862193958912</td>\n",
       "    </tr>\n",
       "    <tr>\n",
       "      <th>4700003</th>\n",
       "      <td>4010289168781209103</td>\n",
       "      <td>-4</td>\n",
       "      <td>0</td>\n",
       "      <td>-3006</td>\n",
       "      <td>7</td>\n",
       "      <td>15891414263308753082</td>\n",
       "      <td>1500361200</td>\n",
       "      <td>1</td>\n",
       "      <td>-999</td>\n",
       "      <td>14756</td>\n",
       "      <td>...</td>\n",
       "      <td>17</td>\n",
       "      <td>2970743340414944099</td>\n",
       "      <td>-51</td>\n",
       "      <td>False</td>\n",
       "      <td>3204656002632688640</td>\n",
       "      <td>78</td>\n",
       "      <td>59.984665</td>\n",
       "      <td>99</td>\n",
       "      <td>-3006</td>\n",
       "      <td>5927460862193958912</td>\n",
       "    </tr>\n",
       "    <tr>\n",
       "      <th>4700004</th>\n",
       "      <td>4010289168781209103</td>\n",
       "      <td>-4</td>\n",
       "      <td>0</td>\n",
       "      <td>-3006</td>\n",
       "      <td>7</td>\n",
       "      <td>14671138891631709261</td>\n",
       "      <td>1500361200</td>\n",
       "      <td>-999</td>\n",
       "      <td>-999</td>\n",
       "      <td>0</td>\n",
       "      <td>...</td>\n",
       "      <td>17</td>\n",
       "      <td>2970743340414944099</td>\n",
       "      <td>-51</td>\n",
       "      <td>False</td>\n",
       "      <td>3204656002632688640</td>\n",
       "      <td>78</td>\n",
       "      <td>-999.000000</td>\n",
       "      <td>99</td>\n",
       "      <td>-3006</td>\n",
       "      <td>5927460862193958912</td>\n",
       "    </tr>\n",
       "  </tbody>\n",
       "</table>\n",
       "<p>5 rows × 32 columns</p>\n",
       "</div>"
      ],
      "text/plain": [
       "                   hour_hash  sq_x  sq_y  EventTimestampDelta  day_hour  \\\n",
       "4700000  4010289168781209103    -4     0                -3006         7   \n",
       "4700001  4010289168781209103    -4     0                -3006         7   \n",
       "4700002  4010289168781209103    -4     0                -3006         7   \n",
       "4700003  4010289168781209103    -4     0                -3006         7   \n",
       "4700004  4010289168781209103    -4     0                -3006         7   \n",
       "\n",
       "                    cell_hash     sq_time  radio  LocationSpeed    LAC  \\\n",
       "4700000  14671138891631709261  1500361200   -999           -999      0   \n",
       "4700001  14671138891631709261  1500361200   -999           -999      0   \n",
       "4700002  13516483322492722186  1500361200   -999           -999  17803   \n",
       "4700003  15891414263308753082  1500361200      1           -999  14756   \n",
       "4700004  14671138891631709261  1500361200   -999           -999      0   \n",
       "\n",
       "                ...          day             ver_hash  SignalStrength   rain  \\\n",
       "4700000         ...           17  2970743340414944099             -51  False   \n",
       "4700001         ...           17  2970743340414944099             -51  False   \n",
       "4700002         ...           17  2970743340414944099             -95  False   \n",
       "4700003         ...           17  2970743340414944099             -51  False   \n",
       "4700004         ...           17  2970743340414944099             -51  False   \n",
       "\n",
       "                    u_hashed  city_code    cell_lat  OperatorID  \\\n",
       "4700000  3204656002632688640         78 -999.000000          99   \n",
       "4700001  3204656002632688640         78 -999.000000          99   \n",
       "4700002  3204656002632688640         78 -999.000000          99   \n",
       "4700003  3204656002632688640         78   59.984665          99   \n",
       "4700004  3204656002632688640         78 -999.000000          99   \n",
       "\n",
       "         LocationTimestampDelta    device_model_hash  \n",
       "4700000                   -3006  5927460862193958912  \n",
       "4700001                   -3006  5927460862193958912  \n",
       "4700002                   -3006  5927460862193958912  \n",
       "4700003                   -3006  5927460862193958912  \n",
       "4700004                   -3006  5927460862193958912  \n",
       "\n",
       "[5 rows x 32 columns]"
      ]
     },
     "execution_count": 11,
     "metadata": {},
     "output_type": "execute_result"
    }
   ],
   "source": [
    "data = train.get_chunk(500000)\n",
    "print(data.shape,len(data.groupby([\"city_code\",\"sq_x\",\"sq_y\",\"hour_hash\"])['day_hour']))\n",
    "data.head()"
   ]
  },
  {
   "cell_type": "code",
   "execution_count": null,
   "metadata": {
    "collapsed": true
   },
   "outputs": [],
   "source": [
    "64,664,1303"
   ]
  },
  {
   "cell_type": "code",
   "execution_count": 33,
   "metadata": {
    "collapsed": false
   },
   "outputs": [
    {
     "data": {
      "text/plain": [
       "(54, 58)"
      ]
     },
     "execution_count": 33,
     "metadata": {},
     "output_type": "execute_result"
    }
   ],
   "source": [
    "len(data.sq_x.unique()),len(data.sq_y.unique())"
   ]
  },
  {
   "cell_type": "code",
   "execution_count": 40,
   "metadata": {
    "collapsed": false
   },
   "outputs": [
    {
     "data": {
      "image/png": "[encoded data removed]",
      "text/plain": [
       "<matplotlib.figure.Figure at 0x7f5d1e36ba20>"
      ]
     },
     "metadata": {},
     "output_type": "display_data"
    },
    {
     "data": {
      "text/html": [
       "<div>\n",
       "<table border=\"1\" class=\"dataframe\">\n",
       "  <thead>\n",
       "    <tr style=\"text-align: right;\">\n",
       "      <th></th>\n",
       "      <th>hour_hash</th>\n",
       "      <th>sq_x</th>\n",
       "      <th>sq_y</th>\n",
       "      <th>EventTimestampDelta</th>\n",
       "      <th>day_hour</th>\n",
       "      <th>cell_hash</th>\n",
       "      <th>sq_time</th>\n",
       "      <th>radio</th>\n",
       "      <th>LocationSpeed</th>\n",
       "      <th>LAC</th>\n",
       "      <th>...</th>\n",
       "      <th>day</th>\n",
       "      <th>ver_hash</th>\n",
       "      <th>SignalStrength</th>\n",
       "      <th>rain</th>\n",
       "      <th>u_hashed</th>\n",
       "      <th>city_code</th>\n",
       "      <th>cell_lat</th>\n",
       "      <th>OperatorID</th>\n",
       "      <th>LocationTimestampDelta</th>\n",
       "      <th>device_model_hash</th>\n",
       "    </tr>\n",
       "  </thead>\n",
       "  <tbody>\n",
       "    <tr>\n",
       "      <th>400012</th>\n",
       "      <td>422518526921346549</td>\n",
       "      <td>-4</td>\n",
       "      <td>0</td>\n",
       "      <td>-3278</td>\n",
       "      <td>10</td>\n",
       "      <td>2884660664377744674</td>\n",
       "      <td>1500717600</td>\n",
       "      <td>3</td>\n",
       "      <td>8</td>\n",
       "      <td>7834</td>\n",
       "      <td>...</td>\n",
       "      <td>21</td>\n",
       "      <td>2970743340414944099</td>\n",
       "      <td>-65</td>\n",
       "      <td>True</td>\n",
       "      <td>14626389373734152192</td>\n",
       "      <td>78</td>\n",
       "      <td>59.949646</td>\n",
       "      <td>2</td>\n",
       "      <td>-3235</td>\n",
       "      <td>1360803345112542720</td>\n",
       "    </tr>\n",
       "    <tr>\n",
       "      <th>400013</th>\n",
       "      <td>422518526921346549</td>\n",
       "      <td>-4</td>\n",
       "      <td>0</td>\n",
       "      <td>-3278</td>\n",
       "      <td>10</td>\n",
       "      <td>13638004307918185832</td>\n",
       "      <td>1500717600</td>\n",
       "      <td>2</td>\n",
       "      <td>8</td>\n",
       "      <td>7807</td>\n",
       "      <td>...</td>\n",
       "      <td>21</td>\n",
       "      <td>2970743340414944099</td>\n",
       "      <td>-94</td>\n",
       "      <td>True</td>\n",
       "      <td>14626389373734152192</td>\n",
       "      <td>78</td>\n",
       "      <td>59.944153</td>\n",
       "      <td>2</td>\n",
       "      <td>-3235</td>\n",
       "      <td>1360803345112542720</td>\n",
       "    </tr>\n",
       "    <tr>\n",
       "      <th>400014</th>\n",
       "      <td>422518526921346549</td>\n",
       "      <td>-4</td>\n",
       "      <td>0</td>\n",
       "      <td>-3278</td>\n",
       "      <td>10</td>\n",
       "      <td>2884660664377744674</td>\n",
       "      <td>1500717600</td>\n",
       "      <td>3</td>\n",
       "      <td>8</td>\n",
       "      <td>7834</td>\n",
       "      <td>...</td>\n",
       "      <td>21</td>\n",
       "      <td>2970743340414944099</td>\n",
       "      <td>-65</td>\n",
       "      <td>True</td>\n",
       "      <td>14626389373734152192</td>\n",
       "      <td>78</td>\n",
       "      <td>59.949646</td>\n",
       "      <td>2</td>\n",
       "      <td>-3235</td>\n",
       "      <td>1360803345112542720</td>\n",
       "    </tr>\n",
       "    <tr>\n",
       "      <th>400015</th>\n",
       "      <td>422518526921346549</td>\n",
       "      <td>-4</td>\n",
       "      <td>0</td>\n",
       "      <td>-3278</td>\n",
       "      <td>10</td>\n",
       "      <td>13638004307918185832</td>\n",
       "      <td>1500717600</td>\n",
       "      <td>2</td>\n",
       "      <td>8</td>\n",
       "      <td>7807</td>\n",
       "      <td>...</td>\n",
       "      <td>21</td>\n",
       "      <td>2970743340414944099</td>\n",
       "      <td>-94</td>\n",
       "      <td>True</td>\n",
       "      <td>14626389373734152192</td>\n",
       "      <td>78</td>\n",
       "      <td>59.944153</td>\n",
       "      <td>2</td>\n",
       "      <td>-3235</td>\n",
       "      <td>1360803345112542720</td>\n",
       "    </tr>\n",
       "    <tr>\n",
       "      <th>400016</th>\n",
       "      <td>422518526921346549</td>\n",
       "      <td>-4</td>\n",
       "      <td>0</td>\n",
       "      <td>-3278</td>\n",
       "      <td>10</td>\n",
       "      <td>2884660664377744674</td>\n",
       "      <td>1500717600</td>\n",
       "      <td>3</td>\n",
       "      <td>8</td>\n",
       "      <td>7834</td>\n",
       "      <td>...</td>\n",
       "      <td>21</td>\n",
       "      <td>2970743340414944099</td>\n",
       "      <td>-65</td>\n",
       "      <td>True</td>\n",
       "      <td>14626389373734152192</td>\n",
       "      <td>78</td>\n",
       "      <td>59.949646</td>\n",
       "      <td>2</td>\n",
       "      <td>-3235</td>\n",
       "      <td>1360803345112542720</td>\n",
       "    </tr>\n",
       "  </tbody>\n",
       "</table>\n",
       "<p>5 rows × 32 columns</p>\n",
       "</div>"
      ],
      "text/plain": [
       "                 hour_hash  sq_x  sq_y  EventTimestampDelta  day_hour  \\\n",
       "400012  422518526921346549    -4     0                -3278        10   \n",
       "400013  422518526921346549    -4     0                -3278        10   \n",
       "400014  422518526921346549    -4     0                -3278        10   \n",
       "400015  422518526921346549    -4     0                -3278        10   \n",
       "400016  422518526921346549    -4     0                -3278        10   \n",
       "\n",
       "                   cell_hash     sq_time  radio  LocationSpeed   LAC  \\\n",
       "400012   2884660664377744674  1500717600      3              8  7834   \n",
       "400013  13638004307918185832  1500717600      2              8  7807   \n",
       "400014   2884660664377744674  1500717600      3              8  7834   \n",
       "400015  13638004307918185832  1500717600      2              8  7807   \n",
       "400016   2884660664377744674  1500717600      3              8  7834   \n",
       "\n",
       "               ...          day             ver_hash  SignalStrength  rain  \\\n",
       "400012         ...           21  2970743340414944099             -65  True   \n",
       "400013         ...           21  2970743340414944099             -94  True   \n",
       "400014         ...           21  2970743340414944099             -65  True   \n",
       "400015         ...           21  2970743340414944099             -94  True   \n",
       "400016         ...           21  2970743340414944099             -65  True   \n",
       "\n",
       "                    u_hashed  city_code   cell_lat  OperatorID  \\\n",
       "400012  14626389373734152192         78  59.949646           2   \n",
       "400013  14626389373734152192         78  59.944153           2   \n",
       "400014  14626389373734152192         78  59.949646           2   \n",
       "400015  14626389373734152192         78  59.944153           2   \n",
       "400016  14626389373734152192         78  59.949646           2   \n",
       "\n",
       "        LocationTimestampDelta    device_model_hash  \n",
       "400012                   -3235  1360803345112542720  \n",
       "400013                   -3235  1360803345112542720  \n",
       "400014                   -3235  1360803345112542720  \n",
       "400015                   -3235  1360803345112542720  \n",
       "400016                   -3235  1360803345112542720  \n",
       "\n",
       "[5 rows x 32 columns]"
      ]
     },
     "execution_count": 40,
     "metadata": {},
     "output_type": "execute_result"
    }
   ],
   "source": [
    "plt.figure(figsize=[12,6])\n",
    "plt.subplot(1,2,1)\n",
    "plt.scatter(data['ulon'][::100],data['ulat'][::100],alpha=0.01,marker='.')\n",
    "plt.subplot(1,2,2)\n",
    "plt.hist(data['precipitation'][::100],range=[0,5],bins=30)\n",
    "plt.yscale('log')\n",
    "plt.xlabel(\"precipitation strength\")\n",
    "plt.show()\n",
    "\n",
    "data.head()"
   ]
  },
  {
   "cell_type": "code",
   "execution_count": 41,
   "metadata": {
    "collapsed": false
   },
   "outputs": [
    {
     "data": {
      "text/plain": [
       "Index(['hour_hash', 'sq_x', 'sq_y', 'EventTimestampDelta', 'day_hour',\n",
       "       'cell_hash', 'sq_time', 'radio', 'LocationSpeed', 'LAC', 'eventid',\n",
       "       'LocationPrecision', 'LocationAltitude', 'hours_since', 'sq_lat',\n",
       "       'sq_lon', 'range', 'ulat', 'LocationDirection', 'precipitation',\n",
       "       'cell_lon', 'ulon', 'day', 'ver_hash', 'SignalStrength', 'rain',\n",
       "       'u_hashed', 'city_code', 'cell_lat', 'OperatorID',\n",
       "       'LocationTimestampDelta', 'device_model_hash'],\n",
       "      dtype='object')"
      ]
     },
     "execution_count": 41,
     "metadata": {},
     "output_type": "execute_result"
    }
   ],
   "source": [
    "data.columns"
   ]
  },
  {
   "cell_type": "markdown",
   "metadata": {},
   "source": [
    "__Note:__ if you're low on memory, try this:\n",
    "* Most obviously, downsample data\n",
    "* Read one square at a time: read it, compute features, and only then read next square\n",
    "* Entries for each cell appear as subsequent rows in the dataset, so you can just read, say, 25% of the data and process it, then go for next 25%, etc.\n",
    "* Delete training data and intermediate aggregations liky `groupby` after you've done with feature engineering."
   ]
  },
  {
   "cell_type": "markdown",
   "metadata": {},
   "source": [
    "#### Working with netatmo\n",
    "\n",
    "Customer grade meteostations are excellent sources of data on rain. Alas, they're rather scarce and we're unlikely to find stations in every square/time block. Therefore we're gonna need to quickly find ones from neighboring blocks.\n",
    "\n",
    "For performance reasons, we'll use fast nearest neighbor lookup methods from sklearn.\n",
    "Note that those are not the fastest neighbor lookup methods available, but they should be enough for the baseline.\n",
    "\n",
    "We'll query the users that have neighboring longitude/lattitude within this hour. In this baseline we implicitly compute euclidian distance over latitude/longitude axes which has a number of problems: the distance gets larger as you move from equator to the poles. More importantly, this method does not take adjacent hours into consideration.\n",
    "You are invited to improve on those points in your solution :)\n"
   ]
  },
  {
   "cell_type": "code",
   "execution_count": 11,
   "metadata": {
    "collapsed": true
   },
   "outputs": [],
   "source": [
    "from sklearn.neighbors import KDTree\n",
    "def preprocess_netatmo(df):\n",
    "    \"\"\"organizes netatmo stations into KDTrees for each distinct time frame\"\"\"\n",
    "    \n",
    "    df_by_hour = df.groupby('hour_hash')\n",
    "    anns = {}\n",
    "    for hour,stations_group in df_by_hour:\n",
    "        anns[hour] = KDTree(stations_group[[\"netatmo_latitude\",\"netatmo_longitude\"]].values,metric='minkowski',p=2)\n",
    "    \n",
    "    #convert groupby to dict to get faster queries\n",
    "    df_by_hour = {group:stations_group for group,stations_group in df_by_hour}\n",
    "    \n",
    "    return df_by_hour,anns\n",
    "        "
   ]
  },
  {
   "cell_type": "code",
   "execution_count": 12,
   "metadata": {
    "collapsed": false
   },
   "outputs": [
    {
     "name": "stderr",
     "output_type": "stream",
     "text": [
      "/home/dz/anaconda3/lib/python3.6/site-packages/IPython/core/interactiveshell.py:2717: DtypeWarning: Columns (0) have mixed types. Specify dtype option on import or set low_memory=False.\n",
      "  interactivity=interactivity, compiler=compiler, result=result)\n"
     ]
    }
   ],
   "source": [
    "netatmo_groups,netatmo_anns = preprocess_netatmo(pd.read_csv(NETATMO_PATH,na_values=\"None\",sep='\\t'))"
   ]
  },
  {
   "cell_type": "markdown",
   "metadata": {},
   "source": [
    "## Feature engineering\n",
    "\n",
    "In this baseline, we're going to aggregate all user data from a specific square and a specific hour to predict whether it's raining in this square. We'll split data into blocks by `[sq_lon,sq_lat,sq_time]` and process such blocks independently.\n",
    "\n",
    "<img src=\"https://usercontent1.hubstatic.com/12943886_f520.jpg\" width=240px>\n",
    "\n",
    "\n",
    "The next cell defines a function that extracts features from such blocks. Feel free to add some new features here or drop those you believe to be harmful.\n",
    "\n",
    "Also note that this isn't the only way to process such data. See the [known unknowns](#known_unknowns) section."
   ]
  },
  {
   "cell_type": "code",
   "execution_count": 58,
   "metadata": {
    "collapsed": false
   },
   "outputs": [
    {
     "data": {
      "text/html": [
       "<div>\n",
       "<table border=\"1\" class=\"dataframe\">\n",
       "  <thead>\n",
       "    <tr style=\"text-align: right;\">\n",
       "      <th></th>\n",
       "      <th>hour_hash</th>\n",
       "      <th>sq_x</th>\n",
       "      <th>sq_y</th>\n",
       "      <th>EventTimestampDelta</th>\n",
       "      <th>day_hour</th>\n",
       "      <th>cell_hash</th>\n",
       "      <th>sq_time</th>\n",
       "      <th>radio</th>\n",
       "      <th>LocationSpeed</th>\n",
       "      <th>LAC</th>\n",
       "      <th>...</th>\n",
       "      <th>day</th>\n",
       "      <th>ver_hash</th>\n",
       "      <th>SignalStrength</th>\n",
       "      <th>rain</th>\n",
       "      <th>u_hashed</th>\n",
       "      <th>city_code</th>\n",
       "      <th>cell_lat</th>\n",
       "      <th>OperatorID</th>\n",
       "      <th>LocationTimestampDelta</th>\n",
       "      <th>device_model_hash</th>\n",
       "    </tr>\n",
       "  </thead>\n",
       "  <tbody>\n",
       "    <tr>\n",
       "      <th>400012</th>\n",
       "      <td>422518526921346549</td>\n",
       "      <td>-4</td>\n",
       "      <td>0</td>\n",
       "      <td>-3278</td>\n",
       "      <td>10</td>\n",
       "      <td>2884660664377744674</td>\n",
       "      <td>1500717600</td>\n",
       "      <td>3</td>\n",
       "      <td>8</td>\n",
       "      <td>7834</td>\n",
       "      <td>...</td>\n",
       "      <td>21</td>\n",
       "      <td>2970743340414944099</td>\n",
       "      <td>-65</td>\n",
       "      <td>True</td>\n",
       "      <td>14626389373734152192</td>\n",
       "      <td>78</td>\n",
       "      <td>59.949646</td>\n",
       "      <td>2</td>\n",
       "      <td>-3235</td>\n",
       "      <td>1360803345112542720</td>\n",
       "    </tr>\n",
       "    <tr>\n",
       "      <th>400013</th>\n",
       "      <td>422518526921346549</td>\n",
       "      <td>-4</td>\n",
       "      <td>0</td>\n",
       "      <td>-3278</td>\n",
       "      <td>10</td>\n",
       "      <td>13638004307918185832</td>\n",
       "      <td>1500717600</td>\n",
       "      <td>2</td>\n",
       "      <td>8</td>\n",
       "      <td>7807</td>\n",
       "      <td>...</td>\n",
       "      <td>21</td>\n",
       "      <td>2970743340414944099</td>\n",
       "      <td>-94</td>\n",
       "      <td>True</td>\n",
       "      <td>14626389373734152192</td>\n",
       "      <td>78</td>\n",
       "      <td>59.944153</td>\n",
       "      <td>2</td>\n",
       "      <td>-3235</td>\n",
       "      <td>1360803345112542720</td>\n",
       "    </tr>\n",
       "    <tr>\n",
       "      <th>400014</th>\n",
       "      <td>422518526921346549</td>\n",
       "      <td>-4</td>\n",
       "      <td>0</td>\n",
       "      <td>-3278</td>\n",
       "      <td>10</td>\n",
       "      <td>2884660664377744674</td>\n",
       "      <td>1500717600</td>\n",
       "      <td>3</td>\n",
       "      <td>8</td>\n",
       "      <td>7834</td>\n",
       "      <td>...</td>\n",
       "      <td>21</td>\n",
       "      <td>2970743340414944099</td>\n",
       "      <td>-65</td>\n",
       "      <td>True</td>\n",
       "      <td>14626389373734152192</td>\n",
       "      <td>78</td>\n",
       "      <td>59.949646</td>\n",
       "      <td>2</td>\n",
       "      <td>-3235</td>\n",
       "      <td>1360803345112542720</td>\n",
       "    </tr>\n",
       "    <tr>\n",
       "      <th>400015</th>\n",
       "      <td>422518526921346549</td>\n",
       "      <td>-4</td>\n",
       "      <td>0</td>\n",
       "      <td>-3278</td>\n",
       "      <td>10</td>\n",
       "      <td>13638004307918185832</td>\n",
       "      <td>1500717600</td>\n",
       "      <td>2</td>\n",
       "      <td>8</td>\n",
       "      <td>7807</td>\n",
       "      <td>...</td>\n",
       "      <td>21</td>\n",
       "      <td>2970743340414944099</td>\n",
       "      <td>-94</td>\n",
       "      <td>True</td>\n",
       "      <td>14626389373734152192</td>\n",
       "      <td>78</td>\n",
       "      <td>59.944153</td>\n",
       "      <td>2</td>\n",
       "      <td>-3235</td>\n",
       "      <td>1360803345112542720</td>\n",
       "    </tr>\n",
       "    <tr>\n",
       "      <th>400016</th>\n",
       "      <td>422518526921346549</td>\n",
       "      <td>-4</td>\n",
       "      <td>0</td>\n",
       "      <td>-3278</td>\n",
       "      <td>10</td>\n",
       "      <td>2884660664377744674</td>\n",
       "      <td>1500717600</td>\n",
       "      <td>3</td>\n",
       "      <td>8</td>\n",
       "      <td>7834</td>\n",
       "      <td>...</td>\n",
       "      <td>21</td>\n",
       "      <td>2970743340414944099</td>\n",
       "      <td>-65</td>\n",
       "      <td>True</td>\n",
       "      <td>14626389373734152192</td>\n",
       "      <td>78</td>\n",
       "      <td>59.949646</td>\n",
       "      <td>2</td>\n",
       "      <td>-3235</td>\n",
       "      <td>1360803345112542720</td>\n",
       "    </tr>\n",
       "  </tbody>\n",
       "</table>\n",
       "<p>5 rows × 32 columns</p>\n",
       "</div>"
      ],
      "text/plain": [
       "                 hour_hash  sq_x  sq_y  EventTimestampDelta  day_hour  \\\n",
       "400012  422518526921346549    -4     0                -3278        10   \n",
       "400013  422518526921346549    -4     0                -3278        10   \n",
       "400014  422518526921346549    -4     0                -3278        10   \n",
       "400015  422518526921346549    -4     0                -3278        10   \n",
       "400016  422518526921346549    -4     0                -3278        10   \n",
       "\n",
       "                   cell_hash     sq_time  radio  LocationSpeed   LAC  \\\n",
       "400012   2884660664377744674  1500717600      3              8  7834   \n",
       "400013  13638004307918185832  1500717600      2              8  7807   \n",
       "400014   2884660664377744674  1500717600      3              8  7834   \n",
       "400015  13638004307918185832  1500717600      2              8  7807   \n",
       "400016   2884660664377744674  1500717600      3              8  7834   \n",
       "\n",
       "               ...          day             ver_hash  SignalStrength  rain  \\\n",
       "400012         ...           21  2970743340414944099             -65  True   \n",
       "400013         ...           21  2970743340414944099             -94  True   \n",
       "400014         ...           21  2970743340414944099             -65  True   \n",
       "400015         ...           21  2970743340414944099             -94  True   \n",
       "400016         ...           21  2970743340414944099             -65  True   \n",
       "\n",
       "                    u_hashed  city_code   cell_lat  OperatorID  \\\n",
       "400012  14626389373734152192         78  59.949646           2   \n",
       "400013  14626389373734152192         78  59.944153           2   \n",
       "400014  14626389373734152192         78  59.949646           2   \n",
       "400015  14626389373734152192         78  59.944153           2   \n",
       "400016  14626389373734152192         78  59.949646           2   \n",
       "\n",
       "        LocationTimestampDelta    device_model_hash  \n",
       "400012                   -3235  1360803345112542720  \n",
       "400013                   -3235  1360803345112542720  \n",
       "400014                   -3235  1360803345112542720  \n",
       "400015                   -3235  1360803345112542720  \n",
       "400016                   -3235  1360803345112542720  \n",
       "\n",
       "[5 rows x 32 columns]"
      ]
     },
     "execution_count": 58,
     "metadata": {},
     "output_type": "execute_result"
    }
   ],
   "source": [
    "data.head()"
   ]
  },
  {
   "cell_type": "code",
   "execution_count": 63,
   "metadata": {
    "collapsed": false
   },
   "outputs": [
    {
     "data": {
      "text/plain": [
       "Index(['hour_hash', 'sq_x', 'sq_y', 'EventTimestampDelta', 'day_hour',\n",
       "       'cell_hash', 'sq_time', 'radio', 'LocationSpeed', 'LAC', 'eventid',\n",
       "       'LocationPrecision', 'LocationAltitude', 'hours_since', 'sq_lat',\n",
       "       'sq_lon', 'range', 'ulat', 'LocationDirection', 'precipitation',\n",
       "       'cell_lon', 'ulon', 'day', 'ver_hash', 'SignalStrength', 'rain',\n",
       "       'u_hashed', 'city_code', 'cell_lat', 'OperatorID',\n",
       "       'LocationTimestampDelta', 'device_model_hash'],\n",
       "      dtype='object')"
      ]
     },
     "execution_count": 63,
     "metadata": {},
     "output_type": "execute_result"
    }
   ],
   "source": [
    "data.columns"
   ]
  },
  {
   "cell_type": "code",
   "execution_count": 33,
   "metadata": {
    "collapsed": true
   },
   "outputs": [],
   "source": [
    "\n",
    "def extract_features(group,netatmo_groups,netatmo_anns):\n",
    "    \"\"\"\n",
    "    Extracts all kinds of features from a dataframe containing users in one group\n",
    "    \"\"\"\n",
    "    features = {}\n",
    "\n",
    "    #square features\n",
    "    square = {col: group[col].iloc[0] for col in group.columns}\n",
    "    \n",
    "    features['square_lat'] = square['sq_lat']\n",
    "    features['square_lon'] = square['sq_lon']\n",
    "    features['time_of_day'] = square['day_hour']\n",
    "\n",
    "    #signal strength\n",
    "    features['signal_mean'] = group['SignalStrength'].mean()\n",
    "    features['signal_var'] = group['SignalStrength'].var()\n",
    "\n",
    "    #features for each user\n",
    "    group_by_user = group.groupby('u_hashed')\n",
    "    group_by_user.apply(lambda group: group['ulat'].var()+group['ulon'].var())\n",
    "    \n",
    "    features['num_users'] = len(group_by_user)\n",
    "    features['mean_entries_per_user'] = group_by_user.apply(len).mean()\n",
    "    features['mean_user_signal_var'] = group_by_user.apply(\n",
    "        lambda user_entries: user_entries['SignalStrength'].var()).mean()\n",
    "    \n",
    "    #netatmo features\n",
    "    if square['hour_hash'] in netatmo_groups:\n",
    "        local_stations,neighbors = netatmo_groups[square['hour_hash']],netatmo_anns[square['hour_hash']]\n",
    "        [distances],[neighbor_ids] = neighbors.query([(square['sq_lat'],square['sq_lon'])],k=10)\n",
    "\n",
    "        neighbor_stations = local_stations.iloc[neighbor_ids]\n",
    "\n",
    "        features['distance_to_closest_station'] = np.min(distances)\n",
    "        features['mean_distance_to_station'] = np.mean(distances)\n",
    "\n",
    "        for colname in ['netatmo_pressure_mbar','netatmo_temperature_c','netatmo_sum_rain_24h',\n",
    "                        'netatmo_humidity_percent',\"netatmo_wind_speed_kmh\",\"netatmo_wind_gust_speed_kmh\"]:\n",
    "            col = neighbor_stations[colname].dropna()\n",
    "            if len(col)!=0:\n",
    "                features[colname+\"_mean\"],features[colname+\"_std\"] = col.mean(),col.var()\n",
    "            else:\n",
    "                features[colname+\"_mean\"],features[colname+\"_std\"] = np.nan,np.nan\n",
    "\n",
    "    return features\n",
    "    "
   ]
  },
  {
   "cell_type": "code",
   "execution_count": 13,
   "metadata": {
    "collapsed": false
   },
   "outputs": [],
   "source": [
    "\n",
    "def extract_features(group,netatmo_groups,netatmo_anns):\n",
    "    \"\"\"\n",
    "    Extracts all kinds of features from a dataframe containing users in one group\n",
    "    \"\"\"\n",
    "    features = {}\n",
    "\n",
    "    #square features\n",
    "    square = {col: group[col].iloc[0] for col in group.columns}\n",
    "    \n",
    "    features['square_lat'] = square['sq_lat']\n",
    "    features['square_lon'] = square['sq_lon']\n",
    "    features['time_of_day'] = square['day_hour']\n",
    "    #features['time_of_day'] = square['day_hour']\n",
    "    #features['time_of_day'] = square['day_hour']\n",
    "    features['signal_sum'] = group['SignalStrength'].sum()\n",
    "    features['time_std'] = abs(group['EventTimestampDelta']-group['LocationTimestampDelta']).std()\n",
    "    features['time_mean'] = abs(group['EventTimestampDelta']-group['LocationTimestampDelta']).mean()\n",
    "    features['time_median'] = abs(group['EventTimestampDelta']-group['LocationTimestampDelta']).median()\n",
    "    features['time_dm'] = features['time_mean'] - features['time_median']\n",
    "    #signal strength\n",
    "    features['signal_mean'] = group['SignalStrength'].mean()\n",
    "    features['signal_std'] = group['SignalStrength'].std()\n",
    "    features['signal_median'] = group['SignalStrength'].median()\n",
    "    features['signal_max'] = group['SignalStrength'].max()\n",
    "    features['signal_min'] = group['SignalStrength'].min()\n",
    "    features['signal_sem'] = group['SignalStrength'].sem()\n",
    "    features['signal_q_25'] = group['SignalStrength'].quantile(0.25)\n",
    "    features['signal_q_75'] = group['SignalStrength'].quantile(0.75)\n",
    "    features['signal_max-min'] = features['signal_max'] - features['signal_min']\n",
    "    features['signal_max+min'] = (features['signal_max'] + features['signal_min'])/2\n",
    "    features['signal_q75-q25'] = features['signal_q_25'] - features['signal_q_75']\n",
    "    \n",
    "    features['signal_dm'] = features['signal_mean'] - features['signal_median']\n",
    "    features['signal_dmm'] = features['signal_mean'] - features['signal_max+min']\n",
    "    features['signal_dmmm'] = features['signal_median'] - features['signal_max+min']\n",
    "    #Location Precision\n",
    "    features['LocationPrecision_mean'] = group['LocationPrecision'].mean()\n",
    "    features['LocationPrecision_std'] = group['LocationPrecision'].std()\n",
    "    features['LocationPrecision_median'] = group['LocationPrecision'].median()\n",
    "    features['LocationPrecision_max'] = group['LocationPrecision'].max()\n",
    "    features['LocationPrecision_min'] = group['LocationPrecision'].min()\n",
    "    features['LocationPrecision_sem'] = group['LocationPrecision'].sem()\n",
    "    features['LocationPrecision_q_25'] = group['LocationPrecision'].quantile(0.25)\n",
    "    features['LocationPrecision_q_75'] = group['LocationPrecision'].quantile(0.75)\n",
    "    features['LocationPrecision_max-min'] = features['LocationPrecision_max'] - features['LocationPrecision_min']\n",
    "    features['LocationPrecision_max+min'] = (features['LocationPrecision_max'] + features['LocationPrecision_min'])/2\n",
    "    features['LocationPrecision_q75-q25'] = features['LocationPrecision_q_25'] - features['LocationPrecision_q_75']\n",
    "    \n",
    "    #LocationSpeed\n",
    "    features['LocationSpeed_mean'] = group['LocationSpeed'].mean()\n",
    "    features['LocationSpeed_std'] = group['LocationSpeed'].std()\n",
    "    features['LocationSpeed_median'] = group['LocationSpeed'].median()\n",
    "    features['LocationSpeed_max'] = group['LocationSpeed'].max()\n",
    "    features['LocationSpeed_min'] = group['LocationSpeed'].min()\n",
    "    features['LocationSpeed_sem'] = group['LocationSpeed'].sem()\n",
    "    features['LocationSpeed_q_25'] = group['LocationSpeed'].quantile(0.25)\n",
    "    features['LocationSpeed_q_75'] = group['LocationSpeed'].quantile(0.75)\n",
    "    features['LocationSpeed_max-min'] = features['LocationSpeed_max'] - features['LocationSpeed_min']\n",
    "    features['LocationSpeed_max+min'] = (features['LocationSpeed_max'] + features['LocationSpeed_min'])/2\n",
    "    features['LocationSpeed_q75-q25'] = features['LocationSpeed_q_25'] - features['LocationSpeed_q_75']\n",
    "    \n",
    "    '''\n",
    "    #signal strength\n",
    "    features['signal_mean'] = group['SignalStrength'].mean()\n",
    "    features['signal_std'] = group['SignalStrength'].std()\n",
    "    features['signal_median'] = group['SignalStrength'].median()\n",
    "    features['signal_max'] = group['SignalStrength'].max()\n",
    "    features['signal_min'] = group['SignalStrength'].min()\n",
    "    features['signal_sem'] = group['SignalStrength'].sem()\n",
    "    features['signal_q_25'] = group['SignalStrength'].quantile(0.25)\n",
    "    features['signal_q_75'] = group['SignalStrength'].quantile(0.75)\n",
    "    features['max-min'] = features['signal_max'] - features['signal_min']\n",
    "    features['max+min'] = (features['signal_max'] + features['signal_min'])/2\n",
    "    features['q75-q25'] = features['signal_q_25'] - features['signal_q_75']\n",
    "    '''\n",
    "    \n",
    "    \n",
    "    \n",
    "    \n",
    "    \n",
    "\n",
    "    #features for each user\n",
    "    group_by_user = group.groupby('u_hashed')\n",
    "    group_by_user.apply(lambda group: group['ulat'].std()+group['ulon'].std())\n",
    "    \n",
    "    features['num_users'] = len(group_by_user)\n",
    "    features['mean_entries_per_user'] = group_by_user.apply(len).mean()\n",
    "    features['median_entries_per_user'] = group_by_user.apply(len).median()\n",
    "    features['mean_user_signal_std'] = group_by_user.apply(\n",
    "        lambda user_entries: user_entries['SignalStrength'].std()).mean()\n",
    "    features['median_user_signal_std'] = group_by_user.apply(\n",
    "        lambda user_entries: user_entries['SignalStrength'].std()).median()\n",
    "    features['dm_entries_per_user'] = features['mean_entries_per_user'] - features['median_entries_per_user']\n",
    "    features['dm_signal_std'] = features['mean_user_signal_std'] - features['median_user_signal_std']\n",
    "    #netatmo features\n",
    "    if square['hour_hash'] in netatmo_groups:\n",
    "        local_stations,neighbors = netatmo_groups[square['hour_hash']],netatmo_anns[square['hour_hash']]\n",
    "        [distances],[neighbor_ids] = neighbors.query([(square['sq_lat'],square['sq_lon'])],k=20)\n",
    "\n",
    "        neighbor_stations = local_stations.iloc[neighbor_ids]\n",
    "\n",
    "        features['min_distance_to_closest_station'] = np.min(distances)\n",
    "        features['max_distance_to_closest_station'] = np.max(distances)\n",
    "        features['max+min_distance_to_closest_station'] = (features['min_distance_to_closest_station'] +features['max_distance_to_closest_station']) /2\n",
    "        features['median_distance_to_closest_station'] = np.median(distances)\n",
    "        features['mean_distance_to_station'] = np.mean(distances)\n",
    "\n",
    "        for colname in ['netatmo_pressure_mbar','netatmo_temperature_c','netatmo_sum_rain_24h',\n",
    "                        'netatmo_humidity_percent',\"netatmo_wind_speed_kmh\",\"netatmo_wind_gust_speed_kmh\"]:\n",
    "            col = neighbor_stations[colname].dropna()\n",
    "            if len(col)!=0:\n",
    "                features[colname+\"_mean\"],features[colname+\"_std\"], features[colname+\"_median\"] = col.mean(),col.std(),col.median()\n",
    "            else:\n",
    "                features[colname+\"_mean\"],features[colname+\"_std\"],features[colname+\"_median\"] = np.nan,np.nan,np.nan\n",
    "\n",
    "    return features\n",
    "    "
   ]
  },
  {
   "cell_type": "code",
   "execution_count": 4,
   "metadata": {
    "collapsed": false
   },
   "outputs": [
    {
     "name": "stderr",
     "output_type": "stream",
     "text": [
      "/home/dz/anaconda3/lib/python3.6/site-packages/IPython/core/interactiveshell.py:2717: DtypeWarning: Columns (1) have mixed types. Specify dtype option on import or set low_memory=False.\n",
      "  interactivity=interactivity, compiler=compiler, result=result)\n"
     ]
    }
   ],
   "source": [
    "data = pd.read_csv('data/datatr.csv')"
   ]
  },
  {
   "cell_type": "markdown",
   "metadata": {},
   "source": [
    "We now apply it to all the squares we have.\n",
    "\n",
    "This may take time, more so if you use complex features, so you can try to speed stuff up by using [joblib.Parallel](http://pythonhosted.org/joblib/parallel.html) or similar."
   ]
  },
  {
   "cell_type": "code",
   "execution_count": 5,
   "metadata": {
    "collapsed": false
   },
   "outputs": [
    {
     "name": "stderr",
     "output_type": "stream",
     "text": [
      "100%|██████████| 22381/22381 [00:22<00:00, 1004.07it/s]\n"
     ]
    }
   ],
   "source": [
    "from tqdm import tqdm\n",
    "\n",
    "groupby = data.groupby([\"city_code\",\"sq_x\",\"sq_y\",\"hour_hash\"])\n",
    "\n",
    "X,y,block_ids = [],[],[]\n",
    "\n",
    "for block_id in tqdm(groupby.groups):\n",
    "    group = groupby.get_group(block_id)\n",
    "    #X.append(extract_features(group,netatmo_groups,netatmo_anns))\n",
    "    y.append(group.iloc[0]['rain'])\n",
    "    block_ids.append(block_id+(group.iloc[0][\"hours_since\"],))\n",
    "\n",
    "X = pd.DataFrame(X)#.fillna(-999.)\n",
    "y = np.array(y)\n",
    "block_ids = pd.DataFrame(block_ids,columns=[\"city_code\",\"sq_x\",\"sq_y\",\"hour_hash\",\"hours_since\"])"
   ]
  },
  {
   "cell_type": "code",
   "execution_count": 34,
   "metadata": {
    "collapsed": false
   },
   "outputs": [
    {
     "name": "stderr",
     "output_type": "stream",
     "text": [
      "100%|██████████| 22381/22381 [05:57<00:00, 62.66it/s]\n"
     ]
    }
   ],
   "source": [
    "from tqdm import tqdm\n",
    "\n",
    "groupby = data.groupby([\"city_code\",\"sq_x\",\"sq_y\",\"hour_hash\"])\n",
    "\n",
    "X,y,block_ids = [],[],[]\n",
    "\n",
    "for block_id in tqdm(groupby.groups):\n",
    "    group = groupby.get_group(block_id)\n",
    "    X.append(extract_features(group,netatmo_groups,netatmo_anns))\n",
    "    y.append(group.iloc[0]['rain'])\n",
    "    block_ids.append(block_id+(group.iloc[0][\"hours_since\"],))\n",
    "\n",
    "X = pd.DataFrame(X)#.fillna(-999.)\n",
    "y = np.array(y)\n",
    "block_ids = pd.DataFrame(block_ids,columns=[\"city_code\",\"sq_x\",\"sq_y\",\"hour_hash\",\"hours_since\"])"
   ]
  },
  {
   "cell_type": "markdown",
   "metadata": {},
   "source": [
    "__Note:__ If you're low on memory, it's time to either delete train & groupby or pickle X/y/block_ids and restart."
   ]
  },
  {
   "cell_type": "code",
   "execution_count": 35,
   "metadata": {
    "collapsed": false
   },
   "outputs": [
    {
     "data": {
      "text/plain": [
       "((22381, 22), (22381,))"
      ]
     },
     "execution_count": 35,
     "metadata": {},
     "output_type": "execute_result"
    }
   ],
   "source": [
    "X.shape,y.shape"
   ]
  },
  {
   "cell_type": "code",
   "execution_count": 31,
   "metadata": {
    "collapsed": true
   },
   "outputs": [],
   "source": [
    "data.to_csv('data/datatr.csv')\n"
   ]
  },
  {
   "cell_type": "code",
   "execution_count": 17,
   "metadata": {
    "collapsed": true
   },
   "outputs": [],
   "source": [
    "yy = pd.DataFrame()\n",
    "yy['y'] = y\n",
    "yy.to_csv('data/y.csv')"
   ]
  },
  {
   "cell_type": "code",
   "execution_count": 19,
   "metadata": {
    "collapsed": false
   },
   "outputs": [
    {
     "data": {
      "text/html": [
       "<div>\n",
       "<table border=\"1\" class=\"dataframe\">\n",
       "  <thead>\n",
       "    <tr style=\"text-align: right;\">\n",
       "      <th></th>\n",
       "      <th>y</th>\n",
       "    </tr>\n",
       "  </thead>\n",
       "  <tbody>\n",
       "    <tr>\n",
       "      <th>0</th>\n",
       "      <td>False</td>\n",
       "    </tr>\n",
       "    <tr>\n",
       "      <th>1</th>\n",
       "      <td>False</td>\n",
       "    </tr>\n",
       "    <tr>\n",
       "      <th>2</th>\n",
       "      <td>False</td>\n",
       "    </tr>\n",
       "    <tr>\n",
       "      <th>3</th>\n",
       "      <td>False</td>\n",
       "    </tr>\n",
       "    <tr>\n",
       "      <th>4</th>\n",
       "      <td>False</td>\n",
       "    </tr>\n",
       "  </tbody>\n",
       "</table>\n",
       "</div>"
      ],
      "text/plain": [
       "       y\n",
       "0  False\n",
       "1  False\n",
       "2  False\n",
       "3  False\n",
       "4  False"
      ]
     },
     "execution_count": 19,
     "metadata": {},
     "output_type": "execute_result"
    }
   ],
   "source": [
    "yy.head()"
   ]
  },
  {
   "cell_type": "code",
   "execution_count": 18,
   "metadata": {
    "collapsed": false
   },
   "outputs": [],
   "source": [
    "X.to_csv('data/Xtr.csv')"
   ]
  },
  {
   "cell_type": "markdown",
   "metadata": {},
   "source": [
    "### Classifier\n",
    "\n",
    "Once the data is processed, it's time to train some machine learning model that would predict rain given all features we gathered.\n",
    "\n",
    "Since our features are all of different nature and unit scale (hours,decibels,degrees,etc.), it makes sense to use decision tree-based methods to for classification.\n",
    "\n",
    "\n",
    "<img src=\"http://zdnet2.cbsistatic.com/hub/i/2017/07/18/d3f47c3e-8529-4855-a0e1-c686ee3b4007/d1113adf74bb59c3b46419a531c39c3e/orig.png\" width=320>\n",
    "In particular, we apply [CatBoost](https://catboost.yandex/), Yandex' recent open source gradient boosting implementation.\n",
    "\n",
    "To make this baseline simple, we use catboost with default settings. You can certainly find a better combination of parameters. \n",
    "\n",
    "Here's a [guide](https://tech.yandex.com/catboost/doc/dg/concepts/parameter-tuning-docpage/) on how catboost hyperparameters work."
   ]
  },
  {
   "cell_type": "code",
   "execution_count": 6,
   "metadata": {
    "collapsed": true
   },
   "outputs": [],
   "source": [
    "X = pd.read_csv('data/Xtr.csv')\n",
    "y = np.array(pd.read_csv('data/y.csv'))"
   ]
  },
  {
   "cell_type": "code",
   "execution_count": 36,
   "metadata": {
    "collapsed": false
   },
   "outputs": [
    {
     "name": "stdout",
     "output_type": "stream",
     "text": [
      "Training samples: 19077; Validation samples: 3304\n"
     ]
    }
   ],
   "source": [
    "in_train = block_ids['hours_since'] <= np.percentile(block_ids['hours_since'],85) #leave last 15% for validation\n",
    "\n",
    "X_train,y_train = X[in_train],y[in_train]\n",
    "X_val,y_val = X[~in_train],y[~in_train]\n",
    "print(\"Training samples: %i; Validation samples: %i\"%(len(X_train),len(X_val)))"
   ]
  },
  {
   "cell_type": "code",
   "execution_count": 21,
   "metadata": {
    "collapsed": false
   },
   "outputs": [
    {
     "data": {
      "text/plain": [
       "((22381, 74), (22381,))"
      ]
     },
     "execution_count": 21,
     "metadata": {},
     "output_type": "execute_result"
    }
   ],
   "source": [
    "X.shape,y.shape"
   ]
  },
  {
   "cell_type": "code",
   "execution_count": 22,
   "metadata": {
    "collapsed": false
   },
   "outputs": [
    {
     "name": "stderr",
     "output_type": "stream",
     "text": [
      "/home/dz/anaconda3/lib/python3.6/site-packages/sklearn/cross_validation.py:44: DeprecationWarning: This module was deprecated in version 0.18 in favor of the model_selection module into which all the refactored classes and functions are moved. Also note that the interface of the new CV iterators are different from that of this module. This module will be removed in 0.20.\n",
      "  \"This module will be removed in 0.20.\", DeprecationWarning)\n"
     ]
    }
   ],
   "source": [
    "import xgboost as xgb"
   ]
  },
  {
   "cell_type": "code",
   "execution_count": 37,
   "metadata": {
    "collapsed": false
   },
   "outputs": [],
   "source": [
    "dtr = xgb.DMatrix(X_train, label=y_train)\n",
    "dval = xgb.DMatrix(X_val, label=y_val)\n",
    "watchlist = [(dtr, 'train'), (dval, 'eval')]\n",
    "history = dict()\n",
    "params = {\n",
    "    'max_depth': 5,\n",
    "    'eta': 0.025,\n",
    "    'objective':  \"binary:logistic\",\n",
    "    'eval_metric' : 'auc',\n",
    "    'nthread': 4,\n",
    "    'subsample': 0.8,\n",
    "    'colsample_bytree': 0.8,\n",
    "    'min_child_weight': 50,\n",
    "    'seed':7\n",
    "}"
   ]
  },
  {
   "cell_type": "code",
   "execution_count": 38,
   "metadata": {
    "collapsed": false
   },
   "outputs": [
    {
     "name": "stdout",
     "output_type": "stream",
     "text": [
      "[0]\ttrain-auc:0.688593\teval-auc:0.588477\n",
      "[10]\ttrain-auc:0.74003\teval-auc:0.587787\n",
      "[20]\ttrain-auc:0.748935\teval-auc:0.598691\n",
      "[30]\ttrain-auc:0.755814\teval-auc:0.607096\n",
      "[40]\ttrain-auc:0.758372\teval-auc:0.607187\n",
      "[50]\ttrain-auc:0.762092\teval-auc:0.618856\n",
      "[60]\ttrain-auc:0.765888\teval-auc:0.619292\n",
      "[70]\ttrain-auc:0.770579\teval-auc:0.625995\n",
      "[80]\ttrain-auc:0.773034\teval-auc:0.626868\n",
      "[90]\ttrain-auc:0.777196\teval-auc:0.634508\n",
      "[100]\ttrain-auc:0.779771\teval-auc:0.634719\n",
      "[110]\ttrain-auc:0.783795\teval-auc:0.639688\n",
      "[120]\ttrain-auc:0.787586\teval-auc:0.645544\n",
      "[130]\ttrain-auc:0.790103\teval-auc:0.649224\n",
      "[140]\ttrain-auc:0.79428\teval-auc:0.651258\n",
      "[150]\ttrain-auc:0.796623\teval-auc:0.653725\n",
      "[160]\ttrain-auc:0.799539\teval-auc:0.658166\n",
      "[170]\ttrain-auc:0.801948\teval-auc:0.66109\n",
      "[180]\ttrain-auc:0.804542\teval-auc:0.662395\n",
      "[190]\ttrain-auc:0.806302\teval-auc:0.662169\n",
      "[200]\ttrain-auc:0.808128\teval-auc:0.662695\n",
      "[210]\ttrain-auc:0.811196\teval-auc:0.663035\n",
      "[220]\ttrain-auc:0.813406\teval-auc:0.666606\n",
      "[230]\ttrain-auc:0.815923\teval-auc:0.666235\n",
      "[240]\ttrain-auc:0.818331\teval-auc:0.66577\n",
      "[250]\ttrain-auc:0.820289\teval-auc:0.664852\n",
      "[260]\ttrain-auc:0.822482\teval-auc:0.665448\n",
      "[270]\ttrain-auc:0.824495\teval-auc:0.66763\n",
      "[280]\ttrain-auc:0.82591\teval-auc:0.667157\n",
      "[290]\ttrain-auc:0.827996\teval-auc:0.667951\n",
      "[300]\ttrain-auc:0.829735\teval-auc:0.667526\n",
      "[310]\ttrain-auc:0.831938\teval-auc:0.670143\n",
      "[320]\ttrain-auc:0.833759\teval-auc:0.671034\n",
      "[330]\ttrain-auc:0.83521\teval-auc:0.671102\n",
      "[340]\ttrain-auc:0.836655\teval-auc:0.672267\n",
      "[350]\ttrain-auc:0.837894\teval-auc:0.6717\n",
      "[360]\ttrain-auc:0.839877\teval-auc:0.670339\n",
      "[370]\ttrain-auc:0.841542\teval-auc:0.670832\n",
      "[380]\ttrain-auc:0.84262\teval-auc:0.671241\n",
      "[390]\ttrain-auc:0.843505\teval-auc:0.670627\n",
      "[400]\ttrain-auc:0.845152\teval-auc:0.672544\n",
      "[410]\ttrain-auc:0.846213\teval-auc:0.67157\n",
      "[420]\ttrain-auc:0.847684\teval-auc:0.672089\n",
      "[430]\ttrain-auc:0.849163\teval-auc:0.672564\n",
      "[440]\ttrain-auc:0.850276\teval-auc:0.67209\n",
      "[450]\ttrain-auc:0.852017\teval-auc:0.674523\n",
      "[460]\ttrain-auc:0.853363\teval-auc:0.674326\n",
      "[470]\ttrain-auc:0.854583\teval-auc:0.67629\n",
      "[480]\ttrain-auc:0.85594\teval-auc:0.6767\n",
      "[490]\ttrain-auc:0.85695\teval-auc:0.676056\n"
     ]
    }
   ],
   "source": [
    "model = xgb.train(params, dtr, num_boost_round=500, evals=watchlist,evals_result=history, verbose_eval=10)"
   ]
  },
  {
   "cell_type": "code",
   "execution_count": 32,
   "metadata": {
    "collapsed": false
   },
   "outputs": [
    {
     "name": "stdout",
     "output_type": "stream",
     "text": [
      "[0]\ttrain-auc:0.739152\teval-auc:0.637049\n",
      "[10]\ttrain-auc:0.774755\teval-auc:0.65183\n",
      "[20]\ttrain-auc:0.779083\teval-auc:0.645738\n",
      "[30]\ttrain-auc:0.783729\teval-auc:0.650622\n",
      "[40]\ttrain-auc:0.787999\teval-auc:0.656943\n",
      "[50]\ttrain-auc:0.791767\teval-auc:0.665197\n",
      "[60]\ttrain-auc:0.793851\teval-auc:0.667413\n",
      "[70]\ttrain-auc:0.799188\teval-auc:0.674892\n",
      "[80]\ttrain-auc:0.802983\teval-auc:0.679085\n",
      "[90]\ttrain-auc:0.806337\teval-auc:0.680242\n",
      "[100]\ttrain-auc:0.808359\teval-auc:0.683031\n",
      "[110]\ttrain-auc:0.811373\teval-auc:0.683126\n",
      "[120]\ttrain-auc:0.815862\teval-auc:0.690262\n",
      "[130]\ttrain-auc:0.819705\teval-auc:0.695758\n",
      "[140]\ttrain-auc:0.823459\teval-auc:0.698362\n",
      "[150]\ttrain-auc:0.826121\teval-auc:0.698017\n",
      "[160]\ttrain-auc:0.828091\teval-auc:0.697219\n",
      "[170]\ttrain-auc:0.830312\teval-auc:0.702368\n",
      "[180]\ttrain-auc:0.833444\teval-auc:0.706125\n",
      "[190]\ttrain-auc:0.836199\teval-auc:0.709053\n",
      "[200]\ttrain-auc:0.838973\teval-auc:0.709676\n",
      "[210]\ttrain-auc:0.841083\teval-auc:0.709652\n",
      "[220]\ttrain-auc:0.844253\teval-auc:0.710919\n",
      "[230]\ttrain-auc:0.846408\teval-auc:0.710225\n",
      "[240]\ttrain-auc:0.849263\teval-auc:0.710058\n",
      "[250]\ttrain-auc:0.851934\teval-auc:0.709427\n",
      "[260]\ttrain-auc:0.854468\teval-auc:0.712556\n",
      "[270]\ttrain-auc:0.856568\teval-auc:0.714058\n",
      "[280]\ttrain-auc:0.859632\teval-auc:0.715961\n",
      "[290]\ttrain-auc:0.861677\teval-auc:0.71634\n",
      "[300]\ttrain-auc:0.863272\teval-auc:0.71772\n",
      "[310]\ttrain-auc:0.865055\teval-auc:0.71745\n",
      "[320]\ttrain-auc:0.866157\teval-auc:0.717218\n",
      "[330]\ttrain-auc:0.868527\teval-auc:0.717673\n",
      "[340]\ttrain-auc:0.869795\teval-auc:0.716642\n",
      "[350]\ttrain-auc:0.871647\teval-auc:0.717804\n",
      "[360]\ttrain-auc:0.873263\teval-auc:0.718572\n",
      "[370]\ttrain-auc:0.874711\teval-auc:0.718711\n",
      "[380]\ttrain-auc:0.876743\teval-auc:0.720518\n",
      "[390]\ttrain-auc:0.878444\teval-auc:0.720063\n",
      "[400]\ttrain-auc:0.880278\teval-auc:0.718826\n",
      "[410]\ttrain-auc:0.881512\teval-auc:0.71938\n",
      "[420]\ttrain-auc:0.882916\teval-auc:0.720108\n",
      "[430]\ttrain-auc:0.884282\teval-auc:0.7195\n",
      "[440]\ttrain-auc:0.885521\teval-auc:0.72012\n",
      "[450]\ttrain-auc:0.886769\teval-auc:0.719994\n",
      "[460]\ttrain-auc:0.887938\teval-auc:0.719187\n",
      "[470]\ttrain-auc:0.889096\teval-auc:0.719186\n",
      "[480]\ttrain-auc:0.890027\teval-auc:0.718663\n",
      "[490]\ttrain-auc:0.891149\teval-auc:0.719546\n"
     ]
    }
   ],
   "source": [
    "model = xgb.train(params, dtr, num_boost_round=500, evals=watchlist,evals_result=history, verbose_eval=10)"
   ]
  },
  {
   "cell_type": "code",
   "execution_count": null,
   "metadata": {
    "collapsed": true
   },
   "outputs": [],
   "source": []
  },
  {
   "cell_type": "code",
   "execution_count": null,
   "metadata": {
    "collapsed": true
   },
   "outputs": [],
   "source": []
  },
  {
   "cell_type": "code",
   "execution_count": null,
   "metadata": {
    "collapsed": true
   },
   "outputs": [],
   "source": []
  },
  {
   "cell_type": "code",
   "execution_count": null,
   "metadata": {
    "collapsed": false
   },
   "outputs": [],
   "source": [
    "#if you don't have catboost installed, use !pip install catboost\n",
    "from catboost import CatBoostClassifier\n",
    "\n",
    "model = CatBoostClassifier().fit(X_train,y_train)"
   ]
  },
  {
   "cell_type": "markdown",
   "metadata": {},
   "source": [
    "### Analyzing results\n",
    "\n",
    "Here you can see importances of all individual features, ranked from worst to best.\n",
    "\n"
   ]
  },
  {
   "cell_type": "code",
   "execution_count": null,
   "metadata": {
    "collapsed": false
   },
   "outputs": [],
   "source": [
    "from sklearn.metrics import roc_auc_score,roc_curve\n",
    "import matplotlib.pyplot as plt\n",
    "%matplotlib inline\n",
    "\n",
    "y_train_pred = model.predict_proba(X_train)[:,1]\n",
    "print(\"Train ROC AUC:\",roc_auc_score(y_train,y_train_pred))\n",
    "\n",
    "fpr,tpr,_ = roc_curve(y_train, y_train_pred)\n",
    "plt.plot(fpr,tpr,label='train AUC')\n",
    "\n",
    "y_val_pred = model.predict_proba(X_val)[:,1]\n",
    "print(\"Val ROC AUC:\",roc_auc_score(y_val,y_val_pred))\n",
    "\n",
    "fpr,tpr,_ = roc_curve(y_val, y_val_pred)\n",
    "plt.plot(fpr,tpr,label='validation AUC')\n",
    "\n",
    "plt.plot([0,1],[0,1])\n",
    "plt.legend(loc='lower right')"
   ]
  },
  {
   "cell_type": "code",
   "execution_count": null,
   "metadata": {
    "collapsed": false
   },
   "outputs": [],
   "source": [
    "order = np.argsort(model._feature_importance)\n",
    "plt.figure(figsize=[6,9])\n",
    "plt.plot(np.array(model._feature_importance)[order],range(len(order)),marker='o')\n",
    "plt.hlines(range(len(order)),np.zeros_like(order),np.array(model._feature_importance)[order],linestyles=':')\n",
    "plt.yticks(range(X.shape[1]),X.columns[order]);\n",
    "plt.tick_params(labelsize=16)\n",
    "plt.xlim([0.1,max(model._feature_importance)*1.5])\n",
    "plt.ylim(-1,len(order))\n",
    "plt.xscale('log')"
   ]
  },
  {
   "cell_type": "markdown",
   "metadata": {
    "collapsed": true
   },
   "source": [
    "## Final model and uploading the results\n",
    "\n",
    "\n",
    "Competition data contains three cities: Moscow, Saint-Petersburg and Kazan. To submit a prediction, you'll have to run this baseline three times separately for each city and concatenate the results. \n",
    "\n",
    "The code assumes that you ran this solution for each city (see comments below)."
   ]
  },
  {
   "cell_type": "code",
   "execution_count": null,
   "metadata": {
    "collapsed": true
   },
   "outputs": [],
   "source": [
    "#Train the model on full data. Copy model definition here.\n",
    "\n",
    "model = CatBoostClassifier().fit(X,y)"
   ]
  },
  {
   "cell_type": "code",
   "execution_count": null,
   "metadata": {
    "collapsed": true
   },
   "outputs": [],
   "source": [
    "\n",
    "test = pd.read_csv(TEST_PATH, sep='\\t',dtype=json.load(open(\"./data/test_col_dtypes.json\")),)\n",
    "test_groupby = test.groupby([\"city_code\",\"sq_x\",\"sq_y\",\"hour_hash\"])\n",
    "test_netatmo_groups,test_netatmo_anns = preprocess_netatmo(pd.read_csv(TEST_NETATMO_PATH,na_values=\"None\",\n",
    "                                                                       sep='\\t',dtype={'hour_hash':\"uint64\"}))\n"
   ]
  },
  {
   "cell_type": "code",
   "execution_count": null,
   "metadata": {
    "collapsed": false
   },
   "outputs": [],
   "source": [
    "X_test,test_block_ids = [],[]\n",
    "for block_id in tqdm(test_groupby.groups):\n",
    "    group = test_groupby.get_group(block_id)\n",
    "    X_test.append(extract_features(group,test_netatmo_groups,test_netatmo_anns))\n",
    "    test_block_ids.append(block_id)\n",
    "    \n",
    "X_test = pd.DataFrame(X_test)\n",
    "test_block_ids = pd.DataFrame(test_block_ids,columns=[\"city_code\",\"sq_x\",\"sq_y\",\"hour_hash\"])"
   ]
  },
  {
   "cell_type": "code",
   "execution_count": null,
   "metadata": {
    "collapsed": false
   },
   "outputs": [],
   "source": [
    "#This code saves the prediction for one city.\n",
    "prediction_for_one_city = test_block_ids.copy()\n",
    "prediction_for_one_city[\"prediction\"] = model.predict_proba(X_test)[:,1]\n",
    "prediction_for_one_city.to_csv(CITY_PREDICTIONS_PATH)\n",
    "\n",
    "prediction_for_one_city.head()\n",
    "\n",
    "#WARNING! you must run this notebook for all three regions before proceeding!\n",
    "#We assume that you have prediction_msk.csv , prediction_spb.csv and prediction_kazan.csv files prepared."
   ]
  },
  {
   "cell_type": "code",
   "execution_count": null,
   "metadata": {
    "collapsed": true
   },
   "outputs": [],
   "source": [
    "data = X.copy()\n",
    "data[\"target\"] = y\n",
    "data.to_csv(\"intermediate_data/spb.csv\")\n",
    "X_test.to_csv(\"intermediate_data/spb_test.csv\")"
   ]
  },
  {
   "cell_type": "markdown",
   "metadata": {},
   "source": [
    "Gather all predictions and make submission file."
   ]
  },
  {
   "cell_type": "code",
   "execution_count": null,
   "metadata": {
    "collapsed": false
   },
   "outputs": [],
   "source": [
    "import pandas as pd\n",
    "\n",
    "predictions = pd.concat(\n",
    "    [pd.read_csv(fname,index_col=0) for fname in (\"./intermediate_data/prediction_kazan.csv\",\n",
    "                                                  \"./intermediate_data/prediction_spb.csv\",\n",
    "                                                  \"./intermediate_data/prediction_msk.csv\")],\n",
    "    ignore_index=True\n",
    ")\n",
    "blocks = pd.read_csv(\"./data/hackathon_tosubmit.tsv\",sep='\\t')\n",
    "assert len(predictions) == len(blocks),\"Predictions don't match blocks. Sumbit at your own risk.\"\n",
    "\n",
    "merged = pd.merge(blocks,predictions,how='left',on=[\"sq_x\",\"sq_y\",\"hour_hash\"])\n",
    "assert not np.isnan(merged.prediction).any(), \"some predictions are missing. Sumbit at your own risk.\"\n"
   ]
  },
  {
   "cell_type": "code",
   "execution_count": null,
   "metadata": {
    "collapsed": false
   },
   "outputs": [],
   "source": [
    "merged[['id','prediction']].to_csv(\"baseline_submission.csv\",sep=',',index=False,header=False)"
   ]
  },
  {
   "cell_type": "markdown",
   "metadata": {},
   "source": [
    "You can now upload baseline_submission.csv to the competition interface."
   ]
  },
  {
   "cell_type": "code",
   "execution_count": null,
   "metadata": {
    "collapsed": false
   },
   "outputs": [],
   "source": [
    "!head baseline_submission.csv"
   ]
  },
  {
   "cell_type": "markdown",
   "metadata": {},
   "source": [
    "### Known unknowns <a id='known_unknowns'>\n",
    "\n",
    "Here's a few ideas to improve your solution:\n",
    "* Right now we only consider users in the same square where we're going to make prediction.\n",
    " * It may be useful to consider neighboring squares in square id and/or time\n",
    " * It may be useful to use global city-wide estimate (like \"There's currently no rain in Moscow\")\n",
    " * Same is true for netatmo stations\n",
    "* There's a lot of underexplored features\n",
    " * Netatmo stations' features\n",
    " * User behavior on device level, e.g. \"phone signal worse than usual\"\n",
    " * Latitude/longitude are fed to model in \n",
    " * Relations between several  kinds of features (e.g. signal over distance to cell)\n",
    " * Relations over location/time, e.g. \"less users than usual\"\n",
    "* Data splits\n",
    " * Test set rains may be more/less frequent than on the training set\n",
    " * There also may be some difference in user activity\n",
    " * There's definitely a difference in distribution of users and stations in different cities\n",
    " * We only train model on one fixed region. Try using several regions at once to get more training data.\n"
   ]
  },
  {
   "cell_type": "markdown",
   "metadata": {},
   "source": [
    "\n",
    " ```\n",
    " \n",
    " ```\n",
    "\n",
    "![img](https://images-na.ssl-images-amazon.com/images/I/31la29lBQxL.jpg)\n",
    "\n",
    "\n",
    " ```\n",
    " \n",
    " ```\n"
   ]
  }
 ],
 "metadata": {
  "kernelspec": {
   "display_name": "Python 3",
   "language": "python",
   "name": "python3"
  },
  "language_info": {
   "codemirror_mode": {
    "name": "ipython",
    "version": 3
   },
   "file_extension": ".py",
   "mimetype": "text/x-python",
   "name": "python",
   "nbconvert_exporter": "python",
   "pygments_lexer": "ipython3",
   "version": "3.6.0"
  }
 },
 "nbformat": 4,
 "nbformat_minor": 2
}
