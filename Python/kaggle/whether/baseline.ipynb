{
 "cells": [
  {
   "cell_type": "markdown",
   "metadata": {},
   "source": [
    "### Simple baseline\n",
    "\n",
    "In this baseline we take data from the primary source, aggregate it by squares and compute some basic features from those squares.\n",
    "\n",
    "We then fit a gradient boosting ensemble to predict whether it was raining in this particular square & hour.\n",
    "\n",
    "For starters, let's take a look at our data."
   ]
  },
  {
   "cell_type": "code",
   "execution_count": 42,
   "metadata": {
    "collapsed": true
   },
   "outputs": [],
   "source": [
    "TRAIN_PATH = \"data/train_spb.tsv\"\n",
    "NETATMO_PATH = \"data/train_spb_netatmo.tsv\"\n",
    "TEST_PATH = \"data/test_spb_features.tsv\"\n",
    "TEST_NETATMO_PATH = \"data/test_spb_netatmo.tsv\"\n",
    "\n",
    "CITY_PREDICTIONS_PATH = \"intermediate_data/prediction_spb.csv\""
   ]
  },
  {
   "cell_type": "code",
   "execution_count": 2,
   "metadata": {
    "collapsed": false
   },
   "outputs": [
    {
     "name": "stdout",
     "output_type": "stream",
     "text": [
      "Using matplotlib backend: Qt5Agg\n"
     ]
    }
   ],
   "source": [
    "import numpy as np\n",
    "import pandas as pd\n",
    "import matplotlib.pyplot as plt\n",
    "import json\n",
    "#%matplotlib inline\n",
    "%matplotlib\n",
    "plt.style.use('ggplot')\n",
    "from scipy.stats import kurtosis,skew, mode"
   ]
  },
  {
   "cell_type": "code",
   "execution_count": 29,
   "metadata": {
    "collapsed": false
   },
   "outputs": [
    {
     "name": "stdout",
     "output_type": "stream",
     "text": [
      "(568809, 33)\n"
     ]
    },
    {
     "name": "stderr",
     "output_type": "stream",
     "text": [
      "/home/dz/anaconda3/lib/python3.6/site-packages/IPython/core/interactiveshell.py:2717: DtypeWarning: Columns (1) have mixed types. Specify dtype option on import or set low_memory=False.\n",
      "  interactivity=interactivity, compiler=compiler, result=result)\n"
     ]
    },
    {
     "data": {
      "text/html": [
       "<div>\n",
       "<table border=\"1\" class=\"dataframe\">\n",
       "  <thead>\n",
       "    <tr style=\"text-align: right;\">\n",
       "      <th></th>\n",
       "      <th>Unnamed: 0</th>\n",
       "      <th>hour_hash</th>\n",
       "      <th>sq_x</th>\n",
       "      <th>sq_y</th>\n",
       "      <th>EventTimestampDelta</th>\n",
       "      <th>day_hour</th>\n",
       "      <th>cell_hash</th>\n",
       "      <th>sq_time</th>\n",
       "      <th>radio</th>\n",
       "      <th>LocationSpeed</th>\n",
       "      <th>...</th>\n",
       "      <th>day</th>\n",
       "      <th>ver_hash</th>\n",
       "      <th>SignalStrength</th>\n",
       "      <th>rain</th>\n",
       "      <th>u_hashed</th>\n",
       "      <th>city_code</th>\n",
       "      <th>cell_lat</th>\n",
       "      <th>OperatorID</th>\n",
       "      <th>LocationTimestampDelta</th>\n",
       "      <th>device_model_hash</th>\n",
       "    </tr>\n",
       "  </thead>\n",
       "  <tbody>\n",
       "    <tr>\n",
       "      <th>0</th>\n",
       "      <td>0</td>\n",
       "      <td>15594925468529168</td>\n",
       "      <td>-4</td>\n",
       "      <td>-1</td>\n",
       "      <td>-138</td>\n",
       "      <td>19</td>\n",
       "      <td>15359413209819631993</td>\n",
       "      <td>1499367600</td>\n",
       "      <td>2</td>\n",
       "      <td>-999</td>\n",
       "      <td>...</td>\n",
       "      <td>5</td>\n",
       "      <td>10377131132567209046</td>\n",
       "      <td>-107</td>\n",
       "      <td>True</td>\n",
       "      <td>10792001126932717568</td>\n",
       "      <td>78</td>\n",
       "      <td>59.938660</td>\n",
       "      <td>1</td>\n",
       "      <td>-137</td>\n",
       "      <td>17694276751343575040</td>\n",
       "    </tr>\n",
       "    <tr>\n",
       "      <th>1</th>\n",
       "      <td>1</td>\n",
       "      <td>30420971216007726</td>\n",
       "      <td>-4</td>\n",
       "      <td>-2</td>\n",
       "      <td>-1393</td>\n",
       "      <td>10</td>\n",
       "      <td>9378067244757718949</td>\n",
       "      <td>1500199200</td>\n",
       "      <td>1</td>\n",
       "      <td>13</td>\n",
       "      <td>...</td>\n",
       "      <td>15</td>\n",
       "      <td>14766465407719166092</td>\n",
       "      <td>-11</td>\n",
       "      <td>False</td>\n",
       "      <td>17843300878001616896</td>\n",
       "      <td>78</td>\n",
       "      <td>59.845276</td>\n",
       "      <td>2</td>\n",
       "      <td>-1392</td>\n",
       "      <td>16545423038250614784</td>\n",
       "    </tr>\n",
       "    <tr>\n",
       "      <th>2</th>\n",
       "      <td>2</td>\n",
       "      <td>15594925468529168</td>\n",
       "      <td>-4</td>\n",
       "      <td>-1</td>\n",
       "      <td>-2787</td>\n",
       "      <td>19</td>\n",
       "      <td>5828444396397487323</td>\n",
       "      <td>1499367600</td>\n",
       "      <td>1</td>\n",
       "      <td>1</td>\n",
       "      <td>...</td>\n",
       "      <td>5</td>\n",
       "      <td>2970743340414944099</td>\n",
       "      <td>-81</td>\n",
       "      <td>True</td>\n",
       "      <td>11044946288132845568</td>\n",
       "      <td>78</td>\n",
       "      <td>59.944153</td>\n",
       "      <td>20</td>\n",
       "      <td>-2788</td>\n",
       "      <td>12880924904999671808</td>\n",
       "    </tr>\n",
       "    <tr>\n",
       "      <th>3</th>\n",
       "      <td>3</td>\n",
       "      <td>15594925468529168</td>\n",
       "      <td>-5</td>\n",
       "      <td>-3</td>\n",
       "      <td>-183</td>\n",
       "      <td>19</td>\n",
       "      <td>1811340204703671917</td>\n",
       "      <td>1499367600</td>\n",
       "      <td>1</td>\n",
       "      <td>5</td>\n",
       "      <td>...</td>\n",
       "      <td>5</td>\n",
       "      <td>14766465407719166092</td>\n",
       "      <td>-81</td>\n",
       "      <td>False</td>\n",
       "      <td>8824907216792626176</td>\n",
       "      <td>78</td>\n",
       "      <td>59.832352</td>\n",
       "      <td>20</td>\n",
       "      <td>-180</td>\n",
       "      <td>16545423038250614784</td>\n",
       "    </tr>\n",
       "    <tr>\n",
       "      <th>4</th>\n",
       "      <td>4</td>\n",
       "      <td>15594925468529168</td>\n",
       "      <td>-4</td>\n",
       "      <td>-1</td>\n",
       "      <td>-2211</td>\n",
       "      <td>19</td>\n",
       "      <td>6174653592142994962</td>\n",
       "      <td>1499367600</td>\n",
       "      <td>-999</td>\n",
       "      <td>10</td>\n",
       "      <td>...</td>\n",
       "      <td>5</td>\n",
       "      <td>2970743340414944099</td>\n",
       "      <td>-51</td>\n",
       "      <td>True</td>\n",
       "      <td>8207343304811761664</td>\n",
       "      <td>78</td>\n",
       "      <td>-999.000000</td>\n",
       "      <td>1</td>\n",
       "      <td>-2240</td>\n",
       "      <td>2903999018945938944</td>\n",
       "    </tr>\n",
       "  </tbody>\n",
       "</table>\n",
       "<p>5 rows × 33 columns</p>\n",
       "</div>"
      ],
      "text/plain": [
       "   Unnamed: 0          hour_hash  sq_x  sq_y  EventTimestampDelta  day_hour  \\\n",
       "0           0  15594925468529168    -4    -1                 -138        19   \n",
       "1           1  30420971216007726    -4    -2                -1393        10   \n",
       "2           2  15594925468529168    -4    -1                -2787        19   \n",
       "3           3  15594925468529168    -5    -3                 -183        19   \n",
       "4           4  15594925468529168    -4    -1                -2211        19   \n",
       "\n",
       "              cell_hash     sq_time  radio  LocationSpeed  \\\n",
       "0  15359413209819631993  1499367600      2           -999   \n",
       "1   9378067244757718949  1500199200      1             13   \n",
       "2   5828444396397487323  1499367600      1              1   \n",
       "3   1811340204703671917  1499367600      1              5   \n",
       "4   6174653592142994962  1499367600   -999             10   \n",
       "\n",
       "           ...           day              ver_hash  SignalStrength   rain  \\\n",
       "0          ...             5  10377131132567209046            -107   True   \n",
       "1          ...            15  14766465407719166092             -11  False   \n",
       "2          ...             5   2970743340414944099             -81   True   \n",
       "3          ...             5  14766465407719166092             -81  False   \n",
       "4          ...             5   2970743340414944099             -51   True   \n",
       "\n",
       "               u_hashed  city_code    cell_lat  OperatorID  \\\n",
       "0  10792001126932717568         78   59.938660           1   \n",
       "1  17843300878001616896         78   59.845276           2   \n",
       "2  11044946288132845568         78   59.944153          20   \n",
       "3   8824907216792626176         78   59.832352          20   \n",
       "4   8207343304811761664         78 -999.000000           1   \n",
       "\n",
       "   LocationTimestampDelta     device_model_hash  \n",
       "0                    -137  17694276751343575040  \n",
       "1                   -1392  16545423038250614784  \n",
       "2                   -2788  12880924904999671808  \n",
       "3                    -180  16545423038250614784  \n",
       "4                   -2240   2903999018945938944  \n",
       "\n",
       "[5 rows x 33 columns]"
      ]
     },
     "execution_count": 29,
     "metadata": {},
     "output_type": "execute_result"
    }
   ],
   "source": [
    "data = pd.read_csv('data/trainspb.csv')\n",
    "print(data.shape)\n",
    "data.head()"
   ]
  },
  {
   "cell_type": "code",
   "execution_count": 32,
   "metadata": {
    "collapsed": false
   },
   "outputs": [
    {
     "data": {
      "text/plain": [
       "-3599"
      ]
     },
     "execution_count": 32,
     "metadata": {},
     "output_type": "execute_result"
    }
   ],
   "source": [
    "data[data['EventTimestampDelta']<600].mean()"
   ]
  },
  {
   "cell_type": "code",
   "execution_count": null,
   "metadata": {
    "collapsed": true
   },
   "outputs": [],
   "source": []
  },
  {
   "cell_type": "markdown",
   "metadata": {},
   "source": [
    "__Note:__ if you're low on memory, try this:\n",
    "* Most obviously, downsample data\n",
    "* Read one square at a time: read it, compute features, and only then read next square\n",
    "* Entries for each cell appear as subsequent rows in the dataset, so you can just read, say, 25% of the data and process it, then go for next 25%, etc.\n",
    "* Delete training data and intermediate aggregations liky `groupby` after you've done with feature engineering."
   ]
  },
  {
   "cell_type": "code",
   "execution_count": 81,
   "metadata": {
    "collapsed": false
   },
   "outputs": [
    {
     "name": "stdout",
     "output_type": "stream",
     "text": [
      "sq_x                               103\n",
      "sq_y                               103\n",
      "netatmo_timestamp_delta            103\n",
      "netatmo_sum_rain_24h                 0\n",
      "netatmo_sum_rain_1h                  0\n",
      "day_hour                           103\n",
      "netatmo_wind_gust_direction_deg      0\n",
      "sq_time                            103\n",
      "point_longitude                    103\n",
      "netatmo_time_day_rain                0\n",
      "netatmo_wind_timestamp               0\n",
      "netatmo_wind_speed_kmh               0\n",
      "netatmo_time_hour_rain               0\n",
      "hours_since                        103\n",
      "utc_date                           103\n",
      "netatmo_wind_gust_timestamp          0\n",
      "netatmo_timestamp                  103\n",
      "netatmo_humidity_percent            80\n",
      "netatmo_pressure_mbar              103\n",
      "precipitation                      103\n",
      "netatmo_wind_direction_deg           0\n",
      "netatmo_temperature_c               80\n",
      "day                                103\n",
      "rain                               103\n",
      "city_code                          103\n",
      "point_latitude                     103\n",
      "netatmo_wind_gust_speed_kmh          0\n",
      "netatmo_latitude                   103\n",
      "netatmo_longitude                  103\n",
      "netatmo_uid                        103\n",
      "dtype: int64\n"
     ]
    },
    {
     "name": "stderr",
     "output_type": "stream",
     "text": [
      "/home/dz/anaconda3/lib/python3.6/site-packages/IPython/core/interactiveshell.py:2717: DtypeWarning: Columns (0) have mixed types. Specify dtype option on import or set low_memory=False.\n",
      "  interactivity=interactivity, compiler=compiler, result=result)\n"
     ]
    },
    {
     "name": "stdout",
     "output_type": "stream",
     "text": [
      "sq_x                               151\n",
      "sq_y                               151\n",
      "netatmo_timestamp_delta            151\n",
      "netatmo_sum_rain_24h                11\n",
      "netatmo_sum_rain_1h                 11\n",
      "day_hour                           151\n",
      "netatmo_wind_gust_direction_deg     24\n",
      "sq_time                            151\n",
      "point_longitude                    151\n",
      "netatmo_time_day_rain               11\n",
      "netatmo_wind_timestamp              24\n",
      "netatmo_wind_speed_kmh              24\n",
      "netatmo_time_hour_rain              11\n",
      "hours_since                        151\n",
      "utc_date                           151\n",
      "netatmo_wind_gust_timestamp         24\n",
      "netatmo_timestamp                  151\n",
      "netatmo_humidity_percent           128\n",
      "netatmo_pressure_mbar              151\n",
      "precipitation                      151\n",
      "netatmo_wind_direction_deg          24\n",
      "netatmo_temperature_c              128\n",
      "day                                151\n",
      "rain                               151\n",
      "city_code                          151\n",
      "point_latitude                     151\n",
      "netatmo_wind_gust_speed_kmh         24\n",
      "netatmo_latitude                   151\n",
      "netatmo_longitude                  151\n",
      "netatmo_uid                        151\n",
      "dtype: int64\n",
      "sq_x                               102\n",
      "sq_y                               102\n",
      "netatmo_timestamp_delta            102\n",
      "netatmo_sum_rain_24h                20\n",
      "netatmo_sum_rain_1h                  0\n",
      "day_hour                           102\n",
      "netatmo_wind_gust_direction_deg     16\n",
      "sq_time                            102\n",
      "point_longitude                    102\n",
      "netatmo_time_day_rain               20\n",
      "netatmo_wind_timestamp              16\n",
      "netatmo_wind_speed_kmh              16\n",
      "netatmo_time_hour_rain               0\n",
      "hours_since                        102\n",
      "utc_date                           102\n",
      "netatmo_wind_gust_timestamp         16\n",
      "netatmo_timestamp                  102\n",
      "netatmo_humidity_percent            72\n",
      "netatmo_pressure_mbar              102\n",
      "precipitation                      102\n",
      "netatmo_wind_direction_deg          16\n",
      "netatmo_temperature_c               72\n",
      "day                                102\n",
      "rain                               102\n",
      "city_code                          102\n",
      "point_latitude                     102\n",
      "netatmo_wind_gust_speed_kmh         16\n",
      "netatmo_latitude                   102\n",
      "netatmo_longitude                  102\n",
      "netatmo_uid                        102\n",
      "dtype: int64\n"
     ]
    }
   ],
   "source": [
    "for x in ['kazan','msk','spb']:\n",
    "    print(pd.read_csv(\"data/train_\"+x+\"_netatmo.tsv\",na_values=\"None\",sep='\\t').groupby('hour_hash').count().min())"
   ]
  },
  {
   "cell_type": "markdown",
   "metadata": {},
   "source": [
    "#### Working with netatmo\n",
    "\n",
    "Customer grade meteostations are excellent sources of data on rain. Alas, they're rather scarce and we're unlikely to find stations in every square/time block. Therefore we're gonna need to quickly find ones from neighboring blocks.\n",
    "\n",
    "For performance reasons, we'll use fast nearest neighbor lookup methods from sklearn.\n",
    "Note that those are not the fastest neighbor lookup methods available, but they should be enough for the baseline.\n",
    "\n",
    "We'll query the users that have neighboring longitude/lattitude within this hour. In this baseline we implicitly compute euclidian distance over latitude/longitude axes which has a number of problems: the distance gets larger as you move from equator to the poles. More importantly, this method does not take adjacent hours into consideration.\n",
    "You are invited to improve on those points in your solution :)\n"
   ]
  },
  {
   "cell_type": "code",
   "execution_count": 43,
   "metadata": {
    "collapsed": true
   },
   "outputs": [],
   "source": [
    "from sklearn.neighbors import KDTree\n",
    "def preprocess_netatmo(df):\n",
    "    \"\"\"organizes netatmo stations into KDTrees for each distinct time frame\"\"\"\n",
    "    \n",
    "    df_by_hour = df.groupby('hour_hash')\n",
    "    anns = {}\n",
    "    for hour,stations_group in df_by_hour:\n",
    "        anns[hour] = KDTree(stations_group[[\"netatmo_latitude\",\"netatmo_longitude\"]].values,metric='minkowski',p=2)\n",
    "    \n",
    "    #convert groupby to dict to get faster queries\n",
    "    df_by_hour = {group:stations_group for group,stations_group in df_by_hour}\n",
    "    \n",
    "    return df_by_hour,anns\n",
    "        "
   ]
  },
  {
   "cell_type": "code",
   "execution_count": 44,
   "metadata": {
    "collapsed": false
   },
   "outputs": [
    {
     "name": "stderr",
     "output_type": "stream",
     "text": [
      "/home/dz/anaconda3/lib/python3.6/site-packages/IPython/core/interactiveshell.py:2717: DtypeWarning: Columns (0) have mixed types. Specify dtype option on import or set low_memory=False.\n",
      "  interactivity=interactivity, compiler=compiler, result=result)\n"
     ]
    }
   ],
   "source": [
    "netatmo_groups,netatmo_anns = preprocess_netatmo(pd.read_csv(NETATMO_PATH,na_values=\"None\",sep='\\t'))"
   ]
  },
  {
   "cell_type": "markdown",
   "metadata": {},
   "source": [
    "## Feature engineering\n",
    "\n",
    "In this baseline, we're going to aggregate all user data from a specific square and a specific hour to predict whether it's raining in this square. We'll split data into blocks by `[sq_lon,sq_lat,sq_time]` and process such blocks independently.\n",
    "\n",
    "<img src=\"https://usercontent1.hubstatic.com/12943886_f520.jpg\" width=240px>\n",
    "\n",
    "\n",
    "The next cell defines a function that extracts features from such blocks. Feel free to add some new features here or drop those you believe to be harmful.\n",
    "\n",
    "Also note that this isn't the only way to process such data. See the [known unknowns](#known_unknowns) section."
   ]
  },
  {
   "cell_type": "code",
   "execution_count": 58,
   "metadata": {
    "collapsed": false
   },
   "outputs": [
    {
     "data": {
      "text/html": [
       "<div>\n",
       "<table border=\"1\" class=\"dataframe\">\n",
       "  <thead>\n",
       "    <tr style=\"text-align: right;\">\n",
       "      <th></th>\n",
       "      <th>hour_hash</th>\n",
       "      <th>sq_x</th>\n",
       "      <th>sq_y</th>\n",
       "      <th>EventTimestampDelta</th>\n",
       "      <th>day_hour</th>\n",
       "      <th>cell_hash</th>\n",
       "      <th>sq_time</th>\n",
       "      <th>radio</th>\n",
       "      <th>LocationSpeed</th>\n",
       "      <th>LAC</th>\n",
       "      <th>...</th>\n",
       "      <th>day</th>\n",
       "      <th>ver_hash</th>\n",
       "      <th>SignalStrength</th>\n",
       "      <th>rain</th>\n",
       "      <th>u_hashed</th>\n",
       "      <th>city_code</th>\n",
       "      <th>cell_lat</th>\n",
       "      <th>OperatorID</th>\n",
       "      <th>LocationTimestampDelta</th>\n",
       "      <th>device_model_hash</th>\n",
       "    </tr>\n",
       "  </thead>\n",
       "  <tbody>\n",
       "    <tr>\n",
       "      <th>400012</th>\n",
       "      <td>422518526921346549</td>\n",
       "      <td>-4</td>\n",
       "      <td>0</td>\n",
       "      <td>-3278</td>\n",
       "      <td>10</td>\n",
       "      <td>2884660664377744674</td>\n",
       "      <td>1500717600</td>\n",
       "      <td>3</td>\n",
       "      <td>8</td>\n",
       "      <td>7834</td>\n",
       "      <td>...</td>\n",
       "      <td>21</td>\n",
       "      <td>2970743340414944099</td>\n",
       "      <td>-65</td>\n",
       "      <td>True</td>\n",
       "      <td>14626389373734152192</td>\n",
       "      <td>78</td>\n",
       "      <td>59.949646</td>\n",
       "      <td>2</td>\n",
       "      <td>-3235</td>\n",
       "      <td>1360803345112542720</td>\n",
       "    </tr>\n",
       "    <tr>\n",
       "      <th>400013</th>\n",
       "      <td>422518526921346549</td>\n",
       "      <td>-4</td>\n",
       "      <td>0</td>\n",
       "      <td>-3278</td>\n",
       "      <td>10</td>\n",
       "      <td>13638004307918185832</td>\n",
       "      <td>1500717600</td>\n",
       "      <td>2</td>\n",
       "      <td>8</td>\n",
       "      <td>7807</td>\n",
       "      <td>...</td>\n",
       "      <td>21</td>\n",
       "      <td>2970743340414944099</td>\n",
       "      <td>-94</td>\n",
       "      <td>True</td>\n",
       "      <td>14626389373734152192</td>\n",
       "      <td>78</td>\n",
       "      <td>59.944153</td>\n",
       "      <td>2</td>\n",
       "      <td>-3235</td>\n",
       "      <td>1360803345112542720</td>\n",
       "    </tr>\n",
       "    <tr>\n",
       "      <th>400014</th>\n",
       "      <td>422518526921346549</td>\n",
       "      <td>-4</td>\n",
       "      <td>0</td>\n",
       "      <td>-3278</td>\n",
       "      <td>10</td>\n",
       "      <td>2884660664377744674</td>\n",
       "      <td>1500717600</td>\n",
       "      <td>3</td>\n",
       "      <td>8</td>\n",
       "      <td>7834</td>\n",
       "      <td>...</td>\n",
       "      <td>21</td>\n",
       "      <td>2970743340414944099</td>\n",
       "      <td>-65</td>\n",
       "      <td>True</td>\n",
       "      <td>14626389373734152192</td>\n",
       "      <td>78</td>\n",
       "      <td>59.949646</td>\n",
       "      <td>2</td>\n",
       "      <td>-3235</td>\n",
       "      <td>1360803345112542720</td>\n",
       "    </tr>\n",
       "    <tr>\n",
       "      <th>400015</th>\n",
       "      <td>422518526921346549</td>\n",
       "      <td>-4</td>\n",
       "      <td>0</td>\n",
       "      <td>-3278</td>\n",
       "      <td>10</td>\n",
       "      <td>13638004307918185832</td>\n",
       "      <td>1500717600</td>\n",
       "      <td>2</td>\n",
       "      <td>8</td>\n",
       "      <td>7807</td>\n",
       "      <td>...</td>\n",
       "      <td>21</td>\n",
       "      <td>2970743340414944099</td>\n",
       "      <td>-94</td>\n",
       "      <td>True</td>\n",
       "      <td>14626389373734152192</td>\n",
       "      <td>78</td>\n",
       "      <td>59.944153</td>\n",
       "      <td>2</td>\n",
       "      <td>-3235</td>\n",
       "      <td>1360803345112542720</td>\n",
       "    </tr>\n",
       "    <tr>\n",
       "      <th>400016</th>\n",
       "      <td>422518526921346549</td>\n",
       "      <td>-4</td>\n",
       "      <td>0</td>\n",
       "      <td>-3278</td>\n",
       "      <td>10</td>\n",
       "      <td>2884660664377744674</td>\n",
       "      <td>1500717600</td>\n",
       "      <td>3</td>\n",
       "      <td>8</td>\n",
       "      <td>7834</td>\n",
       "      <td>...</td>\n",
       "      <td>21</td>\n",
       "      <td>2970743340414944099</td>\n",
       "      <td>-65</td>\n",
       "      <td>True</td>\n",
       "      <td>14626389373734152192</td>\n",
       "      <td>78</td>\n",
       "      <td>59.949646</td>\n",
       "      <td>2</td>\n",
       "      <td>-3235</td>\n",
       "      <td>1360803345112542720</td>\n",
       "    </tr>\n",
       "  </tbody>\n",
       "</table>\n",
       "<p>5 rows × 32 columns</p>\n",
       "</div>"
      ],
      "text/plain": [
       "                 hour_hash  sq_x  sq_y  EventTimestampDelta  day_hour  \\\n",
       "400012  422518526921346549    -4     0                -3278        10   \n",
       "400013  422518526921346549    -4     0                -3278        10   \n",
       "400014  422518526921346549    -4     0                -3278        10   \n",
       "400015  422518526921346549    -4     0                -3278        10   \n",
       "400016  422518526921346549    -4     0                -3278        10   \n",
       "\n",
       "                   cell_hash     sq_time  radio  LocationSpeed   LAC  \\\n",
       "400012   2884660664377744674  1500717600      3              8  7834   \n",
       "400013  13638004307918185832  1500717600      2              8  7807   \n",
       "400014   2884660664377744674  1500717600      3              8  7834   \n",
       "400015  13638004307918185832  1500717600      2              8  7807   \n",
       "400016   2884660664377744674  1500717600      3              8  7834   \n",
       "\n",
       "               ...          day             ver_hash  SignalStrength  rain  \\\n",
       "400012         ...           21  2970743340414944099             -65  True   \n",
       "400013         ...           21  2970743340414944099             -94  True   \n",
       "400014         ...           21  2970743340414944099             -65  True   \n",
       "400015         ...           21  2970743340414944099             -94  True   \n",
       "400016         ...           21  2970743340414944099             -65  True   \n",
       "\n",
       "                    u_hashed  city_code   cell_lat  OperatorID  \\\n",
       "400012  14626389373734152192         78  59.949646           2   \n",
       "400013  14626389373734152192         78  59.944153           2   \n",
       "400014  14626389373734152192         78  59.949646           2   \n",
       "400015  14626389373734152192         78  59.944153           2   \n",
       "400016  14626389373734152192         78  59.949646           2   \n",
       "\n",
       "        LocationTimestampDelta    device_model_hash  \n",
       "400012                   -3235  1360803345112542720  \n",
       "400013                   -3235  1360803345112542720  \n",
       "400014                   -3235  1360803345112542720  \n",
       "400015                   -3235  1360803345112542720  \n",
       "400016                   -3235  1360803345112542720  \n",
       "\n",
       "[5 rows x 32 columns]"
      ]
     },
     "execution_count": 58,
     "metadata": {},
     "output_type": "execute_result"
    }
   ],
   "source": [
    "data.head()"
   ]
  },
  {
   "cell_type": "code",
   "execution_count": 63,
   "metadata": {
    "collapsed": false
   },
   "outputs": [
    {
     "data": {
      "text/plain": [
       "Index(['hour_hash', 'sq_x', 'sq_y', 'EventTimestampDelta', 'day_hour',\n",
       "       'cell_hash', 'sq_time', 'radio', 'LocationSpeed', 'LAC', 'eventid',\n",
       "       'LocationPrecision', 'LocationAltitude', 'hours_since', 'sq_lat',\n",
       "       'sq_lon', 'range', 'ulat', 'LocationDirection', 'precipitation',\n",
       "       'cell_lon', 'ulon', 'day', 'ver_hash', 'SignalStrength', 'rain',\n",
       "       'u_hashed', 'city_code', 'cell_lat', 'OperatorID',\n",
       "       'LocationTimestampDelta', 'device_model_hash'],\n",
       "      dtype='object')"
      ]
     },
     "execution_count": 63,
     "metadata": {},
     "output_type": "execute_result"
    }
   ],
   "source": [
    "data.columns"
   ]
  },
  {
   "cell_type": "code",
   "execution_count": 11,
   "metadata": {
    "collapsed": false
   },
   "outputs": [
    {
     "name": "stdout",
     "output_type": "stream",
     "text": [
      "99\n",
      "1\n",
      "11\n",
      "2\n",
      "20\n",
      "23\n",
      "25\n",
      "35\n",
      "215\n",
      "255\n",
      "192\n",
      "54\n",
      "237\n"
     ]
    }
   ],
   "source": [
    "for i in data['OperatorID'].unique():\n",
    "    print(i)"
   ]
  },
  {
   "cell_type": "code",
   "execution_count": 100,
   "metadata": {
    "collapsed": false
   },
   "outputs": [],
   "source": [
    "oper = data['OperatorID'].unique()\n",
    "def extract_features(group,netatmo_groups,netatmo_anns):\n",
    "    \"\"\"\n",
    "    Extracts all kinds of features from a dataframe containing users in one group\n",
    "    \"\"\"\n",
    "    features = {}\n",
    "\n",
    "    #square features\n",
    "    square = {col: group[col].iloc[0] for col in group.columns}\n",
    "    \n",
    "    features['square_lat'] = square['sq_lat']\n",
    "    features['square_lon'] = square['sq_lon']\n",
    "    features['time_of_day'] = square['day_hour']\n",
    "    #features['time_of_day'] = square['day_hour']\n",
    "    #features['time_of_day'] = square['day_hour']\n",
    "    features['signal_sum'] = group['SignalStrength'].sum()\n",
    "    features['time_std'] = abs(group['EventTimestampDelta']-group['LocationTimestampDelta']).std()\n",
    "    features['time_mean'] = abs(group['EventTimestampDelta']-group['LocationTimestampDelta']).mean()\n",
    "    features['time_median'] = abs(group['EventTimestampDelta']-group['LocationTimestampDelta']).median()\n",
    "    features['time_dm'] = features['time_mean'] - features['time_median']\n",
    "    \n",
    "    \n",
    "    #signal strength\n",
    "    features['signal_mean'] = group['SignalStrength'].mean()\n",
    "    features['signal_std'] = group['SignalStrength'].std()\n",
    "    features['signal_median'] = group['SignalStrength'].median()\n",
    "    features['signal_max-min'] = group['SignalStrength'].max() - group['SignalStrength'].min()\n",
    "    features['signal_max+min'] = (group['SignalStrength'].max() + group['SignalStrength'].min())/2\n",
    "    features['signal_q75-q25'] = group['SignalStrength'].quantile(0.75) - group['SignalStrength'].quantile(0.25)\n",
    "    \n",
    "    features['signal_dm'] = features['signal_mean'] - features['signal_median']\n",
    "    features['signal_dmm'] = features['signal_mean'] - features['signal_max+min']\n",
    "    features['signal_dmmm'] = features['signal_median'] - features['signal_max+min']\n",
    "    #Location Precision\n",
    "    features['LocationPrecision_mean'] = group['LocationPrecision'].mean()\n",
    "    features['LocationPrecision_std'] = group['LocationPrecision'].std()\n",
    "    features['LocationPrecision_median'] = group['LocationPrecision'].median()\n",
    "    features['LocationPrecision_max'] = group['LocationPrecision'].max()\n",
    "    features['LocationPrecision_min'] = group['LocationPrecision'].min()\n",
    "    features['LocationPrecision_sem'] = group['LocationPrecision'].sem()\n",
    "    features['LocationPrecision_q_25'] = group['LocationPrecision'].quantile(0.25)\n",
    "    features['LocationPrecision_q_75'] = group['LocationPrecision'].quantile(0.75)\n",
    "    features['LocationPrecision_max-min'] = features['LocationPrecision_max'] - features['LocationPrecision_min']\n",
    "    features['LocationPrecision_max+min'] = (features['LocationPrecision_max'] + features['LocationPrecision_min'])/2\n",
    "    features['LocationPrecision_q75-q25'] = features['LocationPrecision_q_25'] - features['LocationPrecision_q_75']\n",
    "    \n",
    "    #LocationSpeed\n",
    "    features['LocationSpeed_mean'] = group['LocationSpeed'].mean()\n",
    "    features['LocationSpeed_std'] = group['LocationSpeed'].std()\n",
    "    features['LocationSpeed_median'] = group['LocationSpeed'].median()\n",
    "    features['LocationSpeed_max'] = group['LocationSpeed'].max()\n",
    "    features['LocationSpeed_min'] = group['LocationSpeed'].min()\n",
    "    features['LocationSpeed_sem'] = group['LocationSpeed'].sem()\n",
    "    features['LocationSpeed_q_25'] = group['LocationSpeed'].quantile(0.25)\n",
    "    features['LocationSpeed_q_75'] = group['LocationSpeed'].quantile(0.75)\n",
    "    features['LocationSpeed_max-min'] = features['LocationSpeed_max'] - features['LocationSpeed_min']\n",
    "    features['LocationSpeed_max+min'] = (features['LocationSpeed_max'] + features['LocationSpeed_min'])/2\n",
    "    features['LocationSpeed_q75-q25'] = features['LocationSpeed_q_25'] - features['LocationSpeed_q_75']\n",
    "    \n",
    "    for i in oper:\n",
    "        features['LocationSpeed_mean'+str(i)] = group[group['OperatorID']==i]['LocationSpeed'].mean()\n",
    "        features['LocationSpeed_std'+str(i)] = group[group['OperatorID']==i]['LocationSpeed'].std()\n",
    "        features['LocationSpeed_median'+str(i)] = group[group['OperatorID']==i]['LocationSpeed'].median()\n",
    "        features['LocationSpeed_max'+str(i)] = group[group['OperatorID']==i]['LocationSpeed'].max()\n",
    "        features['LocationSpeed_min'+str(i)] = group[group['OperatorID']==i]['LocationSpeed'].min()\n",
    "        features['LocationSpeed_q_25'+str(i)] = group[group['OperatorID']==i]['LocationSpeed'].quantile(0.25)\n",
    "        features['LocationSpeed_q_75'+str(i)] = group[group['OperatorID']==i]['LocationSpeed'].quantile(0.75)\n",
    "        features['LocationSpeed_max-min'+str(i)] = features['LocationSpeed_max'+str(i)] - features['LocationSpeed_min'+str(i)]\n",
    "        features['LocationSpeed_max+min'+str(i)] = (features['LocationSpeed_max'+str(i)] + features['LocationSpeed_min'+str(i)])/2\n",
    "        features['LocationSpeed_q75-q25'+str(i)] = features['LocationSpeed_q_25'+str(i)] - features['LocationSpeed_q_75'+str(i)]\n",
    "    '''\n",
    "    #signal strength\n",
    "    features['signal_mean'] = group['SignalStrength'].mean()\n",
    "    features['signal_std'] = group['SignalStrength'].std()\n",
    "    features['signal_median'] = group['SignalStrength'].median()\n",
    "    features['signal_max'] = group['SignalStrength'].max()\n",
    "    features['signal_min'] = group['SignalStrength'].min()\n",
    "    features['signal_sem'] = group['SignalStrength'].sem()\n",
    "    features['signal_q_25'] = group['SignalStrength'].quantile(0.25)\n",
    "    features['signal_q_75'] = group['SignalStrength'].quantile(0.75)\n",
    "    features['max-min'] = features['signal_max'] - features['signal_min']\n",
    "    features['max+min'] = (features['signal_max'] + features['signal_min'])/2\n",
    "    features['q75-q25'] = features['signal_q_25'] - features['signal_q_75']\n",
    "    '''\n",
    "    \n",
    "    \n",
    "    \n",
    "    \n",
    "    \n",
    "\n",
    "    #features for each user\n",
    "    group_by_user = group.groupby('u_hashed')\n",
    "    group_by_user.apply(lambda group: group['ulat'].std()+group['ulon'].std())\n",
    "    \n",
    "    features['num_users'] = len(group_by_user)\n",
    "    features['mean_entries_per_user'] = group_by_user.apply(len).mean()\n",
    "    features['median_entries_per_user'] = group_by_user.apply(len).median()\n",
    "    features['mean_user_signal_std'] = group_by_user.apply(\n",
    "        lambda user_entries: user_entries['SignalStrength'].std()).mean()\n",
    "    features['median_user_signal_std'] = group_by_user.apply(\n",
    "        lambda user_entries: user_entries['SignalStrength'].std()).median()\n",
    "    features['dm_entries_per_user'] = features['mean_entries_per_user'] - features['median_entries_per_user']\n",
    "    features['dm_signal_std'] = features['mean_user_signal_std'] - features['median_user_signal_std']\n",
    "    #netatmo features\n",
    "    if square['hour_hash'] in netatmo_groups:\n",
    "        local_stations,neighbors = netatmo_groups[square['hour_hash']],netatmo_anns[square['hour_hash']]\n",
    "        [distances],[neighbor_ids] = neighbors.query([(square['sq_lat'],square['sq_lon'])],k=50)\n",
    "\n",
    "        neighbor_stations = local_stations.iloc[neighbor_ids]\n",
    "\n",
    "        features['min_distance_to_closest_station'] = np.min(distances)\n",
    "        features['max_distance_to_closest_station'] = np.max(distances)\n",
    "        features['max+min_distance_to_closest_station'] = (features['min_distance_to_closest_station'] +features['max_distance_to_closest_station']) /2\n",
    "        features['median_distance_to_closest_station'] = np.median(distances)\n",
    "        features['mean_distance_to_station'] = np.mean(distances)\n",
    "\n",
    "        for colname in ['netatmo_pressure_mbar','netatmo_temperature_c','netatmo_sum_rain_1h','netatmo_sum_rain_24h',\n",
    "                        'netatmo_wind_direction_deg','netatmo_wind_gust_direction_deg','netatmo_humidity_percent','netatmo_wind_speed_kmh','netatmo_wind_gust_speed_kmh']:\n",
    "            col = neighbor_stations[colname].dropna()\n",
    "            if len(col)!=0:\n",
    "                features[colname+\"_mean\"],features[colname+\"_std\"], features[colname+\"_median\"] = col.mean(),col.std(),col.median()\n",
    "                features[colname+\"_mm\"] = col.max() - col.min()\n",
    "            else:\n",
    "                features[colname+\"_mean\"],features[colname+\"_std\"],features[colname+\"_median\"] = np.nan,np.nan,np.nan\n",
    "                features[colname+\"_mm\"] = np.nan\n",
    "        for colname in ['netatmo_pressure_mbar','netatmo_temperature_c','netatmo_sum_rain_1h','netatmo_humidity_percent','netatmo_wind_speed_kmh','netatmo_wind_gust_speed_kmh']:\n",
    "            #col = neighbor_stations.dropna()\n",
    "            col = neighbor_stations[np.isfinite(neighbor_stations[colname])]\n",
    "            if len(col)!=0:\n",
    "                try:\n",
    "                    features[colname+\"_meand\"] = col[col['netatmo_timestamp_delta']<-2500][colname].mean()-col[col['netatmo_timestamp_delta']>-1100][colname].mean()\n",
    "                    features[colname+\"_mediand\"] = col[col['netatmo_timestamp_delta']<-2500][colname].median()-col[col['netatmo_timestamp_delta']>-1100][colname].median()\n",
    "                    features[colname+\"_stdd\"] = col[col['netatmo_timestamp_delta']<-2500][colname].std()-col[col['netatmo_timestamp_delta']>-1100][colname].std()\n",
    "                    features[colname+\"_maxd\"] = col[col['netatmo_timestamp_delta']<-2500][colname].max()-col[col['netatmo_timestamp_delta']>-1100][colname].max()\n",
    "                    features[colname+\"_mind\"] = col[col['netatmo_timestamp_delta']<-2500][colname].min()-col[col['netatmo_timestamp_delta']>-1100][colname].min()\n",
    "                except:\n",
    "                    features[colname+\"_meand\"]= np.nan\n",
    "                    features[colname+\"_mediand\"]= np.nan\n",
    "                    features[colname+\"_stdd\"]= np.nan\n",
    "                    features[colname+\"_maxd\"]= np.nan\n",
    "                    features[colname+\"_mind\"]= np.nan\n",
    "            else:\n",
    "                features[colname+\"_meand\"]= np.nan\n",
    "                features[colname+\"_mediand\"]= np.nan\n",
    "                features[colname+\"_stdd\"]= np.nan\n",
    "                features[colname+\"_maxd\"]= np.nan\n",
    "                features[colname+\"_mind\"]= np.nan\n",
    "    return features\n",
    "    "
   ]
  },
  {
   "cell_type": "code",
   "execution_count": 89,
   "metadata": {
    "collapsed": true
   },
   "outputs": [],
   "source": [
    "df = pd.DataFrame([[np.nan, 2, np.nan, 0], [3, 4, np.nan, 1],\n",
    "                    [np.nan, np.nan, np.nan, 5]],\n",
    "                   columns=list('ABCD'))"
   ]
  },
  {
   "cell_type": "code",
   "execution_count": 90,
   "metadata": {
    "collapsed": false
   },
   "outputs": [
    {
     "data": {
      "text/html": [
       "<div>\n",
       "<table border=\"1\" class=\"dataframe\">\n",
       "  <thead>\n",
       "    <tr style=\"text-align: right;\">\n",
       "      <th></th>\n",
       "      <th>A</th>\n",
       "      <th>B</th>\n",
       "      <th>C</th>\n",
       "      <th>D</th>\n",
       "    </tr>\n",
       "  </thead>\n",
       "  <tbody>\n",
       "    <tr>\n",
       "      <th>0</th>\n",
       "      <td>NaN</td>\n",
       "      <td>2.0</td>\n",
       "      <td>NaN</td>\n",
       "      <td>0</td>\n",
       "    </tr>\n",
       "    <tr>\n",
       "      <th>1</th>\n",
       "      <td>3.0</td>\n",
       "      <td>4.0</td>\n",
       "      <td>NaN</td>\n",
       "      <td>1</td>\n",
       "    </tr>\n",
       "    <tr>\n",
       "      <th>2</th>\n",
       "      <td>NaN</td>\n",
       "      <td>NaN</td>\n",
       "      <td>NaN</td>\n",
       "      <td>5</td>\n",
       "    </tr>\n",
       "  </tbody>\n",
       "</table>\n",
       "</div>"
      ],
      "text/plain": [
       "     A    B   C  D\n",
       "0  NaN  2.0 NaN  0\n",
       "1  3.0  4.0 NaN  1\n",
       "2  NaN  NaN NaN  5"
      ]
     },
     "execution_count": 90,
     "metadata": {},
     "output_type": "execute_result"
    }
   ],
   "source": [
    "df"
   ]
  },
  {
   "cell_type": "code",
   "execution_count": 92,
   "metadata": {
    "collapsed": false
   },
   "outputs": [
    {
     "data": {
      "text/html": [
       "<div>\n",
       "<table border=\"1\" class=\"dataframe\">\n",
       "  <thead>\n",
       "    <tr style=\"text-align: right;\">\n",
       "      <th></th>\n",
       "      <th>A</th>\n",
       "      <th>B</th>\n",
       "      <th>C</th>\n",
       "      <th>D</th>\n",
       "    </tr>\n",
       "  </thead>\n",
       "  <tbody>\n",
       "    <tr>\n",
       "      <th>0</th>\n",
       "      <td>NaN</td>\n",
       "      <td>2.0</td>\n",
       "      <td>NaN</td>\n",
       "      <td>0</td>\n",
       "    </tr>\n",
       "    <tr>\n",
       "      <th>1</th>\n",
       "      <td>3.0</td>\n",
       "      <td>4.0</td>\n",
       "      <td>NaN</td>\n",
       "      <td>1</td>\n",
       "    </tr>\n",
       "  </tbody>\n",
       "</table>\n",
       "</div>"
      ],
      "text/plain": [
       "     A    B   C  D\n",
       "0  NaN  2.0 NaN  0\n",
       "1  3.0  4.0 NaN  1"
      ]
     },
     "execution_count": 92,
     "metadata": {},
     "output_type": "execute_result"
    }
   ],
   "source": [
    "df[np.isfinite(df['B'])]"
   ]
  },
  {
   "cell_type": "code",
   "execution_count": null,
   "metadata": {
    "collapsed": true
   },
   "outputs": [],
   "source": [
    "data[data['EventTimestampDelta']<600].mean()"
   ]
  },
  {
   "cell_type": "markdown",
   "metadata": {},
   "source": [
    "netatmo_humidity_percent, netatmo_latitude, netatmo_longitude, netatmo_pressure_mbar, netatmo_sum_rain_1h, netatmo_sum_rain_24h, netatmo_temperature_c, netatmo_timestamp_delta, netatmo_uid, netatmo_wind_direction_deg, netatmo_wind_gust_direction_deg, netatmo_wind_gust_speed_kmh, netatmo_wind_speed_kmh, "
   ]
  },
  {
   "cell_type": "code",
   "execution_count": 4,
   "metadata": {
    "collapsed": false
   },
   "outputs": [
    {
     "name": "stderr",
     "output_type": "stream",
     "text": [
      "/home/dz/anaconda3/lib/python3.6/site-packages/IPython/core/interactiveshell.py:2717: DtypeWarning: Columns (1) have mixed types. Specify dtype option on import or set low_memory=False.\n",
      "  interactivity=interactivity, compiler=compiler, result=result)\n"
     ]
    }
   ],
   "source": [
    "data = pd.read_csv('data/datatr.csv')"
   ]
  },
  {
   "cell_type": "markdown",
   "metadata": {},
   "source": [
    "We now apply it to all the squares we have.\n",
    "\n",
    "This may take time, more so if you use complex features, so you can try to speed stuff up by using [joblib.Parallel](http://pythonhosted.org/joblib/parallel.html) or similar."
   ]
  },
  {
   "cell_type": "code",
   "execution_count": 101,
   "metadata": {
    "collapsed": false,
    "scrolled": true
   },
   "outputs": [
    {
     "name": "stderr",
     "output_type": "stream",
     "text": [
      "\n",
      "  0%|          | 0/22362 [00:00<?, ?it/s]\u001b[A\n",
      "  0%|          | 1/22362 [00:00<2:22:45,  2.61it/s]\u001b[A\n",
      "  0%|          | 2/22362 [00:00<1:58:06,  3.16it/s]\u001b[A\n",
      "  0%|          | 3/22362 [00:00<1:40:44,  3.70it/s]\u001b[A\n",
      "  0%|          | 4/22362 [00:00<1:29:17,  4.17it/s]\u001b[A\n",
      "  0%|          | 5/22362 [00:01<1:20:35,  4.62it/s]\u001b[A\n",
      "  0%|          | 6/22362 [00:01<1:18:08,  4.77it/s]\u001b[A\n",
      "  0%|          | 7/22362 [00:01<1:14:49,  4.98it/s]\u001b[A\n",
      "  0%|          | 8/22362 [00:01<1:09:04,  5.39it/s]\u001b[A\n",
      "  0%|          | 9/22362 [00:01<1:07:16,  5.54it/s]\u001b[A\n",
      "  0%|          | 10/22362 [00:01<1:04:48,  5.75it/s]\u001b[A\n",
      "  0%|          | 11/22362 [00:02<1:04:33,  5.77it/s]\u001b[A\n",
      "  0%|          | 12/22362 [00:02<1:04:32,  5.77it/s]\u001b[A\n",
      "  0%|          | 13/22362 [00:02<1:06:57,  5.56it/s]\u001b[A\n",
      "  0%|          | 14/22362 [00:02<1:05:50,  5.66it/s]\u001b[A\n",
      "  0%|          | 15/22362 [00:02<1:05:20,  5.70it/s]\u001b[A\n",
      "  0%|          | 16/22362 [00:02<1:04:27,  5.78it/s]\u001b[A\n",
      "  0%|          | 17/22362 [00:03<1:02:01,  6.00it/s]\u001b[A\n",
      "  0%|          | 18/22362 [00:03<1:01:46,  6.03it/s]\u001b[A\n",
      "  0%|          | 19/22362 [00:03<1:02:55,  5.92it/s]\u001b[A\n",
      "  0%|          | 20/22362 [00:03<1:05:28,  5.69it/s]\u001b[A\n",
      "  0%|          | 21/22362 [00:03<1:10:48,  5.26it/s]\u001b[A\n",
      "  0%|          | 22/22362 [00:04<1:21:14,  4.58it/s]\u001b[A\n",
      "  0%|          | 23/22362 [00:04<1:12:25,  5.14it/s]\u001b[A\n",
      "  0%|          | 24/22362 [00:04<1:11:38,  5.20it/s]\u001b[A\n",
      "  0%|          | 25/22362 [00:04<1:07:02,  5.55it/s]\u001b[A\n",
      "  0%|          | 26/22362 [00:04<1:05:39,  5.67it/s]\u001b[A\n",
      "  0%|          | 27/22362 [00:04<1:05:54,  5.65it/s]\u001b[A\n",
      "  0%|          | 28/22362 [00:05<1:04:17,  5.79it/s]\u001b[A\n",
      "  0%|          | 29/22362 [00:05<1:03:44,  5.84it/s]\u001b[A\n",
      "  0%|          | 30/22362 [00:05<1:04:46,  5.75it/s]\u001b[A\n",
      "  0%|          | 31/22362 [00:05<1:11:30,  5.20it/s]\u001b[A\n",
      "  0%|          | 32/22362 [00:05<1:19:06,  4.70it/s]\u001b[A\n",
      "  0%|          | 33/22362 [00:06<1:10:56,  5.25it/s]\u001b[A\n",
      "  0%|          | 34/22362 [00:06<1:06:32,  5.59it/s]\u001b[A\n",
      "  0%|          | 35/22362 [00:06<1:05:34,  5.68it/s]\u001b[A\n",
      "  0%|          | 36/22362 [00:06<1:07:19,  5.53it/s]\u001b[A\n",
      "  0%|          | 37/22362 [00:06<1:04:06,  5.80it/s]\u001b[A\n",
      "  0%|          | 38/22362 [00:06<1:02:18,  5.97it/s]\u001b[A\n",
      "  0%|          | 39/22362 [00:07<1:02:53,  5.92it/s]\u001b[A\n",
      "  0%|          | 40/22362 [00:07<1:02:53,  5.92it/s]\u001b[A\n",
      "  0%|          | 41/22362 [00:07<1:01:23,  6.06it/s]\u001b[A\n",
      "  0%|          | 42/22362 [00:07<1:06:59,  5.55it/s]\u001b[A\n",
      "  0%|          | 43/22362 [00:07<1:17:32,  4.80it/s]\u001b[A\n",
      "  0%|          | 44/22362 [00:08<1:16:13,  4.88it/s]\u001b[A\n",
      "  0%|          | 45/22362 [00:08<1:14:03,  5.02it/s]\u001b[A\n",
      "  0%|          | 46/22362 [00:08<1:13:25,  5.07it/s]\u001b[A\n",
      "  0%|          | 47/22362 [00:08<1:10:26,  5.28it/s]\u001b[A\n",
      "  0%|          | 48/22362 [00:08<1:08:10,  5.45it/s]\u001b[A\n",
      "  0%|          | 49/22362 [00:08<1:05:42,  5.66it/s]\u001b[A\n",
      "  0%|          | 50/22362 [00:09<1:06:29,  5.59it/s]\u001b[A\n",
      "  0%|          | 51/22362 [00:09<1:05:30,  5.68it/s]\u001b[A\n",
      "  0%|          | 53/22362 [00:09<1:04:22,  5.78it/s]\u001b[A\n",
      "  1%|          | 228/22362 [00:36<55:00,  6.71it/s]  Exception ignored in: <bound method DMatrix.__del__ of <xgboost.core.DMatrix object at 0x7f8418e0c400>>\n",
      "Traceback (most recent call last):\n",
      "  File \"/home/dz/anaconda3/lib/python3.6/site-packages/xgboost/core.py\", line 324, in __del__\n",
      "    _check_call(_LIB.XGDMatrixFree(self.handle))\n",
      "AttributeError: 'DMatrix' object has no attribute 'handle'\n",
      "100%|██████████| 22362/22362 [55:28<00:00,  6.29it/s] \n"
     ]
    }
   ],
   "source": [
    "from tqdm import tqdm\n",
    "\n",
    "groupby = data.groupby([\"city_code\",\"sq_x\",\"sq_y\",\"hour_hash\"])\n",
    "\n",
    "X,yy,y,block_ids = [],[],[], []\n",
    "\n",
    "for block_id in tqdm(groupby.groups):\n",
    "    group = groupby.get_group(block_id)\n",
    "    X.append(extract_features(group,netatmo_groups,netatmo_anns))\n",
    "    y.append(group.iloc[0]['rain'])\n",
    "    yy.append(group.iloc[0]['precipitation'])\n",
    "    block_ids.append(block_id+(group.iloc[0][\"hours_since\"],))\n",
    "\n",
    "X = pd.DataFrame(X)#.fillna(-999.)\n",
    "y = np.array(y)\n",
    "block_ids = pd.DataFrame(block_ids,columns=[\"city_code\",\"sq_x\",\"sq_y\",\"hour_hash\",\"hours_since\"])"
   ]
  },
  {
   "cell_type": "markdown",
   "metadata": {},
   "source": [
    "__Note:__ If you're low on memory, it's time to either delete train & groupby or pickle X/y/block_ids and restart."
   ]
  },
  {
   "cell_type": "code",
   "execution_count": 96,
   "metadata": {
    "collapsed": false
   },
   "outputs": [
    {
     "ename": "AttributeError",
     "evalue": "'list' object has no attribute 'shape'",
     "output_type": "error",
     "traceback": [
      "\u001b[0;31m---------------------------------------------------------------------------\u001b[0m",
      "\u001b[0;31mAttributeError\u001b[0m                            Traceback (most recent call last)",
      "\u001b[0;32m<ipython-input-96-f4d1993ce88c>\u001b[0m in \u001b[0;36m<module>\u001b[0;34m()\u001b[0m\n\u001b[0;32m----> 1\u001b[0;31m \u001b[0mX\u001b[0m\u001b[0;34m.\u001b[0m\u001b[0mshape\u001b[0m\u001b[0;34m,\u001b[0m\u001b[0my\u001b[0m\u001b[0;34m.\u001b[0m\u001b[0mshape\u001b[0m\u001b[0;34m,\u001b[0m\u001b[0myy\u001b[0m\u001b[0;34m.\u001b[0m\u001b[0mshape\u001b[0m\u001b[0;34m\u001b[0m\u001b[0m\n\u001b[0m",
      "\u001b[0;31mAttributeError\u001b[0m: 'list' object has no attribute 'shape'"
     ]
    }
   ],
   "source": [
    "X.shape,y.shape,yy.shape"
   ]
  },
  {
   "cell_type": "code",
   "execution_count": 99,
   "metadata": {
    "collapsed": false
   },
   "outputs": [
    {
     "data": {
      "text/plain": [
       "0     NaN\n",
       "1     NaN\n",
       "2     NaN\n",
       "3     NaN\n",
       "4     NaN\n",
       "5     NaN\n",
       "6     NaN\n",
       "7     NaN\n",
       "8     NaN\n",
       "9     NaN\n",
       "10    NaN\n",
       "11    NaN\n",
       "12    NaN\n",
       "13    NaN\n",
       "14    NaN\n",
       "15    NaN\n",
       "16    NaN\n",
       "17    NaN\n",
       "18    NaN\n",
       "19    NaN\n",
       "20    NaN\n",
       "21    NaN\n",
       "22    NaN\n",
       "23    NaN\n",
       "24    NaN\n",
       "25    NaN\n",
       "26    NaN\n",
       "27    NaN\n",
       "28    NaN\n",
       "29    NaN\n",
       "       ..\n",
       "251   NaN\n",
       "252   NaN\n",
       "253   NaN\n",
       "254   NaN\n",
       "255   NaN\n",
       "256   NaN\n",
       "257   NaN\n",
       "258   NaN\n",
       "259   NaN\n",
       "260   NaN\n",
       "261   NaN\n",
       "262   NaN\n",
       "263   NaN\n",
       "264   NaN\n",
       "265   NaN\n",
       "266   NaN\n",
       "267   NaN\n",
       "268   NaN\n",
       "269   NaN\n",
       "270   NaN\n",
       "271   NaN\n",
       "272   NaN\n",
       "273   NaN\n",
       "274   NaN\n",
       "275   NaN\n",
       "276   NaN\n",
       "277   NaN\n",
       "278   NaN\n",
       "279   NaN\n",
       "280   NaN\n",
       "Name: netatmo_wind_speed_kmh_mind, dtype: float64"
      ]
     },
     "execution_count": 99,
     "metadata": {},
     "output_type": "execute_result"
    }
   ],
   "source": [
    "pd.DataFrame(X)['netatmo_wind_speed_kmh_mind']"
   ]
  },
  {
   "cell_type": "code",
   "execution_count": 102,
   "metadata": {
    "collapsed": false
   },
   "outputs": [],
   "source": [
    "block_ids.to_csv('data/blockspb.csv')"
   ]
  },
  {
   "cell_type": "code",
   "execution_count": 31,
   "metadata": {
    "collapsed": true
   },
   "outputs": [],
   "source": [
    "data.to_csv('data/datatr.csv')\n"
   ]
  },
  {
   "cell_type": "code",
   "execution_count": 103,
   "metadata": {
    "collapsed": true
   },
   "outputs": [],
   "source": [
    "dy = pd.DataFrame()\n",
    "dy['y'] = y\n",
    "dy['yy'] = np.array(yy)\n",
    "dy.to_csv('data/yspb.csv')"
   ]
  },
  {
   "cell_type": "code",
   "execution_count": 67,
   "metadata": {
    "collapsed": false
   },
   "outputs": [
    {
     "data": {
      "text/html": [
       "<div>\n",
       "<table border=\"1\" class=\"dataframe\">\n",
       "  <thead>\n",
       "    <tr style=\"text-align: right;\">\n",
       "      <th></th>\n",
       "      <th>y</th>\n",
       "      <th>yy</th>\n",
       "    </tr>\n",
       "  </thead>\n",
       "  <tbody>\n",
       "    <tr>\n",
       "      <th>0</th>\n",
       "      <td>True</td>\n",
       "      <td>0.518180</td>\n",
       "    </tr>\n",
       "    <tr>\n",
       "      <th>1</th>\n",
       "      <td>False</td>\n",
       "      <td>0.000000</td>\n",
       "    </tr>\n",
       "    <tr>\n",
       "      <th>2</th>\n",
       "      <td>False</td>\n",
       "      <td>0.076159</td>\n",
       "    </tr>\n",
       "    <tr>\n",
       "      <th>3</th>\n",
       "      <td>False</td>\n",
       "      <td>0.052781</td>\n",
       "    </tr>\n",
       "    <tr>\n",
       "      <th>4</th>\n",
       "      <td>True</td>\n",
       "      <td>0.514332</td>\n",
       "    </tr>\n",
       "  </tbody>\n",
       "</table>\n",
       "</div>"
      ],
      "text/plain": [
       "       y        yy\n",
       "0   True  0.518180\n",
       "1  False  0.000000\n",
       "2  False  0.076159\n",
       "3  False  0.052781\n",
       "4   True  0.514332"
      ]
     },
     "execution_count": 67,
     "metadata": {},
     "output_type": "execute_result"
    }
   ],
   "source": [
    "dy.head()"
   ]
  },
  {
   "cell_type": "code",
   "execution_count": 104,
   "metadata": {
    "collapsed": false
   },
   "outputs": [],
   "source": [
    "X.to_csv('data/Xtrspb.csv')"
   ]
  },
  {
   "cell_type": "markdown",
   "metadata": {},
   "source": [
    "### Classifier\n",
    "\n",
    "Once the data is processed, it's time to train some machine learning model that would predict rain given all features we gathered.\n",
    "\n",
    "Since our features are all of different nature and unit scale (hours,decibels,degrees,etc.), it makes sense to use decision tree-based methods to for classification.\n",
    "\n",
    "\n",
    "<img src=\"http://zdnet2.cbsistatic.com/hub/i/2017/07/18/d3f47c3e-8529-4855-a0e1-c686ee3b4007/d1113adf74bb59c3b46419a531c39c3e/orig.png\" width=320>\n",
    "In particular, we apply [CatBoost](https://catboost.yandex/), Yandex' recent open source gradient boosting implementation.\n",
    "\n",
    "To make this baseline simple, we use catboost with default settings. You can certainly find a better combination of parameters. \n",
    "\n",
    "Here's a [guide](https://tech.yandex.com/catboost/doc/dg/concepts/parameter-tuning-docpage/) on how catboost hyperparameters work."
   ]
  },
  {
   "cell_type": "code",
   "execution_count": 7,
   "metadata": {
    "collapsed": true
   },
   "outputs": [],
   "source": [
    "X = pd.read_csv('data/Xtr.csv')\n",
    "y = np.array(pd.read_csv('data/y.csv')['y'])"
   ]
  },
  {
   "cell_type": "code",
   "execution_count": 105,
   "metadata": {
    "collapsed": false
   },
   "outputs": [
    {
     "name": "stdout",
     "output_type": "stream",
     "text": [
      "Training samples: 19036; Validation samples: 3326\n"
     ]
    }
   ],
   "source": [
    "in_train = block_ids['hours_since'] <= np.percentile(block_ids['hours_since'],85) #leave last 15% for validation\n",
    "\n",
    "X_train,y_train = X[in_train],y[in_train]\n",
    "X_val,y_val = X[~in_train],y[~in_train]\n",
    "print(\"Training samples: %i; Validation samples: %i\"%(len(X_train),len(X_val)))"
   ]
  },
  {
   "cell_type": "code",
   "execution_count": 106,
   "metadata": {
    "collapsed": false
   },
   "outputs": [
    {
     "data": {
      "text/plain": [
       "((22362, 247), (22362,))"
      ]
     },
     "execution_count": 106,
     "metadata": {},
     "output_type": "execute_result"
    }
   ],
   "source": [
    "X.shape,y.shape"
   ]
  },
  {
   "cell_type": "code",
   "execution_count": 72,
   "metadata": {
    "collapsed": false
   },
   "outputs": [
    {
     "name": "stderr",
     "output_type": "stream",
     "text": [
      "/home/dz/anaconda3/lib/python3.6/site-packages/sklearn/cross_validation.py:44: DeprecationWarning: This module was deprecated in version 0.18 in favor of the model_selection module into which all the refactored classes and functions are moved. Also note that the interface of the new CV iterators are different from that of this module. This module will be removed in 0.20.\n",
      "  \"This module will be removed in 0.20.\", DeprecationWarning)\n"
     ]
    }
   ],
   "source": [
    "import xgboost as xgb"
   ]
  },
  {
   "cell_type": "code",
   "execution_count": 74,
   "metadata": {
    "collapsed": false
   },
   "outputs": [
    {
     "data": {
      "text/html": [
       "<div>\n",
       "<table border=\"1\" class=\"dataframe\">\n",
       "  <thead>\n",
       "    <tr style=\"text-align: right;\">\n",
       "      <th></th>\n",
       "      <th>LocationSpeed_max+min1</th>\n",
       "      <th>LocationSpeed_max+min11</th>\n",
       "      <th>LocationSpeed_max+min2</th>\n",
       "      <th>LocationSpeed_max+min20</th>\n",
       "      <th>LocationSpeed_max+min215</th>\n",
       "      <th>LocationSpeed_max+min23</th>\n",
       "      <th>LocationSpeed_max+min25</th>\n",
       "      <th>LocationSpeed_max+min255</th>\n",
       "      <th>LocationSpeed_max+min3</th>\n",
       "      <th>LocationSpeed_max+min35</th>\n",
       "      <th>...</th>\n",
       "      <th>netatmo_wind_speed_kmh_stdd</th>\n",
       "      <th>num_users</th>\n",
       "      <th>signal_sum</th>\n",
       "      <th>square_lat</th>\n",
       "      <th>square_lon</th>\n",
       "      <th>time_dm</th>\n",
       "      <th>time_mean</th>\n",
       "      <th>time_median</th>\n",
       "      <th>time_of_day</th>\n",
       "      <th>time_std</th>\n",
       "    </tr>\n",
       "  </thead>\n",
       "  <tbody>\n",
       "    <tr>\n",
       "      <th>0</th>\n",
       "      <td>-489.0</td>\n",
       "      <td>-999.0</td>\n",
       "      <td>-489.5</td>\n",
       "      <td>-492.5</td>\n",
       "      <td>NaN</td>\n",
       "      <td>-493.5</td>\n",
       "      <td>NaN</td>\n",
       "      <td>NaN</td>\n",
       "      <td>NaN</td>\n",
       "      <td>NaN</td>\n",
       "      <td>...</td>\n",
       "      <td>NaN</td>\n",
       "      <td>46</td>\n",
       "      <td>-70790</td>\n",
       "      <td>59.918629</td>\n",
       "      <td>30.328329</td>\n",
       "      <td>7.535055</td>\n",
       "      <td>9.535055</td>\n",
       "      <td>2.0</td>\n",
       "      <td>19</td>\n",
       "      <td>33.156581</td>\n",
       "    </tr>\n",
       "    <tr>\n",
       "      <th>1</th>\n",
       "      <td>-491.0</td>\n",
       "      <td>NaN</td>\n",
       "      <td>-488.0</td>\n",
       "      <td>-496.5</td>\n",
       "      <td>NaN</td>\n",
       "      <td>NaN</td>\n",
       "      <td>NaN</td>\n",
       "      <td>NaN</td>\n",
       "      <td>NaN</td>\n",
       "      <td>NaN</td>\n",
       "      <td>...</td>\n",
       "      <td>NaN</td>\n",
       "      <td>29</td>\n",
       "      <td>-37498</td>\n",
       "      <td>59.864773</td>\n",
       "      <td>30.328329</td>\n",
       "      <td>8.949495</td>\n",
       "      <td>10.949495</td>\n",
       "      <td>2.0</td>\n",
       "      <td>10</td>\n",
       "      <td>30.815681</td>\n",
       "    </tr>\n",
       "    <tr>\n",
       "      <th>2</th>\n",
       "      <td>17.0</td>\n",
       "      <td>NaN</td>\n",
       "      <td>-484.5</td>\n",
       "      <td>-489.0</td>\n",
       "      <td>NaN</td>\n",
       "      <td>NaN</td>\n",
       "      <td>NaN</td>\n",
       "      <td>NaN</td>\n",
       "      <td>NaN</td>\n",
       "      <td>NaN</td>\n",
       "      <td>...</td>\n",
       "      <td>NaN</td>\n",
       "      <td>7</td>\n",
       "      <td>-6852</td>\n",
       "      <td>59.810921</td>\n",
       "      <td>30.220709</td>\n",
       "      <td>-0.018182</td>\n",
       "      <td>2.981818</td>\n",
       "      <td>3.0</td>\n",
       "      <td>19</td>\n",
       "      <td>1.929880</td>\n",
       "    </tr>\n",
       "    <tr>\n",
       "      <th>3</th>\n",
       "      <td>-487.0</td>\n",
       "      <td>NaN</td>\n",
       "      <td>-489.5</td>\n",
       "      <td>-491.0</td>\n",
       "      <td>NaN</td>\n",
       "      <td>14.5</td>\n",
       "      <td>NaN</td>\n",
       "      <td>NaN</td>\n",
       "      <td>NaN</td>\n",
       "      <td>NaN</td>\n",
       "      <td>...</td>\n",
       "      <td>NaN</td>\n",
       "      <td>26</td>\n",
       "      <td>-33568</td>\n",
       "      <td>59.972481</td>\n",
       "      <td>30.328329</td>\n",
       "      <td>7.271845</td>\n",
       "      <td>8.271845</td>\n",
       "      <td>1.0</td>\n",
       "      <td>19</td>\n",
       "      <td>20.330215</td>\n",
       "    </tr>\n",
       "    <tr>\n",
       "      <th>4</th>\n",
       "      <td>-490.5</td>\n",
       "      <td>NaN</td>\n",
       "      <td>-490.0</td>\n",
       "      <td>-494.0</td>\n",
       "      <td>NaN</td>\n",
       "      <td>NaN</td>\n",
       "      <td>NaN</td>\n",
       "      <td>NaN</td>\n",
       "      <td>NaN</td>\n",
       "      <td>NaN</td>\n",
       "      <td>...</td>\n",
       "      <td>NaN</td>\n",
       "      <td>20</td>\n",
       "      <td>-36374</td>\n",
       "      <td>59.864773</td>\n",
       "      <td>30.435949</td>\n",
       "      <td>-10.564356</td>\n",
       "      <td>22.435644</td>\n",
       "      <td>33.0</td>\n",
       "      <td>19</td>\n",
       "      <td>26.601523</td>\n",
       "    </tr>\n",
       "  </tbody>\n",
       "</table>\n",
       "<p>5 rows × 216 columns</p>\n",
       "</div>"
      ],
      "text/plain": [
       "   LocationSpeed_max+min1  LocationSpeed_max+min11  LocationSpeed_max+min2  \\\n",
       "0                  -489.0                   -999.0                  -489.5   \n",
       "1                  -491.0                      NaN                  -488.0   \n",
       "2                    17.0                      NaN                  -484.5   \n",
       "3                  -487.0                      NaN                  -489.5   \n",
       "4                  -490.5                      NaN                  -490.0   \n",
       "\n",
       "   LocationSpeed_max+min20  LocationSpeed_max+min215  LocationSpeed_max+min23  \\\n",
       "0                   -492.5                       NaN                   -493.5   \n",
       "1                   -496.5                       NaN                      NaN   \n",
       "2                   -489.0                       NaN                      NaN   \n",
       "3                   -491.0                       NaN                     14.5   \n",
       "4                   -494.0                       NaN                      NaN   \n",
       "\n",
       "   LocationSpeed_max+min25  LocationSpeed_max+min255  LocationSpeed_max+min3  \\\n",
       "0                      NaN                       NaN                     NaN   \n",
       "1                      NaN                       NaN                     NaN   \n",
       "2                      NaN                       NaN                     NaN   \n",
       "3                      NaN                       NaN                     NaN   \n",
       "4                      NaN                       NaN                     NaN   \n",
       "\n",
       "   LocationSpeed_max+min35    ...      netatmo_wind_speed_kmh_stdd  num_users  \\\n",
       "0                      NaN    ...                              NaN         46   \n",
       "1                      NaN    ...                              NaN         29   \n",
       "2                      NaN    ...                              NaN          7   \n",
       "3                      NaN    ...                              NaN         26   \n",
       "4                      NaN    ...                              NaN         20   \n",
       "\n",
       "   signal_sum  square_lat  square_lon    time_dm  time_mean  time_median  \\\n",
       "0      -70790   59.918629   30.328329   7.535055   9.535055          2.0   \n",
       "1      -37498   59.864773   30.328329   8.949495  10.949495          2.0   \n",
       "2       -6852   59.810921   30.220709  -0.018182   2.981818          3.0   \n",
       "3      -33568   59.972481   30.328329   7.271845   8.271845          1.0   \n",
       "4      -36374   59.864773   30.435949 -10.564356  22.435644         33.0   \n",
       "\n",
       "   time_of_day   time_std  \n",
       "0           19  33.156581  \n",
       "1           10  30.815681  \n",
       "2           19   1.929880  \n",
       "3           19  20.330215  \n",
       "4           19  26.601523  \n",
       "\n",
       "[5 rows x 216 columns]"
      ]
     },
     "execution_count": 74,
     "metadata": {},
     "output_type": "execute_result"
    }
   ],
   "source": [
    "X.head()"
   ]
  },
  {
   "cell_type": "code",
   "execution_count": 80,
   "metadata": {
    "collapsed": false
   },
   "outputs": [
    {
     "data": {
      "text/plain": [
       "city_code                         NaN\n",
       "day                               NaN\n",
       "day_hour                          NaN\n",
       "hour_hash                         NaN\n",
       "hours_since                       NaN\n",
       "netatmo_humidity_percent          NaN\n",
       "netatmo_latitude                  NaN\n",
       "netatmo_longitude                 NaN\n",
       "netatmo_pressure_mbar             NaN\n",
       "netatmo_sum_rain_1h               NaN\n",
       "netatmo_sum_rain_24h              NaN\n",
       "netatmo_temperature_c             NaN\n",
       "netatmo_time_day_rain             NaN\n",
       "netatmo_time_hour_rain            NaN\n",
       "netatmo_timestamp                 NaN\n",
       "netatmo_timestamp_delta           NaN\n",
       "netatmo_uid                       NaN\n",
       "netatmo_wind_direction_deg        NaN\n",
       "netatmo_wind_gust_direction_deg   NaN\n",
       "netatmo_wind_gust_speed_kmh       NaN\n",
       "netatmo_wind_gust_timestamp       NaN\n",
       "netatmo_wind_speed_kmh            NaN\n",
       "netatmo_wind_timestamp            NaN\n",
       "point_latitude                    NaN\n",
       "point_longitude                   NaN\n",
       "precipitation                     NaN\n",
       "rain                              NaN\n",
       "sq_time                           NaN\n",
       "sq_x                              NaN\n",
       "sq_y                              NaN\n",
       "utc_date                          NaN\n",
       "dtype: float64"
      ]
     },
     "execution_count": 80,
     "metadata": {},
     "output_type": "execute_result"
    }
   ],
   "source": [
    "X['netatmo_wind_speed_kmh_stdd'][5]"
   ]
  },
  {
   "cell_type": "code",
   "execution_count": 85,
   "metadata": {
    "collapsed": false
   },
   "outputs": [],
   "source": [
    "feat = ['LocationSpeed_max+min1',\n",
    " 'LocationSpeed_max+min11',\n",
    " 'LocationSpeed_max+min2',\n",
    " 'LocationSpeed_max+min20',\n",
    " 'LocationSpeed_max+min215',\n",
    " 'LocationSpeed_max+min23',\n",
    " 'LocationSpeed_max+min25',\n",
    " 'LocationSpeed_max+min255',\n",
    " 'LocationSpeed_max+min3',\n",
    " 'LocationSpeed_max+min35',\n",
    " 'LocationSpeed_max+min36',\n",
    " 'LocationSpeed_max+min5',\n",
    " 'LocationSpeed_max+min99',\n",
    " 'LocationSpeed_max-min1',\n",
    " 'LocationSpeed_max-min11',\n",
    " 'LocationSpeed_max-min2',\n",
    " 'LocationSpeed_max-min20',\n",
    " 'LocationSpeed_max-min215',\n",
    " 'LocationSpeed_max-min23',\n",
    " 'LocationSpeed_max-min25',\n",
    " 'LocationSpeed_max-min255',\n",
    " 'LocationSpeed_max-min3',\n",
    " 'LocationSpeed_max-min35',\n",
    " 'LocationSpeed_max-min36',\n",
    " 'LocationSpeed_max-min5',\n",
    " 'LocationSpeed_max-min99',\n",
    " 'LocationSpeed_max1',\n",
    " 'LocationSpeed_max11',\n",
    " 'LocationSpeed_max2',\n",
    " 'LocationSpeed_max20',\n",
    " 'LocationSpeed_max215',\n",
    " 'LocationSpeed_max23',\n",
    " 'LocationSpeed_max25',\n",
    " 'LocationSpeed_max255',\n",
    " 'LocationSpeed_max3',\n",
    " 'LocationSpeed_max35',\n",
    " 'LocationSpeed_max36',\n",
    " 'LocationSpeed_max5',\n",
    " 'LocationSpeed_max99',\n",
    " 'LocationSpeed_mean1',\n",
    " 'LocationSpeed_mean11',\n",
    " 'LocationSpeed_mean2',\n",
    " 'LocationSpeed_mean20',\n",
    " 'LocationSpeed_mean215',\n",
    " 'LocationSpeed_mean23',\n",
    " 'LocationSpeed_mean25',\n",
    " 'LocationSpeed_mean255',\n",
    " 'LocationSpeed_mean3',\n",
    " 'LocationSpeed_mean35',\n",
    " 'LocationSpeed_mean36',\n",
    " 'LocationSpeed_mean5',\n",
    " 'LocationSpeed_mean99',\n",
    " 'LocationSpeed_median1',\n",
    " 'LocationSpeed_median11',\n",
    " 'LocationSpeed_median2',\n",
    " 'LocationSpeed_median20',\n",
    " 'LocationSpeed_median215',\n",
    " 'LocationSpeed_median23',\n",
    " 'LocationSpeed_median25',\n",
    " 'LocationSpeed_median255',\n",
    " 'LocationSpeed_median3',\n",
    " 'LocationSpeed_median35',\n",
    " 'LocationSpeed_median36',\n",
    " 'LocationSpeed_median5',\n",
    " 'LocationSpeed_median99',\n",
    " 'LocationSpeed_min1',\n",
    " 'LocationSpeed_min11',\n",
    " 'LocationSpeed_min2',\n",
    " 'LocationSpeed_min20',\n",
    " 'LocationSpeed_min215',\n",
    " 'LocationSpeed_min23',\n",
    " 'LocationSpeed_min25',\n",
    " 'LocationSpeed_min255',\n",
    " 'LocationSpeed_min3',\n",
    " 'LocationSpeed_min35',\n",
    " 'LocationSpeed_min36',\n",
    " 'LocationSpeed_min5',\n",
    " 'LocationSpeed_min99',\n",
    " 'LocationSpeed_q75-q251',\n",
    " 'LocationSpeed_q75-q2511',\n",
    " 'LocationSpeed_q75-q252',\n",
    " 'LocationSpeed_q75-q2520',\n",
    " 'LocationSpeed_q75-q25215',\n",
    " 'LocationSpeed_q75-q2523',\n",
    " 'LocationSpeed_q75-q2525',\n",
    " 'LocationSpeed_q75-q25255',\n",
    " 'LocationSpeed_q75-q253',\n",
    " 'LocationSpeed_q75-q2535',\n",
    " 'LocationSpeed_q75-q2536',\n",
    " 'LocationSpeed_q75-q255',\n",
    " 'LocationSpeed_q75-q2599',\n",
    " 'LocationSpeed_q_251',\n",
    " 'LocationSpeed_q_2511',\n",
    " 'LocationSpeed_q_252',\n",
    " 'LocationSpeed_q_2520',\n",
    " 'LocationSpeed_q_25215',\n",
    " 'LocationSpeed_q_2523',\n",
    " 'LocationSpeed_q_2525',\n",
    " 'LocationSpeed_q_25255',\n",
    " 'LocationSpeed_q_253',\n",
    " 'LocationSpeed_q_2535',\n",
    " 'LocationSpeed_q_2536',\n",
    " 'LocationSpeed_q_255',\n",
    " 'LocationSpeed_q_2599',\n",
    " 'LocationSpeed_q_751',\n",
    " 'LocationSpeed_q_7511',\n",
    " 'LocationSpeed_q_752',\n",
    " 'LocationSpeed_q_7520',\n",
    " 'LocationSpeed_q_75215',\n",
    " 'LocationSpeed_q_7523',\n",
    " 'LocationSpeed_q_7525',\n",
    " 'LocationSpeed_q_75255',\n",
    " 'LocationSpeed_q_753',\n",
    " 'LocationSpeed_q_7535',\n",
    " 'LocationSpeed_q_7536',\n",
    " 'LocationSpeed_q_755',\n",
    " 'LocationSpeed_q_7599',\n",
    " 'LocationSpeed_std1',\n",
    " 'LocationSpeed_std11',\n",
    " 'LocationSpeed_std2',\n",
    " 'LocationSpeed_std20',\n",
    " 'LocationSpeed_std215',\n",
    " 'LocationSpeed_std23',\n",
    " 'LocationSpeed_std25',\n",
    " 'LocationSpeed_std255',\n",
    " 'LocationSpeed_std3',\n",
    " 'LocationSpeed_std35',\n",
    " 'LocationSpeed_std36',\n",
    " 'LocationSpeed_std5',\n",
    " 'LocationSpeed_std99',\n",
    " 'dm_entries_per_user',\n",
    " 'dm_signal_std',\n",
    " 'max+min_distance_to_closest_station',\n",
    " 'max_distance_to_closest_station',\n",
    " 'mean_distance_to_station',\n",
    " 'mean_entries_per_user',\n",
    " 'mean_user_signal_std',\n",
    " 'median_distance_to_closest_station',\n",
    " 'median_entries_per_user',\n",
    " 'median_user_signal_std',\n",
    " 'min_distance_to_closest_station',\n",
    " 'netatmo_humidity_percent_mm',\n",
    " 'netatmo_humidity_percent_std',\n",
    " 'netatmo_humidity_percent_mean',\n",
    " 'netatmo_humidity_percent_median',\n",
    " 'netatmo_pressure_mbar_mean',\n",
    " 'netatmo_pressure_mbar_median',\n",
    " 'netatmo_pressure_mbar_mm',\n",
    " 'netatmo_pressure_mbar_std',\n",
    " 'netatmo_sum_rain_1h_mean',\n",
    " 'netatmo_sum_rain_1h_median',\n",
    " 'netatmo_sum_rain_1h_mm',\n",
    " 'netatmo_sum_rain_1h_std',\n",
    " 'netatmo_sum_rain_24h_mean',\n",
    " 'netatmo_sum_rain_24h_median',\n",
    " 'netatmo_sum_rain_24h_mm',\n",
    " 'netatmo_sum_rain_24h_std',\n",
    " 'netatmo_temperature_c_mean',\n",
    " 'netatmo_temperature_c_median',\n",
    " 'netatmo_temperature_c_mm',\n",
    " 'netatmo_temperature_c_std',\n",
    " 'netatmo_wind_direction_deg_mean',\n",
    " 'netatmo_wind_direction_deg_median',\n",
    " 'netatmo_wind_direction_deg_mm',\n",
    " 'netatmo_wind_direction_deg_std',\n",
    " 'netatmo_wind_gust_direction_deg_mean',\n",
    " 'netatmo_wind_gust_direction_deg_median',\n",
    " 'netatmo_wind_gust_direction_deg_mm',\n",
    " 'netatmo_wind_gust_direction_deg_std',\n",
    " 'netatmo_wind_gust_speed_kmh_mean',\n",
    " 'netatmo_wind_gust_speed_kmh_median',\n",
    " 'netatmo_wind_gust_speed_kmh_mm',\n",
    " 'netatmo_wind_gust_speed_kmh_std',\n",
    " 'netatmo_wind_speed_kmh_mean',\n",
    " 'netatmo_wind_speed_kmh_median',\n",
    " 'netatmo_wind_speed_kmh_mm',\n",
    " 'netatmo_wind_speed_kmh_std',\n",
    " 'num_users',\n",
    " 'signal_sum',\n",
    " 'time_dm',\n",
    " 'time_mean',\n",
    " 'time_median',\n",
    " 'time_of_day',\n",
    " 'time_std']"
   ]
  },
  {
   "cell_type": "code",
   "execution_count": 83,
   "metadata": {
    "collapsed": false
   },
   "outputs": [
    {
     "data": {
      "text/plain": [
       "['LocationSpeed_max+min1',\n",
       " 'LocationSpeed_max+min11',\n",
       " 'LocationSpeed_max+min2',\n",
       " 'LocationSpeed_max+min20',\n",
       " 'LocationSpeed_max+min215',\n",
       " 'LocationSpeed_max+min23',\n",
       " 'LocationSpeed_max+min25',\n",
       " 'LocationSpeed_max+min255',\n",
       " 'LocationSpeed_max+min3',\n",
       " 'LocationSpeed_max+min35',\n",
       " 'LocationSpeed_max+min36',\n",
       " 'LocationSpeed_max+min5',\n",
       " 'LocationSpeed_max+min99',\n",
       " 'LocationSpeed_max-min1',\n",
       " 'LocationSpeed_max-min11',\n",
       " 'LocationSpeed_max-min2',\n",
       " 'LocationSpeed_max-min20',\n",
       " 'LocationSpeed_max-min215',\n",
       " 'LocationSpeed_max-min23',\n",
       " 'LocationSpeed_max-min25',\n",
       " 'LocationSpeed_max-min255',\n",
       " 'LocationSpeed_max-min3',\n",
       " 'LocationSpeed_max-min35',\n",
       " 'LocationSpeed_max-min36',\n",
       " 'LocationSpeed_max-min5',\n",
       " 'LocationSpeed_max-min99',\n",
       " 'LocationSpeed_max1',\n",
       " 'LocationSpeed_max11',\n",
       " 'LocationSpeed_max2',\n",
       " 'LocationSpeed_max20',\n",
       " 'LocationSpeed_max215',\n",
       " 'LocationSpeed_max23',\n",
       " 'LocationSpeed_max25',\n",
       " 'LocationSpeed_max255',\n",
       " 'LocationSpeed_max3',\n",
       " 'LocationSpeed_max35',\n",
       " 'LocationSpeed_max36',\n",
       " 'LocationSpeed_max5',\n",
       " 'LocationSpeed_max99',\n",
       " 'LocationSpeed_mean1',\n",
       " 'LocationSpeed_mean11',\n",
       " 'LocationSpeed_mean2',\n",
       " 'LocationSpeed_mean20',\n",
       " 'LocationSpeed_mean215',\n",
       " 'LocationSpeed_mean23',\n",
       " 'LocationSpeed_mean25',\n",
       " 'LocationSpeed_mean255',\n",
       " 'LocationSpeed_mean3',\n",
       " 'LocationSpeed_mean35',\n",
       " 'LocationSpeed_mean36',\n",
       " 'LocationSpeed_mean5',\n",
       " 'LocationSpeed_mean99',\n",
       " 'LocationSpeed_median1',\n",
       " 'LocationSpeed_median11',\n",
       " 'LocationSpeed_median2',\n",
       " 'LocationSpeed_median20',\n",
       " 'LocationSpeed_median215',\n",
       " 'LocationSpeed_median23',\n",
       " 'LocationSpeed_median25',\n",
       " 'LocationSpeed_median255',\n",
       " 'LocationSpeed_median3',\n",
       " 'LocationSpeed_median35',\n",
       " 'LocationSpeed_median36',\n",
       " 'LocationSpeed_median5',\n",
       " 'LocationSpeed_median99',\n",
       " 'LocationSpeed_min1',\n",
       " 'LocationSpeed_min11',\n",
       " 'LocationSpeed_min2',\n",
       " 'LocationSpeed_min20',\n",
       " 'LocationSpeed_min215',\n",
       " 'LocationSpeed_min23',\n",
       " 'LocationSpeed_min25',\n",
       " 'LocationSpeed_min255',\n",
       " 'LocationSpeed_min3',\n",
       " 'LocationSpeed_min35',\n",
       " 'LocationSpeed_min36',\n",
       " 'LocationSpeed_min5',\n",
       " 'LocationSpeed_min99',\n",
       " 'LocationSpeed_q75-q251',\n",
       " 'LocationSpeed_q75-q2511',\n",
       " 'LocationSpeed_q75-q252',\n",
       " 'LocationSpeed_q75-q2520',\n",
       " 'LocationSpeed_q75-q25215',\n",
       " 'LocationSpeed_q75-q2523',\n",
       " 'LocationSpeed_q75-q2525',\n",
       " 'LocationSpeed_q75-q25255',\n",
       " 'LocationSpeed_q75-q253',\n",
       " 'LocationSpeed_q75-q2535',\n",
       " 'LocationSpeed_q75-q2536',\n",
       " 'LocationSpeed_q75-q255',\n",
       " 'LocationSpeed_q75-q2599',\n",
       " 'LocationSpeed_q_251',\n",
       " 'LocationSpeed_q_2511',\n",
       " 'LocationSpeed_q_252',\n",
       " 'LocationSpeed_q_2520',\n",
       " 'LocationSpeed_q_25215',\n",
       " 'LocationSpeed_q_2523',\n",
       " 'LocationSpeed_q_2525',\n",
       " 'LocationSpeed_q_25255',\n",
       " 'LocationSpeed_q_253',\n",
       " 'LocationSpeed_q_2535',\n",
       " 'LocationSpeed_q_2536',\n",
       " 'LocationSpeed_q_255',\n",
       " 'LocationSpeed_q_2599',\n",
       " 'LocationSpeed_q_751',\n",
       " 'LocationSpeed_q_7511',\n",
       " 'LocationSpeed_q_752',\n",
       " 'LocationSpeed_q_7520',\n",
       " 'LocationSpeed_q_75215',\n",
       " 'LocationSpeed_q_7523',\n",
       " 'LocationSpeed_q_7525',\n",
       " 'LocationSpeed_q_75255',\n",
       " 'LocationSpeed_q_753',\n",
       " 'LocationSpeed_q_7535',\n",
       " 'LocationSpeed_q_7536',\n",
       " 'LocationSpeed_q_755',\n",
       " 'LocationSpeed_q_7599',\n",
       " 'LocationSpeed_std1',\n",
       " 'LocationSpeed_std11',\n",
       " 'LocationSpeed_std2',\n",
       " 'LocationSpeed_std20',\n",
       " 'LocationSpeed_std215',\n",
       " 'LocationSpeed_std23',\n",
       " 'LocationSpeed_std25',\n",
       " 'LocationSpeed_std255',\n",
       " 'LocationSpeed_std3',\n",
       " 'LocationSpeed_std35',\n",
       " 'LocationSpeed_std36',\n",
       " 'LocationSpeed_std5',\n",
       " 'LocationSpeed_std99',\n",
       " 'dm_entries_per_user',\n",
       " 'dm_signal_std',\n",
       " 'max+min_distance_to_closest_station',\n",
       " 'max_distance_to_closest_station',\n",
       " 'mean_distance_to_station',\n",
       " 'mean_entries_per_user',\n",
       " 'mean_user_signal_std',\n",
       " 'median_distance_to_closest_station',\n",
       " 'median_entries_per_user',\n",
       " 'median_user_signal_std',\n",
       " 'min_distance_to_closest_station',\n",
       " 'netatmo_humidity_percent_maxd',\n",
       " 'netatmo_humidity_percent_mean',\n",
       " 'netatmo_humidity_percent_meand',\n",
       " 'netatmo_humidity_percent_median',\n",
       " 'netatmo_humidity_percent_mediand',\n",
       " 'netatmo_humidity_percent_mind',\n",
       " 'netatmo_humidity_percent_mm',\n",
       " 'netatmo_humidity_percent_std',\n",
       " 'netatmo_humidity_percent_stdd',\n",
       " 'netatmo_pressure_mbar_maxd',\n",
       " 'netatmo_pressure_mbar_mean',\n",
       " 'netatmo_pressure_mbar_meand',\n",
       " 'netatmo_pressure_mbar_median',\n",
       " 'netatmo_pressure_mbar_mediand',\n",
       " 'netatmo_pressure_mbar_mind',\n",
       " 'netatmo_pressure_mbar_mm',\n",
       " 'netatmo_pressure_mbar_std',\n",
       " 'netatmo_pressure_mbar_stdd',\n",
       " 'netatmo_sum_rain_1h_maxd',\n",
       " 'netatmo_sum_rain_1h_mean',\n",
       " 'netatmo_sum_rain_1h_meand',\n",
       " 'netatmo_sum_rain_1h_median',\n",
       " 'netatmo_sum_rain_1h_mediand',\n",
       " 'netatmo_sum_rain_1h_mind',\n",
       " 'netatmo_sum_rain_1h_mm',\n",
       " 'netatmo_sum_rain_1h_std',\n",
       " 'netatmo_sum_rain_1h_stdd',\n",
       " 'netatmo_sum_rain_24h_mean',\n",
       " 'netatmo_sum_rain_24h_median',\n",
       " 'netatmo_sum_rain_24h_mm',\n",
       " 'netatmo_sum_rain_24h_std',\n",
       " 'netatmo_temperature_c_maxd',\n",
       " 'netatmo_temperature_c_mean',\n",
       " 'netatmo_temperature_c_meand',\n",
       " 'netatmo_temperature_c_median',\n",
       " 'netatmo_temperature_c_mediand',\n",
       " 'netatmo_temperature_c_mind',\n",
       " 'netatmo_temperature_c_mm',\n",
       " 'netatmo_temperature_c_std',\n",
       " 'netatmo_temperature_c_stdd',\n",
       " 'netatmo_wind_direction_deg_mean',\n",
       " 'netatmo_wind_direction_deg_median',\n",
       " 'netatmo_wind_direction_deg_mm',\n",
       " 'netatmo_wind_direction_deg_std',\n",
       " 'netatmo_wind_gust_direction_deg_mean',\n",
       " 'netatmo_wind_gust_direction_deg_median',\n",
       " 'netatmo_wind_gust_direction_deg_mm',\n",
       " 'netatmo_wind_gust_direction_deg_std',\n",
       " 'netatmo_wind_gust_speed_kmh_maxd',\n",
       " 'netatmo_wind_gust_speed_kmh_mean',\n",
       " 'netatmo_wind_gust_speed_kmh_meand',\n",
       " 'netatmo_wind_gust_speed_kmh_median',\n",
       " 'netatmo_wind_gust_speed_kmh_mediand',\n",
       " 'netatmo_wind_gust_speed_kmh_mind',\n",
       " 'netatmo_wind_gust_speed_kmh_mm',\n",
       " 'netatmo_wind_gust_speed_kmh_std',\n",
       " 'netatmo_wind_gust_speed_kmh_stdd',\n",
       " 'netatmo_wind_speed_kmh_maxd',\n",
       " 'netatmo_wind_speed_kmh_mean',\n",
       " 'netatmo_wind_speed_kmh_meand',\n",
       " 'netatmo_wind_speed_kmh_median',\n",
       " 'netatmo_wind_speed_kmh_mediand',\n",
       " 'netatmo_wind_speed_kmh_mind',\n",
       " 'netatmo_wind_speed_kmh_mm',\n",
       " 'netatmo_wind_speed_kmh_std',\n",
       " 'netatmo_wind_speed_kmh_stdd',\n",
       " 'num_users',\n",
       " 'signal_sum',\n",
       " 'square_lat',\n",
       " 'square_lon',\n",
       " 'time_dm',\n",
       " 'time_mean',\n",
       " 'time_median',\n",
       " 'time_of_day',\n",
       " 'time_std']"
      ]
     },
     "execution_count": 83,
     "metadata": {},
     "output_type": "execute_result"
    }
   ],
   "source": [
    "set(list(X.columns))-"
   ]
  },
  {
   "cell_type": "code",
   "execution_count": 107,
   "metadata": {
    "collapsed": false
   },
   "outputs": [],
   "source": [
    "dtr = xgb.DMatrix(X_train[feat], label=y_train)\n",
    "dval = xgb.DMatrix(X_val[feat], label=y_val)\n",
    "watchlist = [(dtr, 'train'), (dval, 'eval')]\n",
    "history = dict()\n",
    "params = {\n",
    "    'max_depth': 7,\n",
    "    'eta': 0.02,\n",
    "    'objective':  \"binary:logistic\",\n",
    "    'eval_metric' : 'auc',\n",
    "    'nthread': 4,\n",
    "    'subsample': 0.8,\n",
    "    'colsample_bytree': 0.8,\n",
    "    'min_child_weight': 99,\n",
    "    'seed':7\n",
    "}"
   ]
  },
  {
   "cell_type": "code",
   "execution_count": 110,
   "metadata": {
    "collapsed": false
   },
   "outputs": [
    {
     "name": "stdout",
     "output_type": "stream",
     "text": [
      "[0]\ttrain-auc:0.76043\teval-auc:0.605527\n",
      "[10]\ttrain-auc:0.806587\teval-auc:0.679997\n",
      "[20]\ttrain-auc:0.810218\teval-auc:0.683204\n",
      "[30]\ttrain-auc:0.811395\teval-auc:0.688704\n",
      "[40]\ttrain-auc:0.813468\teval-auc:0.689728\n",
      "[50]\ttrain-auc:0.816157\teval-auc:0.693611\n",
      "[60]\ttrain-auc:0.815823\teval-auc:0.692128\n",
      "[70]\ttrain-auc:0.817779\teval-auc:0.694421\n",
      "[80]\ttrain-auc:0.817987\teval-auc:0.691748\n",
      "[90]\ttrain-auc:0.821495\teval-auc:0.696361\n",
      "[100]\ttrain-auc:0.823146\teval-auc:0.695972\n",
      "[110]\ttrain-auc:0.824355\teval-auc:0.694332\n",
      "[120]\ttrain-auc:0.826553\teval-auc:0.696947\n",
      "[130]\ttrain-auc:0.828194\teval-auc:0.699073\n",
      "[140]\ttrain-auc:0.830905\teval-auc:0.699715\n",
      "[150]\ttrain-auc:0.833438\teval-auc:0.699399\n",
      "[160]\ttrain-auc:0.836323\teval-auc:0.700008\n",
      "[170]\ttrain-auc:0.837748\teval-auc:0.69994\n",
      "[180]\ttrain-auc:0.839883\teval-auc:0.701972\n",
      "[190]\ttrain-auc:0.842224\teval-auc:0.702325\n",
      "[200]\ttrain-auc:0.844177\teval-auc:0.704581\n",
      "[210]\ttrain-auc:0.845821\teval-auc:0.70463\n",
      "[220]\ttrain-auc:0.847336\teval-auc:0.706142\n",
      "[230]\ttrain-auc:0.84888\teval-auc:0.706884\n",
      "[240]\ttrain-auc:0.850438\teval-auc:0.707344\n",
      "[250]\ttrain-auc:0.852171\teval-auc:0.708942\n",
      "[260]\ttrain-auc:0.853823\teval-auc:0.711482\n",
      "[270]\ttrain-auc:0.855022\teval-auc:0.712782\n",
      "[280]\ttrain-auc:0.856797\teval-auc:0.712624\n",
      "[290]\ttrain-auc:0.858154\teval-auc:0.712456\n",
      "[300]\ttrain-auc:0.859405\teval-auc:0.71342\n",
      "[310]\ttrain-auc:0.860761\teval-auc:0.715534\n",
      "[320]\ttrain-auc:0.862155\teval-auc:0.718123\n",
      "[330]\ttrain-auc:0.863319\teval-auc:0.717417\n",
      "[340]\ttrain-auc:0.864645\teval-auc:0.718097\n",
      "[350]\ttrain-auc:0.866434\teval-auc:0.721642\n",
      "[360]\ttrain-auc:0.867683\teval-auc:0.721195\n",
      "[370]\ttrain-auc:0.869246\teval-auc:0.723558\n",
      "[380]\ttrain-auc:0.870223\teval-auc:0.724701\n",
      "[390]\ttrain-auc:0.871013\teval-auc:0.724625\n",
      "[400]\ttrain-auc:0.872053\teval-auc:0.726557\n",
      "[410]\ttrain-auc:0.873424\teval-auc:0.728017\n",
      "[420]\ttrain-auc:0.874452\teval-auc:0.729893\n",
      "[430]\ttrain-auc:0.875522\teval-auc:0.729028\n",
      "[440]\ttrain-auc:0.876646\teval-auc:0.730135\n",
      "[450]\ttrain-auc:0.877749\teval-auc:0.731513\n",
      "[460]\ttrain-auc:0.878915\teval-auc:0.731652\n",
      "[470]\ttrain-auc:0.879568\teval-auc:0.730496\n",
      "[480]\ttrain-auc:0.880295\teval-auc:0.731665\n",
      "[490]\ttrain-auc:0.881272\teval-auc:0.731849\n"
     ]
    }
   ],
   "source": [
    "model = xgb.train(params, dtr, num_boost_round=500, evals=watchlist,evals_result=history, verbose_eval=10)"
   ]
  },
  {
   "cell_type": "code",
   "execution_count": null,
   "metadata": {
    "collapsed": true
   },
   "outputs": [],
   "source": [
    "model.best_"
   ]
  },
  {
   "cell_type": "code",
   "execution_count": null,
   "metadata": {
    "collapsed": true
   },
   "outputs": [],
   "source": [
    "l"
   ]
  },
  {
   "cell_type": "code",
   "execution_count": 111,
   "metadata": {
    "collapsed": false
   },
   "outputs": [],
   "source": [
    "xgb.plot_importance(model)\n",
    "plt.show()"
   ]
  },
  {
   "cell_type": "code",
   "execution_count": 56,
   "metadata": {
    "collapsed": false
   },
   "outputs": [
    {
     "ename": "AttributeError",
     "evalue": "'Booster' object has no attribute 'feature_importances_'",
     "output_type": "error",
     "traceback": [
      "\u001b[0;31m---------------------------------------------------------------------------\u001b[0m",
      "\u001b[0;31mAttributeError\u001b[0m                            Traceback (most recent call last)",
      "\u001b[0;32m<ipython-input-56-94fa23e45a6b>\u001b[0m in \u001b[0;36m<module>\u001b[0;34m()\u001b[0m\n\u001b[0;32m----> 1\u001b[0;31m \u001b[0mprint\u001b[0m\u001b[0;34m(\u001b[0m\u001b[0mmodel\u001b[0m\u001b[0;34m.\u001b[0m\u001b[0mfeature_importances_\u001b[0m\u001b[0;34m)\u001b[0m\u001b[0;34m\u001b[0m\u001b[0m\n\u001b[0m\u001b[1;32m      2\u001b[0m \u001b[0;31m# plot\u001b[0m\u001b[0;34m\u001b[0m\u001b[0;34m\u001b[0m\u001b[0m\n\u001b[1;32m      3\u001b[0m \u001b[0mpyplot\u001b[0m\u001b[0;34m.\u001b[0m\u001b[0mbar\u001b[0m\u001b[0;34m(\u001b[0m\u001b[0mrange\u001b[0m\u001b[0;34m(\u001b[0m\u001b[0mlen\u001b[0m\u001b[0;34m(\u001b[0m\u001b[0mmodel\u001b[0m\u001b[0;34m.\u001b[0m\u001b[0mfeature_importances_\u001b[0m\u001b[0;34m)\u001b[0m\u001b[0;34m)\u001b[0m\u001b[0;34m,\u001b[0m \u001b[0mmodel\u001b[0m\u001b[0;34m.\u001b[0m\u001b[0mfeature_importances_\u001b[0m\u001b[0;34m)\u001b[0m\u001b[0;34m\u001b[0m\u001b[0m\n\u001b[1;32m      4\u001b[0m \u001b[0mpyplot\u001b[0m\u001b[0;34m.\u001b[0m\u001b[0mshow\u001b[0m\u001b[0;34m(\u001b[0m\u001b[0;34m)\u001b[0m\u001b[0;34m\u001b[0m\u001b[0m\n",
      "\u001b[0;31mAttributeError\u001b[0m: 'Booster' object has no attribute 'feature_importances_'"
     ]
    }
   ],
   "source": [
    "print(model.feature_importances_)\n",
    "# plot\n",
    "pyplot.bar(range(len(model.feature_importances_)), model.feature_importances_)\n",
    "pyplot.show()"
   ]
  },
  {
   "cell_type": "code",
   "execution_count": 68,
   "metadata": {
    "collapsed": false
   },
   "outputs": [
    {
     "data": {
      "text/plain": [
       "{'LocationPrecision_max': 13,\n",
       " 'LocationPrecision_max+min': 19,\n",
       " 'LocationPrecision_max-min': 7,\n",
       " 'LocationPrecision_mean': 28,\n",
       " 'LocationPrecision_median': 9,\n",
       " 'LocationPrecision_min': 23,\n",
       " 'LocationPrecision_q75-q25': 9,\n",
       " 'LocationPrecision_q_25': 16,\n",
       " 'LocationPrecision_q_75': 33,\n",
       " 'LocationPrecision_sem': 20,\n",
       " 'LocationPrecision_std': 35,\n",
       " 'LocationSpeed_max': 62,\n",
       " 'LocationSpeed_max+min': 12,\n",
       " 'LocationSpeed_max-min': 5,\n",
       " 'LocationSpeed_mean': 41,\n",
       " 'LocationSpeed_median': 35,\n",
       " 'LocationSpeed_min': 3,\n",
       " 'LocationSpeed_q75-q25': 7,\n",
       " 'LocationSpeed_q_25': 16,\n",
       " 'LocationSpeed_q_75': 44,\n",
       " 'LocationSpeed_sem': 20,\n",
       " 'LocationSpeed_std': 19,\n",
       " 'dm_entries_per_user': 2,\n",
       " 'dm_signal_std': 15,\n",
       " 'max+min_distance_to_closest_station': 91,\n",
       " 'max_distance_to_closest_station': 79,\n",
       " 'mean_distance_to_station': 45,\n",
       " 'mean_entries_per_user': 20,\n",
       " 'mean_user_signal_std': 41,\n",
       " 'median_distance_to_closest_station': 52,\n",
       " 'median_entries_per_user': 10,\n",
       " 'median_user_signal_std': 21,\n",
       " 'min_distance_to_closest_station': 42,\n",
       " 'netatmo_humidity_percent_mean': 430,\n",
       " 'netatmo_humidity_percent_median': 210,\n",
       " 'netatmo_humidity_percent_std': 119,\n",
       " 'netatmo_pressure_mbar_mean': 216,\n",
       " 'netatmo_pressure_mbar_median': 265,\n",
       " 'netatmo_pressure_mbar_std': 132,\n",
       " 'netatmo_sum_rain_24h_mean': 67,\n",
       " 'netatmo_sum_rain_24h_median': 52,\n",
       " 'netatmo_sum_rain_24h_std': 132,\n",
       " 'netatmo_temperature_c_mean': 280,\n",
       " 'netatmo_temperature_c_median': 314,\n",
       " 'netatmo_temperature_c_std': 140,\n",
       " 'netatmo_wind_gust_speed_kmh_mean': 110,\n",
       " 'netatmo_wind_gust_speed_kmh_median': 17,\n",
       " 'netatmo_wind_gust_speed_kmh_std': 99,\n",
       " 'netatmo_wind_speed_kmh_mean': 86,\n",
       " 'netatmo_wind_speed_kmh_median': 3,\n",
       " 'netatmo_wind_speed_kmh_std': 12,\n",
       " 'num_users': 43,\n",
       " 'signal_dm': 17,\n",
       " 'signal_dmm': 8,\n",
       " 'signal_dmmm': 23,\n",
       " 'signal_max': 19,\n",
       " 'signal_max+min': 24,\n",
       " 'signal_max-min': 16,\n",
       " 'signal_mean': 24,\n",
       " 'signal_median': 13,\n",
       " 'signal_min': 18,\n",
       " 'signal_q75-q25': 28,\n",
       " 'signal_q_25': 17,\n",
       " 'signal_q_75': 10,\n",
       " 'signal_sem': 21,\n",
       " 'signal_std': 31,\n",
       " 'signal_sum': 37,\n",
       " 'square_lat': 120,\n",
       " 'square_lon': 201,\n",
       " 'time_dm': 6,\n",
       " 'time_mean': 69,\n",
       " 'time_median': 11,\n",
       " 'time_of_day': 254,\n",
       " 'time_std': 52}"
      ]
     },
     "execution_count": 68,
     "metadata": {},
     "output_type": "execute_result"
    }
   ],
   "source": [
    "model.get_fscore()"
   ]
  },
  {
   "cell_type": "code",
   "execution_count": 69,
   "metadata": {
    "collapsed": false
   },
   "outputs": [
    {
     "ename": "PandasError",
     "evalue": "DataFrame constructor not properly called!",
     "output_type": "error",
     "traceback": [
      "\u001b[0;31m---------------------------------------------------------------------------\u001b[0m",
      "\u001b[0;31mPandasError\u001b[0m                               Traceback (most recent call last)",
      "\u001b[0;32m<ipython-input-69-0d781bcfd46e>\u001b[0m in \u001b[0;36m<module>\u001b[0;34m()\u001b[0m\n\u001b[0;32m----> 1\u001b[0;31m \u001b[0mpd\u001b[0m\u001b[0;34m.\u001b[0m\u001b[0mDataFrame\u001b[0m\u001b[0;34m(\u001b[0m\u001b[0mmodel\u001b[0m\u001b[0;34m.\u001b[0m\u001b[0mget_fscore\u001b[0m\u001b[0;34m(\u001b[0m\u001b[0;34m)\u001b[0m\u001b[0;34m.\u001b[0m\u001b[0mitems\u001b[0m\u001b[0;34m(\u001b[0m\u001b[0;34m)\u001b[0m\u001b[0;34m,\u001b[0m \u001b[0mcolumns\u001b[0m\u001b[0;34m=\u001b[0m\u001b[0;34m[\u001b[0m\u001b[0;34m'feature'\u001b[0m\u001b[0;34m,\u001b[0m\u001b[0;34m'importance'\u001b[0m\u001b[0;34m]\u001b[0m\u001b[0;34m)\u001b[0m\u001b[0;34m.\u001b[0m\u001b[0msort_values\u001b[0m\u001b[0;34m(\u001b[0m\u001b[0;34m'importance'\u001b[0m\u001b[0;34m,\u001b[0m \u001b[0mascending\u001b[0m\u001b[0;34m=\u001b[0m\u001b[0;32mFalse\u001b[0m\u001b[0;34m)\u001b[0m\u001b[0;34m\u001b[0m\u001b[0m\n\u001b[0m",
      "\u001b[0;32m/home/dz/anaconda3/lib/python3.6/site-packages/pandas/core/frame.py\u001b[0m in \u001b[0;36m__init__\u001b[0;34m(self, data, index, columns, dtype, copy)\u001b[0m\n\u001b[1;32m    343\u001b[0m                                          copy=False)\n\u001b[1;32m    344\u001b[0m             \u001b[0;32melse\u001b[0m\u001b[0;34m:\u001b[0m\u001b[0;34m\u001b[0m\u001b[0m\n\u001b[0;32m--> 345\u001b[0;31m                 \u001b[0;32mraise\u001b[0m \u001b[0mPandasError\u001b[0m\u001b[0;34m(\u001b[0m\u001b[0;34m'DataFrame constructor not properly called!'\u001b[0m\u001b[0;34m)\u001b[0m\u001b[0;34m\u001b[0m\u001b[0m\n\u001b[0m\u001b[1;32m    346\u001b[0m \u001b[0;34m\u001b[0m\u001b[0m\n\u001b[1;32m    347\u001b[0m         \u001b[0mNDFrame\u001b[0m\u001b[0;34m.\u001b[0m\u001b[0m__init__\u001b[0m\u001b[0;34m(\u001b[0m\u001b[0mself\u001b[0m\u001b[0;34m,\u001b[0m \u001b[0mmgr\u001b[0m\u001b[0;34m,\u001b[0m \u001b[0mfastpath\u001b[0m\u001b[0;34m=\u001b[0m\u001b[0;32mTrue\u001b[0m\u001b[0;34m)\u001b[0m\u001b[0;34m\u001b[0m\u001b[0m\n",
      "\u001b[0;31mPandasError\u001b[0m: DataFrame constructor not properly called!"
     ]
    }
   ],
   "source": [
    "pd.DataFrame(model.get_fscore().items(), columns=['feature','importance']).sort_values('importance', ascending=False)"
   ]
  },
  {
   "cell_type": "code",
   "execution_count": 38,
   "metadata": {
    "collapsed": false
   },
   "outputs": [
    {
     "name": "stdout",
     "output_type": "stream",
     "text": [
      "[0]\ttrain-auc:0.688593\teval-auc:0.588477\n",
      "[10]\ttrain-auc:0.74003\teval-auc:0.587787\n",
      "[20]\ttrain-auc:0.748935\teval-auc:0.598691\n",
      "[30]\ttrain-auc:0.755814\teval-auc:0.607096\n",
      "[40]\ttrain-auc:0.758372\teval-auc:0.607187\n",
      "[50]\ttrain-auc:0.762092\teval-auc:0.618856\n",
      "[60]\ttrain-auc:0.765888\teval-auc:0.619292\n",
      "[70]\ttrain-auc:0.770579\teval-auc:0.625995\n",
      "[80]\ttrain-auc:0.773034\teval-auc:0.626868\n",
      "[90]\ttrain-auc:0.777196\teval-auc:0.634508\n",
      "[100]\ttrain-auc:0.779771\teval-auc:0.634719\n",
      "[110]\ttrain-auc:0.783795\teval-auc:0.639688\n",
      "[120]\ttrain-auc:0.787586\teval-auc:0.645544\n",
      "[130]\ttrain-auc:0.790103\teval-auc:0.649224\n",
      "[140]\ttrain-auc:0.79428\teval-auc:0.651258\n",
      "[150]\ttrain-auc:0.796623\teval-auc:0.653725\n",
      "[160]\ttrain-auc:0.799539\teval-auc:0.658166\n",
      "[170]\ttrain-auc:0.801948\teval-auc:0.66109\n",
      "[180]\ttrain-auc:0.804542\teval-auc:0.662395\n",
      "[190]\ttrain-auc:0.806302\teval-auc:0.662169\n",
      "[200]\ttrain-auc:0.808128\teval-auc:0.662695\n",
      "[210]\ttrain-auc:0.811196\teval-auc:0.663035\n",
      "[220]\ttrain-auc:0.813406\teval-auc:0.666606\n",
      "[230]\ttrain-auc:0.815923\teval-auc:0.666235\n",
      "[240]\ttrain-auc:0.818331\teval-auc:0.66577\n",
      "[250]\ttrain-auc:0.820289\teval-auc:0.664852\n",
      "[260]\ttrain-auc:0.822482\teval-auc:0.665448\n",
      "[270]\ttrain-auc:0.824495\teval-auc:0.66763\n",
      "[280]\ttrain-auc:0.82591\teval-auc:0.667157\n",
      "[290]\ttrain-auc:0.827996\teval-auc:0.667951\n",
      "[300]\ttrain-auc:0.829735\teval-auc:0.667526\n",
      "[310]\ttrain-auc:0.831938\teval-auc:0.670143\n",
      "[320]\ttrain-auc:0.833759\teval-auc:0.671034\n",
      "[330]\ttrain-auc:0.83521\teval-auc:0.671102\n",
      "[340]\ttrain-auc:0.836655\teval-auc:0.672267\n",
      "[350]\ttrain-auc:0.837894\teval-auc:0.6717\n",
      "[360]\ttrain-auc:0.839877\teval-auc:0.670339\n",
      "[370]\ttrain-auc:0.841542\teval-auc:0.670832\n",
      "[380]\ttrain-auc:0.84262\teval-auc:0.671241\n",
      "[390]\ttrain-auc:0.843505\teval-auc:0.670627\n",
      "[400]\ttrain-auc:0.845152\teval-auc:0.672544\n",
      "[410]\ttrain-auc:0.846213\teval-auc:0.67157\n",
      "[420]\ttrain-auc:0.847684\teval-auc:0.672089\n",
      "[430]\ttrain-auc:0.849163\teval-auc:0.672564\n",
      "[440]\ttrain-auc:0.850276\teval-auc:0.67209\n",
      "[450]\ttrain-auc:0.852017\teval-auc:0.674523\n",
      "[460]\ttrain-auc:0.853363\teval-auc:0.674326\n",
      "[470]\ttrain-auc:0.854583\teval-auc:0.67629\n",
      "[480]\ttrain-auc:0.85594\teval-auc:0.6767\n",
      "[490]\ttrain-auc:0.85695\teval-auc:0.676056\n"
     ]
    }
   ],
   "source": [
    "model = xgb.train(params, dtr, num_boost_round=500, evals=watchlist,evals_result=history, verbose_eval=10)"
   ]
  },
  {
   "cell_type": "code",
   "execution_count": 32,
   "metadata": {
    "collapsed": false
   },
   "outputs": [
    {
     "name": "stdout",
     "output_type": "stream",
     "text": [
      "[0]\ttrain-auc:0.739152\teval-auc:0.637049\n",
      "[10]\ttrain-auc:0.774755\teval-auc:0.65183\n",
      "[20]\ttrain-auc:0.779083\teval-auc:0.645738\n",
      "[30]\ttrain-auc:0.783729\teval-auc:0.650622\n",
      "[40]\ttrain-auc:0.787999\teval-auc:0.656943\n",
      "[50]\ttrain-auc:0.791767\teval-auc:0.665197\n",
      "[60]\ttrain-auc:0.793851\teval-auc:0.667413\n",
      "[70]\ttrain-auc:0.799188\teval-auc:0.674892\n",
      "[80]\ttrain-auc:0.802983\teval-auc:0.679085\n",
      "[90]\ttrain-auc:0.806337\teval-auc:0.680242\n",
      "[100]\ttrain-auc:0.808359\teval-auc:0.683031\n",
      "[110]\ttrain-auc:0.811373\teval-auc:0.683126\n",
      "[120]\ttrain-auc:0.815862\teval-auc:0.690262\n",
      "[130]\ttrain-auc:0.819705\teval-auc:0.695758\n",
      "[140]\ttrain-auc:0.823459\teval-auc:0.698362\n",
      "[150]\ttrain-auc:0.826121\teval-auc:0.698017\n",
      "[160]\ttrain-auc:0.828091\teval-auc:0.697219\n",
      "[170]\ttrain-auc:0.830312\teval-auc:0.702368\n",
      "[180]\ttrain-auc:0.833444\teval-auc:0.706125\n",
      "[190]\ttrain-auc:0.836199\teval-auc:0.709053\n",
      "[200]\ttrain-auc:0.838973\teval-auc:0.709676\n",
      "[210]\ttrain-auc:0.841083\teval-auc:0.709652\n",
      "[220]\ttrain-auc:0.844253\teval-auc:0.710919\n",
      "[230]\ttrain-auc:0.846408\teval-auc:0.710225\n",
      "[240]\ttrain-auc:0.849263\teval-auc:0.710058\n",
      "[250]\ttrain-auc:0.851934\teval-auc:0.709427\n",
      "[260]\ttrain-auc:0.854468\teval-auc:0.712556\n",
      "[270]\ttrain-auc:0.856568\teval-auc:0.714058\n",
      "[280]\ttrain-auc:0.859632\teval-auc:0.715961\n",
      "[290]\ttrain-auc:0.861677\teval-auc:0.71634\n",
      "[300]\ttrain-auc:0.863272\teval-auc:0.71772\n",
      "[310]\ttrain-auc:0.865055\teval-auc:0.71745\n",
      "[320]\ttrain-auc:0.866157\teval-auc:0.717218\n",
      "[330]\ttrain-auc:0.868527\teval-auc:0.717673\n",
      "[340]\ttrain-auc:0.869795\teval-auc:0.716642\n",
      "[350]\ttrain-auc:0.871647\teval-auc:0.717804\n",
      "[360]\ttrain-auc:0.873263\teval-auc:0.718572\n",
      "[370]\ttrain-auc:0.874711\teval-auc:0.718711\n",
      "[380]\ttrain-auc:0.876743\teval-auc:0.720518\n",
      "[390]\ttrain-auc:0.878444\teval-auc:0.720063\n",
      "[400]\ttrain-auc:0.880278\teval-auc:0.718826\n",
      "[410]\ttrain-auc:0.881512\teval-auc:0.71938\n",
      "[420]\ttrain-auc:0.882916\teval-auc:0.720108\n",
      "[430]\ttrain-auc:0.884282\teval-auc:0.7195\n",
      "[440]\ttrain-auc:0.885521\teval-auc:0.72012\n",
      "[450]\ttrain-auc:0.886769\teval-auc:0.719994\n",
      "[460]\ttrain-auc:0.887938\teval-auc:0.719187\n",
      "[470]\ttrain-auc:0.889096\teval-auc:0.719186\n",
      "[480]\ttrain-auc:0.890027\teval-auc:0.718663\n",
      "[490]\ttrain-auc:0.891149\teval-auc:0.719546\n"
     ]
    }
   ],
   "source": [
    "model = xgb.train(params, dtr, num_boost_round=500, evals=watchlist,evals_result=history, verbose_eval=10)"
   ]
  },
  {
   "cell_type": "code",
   "execution_count": null,
   "metadata": {
    "collapsed": true
   },
   "outputs": [],
   "source": []
  },
  {
   "cell_type": "code",
   "execution_count": null,
   "metadata": {
    "collapsed": true
   },
   "outputs": [],
   "source": []
  },
  {
   "cell_type": "code",
   "execution_count": 6,
   "metadata": {
    "collapsed": false
   },
   "outputs": [
    {
     "data": {
      "text/plain": [
       "array([[0, False],\n",
       "       [1, False],\n",
       "       [2, False],\n",
       "       ..., \n",
       "       [22378, False],\n",
       "       [22379, False],\n",
       "       [22380, False]], dtype=object)"
      ]
     },
     "execution_count": 6,
     "metadata": {},
     "output_type": "execute_result"
    }
   ],
   "source": [
    "y"
   ]
  },
  {
   "cell_type": "code",
   "execution_count": null,
   "metadata": {
    "collapsed": false
   },
   "outputs": [],
   "source": [
    "#if you don't have catboost installed, use !pip install catboost\n",
    "from catboost import CatBoostClassifier\n",
    "\n",
    "model = CatBoostClassifier().fit(X,y)"
   ]
  },
  {
   "cell_type": "markdown",
   "metadata": {},
   "source": [
    "### Analyzing results\n",
    "\n",
    "Here you can see importances of all individual features, ranked from worst to best.\n",
    "\n"
   ]
  },
  {
   "cell_type": "code",
   "execution_count": null,
   "metadata": {
    "collapsed": false
   },
   "outputs": [],
   "source": [
    "from sklearn.metrics import roc_auc_score,roc_curve\n",
    "import matplotlib.pyplot as plt\n",
    "%matplotlib inline\n",
    "\n",
    "y_train_pred = model.predict_proba(X_train)[:,1]\n",
    "print(\"Train ROC AUC:\",roc_auc_score(y_train,y_train_pred))\n",
    "\n",
    "fpr,tpr,_ = roc_curve(y_train, y_train_pred)\n",
    "plt.plot(fpr,tpr,label='train AUC')\n",
    "\n",
    "y_val_pred = model.predict_proba(X_val)[:,1]\n",
    "print(\"Val ROC AUC:\",roc_auc_score(y_val,y_val_pred))\n",
    "\n",
    "fpr,tpr,_ = roc_curve(y_val, y_val_pred)\n",
    "plt.plot(fpr,tpr,label='validation AUC')\n",
    "\n",
    "plt.plot([0,1],[0,1])\n",
    "plt.legend(loc='lower right')"
   ]
  },
  {
   "cell_type": "code",
   "execution_count": null,
   "metadata": {
    "collapsed": false
   },
   "outputs": [],
   "source": [
    "order = np.argsort(model._feature_importance)\n",
    "plt.figure(figsize=[6,9])\n",
    "plt.plot(np.array(model._feature_importance)[order],range(len(order)),marker='o')\n",
    "plt.hlines(range(len(order)),np.zeros_like(order),np.array(model._feature_importance)[order],linestyles=':')\n",
    "plt.yticks(range(X.shape[1]),X.columns[order]);\n",
    "plt.tick_params(labelsize=16)\n",
    "plt.xlim([0.1,max(model._feature_importance)*1.5])\n",
    "plt.ylim(-1,len(order))\n",
    "plt.xscale('log')"
   ]
  },
  {
   "cell_type": "markdown",
   "metadata": {
    "collapsed": true
   },
   "source": [
    "## Final model and uploading the results\n",
    "\n",
    "\n",
    "Competition data contains three cities: Moscow, Saint-Petersburg and Kazan. To submit a prediction, you'll have to run this baseline three times separately for each city and concatenate the results. \n",
    "\n",
    "The code assumes that you ran this solution for each city (see comments below)."
   ]
  },
  {
   "cell_type": "code",
   "execution_count": null,
   "metadata": {
    "collapsed": true
   },
   "outputs": [],
   "source": [
    "#Train the model on full data. Copy model definition here.\n",
    "\n",
    "model = CatBoostClassifier().fit(X,y)"
   ]
  },
  {
   "cell_type": "code",
   "execution_count": null,
   "metadata": {
    "collapsed": true
   },
   "outputs": [],
   "source": [
    "\n",
    "test = pd.read_csv(TEST_PATH, sep='\\t',dtype=json.load(open(\"./data/test_col_dtypes.json\")),)\n",
    "test_groupby = test.groupby([\"city_code\",\"sq_x\",\"sq_y\",\"hour_hash\"])\n",
    "test_netatmo_groups,test_netatmo_anns = preprocess_netatmo(pd.read_csv(TEST_NETATMO_PATH,na_values=\"None\",\n",
    "                                                                       sep='\\t',dtype={'hour_hash':\"uint64\"}))\n"
   ]
  },
  {
   "cell_type": "code",
   "execution_count": null,
   "metadata": {
    "collapsed": false
   },
   "outputs": [],
   "source": [
    "X_test,test_block_ids = [],[]\n",
    "for block_id in tqdm(test_groupby.groups):\n",
    "    group = test_groupby.get_group(block_id)\n",
    "    X_test.append(extract_features(group,test_netatmo_groups,test_netatmo_anns))\n",
    "    test_block_ids.append(block_id)\n",
    "    \n",
    "X_test = pd.DataFrame(X_test)\n",
    "test_block_ids = pd.DataFrame(test_block_ids,columns=[\"city_code\",\"sq_x\",\"sq_y\",\"hour_hash\"])"
   ]
  },
  {
   "cell_type": "code",
   "execution_count": null,
   "metadata": {
    "collapsed": false
   },
   "outputs": [],
   "source": [
    "#This code saves the prediction for one city.\n",
    "prediction_for_one_city = test_block_ids.copy()\n",
    "prediction_for_one_city[\"prediction\"] = model.predict_proba(X_test)[:,1]\n",
    "prediction_for_one_city.to_csv(CITY_PREDICTIONS_PATH)\n",
    "\n",
    "prediction_for_one_city.head()\n",
    "\n",
    "#WARNING! you must run this notebook for all three regions before proceeding!\n",
    "#We assume that you have prediction_msk.csv , prediction_spb.csv and prediction_kazan.csv files prepared."
   ]
  },
  {
   "cell_type": "code",
   "execution_count": null,
   "metadata": {
    "collapsed": true
   },
   "outputs": [],
   "source": [
    "data = X.copy()\n",
    "data[\"target\"] = y\n",
    "data.to_csv(\"intermediate_data/spb.csv\")\n",
    "X_test.to_csv(\"intermediate_data/spb_test.csv\")"
   ]
  },
  {
   "cell_type": "markdown",
   "metadata": {},
   "source": [
    "Gather all predictions and make submission file."
   ]
  },
  {
   "cell_type": "code",
   "execution_count": null,
   "metadata": {
    "collapsed": false
   },
   "outputs": [],
   "source": [
    "import pandas as pd\n",
    "\n",
    "predictions = pd.concat(\n",
    "    [pd.read_csv(fname,index_col=0) for fname in (\"./intermediate_data/prediction_kazan.csv\",\n",
    "                                                  \"./intermediate_data/prediction_spb.csv\",\n",
    "                                                  \"./intermediate_data/prediction_msk.csv\")],\n",
    "    ignore_index=True\n",
    ")\n",
    "blocks = pd.read_csv(\"./data/hackathon_tosubmit.tsv\",sep='\\t')\n",
    "assert len(predictions) == len(blocks),\"Predictions don't match blocks. Sumbit at your own risk.\"\n",
    "\n",
    "merged = pd.merge(blocks,predictions,how='left',on=[\"sq_x\",\"sq_y\",\"hour_hash\"])\n",
    "assert not np.isnan(merged.prediction).any(), \"some predictions are missing. Sumbit at your own risk.\"\n"
   ]
  },
  {
   "cell_type": "code",
   "execution_count": null,
   "metadata": {
    "collapsed": false
   },
   "outputs": [],
   "source": [
    "merged[['id','prediction']].to_csv(\"baseline_submission.csv\",sep=',',index=False,header=False)"
   ]
  },
  {
   "cell_type": "markdown",
   "metadata": {},
   "source": [
    "You can now upload baseline_submission.csv to the competition interface."
   ]
  },
  {
   "cell_type": "code",
   "execution_count": null,
   "metadata": {
    "collapsed": false
   },
   "outputs": [],
   "source": [
    "!head baseline_submission.csv"
   ]
  },
  {
   "cell_type": "markdown",
   "metadata": {},
   "source": [
    "### Known unknowns <a id='known_unknowns'>\n",
    "\n",
    "Here's a few ideas to improve your solution:\n",
    "* Right now we only consider users in the same square where we're going to make prediction.\n",
    " * It may be useful to consider neighboring squares in square id and/or time\n",
    " * It may be useful to use global city-wide estimate (like \"There's currently no rain in Moscow\")\n",
    " * Same is true for netatmo stations\n",
    "* There's a lot of underexplored features\n",
    " * Netatmo stations' features\n",
    " * User behavior on device level, e.g. \"phone signal worse than usual\"\n",
    " * Latitude/longitude are fed to model in \n",
    " * Relations between several  kinds of features (e.g. signal over distance to cell)\n",
    " * Relations over location/time, e.g. \"less users than usual\"\n",
    "* Data splits\n",
    " * Test set rains may be more/less frequent than on the training set\n",
    " * There also may be some difference in user activity\n",
    " * There's definitely a difference in distribution of users and stations in different cities\n",
    " * We only train model on one fixed region. Try using several regions at once to get more training data.\n"
   ]
  },
  {
   "cell_type": "markdown",
   "metadata": {},
   "source": [
    "\n",
    " ```\n",
    " \n",
    " ```\n",
    "\n",
    "![img](https://images-na.ssl-images-amazon.com/images/I/31la29lBQxL.jpg)\n",
    "\n",
    "\n",
    " ```\n",
    " \n",
    " ```\n"
   ]
  }
 ],
 "metadata": {
  "kernelspec": {
   "display_name": "Python 3",
   "language": "python",
   "name": "python3"
  },
  "language_info": {
   "codemirror_mode": {
    "name": "ipython",
    "version": 3
   },
   "file_extension": ".py",
   "mimetype": "text/x-python",
   "name": "python",
   "nbconvert_exporter": "python",
   "pygments_lexer": "ipython3",
   "version": "3.6.0"
  }
 },
 "nbformat": 4,
 "nbformat_minor": 2
}
