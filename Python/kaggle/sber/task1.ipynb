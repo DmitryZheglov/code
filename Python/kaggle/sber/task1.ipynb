{
 "cells": [
  {
   "cell_type": "code",
   "execution_count": null,
   "metadata": {
    "collapsed": false
   },
   "outputs": [],
   "source": [
    "import pandas as pd\n",
    "import numpy as np\n",
    "from rep.utils import train_test_split_group\n",
    "import xgboost as xgb\n",
    "from sklearn.cross_validation import train_test_split\n",
    "from scipy.stats import kurtosis,skew, mode\n",
    "import matplotlib.pyplot as plt\n",
    "plt.style.use('ggplot')\n",
    "%matplotlib"
   ]
  },
  {
   "cell_type": "markdown",
   "metadata": {},
   "source": [
    "# FUNCTIONS"
   ]
  },
  {
   "cell_type": "code",
   "execution_count": null,
   "metadata": {
    "collapsed": true
   },
   "outputs": [],
   "source": [
    "def d(x):\n",
    "    return x[:-9]\n",
    "def dtw(x):\n",
    "    return x%7\n",
    "def get_month(x):\n",
    "    if 152<x<184:\n",
    "        return 1\n",
    "    elif 183<x<212:\n",
    "        return 2\n",
    "    elif  211<x<243:\n",
    "        return 3\n",
    "    elif  242<x<273:\n",
    "        return 4\n",
    "    elif 272<x<304:\n",
    "        return 5\n",
    "    elif 303<x<334:\n",
    "        return 6\n",
    "    elif 333<x<365:\n",
    "        return 7\n",
    "    elif (364<x<396)or(0<=x<31):\n",
    "        return 8\n",
    "    elif (395<x<426)or(30<x<61):\n",
    "        return 9\n",
    "    elif (425<x<457)or(60<x<92):\n",
    "        return 10\n",
    "    elif (91<x<122):\n",
    "        return 11\n",
    "    elif 121<x<153:\n",
    "        return 12\n",
    "    else:\n",
    "        return 0\n",
    "def get_day(x):\n",
    "    if 152<x<184:\n",
    "        return x-152\n",
    "    elif 183<x<212:\n",
    "        return x-183\n",
    "    elif  211<x<243:\n",
    "        return x-211\n",
    "    elif  242<x<273:\n",
    "        return x-242\n",
    "    elif 272<x<304:\n",
    "        return x-272\n",
    "    elif 303<x<334:\n",
    "        return x-303\n",
    "    elif 333<x<365:\n",
    "        return x-333\n",
    "    elif (364<x<396):\n",
    "        return x-364\n",
    "    elif(0<=x<31):\n",
    "        return x+1\n",
    "    elif (395<x<426):\n",
    "        return x-395\n",
    "    elif(30<x<61):\n",
    "        return x-30\n",
    "    elif (425<x<457):\n",
    "        return x-425\n",
    "    elif(60<x<92):\n",
    "        return x-60\n",
    "    elif 121<x<153:\n",
    "        return x-121\n",
    "    else:\n",
    "        return 0\n",
    "def time(x):\n",
    "    return x[-8:]\n",
    "def am_m(x):\n",
    "    if(x<0):\n",
    "        return x\n",
    "    else:\n",
    "        return 0\n",
    "def am_p(x):\n",
    "    if(x>0):\n",
    "        return x\n",
    "    else:\n",
    "        return 0\n",
    "def am_m_min(x):\n",
    "    if(x<0):\n",
    "        return x\n",
    "    else:\n",
    "        return -145984526\n",
    "def am_p_min(x):\n",
    "    if(x>0):\n",
    "        return x\n",
    "    else:\n",
    "        return 145984526\n",
    "\n",
    "def count_0(x):\n",
    "    if x>0:\n",
    "        return 1\n",
    "    else:\n",
    "        return 0\n",
    "def divide(a, b):\n",
    "    if b>0:\n",
    "        return a/b\n",
    "    else:\n",
    "        return a"
   ]
  },
  {
   "cell_type": "code",
   "execution_count": null,
   "metadata": {
    "collapsed": false
   },
   "outputs": [],
   "source": [
    "trans = pd.read_csv(\"data/transactions.csv\")"
   ]
  },
  {
   "cell_type": "code",
   "execution_count": null,
   "metadata": {
    "collapsed": true
   },
   "outputs": [],
   "source": [
    "trans['amount'] = trans['amount']*(np.e/680)"
   ]
  },
  {
   "cell_type": "code",
   "execution_count": null,
   "metadata": {
    "collapsed": false
   },
   "outputs": [],
   "source": [
    "trans['day'] = trans['tr_datetime'].apply(d)"
   ]
  },
  {
   "cell_type": "code",
   "execution_count": null,
   "metadata": {
    "collapsed": true
   },
   "outputs": [],
   "source": [
    "trans['day'] = trans['day'].apply(int)"
   ]
  },
  {
   "cell_type": "code",
   "execution_count": null,
   "metadata": {
    "collapsed": false
   },
   "outputs": [],
   "source": [
    "trans['week'] = trans['day'].apply(dtw)"
   ]
  },
  {
   "cell_type": "code",
   "execution_count": null,
   "metadata": {
    "collapsed": false
   },
   "outputs": [],
   "source": [
    "trans['month'] = trans['day'].apply(get_month)"
   ]
  },
  {
   "cell_type": "code",
   "execution_count": null,
   "metadata": {
    "collapsed": true
   },
   "outputs": [],
   "source": [
    "trans['days'] = trans['day'].apply(get_day)"
   ]
  },
  {
   "cell_type": "code",
   "execution_count": null,
   "metadata": {
    "collapsed": true
   },
   "outputs": [],
   "source": [
    "trans['datetime'] = trans['tr_datetime'].apply(time)"
   ]
  },
  {
   "cell_type": "code",
   "execution_count": null,
   "metadata": {
    "collapsed": false
   },
   "outputs": [],
   "source": [
    "trans.drop('tr_datetime',axis=1,inplace=True)"
   ]
  },
  {
   "cell_type": "code",
   "execution_count": null,
   "metadata": {
    "collapsed": false
   },
   "outputs": [],
   "source": [
    "trans['count_size'] = trans['customer_id'].groupby(trans['customer_id']).transform('size')\n"
   ]
  },
  {
   "cell_type": "code",
   "execution_count": null,
   "metadata": {
    "collapsed": false
   },
   "outputs": [],
   "source": [
    "trans['hour'] = trans['datetime'].apply(lambda x: int(x.split(':')[0]))\n",
    "trans['minute'] = trans['datetime'].apply(lambda x: int(x.split(':')[1]))\n",
    "#trans['second'] = trans['datetime'].apply(lambda x: int(x.split(':')[2]))"
   ]
  },
  {
   "cell_type": "code",
   "execution_count": null,
   "metadata": {
    "collapsed": false
   },
   "outputs": [],
   "source": [
    "trans.drop('datetime',axis=1,inplace=True)"
   ]
  },
  {
   "cell_type": "code",
   "execution_count": null,
   "metadata": {
    "collapsed": true
   },
   "outputs": [],
   "source": [
    "trans['sec'] = 60*60*trans['hour']+60*trans['minute']"
   ]
  },
  {
   "cell_type": "code",
   "execution_count": null,
   "metadata": {
    "collapsed": false
   },
   "outputs": [],
   "source": [
    "trans['secd'] = 24*60*60*trans['days']+60*60*trans['hour']+60*trans['minute']"
   ]
  },
  {
   "cell_type": "code",
   "execution_count": null,
   "metadata": {
    "collapsed": true
   },
   "outputs": [],
   "source": [
    "trans['amount_minus'] = -trans['amount'].apply(am_m)\n",
    "trans['amount_plus'] = trans['amount'].apply(am_p)"
   ]
  },
  {
   "cell_type": "code",
   "execution_count": null,
   "metadata": {
    "collapsed": false
   },
   "outputs": [],
   "source": [
    "transmed = pd.read_csv(\"data/mcc_full.csv\")"
   ]
  },
  {
   "cell_type": "markdown",
   "metadata": {},
   "source": [
    "# optimization memory"
   ]
  },
  {
   "cell_type": "code",
   "execution_count": null,
   "metadata": {
    "collapsed": false
   },
   "outputs": [],
   "source": [
    "trans.info()"
   ]
  },
  {
   "cell_type": "code",
   "execution_count": null,
   "metadata": {
    "collapsed": false
   },
   "outputs": [],
   "source": [
    "for col in trans.columns:\n",
    "    if col!='term_id':\n",
    "        trans[col] = trans[col].astype(np.int32)"
   ]
  },
  {
   "cell_type": "code",
   "execution_count": null,
   "metadata": {
    "collapsed": false
   },
   "outputs": [],
   "source": [
    "trans.head()"
   ]
  },
  {
   "cell_type": "code",
   "execution_count": null,
   "metadata": {
    "collapsed": false
   },
   "outputs": [],
   "source": [
    "trans.drop(['term_id'],axis=1,inplace=True)"
   ]
  },
  {
   "cell_type": "markdown",
   "metadata": {},
   "source": [
    "# Corr"
   ]
  },
  {
   "cell_type": "code",
   "execution_count": null,
   "metadata": {
    "collapsed": true
   },
   "outputs": [],
   "source": [
    "fig, ax = plt.subplots(figsize=(9, 9))\n",
    "ax.matshow(trans.corr(), vmin=-1, vmax=1)\n",
    "plt.yticks(range(trans.shape[1]), trans.columns)\n",
    "plt.xticks(range(trans.shape[1]), trans.columns, rotation=45, ha=\"left\" )\n",
    "plt.show()"
   ]
  },
  {
   "cell_type": "code",
   "execution_count": null,
   "metadata": {
    "collapsed": true
   },
   "outputs": [],
   "source": [
    "import time"
   ]
  },
  {
   "cell_type": "markdown",
   "metadata": {},
   "source": [
    "# NEW FEATURES"
   ]
  },
  {
   "cell_type": "code",
   "execution_count": null,
   "metadata": {
    "collapsed": false
   },
   "outputs": [],
   "source": [
    "len(trans.days.unique())"
   ]
  },
  {
   "cell_type": "code",
   "execution_count": null,
   "metadata": {
    "collapsed": false
   },
   "outputs": [],
   "source": [
    "trans.head()"
   ]
  },
  {
   "cell_type": "markdown",
   "metadata": {},
   "source": [
    "# MONTH DAY"
   ]
  },
  {
   "cell_type": "code",
   "execution_count": null,
   "metadata": {
    "collapsed": true
   },
   "outputs": [],
   "source": [
    "trans['sum_am_m_month']=trans.groupby(['customer_id','month'])['amount_minus'].transform('sum') \n",
    "trans['sum_am_p_month']=trans.groupby(['customer_id','month'])['amount_plus'].transform('sum')\n",
    "trans['med_am_m_month']=trans.groupby(['customer_id','month'])['amount_minus'].transform('median') \n",
    "trans['med_am_p_month']=trans.groupby(['customer_id','month'])['amount_plus'].transform('median')\n",
    "trans['mean_am_m_month']=trans.groupby(['customer_id','month'])['amount_minus'].transform('mean') \n",
    "trans['mean_am_p_month']=trans.groupby(['customer_id','month'])['amount_plus'].transform('mean')\n",
    "trans['count_am_m_month'] = trans['amount_minus'].apply(count_0)\n",
    "trans['count_am_p_month'] = trans['amount_plus'].apply(count_0)\n",
    "trans['count_am_m_month']=trans.groupby(['customer_id','month'])['count_am_m_month'].transform('sum') \n",
    "trans['count_am_p_month']=trans.groupby(['customer_id','month'])['count_am_p_month'].transform('sum') "
   ]
  },
  {
   "cell_type": "code",
   "execution_count": null,
   "metadata": {
    "collapsed": true
   },
   "outputs": [],
   "source": [
    "for i in trans.week.unique():\n",
    "    def dump(x):\n",
    "        if x==i:\n",
    "            return 1\n",
    "        else:\n",
    "            return 0\n",
    "    %time trans['month_{}'.format(i)] = trans['month'].apply(dump).astype(np.int32)\n",
    "    %time trans['month_{}_m_sum'.format(i)] = trans['month_{}'.format(i)]*trans['sum_am_m_month'].astype(np.int32)\n",
    "    %time trans['month_{}_p_sum'.format(i)] = trans['month_{}'.format(i)]*trans['sum_am_p_month'].astype(np.int32)\n",
    "    %time trans['month_{}_m_med'.format(i)] = trans['month_{}'.format(i)]*trans['med_am_m_month'].astype(np.int32)\n",
    "    %time trans['month_{}_p_med'.format(i)] = trans['month_{}'.format(i)]*trans['med_am_p_month'].astype(np.int32)\n",
    "    %time trans['month_{}_m_mean'.format(i)] = trans['month_{}'.format(i)]*trans['mean_am_m_month'].astype(np.int32)\n",
    "    %time trans['month_{}_p_mean'.format(i)] = trans['month_{}'.format(i)]*trans['mean_am_p_month'].astype(np.int32)\n",
    "    %time trans['month_{}_m_count'.format(i)] = trans['month_{}'.format(i)]*trans['count_am_m_month'].astype(np.int32)\n",
    "    %time trans['month_{}_p_count'.format(i)] = trans['month_{}'.format(i)]*trans['count_am_p_month'].astype(np.int32)\n",
    "    trans['month_{}_m_sum'.format(i)]=trans.groupby(['customer_id'])['month_{}_m_sum'.format(i)].transform('max') \n",
    "    trans['month_{}_p_sum'.format(i)]=trans.groupby(['customer_id'])['month_{}_p_sum'.format(i)].transform('max')\n",
    "    trans['month_{}_m_med'.format(i)]=trans.groupby(['customer_id'])['month_{}_m_med'.format(i)].transform('max') \n",
    "    trans['month_{}_p_med'.format(i)]=trans.groupby(['customer_id'])['month_{}_p_med'.format(i)].transform('max')\n",
    "    trans['month_{}_m_mean'.format(i)]=trans.groupby(['customer_id'])['month_{}_m_mean'.format(i)].transform('max') \n",
    "    trans['month_{}_p_mean'.format(i)]=trans.groupby(['customer_id'])['month_{}_p_mean'.format(i)].transform('max')\n",
    "    trans['month_{}_m_count'.format(i)]=trans.groupby(['customer_id'])['month_{}_m_count'.format(i)].transform('max') \n",
    "    trans['month_{}_p_count'.format(i)]=trans.groupby(['customer_id'])['month_{}_p_count'.format(i)].transform('max')\n",
    "    trans.drop(['month_{}'.format(i)],axis=1,inplace=True)"
   ]
  },
  {
   "cell_type": "code",
   "execution_count": null,
   "metadata": {
    "collapsed": true
   },
   "outputs": [],
   "source": [
    "transmed=trans.groupby('customer_id', as_index=False).median()\n",
    "transmed.to_csv(\"data/month_day_full.csv\",index=False)"
   ]
  },
  {
   "cell_type": "code",
   "execution_count": null,
   "metadata": {
    "collapsed": true
   },
   "outputs": [],
   "source": []
  },
  {
   "cell_type": "code",
   "execution_count": null,
   "metadata": {
    "collapsed": true
   },
   "outputs": [],
   "source": []
  },
  {
   "cell_type": "code",
   "execution_count": null,
   "metadata": {
    "collapsed": true
   },
   "outputs": [],
   "source": []
  },
  {
   "cell_type": "code",
   "execution_count": null,
   "metadata": {
    "collapsed": true
   },
   "outputs": [],
   "source": []
  },
  {
   "cell_type": "code",
   "execution_count": null,
   "metadata": {
    "collapsed": true
   },
   "outputs": [],
   "source": []
  },
  {
   "cell_type": "markdown",
   "metadata": {},
   "source": [
    "# week mean sum median count"
   ]
  },
  {
   "cell_type": "code",
   "execution_count": null,
   "metadata": {
    "collapsed": true
   },
   "outputs": [],
   "source": [
    "trans['sum_am_m_week']=trans.groupby(['customer_id','week'])['amount_minus'].transform('sum') \n",
    "trans['sum_am_p_week']=trans.groupby(['customer_id','week'])['amount_plus'].transform('sum')\n",
    "trans['med_am_m_week']=trans.groupby(['customer_id','week'])['amount_minus'].transform('median') \n",
    "trans['med_am_p_week']=trans.groupby(['customer_id','week'])['amount_plus'].transform('median')\n",
    "trans['mean_am_m_week']=trans.groupby(['customer_id','week'])['amount_minus'].transform('mean') \n",
    "trans['mean_am_p_week']=trans.groupby(['customer_id','week'])['amount_plus'].transform('mean')\n",
    "trans['count_am_m_week'] = trans['amount_minus'].apply(count_0)\n",
    "trans['count_am_p_week'] = trans['amount_plus'].apply(count_0)\n",
    "trans['count_am_m_week']=trans.groupby(['customer_id','week'])['count_am_m_week'].transform('sum') \n",
    "trans['count_am_p_week']=trans.groupby(['customer_id','week'])['count_am_p_week'].transform('sum') "
   ]
  },
  {
   "cell_type": "code",
   "execution_count": null,
   "metadata": {
    "collapsed": false
   },
   "outputs": [],
   "source": [
    "for i in trans.week.unique():\n",
    "    def dump(x):\n",
    "        if x==i:\n",
    "            return 1\n",
    "        else:\n",
    "            return 0\n",
    "    %time trans['week_{}'.format(i)] = trans['week'].apply(dump).astype(np.int32)\n",
    "    %time trans['week_{}_m_sum'.format(i)] = trans['week_{}'.format(i)]*trans['sum_am_m_week'].astype(np.int32)\n",
    "    %time trans['week_{}_p_sum'.format(i)] = trans['week_{}'.format(i)]*trans['sum_am_p_week'].astype(np.int32)\n",
    "    %time trans['week_{}_m_med'.format(i)] = trans['week_{}'.format(i)]*trans['med_am_m_week'].astype(np.int32)\n",
    "    %time trans['week_{}_p_med'.format(i)] = trans['week_{}'.format(i)]*trans['med_am_p_week'].astype(np.int32)\n",
    "    %time trans['week_{}_m_mean'.format(i)] = trans['week_{}'.format(i)]*trans['mean_am_m_week'].astype(np.int32)\n",
    "    %time trans['week_{}_p_mean'.format(i)] = trans['week_{}'.format(i)]*trans['mean_am_p_week'].astype(np.int32)\n",
    "    %time trans['week_{}_m_count'.format(i)] = trans['week_{}'.format(i)]*trans['count_am_m_week'].astype(np.int32)\n",
    "    %time trans['week_{}_p_count'.format(i)] = trans['week_{}'.format(i)]*trans['count_am_p_week'].astype(np.int32)\n",
    "    trans['week_{}_m_sum'.format(i)]=trans.groupby(['customer_id'])['week_{}_m_sum'.format(i)].transform('max') \n",
    "    trans['week_{}_p_sum'.format(i)]=trans.groupby(['customer_id'])['week_{}_p_sum'.format(i)].transform('max')\n",
    "    trans['week_{}_m_med'.format(i)]=trans.groupby(['customer_id'])['week_{}_m_med'.format(i)].transform('max') \n",
    "    trans['week_{}_p_med'.format(i)]=trans.groupby(['customer_id'])['week_{}_p_med'.format(i)].transform('max')\n",
    "    trans['week_{}_m_mean'.format(i)]=trans.groupby(['customer_id'])['week_{}_m_mean'.format(i)].transform('max') \n",
    "    trans['week_{}_p_mean'.format(i)]=trans.groupby(['customer_id'])['week_{}_p_mean'.format(i)].transform('max')\n",
    "    trans['week_{}_m_count'.format(i)]=trans.groupby(['customer_id'])['week_{}_m_count'.format(i)].transform('max') \n",
    "    trans['week_{}_p_count'.format(i)]=trans.groupby(['customer_id'])['week_{}_p_count'.format(i)].transform('max')\n",
    "    trans.drop(['week_{}'.format(i)],axis=1,inplace=True)"
   ]
  },
  {
   "cell_type": "code",
   "execution_count": null,
   "metadata": {
    "collapsed": true
   },
   "outputs": [],
   "source": []
  },
  {
   "cell_type": "code",
   "execution_count": null,
   "metadata": {
    "collapsed": false
   },
   "outputs": [],
   "source": [
    "trans.describe()"
   ]
  },
  {
   "cell_type": "markdown",
   "metadata": {},
   "source": [
    "# mcc code"
   ]
  },
  {
   "cell_type": "code",
   "execution_count": null,
   "metadata": {
    "collapsed": false
   },
   "outputs": [],
   "source": [
    "(trans.mcc_code.value_counts().cumsum()/len(trans))[0:2]"
   ]
  },
  {
   "cell_type": "code",
   "execution_count": null,
   "metadata": {
    "collapsed": false
   },
   "outputs": [],
   "source": [
    "len(trans.mcc_code.unique())"
   ]
  },
  {
   "cell_type": "code",
   "execution_count": null,
   "metadata": {
    "collapsed": true
   },
   "outputs": [],
   "source": [
    "trans['sum_am_m_mcc_code']=trans.groupby(['customer_id','mcc_code'])['amount_minus'].transform('sum') \n",
    "trans['sum_am_p_mcc_code']=trans.groupby(['customer_id','mcc_code'])['amount_plus'].transform('sum')\n"
   ]
  },
  {
   "cell_type": "code",
   "execution_count": null,
   "metadata": {
    "collapsed": false,
    "scrolled": true
   },
   "outputs": [],
   "source": [
    "s=0\n",
    "for i in trans.mcc_code.unique()[0:90]:\n",
    "    print('NEXT')\n",
    "    print(s)\n",
    "    def dump(x):\n",
    "        if x==i:\n",
    "            return 1\n",
    "        else:\n",
    "            return 0\n",
    "    %time trans['mcc_code_{}'.format(i)] = trans['mcc_code'].apply(dump).astype(np.int32)\n",
    "    %time trans['mcc_code_{}_m_sum'.format(i)] = trans['mcc_code_{}'.format(i)]*trans['sum_am_m_mcc_code'].astype(np.int32)\n",
    "    %time trans['mcc_code_{}_p_sum'.format(i)] = trans['mcc_code_{}'.format(i)]*trans['sum_am_p_mcc_code'].astype(np.int32)\n",
    "    %time trans['mcc_code_{}_m_sum'.format(i)]=trans.groupby(['customer_id'])['mcc_code_{}_m_sum'.format(i)].transform('max').astype(np.int32) \n",
    "    %time trans['mcc_code_{}_p_sum'.format(i)]=trans.groupby(['customer_id'])['mcc_code_{}_p_sum'.format(i)].transform('max').astype(np.int32)\n",
    "    %time trans.drop(['mcc_code_{}'.format(i)],axis=1,inplace=True)\n",
    "    s=s+1"
   ]
  },
  {
   "cell_type": "code",
   "execution_count": null,
   "metadata": {
    "collapsed": false
   },
   "outputs": [],
   "source": [
    "max(trans.mcc_code_7699_p_sum)"
   ]
  },
  {
   "cell_type": "markdown",
   "metadata": {},
   "source": [
    "# "
   ]
  },
  {
   "cell_type": "code",
   "execution_count": null,
   "metadata": {
    "collapsed": true
   },
   "outputs": [],
   "source": []
  },
  {
   "cell_type": "code",
   "execution_count": null,
   "metadata": {
    "collapsed": true
   },
   "outputs": [],
   "source": []
  },
  {
   "cell_type": "code",
   "execution_count": null,
   "metadata": {
    "collapsed": true
   },
   "outputs": [],
   "source": []
  },
  {
   "cell_type": "code",
   "execution_count": null,
   "metadata": {
    "collapsed": true
   },
   "outputs": [],
   "source": [
    "trans['sum_am_m_day']=trans.groupby(['customer_id','day'])['amount_minus'].transform('sum') \n",
    "trans['sum_am_p_day']=trans.groupby(['customer_id','day'])['amount_plus'].transform('sum')"
   ]
  },
  {
   "cell_type": "code",
   "execution_count": null,
   "metadata": {
    "collapsed": true
   },
   "outputs": [],
   "source": [
    "trans['sum_am_m_day']=trans.groupby(['customer_id','day'])['amount_minus'].transform('sum') \n",
    "trans['sum_am_p_day']=trans.groupby(['customer_id','day'])['amount_plus'].transform('sum')"
   ]
  },
  {
   "cell_type": "code",
   "execution_count": null,
   "metadata": {
    "collapsed": true
   },
   "outputs": [],
   "source": [
    "trans['sum_am_m_days']=trans.groupby(['customer_id','days'])['amount_minus'].transform('sum') \n",
    "trans['sum_am_p_days']=trans.groupby(['customer_id','days'])['amount_plus'].transform('sum')"
   ]
  },
  {
   "cell_type": "code",
   "execution_count": null,
   "metadata": {
    "collapsed": false
   },
   "outputs": [],
   "source": [
    "trans['sum_am_m_week']=trans.groupby(['customer_id','day'])['amount_minus'].transform(mode)"
   ]
  },
  {
   "cell_type": "markdown",
   "metadata": {
    "collapsed": true
   },
   "source": [
    "# featch_stack_one"
   ]
  },
  {
   "cell_type": "code",
   "execution_count": null,
   "metadata": {
    "collapsed": false
   },
   "outputs": [],
   "source": [
    "trans['sum_am_m']=trans.groupby(['customer_id'])['amount_minus'].transform('sum') \n",
    "trans['sum_am_p']=trans.groupby(['customer_id'])['amount_plus'].transform('sum')"
   ]
  },
  {
   "cell_type": "code",
   "execution_count": null,
   "metadata": {
    "collapsed": true
   },
   "outputs": [],
   "source": [
    "trans['mean_am_m']=trans.groupby(['customer_id'])['amount_minus'].transform('mean') \n",
    "trans['mean_am_p']=trans.groupby(['customer_id'])['amount_plus'].transform('mean')"
   ]
  },
  {
   "cell_type": "code",
   "execution_count": null,
   "metadata": {
    "collapsed": false
   },
   "outputs": [],
   "source": [
    "trans['med_am_m']=trans.groupby(['customer_id'])['amount_minus'].transform('median') \n",
    "trans['med_am_p']=trans.groupby(['customer_id'])['amount_plus'].transform('median')"
   ]
  },
  {
   "cell_type": "code",
   "execution_count": null,
   "metadata": {
    "collapsed": true
   },
   "outputs": [],
   "source": [
    "trans['first_am_m']=trans.groupby(['customer_id'])['amount_minus'].transform('first') \n",
    "trans['first_am_p']=trans.groupby(['customer_id'])['amount_plus'].transform('first')"
   ]
  },
  {
   "cell_type": "code",
   "execution_count": null,
   "metadata": {
    "collapsed": true
   },
   "outputs": [],
   "source": [
    "trans['max_am_m']=trans.groupby(['customer_id'])['amount_minus'].transform('max') \n",
    "trans['max_am_p']=trans.groupby(['customer_id'])['amount_plus'].transform('max')"
   ]
  },
  {
   "cell_type": "code",
   "execution_count": null,
   "metadata": {
    "collapsed": true
   },
   "outputs": [],
   "source": [
    "trans['max_day']=trans.groupby(['customer_id'])['day'].transform('max') \n",
    "trans['min_day']=trans.groupby(['customer_id'])['day'].transform('min')\n",
    "trans['dif_day']=trans['max_day']-trans['min_day']"
   ]
  },
  {
   "cell_type": "code",
   "execution_count": null,
   "metadata": {
    "collapsed": true
   },
   "outputs": [],
   "source": [
    "trans['amount_minus_min'] = -trans['amount'].apply(am_m_min)\n",
    "trans['amount_plus_min'] = trans['amount'].apply(am_p_min)\n",
    "trans['min_am_m']=trans.groupby(['customer_id'])['amount_minus_min'].transform('min') \n",
    "trans['min_am_p']=trans.groupby(['customer_id'])['amount_plus_min'].transform('min')"
   ]
  },
  {
   "cell_type": "code",
   "execution_count": null,
   "metadata": {
    "collapsed": true
   },
   "outputs": [],
   "source": [
    "trans.drop(['amount_minus_min',\"amount_plus_min\"],axis=1,inplace=True)"
   ]
  },
  {
   "cell_type": "code",
   "execution_count": null,
   "metadata": {
    "collapsed": true
   },
   "outputs": [],
   "source": [
    "trans['razmah_am_m']=trans[\"max_am_m\"]-trans['min_am_m']\n",
    "trans['razmah_am_p']=trans[\"max_am_p\"]-trans['min_am_p']"
   ]
  },
  {
   "cell_type": "code",
   "execution_count": null,
   "metadata": {
    "collapsed": true
   },
   "outputs": [],
   "source": [
    "trans['last_am_m']=trans.groupby(['customer_id'])['amount_minus'].transform('last') \n",
    "trans['last_am_p']=trans.groupby(['customer_id'])['amount_plus'].transform('last')"
   ]
  },
  {
   "cell_type": "code",
   "execution_count": null,
   "metadata": {
    "collapsed": true
   },
   "outputs": [],
   "source": [
    "trans['kurt_am_m']=trans.groupby(['customer_id'])['amount_minus'].transform(kurtosis)\n",
    "trans['kurt_am_p']=trans.groupby(['customer_id'])['amount_plus'].transform(kurtosis)"
   ]
  },
  {
   "cell_type": "code",
   "execution_count": null,
   "metadata": {
    "collapsed": true
   },
   "outputs": [],
   "source": [
    "trans['skew_am_m']=trans.groupby(['customer_id'])['amount_minus'].transform(skew)\n",
    "trans['skew_am_p']=trans.groupby(['customer_id'])['amount_plus'].transform(skew)"
   ]
  },
  {
   "cell_type": "code",
   "execution_count": null,
   "metadata": {
    "collapsed": false
   },
   "outputs": [],
   "source": [
    "trans['div_m'] = trans['amount_minus'].apply(count_0)\n",
    "trans['div_p'] = trans['amount_plus'].apply(count_0)"
   ]
  },
  {
   "cell_type": "code",
   "execution_count": null,
   "metadata": {
    "collapsed": true
   },
   "outputs": [],
   "source": [
    "trans['div_sm']=trans.groupby(['customer_id'])['div_m'].transform('sum') \n",
    "trans['div_sp']=trans.groupby(['customer_id'])['div_p'].transform('sum') "
   ]
  },
  {
   "cell_type": "code",
   "execution_count": null,
   "metadata": {
    "collapsed": true
   },
   "outputs": [],
   "source": [
    "trans['dif_sum']=trans['div_sm']-trans['div_sp']"
   ]
  },
  {
   "cell_type": "code",
   "execution_count": null,
   "metadata": {
    "collapsed": false
   },
   "outputs": [],
   "source": [
    "trans['div_smdiv_sp'] = trans.apply(lambda row: divide(row['div_sm'], row['div_sp']), axis=1)"
   ]
  },
  {
   "cell_type": "code",
   "execution_count": null,
   "metadata": {
    "collapsed": false
   },
   "outputs": [],
   "source": [
    "trans['div_am_sm'] = trans.apply(lambda row: divide(row['sum_am_m'], row['div_sm']), axis=1)"
   ]
  },
  {
   "cell_type": "code",
   "execution_count": null,
   "metadata": {
    "collapsed": false
   },
   "outputs": [],
   "source": [
    "trans['div_am_sp'] = trans.apply(lambda row: divide(row['sum_am_p'], row['div_sp']), axis=1)"
   ]
  },
  {
   "cell_type": "code",
   "execution_count": null,
   "metadata": {
    "collapsed": false
   },
   "outputs": [],
   "source": [
    "trans.head()"
   ]
  },
  {
   "cell_type": "code",
   "execution_count": null,
   "metadata": {
    "collapsed": false
   },
   "outputs": [],
   "source": [
    "trans.info()"
   ]
  },
  {
   "cell_type": "code",
   "execution_count": null,
   "metadata": {
    "collapsed": true
   },
   "outputs": [],
   "source": [
    "transmed.to_csv('data/feat_1.csv', index=False)"
   ]
  },
  {
   "cell_type": "raw",
   "metadata": {
    "collapsed": true
   },
   "source": []
  },
  {
   "cell_type": "code",
   "execution_count": null,
   "metadata": {
    "collapsed": true
   },
   "outputs": [],
   "source": [
    "#trans['size'] = trans.groupby(['customer_id'])['amount'].transform('sum') "
   ]
  },
  {
   "cell_type": "code",
   "execution_count": null,
   "metadata": {
    "collapsed": true
   },
   "outputs": [],
   "source": [
    "#trans = pd.merge(trans,gend,on = 'customer_id')"
   ]
  },
  {
   "cell_type": "code",
   "execution_count": null,
   "metadata": {
    "collapsed": true
   },
   "outputs": [],
   "source": [
    "transmed=trans.groupby('customer_id', as_index=False).median()"
   ]
  },
  {
   "cell_type": "code",
   "execution_count": null,
   "metadata": {
    "collapsed": true
   },
   "outputs": [],
   "source": [
    "transmean=trans.groupby('customer_id', as_index=False).mean()"
   ]
  },
  {
   "cell_type": "code",
   "execution_count": null,
   "metadata": {
    "collapsed": true
   },
   "outputs": [],
   "source": [
    "transsum=trans.groupby('customer_id', as_index=False).sum()"
   ]
  },
  {
   "cell_type": "code",
   "execution_count": null,
   "metadata": {
    "collapsed": true
   },
   "outputs": [],
   "source": [
    "transmax=trans.groupby('customer_id', as_index=False).max()"
   ]
  },
  {
   "cell_type": "code",
   "execution_count": null,
   "metadata": {
    "collapsed": true
   },
   "outputs": [],
   "source": [
    "transmean=trans.groupby('customer_id', as_index=False).min()"
   ]
  },
  {
   "cell_type": "code",
   "execution_count": null,
   "metadata": {
    "collapsed": false
   },
   "outputs": [],
   "source": [
    "trans.shape,transmed.shape"
   ]
  },
  {
   "cell_type": "code",
   "execution_count": null,
   "metadata": {
    "collapsed": false
   },
   "outputs": [],
   "source": [
    "trans.head()"
   ]
  },
  {
   "cell_type": "code",
   "execution_count": null,
   "metadata": {
    "collapsed": false
   },
   "outputs": [],
   "source": [
    "trans.describe()"
   ]
  },
  {
   "cell_type": "code",
   "execution_count": null,
   "metadata": {
    "collapsed": false
   },
   "outputs": [],
   "source": [
    "len(trans.mcc_code.unique())"
   ]
  },
  {
   "cell_type": "code",
   "execution_count": null,
   "metadata": {
    "collapsed": false
   },
   "outputs": [],
   "source": [
    "len(transmed.columns)+len(Xtype.columns)#+len(Xmcc.columns)"
   ]
  },
  {
   "cell_type": "code",
   "execution_count": null,
   "metadata": {
    "collapsed": false
   },
   "outputs": [],
   "source": [
    "Xtype = trans.groupby('customer_id', as_index=False) \\\n",
    "                    .apply(lambda x: x[['tr_type']].unstack().value_counts()) \\\n",
    "                    .unstack() \\\n",
    "                 .fillna(0)\n",
    "\n",
    "#, as_index=False"
   ]
  },
  {
   "cell_type": "code",
   "execution_count": null,
   "metadata": {
    "collapsed": false
   },
   "outputs": [],
   "source": [
    "Xtype = Xtype.rename(columns=lambda x: str(x)+'type')"
   ]
  },
  {
   "cell_type": "code",
   "execution_count": null,
   "metadata": {
    "collapsed": false
   },
   "outputs": [],
   "source": [
    "Xmcc = trans.groupby('customer_id', as_index=False) \\\n",
    "                    .apply(lambda x: x[['mcc_code']].unstack().value_counts()) \\\n",
    "                    .unstack() \\\n",
    "                 .fillna(0)"
   ]
  },
  {
   "cell_type": "code",
   "execution_count": null,
   "metadata": {
    "collapsed": true
   },
   "outputs": [],
   "source": [
    "Xmcc = Xmcc.rename(columns=lambda x: str(x)+'mcc')"
   ]
  },
  {
   "cell_type": "code",
   "execution_count": null,
   "metadata": {
    "collapsed": true
   },
   "outputs": [],
   "source": [
    "Xweek = trans.groupby('customer_id', as_index=False) \\\n",
    "                    .apply(lambda x: x[['week']].unstack().value_counts()) \\\n",
    "                    .unstack() \\\n",
    "                 .fillna(0)"
   ]
  },
  {
   "cell_type": "code",
   "execution_count": null,
   "metadata": {
    "collapsed": true
   },
   "outputs": [],
   "source": [
    "Xweek = Xweek.rename(columns=lambda x: str(x)+'week')"
   ]
  },
  {
   "cell_type": "code",
   "execution_count": null,
   "metadata": {
    "collapsed": true
   },
   "outputs": [],
   "source": [
    "Xday = trans.groupby('customer_id', as_index=False) \\\n",
    "                    .apply(lambda x: x[['days']].unstack().value_counts()) \\\n",
    "                    .unstack() \\\n",
    "                 .fillna(0)"
   ]
  },
  {
   "cell_type": "code",
   "execution_count": null,
   "metadata": {
    "collapsed": true
   },
   "outputs": [],
   "source": [
    "Xday = Xday.rename(columns=lambda x: str(x)+'day')"
   ]
  },
  {
   "cell_type": "code",
   "execution_count": null,
   "metadata": {
    "collapsed": true
   },
   "outputs": [],
   "source": [
    "Xhour = trans.groupby('customer_id', as_index=False) \\\n",
    "                    .apply(lambda x: x[['hour']].unstack().value_counts()) \\\n",
    "                    .unstack() \\\n",
    "                 .fillna(0)"
   ]
  },
  {
   "cell_type": "code",
   "execution_count": null,
   "metadata": {
    "collapsed": false
   },
   "outputs": [],
   "source": [
    "Xhour = Xhour.rename(columns=lambda x: str(x)+'hour')"
   ]
  },
  {
   "cell_type": "code",
   "execution_count": null,
   "metadata": {
    "collapsed": true
   },
   "outputs": [],
   "source": [
    "Xmonth = trans.groupby('customer_id', as_index=False) \\\n",
    "                    .apply(lambda x: x[['month']].unstack().value_counts()) \\\n",
    "                    .unstack() \\\n",
    "                 .fillna(0)"
   ]
  },
  {
   "cell_type": "code",
   "execution_count": null,
   "metadata": {
    "collapsed": true
   },
   "outputs": [],
   "source": [
    "Xmonth = Xmonth.rename(columns=lambda x: str(x)+'month')"
   ]
  },
  {
   "cell_type": "code",
   "execution_count": null,
   "metadata": {
    "collapsed": false
   },
   "outputs": [],
   "source": [
    "Xmcc.shape"
   ]
  },
  {
   "cell_type": "code",
   "execution_count": null,
   "metadata": {
    "collapsed": false
   },
   "outputs": [],
   "source": [
    "Xmcc = pd.concat([transmed,Xmcc],axis=1,ignore_index=False)"
   ]
  },
  {
   "cell_type": "code",
   "execution_count": null,
   "metadata": {
    "collapsed": true
   },
   "outputs": [],
   "source": [
    "Xmcc = pd.concat([Xmcc,Xtype],axis=1,ignore_index=False)"
   ]
  },
  {
   "cell_type": "code",
   "execution_count": null,
   "metadata": {
    "collapsed": true
   },
   "outputs": [],
   "source": [
    "Xmcc = pd.concat([Xmcc,Xweek],axis=1,ignore_index=False)"
   ]
  },
  {
   "cell_type": "code",
   "execution_count": null,
   "metadata": {
    "collapsed": true
   },
   "outputs": [],
   "source": [
    "Xmcc = pd.concat([Xmcc,Xday],axis=1,ignore_index=False)"
   ]
  },
  {
   "cell_type": "code",
   "execution_count": null,
   "metadata": {
    "collapsed": true
   },
   "outputs": [],
   "source": [
    "Xmcc = pd.concat([Xmcc,Xhour],axis=1,ignore_index=False)"
   ]
  },
  {
   "cell_type": "code",
   "execution_count": null,
   "metadata": {
    "collapsed": true
   },
   "outputs": [],
   "source": [
    "Xmcc = pd.concat([Xmcc,Xmonth],axis=1,ignore_index=False)"
   ]
  },
  {
   "cell_type": "markdown",
   "metadata": {
    "collapsed": false
   },
   "source": [
    "# TRAIN TEST"
   ]
  },
  {
   "cell_type": "code",
   "execution_count": null,
   "metadata": {
    "collapsed": true
   },
   "outputs": [],
   "source": [
    "gend = pd.read_csv('data/customers_gender_train.csv')"
   ]
  },
  {
   "cell_type": "code",
   "execution_count": null,
   "metadata": {
    "collapsed": false
   },
   "outputs": [],
   "source": [
    "customers_gender = gend.set_index('customer_id')"
   ]
  },
  {
   "cell_type": "code",
   "execution_count": null,
   "metadata": {
    "collapsed": false
   },
   "outputs": [],
   "source": [
    "Xmcc.info()"
   ]
  },
  {
   "cell_type": "code",
   "execution_count": null,
   "metadata": {
    "collapsed": false
   },
   "outputs": [],
   "source": [
    "Xmcc = Xmcc.groupby('customer_id').mean()"
   ]
  },
  {
   "cell_type": "code",
   "execution_count": null,
   "metadata": {
    "collapsed": false
   },
   "outputs": [],
   "source": [
    "Y_train = customers_gender.loc[Xmcc.index].gender\n",
    "Y_train = Y_train.reset_index()\n",
    "del Y_train['customer_id']\n",
    "Y_train = Y_train.dropna(0)"
   ]
  },
  {
   "cell_type": "code",
   "execution_count": null,
   "metadata": {
    "collapsed": false
   },
   "outputs": [],
   "source": [
    "X_train = Xmcc.reset_index()\n",
    "X_train = X_train.loc[Y_train.index]\n",
    "X_train['gender'] = Y_train\n",
    "X_train.head()"
   ]
  },
  {
   "cell_type": "code",
   "execution_count": null,
   "metadata": {
    "collapsed": false
   },
   "outputs": [],
   "source": [
    "X_test = Xmcc.drop(customers_gender.index)\n",
    "X_test.head()"
   ]
  },
  {
   "cell_type": "code",
   "execution_count": null,
   "metadata": {
    "collapsed": false
   },
   "outputs": [],
   "source": [
    "#X_test = Xmcc.drop(customers_gender.index).reset_index()\n",
    "#X_test.head()"
   ]
  },
  {
   "cell_type": "code",
   "execution_count": null,
   "metadata": {
    "collapsed": false
   },
   "outputs": [],
   "source": [
    "feat = list(set(X_test.columns)-{'customer_id'})\n",
    "len(feat)"
   ]
  },
  {
   "cell_type": "code",
   "execution_count": null,
   "metadata": {
    "collapsed": false
   },
   "outputs": [],
   "source": [
    "#X_train, Xtest, Y_train, Ytest = train_test_split(X_train, X_train.gender, test_size=0.15, random_state=7)"
   ]
  },
  {
   "cell_type": "code",
   "execution_count": null,
   "metadata": {
    "collapsed": false
   },
   "outputs": [],
   "source": [
    "Xtr, Xval, ytr, yval = train_test_split(X_train, X_train.gender, test_size=0.2, random_state=7)"
   ]
  },
  {
   "cell_type": "markdown",
   "metadata": {},
   "source": [
    "# MODELING"
   ]
  },
  {
   "cell_type": "markdown",
   "metadata": {},
   "source": [
    "# RESULT"
   ]
  },
  {
   "cell_type": "code",
   "execution_count": null,
   "metadata": {
    "collapsed": true
   },
   "outputs": [],
   "source": [
    "#noweek+week_sum_notype 0.873=800\n",
    "#base 0.869 = 800\n",
    "#mcc tr mccfull 0.877338"
   ]
  },
  {
   "cell_type": "code",
   "execution_count": null,
   "metadata": {
    "collapsed": false
   },
   "outputs": [],
   "source": [
    "dtr = xgb.DMatrix(Xtr[feat], label=ytr)\n",
    "dval = xgb.DMatrix(Xval[feat], label=yval)\n",
    "watchlist = [(dtr, 'train'), (dval, 'eval')]\n",
    "history = dict()"
   ]
  },
  {
   "cell_type": "code",
   "execution_count": null,
   "metadata": {
    "collapsed": true
   },
   "outputs": [],
   "source": [
    "params = {\n",
    "    'max_depth': 4,\n",
    "    'eta': 0.025,\n",
    "    'nthread': 4,\n",
    "    'subsample': 0.8,\n",
    "    'eval_metric': ['auc'],\n",
    "    'objective': 'binary:logistic',\n",
    "    'colsample_bytree': 0.6,\n",
    "    'min_child_weight': 0,\n",
    "    #'scale_pos_weight':(1-train.Label.mean())/train.Label.mean(),\n",
    "    'seed':7\n",
    "}"
   ]
  },
  {
   "cell_type": "code",
   "execution_count": null,
   "metadata": {
    "collapsed": false
   },
   "outputs": [],
   "source": [
    "#noweek+week_sum_notype\n",
    "xgb.cv(params, dtr, 1000, nfold=5,\n",
    "       metrics={'auc'}, seed = 7,verbose_eval=50,\n",
    "       callbacks=[xgb.callback.print_evaluation(show_stdv=True)])"
   ]
  },
  {
   "cell_type": "code",
   "execution_count": null,
   "metadata": {
    "collapsed": true
   },
   "outputs": [],
   "source": [
    "0849 0.025\n",
    "086 0.05\n",
    "0861 0.1\n",
    "0877\n",
    "08639 0.075"
   ]
  },
  {
   "cell_type": "code",
   "execution_count": null,
   "metadata": {
    "collapsed": false
   },
   "outputs": [],
   "source": [
    "model = xgb.train(params, dtr, num_boost_round=1000, evals=watchlist,evals_result=history, verbose_eval=50)"
   ]
  },
  {
   "cell_type": "code",
   "execution_count": null,
   "metadata": {
    "collapsed": false
   },
   "outputs": [],
   "source": [
    "imps = pd.Series(model.get_fscore()).sort_values()\n",
    "imps.plot(kind='bar', figsize=(15,6),logy=True)"
   ]
  },
  {
   "cell_type": "code",
   "execution_count": null,
   "metadata": {
    "collapsed": true
   },
   "outputs": [],
   "source": [
    "importn=model.get_fscore()"
   ]
  },
  {
   "cell_type": "code",
   "execution_count": null,
   "metadata": {
    "collapsed": false
   },
   "outputs": [],
   "source": [
    "importn"
   ]
  },
  {
   "cell_type": "code",
   "execution_count": null,
   "metadata": {
    "collapsed": false
   },
   "outputs": [],
   "source": [
    "features = []\n",
    "for i in Xtr.columns:\n",
    "    try:\n",
    "        if(importn.get(i)>5):\n",
    "            features.append(i)\n",
    "    except:\n",
    "        s=0"
   ]
  },
  {
   "cell_type": "code",
   "execution_count": null,
   "metadata": {
    "collapsed": false
   },
   "outputs": [],
   "source": [
    "imps.plot(kind='bar', figsize=(15,6),logy=True)"
   ]
  },
  {
   "cell_type": "code",
   "execution_count": null,
   "metadata": {
    "collapsed": true
   },
   "outputs": [],
   "source": [
    "dtest = xgb.DMatrix(X_test[feat])"
   ]
  },
  {
   "cell_type": "code",
   "execution_count": null,
   "metadata": {
    "collapsed": false
   },
   "outputs": [],
   "source": [
    "result = pd.DataFrame(X_test.index, columns=['customer_id'])\n",
    "result['gender'] = model.predict(dtest)"
   ]
  },
  {
   "cell_type": "code",
   "execution_count": null,
   "metadata": {
    "collapsed": false
   },
   "outputs": [],
   "source": [
    "result.to_csv('a_xgb_feat1.csv', index=False)"
   ]
  },
  {
   "cell_type": "code",
   "execution_count": null,
   "metadata": {
    "collapsed": false
   },
   "outputs": [],
   "source": [
    "result"
   ]
  },
  {
   "cell_type": "markdown",
   "metadata": {},
   "source": [
    "# dataprep"
   ]
  },
  {
   "cell_type": "code",
   "execution_count": null,
   "metadata": {
    "collapsed": true
   },
   "outputs": [],
   "source": [
    "transmed.to_csv('data/mcc_full.csv', index=False)"
   ]
  },
  {
   "cell_type": "code",
   "execution_count": null,
   "metadata": {
    "collapsed": false
   },
   "outputs": [],
   "source": [
    "transmed.head()"
   ]
  },
  {
   "cell_type": "markdown",
   "metadata": {},
   "source": [
    "# MetaFeatches"
   ]
  },
  {
   "cell_type": "code",
   "execution_count": null,
   "metadata": {
    "collapsed": false
   },
   "outputs": [],
   "source": [
    "from sklearn.cross_validation import KFold\n",
    "X_train['Proba']=0\n",
    "X_test['Proba']=0\n",
    "kf = KFold(X_train.shape[0], n_folds=5,shuffle=True)\n",
    "for train_index, val_index in kf:\n",
    "    #print(\"TRAIN:\", train_index, \"TEST:\", val_index)\n",
    "    print(\"!!!!!!!!!!!!!!!!!!!!!!Next Fold!!!!!!!!!!!!\")\n",
    "    training_data0, validation_data0 = X_train.loc[train_index], X_train.loc[val_index]\n",
    "    dtr = xgb.DMatrix(training_data0[features], label=training_data0.gender)\n",
    "    dval = xgb.DMatrix(validation_data0[features], label=validation_data0.gender)\n",
    "    watchlist = [(dtr, 'train'), (dval, 'eval')]\n",
    "    history = dict()\n",
    "    model0 = xgb.train(params, dtr, num_boost_round=1000, evals=watchlist,evals_result=history, verbose_eval=50)\n",
    "\n",
    "    X_train['Proba'].loc[val_index] = model0.predict(dval)\n",
    "    X_test['Proba'] += model0.predict(dtest)\n",
    "    \n",
    "X_test['Proba'] = X_test['Proba']/kf.n_folds"
   ]
  },
  {
   "cell_type": "code",
   "execution_count": null,
   "metadata": {
    "collapsed": false
   },
   "outputs": [],
   "source": [
    "features"
   ]
  },
  {
   "cell_type": "code",
   "execution_count": null,
   "metadata": {
    "collapsed": false
   },
   "outputs": [],
   "source": [
    "features.append('Proba')"
   ]
  },
  {
   "cell_type": "code",
   "execution_count": null,
   "metadata": {
    "collapsed": true
   },
   "outputs": [],
   "source": [
    "features.remove('proba')"
   ]
  },
  {
   "cell_type": "code",
   "execution_count": null,
   "metadata": {
    "collapsed": true
   },
   "outputs": [],
   "source": []
  },
  {
   "cell_type": "code",
   "execution_count": null,
   "metadata": {
    "collapsed": true
   },
   "outputs": [],
   "source": []
  },
  {
   "cell_type": "code",
   "execution_count": null,
   "metadata": {
    "collapsed": true
   },
   "outputs": [],
   "source": []
  },
  {
   "cell_type": "code",
   "execution_count": null,
   "metadata": {
    "collapsed": true
   },
   "outputs": [],
   "source": []
  },
  {
   "cell_type": "code",
   "execution_count": null,
   "metadata": {
    "collapsed": true
   },
   "outputs": [],
   "source": []
  },
  {
   "cell_type": "code",
   "execution_count": null,
   "metadata": {
    "collapsed": true
   },
   "outputs": [],
   "source": []
  },
  {
   "cell_type": "code",
   "execution_count": null,
   "metadata": {
    "collapsed": true
   },
   "outputs": [],
   "source": [
    "#data = pd.merge(trans,gend,on = 'customer_id')"
   ]
  },
  {
   "cell_type": "code",
   "execution_count": null,
   "metadata": {
    "collapsed": false
   },
   "outputs": [],
   "source": [
    "#data.head()"
   ]
  },
  {
   "cell_type": "code",
   "execution_count": null,
   "metadata": {
    "collapsed": false
   },
   "outputs": [],
   "source": [
    "#data = pd.get_dummies(data, columns=['mcc_code'])"
   ]
  },
  {
   "cell_type": "code",
   "execution_count": null,
   "metadata": {
    "collapsed": false
   },
   "outputs": [],
   "source": [
    "Xtr, Xval = train_test_split_group(data.customer_id, data, random_state=7, train_size=0.8)"
   ]
  },
  {
   "cell_type": "code",
   "execution_count": null,
   "metadata": {
    "collapsed": false
   },
   "outputs": [],
   "source": [
    "gbm = xgb.XGBClassifier()\n",
    "dtrain = xgb.DMatrix(Xtr[features], label=Xtr.gender)"
   ]
  },
  {
   "cell_type": "code",
   "execution_count": null,
   "metadata": {
    "collapsed": false
   },
   "outputs": [],
   "source": [
    "len(trans[trans['count_size']>2000]['customer_id'].unique())"
   ]
  },
  {
   "cell_type": "code",
   "execution_count": null,
   "metadata": {
    "collapsed": false
   },
   "outputs": [],
   "source": [
    "z = trans[trans['count_size']<3000]\n",
    "z.describe()"
   ]
  },
  {
   "cell_type": "code",
   "execution_count": null,
   "metadata": {
    "collapsed": true
   },
   "outputs": [],
   "source": []
  }
 ],
 "metadata": {
  "anaconda-cloud": {},
  "kernelspec": {
   "display_name": "Python [conda root]",
   "language": "python",
   "name": "conda-root-py"
  },
  "language_info": {
   "codemirror_mode": {
    "name": "ipython",
    "version": 3
   },
   "file_extension": ".py",
   "mimetype": "text/x-python",
   "name": "python",
   "nbconvert_exporter": "python",
   "pygments_lexer": "ipython3",
   "version": "3.5.2"
  }
 },
 "nbformat": 4,
 "nbformat_minor": 1
}
