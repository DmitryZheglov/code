{
 "cells": [
  {
   "cell_type": "code",
   "execution_count": 53,
   "metadata": {
    "collapsed": false
   },
   "outputs": [
    {
     "name": "stdout",
     "output_type": "stream",
     "text": [
      "Using matplotlib backend: Qt5Agg\n"
     ]
    }
   ],
   "source": [
    "import pandas as pd\n",
    "import numpy as np\n",
    "import xgboost as xgb\n",
    "from sklearn.ensemble import GradientBoostingRegressor, RandomForestRegressor\n",
    "from sklearn.linear_model import LinearRegression\n",
    "import time\n",
    "import matplotlib.pyplot as plt\n",
    "plt.style.use('ggplot')\n",
    "%matplotlib"
   ]
  },
  {
   "cell_type": "code",
   "execution_count": 2,
   "metadata": {
    "collapsed": true
   },
   "outputs": [],
   "source": [
    "def dtw(x):\n",
    "    return x%7\n",
    "def get_month(x):\n",
    "    if(0<=x<31):\n",
    "        return 0\n",
    "    elif(30<x<61):\n",
    "        return 1\n",
    "    elif(60<x<92):\n",
    "        return 2\n",
    "    if 152<x<184:\n",
    "        return 3\n",
    "    elif 183<x<212:\n",
    "        return 4\n",
    "    elif  211<x<243:\n",
    "        return 5\n",
    "    elif  242<x<273:\n",
    "        return 6\n",
    "    elif 272<x<304:\n",
    "        return 7\n",
    "    elif 303<x<334:\n",
    "        return 8\n",
    "    elif 333<x<365:\n",
    "        return 9\n",
    "    elif (364<x<396):\n",
    "        return 10\n",
    "    elif (395<x<426):\n",
    "        return 11\n",
    "    elif (425<x<457):\n",
    "        return 12\n",
    "    elif (91<x<122):\n",
    "        return 13\n",
    "    elif 121<x<153:\n",
    "        return 14\n",
    "    else:\n",
    "        return 0\n",
    "def get_day(x):\n",
    "    if 152<x<184:\n",
    "        return x-152\n",
    "    elif 183<x<212:\n",
    "        return x-183\n",
    "    elif  211<x<243:\n",
    "        return x-211\n",
    "    elif  242<x<273:\n",
    "        return x-242\n",
    "    elif 272<x<304:\n",
    "        return x-272\n",
    "    elif 303<x<334:\n",
    "        return x-303\n",
    "    elif 333<x<365:\n",
    "        return x-333\n",
    "    elif (364<x<396):\n",
    "        return x-364\n",
    "    elif(0<=x<31):\n",
    "        return x+1\n",
    "    elif (395<x<426):\n",
    "        return x-395\n",
    "    elif(30<x<61):\n",
    "        return x-30\n",
    "    elif (425<x<457):\n",
    "        return x-425\n",
    "    elif(60<x<92):\n",
    "        return x-60\n",
    "    elif 121<x<153:\n",
    "        return x-121\n",
    "    else:\n",
    "        return 0\n",
    "def time(x):\n",
    "    return x[-8:]"
   ]
  },
  {
   "cell_type": "code",
   "execution_count": 3,
   "metadata": {
    "collapsed": false
   },
   "outputs": [
    {
     "name": "stdout",
     "output_type": "stream",
     "text": [
      "CPU times: user 7.08 s, sys: 508 ms, total: 7.58 s\n",
      "Wall time: 7.89 s\n"
     ]
    }
   ],
   "source": [
    "%time transactions = pd.read_csv('data/transactions.csv')"
   ]
  },
  {
   "cell_type": "code",
   "execution_count": 4,
   "metadata": {
    "collapsed": true
   },
   "outputs": [],
   "source": [
    "train_transactions = transactions[transactions.amount < 0].copy()\n",
    "train_transactions['day'] = train_transactions.tr_datetime.apply(lambda dt: dt.split()[0]).astype(int)"
   ]
  },
  {
   "cell_type": "code",
   "execution_count": 5,
   "metadata": {
    "collapsed": false
   },
   "outputs": [],
   "source": [
    "train_transactions['amount']=-train_transactions.amount"
   ]
  },
  {
   "cell_type": "code",
   "execution_count": null,
   "metadata": {
    "collapsed": false
   },
   "outputs": [],
   "source": [
    "#del transactions\n",
    "\n",
    "train_transactions.head()"
   ]
  },
  {
   "cell_type": "code",
   "execution_count": null,
   "metadata": {
    "collapsed": false
   },
   "outputs": [],
   "source": [
    "train_transactions.shift(1).head()"
   ]
  },
  {
   "cell_type": "markdown",
   "metadata": {},
   "source": [
    "# VIZUALIZATION"
   ]
  },
  {
   "cell_type": "code",
   "execution_count": null,
   "metadata": {
    "collapsed": false
   },
   "outputs": [],
   "source": [
    "train_transactions['month'] = train_transactions['day'].apply(get_month)"
   ]
  },
  {
   "cell_type": "code",
   "execution_count": null,
   "metadata": {
    "collapsed": false
   },
   "outputs": [],
   "source": [
    "plt.scatter(train_transactions[train_transactions['mcc_code']==4814].day,np.log(train_transactions[train_transactions['mcc_code']==4814].amount))"
   ]
  },
  {
   "cell_type": "code",
   "execution_count": null,
   "metadata": {
    "collapsed": false
   },
   "outputs": [],
   "source": [
    "max(train_transactions['day'])"
   ]
  },
  {
   "cell_type": "markdown",
   "metadata": {},
   "source": [
    "# TEST"
   ]
  },
  {
   "cell_type": "code",
   "execution_count": 6,
   "metadata": {
    "collapsed": false
   },
   "outputs": [
    {
     "data": {
      "text/plain": [
       "array([ 1,  2,  3,  4,  5,  6,  7,  8,  9, 10, 11, 12, 13, 14, 15, 16, 17,\n",
       "       18, 19, 20, 21, 22, 23, 24, 25, 26, 27, 28, 29, 30])"
      ]
     },
     "execution_count": 6,
     "metadata": {},
     "output_type": "execute_result"
    }
   ],
   "source": [
    "np.arange(1, 31)"
   ]
  },
  {
   "cell_type": "code",
   "execution_count": 7,
   "metadata": {
    "collapsed": true
   },
   "outputs": [],
   "source": [
    "\n",
    "test_transactions = pd.DataFrame(columns=train_transactions.mcc_code.unique(), \n",
    "                                 index=np.arange(1, 31) + train_transactions.day.max())"
   ]
  },
  {
   "cell_type": "code",
   "execution_count": 8,
   "metadata": {
    "collapsed": true
   },
   "outputs": [],
   "source": [
    "\n",
    "test_transactions = test_transactions.unstack().reset_index().dropna(axis=1)\n"
   ]
  },
  {
   "cell_type": "code",
   "execution_count": 9,
   "metadata": {
    "collapsed": false
   },
   "outputs": [],
   "source": [
    "test_transactions.columns = ['mcc_code', 'day']"
   ]
  },
  {
   "cell_type": "code",
   "execution_count": 10,
   "metadata": {
    "collapsed": false
   },
   "outputs": [
    {
     "data": {
      "text/html": [
       "<div>\n",
       "<table border=\"1\" class=\"dataframe\">\n",
       "  <thead>\n",
       "    <tr style=\"text-align: right;\">\n",
       "      <th></th>\n",
       "      <th>mcc_code</th>\n",
       "      <th>day</th>\n",
       "    </tr>\n",
       "  </thead>\n",
       "  <tbody>\n",
       "    <tr>\n",
       "      <th>0</th>\n",
       "      <td>4814</td>\n",
       "      <td>457</td>\n",
       "    </tr>\n",
       "    <tr>\n",
       "      <th>1</th>\n",
       "      <td>4814</td>\n",
       "      <td>458</td>\n",
       "    </tr>\n",
       "    <tr>\n",
       "      <th>2</th>\n",
       "      <td>4814</td>\n",
       "      <td>459</td>\n",
       "    </tr>\n",
       "    <tr>\n",
       "      <th>3</th>\n",
       "      <td>4814</td>\n",
       "      <td>460</td>\n",
       "    </tr>\n",
       "    <tr>\n",
       "      <th>4</th>\n",
       "      <td>4814</td>\n",
       "      <td>461</td>\n",
       "    </tr>\n",
       "  </tbody>\n",
       "</table>\n",
       "</div>"
      ],
      "text/plain": [
       "   mcc_code  day\n",
       "0      4814  457\n",
       "1      4814  458\n",
       "2      4814  459\n",
       "3      4814  460\n",
       "4      4814  461"
      ]
     },
     "execution_count": 10,
     "metadata": {},
     "output_type": "execute_result"
    }
   ],
   "source": [
    "test_transactions.head()"
   ]
  },
  {
   "cell_type": "code",
   "execution_count": 11,
   "metadata": {
    "collapsed": true
   },
   "outputs": [],
   "source": [
    "train_grid = pd.DataFrame(columns=train_transactions.mcc_code.unique(), \n",
    "                          index=train_transactions.day.unique())\n",
    "train_grid = train_grid.unstack().reset_index().dropna(axis=1)\n",
    "train_grid.columns = ['mcc_code', 'day']"
   ]
  },
  {
   "cell_type": "code",
   "execution_count": 12,
   "metadata": {
    "collapsed": false
   },
   "outputs": [
    {
     "data": {
      "text/html": [
       "<div>\n",
       "<table border=\"1\" class=\"dataframe\">\n",
       "  <thead>\n",
       "    <tr style=\"text-align: right;\">\n",
       "      <th></th>\n",
       "      <th>mcc_code</th>\n",
       "      <th>day</th>\n",
       "    </tr>\n",
       "  </thead>\n",
       "  <tbody>\n",
       "    <tr>\n",
       "      <th>0</th>\n",
       "      <td>4814</td>\n",
       "      <td>0</td>\n",
       "    </tr>\n",
       "    <tr>\n",
       "      <th>1</th>\n",
       "      <td>4814</td>\n",
       "      <td>1</td>\n",
       "    </tr>\n",
       "    <tr>\n",
       "      <th>2</th>\n",
       "      <td>4814</td>\n",
       "      <td>2</td>\n",
       "    </tr>\n",
       "    <tr>\n",
       "      <th>3</th>\n",
       "      <td>4814</td>\n",
       "      <td>3</td>\n",
       "    </tr>\n",
       "    <tr>\n",
       "      <th>4</th>\n",
       "      <td>4814</td>\n",
       "      <td>4</td>\n",
       "    </tr>\n",
       "  </tbody>\n",
       "</table>\n",
       "</div>"
      ],
      "text/plain": [
       "   mcc_code  day\n",
       "0      4814    0\n",
       "1      4814    1\n",
       "2      4814    2\n",
       "3      4814    3\n",
       "4      4814    4"
      ]
     },
     "execution_count": 12,
     "metadata": {},
     "output_type": "execute_result"
    }
   ],
   "source": [
    "train_grid.head()"
   ]
  },
  {
   "cell_type": "markdown",
   "metadata": {},
   "source": [
    "## "
   ]
  },
  {
   "cell_type": "code",
   "execution_count": 13,
   "metadata": {
    "collapsed": true
   },
   "outputs": [],
   "source": [
    "for tr_table in [train_transactions, test_transactions, train_grid]:\n",
    "    tr_table['week_num'] = tr_table['day'] // 7\n",
    "    tr_table['week_day'] = tr_table['day'] % 7\n",
    "    tr_table['month_num'] = tr_table['day']//30#.apply(get_month)# // 30\n",
    "    tr_table['month_day'] = tr_table['day']%30#.apply(get_day)# % 30"
   ]
  },
  {
   "cell_type": "markdown",
   "metadata": {},
   "source": [
    "# Statistics"
   ]
  },
  {
   "cell_type": "code",
   "execution_count": 14,
   "metadata": {
    "collapsed": false
   },
   "outputs": [
    {
     "data": {
      "text/html": [
       "<div>\n",
       "<table border=\"1\" class=\"dataframe\">\n",
       "  <thead>\n",
       "    <tr style=\"text-align: right;\">\n",
       "      <th></th>\n",
       "      <th>customer_id</th>\n",
       "      <th>tr_datetime</th>\n",
       "      <th>mcc_code</th>\n",
       "      <th>tr_type</th>\n",
       "      <th>amount</th>\n",
       "      <th>term_id</th>\n",
       "      <th>day</th>\n",
       "      <th>week_num</th>\n",
       "      <th>week_day</th>\n",
       "      <th>month_num</th>\n",
       "      <th>month_day</th>\n",
       "    </tr>\n",
       "  </thead>\n",
       "  <tbody>\n",
       "    <tr>\n",
       "      <th>0</th>\n",
       "      <td>39026145</td>\n",
       "      <td>0 10:23:26</td>\n",
       "      <td>4814</td>\n",
       "      <td>1030</td>\n",
       "      <td>2245.92</td>\n",
       "      <td>NaN</td>\n",
       "      <td>0</td>\n",
       "      <td>0</td>\n",
       "      <td>0</td>\n",
       "      <td>0</td>\n",
       "      <td>0</td>\n",
       "    </tr>\n",
       "    <tr>\n",
       "      <th>2</th>\n",
       "      <td>39026145</td>\n",
       "      <td>1 10:20:56</td>\n",
       "      <td>4829</td>\n",
       "      <td>2330</td>\n",
       "      <td>56147.89</td>\n",
       "      <td>NaN</td>\n",
       "      <td>1</td>\n",
       "      <td>0</td>\n",
       "      <td>1</td>\n",
       "      <td>0</td>\n",
       "      <td>1</td>\n",
       "    </tr>\n",
       "    <tr>\n",
       "      <th>3</th>\n",
       "      <td>39026145</td>\n",
       "      <td>1 10:39:54</td>\n",
       "      <td>5499</td>\n",
       "      <td>1010</td>\n",
       "      <td>1392.47</td>\n",
       "      <td>NaN</td>\n",
       "      <td>1</td>\n",
       "      <td>0</td>\n",
       "      <td>1</td>\n",
       "      <td>0</td>\n",
       "      <td>1</td>\n",
       "    </tr>\n",
       "    <tr>\n",
       "      <th>4</th>\n",
       "      <td>39026145</td>\n",
       "      <td>2 15:33:42</td>\n",
       "      <td>5499</td>\n",
       "      <td>1010</td>\n",
       "      <td>920.83</td>\n",
       "      <td>NaN</td>\n",
       "      <td>2</td>\n",
       "      <td>0</td>\n",
       "      <td>2</td>\n",
       "      <td>0</td>\n",
       "      <td>2</td>\n",
       "    </tr>\n",
       "    <tr>\n",
       "      <th>5</th>\n",
       "      <td>39026145</td>\n",
       "      <td>2 15:53:49</td>\n",
       "      <td>5541</td>\n",
       "      <td>1010</td>\n",
       "      <td>14643.37</td>\n",
       "      <td>NaN</td>\n",
       "      <td>2</td>\n",
       "      <td>0</td>\n",
       "      <td>2</td>\n",
       "      <td>0</td>\n",
       "      <td>2</td>\n",
       "    </tr>\n",
       "  </tbody>\n",
       "</table>\n",
       "</div>"
      ],
      "text/plain": [
       "   customer_id tr_datetime  mcc_code  tr_type    amount term_id  day  \\\n",
       "0     39026145  0 10:23:26      4814     1030   2245.92     NaN    0   \n",
       "2     39026145  1 10:20:56      4829     2330  56147.89     NaN    1   \n",
       "3     39026145  1 10:39:54      5499     1010   1392.47     NaN    1   \n",
       "4     39026145  2 15:33:42      5499     1010    920.83     NaN    2   \n",
       "5     39026145  2 15:53:49      5541     1010  14643.37     NaN    2   \n",
       "\n",
       "   week_num  week_day  month_num  month_day  \n",
       "0         0         0          0          0  \n",
       "2         0         1          0          1  \n",
       "3         0         1          0          1  \n",
       "4         0         2          0          2  \n",
       "5         0         2          0          2  "
      ]
     },
     "execution_count": 14,
     "metadata": {},
     "output_type": "execute_result"
    }
   ],
   "source": [
    "train_transactions.head()"
   ]
  },
  {
   "cell_type": "code",
   "execution_count": 15,
   "metadata": {
    "collapsed": false
   },
   "outputs": [],
   "source": [
    "train_transactions = \\\n",
    "    pd.merge(train_grid,\n",
    "             train_transactions.groupby(['day', 'week_num', 'week_day', 'month_num', 'month_day', 'mcc_code'])[['amount']]\\\n",
    "                 .sum().reset_index(),\n",
    "             how='left').fillna(0)"
   ]
  },
  {
   "cell_type": "code",
   "execution_count": 16,
   "metadata": {
    "collapsed": false
   },
   "outputs": [
    {
     "data": {
      "text/html": [
       "<div>\n",
       "<table border=\"1\" class=\"dataframe\">\n",
       "  <thead>\n",
       "    <tr style=\"text-align: right;\">\n",
       "      <th></th>\n",
       "      <th>mcc_code</th>\n",
       "      <th>day</th>\n",
       "      <th>week_num</th>\n",
       "      <th>week_day</th>\n",
       "      <th>month_num</th>\n",
       "      <th>month_day</th>\n",
       "      <th>amount</th>\n",
       "    </tr>\n",
       "  </thead>\n",
       "  <tbody>\n",
       "    <tr>\n",
       "      <th>0</th>\n",
       "      <td>4814</td>\n",
       "      <td>0</td>\n",
       "      <td>0</td>\n",
       "      <td>0</td>\n",
       "      <td>0</td>\n",
       "      <td>0</td>\n",
       "      <td>11098744.26</td>\n",
       "    </tr>\n",
       "    <tr>\n",
       "      <th>1</th>\n",
       "      <td>4814</td>\n",
       "      <td>1</td>\n",
       "      <td>0</td>\n",
       "      <td>1</td>\n",
       "      <td>0</td>\n",
       "      <td>1</td>\n",
       "      <td>7881825.53</td>\n",
       "    </tr>\n",
       "    <tr>\n",
       "      <th>2</th>\n",
       "      <td>4814</td>\n",
       "      <td>2</td>\n",
       "      <td>0</td>\n",
       "      <td>2</td>\n",
       "      <td>0</td>\n",
       "      <td>2</td>\n",
       "      <td>6777480.45</td>\n",
       "    </tr>\n",
       "    <tr>\n",
       "      <th>3</th>\n",
       "      <td>4814</td>\n",
       "      <td>3</td>\n",
       "      <td>0</td>\n",
       "      <td>3</td>\n",
       "      <td>0</td>\n",
       "      <td>3</td>\n",
       "      <td>9277943.73</td>\n",
       "    </tr>\n",
       "    <tr>\n",
       "      <th>4</th>\n",
       "      <td>4814</td>\n",
       "      <td>4</td>\n",
       "      <td>0</td>\n",
       "      <td>4</td>\n",
       "      <td>0</td>\n",
       "      <td>4</td>\n",
       "      <td>9999757.21</td>\n",
       "    </tr>\n",
       "  </tbody>\n",
       "</table>\n",
       "</div>"
      ],
      "text/plain": [
       "   mcc_code  day  week_num  week_day  month_num  month_day       amount\n",
       "0      4814    0         0         0          0          0  11098744.26\n",
       "1      4814    1         0         1          0          1   7881825.53\n",
       "2      4814    2         0         2          0          2   6777480.45\n",
       "3      4814    3         0         3          0          3   9277943.73\n",
       "4      4814    4         0         4          0          4   9999757.21"
      ]
     },
     "execution_count": 16,
     "metadata": {},
     "output_type": "execute_result"
    }
   ],
   "source": [
    "#train_transactions['amount'] = -train_transactions.amount\n",
    "train_transactions.head()"
   ]
  },
  {
   "cell_type": "code",
   "execution_count": null,
   "metadata": {
    "collapsed": false
   },
   "outputs": [],
   "source": [
    "train_transactions.head()"
   ]
  },
  {
   "cell_type": "code",
   "execution_count": null,
   "metadata": {
    "collapsed": false
   },
   "outputs": [],
   "source": [
    "for i in range(14):\n",
    "    print(np.mean(train_transactions[train_transactions['month']==i+1].amount)/np.mean(train_transactions[train_transactions['month']==i].amount))"
   ]
  },
  {
   "cell_type": "code",
   "execution_count": null,
   "metadata": {
    "collapsed": false
   },
   "outputs": [],
   "source": [
    "np.mean([1.384754,1.070759,1.537577])"
   ]
  },
  {
   "cell_type": "code",
   "execution_count": null,
   "metadata": {
    "collapsed": false
   },
   "outputs": [],
   "source": [
    "np.mean([43,37.5,39])"
   ]
  },
  {
   "cell_type": "code",
   "execution_count": 17,
   "metadata": {
    "collapsed": false
   },
   "outputs": [
    {
     "ename": "ValueError",
     "evalue": "labels ['month'] not contained in axis",
     "output_type": "error",
     "traceback": [
      "\u001b[0;31m---------------------------------------------------------------------------\u001b[0m",
      "\u001b[0;31mValueError\u001b[0m                                Traceback (most recent call last)",
      "\u001b[0;32m<ipython-input-17-217e77ad5e2e>\u001b[0m in \u001b[0;36m<module>\u001b[0;34m()\u001b[0m\n\u001b[0;32m----> 1\u001b[0;31m \u001b[0mtrain_transactions\u001b[0m\u001b[0;34m.\u001b[0m\u001b[0mdrop\u001b[0m\u001b[0;34m(\u001b[0m\u001b[0;34m[\u001b[0m\u001b[0;34m'month'\u001b[0m\u001b[0;34m]\u001b[0m\u001b[0;34m,\u001b[0m\u001b[0maxis\u001b[0m\u001b[0;34m=\u001b[0m\u001b[0;36m1\u001b[0m\u001b[0;34m,\u001b[0m\u001b[0minplace\u001b[0m\u001b[0;34m=\u001b[0m\u001b[0;32mTrue\u001b[0m\u001b[0;34m)\u001b[0m\u001b[0;34m\u001b[0m\u001b[0m\n\u001b[0m",
      "\u001b[0;32m/home/dz/anaconda3/lib/python3.5/site-packages/pandas/core/generic.py\u001b[0m in \u001b[0;36mdrop\u001b[0;34m(self, labels, axis, level, inplace, errors)\u001b[0m\n\u001b[1;32m   1615\u001b[0m                 \u001b[0mnew_axis\u001b[0m \u001b[0;34m=\u001b[0m \u001b[0maxis\u001b[0m\u001b[0;34m.\u001b[0m\u001b[0mdrop\u001b[0m\u001b[0;34m(\u001b[0m\u001b[0mlabels\u001b[0m\u001b[0;34m,\u001b[0m \u001b[0mlevel\u001b[0m\u001b[0;34m=\u001b[0m\u001b[0mlevel\u001b[0m\u001b[0;34m,\u001b[0m \u001b[0merrors\u001b[0m\u001b[0;34m=\u001b[0m\u001b[0merrors\u001b[0m\u001b[0;34m)\u001b[0m\u001b[0;34m\u001b[0m\u001b[0m\n\u001b[1;32m   1616\u001b[0m             \u001b[0;32melse\u001b[0m\u001b[0;34m:\u001b[0m\u001b[0;34m\u001b[0m\u001b[0m\n\u001b[0;32m-> 1617\u001b[0;31m                 \u001b[0mnew_axis\u001b[0m \u001b[0;34m=\u001b[0m \u001b[0maxis\u001b[0m\u001b[0;34m.\u001b[0m\u001b[0mdrop\u001b[0m\u001b[0;34m(\u001b[0m\u001b[0mlabels\u001b[0m\u001b[0;34m,\u001b[0m \u001b[0merrors\u001b[0m\u001b[0;34m=\u001b[0m\u001b[0merrors\u001b[0m\u001b[0;34m)\u001b[0m\u001b[0;34m\u001b[0m\u001b[0m\n\u001b[0m\u001b[1;32m   1618\u001b[0m             \u001b[0mdropped\u001b[0m \u001b[0;34m=\u001b[0m \u001b[0mself\u001b[0m\u001b[0;34m.\u001b[0m\u001b[0mreindex\u001b[0m\u001b[0;34m(\u001b[0m\u001b[0;34m**\u001b[0m\u001b[0;34m{\u001b[0m\u001b[0maxis_name\u001b[0m\u001b[0;34m:\u001b[0m \u001b[0mnew_axis\u001b[0m\u001b[0;34m}\u001b[0m\u001b[0;34m)\u001b[0m\u001b[0;34m\u001b[0m\u001b[0m\n\u001b[1;32m   1619\u001b[0m             \u001b[0;32mtry\u001b[0m\u001b[0;34m:\u001b[0m\u001b[0;34m\u001b[0m\u001b[0m\n",
      "\u001b[0;32m/home/dz/anaconda3/lib/python3.5/site-packages/pandas/core/index.py\u001b[0m in \u001b[0;36mdrop\u001b[0;34m(self, labels, errors)\u001b[0m\n\u001b[1;32m   2801\u001b[0m         \u001b[0;32mif\u001b[0m \u001b[0mmask\u001b[0m\u001b[0;34m.\u001b[0m\u001b[0many\u001b[0m\u001b[0;34m(\u001b[0m\u001b[0;34m)\u001b[0m\u001b[0;34m:\u001b[0m\u001b[0;34m\u001b[0m\u001b[0m\n\u001b[1;32m   2802\u001b[0m             \u001b[0;32mif\u001b[0m \u001b[0merrors\u001b[0m \u001b[0;34m!=\u001b[0m \u001b[0;34m'ignore'\u001b[0m\u001b[0;34m:\u001b[0m\u001b[0;34m\u001b[0m\u001b[0m\n\u001b[0;32m-> 2803\u001b[0;31m                 \u001b[0;32mraise\u001b[0m \u001b[0mValueError\u001b[0m\u001b[0;34m(\u001b[0m\u001b[0;34m'labels %s not contained in axis'\u001b[0m \u001b[0;34m%\u001b[0m \u001b[0mlabels\u001b[0m\u001b[0;34m[\u001b[0m\u001b[0mmask\u001b[0m\u001b[0;34m]\u001b[0m\u001b[0;34m)\u001b[0m\u001b[0;34m\u001b[0m\u001b[0m\n\u001b[0m\u001b[1;32m   2804\u001b[0m             \u001b[0mindexer\u001b[0m \u001b[0;34m=\u001b[0m \u001b[0mindexer\u001b[0m\u001b[0;34m[\u001b[0m\u001b[0;34m~\u001b[0m\u001b[0mmask\u001b[0m\u001b[0;34m]\u001b[0m\u001b[0;34m\u001b[0m\u001b[0m\n\u001b[1;32m   2805\u001b[0m         \u001b[0;32mreturn\u001b[0m \u001b[0mself\u001b[0m\u001b[0;34m.\u001b[0m\u001b[0mdelete\u001b[0m\u001b[0;34m(\u001b[0m\u001b[0mindexer\u001b[0m\u001b[0;34m)\u001b[0m\u001b[0;34m\u001b[0m\u001b[0m\n",
      "\u001b[0;31mValueError\u001b[0m: labels ['month'] not contained in axis"
     ]
    }
   ],
   "source": [
    "train_transactions.drop(['month'],axis=1,inplace=True)"
   ]
  },
  {
   "cell_type": "code",
   "execution_count": 18,
   "metadata": {
    "collapsed": true
   },
   "outputs": [],
   "source": [
    "data = train_transactions.copy()"
   ]
  },
  {
   "cell_type": "code",
   "execution_count": 205,
   "metadata": {
    "collapsed": false
   },
   "outputs": [
    {
     "data": {
      "text/plain": [
       "(4125865.9492456163, 50458.085000000006)"
      ]
     },
     "execution_count": 205,
     "metadata": {},
     "output_type": "execute_result"
    }
   ],
   "source": [
    "np.mean(train_transactions.amount),np.median(train_transactions.amount)"
   ]
  },
  {
   "cell_type": "code",
   "execution_count": 120,
   "metadata": {
    "collapsed": true
   },
   "outputs": [],
   "source": [
    "#+ назад,-вперед\n"
   ]
  },
  {
   "cell_type": "code",
   "execution_count": 389,
   "metadata": {
    "collapsed": true
   },
   "outputs": [],
   "source": [
    "train_transactions=data.copy()"
   ]
  },
  {
   "cell_type": "code",
   "execution_count": 390,
   "metadata": {
    "collapsed": false
   },
   "outputs": [],
   "source": [
    "for day_shift in [-30,-29,-28,-27,-26,-25,-24,-23,-22,-21,-20,-19,-18,-17,-16,-15,-14,-13,-12,-11,-10,-9,-8,-7,-6,-5,-4,-3,-2,-1,0,1,2,3,4,5,6,7,8,9,10,11,12,13,14,15,16,17,18,19,20,21,22,23,24,25,26,27,28,29,30]:\n",
    "    \n",
    "    for month_shift in [1,2]:# train_transactions.month_num.unique()[1:]:#in [1]:#\n",
    "        \n",
    "        train_shift = train_transactions.copy()\n",
    "        train_shift['month_num'] += month_shift\n",
    "        train_shift['month_day'] += day_shift\n",
    "        train_shift['amount_day_{}_{}'.format(day_shift, month_shift)] = np.log(train_shift['amount']+500)\n",
    "        train_shift = train_shift[['month_num', 'month_day', 'mcc_code', 'amount_day_{}_{}'.format(day_shift, month_shift)]]\n",
    "\n",
    "        train_transactions = pd.merge(train_transactions, train_shift, \n",
    "                                      on=['month_num', 'month_day', 'mcc_code'], how='left').fillna(0)\n",
    "        test_transactions = pd.merge(test_transactions, train_shift, \n",
    "                                     on=['month_num', 'month_day', 'mcc_code'], how='left').fillna(0)"
   ]
  },
  {
   "cell_type": "markdown",
   "metadata": {},
   "source": [
    "# Validation"
   ]
  },
  {
   "cell_type": "code",
   "execution_count": 440,
   "metadata": {
    "collapsed": false
   },
   "outputs": [
    {
     "name": "stdout",
     "output_type": "stream",
     "text": [
      "(84088, 129)\n"
     ]
    }
   ],
   "source": [
    "features = list(train_transactions.columns)\n",
    "print(train_transactions.shape)"
   ]
  },
  {
   "cell_type": "code",
   "execution_count": null,
   "metadata": {
    "collapsed": true
   },
   "outputs": [],
   "source": []
  },
  {
   "cell_type": "code",
   "execution_count": 441,
   "metadata": {
    "collapsed": false
   },
   "outputs": [
    {
     "name": "stdout",
     "output_type": "stream",
     "text": [
      "(5520, 129)\n"
     ]
    },
    {
     "data": {
      "text/html": [
       "<div>\n",
       "<table border=\"1\" class=\"dataframe\">\n",
       "  <thead>\n",
       "    <tr style=\"text-align: right;\">\n",
       "      <th></th>\n",
       "      <th>mcc_code</th>\n",
       "      <th>day</th>\n",
       "      <th>week_num</th>\n",
       "      <th>week_day</th>\n",
       "      <th>month_num</th>\n",
       "      <th>month_day</th>\n",
       "      <th>amount</th>\n",
       "      <th>amount_day_-30_1</th>\n",
       "      <th>amount_day_-30_2</th>\n",
       "      <th>amount_day_-29_1</th>\n",
       "      <th>...</th>\n",
       "      <th>amount_day_26_1</th>\n",
       "      <th>amount_day_26_2</th>\n",
       "      <th>amount_day_27_1</th>\n",
       "      <th>amount_day_27_2</th>\n",
       "      <th>amount_day_28_1</th>\n",
       "      <th>amount_day_28_2</th>\n",
       "      <th>amount_day_29_1</th>\n",
       "      <th>amount_day_29_2</th>\n",
       "      <th>amount_day_30_1</th>\n",
       "      <th>amount_day_30_2</th>\n",
       "    </tr>\n",
       "  </thead>\n",
       "  <tbody>\n",
       "    <tr>\n",
       "      <th>294</th>\n",
       "      <td>4814</td>\n",
       "      <td>427</td>\n",
       "      <td>61</td>\n",
       "      <td>0</td>\n",
       "      <td>14</td>\n",
       "      <td>7</td>\n",
       "      <td>13178736.00</td>\n",
       "      <td>0</td>\n",
       "      <td>0</td>\n",
       "      <td>0</td>\n",
       "      <td>...</td>\n",
       "      <td>0</td>\n",
       "      <td>0</td>\n",
       "      <td>0</td>\n",
       "      <td>0</td>\n",
       "      <td>0</td>\n",
       "      <td>0</td>\n",
       "      <td>0</td>\n",
       "      <td>0</td>\n",
       "      <td>0</td>\n",
       "      <td>0</td>\n",
       "    </tr>\n",
       "    <tr>\n",
       "      <th>295</th>\n",
       "      <td>4814</td>\n",
       "      <td>428</td>\n",
       "      <td>61</td>\n",
       "      <td>1</td>\n",
       "      <td>14</td>\n",
       "      <td>8</td>\n",
       "      <td>8886759.49</td>\n",
       "      <td>0</td>\n",
       "      <td>0</td>\n",
       "      <td>0</td>\n",
       "      <td>...</td>\n",
       "      <td>0</td>\n",
       "      <td>0</td>\n",
       "      <td>0</td>\n",
       "      <td>0</td>\n",
       "      <td>0</td>\n",
       "      <td>0</td>\n",
       "      <td>0</td>\n",
       "      <td>0</td>\n",
       "      <td>0</td>\n",
       "      <td>0</td>\n",
       "    </tr>\n",
       "    <tr>\n",
       "      <th>296</th>\n",
       "      <td>4814</td>\n",
       "      <td>429</td>\n",
       "      <td>61</td>\n",
       "      <td>2</td>\n",
       "      <td>14</td>\n",
       "      <td>9</td>\n",
       "      <td>8119948.53</td>\n",
       "      <td>0</td>\n",
       "      <td>0</td>\n",
       "      <td>0</td>\n",
       "      <td>...</td>\n",
       "      <td>0</td>\n",
       "      <td>0</td>\n",
       "      <td>0</td>\n",
       "      <td>0</td>\n",
       "      <td>0</td>\n",
       "      <td>0</td>\n",
       "      <td>0</td>\n",
       "      <td>0</td>\n",
       "      <td>0</td>\n",
       "      <td>0</td>\n",
       "    </tr>\n",
       "    <tr>\n",
       "      <th>297</th>\n",
       "      <td>4814</td>\n",
       "      <td>430</td>\n",
       "      <td>61</td>\n",
       "      <td>3</td>\n",
       "      <td>14</td>\n",
       "      <td>10</td>\n",
       "      <td>11046747.74</td>\n",
       "      <td>0</td>\n",
       "      <td>0</td>\n",
       "      <td>0</td>\n",
       "      <td>...</td>\n",
       "      <td>0</td>\n",
       "      <td>0</td>\n",
       "      <td>0</td>\n",
       "      <td>0</td>\n",
       "      <td>0</td>\n",
       "      <td>0</td>\n",
       "      <td>0</td>\n",
       "      <td>0</td>\n",
       "      <td>0</td>\n",
       "      <td>0</td>\n",
       "    </tr>\n",
       "    <tr>\n",
       "      <th>298</th>\n",
       "      <td>4814</td>\n",
       "      <td>431</td>\n",
       "      <td>61</td>\n",
       "      <td>4</td>\n",
       "      <td>14</td>\n",
       "      <td>11</td>\n",
       "      <td>11347381.37</td>\n",
       "      <td>0</td>\n",
       "      <td>0</td>\n",
       "      <td>0</td>\n",
       "      <td>...</td>\n",
       "      <td>0</td>\n",
       "      <td>0</td>\n",
       "      <td>0</td>\n",
       "      <td>0</td>\n",
       "      <td>0</td>\n",
       "      <td>0</td>\n",
       "      <td>0</td>\n",
       "      <td>0</td>\n",
       "      <td>0</td>\n",
       "      <td>0</td>\n",
       "    </tr>\n",
       "  </tbody>\n",
       "</table>\n",
       "<p>5 rows × 129 columns</p>\n",
       "</div>"
      ],
      "text/plain": [
       "     mcc_code  day  week_num  week_day  month_num  month_day       amount  \\\n",
       "294      4814  427        61         0         14          7  13178736.00   \n",
       "295      4814  428        61         1         14          8   8886759.49   \n",
       "296      4814  429        61         2         14          9   8119948.53   \n",
       "297      4814  430        61         3         14         10  11046747.74   \n",
       "298      4814  431        61         4         14         11  11347381.37   \n",
       "\n",
       "     amount_day_-30_1  amount_day_-30_2  amount_day_-29_1       ...         \\\n",
       "294                 0                 0                 0       ...          \n",
       "295                 0                 0                 0       ...          \n",
       "296                 0                 0                 0       ...          \n",
       "297                 0                 0                 0       ...          \n",
       "298                 0                 0                 0       ...          \n",
       "\n",
       "     amount_day_26_1  amount_day_26_2  amount_day_27_1  amount_day_27_2  \\\n",
       "294                0                0                0                0   \n",
       "295                0                0                0                0   \n",
       "296                0                0                0                0   \n",
       "297                0                0                0                0   \n",
       "298                0                0                0                0   \n",
       "\n",
       "     amount_day_28_1  amount_day_28_2  amount_day_29_1  amount_day_29_2  \\\n",
       "294                0                0                0                0   \n",
       "295                0                0                0                0   \n",
       "296                0                0                0                0   \n",
       "297                0                0                0                0   \n",
       "298                0                0                0                0   \n",
       "\n",
       "     amount_day_30_1  amount_day_30_2  \n",
       "294                0                0  \n",
       "295                0                0  \n",
       "296                0                0  \n",
       "297                0                0  \n",
       "298                0                0  \n",
       "\n",
       "[5 rows x 129 columns]"
      ]
     },
     "execution_count": 441,
     "metadata": {},
     "output_type": "execute_result"
    }
   ],
   "source": [
    "Xval = train_transactions.loc[(train_transactions[\"month_num\"]==15) | ((train_transactions[\"month_num\"]==14)& (train_transactions[\"month_day\"]>6)),features]\n",
    "print(Xval.shape)\n",
    "z = Xval.index\n",
    "Xval.head()"
   ]
  },
  {
   "cell_type": "code",
   "execution_count": 452,
   "metadata": {
    "collapsed": false
   },
   "outputs": [
    {
     "name": "stdout",
     "output_type": "stream",
     "text": [
      "(39928, 129)\n"
     ]
    },
    {
     "data": {
      "text/html": [
       "<div>\n",
       "<table border=\"1\" class=\"dataframe\">\n",
       "  <thead>\n",
       "    <tr style=\"text-align: right;\">\n",
       "      <th></th>\n",
       "      <th>mcc_code</th>\n",
       "      <th>day</th>\n",
       "      <th>week_num</th>\n",
       "      <th>week_day</th>\n",
       "      <th>month_num</th>\n",
       "      <th>month_day</th>\n",
       "      <th>amount</th>\n",
       "      <th>amount_day_-30_1</th>\n",
       "      <th>amount_day_-30_2</th>\n",
       "      <th>amount_day_-29_1</th>\n",
       "      <th>...</th>\n",
       "      <th>amount_day_26_1</th>\n",
       "      <th>amount_day_26_2</th>\n",
       "      <th>amount_day_27_1</th>\n",
       "      <th>amount_day_27_2</th>\n",
       "      <th>amount_day_28_1</th>\n",
       "      <th>amount_day_28_2</th>\n",
       "      <th>amount_day_29_1</th>\n",
       "      <th>amount_day_29_2</th>\n",
       "      <th>amount_day_30_1</th>\n",
       "      <th>amount_day_30_2</th>\n",
       "    </tr>\n",
       "  </thead>\n",
       "  <tbody>\n",
       "    <tr>\n",
       "      <th>137</th>\n",
       "      <td>4814</td>\n",
       "      <td>210</td>\n",
       "      <td>30</td>\n",
       "      <td>0</td>\n",
       "      <td>7</td>\n",
       "      <td>0</td>\n",
       "      <td>11807132.98</td>\n",
       "      <td>0</td>\n",
       "      <td>0</td>\n",
       "      <td>16.324982</td>\n",
       "      <td>...</td>\n",
       "      <td>0</td>\n",
       "      <td>0</td>\n",
       "      <td>0</td>\n",
       "      <td>0</td>\n",
       "      <td>0</td>\n",
       "      <td>0</td>\n",
       "      <td>0</td>\n",
       "      <td>0</td>\n",
       "      <td>0</td>\n",
       "      <td>0</td>\n",
       "    </tr>\n",
       "    <tr>\n",
       "      <th>138</th>\n",
       "      <td>4814</td>\n",
       "      <td>211</td>\n",
       "      <td>30</td>\n",
       "      <td>1</td>\n",
       "      <td>7</td>\n",
       "      <td>1</td>\n",
       "      <td>10125215.38</td>\n",
       "      <td>0</td>\n",
       "      <td>0</td>\n",
       "      <td>0.000000</td>\n",
       "      <td>...</td>\n",
       "      <td>0</td>\n",
       "      <td>0</td>\n",
       "      <td>0</td>\n",
       "      <td>0</td>\n",
       "      <td>0</td>\n",
       "      <td>0</td>\n",
       "      <td>0</td>\n",
       "      <td>0</td>\n",
       "      <td>0</td>\n",
       "      <td>0</td>\n",
       "    </tr>\n",
       "    <tr>\n",
       "      <th>139</th>\n",
       "      <td>4814</td>\n",
       "      <td>213</td>\n",
       "      <td>30</td>\n",
       "      <td>3</td>\n",
       "      <td>7</td>\n",
       "      <td>3</td>\n",
       "      <td>12183943.03</td>\n",
       "      <td>0</td>\n",
       "      <td>0</td>\n",
       "      <td>0.000000</td>\n",
       "      <td>...</td>\n",
       "      <td>0</td>\n",
       "      <td>0</td>\n",
       "      <td>0</td>\n",
       "      <td>0</td>\n",
       "      <td>0</td>\n",
       "      <td>0</td>\n",
       "      <td>0</td>\n",
       "      <td>0</td>\n",
       "      <td>0</td>\n",
       "      <td>0</td>\n",
       "    </tr>\n",
       "    <tr>\n",
       "      <th>140</th>\n",
       "      <td>4814</td>\n",
       "      <td>214</td>\n",
       "      <td>30</td>\n",
       "      <td>4</td>\n",
       "      <td>7</td>\n",
       "      <td>4</td>\n",
       "      <td>9410543.81</td>\n",
       "      <td>0</td>\n",
       "      <td>0</td>\n",
       "      <td>0.000000</td>\n",
       "      <td>...</td>\n",
       "      <td>0</td>\n",
       "      <td>0</td>\n",
       "      <td>0</td>\n",
       "      <td>0</td>\n",
       "      <td>0</td>\n",
       "      <td>0</td>\n",
       "      <td>0</td>\n",
       "      <td>0</td>\n",
       "      <td>0</td>\n",
       "      <td>0</td>\n",
       "    </tr>\n",
       "    <tr>\n",
       "      <th>141</th>\n",
       "      <td>4814</td>\n",
       "      <td>215</td>\n",
       "      <td>30</td>\n",
       "      <td>5</td>\n",
       "      <td>7</td>\n",
       "      <td>5</td>\n",
       "      <td>8776986.56</td>\n",
       "      <td>0</td>\n",
       "      <td>0</td>\n",
       "      <td>0.000000</td>\n",
       "      <td>...</td>\n",
       "      <td>0</td>\n",
       "      <td>0</td>\n",
       "      <td>0</td>\n",
       "      <td>0</td>\n",
       "      <td>0</td>\n",
       "      <td>0</td>\n",
       "      <td>0</td>\n",
       "      <td>0</td>\n",
       "      <td>0</td>\n",
       "      <td>0</td>\n",
       "    </tr>\n",
       "  </tbody>\n",
       "</table>\n",
       "<p>5 rows × 129 columns</p>\n",
       "</div>"
      ],
      "text/plain": [
       "     mcc_code  day  week_num  week_day  month_num  month_day       amount  \\\n",
       "137      4814  210        30         0          7          0  11807132.98   \n",
       "138      4814  211        30         1          7          1  10125215.38   \n",
       "139      4814  213        30         3          7          3  12183943.03   \n",
       "140      4814  214        30         4          7          4   9410543.81   \n",
       "141      4814  215        30         5          7          5   8776986.56   \n",
       "\n",
       "     amount_day_-30_1  amount_day_-30_2  amount_day_-29_1       ...         \\\n",
       "137                 0                 0         16.324982       ...          \n",
       "138                 0                 0          0.000000       ...          \n",
       "139                 0                 0          0.000000       ...          \n",
       "140                 0                 0          0.000000       ...          \n",
       "141                 0                 0          0.000000       ...          \n",
       "\n",
       "     amount_day_26_1  amount_day_26_2  amount_day_27_1  amount_day_27_2  \\\n",
       "137                0                0                0                0   \n",
       "138                0                0                0                0   \n",
       "139                0                0                0                0   \n",
       "140                0                0                0                0   \n",
       "141                0                0                0                0   \n",
       "\n",
       "     amount_day_28_1  amount_day_28_2  amount_day_29_1  amount_day_29_2  \\\n",
       "137                0                0                0                0   \n",
       "138                0                0                0                0   \n",
       "139                0                0                0                0   \n",
       "140                0                0                0                0   \n",
       "141                0                0                0                0   \n",
       "\n",
       "     amount_day_30_1  amount_day_30_2  \n",
       "137                0                0  \n",
       "138                0                0  \n",
       "139                0                0  \n",
       "140                0                0  \n",
       "141                0                0  \n",
       "\n",
       "[5 rows x 129 columns]"
      ]
     },
     "execution_count": 452,
     "metadata": {},
     "output_type": "execute_result"
    }
   ],
   "source": [
    "Xtrain =  train_transactions.loc[list(set(train_transactions.index)-set(z)),features]\n",
    "Xtrain = Xtrain[Xtrain['month_num']>6]\n",
    "print(Xtrain.shape)\n",
    "Xtrain.head()"
   ]
  },
  {
   "cell_type": "code",
   "execution_count": 458,
   "metadata": {
    "collapsed": false
   },
   "outputs": [],
   "source": [
    "Xtrain = pd.get_dummies(Xtrain,columns=['mcc_code'])\n",
    "Xval = pd.get_dummies(Xval, columns=['mcc_code'])"
   ]
  },
  {
   "cell_type": "code",
   "execution_count": 459,
   "metadata": {
    "collapsed": true
   },
   "outputs": [],
   "source": [
    "feat = list(set(Xtrain.columns)-{'amount'})"
   ]
  },
  {
   "cell_type": "code",
   "execution_count": 460,
   "metadata": {
    "collapsed": false
   },
   "outputs": [],
   "source": [
    "shift = 500\n",
    "dtr = xgb.DMatrix(Xtrain[feat], label=np.log(Xtrain['amount'] + shift))\n",
    "dval = xgb.DMatrix(Xval[feat], label=np.log(Xval['amount'] + shift))\n",
    "watchlist = [(dtr, 'train'), (dval, 'eval')]\n",
    "history = dict()"
   ]
  },
  {
   "cell_type": "code",
   "execution_count": 464,
   "metadata": {
    "collapsed": true
   },
   "outputs": [],
   "source": [
    "params = {\n",
    "    'max_depth': 4,\n",
    "    'eta': 0.05,\n",
    "    'nthread': 4,\n",
    "    'subsample': 0.8,\n",
    "    'eval_metric': ['rmse'],\n",
    "    'objective': 'reg:linear',\n",
    "    'colsample_bytree': 0.6,\n",
    "    'min_child_weight': 0,\n",
    "    #'scale_pos_weight':(1-train.Label.mean())/train.Label.mean(),\n",
    "    'seed':7\n",
    "}"
   ]
  },
  {
   "cell_type": "code",
   "execution_count": 470,
   "metadata": {
    "collapsed": false
   },
   "outputs": [
    {
     "data": {
      "text/plain": [
       "XGBRegressor(base_score=0.5, colsample_bylevel=1, colsample_bytree=0.6,\n",
       "       gamma=0, learning_rate=0.05, max_delta_step=0, max_depth=4,\n",
       "       min_child_weight=0, missing=None, n_estimators=300, nthread=-1,\n",
       "       objective='reg:linear', reg_alpha=0, reg_lambda=1,\n",
       "       scale_pos_weight=1, seed=7, silent=True, subsample=0.8)"
      ]
     },
     "execution_count": 470,
     "metadata": {},
     "output_type": "execute_result"
    }
   ],
   "source": [
    "clf.fit(Xtrain[feat], np.log(Xtrain['amount'] + shift))"
   ]
  },
  {
   "cell_type": "code",
   "execution_count": 471,
   "metadata": {
    "collapsed": true
   },
   "outputs": [],
   "source": [
    "pred = clf.predict(Xval[feat])"
   ]
  },
  {
   "cell_type": "code",
   "execution_count": 473,
   "metadata": {
    "collapsed": false
   },
   "outputs": [
    {
     "data": {
      "text/plain": [
       "1.5695946841565791"
      ]
     },
     "execution_count": 473,
     "metadata": {},
     "output_type": "execute_result"
    }
   ],
   "source": [
    "from sklearn.metrics import mean_squared_error\n",
    "np.sqrt(mean_squared_error(np.log(Xval['amount'] + shift), pred))"
   ]
  },
  {
   "cell_type": "code",
   "execution_count": 466,
   "metadata": {
    "collapsed": false
   },
   "outputs": [
    {
     "name": "stdout",
     "output_type": "stream",
     "text": [
      "[0]\ttrain-rmse:10.1008\teval-rmse:10.2415\n",
      "[10]\ttrain-rmse:6.20794\teval-rmse:6.29242\n",
      "[20]\ttrain-rmse:3.95031\teval-rmse:3.99684\n",
      "[30]\ttrain-rmse:2.69781\teval-rmse:2.72401\n",
      "[40]\ttrain-rmse:2.05944\teval-rmse:2.07579\n",
      "[50]\ttrain-rmse:1.76629\teval-rmse:1.77982\n",
      "[60]\ttrain-rmse:1.64308\teval-rmse:1.65889\n",
      "[70]\ttrain-rmse:1.59203\teval-rmse:1.61245\n",
      "[80]\ttrain-rmse:1.56884\teval-rmse:1.59431\n",
      "[90]\ttrain-rmse:1.55676\teval-rmse:1.58625\n",
      "[100]\ttrain-rmse:1.54912\teval-rmse:1.58239\n",
      "[110]\ttrain-rmse:1.54338\teval-rmse:1.57981\n",
      "[120]\ttrain-rmse:1.53847\teval-rmse:1.57784\n",
      "[130]\ttrain-rmse:1.53435\teval-rmse:1.57712\n",
      "[140]\ttrain-rmse:1.52987\teval-rmse:1.57486\n",
      "[150]\ttrain-rmse:1.5261\teval-rmse:1.57228\n",
      "[160]\ttrain-rmse:1.52233\teval-rmse:1.57245\n",
      "[170]\ttrain-rmse:1.51848\teval-rmse:1.57222\n",
      "[180]\ttrain-rmse:1.51484\teval-rmse:1.57178\n",
      "[190]\ttrain-rmse:1.51161\teval-rmse:1.57103\n",
      "[200]\ttrain-rmse:1.50823\teval-rmse:1.5703\n",
      "[210]\ttrain-rmse:1.50479\teval-rmse:1.57054\n",
      "[220]\ttrain-rmse:1.50188\teval-rmse:1.5708\n",
      "[230]\ttrain-rmse:1.49873\teval-rmse:1.57055\n",
      "[240]\ttrain-rmse:1.4958\teval-rmse:1.57082\n",
      "[250]\ttrain-rmse:1.49287\teval-rmse:1.57088\n",
      "[260]\ttrain-rmse:1.49047\teval-rmse:1.57026\n",
      "[270]\ttrain-rmse:1.48792\teval-rmse:1.57037\n",
      "[280]\ttrain-rmse:1.48514\teval-rmse:1.57021\n",
      "[290]\ttrain-rmse:1.48213\teval-rmse:1.56988\n",
      "[300]\ttrain-rmse:1.47931\teval-rmse:1.56957\n",
      "[310]\ttrain-rmse:1.47679\teval-rmse:1.57065\n",
      "[320]\ttrain-rmse:1.47414\teval-rmse:1.57121\n",
      "[330]\ttrain-rmse:1.47178\teval-rmse:1.57081\n"
     ]
    },
    {
     "ename": "KeyboardInterrupt",
     "evalue": "",
     "output_type": "error",
     "traceback": [
      "\u001b[0;31m---------------------------------------------------------------------------\u001b[0m",
      "\u001b[0;31mKeyboardInterrupt\u001b[0m                         Traceback (most recent call last)",
      "\u001b[0;32m<ipython-input-466-07748f8037cc>\u001b[0m in \u001b[0;36m<module>\u001b[0;34m()\u001b[0m\n\u001b[0;32m----> 1\u001b[0;31m \u001b[0mmodel\u001b[0m \u001b[0;34m=\u001b[0m \u001b[0mxgb\u001b[0m\u001b[0;34m.\u001b[0m\u001b[0mtrain\u001b[0m\u001b[0;34m(\u001b[0m\u001b[0mparams\u001b[0m\u001b[0;34m,\u001b[0m \u001b[0mdtr\u001b[0m\u001b[0;34m,\u001b[0m \u001b[0mnum_boost_round\u001b[0m\u001b[0;34m=\u001b[0m\u001b[0;36m1000\u001b[0m\u001b[0;34m,\u001b[0m \u001b[0mevals\u001b[0m\u001b[0;34m=\u001b[0m\u001b[0mwatchlist\u001b[0m\u001b[0;34m,\u001b[0m\u001b[0mevals_result\u001b[0m\u001b[0;34m=\u001b[0m\u001b[0mhistory\u001b[0m\u001b[0;34m,\u001b[0m \u001b[0mverbose_eval\u001b[0m\u001b[0;34m=\u001b[0m\u001b[0;36m10\u001b[0m\u001b[0;34m)\u001b[0m\u001b[0;34m\u001b[0m\u001b[0m\n\u001b[0m",
      "\u001b[0;32m/home/dz/anaconda3/lib/python3.5/site-packages/xgboost/training.py\u001b[0m in \u001b[0;36mtrain\u001b[0;34m(params, dtrain, num_boost_round, evals, obj, feval, maximize, early_stopping_rounds, evals_result, verbose_eval, learning_rates, xgb_model, callbacks)\u001b[0m\n\u001b[1;32m    203\u001b[0m                            \u001b[0mevals\u001b[0m\u001b[0;34m=\u001b[0m\u001b[0mevals\u001b[0m\u001b[0;34m,\u001b[0m\u001b[0;34m\u001b[0m\u001b[0m\n\u001b[1;32m    204\u001b[0m                            \u001b[0mobj\u001b[0m\u001b[0;34m=\u001b[0m\u001b[0mobj\u001b[0m\u001b[0;34m,\u001b[0m \u001b[0mfeval\u001b[0m\u001b[0;34m=\u001b[0m\u001b[0mfeval\u001b[0m\u001b[0;34m,\u001b[0m\u001b[0;34m\u001b[0m\u001b[0m\n\u001b[0;32m--> 205\u001b[0;31m                            xgb_model=xgb_model, callbacks=callbacks)\n\u001b[0m\u001b[1;32m    206\u001b[0m \u001b[0;34m\u001b[0m\u001b[0m\n\u001b[1;32m    207\u001b[0m \u001b[0;34m\u001b[0m\u001b[0m\n",
      "\u001b[0;32m/home/dz/anaconda3/lib/python3.5/site-packages/xgboost/training.py\u001b[0m in \u001b[0;36m_train_internal\u001b[0;34m(params, dtrain, num_boost_round, evals, obj, feval, xgb_model, callbacks)\u001b[0m\n\u001b[1;32m     74\u001b[0m         \u001b[0;31m# Skip the first update if it is a recovery step.\u001b[0m\u001b[0;34m\u001b[0m\u001b[0;34m\u001b[0m\u001b[0m\n\u001b[1;32m     75\u001b[0m         \u001b[0;32mif\u001b[0m \u001b[0mversion\u001b[0m \u001b[0;34m%\u001b[0m \u001b[0;36m2\u001b[0m \u001b[0;34m==\u001b[0m \u001b[0;36m0\u001b[0m\u001b[0;34m:\u001b[0m\u001b[0;34m\u001b[0m\u001b[0m\n\u001b[0;32m---> 76\u001b[0;31m             \u001b[0mbst\u001b[0m\u001b[0;34m.\u001b[0m\u001b[0mupdate\u001b[0m\u001b[0;34m(\u001b[0m\u001b[0mdtrain\u001b[0m\u001b[0;34m,\u001b[0m \u001b[0mi\u001b[0m\u001b[0;34m,\u001b[0m \u001b[0mobj\u001b[0m\u001b[0;34m)\u001b[0m\u001b[0;34m\u001b[0m\u001b[0m\n\u001b[0m\u001b[1;32m     77\u001b[0m             \u001b[0mbst\u001b[0m\u001b[0;34m.\u001b[0m\u001b[0msave_rabit_checkpoint\u001b[0m\u001b[0;34m(\u001b[0m\u001b[0;34m)\u001b[0m\u001b[0;34m\u001b[0m\u001b[0m\n\u001b[1;32m     78\u001b[0m             \u001b[0mversion\u001b[0m \u001b[0;34m+=\u001b[0m \u001b[0;36m1\u001b[0m\u001b[0;34m\u001b[0m\u001b[0m\n",
      "\u001b[0;32m/home/dz/anaconda3/lib/python3.5/site-packages/xgboost/core.py\u001b[0m in \u001b[0;36mupdate\u001b[0;34m(self, dtrain, iteration, fobj)\u001b[0m\n\u001b[1;32m    804\u001b[0m \u001b[0;34m\u001b[0m\u001b[0m\n\u001b[1;32m    805\u001b[0m         \u001b[0;32mif\u001b[0m \u001b[0mfobj\u001b[0m \u001b[0;32mis\u001b[0m \u001b[0;32mNone\u001b[0m\u001b[0;34m:\u001b[0m\u001b[0;34m\u001b[0m\u001b[0m\n\u001b[0;32m--> 806\u001b[0;31m             \u001b[0m_check_call\u001b[0m\u001b[0;34m(\u001b[0m\u001b[0m_LIB\u001b[0m\u001b[0;34m.\u001b[0m\u001b[0mXGBoosterUpdateOneIter\u001b[0m\u001b[0;34m(\u001b[0m\u001b[0mself\u001b[0m\u001b[0;34m.\u001b[0m\u001b[0mhandle\u001b[0m\u001b[0;34m,\u001b[0m \u001b[0miteration\u001b[0m\u001b[0;34m,\u001b[0m \u001b[0mdtrain\u001b[0m\u001b[0;34m.\u001b[0m\u001b[0mhandle\u001b[0m\u001b[0;34m)\u001b[0m\u001b[0;34m)\u001b[0m\u001b[0;34m\u001b[0m\u001b[0m\n\u001b[0m\u001b[1;32m    807\u001b[0m         \u001b[0;32melse\u001b[0m\u001b[0;34m:\u001b[0m\u001b[0;34m\u001b[0m\u001b[0m\n\u001b[1;32m    808\u001b[0m             \u001b[0mpred\u001b[0m \u001b[0;34m=\u001b[0m \u001b[0mself\u001b[0m\u001b[0;34m.\u001b[0m\u001b[0mpredict\u001b[0m\u001b[0;34m(\u001b[0m\u001b[0mdtrain\u001b[0m\u001b[0;34m)\u001b[0m\u001b[0;34m\u001b[0m\u001b[0m\n",
      "\u001b[0;31mKeyboardInterrupt\u001b[0m: "
     ]
    }
   ],
   "source": [
    "model = xgb.train(params, dtr, num_boost_round=1000, evals=watchlist,evals_result=history, verbose_eval=10)"
   ]
  },
  {
   "cell_type": "code",
   "execution_count": 427,
   "metadata": {
    "collapsed": false
   },
   "outputs": [
    {
     "name": "stdout",
     "output_type": "stream",
     "text": [
      "[0]\ttrain-rmse:10.1008+0.0113875\ttest-rmse:10.101+0.0230824\n",
      "[0]\ttrain-rmse:10.1008+0.0113875\ttest-rmse:10.101+0.0230824\n",
      "[1]\ttrain-rmse:9.61242+0.0107226\ttest-rmse:9.61259+0.0222459\n",
      "[2]\ttrain-rmse:9.14917+0.0100144\ttest-rmse:9.14979+0.0219871\n",
      "[3]\ttrain-rmse:8.70976+0.00940378\ttest-rmse:8.71064+0.0214687\n",
      "[4]\ttrain-rmse:8.29298+0.00895601\ttest-rmse:8.29413+0.0203822\n",
      "[5]\ttrain-rmse:7.89754+0.00839295\ttest-rmse:7.89888+0.0196945\n",
      "[6]\ttrain-rmse:7.52291+0.00776791\ttest-rmse:7.52439+0.0186747\n",
      "[7]\ttrain-rmse:7.16728+0.00718229\ttest-rmse:7.16912+0.0178437\n",
      "[8]\ttrain-rmse:6.83026+0.00676574\ttest-rmse:6.83263+0.0168942\n",
      "[9]\ttrain-rmse:6.51112+0.006373\ttest-rmse:6.51377+0.0160586\n",
      "[10]\ttrain-rmse:6.20847+0.00592512\ttest-rmse:6.21159+0.015198\n",
      "[11]\ttrain-rmse:5.92181+0.00557228\ttest-rmse:5.92516+0.0146698\n",
      "[12]\ttrain-rmse:5.65053+0.0049864\ttest-rmse:5.65456+0.014093\n",
      "[13]\ttrain-rmse:5.39391+0.00461742\ttest-rmse:5.39811+0.0134334\n",
      "[14]\ttrain-rmse:5.1508+0.00403243\ttest-rmse:5.15559+0.0127477\n",
      "[15]\ttrain-rmse:4.92091+0.00342445\ttest-rmse:4.92619+0.0121143\n",
      "[16]\ttrain-rmse:4.70374+0.00302218\ttest-rmse:4.70959+0.0115621\n",
      "[17]\ttrain-rmse:4.49837+0.00259512\ttest-rmse:4.50502+0.0110601\n",
      "[18]\ttrain-rmse:4.30391+0.00229477\ttest-rmse:4.3113+0.0106121\n",
      "[19]\ttrain-rmse:4.12054+0.00182621\ttest-rmse:4.12862+0.0100592\n",
      "[20]\ttrain-rmse:3.94785+0.00160469\ttest-rmse:3.9566+0.00984012\n",
      "[21]\ttrain-rmse:3.785+0.00119584\ttest-rmse:3.79429+0.00925162\n",
      "[22]\ttrain-rmse:3.63166+0.00123372\ttest-rmse:3.64157+0.00877107\n",
      "[23]\ttrain-rmse:3.48736+0.00101918\ttest-rmse:3.498+0.00842099\n",
      "[24]\ttrain-rmse:3.35165+0.000728654\ttest-rmse:3.36307+0.00816511\n",
      "[25]\ttrain-rmse:3.22382+0.000367784\ttest-rmse:3.23596+0.00754039\n",
      "[26]\ttrain-rmse:3.10372+0.000464322\ttest-rmse:3.11677+0.00729155\n",
      "[27]\ttrain-rmse:2.99139+0.000566569\ttest-rmse:3.00533+0.00677902\n",
      "[28]\ttrain-rmse:2.88587+0.000990934\ttest-rmse:2.90062+0.00669011\n",
      "[29]\ttrain-rmse:2.78702+0.00115999\ttest-rmse:2.80264+0.0064195\n",
      "[30]\ttrain-rmse:2.69441+0.00150128\ttest-rmse:2.711+0.00632569\n",
      "[31]\ttrain-rmse:2.60776+0.00169665\ttest-rmse:2.62535+0.00620687\n",
      "[32]\ttrain-rmse:2.52687+0.00182657\ttest-rmse:2.54545+0.00630758\n",
      "[33]\ttrain-rmse:2.45142+0.00218373\ttest-rmse:2.4711+0.00659224\n",
      "[34]\ttrain-rmse:2.3809+0.00256618\ttest-rmse:2.40146+0.00663952\n",
      "[35]\ttrain-rmse:2.31563+0.00286019\ttest-rmse:2.33703+0.00659224\n",
      "[36]\ttrain-rmse:2.25471+0.00306204\ttest-rmse:2.27711+0.00669625\n",
      "[37]\ttrain-rmse:2.19849+0.00331255\ttest-rmse:2.22198+0.00678798\n",
      "[38]\ttrain-rmse:2.14614+0.00349338\ttest-rmse:2.17064+0.00728253\n",
      "[39]\ttrain-rmse:2.09768+0.00377577\ttest-rmse:2.12301+0.00736422\n",
      "[40]\ttrain-rmse:2.05262+0.00405403\ttest-rmse:2.07887+0.00756528\n",
      "[41]\ttrain-rmse:2.01104+0.00398386\ttest-rmse:2.0382+0.00802563\n",
      "[42]\ttrain-rmse:1.97279+0.0042988\ttest-rmse:2.00082+0.00825312\n",
      "[43]\ttrain-rmse:1.93751+0.00455828\ttest-rmse:1.96639+0.00847051\n",
      "[44]\ttrain-rmse:1.90501+0.00464975\ttest-rmse:1.9347+0.0089941\n",
      "[45]\ttrain-rmse:1.8749+0.00503179\ttest-rmse:1.90543+0.00921138\n",
      "[46]\ttrain-rmse:1.84737+0.0053084\ttest-rmse:1.87869+0.00929414\n",
      "[47]\ttrain-rmse:1.82184+0.00544718\ttest-rmse:1.85406+0.0095017\n",
      "[48]\ttrain-rmse:1.79864+0.00554578\ttest-rmse:1.83165+0.00983858\n",
      "[49]\ttrain-rmse:1.7772+0.00569492\ttest-rmse:1.81092+0.0101457\n",
      "[50]\ttrain-rmse:1.75785+0.00584761\ttest-rmse:1.79227+0.0102928\n",
      "[50]\ttrain-rmse:1.75785+0.00584761\ttest-rmse:1.79227+0.0102928\n",
      "[51]\ttrain-rmse:1.73983+0.00600338\ttest-rmse:1.77495+0.0105127\n",
      "[52]\ttrain-rmse:1.72328+0.00614133\ttest-rmse:1.75917+0.0107646\n",
      "[53]\ttrain-rmse:1.70817+0.00606296\ttest-rmse:1.74484+0.0111327\n",
      "[54]\ttrain-rmse:1.69445+0.00620622\ttest-rmse:1.73163+0.0113175\n",
      "[55]\ttrain-rmse:1.68165+0.00625682\ttest-rmse:1.71947+0.0114739\n",
      "[56]\ttrain-rmse:1.67007+0.00627983\ttest-rmse:1.7085+0.0117114\n",
      "[57]\ttrain-rmse:1.65952+0.00642093\ttest-rmse:1.69857+0.0117376\n",
      "[58]\ttrain-rmse:1.64979+0.00646721\ttest-rmse:1.68945+0.0118592\n",
      "[59]\ttrain-rmse:1.64089+0.00656305\ttest-rmse:1.68132+0.0118606\n",
      "[60]\ttrain-rmse:1.63283+0.00664119\ttest-rmse:1.67375+0.0119486\n",
      "[61]\ttrain-rmse:1.62533+0.00679655\ttest-rmse:1.66676+0.0120301\n",
      "[62]\ttrain-rmse:1.61849+0.00683128\ttest-rmse:1.66034+0.0122498\n",
      "[63]\ttrain-rmse:1.61224+0.00688727\ttest-rmse:1.65468+0.0122158\n",
      "[64]\ttrain-rmse:1.60646+0.00694229\ttest-rmse:1.64956+0.0122258\n",
      "[65]\ttrain-rmse:1.6012+0.00699284\ttest-rmse:1.64479+0.0124275\n",
      "[66]\ttrain-rmse:1.5963+0.00702983\ttest-rmse:1.64043+0.0125623\n",
      "[67]\ttrain-rmse:1.59193+0.00701128\ttest-rmse:1.63657+0.0128082\n",
      "[68]\ttrain-rmse:1.58783+0.0070661\ttest-rmse:1.63302+0.0129421\n",
      "[69]\ttrain-rmse:1.58411+0.00706221\ttest-rmse:1.62981+0.0130651\n",
      "[70]\ttrain-rmse:1.58066+0.00705385\ttest-rmse:1.62695+0.0131841\n",
      "[71]\ttrain-rmse:1.57753+0.0071239\ttest-rmse:1.62418+0.0131652\n",
      "[72]\ttrain-rmse:1.57443+0.0071497\ttest-rmse:1.62166+0.0132329\n",
      "[73]\ttrain-rmse:1.57154+0.00726327\ttest-rmse:1.61943+0.0133531\n",
      "[74]\ttrain-rmse:1.56893+0.00719238\ttest-rmse:1.61731+0.013462\n",
      "[75]\ttrain-rmse:1.56642+0.00718642\ttest-rmse:1.61538+0.0135595\n",
      "[76]\ttrain-rmse:1.56406+0.00736112\ttest-rmse:1.61356+0.0135932\n",
      "[77]\ttrain-rmse:1.56188+0.00736387\ttest-rmse:1.612+0.0135429\n",
      "[78]\ttrain-rmse:1.55986+0.00744057\ttest-rmse:1.61049+0.0135212\n",
      "[79]\ttrain-rmse:1.55797+0.00744543\ttest-rmse:1.60908+0.0136212\n",
      "[80]\ttrain-rmse:1.55611+0.00738442\ttest-rmse:1.6078+0.0137941\n",
      "[81]\ttrain-rmse:1.55433+0.00746815\ttest-rmse:1.60654+0.0137799\n",
      "[82]\ttrain-rmse:1.5527+0.00750573\ttest-rmse:1.60554+0.0137935\n",
      "[83]\ttrain-rmse:1.55114+0.00744552\ttest-rmse:1.60448+0.0137688\n",
      "[84]\ttrain-rmse:1.54968+0.00743275\ttest-rmse:1.6035+0.0138405\n",
      "[85]\ttrain-rmse:1.54832+0.00754876\ttest-rmse:1.60266+0.0138627\n",
      "[86]\ttrain-rmse:1.54701+0.00761573\ttest-rmse:1.60191+0.0137598\n",
      "[87]\ttrain-rmse:1.54578+0.00745618\ttest-rmse:1.6012+0.0138272\n",
      "[88]\ttrain-rmse:1.54454+0.00741353\ttest-rmse:1.60043+0.01389\n",
      "[89]\ttrain-rmse:1.54336+0.00738106\ttest-rmse:1.59981+0.0138672\n",
      "[90]\ttrain-rmse:1.54237+0.00742795\ttest-rmse:1.59932+0.0137844\n",
      "[91]\ttrain-rmse:1.54131+0.00727683\ttest-rmse:1.59869+0.0138125\n",
      "[92]\ttrain-rmse:1.54011+0.00730588\ttest-rmse:1.59803+0.0138235\n",
      "[93]\ttrain-rmse:1.53909+0.00732409\ttest-rmse:1.59752+0.013912\n",
      "[94]\ttrain-rmse:1.53819+0.00723189\ttest-rmse:1.59707+0.0140071\n",
      "[95]\ttrain-rmse:1.53726+0.00727307\ttest-rmse:1.59657+0.0140598\n",
      "[96]\ttrain-rmse:1.53632+0.00718919\ttest-rmse:1.59627+0.0140129\n",
      "[97]\ttrain-rmse:1.53536+0.0070776\ttest-rmse:1.59592+0.014049\n",
      "[98]\ttrain-rmse:1.53459+0.00700129\ttest-rmse:1.59557+0.0140742\n",
      "[99]\ttrain-rmse:1.53391+0.00702658\ttest-rmse:1.59536+0.0141082\n",
      "[100]\ttrain-rmse:1.53314+0.0069379\ttest-rmse:1.59508+0.0140662\n",
      "[100]\ttrain-rmse:1.53314+0.0069379\ttest-rmse:1.59508+0.0140662\n",
      "[101]\ttrain-rmse:1.5324+0.00690506\ttest-rmse:1.59487+0.014211\n",
      "[102]\ttrain-rmse:1.53162+0.00696743\ttest-rmse:1.59455+0.0141087\n",
      "[103]\ttrain-rmse:1.53095+0.0069266\ttest-rmse:1.59439+0.0141969\n",
      "[104]\ttrain-rmse:1.5301+0.00698835\ttest-rmse:1.5941+0.0141543\n",
      "[105]\ttrain-rmse:1.52956+0.00712402\ttest-rmse:1.594+0.0141516\n",
      "[106]\ttrain-rmse:1.52894+0.00723635\ttest-rmse:1.59383+0.0141758\n",
      "[107]\ttrain-rmse:1.52841+0.00719664\ttest-rmse:1.59364+0.0141492\n",
      "[108]\ttrain-rmse:1.52795+0.00715426\ttest-rmse:1.59351+0.0140997\n",
      "[109]\ttrain-rmse:1.5273+0.00705357\ttest-rmse:1.59337+0.0141709\n",
      "[110]\ttrain-rmse:1.52674+0.00702665\ttest-rmse:1.59321+0.0142057\n",
      "[111]\ttrain-rmse:1.5262+0.0070429\ttest-rmse:1.59291+0.0143229\n",
      "[112]\ttrain-rmse:1.52563+0.00691489\ttest-rmse:1.59267+0.0143974\n",
      "[113]\ttrain-rmse:1.52505+0.00687862\ttest-rmse:1.59263+0.0144281\n",
      "[114]\ttrain-rmse:1.52442+0.00687679\ttest-rmse:1.5924+0.0145323\n",
      "[115]\ttrain-rmse:1.52391+0.00687679\ttest-rmse:1.59231+0.0145661\n",
      "[116]\ttrain-rmse:1.52322+0.00681902\ttest-rmse:1.59207+0.0146407\n",
      "[117]\ttrain-rmse:1.52268+0.00683348\ttest-rmse:1.59203+0.014635\n",
      "[118]\ttrain-rmse:1.52205+0.00678536\ttest-rmse:1.59186+0.0146282\n",
      "[119]\ttrain-rmse:1.52156+0.00680114\ttest-rmse:1.59174+0.0145952\n",
      "[120]\ttrain-rmse:1.52104+0.00689463\ttest-rmse:1.59172+0.0145885\n",
      "[121]\ttrain-rmse:1.52046+0.00686716\ttest-rmse:1.59162+0.0147133\n",
      "[122]\ttrain-rmse:1.51989+0.00676755\ttest-rmse:1.59143+0.0147245\n",
      "[123]\ttrain-rmse:1.51939+0.00686001\ttest-rmse:1.59126+0.014569\n",
      "[124]\ttrain-rmse:1.51889+0.00699437\ttest-rmse:1.59118+0.0145525\n",
      "[125]\ttrain-rmse:1.51819+0.0070247\ttest-rmse:1.59102+0.0144828\n",
      "[126]\ttrain-rmse:1.51764+0.00710866\ttest-rmse:1.59092+0.0145212\n",
      "[127]\ttrain-rmse:1.51706+0.00711873\ttest-rmse:1.59079+0.0145341\n",
      "[128]\ttrain-rmse:1.51649+0.00713987\ttest-rmse:1.59069+0.0146373\n",
      "[129]\ttrain-rmse:1.51597+0.00714621\ttest-rmse:1.59066+0.0146133\n",
      "[130]\ttrain-rmse:1.51548+0.00710531\ttest-rmse:1.59054+0.0145266\n",
      "[131]\ttrain-rmse:1.51505+0.00712723\ttest-rmse:1.59043+0.0144997\n",
      "[132]\ttrain-rmse:1.51455+0.00700301\ttest-rmse:1.59032+0.0145254\n",
      "[133]\ttrain-rmse:1.51415+0.00690527\ttest-rmse:1.59021+0.0145635\n",
      "[134]\ttrain-rmse:1.51372+0.0067968\ttest-rmse:1.59011+0.0145696\n",
      "[135]\ttrain-rmse:1.51313+0.00675189\ttest-rmse:1.58999+0.0146631\n",
      "[136]\ttrain-rmse:1.51267+0.00686548\ttest-rmse:1.58981+0.0146387\n",
      "[137]\ttrain-rmse:1.51223+0.00682994\ttest-rmse:1.58975+0.0146288\n",
      "[138]\ttrain-rmse:1.51186+0.00689415\ttest-rmse:1.58974+0.0147212\n",
      "[139]\ttrain-rmse:1.51142+0.00697062\ttest-rmse:1.58973+0.0147688\n",
      "[140]\ttrain-rmse:1.51097+0.00709141\ttest-rmse:1.58963+0.0148391\n",
      "[141]\ttrain-rmse:1.51037+0.0069701\ttest-rmse:1.58951+0.0148086\n",
      "[142]\ttrain-rmse:1.50995+0.0071127\ttest-rmse:1.58948+0.0148412\n",
      "[143]\ttrain-rmse:1.50948+0.00706623\ttest-rmse:1.5893+0.0149023\n",
      "[144]\ttrain-rmse:1.50904+0.00703523\ttest-rmse:1.58924+0.014957\n",
      "[145]\ttrain-rmse:1.50863+0.00713833\ttest-rmse:1.58918+0.0148901\n",
      "[146]\ttrain-rmse:1.5081+0.00717505\ttest-rmse:1.5891+0.014879\n",
      "[147]\ttrain-rmse:1.50764+0.00712241\ttest-rmse:1.58902+0.0149122\n",
      "[148]\ttrain-rmse:1.50719+0.00712144\ttest-rmse:1.58895+0.0149668\n",
      "[149]\ttrain-rmse:1.50683+0.00724601\ttest-rmse:1.58895+0.015044\n",
      "[150]\ttrain-rmse:1.5065+0.00721805\ttest-rmse:1.58885+0.0150905\n",
      "[150]\ttrain-rmse:1.5065+0.00721805\ttest-rmse:1.58885+0.0150905\n",
      "[151]\ttrain-rmse:1.50605+0.00726109\ttest-rmse:1.58872+0.0150627\n",
      "[152]\ttrain-rmse:1.50555+0.00744645\ttest-rmse:1.58862+0.0150174\n",
      "[153]\ttrain-rmse:1.50518+0.00752574\ttest-rmse:1.58855+0.0151088\n",
      "[154]\ttrain-rmse:1.50454+0.00745349\ttest-rmse:1.58847+0.0151137\n",
      "[155]\ttrain-rmse:1.50396+0.00744667\ttest-rmse:1.58838+0.0150576\n",
      "[156]\ttrain-rmse:1.50366+0.00744349\ttest-rmse:1.58841+0.015107\n",
      "[157]\ttrain-rmse:1.50303+0.00747592\ttest-rmse:1.58826+0.0150885\n",
      "[158]\ttrain-rmse:1.50256+0.00751328\ttest-rmse:1.58831+0.015096\n",
      "[159]\ttrain-rmse:1.50209+0.00766907\ttest-rmse:1.58819+0.0150914\n",
      "[160]\ttrain-rmse:1.50176+0.00773886\ttest-rmse:1.5881+0.0150638\n",
      "[161]\ttrain-rmse:1.50122+0.00760505\ttest-rmse:1.58801+0.0150245\n",
      "[162]\ttrain-rmse:1.50087+0.00769995\ttest-rmse:1.58798+0.0150394\n",
      "[163]\ttrain-rmse:1.50043+0.00768996\ttest-rmse:1.5879+0.0150353\n",
      "[164]\ttrain-rmse:1.49995+0.0076934\ttest-rmse:1.58791+0.0149973\n",
      "[165]\ttrain-rmse:1.49954+0.00776204\ttest-rmse:1.58791+0.014971\n",
      "[166]\ttrain-rmse:1.49918+0.00795275\ttest-rmse:1.58781+0.0149008\n",
      "[167]\ttrain-rmse:1.49888+0.00799376\ttest-rmse:1.58781+0.0149429\n",
      "[168]\ttrain-rmse:1.49845+0.00807486\ttest-rmse:1.58778+0.0148817\n",
      "[169]\ttrain-rmse:1.49805+0.00792387\ttest-rmse:1.58775+0.0150127\n",
      "[170]\ttrain-rmse:1.49742+0.00785172\ttest-rmse:1.58752+0.0149465\n",
      "[171]\ttrain-rmse:1.49694+0.00773496\ttest-rmse:1.58751+0.0149058\n",
      "[172]\ttrain-rmse:1.49649+0.00781864\ttest-rmse:1.58747+0.0148799\n",
      "[173]\ttrain-rmse:1.49602+0.00775734\ttest-rmse:1.58733+0.0148862\n",
      "[174]\ttrain-rmse:1.49561+0.00771567\ttest-rmse:1.58721+0.0148761\n",
      "[175]\ttrain-rmse:1.49521+0.00768849\ttest-rmse:1.58709+0.0149254\n",
      "[176]\ttrain-rmse:1.49484+0.00775077\ttest-rmse:1.5871+0.0149576\n",
      "[177]\ttrain-rmse:1.49448+0.00772824\ttest-rmse:1.58713+0.0150389\n",
      "[178]\ttrain-rmse:1.49404+0.00767992\ttest-rmse:1.58704+0.0151394\n",
      "[179]\ttrain-rmse:1.49374+0.00770514\ttest-rmse:1.58697+0.0151099\n",
      "[180]\ttrain-rmse:1.4934+0.00771139\ttest-rmse:1.58688+0.0150088\n",
      "[181]\ttrain-rmse:1.49297+0.00771831\ttest-rmse:1.58687+0.0149727\n",
      "[182]\ttrain-rmse:1.49255+0.0077947\ttest-rmse:1.58683+0.0149756\n",
      "[183]\ttrain-rmse:1.49211+0.00789646\ttest-rmse:1.58672+0.0149396\n",
      "[184]\ttrain-rmse:1.49166+0.00797398\ttest-rmse:1.5867+0.0149372\n",
      "[185]\ttrain-rmse:1.49121+0.00780293\ttest-rmse:1.58662+0.014928\n",
      "[186]\ttrain-rmse:1.49081+0.00794356\ttest-rmse:1.58657+0.0149565\n",
      "[187]\ttrain-rmse:1.49041+0.0080165\ttest-rmse:1.58654+0.0149263\n",
      "[188]\ttrain-rmse:1.48998+0.00801217\ttest-rmse:1.58642+0.0149273\n",
      "[189]\ttrain-rmse:1.48951+0.00805399\ttest-rmse:1.58631+0.0148237\n",
      "[190]\ttrain-rmse:1.48898+0.00799975\ttest-rmse:1.58627+0.014812\n",
      "[191]\ttrain-rmse:1.48857+0.00805174\ttest-rmse:1.58626+0.0148456\n",
      "[192]\ttrain-rmse:1.48829+0.00807632\ttest-rmse:1.58625+0.0148363\n",
      "[193]\ttrain-rmse:1.48784+0.00803343\ttest-rmse:1.58625+0.0147796\n",
      "[194]\ttrain-rmse:1.48741+0.00804306\ttest-rmse:1.58623+0.0147529\n",
      "[195]\ttrain-rmse:1.48695+0.00797528\ttest-rmse:1.58603+0.014808\n",
      "[196]\ttrain-rmse:1.48663+0.00792712\ttest-rmse:1.586+0.0148641\n",
      "[197]\ttrain-rmse:1.48633+0.00799686\ttest-rmse:1.58595+0.0148818\n",
      "[198]\ttrain-rmse:1.48585+0.00797594\ttest-rmse:1.58589+0.0149444\n",
      "[199]\ttrain-rmse:1.48544+0.00782967\ttest-rmse:1.58584+0.0149033\n",
      "[200]\ttrain-rmse:1.48505+0.00780644\ttest-rmse:1.58583+0.0148952\n",
      "[200]\ttrain-rmse:1.48505+0.00780644\ttest-rmse:1.58583+0.0148952\n",
      "[201]\ttrain-rmse:1.48463+0.00782231\ttest-rmse:1.58575+0.0148532\n",
      "[202]\ttrain-rmse:1.48429+0.00772421\ttest-rmse:1.58572+0.0148494\n",
      "[203]\ttrain-rmse:1.48402+0.00758749\ttest-rmse:1.58568+0.0148765\n",
      "[204]\ttrain-rmse:1.48368+0.0076142\ttest-rmse:1.58564+0.0149173\n",
      "[205]\ttrain-rmse:1.48334+0.00750615\ttest-rmse:1.5856+0.0149778\n",
      "[206]\ttrain-rmse:1.4829+0.00755704\ttest-rmse:1.58556+0.0150117\n",
      "[207]\ttrain-rmse:1.48255+0.00768762\ttest-rmse:1.58556+0.0149961\n",
      "[208]\ttrain-rmse:1.48207+0.00764718\ttest-rmse:1.58543+0.0149825\n",
      "[209]\ttrain-rmse:1.48158+0.00772183\ttest-rmse:1.58538+0.0149275\n",
      "[210]\ttrain-rmse:1.48129+0.00783711\ttest-rmse:1.58534+0.0148485\n",
      "[211]\ttrain-rmse:1.48082+0.007835\ttest-rmse:1.58534+0.0148037\n",
      "[212]\ttrain-rmse:1.48039+0.00788666\ttest-rmse:1.58532+0.0147896\n",
      "[213]\ttrain-rmse:1.48013+0.00785716\ttest-rmse:1.5853+0.014722\n",
      "[214]\ttrain-rmse:1.47967+0.00781193\ttest-rmse:1.58529+0.0146729\n",
      "[215]\ttrain-rmse:1.47929+0.00790654\ttest-rmse:1.58516+0.0147047\n",
      "[216]\ttrain-rmse:1.47884+0.00790342\ttest-rmse:1.58513+0.0146373\n",
      "[217]\ttrain-rmse:1.47844+0.00801201\ttest-rmse:1.5851+0.0146738\n",
      "[218]\ttrain-rmse:1.47808+0.00799125\ttest-rmse:1.58516+0.0147121\n",
      "[219]\ttrain-rmse:1.47776+0.00809937\ttest-rmse:1.58512+0.0147589\n",
      "[220]\ttrain-rmse:1.47738+0.00808568\ttest-rmse:1.58512+0.0147493\n",
      "[221]\ttrain-rmse:1.47697+0.00805618\ttest-rmse:1.58507+0.0147773\n",
      "[222]\ttrain-rmse:1.47662+0.00813174\ttest-rmse:1.58502+0.0148181\n",
      "[223]\ttrain-rmse:1.47621+0.00815991\ttest-rmse:1.58503+0.0148019\n",
      "[224]\ttrain-rmse:1.47581+0.00813562\ttest-rmse:1.58495+0.014807\n",
      "[225]\ttrain-rmse:1.47543+0.00814237\ttest-rmse:1.58483+0.014819\n",
      "[226]\ttrain-rmse:1.47504+0.00808736\ttest-rmse:1.58478+0.0148565\n",
      "[227]\ttrain-rmse:1.47459+0.00817587\ttest-rmse:1.58477+0.0148717\n",
      "[228]\ttrain-rmse:1.47424+0.00816091\ttest-rmse:1.5847+0.0148265\n",
      "[229]\ttrain-rmse:1.47382+0.00815662\ttest-rmse:1.5846+0.0147952\n",
      "[230]\ttrain-rmse:1.47344+0.00820663\ttest-rmse:1.58459+0.014826\n",
      "[231]\ttrain-rmse:1.47305+0.0081953\ttest-rmse:1.58457+0.0148795\n",
      "[232]\ttrain-rmse:1.47277+0.00809823\ttest-rmse:1.58446+0.014963\n",
      "[233]\ttrain-rmse:1.47227+0.00813349\ttest-rmse:1.58434+0.0149504\n",
      "[234]\ttrain-rmse:1.4717+0.00812966\ttest-rmse:1.58431+0.0148732\n",
      "[235]\ttrain-rmse:1.47141+0.00807098\ttest-rmse:1.58429+0.0149066\n",
      "[236]\ttrain-rmse:1.47093+0.00806858\ttest-rmse:1.5844+0.0148567\n",
      "[237]\ttrain-rmse:1.47049+0.00801265\ttest-rmse:1.5843+0.0148857\n",
      "[238]\ttrain-rmse:1.47006+0.00807106\ttest-rmse:1.58426+0.0148665\n",
      "[239]\ttrain-rmse:1.46969+0.0080751\ttest-rmse:1.58431+0.0149213\n",
      "[240]\ttrain-rmse:1.46934+0.00808282\ttest-rmse:1.58429+0.0149288\n",
      "[241]\ttrain-rmse:1.469+0.00805023\ttest-rmse:1.58426+0.0149058\n",
      "[242]\ttrain-rmse:1.46862+0.00809923\ttest-rmse:1.58423+0.0149131\n",
      "[243]\ttrain-rmse:1.46814+0.00807603\ttest-rmse:1.5842+0.0149869\n",
      "[244]\ttrain-rmse:1.46774+0.00807174\ttest-rmse:1.58425+0.0150154\n",
      "[245]\ttrain-rmse:1.46736+0.00806275\ttest-rmse:1.58422+0.0151051\n",
      "[246]\ttrain-rmse:1.46701+0.00798161\ttest-rmse:1.5843+0.0150855\n",
      "[247]\ttrain-rmse:1.46673+0.00803248\ttest-rmse:1.58422+0.0150431\n",
      "[248]\ttrain-rmse:1.46625+0.00808648\ttest-rmse:1.58417+0.0149365\n",
      "[249]\ttrain-rmse:1.46597+0.0080222\ttest-rmse:1.58422+0.0149556\n",
      "[250]\ttrain-rmse:1.46554+0.00800521\ttest-rmse:1.58417+0.0149994\n",
      "[250]\ttrain-rmse:1.46554+0.00800521\ttest-rmse:1.58417+0.0149994\n",
      "[251]\ttrain-rmse:1.46527+0.00801756\ttest-rmse:1.58418+0.0150005\n",
      "[252]\ttrain-rmse:1.46491+0.00814681\ttest-rmse:1.58414+0.0149674\n",
      "[253]\ttrain-rmse:1.46461+0.00811421\ttest-rmse:1.58415+0.0150228\n",
      "[254]\ttrain-rmse:1.46416+0.00815754\ttest-rmse:1.58411+0.0149875\n",
      "[255]\ttrain-rmse:1.46385+0.00805763\ttest-rmse:1.58413+0.0149638\n",
      "[256]\ttrain-rmse:1.46347+0.00815056\ttest-rmse:1.58409+0.015026\n",
      "[257]\ttrain-rmse:1.46316+0.0080971\ttest-rmse:1.58409+0.0150188\n"
     ]
    },
    {
     "ename": "KeyboardInterrupt",
     "evalue": "",
     "output_type": "error",
     "traceback": [
      "\u001b[0;31m---------------------------------------------------------------------------\u001b[0m",
      "\u001b[0;31mKeyboardInterrupt\u001b[0m                         Traceback (most recent call last)",
      "\u001b[0;32m<ipython-input-427-e072f315ab36>\u001b[0m in \u001b[0;36m<module>\u001b[0;34m()\u001b[0m\n\u001b[1;32m      1\u001b[0m xgb.cv(params, dtr, 1000, nfold=3,\n\u001b[1;32m      2\u001b[0m        \u001b[0mmetrics\u001b[0m\u001b[0;34m=\u001b[0m\u001b[0;34m{\u001b[0m\u001b[0;34m'rmse'\u001b[0m\u001b[0;34m}\u001b[0m\u001b[0;34m,\u001b[0m \u001b[0mseed\u001b[0m \u001b[0;34m=\u001b[0m \u001b[0;36m7\u001b[0m\u001b[0;34m,\u001b[0m\u001b[0mverbose_eval\u001b[0m\u001b[0;34m=\u001b[0m\u001b[0;36m50\u001b[0m\u001b[0;34m,\u001b[0m\u001b[0;34m\u001b[0m\u001b[0m\n\u001b[0;32m----> 3\u001b[0;31m        callbacks=[xgb.callback.print_evaluation(show_stdv=True)])\n\u001b[0m",
      "\u001b[0;32m/home/dz/anaconda3/lib/python3.5/site-packages/xgboost/training.py\u001b[0m in \u001b[0;36mcv\u001b[0;34m(params, dtrain, num_boost_round, nfold, stratified, folds, metrics, obj, feval, maximize, early_stopping_rounds, fpreproc, as_pandas, verbose_eval, show_stdv, seed, callbacks)\u001b[0m\n\u001b[1;32m    398\u001b[0m                            evaluation_result_list=None))\n\u001b[1;32m    399\u001b[0m         \u001b[0;32mfor\u001b[0m \u001b[0mfold\u001b[0m \u001b[0;32min\u001b[0m \u001b[0mcvfolds\u001b[0m\u001b[0;34m:\u001b[0m\u001b[0;34m\u001b[0m\u001b[0m\n\u001b[0;32m--> 400\u001b[0;31m             \u001b[0mfold\u001b[0m\u001b[0;34m.\u001b[0m\u001b[0mupdate\u001b[0m\u001b[0;34m(\u001b[0m\u001b[0mi\u001b[0m\u001b[0;34m,\u001b[0m \u001b[0mobj\u001b[0m\u001b[0;34m)\u001b[0m\u001b[0;34m\u001b[0m\u001b[0m\n\u001b[0m\u001b[1;32m    401\u001b[0m         \u001b[0mres\u001b[0m \u001b[0;34m=\u001b[0m \u001b[0maggcv\u001b[0m\u001b[0;34m(\u001b[0m\u001b[0;34m[\u001b[0m\u001b[0mf\u001b[0m\u001b[0;34m.\u001b[0m\u001b[0meval\u001b[0m\u001b[0;34m(\u001b[0m\u001b[0mi\u001b[0m\u001b[0;34m,\u001b[0m \u001b[0mfeval\u001b[0m\u001b[0;34m)\u001b[0m \u001b[0;32mfor\u001b[0m \u001b[0mf\u001b[0m \u001b[0;32min\u001b[0m \u001b[0mcvfolds\u001b[0m\u001b[0;34m]\u001b[0m\u001b[0;34m)\u001b[0m\u001b[0;34m\u001b[0m\u001b[0m\n\u001b[1;32m    402\u001b[0m \u001b[0;34m\u001b[0m\u001b[0m\n",
      "\u001b[0;32m/home/dz/anaconda3/lib/python3.5/site-packages/xgboost/training.py\u001b[0m in \u001b[0;36mupdate\u001b[0;34m(self, iteration, fobj)\u001b[0m\n\u001b[1;32m    217\u001b[0m     \u001b[0;32mdef\u001b[0m \u001b[0mupdate\u001b[0m\u001b[0;34m(\u001b[0m\u001b[0mself\u001b[0m\u001b[0;34m,\u001b[0m \u001b[0miteration\u001b[0m\u001b[0;34m,\u001b[0m \u001b[0mfobj\u001b[0m\u001b[0;34m)\u001b[0m\u001b[0;34m:\u001b[0m\u001b[0;34m\u001b[0m\u001b[0m\n\u001b[1;32m    218\u001b[0m         \u001b[0;34m\"\"\"\"Update the boosters for one iteration\"\"\"\u001b[0m\u001b[0;34m\u001b[0m\u001b[0m\n\u001b[0;32m--> 219\u001b[0;31m         \u001b[0mself\u001b[0m\u001b[0;34m.\u001b[0m\u001b[0mbst\u001b[0m\u001b[0;34m.\u001b[0m\u001b[0mupdate\u001b[0m\u001b[0;34m(\u001b[0m\u001b[0mself\u001b[0m\u001b[0;34m.\u001b[0m\u001b[0mdtrain\u001b[0m\u001b[0;34m,\u001b[0m \u001b[0miteration\u001b[0m\u001b[0;34m,\u001b[0m \u001b[0mfobj\u001b[0m\u001b[0;34m)\u001b[0m\u001b[0;34m\u001b[0m\u001b[0m\n\u001b[0m\u001b[1;32m    220\u001b[0m \u001b[0;34m\u001b[0m\u001b[0m\n\u001b[1;32m    221\u001b[0m     \u001b[0;32mdef\u001b[0m \u001b[0meval\u001b[0m\u001b[0;34m(\u001b[0m\u001b[0mself\u001b[0m\u001b[0;34m,\u001b[0m \u001b[0miteration\u001b[0m\u001b[0;34m,\u001b[0m \u001b[0mfeval\u001b[0m\u001b[0;34m)\u001b[0m\u001b[0;34m:\u001b[0m\u001b[0;34m\u001b[0m\u001b[0m\n",
      "\u001b[0;32m/home/dz/anaconda3/lib/python3.5/site-packages/xgboost/core.py\u001b[0m in \u001b[0;36mupdate\u001b[0;34m(self, dtrain, iteration, fobj)\u001b[0m\n\u001b[1;32m    804\u001b[0m \u001b[0;34m\u001b[0m\u001b[0m\n\u001b[1;32m    805\u001b[0m         \u001b[0;32mif\u001b[0m \u001b[0mfobj\u001b[0m \u001b[0;32mis\u001b[0m \u001b[0;32mNone\u001b[0m\u001b[0;34m:\u001b[0m\u001b[0;34m\u001b[0m\u001b[0m\n\u001b[0;32m--> 806\u001b[0;31m             \u001b[0m_check_call\u001b[0m\u001b[0;34m(\u001b[0m\u001b[0m_LIB\u001b[0m\u001b[0;34m.\u001b[0m\u001b[0mXGBoosterUpdateOneIter\u001b[0m\u001b[0;34m(\u001b[0m\u001b[0mself\u001b[0m\u001b[0;34m.\u001b[0m\u001b[0mhandle\u001b[0m\u001b[0;34m,\u001b[0m \u001b[0miteration\u001b[0m\u001b[0;34m,\u001b[0m \u001b[0mdtrain\u001b[0m\u001b[0;34m.\u001b[0m\u001b[0mhandle\u001b[0m\u001b[0;34m)\u001b[0m\u001b[0;34m)\u001b[0m\u001b[0;34m\u001b[0m\u001b[0m\n\u001b[0m\u001b[1;32m    807\u001b[0m         \u001b[0;32melse\u001b[0m\u001b[0;34m:\u001b[0m\u001b[0;34m\u001b[0m\u001b[0m\n\u001b[1;32m    808\u001b[0m             \u001b[0mpred\u001b[0m \u001b[0;34m=\u001b[0m \u001b[0mself\u001b[0m\u001b[0;34m.\u001b[0m\u001b[0mpredict\u001b[0m\u001b[0;34m(\u001b[0m\u001b[0mdtrain\u001b[0m\u001b[0;34m)\u001b[0m\u001b[0;34m\u001b[0m\u001b[0m\n",
      "\u001b[0;31mKeyboardInterrupt\u001b[0m: "
     ]
    }
   ],
   "source": [
    "xgb.cv(params, dtr, 1000, nfold=3,\n",
    "       metrics={'rmse'}, seed = 7,verbose_eval=50,\n",
    "       callbacks=[xgb.callback.print_evaluation(show_stdv=True)])"
   ]
  },
  {
   "cell_type": "markdown",
   "metadata": {},
   "source": [
    "1602\n",
    "#1702 no mcc full time\n",
    "#1687 no 0 minth\n",
    "#168 >6 month\n",
    "1.70 >7\n",
    "1,67>5\n",
    "1.62 >5 -30\n",
    "1.623 >5 0\n",
    "1.64 >0\n",
    "1.63 nan >6\n",
    "1/628 nan >5\n",
    "1621 0 >5 mcc\n",
    "2 month:\n",
    "1.623>5\n",
    "1.619Ю6\n",
    "0/621 >6 mcc"
   ]
  },
  {
   "cell_type": "code",
   "execution_count": 61,
   "metadata": {
    "collapsed": false
   },
   "outputs": [],
   "source": [
    "xgbmodel = xgb.XGBRegressor(max_depth=4, learning_rate=0.025, n_estimators=750, objective='reg:linear', nthread=-1, gamma=0, min_child_weight=1, subsample=0.9, colsample_bytree=0.7, reg_alpha=0, reg_lambda=1, seed=7, missing=-9999)"
   ]
  },
  {
   "cell_type": "code",
   "execution_count": 63,
   "metadata": {
    "collapsed": false
   },
   "outputs": [
    {
     "ename": "KeyboardInterrupt",
     "evalue": "",
     "output_type": "error",
     "traceback": [
      "\u001b[0;31m---------------------------------------------------------------------------\u001b[0m",
      "\u001b[0;31mKeyboardInterrupt\u001b[0m                         Traceback (most recent call last)",
      "\u001b[0;32m<ipython-input-63-6ae177d45524>\u001b[0m in \u001b[0;36m<module>\u001b[0;34m()\u001b[0m\n\u001b[0;32m----> 1\u001b[0;31m \u001b[0mxgbmodel\u001b[0m\u001b[0;34m.\u001b[0m\u001b[0mfit\u001b[0m\u001b[0;34m(\u001b[0m\u001b[0mXtrain\u001b[0m\u001b[0;34m[\u001b[0m\u001b[0mfeat\u001b[0m\u001b[0;34m]\u001b[0m\u001b[0;34m,\u001b[0m \u001b[0mXtrain\u001b[0m\u001b[0;34m[\u001b[0m\u001b[0;34m'amount'\u001b[0m\u001b[0;34m]\u001b[0m \u001b[0;34m+\u001b[0m \u001b[0mshift\u001b[0m\u001b[0;34m)\u001b[0m\u001b[0;34m\u001b[0m\u001b[0m\n\u001b[0m",
      "\u001b[0;32m/home/dz/anaconda3/lib/python3.5/site-packages/xgboost/sklearn.py\u001b[0m in \u001b[0;36mfit\u001b[0;34m(self, X, y, eval_set, eval_metric, early_stopping_rounds, verbose)\u001b[0m\n\u001b[1;32m    249\u001b[0m                               \u001b[0mearly_stopping_rounds\u001b[0m\u001b[0;34m=\u001b[0m\u001b[0mearly_stopping_rounds\u001b[0m\u001b[0;34m,\u001b[0m\u001b[0;34m\u001b[0m\u001b[0m\n\u001b[1;32m    250\u001b[0m                               \u001b[0mevals_result\u001b[0m\u001b[0;34m=\u001b[0m\u001b[0mevals_result\u001b[0m\u001b[0;34m,\u001b[0m \u001b[0mobj\u001b[0m\u001b[0;34m=\u001b[0m\u001b[0mobj\u001b[0m\u001b[0;34m,\u001b[0m \u001b[0mfeval\u001b[0m\u001b[0;34m=\u001b[0m\u001b[0mfeval\u001b[0m\u001b[0;34m,\u001b[0m\u001b[0;34m\u001b[0m\u001b[0m\n\u001b[0;32m--> 251\u001b[0;31m                               verbose_eval=verbose)\n\u001b[0m\u001b[1;32m    252\u001b[0m \u001b[0;34m\u001b[0m\u001b[0m\n\u001b[1;32m    253\u001b[0m         \u001b[0;32mif\u001b[0m \u001b[0mevals_result\u001b[0m\u001b[0;34m:\u001b[0m\u001b[0;34m\u001b[0m\u001b[0m\n",
      "\u001b[0;32m/home/dz/anaconda3/lib/python3.5/site-packages/xgboost/training.py\u001b[0m in \u001b[0;36mtrain\u001b[0;34m(params, dtrain, num_boost_round, evals, obj, feval, maximize, early_stopping_rounds, evals_result, verbose_eval, learning_rates, xgb_model, callbacks)\u001b[0m\n\u001b[1;32m    203\u001b[0m                            \u001b[0mevals\u001b[0m\u001b[0;34m=\u001b[0m\u001b[0mevals\u001b[0m\u001b[0;34m,\u001b[0m\u001b[0;34m\u001b[0m\u001b[0m\n\u001b[1;32m    204\u001b[0m                            \u001b[0mobj\u001b[0m\u001b[0;34m=\u001b[0m\u001b[0mobj\u001b[0m\u001b[0;34m,\u001b[0m \u001b[0mfeval\u001b[0m\u001b[0;34m=\u001b[0m\u001b[0mfeval\u001b[0m\u001b[0;34m,\u001b[0m\u001b[0;34m\u001b[0m\u001b[0m\n\u001b[0;32m--> 205\u001b[0;31m                            xgb_model=xgb_model, callbacks=callbacks)\n\u001b[0m\u001b[1;32m    206\u001b[0m \u001b[0;34m\u001b[0m\u001b[0m\n\u001b[1;32m    207\u001b[0m \u001b[0;34m\u001b[0m\u001b[0m\n",
      "\u001b[0;32m/home/dz/anaconda3/lib/python3.5/site-packages/xgboost/training.py\u001b[0m in \u001b[0;36m_train_internal\u001b[0;34m(params, dtrain, num_boost_round, evals, obj, feval, xgb_model, callbacks)\u001b[0m\n\u001b[1;32m     74\u001b[0m         \u001b[0;31m# Skip the first update if it is a recovery step.\u001b[0m\u001b[0;34m\u001b[0m\u001b[0;34m\u001b[0m\u001b[0m\n\u001b[1;32m     75\u001b[0m         \u001b[0;32mif\u001b[0m \u001b[0mversion\u001b[0m \u001b[0;34m%\u001b[0m \u001b[0;36m2\u001b[0m \u001b[0;34m==\u001b[0m \u001b[0;36m0\u001b[0m\u001b[0;34m:\u001b[0m\u001b[0;34m\u001b[0m\u001b[0m\n\u001b[0;32m---> 76\u001b[0;31m             \u001b[0mbst\u001b[0m\u001b[0;34m.\u001b[0m\u001b[0mupdate\u001b[0m\u001b[0;34m(\u001b[0m\u001b[0mdtrain\u001b[0m\u001b[0;34m,\u001b[0m \u001b[0mi\u001b[0m\u001b[0;34m,\u001b[0m \u001b[0mobj\u001b[0m\u001b[0;34m)\u001b[0m\u001b[0;34m\u001b[0m\u001b[0m\n\u001b[0m\u001b[1;32m     77\u001b[0m             \u001b[0mbst\u001b[0m\u001b[0;34m.\u001b[0m\u001b[0msave_rabit_checkpoint\u001b[0m\u001b[0;34m(\u001b[0m\u001b[0;34m)\u001b[0m\u001b[0;34m\u001b[0m\u001b[0m\n\u001b[1;32m     78\u001b[0m             \u001b[0mversion\u001b[0m \u001b[0;34m+=\u001b[0m \u001b[0;36m1\u001b[0m\u001b[0;34m\u001b[0m\u001b[0m\n",
      "\u001b[0;32m/home/dz/anaconda3/lib/python3.5/site-packages/xgboost/core.py\u001b[0m in \u001b[0;36mupdate\u001b[0;34m(self, dtrain, iteration, fobj)\u001b[0m\n\u001b[1;32m    804\u001b[0m \u001b[0;34m\u001b[0m\u001b[0m\n\u001b[1;32m    805\u001b[0m         \u001b[0;32mif\u001b[0m \u001b[0mfobj\u001b[0m \u001b[0;32mis\u001b[0m \u001b[0;32mNone\u001b[0m\u001b[0;34m:\u001b[0m\u001b[0;34m\u001b[0m\u001b[0m\n\u001b[0;32m--> 806\u001b[0;31m             \u001b[0m_check_call\u001b[0m\u001b[0;34m(\u001b[0m\u001b[0m_LIB\u001b[0m\u001b[0;34m.\u001b[0m\u001b[0mXGBoosterUpdateOneIter\u001b[0m\u001b[0;34m(\u001b[0m\u001b[0mself\u001b[0m\u001b[0;34m.\u001b[0m\u001b[0mhandle\u001b[0m\u001b[0;34m,\u001b[0m \u001b[0miteration\u001b[0m\u001b[0;34m,\u001b[0m \u001b[0mdtrain\u001b[0m\u001b[0;34m.\u001b[0m\u001b[0mhandle\u001b[0m\u001b[0;34m)\u001b[0m\u001b[0;34m)\u001b[0m\u001b[0;34m\u001b[0m\u001b[0m\n\u001b[0m\u001b[1;32m    807\u001b[0m         \u001b[0;32melse\u001b[0m\u001b[0;34m:\u001b[0m\u001b[0;34m\u001b[0m\u001b[0m\n\u001b[1;32m    808\u001b[0m             \u001b[0mpred\u001b[0m \u001b[0;34m=\u001b[0m \u001b[0mself\u001b[0m\u001b[0;34m.\u001b[0m\u001b[0mpredict\u001b[0m\u001b[0;34m(\u001b[0m\u001b[0mdtrain\u001b[0m\u001b[0;34m)\u001b[0m\u001b[0;34m\u001b[0m\u001b[0m\n",
      "\u001b[0;31mKeyboardInterrupt\u001b[0m: "
     ]
    }
   ],
   "source": [
    "xgbmodel.fit(Xtrain[feat], Xtrain['amount'] + shift)"
   ]
  },
  {
   "cell_type": "code",
   "execution_count": null,
   "metadata": {
    "collapsed": true
   },
   "outputs": [],
   "source": []
  },
  {
   "cell_type": "code",
   "execution_count": null,
   "metadata": {
    "collapsed": true
   },
   "outputs": [],
   "source": []
  },
  {
   "cell_type": "code",
   "execution_count": null,
   "metadata": {
    "collapsed": true
   },
   "outputs": [],
   "source": []
  },
  {
   "cell_type": "code",
   "execution_count": 48,
   "metadata": {
    "collapsed": true
   },
   "outputs": [],
   "source": [
    "train = pd.get_dummies(train_transactions,columns=['mcc_code'])\n",
    "test = pd.get_dummies(test_transactions, columns=['mcc_code'])"
   ]
  },
  {
   "cell_type": "code",
   "execution_count": 49,
   "metadata": {
    "collapsed": false
   },
   "outputs": [
    {
     "data": {
      "text/html": [
       "<div>\n",
       "<table border=\"1\" class=\"dataframe\">\n",
       "  <thead>\n",
       "    <tr style=\"text-align: right;\">\n",
       "      <th></th>\n",
       "      <th>day</th>\n",
       "      <th>week_num</th>\n",
       "      <th>week_day</th>\n",
       "      <th>month_num</th>\n",
       "      <th>month_day</th>\n",
       "      <th>amount</th>\n",
       "      <th>amount_day_0_1</th>\n",
       "      <th>amount_day_1_1</th>\n",
       "      <th>amount_day_2_1</th>\n",
       "      <th>amount_day_3_1</th>\n",
       "      <th>...</th>\n",
       "      <th>mcc_code_8299</th>\n",
       "      <th>mcc_code_8398</th>\n",
       "      <th>mcc_code_8641</th>\n",
       "      <th>mcc_code_8699</th>\n",
       "      <th>mcc_code_8999</th>\n",
       "      <th>mcc_code_9211</th>\n",
       "      <th>mcc_code_9222</th>\n",
       "      <th>mcc_code_9311</th>\n",
       "      <th>mcc_code_9399</th>\n",
       "      <th>mcc_code_9402</th>\n",
       "    </tr>\n",
       "  </thead>\n",
       "  <tbody>\n",
       "    <tr>\n",
       "      <th>0</th>\n",
       "      <td>0</td>\n",
       "      <td>0</td>\n",
       "      <td>0</td>\n",
       "      <td>0</td>\n",
       "      <td>0</td>\n",
       "      <td>11098744.26</td>\n",
       "      <td>-9999</td>\n",
       "      <td>-9999</td>\n",
       "      <td>-9999</td>\n",
       "      <td>-9999</td>\n",
       "      <td>...</td>\n",
       "      <td>0</td>\n",
       "      <td>0</td>\n",
       "      <td>0</td>\n",
       "      <td>0</td>\n",
       "      <td>0</td>\n",
       "      <td>0</td>\n",
       "      <td>0</td>\n",
       "      <td>0</td>\n",
       "      <td>0</td>\n",
       "      <td>0</td>\n",
       "    </tr>\n",
       "    <tr>\n",
       "      <th>1</th>\n",
       "      <td>1</td>\n",
       "      <td>0</td>\n",
       "      <td>1</td>\n",
       "      <td>0</td>\n",
       "      <td>1</td>\n",
       "      <td>7881825.53</td>\n",
       "      <td>-9999</td>\n",
       "      <td>-9999</td>\n",
       "      <td>-9999</td>\n",
       "      <td>-9999</td>\n",
       "      <td>...</td>\n",
       "      <td>0</td>\n",
       "      <td>0</td>\n",
       "      <td>0</td>\n",
       "      <td>0</td>\n",
       "      <td>0</td>\n",
       "      <td>0</td>\n",
       "      <td>0</td>\n",
       "      <td>0</td>\n",
       "      <td>0</td>\n",
       "      <td>0</td>\n",
       "    </tr>\n",
       "    <tr>\n",
       "      <th>2</th>\n",
       "      <td>2</td>\n",
       "      <td>0</td>\n",
       "      <td>2</td>\n",
       "      <td>0</td>\n",
       "      <td>2</td>\n",
       "      <td>6777480.45</td>\n",
       "      <td>-9999</td>\n",
       "      <td>-9999</td>\n",
       "      <td>-9999</td>\n",
       "      <td>-9999</td>\n",
       "      <td>...</td>\n",
       "      <td>0</td>\n",
       "      <td>0</td>\n",
       "      <td>0</td>\n",
       "      <td>0</td>\n",
       "      <td>0</td>\n",
       "      <td>0</td>\n",
       "      <td>0</td>\n",
       "      <td>0</td>\n",
       "      <td>0</td>\n",
       "      <td>0</td>\n",
       "    </tr>\n",
       "    <tr>\n",
       "      <th>3</th>\n",
       "      <td>3</td>\n",
       "      <td>0</td>\n",
       "      <td>3</td>\n",
       "      <td>0</td>\n",
       "      <td>3</td>\n",
       "      <td>9277943.73</td>\n",
       "      <td>-9999</td>\n",
       "      <td>-9999</td>\n",
       "      <td>-9999</td>\n",
       "      <td>-9999</td>\n",
       "      <td>...</td>\n",
       "      <td>0</td>\n",
       "      <td>0</td>\n",
       "      <td>0</td>\n",
       "      <td>0</td>\n",
       "      <td>0</td>\n",
       "      <td>0</td>\n",
       "      <td>0</td>\n",
       "      <td>0</td>\n",
       "      <td>0</td>\n",
       "      <td>0</td>\n",
       "    </tr>\n",
       "    <tr>\n",
       "      <th>4</th>\n",
       "      <td>4</td>\n",
       "      <td>0</td>\n",
       "      <td>4</td>\n",
       "      <td>0</td>\n",
       "      <td>4</td>\n",
       "      <td>9999757.21</td>\n",
       "      <td>-9999</td>\n",
       "      <td>-9999</td>\n",
       "      <td>-9999</td>\n",
       "      <td>-9999</td>\n",
       "      <td>...</td>\n",
       "      <td>0</td>\n",
       "      <td>0</td>\n",
       "      <td>0</td>\n",
       "      <td>0</td>\n",
       "      <td>0</td>\n",
       "      <td>0</td>\n",
       "      <td>0</td>\n",
       "      <td>0</td>\n",
       "      <td>0</td>\n",
       "      <td>0</td>\n",
       "    </tr>\n",
       "  </tbody>\n",
       "</table>\n",
       "<p>5 rows × 221 columns</p>\n",
       "</div>"
      ],
      "text/plain": [
       "   day  week_num  week_day  month_num  month_day       amount  amount_day_0_1  \\\n",
       "0    0         0         0          0          0  11098744.26           -9999   \n",
       "1    1         0         1          0          1   7881825.53           -9999   \n",
       "2    2         0         2          0          2   6777480.45           -9999   \n",
       "3    3         0         3          0          3   9277943.73           -9999   \n",
       "4    4         0         4          0          4   9999757.21           -9999   \n",
       "\n",
       "   amount_day_1_1  amount_day_2_1  amount_day_3_1      ...        \\\n",
       "0           -9999           -9999           -9999      ...         \n",
       "1           -9999           -9999           -9999      ...         \n",
       "2           -9999           -9999           -9999      ...         \n",
       "3           -9999           -9999           -9999      ...         \n",
       "4           -9999           -9999           -9999      ...         \n",
       "\n",
       "   mcc_code_8299  mcc_code_8398  mcc_code_8641  mcc_code_8699  mcc_code_8999  \\\n",
       "0              0              0              0              0              0   \n",
       "1              0              0              0              0              0   \n",
       "2              0              0              0              0              0   \n",
       "3              0              0              0              0              0   \n",
       "4              0              0              0              0              0   \n",
       "\n",
       "   mcc_code_9211  mcc_code_9222  mcc_code_9311  mcc_code_9399  mcc_code_9402  \n",
       "0              0              0              0              0              0  \n",
       "1              0              0              0              0              0  \n",
       "2              0              0              0              0              0  \n",
       "3              0              0              0              0              0  \n",
       "4              0              0              0              0              0  \n",
       "\n",
       "[5 rows x 221 columns]"
      ]
     },
     "execution_count": 49,
     "metadata": {},
     "output_type": "execute_result"
    }
   ],
   "source": [
    "train.head()"
   ]
  },
  {
   "cell_type": "code",
   "execution_count": null,
   "metadata": {
    "collapsed": false
   },
   "outputs": [],
   "source": [
    "Xtr = pd.get_dummies(train_transactions[train_transactions['month_num']!=14],columns=['mcc_code'])\n",
    "Xval = pd.get_dummies(train_transactions[train_transactions['month_num']==14],columns=['mcc_code'])\n",
    "Xtr.shape,Xval.shape"
   ]
  },
  {
   "cell_type": "code",
   "execution_count": null,
   "metadata": {
    "collapsed": false
   },
   "outputs": [],
   "source": [
    "Xval = Xval.reset_index(drop=True)"
   ]
  },
  {
   "cell_type": "code",
   "execution_count": null,
   "metadata": {
    "collapsed": false
   },
   "outputs": [],
   "source": [
    "c = Xtr.columns.difference(['amount'])"
   ]
  },
  {
   "cell_type": "code",
   "execution_count": null,
   "metadata": {
    "collapsed": false
   },
   "outputs": [],
   "source": [
    "shift = 500\n",
    "clf = LinearRegression()\n",
    "clf.fit(Xtr[c], np.log(-Xtr['amount'] + shift))"
   ]
  },
  {
   "cell_type": "code",
   "execution_count": null,
   "metadata": {
    "collapsed": false
   },
   "outputs": [],
   "source": [
    "p=clf.predict(Xval[c]) - shift"
   ]
  },
  {
   "cell_type": "code",
   "execution_count": null,
   "metadata": {
    "collapsed": false
   },
   "outputs": [],
   "source": [
    "Xval['amount'][77]"
   ]
  },
  {
   "cell_type": "code",
   "execution_count": null,
   "metadata": {
    "collapsed": false
   },
   "outputs": [],
   "source": [
    "rmsl500(-Xval['amount'],pval)"
   ]
  },
  {
   "cell_type": "code",
   "execution_count": null,
   "metadata": {
    "collapsed": true
   },
   "outputs": [],
   "source": [
    "pval = np.e ** clf.predict(Xval[c]) - shift"
   ]
  },
  {
   "cell_type": "code",
   "execution_count": null,
   "metadata": {
    "collapsed": false
   },
   "outputs": [],
   "source": [
    "(pval)"
   ]
  },
  {
   "cell_type": "code",
   "execution_count": null,
   "metadata": {
    "collapsed": false
   },
   "outputs": [],
   "source": [
    "abs(-3.1)"
   ]
  },
  {
   "cell_type": "code",
   "execution_count": 434,
   "metadata": {
    "collapsed": false
   },
   "outputs": [
    {
     "data": {
      "text/html": [
       "<div>\n",
       "<table border=\"1\" class=\"dataframe\">\n",
       "  <thead>\n",
       "    <tr style=\"text-align: right;\">\n",
       "      <th></th>\n",
       "      <th>day</th>\n",
       "      <th>week_num</th>\n",
       "      <th>week_day</th>\n",
       "      <th>month_num</th>\n",
       "      <th>month_day</th>\n",
       "      <th>amount</th>\n",
       "      <th>amount_day_-30_1</th>\n",
       "      <th>amount_day_-30_2</th>\n",
       "      <th>amount_day_-29_1</th>\n",
       "      <th>amount_day_-29_2</th>\n",
       "      <th>...</th>\n",
       "      <th>mcc_code_8299</th>\n",
       "      <th>mcc_code_8398</th>\n",
       "      <th>mcc_code_8641</th>\n",
       "      <th>mcc_code_8699</th>\n",
       "      <th>mcc_code_8999</th>\n",
       "      <th>mcc_code_9211</th>\n",
       "      <th>mcc_code_9222</th>\n",
       "      <th>mcc_code_9311</th>\n",
       "      <th>mcc_code_9399</th>\n",
       "      <th>mcc_code_9402</th>\n",
       "    </tr>\n",
       "  </thead>\n",
       "  <tbody>\n",
       "    <tr>\n",
       "      <th>137</th>\n",
       "      <td>210</td>\n",
       "      <td>30</td>\n",
       "      <td>0</td>\n",
       "      <td>7</td>\n",
       "      <td>0</td>\n",
       "      <td>11807132.98</td>\n",
       "      <td>0</td>\n",
       "      <td>0</td>\n",
       "      <td>16.324982</td>\n",
       "      <td>16.215874</td>\n",
       "      <td>...</td>\n",
       "      <td>0</td>\n",
       "      <td>0</td>\n",
       "      <td>0</td>\n",
       "      <td>0</td>\n",
       "      <td>0</td>\n",
       "      <td>0</td>\n",
       "      <td>0</td>\n",
       "      <td>0</td>\n",
       "      <td>0</td>\n",
       "      <td>0</td>\n",
       "    </tr>\n",
       "    <tr>\n",
       "      <th>138</th>\n",
       "      <td>211</td>\n",
       "      <td>30</td>\n",
       "      <td>1</td>\n",
       "      <td>7</td>\n",
       "      <td>1</td>\n",
       "      <td>10125215.38</td>\n",
       "      <td>0</td>\n",
       "      <td>0</td>\n",
       "      <td>0.000000</td>\n",
       "      <td>0.000000</td>\n",
       "      <td>...</td>\n",
       "      <td>0</td>\n",
       "      <td>0</td>\n",
       "      <td>0</td>\n",
       "      <td>0</td>\n",
       "      <td>0</td>\n",
       "      <td>0</td>\n",
       "      <td>0</td>\n",
       "      <td>0</td>\n",
       "      <td>0</td>\n",
       "      <td>0</td>\n",
       "    </tr>\n",
       "    <tr>\n",
       "      <th>139</th>\n",
       "      <td>213</td>\n",
       "      <td>30</td>\n",
       "      <td>3</td>\n",
       "      <td>7</td>\n",
       "      <td>3</td>\n",
       "      <td>12183943.03</td>\n",
       "      <td>0</td>\n",
       "      <td>0</td>\n",
       "      <td>0.000000</td>\n",
       "      <td>0.000000</td>\n",
       "      <td>...</td>\n",
       "      <td>0</td>\n",
       "      <td>0</td>\n",
       "      <td>0</td>\n",
       "      <td>0</td>\n",
       "      <td>0</td>\n",
       "      <td>0</td>\n",
       "      <td>0</td>\n",
       "      <td>0</td>\n",
       "      <td>0</td>\n",
       "      <td>0</td>\n",
       "    </tr>\n",
       "    <tr>\n",
       "      <th>140</th>\n",
       "      <td>214</td>\n",
       "      <td>30</td>\n",
       "      <td>4</td>\n",
       "      <td>7</td>\n",
       "      <td>4</td>\n",
       "      <td>9410543.81</td>\n",
       "      <td>0</td>\n",
       "      <td>0</td>\n",
       "      <td>0.000000</td>\n",
       "      <td>0.000000</td>\n",
       "      <td>...</td>\n",
       "      <td>0</td>\n",
       "      <td>0</td>\n",
       "      <td>0</td>\n",
       "      <td>0</td>\n",
       "      <td>0</td>\n",
       "      <td>0</td>\n",
       "      <td>0</td>\n",
       "      <td>0</td>\n",
       "      <td>0</td>\n",
       "      <td>0</td>\n",
       "    </tr>\n",
       "    <tr>\n",
       "      <th>141</th>\n",
       "      <td>215</td>\n",
       "      <td>30</td>\n",
       "      <td>5</td>\n",
       "      <td>7</td>\n",
       "      <td>5</td>\n",
       "      <td>8776986.56</td>\n",
       "      <td>0</td>\n",
       "      <td>0</td>\n",
       "      <td>0.000000</td>\n",
       "      <td>0.000000</td>\n",
       "      <td>...</td>\n",
       "      <td>0</td>\n",
       "      <td>0</td>\n",
       "      <td>0</td>\n",
       "      <td>0</td>\n",
       "      <td>0</td>\n",
       "      <td>0</td>\n",
       "      <td>0</td>\n",
       "      <td>0</td>\n",
       "      <td>0</td>\n",
       "      <td>0</td>\n",
       "    </tr>\n",
       "  </tbody>\n",
       "</table>\n",
       "<p>5 rows × 312 columns</p>\n",
       "</div>"
      ],
      "text/plain": [
       "     day  week_num  week_day  month_num  month_day       amount  \\\n",
       "137  210        30         0          7          0  11807132.98   \n",
       "138  211        30         1          7          1  10125215.38   \n",
       "139  213        30         3          7          3  12183943.03   \n",
       "140  214        30         4          7          4   9410543.81   \n",
       "141  215        30         5          7          5   8776986.56   \n",
       "\n",
       "     amount_day_-30_1  amount_day_-30_2  amount_day_-29_1  amount_day_-29_2  \\\n",
       "137                 0                 0         16.324982         16.215874   \n",
       "138                 0                 0          0.000000          0.000000   \n",
       "139                 0                 0          0.000000          0.000000   \n",
       "140                 0                 0          0.000000          0.000000   \n",
       "141                 0                 0          0.000000          0.000000   \n",
       "\n",
       "         ...        mcc_code_8299  mcc_code_8398  mcc_code_8641  \\\n",
       "137      ...                    0              0              0   \n",
       "138      ...                    0              0              0   \n",
       "139      ...                    0              0              0   \n",
       "140      ...                    0              0              0   \n",
       "141      ...                    0              0              0   \n",
       "\n",
       "     mcc_code_8699  mcc_code_8999  mcc_code_9211  mcc_code_9222  \\\n",
       "137              0              0              0              0   \n",
       "138              0              0              0              0   \n",
       "139              0              0              0              0   \n",
       "140              0              0              0              0   \n",
       "141              0              0              0              0   \n",
       "\n",
       "     mcc_code_9311  mcc_code_9399  mcc_code_9402  \n",
       "137              0              0              0  \n",
       "138              0              0              0  \n",
       "139              0              0              0  \n",
       "140              0              0              0  \n",
       "141              0              0              0  \n",
       "\n",
       "[5 rows x 312 columns]"
      ]
     },
     "execution_count": 434,
     "metadata": {},
     "output_type": "execute_result"
    }
   ],
   "source": [
    "train.head()"
   ]
  },
  {
   "cell_type": "code",
   "execution_count": 435,
   "metadata": {
    "collapsed": true
   },
   "outputs": [],
   "source": [
    "shift = 500\n",
    "train = pd.get_dummies(train_transactions, columns=['mcc_code'])\n",
    "train = train[train['month_num']>6]\n",
    "test = pd.get_dummies(test_transactions, columns=['mcc_code'])\n",
    "c = train.columns.difference(['amount'])"
   ]
  },
  {
   "cell_type": "code",
   "execution_count": null,
   "metadata": {
    "collapsed": true
   },
   "outputs": [],
   "source": [
    "params = {\n",
    "    'max_depth': 6,\n",
    "    'eta': 0.025,\n",
    "    'nthread': 4,\n",
    "    'subsample': 0.8,\n",
    "    'eval_metric': ['rmsl'],\n",
    "    'colsample_bytree': 0.9,\n",
    "    'min_child_weight': 0,\n",
    "    #'scale_pos_weight':(1-train.Label.mean())/train.Label.mean(),\n",
    "    'seed':1337\n",
    "}"
   ]
  },
  {
   "cell_type": "code",
   "execution_count": 467,
   "metadata": {
    "collapsed": true
   },
   "outputs": [],
   "source": [
    "clf = xgb.XGBRegressor(max_depth=4, learning_rate=0.05, n_estimators=300, objective='reg:linear', nthread=-1, gamma=0, min_child_weight=0, subsample=0.8, colsample_bytree=0.6, reg_alpha=0, reg_lambda=1, seed=7, missing=None)"
   ]
  },
  {
   "cell_type": "code",
   "execution_count": 437,
   "metadata": {
    "collapsed": false
   },
   "outputs": [
    {
     "data": {
      "text/plain": [
       "XGBRegressor(base_score=0.5, colsample_bylevel=1, colsample_bytree=0.6,\n",
       "       gamma=0, learning_rate=0.05, max_delta_step=0, max_depth=4,\n",
       "       min_child_weight=0, missing=None, n_estimators=300, nthread=-1,\n",
       "       objective='reg:linear', reg_alpha=0, reg_lambda=1,\n",
       "       scale_pos_weight=1, seed=7, silent=True, subsample=0.8)"
      ]
     },
     "execution_count": 437,
     "metadata": {},
     "output_type": "execute_result"
    }
   ],
   "source": [
    "clf.fit(train[c], np.log(train['amount'] + shift))"
   ]
  },
  {
   "cell_type": "code",
   "execution_count": null,
   "metadata": {
    "collapsed": true
   },
   "outputs": [],
   "source": []
  },
  {
   "cell_type": "code",
   "execution_count": null,
   "metadata": {
    "collapsed": true
   },
   "outputs": [],
   "source": []
  },
  {
   "cell_type": "code",
   "execution_count": null,
   "metadata": {
    "collapsed": false
   },
   "outputs": [],
   "source": [
    "\n",
    "\n",
    "#clf = LinearRegression()\n",
    "#clf.fit(train[c], np.log(-train['amount'] + shift))"
   ]
  },
  {
   "cell_type": "code",
   "execution_count": 438,
   "metadata": {
    "collapsed": false
   },
   "outputs": [
    {
     "ename": "KeyError",
     "evalue": "\"['month_num_10' 'month_num_11' 'month_num_12' 'month_num_13' 'month_num_14'\\n 'month_num_7' 'month_num_8' 'month_num_9' 'week_num_30' 'week_num_31'\\n 'week_num_32' 'week_num_33' 'week_num_34' 'week_num_35' 'week_num_36'\\n 'week_num_37' 'week_num_38' 'week_num_39' 'week_num_40' 'week_num_41'\\n 'week_num_42' 'week_num_43' 'week_num_44' 'week_num_45' 'week_num_46'\\n 'week_num_47' 'week_num_48' 'week_num_49' 'week_num_50' 'week_num_51'\\n 'week_num_52' 'week_num_53' 'week_num_54' 'week_num_55' 'week_num_56'\\n 'week_num_57' 'week_num_58' 'week_num_59' 'week_num_60' 'week_num_61'\\n 'week_num_62' 'week_num_63' 'week_num_64'] not in index\"",
     "output_type": "error",
     "traceback": [
      "\u001b[0;31m---------------------------------------------------------------------------\u001b[0m",
      "\u001b[0;31mKeyError\u001b[0m                                  Traceback (most recent call last)",
      "\u001b[0;32m<ipython-input-438-2497b2f98406>\u001b[0m in \u001b[0;36m<module>\u001b[0;34m()\u001b[0m\n\u001b[0;32m----> 1\u001b[0;31m \u001b[0mtest_transactions\u001b[0m\u001b[0;34m[\u001b[0m\u001b[0;34m'volume'\u001b[0m\u001b[0;34m]\u001b[0m \u001b[0;34m=\u001b[0m \u001b[0mnp\u001b[0m\u001b[0;34m.\u001b[0m\u001b[0me\u001b[0m \u001b[0;34m**\u001b[0m \u001b[0mclf\u001b[0m\u001b[0;34m.\u001b[0m\u001b[0mpredict\u001b[0m\u001b[0;34m(\u001b[0m\u001b[0mtest\u001b[0m\u001b[0;34m[\u001b[0m\u001b[0mc\u001b[0m\u001b[0;34m]\u001b[0m\u001b[0;34m)\u001b[0m \u001b[0;34m-\u001b[0m \u001b[0mshift\u001b[0m\u001b[0;34m\u001b[0m\u001b[0m\n\u001b[0m\u001b[1;32m      2\u001b[0m \u001b[0mtest_transactions\u001b[0m\u001b[0;34m[\u001b[0m\u001b[0;34m[\u001b[0m\u001b[0;34m'mcc_code'\u001b[0m\u001b[0;34m,\u001b[0m \u001b[0;34m'day'\u001b[0m\u001b[0;34m,\u001b[0m \u001b[0;34m'volume'\u001b[0m\u001b[0;34m]\u001b[0m\u001b[0;34m]\u001b[0m\u001b[0;34m.\u001b[0m\u001b[0mto_csv\u001b[0m\u001b[0;34m(\u001b[0m\u001b[0;34m'xgbbase-c_nan.csv'\u001b[0m\u001b[0;34m,\u001b[0m \u001b[0mindex\u001b[0m\u001b[0;34m=\u001b[0m\u001b[0;32mFalse\u001b[0m\u001b[0;34m)\u001b[0m\u001b[0;34m\u001b[0m\u001b[0m\n",
      "\u001b[0;32m/home/dz/anaconda3/lib/python3.5/site-packages/pandas/core/frame.py\u001b[0m in \u001b[0;36m__getitem__\u001b[0;34m(self, key)\u001b[0m\n\u001b[1;32m   1961\u001b[0m         \u001b[0;32mif\u001b[0m \u001b[0misinstance\u001b[0m\u001b[0;34m(\u001b[0m\u001b[0mkey\u001b[0m\u001b[0;34m,\u001b[0m \u001b[0;34m(\u001b[0m\u001b[0mSeries\u001b[0m\u001b[0;34m,\u001b[0m \u001b[0mnp\u001b[0m\u001b[0;34m.\u001b[0m\u001b[0mndarray\u001b[0m\u001b[0;34m,\u001b[0m \u001b[0mIndex\u001b[0m\u001b[0;34m,\u001b[0m \u001b[0mlist\u001b[0m\u001b[0;34m)\u001b[0m\u001b[0;34m)\u001b[0m\u001b[0;34m:\u001b[0m\u001b[0;34m\u001b[0m\u001b[0m\n\u001b[1;32m   1962\u001b[0m             \u001b[0;31m# either boolean or fancy integer index\u001b[0m\u001b[0;34m\u001b[0m\u001b[0;34m\u001b[0m\u001b[0m\n\u001b[0;32m-> 1963\u001b[0;31m             \u001b[0;32mreturn\u001b[0m \u001b[0mself\u001b[0m\u001b[0;34m.\u001b[0m\u001b[0m_getitem_array\u001b[0m\u001b[0;34m(\u001b[0m\u001b[0mkey\u001b[0m\u001b[0;34m)\u001b[0m\u001b[0;34m\u001b[0m\u001b[0m\n\u001b[0m\u001b[1;32m   1964\u001b[0m         \u001b[0;32melif\u001b[0m \u001b[0misinstance\u001b[0m\u001b[0;34m(\u001b[0m\u001b[0mkey\u001b[0m\u001b[0;34m,\u001b[0m \u001b[0mDataFrame\u001b[0m\u001b[0;34m)\u001b[0m\u001b[0;34m:\u001b[0m\u001b[0;34m\u001b[0m\u001b[0m\n\u001b[1;32m   1965\u001b[0m             \u001b[0;32mreturn\u001b[0m \u001b[0mself\u001b[0m\u001b[0;34m.\u001b[0m\u001b[0m_getitem_frame\u001b[0m\u001b[0;34m(\u001b[0m\u001b[0mkey\u001b[0m\u001b[0;34m)\u001b[0m\u001b[0;34m\u001b[0m\u001b[0m\n",
      "\u001b[0;32m/home/dz/anaconda3/lib/python3.5/site-packages/pandas/core/frame.py\u001b[0m in \u001b[0;36m_getitem_array\u001b[0;34m(self, key)\u001b[0m\n\u001b[1;32m   2005\u001b[0m             \u001b[0;32mreturn\u001b[0m \u001b[0mself\u001b[0m\u001b[0;34m.\u001b[0m\u001b[0mtake\u001b[0m\u001b[0;34m(\u001b[0m\u001b[0mindexer\u001b[0m\u001b[0;34m,\u001b[0m \u001b[0maxis\u001b[0m\u001b[0;34m=\u001b[0m\u001b[0;36m0\u001b[0m\u001b[0;34m,\u001b[0m \u001b[0mconvert\u001b[0m\u001b[0;34m=\u001b[0m\u001b[0;32mFalse\u001b[0m\u001b[0;34m)\u001b[0m\u001b[0;34m\u001b[0m\u001b[0m\n\u001b[1;32m   2006\u001b[0m         \u001b[0;32melse\u001b[0m\u001b[0;34m:\u001b[0m\u001b[0;34m\u001b[0m\u001b[0m\n\u001b[0;32m-> 2007\u001b[0;31m             \u001b[0mindexer\u001b[0m \u001b[0;34m=\u001b[0m \u001b[0mself\u001b[0m\u001b[0;34m.\u001b[0m\u001b[0mix\u001b[0m\u001b[0;34m.\u001b[0m\u001b[0m_convert_to_indexer\u001b[0m\u001b[0;34m(\u001b[0m\u001b[0mkey\u001b[0m\u001b[0;34m,\u001b[0m \u001b[0maxis\u001b[0m\u001b[0;34m=\u001b[0m\u001b[0;36m1\u001b[0m\u001b[0;34m)\u001b[0m\u001b[0;34m\u001b[0m\u001b[0m\n\u001b[0m\u001b[1;32m   2008\u001b[0m             \u001b[0;32mreturn\u001b[0m \u001b[0mself\u001b[0m\u001b[0;34m.\u001b[0m\u001b[0mtake\u001b[0m\u001b[0;34m(\u001b[0m\u001b[0mindexer\u001b[0m\u001b[0;34m,\u001b[0m \u001b[0maxis\u001b[0m\u001b[0;34m=\u001b[0m\u001b[0;36m1\u001b[0m\u001b[0;34m,\u001b[0m \u001b[0mconvert\u001b[0m\u001b[0;34m=\u001b[0m\u001b[0;32mTrue\u001b[0m\u001b[0;34m)\u001b[0m\u001b[0;34m\u001b[0m\u001b[0m\n\u001b[1;32m   2009\u001b[0m \u001b[0;34m\u001b[0m\u001b[0m\n",
      "\u001b[0;32m/home/dz/anaconda3/lib/python3.5/site-packages/pandas/core/indexing.py\u001b[0m in \u001b[0;36m_convert_to_indexer\u001b[0;34m(self, obj, axis, is_setter)\u001b[0m\n\u001b[1;32m   1148\u001b[0m                 \u001b[0mmask\u001b[0m \u001b[0;34m=\u001b[0m \u001b[0mcheck\u001b[0m \u001b[0;34m==\u001b[0m \u001b[0;34m-\u001b[0m\u001b[0;36m1\u001b[0m\u001b[0;34m\u001b[0m\u001b[0m\n\u001b[1;32m   1149\u001b[0m                 \u001b[0;32mif\u001b[0m \u001b[0mmask\u001b[0m\u001b[0;34m.\u001b[0m\u001b[0many\u001b[0m\u001b[0;34m(\u001b[0m\u001b[0;34m)\u001b[0m\u001b[0;34m:\u001b[0m\u001b[0;34m\u001b[0m\u001b[0m\n\u001b[0;32m-> 1150\u001b[0;31m                     \u001b[0;32mraise\u001b[0m \u001b[0mKeyError\u001b[0m\u001b[0;34m(\u001b[0m\u001b[0;34m'%s not in index'\u001b[0m \u001b[0;34m%\u001b[0m \u001b[0mobjarr\u001b[0m\u001b[0;34m[\u001b[0m\u001b[0mmask\u001b[0m\u001b[0;34m]\u001b[0m\u001b[0;34m)\u001b[0m\u001b[0;34m\u001b[0m\u001b[0m\n\u001b[0m\u001b[1;32m   1151\u001b[0m \u001b[0;34m\u001b[0m\u001b[0m\n\u001b[1;32m   1152\u001b[0m                 \u001b[0;32mreturn\u001b[0m \u001b[0m_values_from_object\u001b[0m\u001b[0;34m(\u001b[0m\u001b[0mindexer\u001b[0m\u001b[0;34m)\u001b[0m\u001b[0;34m\u001b[0m\u001b[0m\n",
      "\u001b[0;31mKeyError\u001b[0m: \"['month_num_10' 'month_num_11' 'month_num_12' 'month_num_13' 'month_num_14'\\n 'month_num_7' 'month_num_8' 'month_num_9' 'week_num_30' 'week_num_31'\\n 'week_num_32' 'week_num_33' 'week_num_34' 'week_num_35' 'week_num_36'\\n 'week_num_37' 'week_num_38' 'week_num_39' 'week_num_40' 'week_num_41'\\n 'week_num_42' 'week_num_43' 'week_num_44' 'week_num_45' 'week_num_46'\\n 'week_num_47' 'week_num_48' 'week_num_49' 'week_num_50' 'week_num_51'\\n 'week_num_52' 'week_num_53' 'week_num_54' 'week_num_55' 'week_num_56'\\n 'week_num_57' 'week_num_58' 'week_num_59' 'week_num_60' 'week_num_61'\\n 'week_num_62' 'week_num_63' 'week_num_64'] not in index\""
     ]
    }
   ],
   "source": [
    "test_transactions['volume'] = np.e ** clf.predict(test[c]) - shift\n",
    "test_transactions[['mcc_code', 'day', 'volume']].to_csv('xgbbase-c_nan.csv', index=False)"
   ]
  },
  {
   "cell_type": "code",
   "execution_count": null,
   "metadata": {
    "collapsed": true
   },
   "outputs": [],
   "source": [
    "def rmsl500(y,p):\n",
    "    z=0\n",
    "    for i in range(len(y)):\n",
    "        z = z+(np.log(y[i]+500)-np.log(abs(p[i])+500))**2\n",
    "    z =z/len(y)\n",
    "    print(z)\n",
    "    z = np.sqrt(z)\n",
    "    return z"
   ]
  },
  {
   "cell_type": "code",
   "execution_count": null,
   "metadata": {
    "collapsed": true
   },
   "outputs": [],
   "source": [
    "rmsl500"
   ]
  }
 ],
 "metadata": {
  "anaconda-cloud": {},
  "kernelspec": {
   "display_name": "Python [conda root]",
   "language": "python",
   "name": "conda-root-py"
  },
  "language_info": {
   "codemirror_mode": {
    "name": "ipython",
    "version": 3
   },
   "file_extension": ".py",
   "mimetype": "text/x-python",
   "name": "python",
   "nbconvert_exporter": "python",
   "pygments_lexer": "ipython3",
   "version": "3.5.2"
  }
 },
 "nbformat": 4,
 "nbformat_minor": 1
}
