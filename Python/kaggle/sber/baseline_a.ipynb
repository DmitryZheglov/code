{
 "cells": [
  {
   "cell_type": "code",
   "execution_count": 2,
   "metadata": {
    "collapsed": true
   },
   "outputs": [],
   "source": [
    "import pandas as pd\n",
    "import numpy as np\n",
    "\n",
    "from sklearn.ensemble import GradientBoostingClassifier"
   ]
  },
  {
   "cell_type": "markdown",
   "metadata": {},
   "source": [
    "Читаем входные файлы с данными"
   ]
  },
  {
   "cell_type": "code",
   "execution_count": 3,
   "metadata": {
    "collapsed": true
   },
   "outputs": [],
   "source": [
    "transactions = pd.read_csv('data/transactions.csv')\n",
    "customers_gender = pd.read_csv('data/customers_gender_train.csv')"
   ]
  },
  {
   "cell_type": "code",
   "execution_count": 4,
   "metadata": {
    "collapsed": false
   },
   "outputs": [
    {
     "data": {
      "text/html": [
       "<div>\n",
       "<table border=\"1\" class=\"dataframe\">\n",
       "  <thead>\n",
       "    <tr style=\"text-align: right;\">\n",
       "      <th></th>\n",
       "      <th>customer_id</th>\n",
       "      <th>tr_datetime</th>\n",
       "      <th>mcc_code</th>\n",
       "      <th>tr_type</th>\n",
       "      <th>amount</th>\n",
       "      <th>term_id</th>\n",
       "    </tr>\n",
       "  </thead>\n",
       "  <tbody>\n",
       "    <tr>\n",
       "      <th>0</th>\n",
       "      <td>39026145</td>\n",
       "      <td>0 10:23:26</td>\n",
       "      <td>4814</td>\n",
       "      <td>1030</td>\n",
       "      <td>-2245.92</td>\n",
       "      <td>NaN</td>\n",
       "    </tr>\n",
       "    <tr>\n",
       "      <th>1</th>\n",
       "      <td>39026145</td>\n",
       "      <td>1 10:19:29</td>\n",
       "      <td>6011</td>\n",
       "      <td>7010</td>\n",
       "      <td>56147.89</td>\n",
       "      <td>NaN</td>\n",
       "    </tr>\n",
       "    <tr>\n",
       "      <th>2</th>\n",
       "      <td>39026145</td>\n",
       "      <td>1 10:20:56</td>\n",
       "      <td>4829</td>\n",
       "      <td>2330</td>\n",
       "      <td>-56147.89</td>\n",
       "      <td>NaN</td>\n",
       "    </tr>\n",
       "    <tr>\n",
       "      <th>3</th>\n",
       "      <td>39026145</td>\n",
       "      <td>1 10:39:54</td>\n",
       "      <td>5499</td>\n",
       "      <td>1010</td>\n",
       "      <td>-1392.47</td>\n",
       "      <td>NaN</td>\n",
       "    </tr>\n",
       "    <tr>\n",
       "      <th>4</th>\n",
       "      <td>39026145</td>\n",
       "      <td>2 15:33:42</td>\n",
       "      <td>5499</td>\n",
       "      <td>1010</td>\n",
       "      <td>-920.83</td>\n",
       "      <td>NaN</td>\n",
       "    </tr>\n",
       "  </tbody>\n",
       "</table>\n",
       "</div>"
      ],
      "text/plain": [
       "   customer_id tr_datetime  mcc_code  tr_type    amount term_id\n",
       "0     39026145  0 10:23:26      4814     1030  -2245.92     NaN\n",
       "1     39026145  1 10:19:29      6011     7010  56147.89     NaN\n",
       "2     39026145  1 10:20:56      4829     2330 -56147.89     NaN\n",
       "3     39026145  1 10:39:54      5499     1010  -1392.47     NaN\n",
       "4     39026145  2 15:33:42      5499     1010   -920.83     NaN"
      ]
     },
     "execution_count": 4,
     "metadata": {},
     "output_type": "execute_result"
    }
   ],
   "source": [
    "transactions.head()"
   ]
  },
  {
   "cell_type": "code",
   "execution_count": 16,
   "metadata": {
    "collapsed": false
   },
   "outputs": [],
   "source": [
    "X = transactions.groupby('customer_id').apply(lambda x: x[['tr_type']].unstack().value_counts()) \\\n",
    "                  .unstack() \\\n",
    "                 .fillna(0)"
   ]
  },
  {
   "cell_type": "markdown",
   "metadata": {},
   "source": [
    "Для каждого клиента подсчитываем различные mcc_code"
   ]
  },
  {
   "cell_type": "code",
   "execution_count": 26,
   "metadata": {
    "collapsed": false
   },
   "outputs": [],
   "source": [
    "X = transactions.groupby('customer_id') \\\n",
    "                    .apply(lambda x: x[['mcc_code']].unstack().value_counts()) \\\n",
    "                    .unstack() \\\n",
    "                 .fillna(0)"
   ]
  },
  {
   "cell_type": "code",
   "execution_count": 28,
   "metadata": {
    "collapsed": false
   },
   "outputs": [
    {
     "data": {
      "text/plain": [
       "(15000, 184)"
      ]
     },
     "execution_count": 28,
     "metadata": {},
     "output_type": "execute_result"
    }
   ],
   "source": [
    "X.shape"
   ]
  },
  {
   "cell_type": "code",
   "execution_count": 18,
   "metadata": {
    "collapsed": false
   },
   "outputs": [],
   "source": [
    "customers_gender = customers_gender.set_index('customer_id')"
   ]
  },
  {
   "cell_type": "code",
   "execution_count": 19,
   "metadata": {
    "collapsed": false
   },
   "outputs": [],
   "source": [
    "Y_train = customers_gender.loc[X.index].gender\n",
    "Y_train = Y_train.reset_index()\n",
    "del Y_train['customer_id']\n",
    "Y_train = Y_train.dropna(0)"
   ]
  },
  {
   "cell_type": "code",
   "execution_count": 20,
   "metadata": {
    "collapsed": true
   },
   "outputs": [],
   "source": [
    "X_train = X.reset_index()\n",
    "X_train = X_train.loc[Y_train.index].set_index('customer_id')"
   ]
  },
  {
   "cell_type": "code",
   "execution_count": 21,
   "metadata": {
    "collapsed": false
   },
   "outputs": [
    {
     "data": {
      "text/html": [
       "<div>\n",
       "<table border=\"1\" class=\"dataframe\">\n",
       "  <thead>\n",
       "    <tr style=\"text-align: right;\">\n",
       "      <th></th>\n",
       "      <th>1000</th>\n",
       "      <th>1010</th>\n",
       "      <th>1030</th>\n",
       "      <th>1100</th>\n",
       "      <th>1110</th>\n",
       "      <th>1200</th>\n",
       "      <th>1210</th>\n",
       "      <th>1310</th>\n",
       "      <th>1410</th>\n",
       "      <th>1510</th>\n",
       "      <th>...</th>\n",
       "      <th>7040</th>\n",
       "      <th>7041</th>\n",
       "      <th>7044</th>\n",
       "      <th>7070</th>\n",
       "      <th>7071</th>\n",
       "      <th>7074</th>\n",
       "      <th>7075</th>\n",
       "      <th>8100</th>\n",
       "      <th>8145</th>\n",
       "      <th>8146</th>\n",
       "    </tr>\n",
       "    <tr>\n",
       "      <th>customer_id</th>\n",
       "      <th></th>\n",
       "      <th></th>\n",
       "      <th></th>\n",
       "      <th></th>\n",
       "      <th></th>\n",
       "      <th></th>\n",
       "      <th></th>\n",
       "      <th></th>\n",
       "      <th></th>\n",
       "      <th></th>\n",
       "      <th></th>\n",
       "      <th></th>\n",
       "      <th></th>\n",
       "      <th></th>\n",
       "      <th></th>\n",
       "      <th></th>\n",
       "      <th></th>\n",
       "      <th></th>\n",
       "      <th></th>\n",
       "      <th></th>\n",
       "      <th></th>\n",
       "    </tr>\n",
       "  </thead>\n",
       "  <tbody>\n",
       "    <tr>\n",
       "      <th>6815</th>\n",
       "      <td>0</td>\n",
       "      <td>42</td>\n",
       "      <td>90</td>\n",
       "      <td>0</td>\n",
       "      <td>18</td>\n",
       "      <td>0</td>\n",
       "      <td>0</td>\n",
       "      <td>0</td>\n",
       "      <td>0</td>\n",
       "      <td>0</td>\n",
       "      <td>...</td>\n",
       "      <td>0</td>\n",
       "      <td>0</td>\n",
       "      <td>0</td>\n",
       "      <td>0</td>\n",
       "      <td>0</td>\n",
       "      <td>0</td>\n",
       "      <td>0</td>\n",
       "      <td>0</td>\n",
       "      <td>0</td>\n",
       "      <td>0</td>\n",
       "    </tr>\n",
       "    <tr>\n",
       "      <th>22899</th>\n",
       "      <td>0</td>\n",
       "      <td>6</td>\n",
       "      <td>47</td>\n",
       "      <td>0</td>\n",
       "      <td>27</td>\n",
       "      <td>1</td>\n",
       "      <td>0</td>\n",
       "      <td>0</td>\n",
       "      <td>0</td>\n",
       "      <td>0</td>\n",
       "      <td>...</td>\n",
       "      <td>0</td>\n",
       "      <td>0</td>\n",
       "      <td>0</td>\n",
       "      <td>9</td>\n",
       "      <td>3</td>\n",
       "      <td>0</td>\n",
       "      <td>1</td>\n",
       "      <td>0</td>\n",
       "      <td>0</td>\n",
       "      <td>0</td>\n",
       "    </tr>\n",
       "    <tr>\n",
       "      <th>27914</th>\n",
       "      <td>0</td>\n",
       "      <td>0</td>\n",
       "      <td>58</td>\n",
       "      <td>0</td>\n",
       "      <td>1</td>\n",
       "      <td>2</td>\n",
       "      <td>0</td>\n",
       "      <td>0</td>\n",
       "      <td>0</td>\n",
       "      <td>0</td>\n",
       "      <td>...</td>\n",
       "      <td>0</td>\n",
       "      <td>0</td>\n",
       "      <td>0</td>\n",
       "      <td>0</td>\n",
       "      <td>0</td>\n",
       "      <td>0</td>\n",
       "      <td>0</td>\n",
       "      <td>0</td>\n",
       "      <td>0</td>\n",
       "      <td>0</td>\n",
       "    </tr>\n",
       "    <tr>\n",
       "      <th>28753</th>\n",
       "      <td>0</td>\n",
       "      <td>89</td>\n",
       "      <td>25</td>\n",
       "      <td>3</td>\n",
       "      <td>65</td>\n",
       "      <td>0</td>\n",
       "      <td>0</td>\n",
       "      <td>0</td>\n",
       "      <td>0</td>\n",
       "      <td>0</td>\n",
       "      <td>...</td>\n",
       "      <td>1</td>\n",
       "      <td>0</td>\n",
       "      <td>0</td>\n",
       "      <td>14</td>\n",
       "      <td>0</td>\n",
       "      <td>0</td>\n",
       "      <td>0</td>\n",
       "      <td>0</td>\n",
       "      <td>0</td>\n",
       "      <td>0</td>\n",
       "    </tr>\n",
       "    <tr>\n",
       "      <th>31385</th>\n",
       "      <td>0</td>\n",
       "      <td>75</td>\n",
       "      <td>125</td>\n",
       "      <td>0</td>\n",
       "      <td>75</td>\n",
       "      <td>0</td>\n",
       "      <td>0</td>\n",
       "      <td>0</td>\n",
       "      <td>0</td>\n",
       "      <td>0</td>\n",
       "      <td>...</td>\n",
       "      <td>0</td>\n",
       "      <td>0</td>\n",
       "      <td>0</td>\n",
       "      <td>1</td>\n",
       "      <td>0</td>\n",
       "      <td>0</td>\n",
       "      <td>0</td>\n",
       "      <td>0</td>\n",
       "      <td>0</td>\n",
       "      <td>0</td>\n",
       "    </tr>\n",
       "  </tbody>\n",
       "</table>\n",
       "<p>5 rows × 77 columns</p>\n",
       "</div>"
      ],
      "text/plain": [
       "             1000  1010  1030  1100  1110  1200  1210  1310  1410  1510  ...   \\\n",
       "customer_id                                                              ...    \n",
       "6815            0    42    90     0    18     0     0     0     0     0  ...    \n",
       "22899           0     6    47     0    27     1     0     0     0     0  ...    \n",
       "27914           0     0    58     0     1     2     0     0     0     0  ...    \n",
       "28753           0    89    25     3    65     0     0     0     0     0  ...    \n",
       "31385           0    75   125     0    75     0     0     0     0     0  ...    \n",
       "\n",
       "             7040  7041  7044  7070  7071  7074  7075  8100  8145  8146  \n",
       "customer_id                                                              \n",
       "6815            0     0     0     0     0     0     0     0     0     0  \n",
       "22899           0     0     0     9     3     0     1     0     0     0  \n",
       "27914           0     0     0     0     0     0     0     0     0     0  \n",
       "28753           1     0     0    14     0     0     0     0     0     0  \n",
       "31385           0     0     0     1     0     0     0     0     0     0  \n",
       "\n",
       "[5 rows x 77 columns]"
      ]
     },
     "execution_count": 21,
     "metadata": {},
     "output_type": "execute_result"
    }
   ],
   "source": [
    "X_train.head()"
   ]
  },
  {
   "cell_type": "markdown",
   "metadata": {},
   "source": [
    "Обучаемся на всех данных"
   ]
  },
  {
   "cell_type": "code",
   "execution_count": 22,
   "metadata": {
    "collapsed": false
   },
   "outputs": [],
   "source": [
    "import xgboost as xgb\n",
    "from sklearn.cross_validation import train_test_split\n",
    "Xtr, Xval, ytr, yval = train_test_split(X_train, Y_train, test_size=0.2, random_state=42)"
   ]
  },
  {
   "cell_type": "code",
   "execution_count": 23,
   "metadata": {
    "collapsed": true
   },
   "outputs": [],
   "source": [
    "params = {\n",
    "    'max_depth': 6,\n",
    "    'eta': 0.025,\n",
    "    'nthread': 4,\n",
    "    'subsample': 0.8,\n",
    "    'eval_metric': ['auc'],\n",
    "    'objective': 'binary:logistic',\n",
    "    'colsample_bytree': 0.9,\n",
    "    'min_child_weight': 0,\n",
    "    #'scale_pos_weight':(1-train.Label.mean())/train.Label.mean(),\n",
    "    'seed':1337\n",
    "}"
   ]
  },
  {
   "cell_type": "code",
   "execution_count": 24,
   "metadata": {
    "collapsed": true
   },
   "outputs": [],
   "source": [
    "dtr = xgb.DMatrix(Xtr, label=ytr)\n",
    "dval = xgb.DMatrix(Xval, label=yval)\n",
    "watchlist = [(dtr, 'train'), (dval, 'eval')]\n",
    "history = dict()"
   ]
  },
  {
   "cell_type": "code",
   "execution_count": 25,
   "metadata": {
    "collapsed": false
   },
   "outputs": [
    {
     "name": "stdout",
     "output_type": "stream",
     "text": [
      "[0]\ttrain-auc:0.633928\teval-auc:0.603568\n",
      "[10]\ttrain-auc:0.699584\teval-auc:0.619718\n",
      "[20]\ttrain-auc:0.710837\teval-auc:0.62152\n",
      "[30]\ttrain-auc:0.720957\teval-auc:0.627249\n",
      "[40]\ttrain-auc:0.729549\teval-auc:0.628929\n",
      "[50]\ttrain-auc:0.739267\teval-auc:0.632356\n",
      "[60]\ttrain-auc:0.749146\teval-auc:0.637945\n",
      "[70]\ttrain-auc:0.754515\teval-auc:0.638501\n",
      "[80]\ttrain-auc:0.761423\teval-auc:0.640597\n",
      "[90]\ttrain-auc:0.76824\teval-auc:0.642113\n",
      "[100]\ttrain-auc:0.77321\teval-auc:0.643467\n",
      "[110]\ttrain-auc:0.779219\teval-auc:0.645564\n",
      "[120]\ttrain-auc:0.784826\teval-auc:0.646844\n",
      "[130]\ttrain-auc:0.790184\teval-auc:0.648763\n",
      "[140]\ttrain-auc:0.794797\teval-auc:0.650692\n",
      "[150]\ttrain-auc:0.800104\teval-auc:0.651545\n",
      "[160]\ttrain-auc:0.804414\teval-auc:0.652142\n",
      "[170]\ttrain-auc:0.807882\teval-auc:0.653232\n",
      "[180]\ttrain-auc:0.810775\teval-auc:0.654508\n",
      "[190]\ttrain-auc:0.815183\teval-auc:0.654851\n",
      "[200]\ttrain-auc:0.818905\teval-auc:0.655867\n",
      "[210]\ttrain-auc:0.822112\teval-auc:0.656\n",
      "[220]\ttrain-auc:0.825586\teval-auc:0.655534\n",
      "[230]\ttrain-auc:0.828758\teval-auc:0.655818\n",
      "[240]\ttrain-auc:0.832673\teval-auc:0.656415\n",
      "[250]\ttrain-auc:0.836991\teval-auc:0.656588\n",
      "[260]\ttrain-auc:0.840645\teval-auc:0.656838\n",
      "[270]\ttrain-auc:0.842907\teval-auc:0.656968\n",
      "[280]\ttrain-auc:0.845701\teval-auc:0.658009\n",
      "[290]\ttrain-auc:0.849122\teval-auc:0.658214\n",
      "[300]\ttrain-auc:0.852858\teval-auc:0.658246\n",
      "[310]\ttrain-auc:0.855992\teval-auc:0.658569\n",
      "[320]\ttrain-auc:0.859393\teval-auc:0.658024\n",
      "[330]\ttrain-auc:0.862355\teval-auc:0.658706\n",
      "[340]\ttrain-auc:0.865323\teval-auc:0.65923\n",
      "[350]\ttrain-auc:0.867102\teval-auc:0.658955\n",
      "[360]\ttrain-auc:0.869936\teval-auc:0.658978\n",
      "[370]\ttrain-auc:0.873084\teval-auc:0.658757\n",
      "[380]\ttrain-auc:0.876031\teval-auc:0.658548\n",
      "[390]\ttrain-auc:0.878574\teval-auc:0.658463\n",
      "[400]\ttrain-auc:0.880713\teval-auc:0.659021\n",
      "[410]\ttrain-auc:0.882633\teval-auc:0.658735\n",
      "[420]\ttrain-auc:0.884751\teval-auc:0.658554\n",
      "[430]\ttrain-auc:0.888439\teval-auc:0.658079\n",
      "[440]\ttrain-auc:0.890926\teval-auc:0.658041\n",
      "[450]\ttrain-auc:0.894165\teval-auc:0.658145\n",
      "[460]\ttrain-auc:0.896086\teval-auc:0.658339\n",
      "[470]\ttrain-auc:0.897643\teval-auc:0.658304\n",
      "[480]\ttrain-auc:0.899489\teval-auc:0.658297\n",
      "[490]\ttrain-auc:0.901648\teval-auc:0.658674\n",
      "[500]\ttrain-auc:0.903647\teval-auc:0.658544\n",
      "[510]\ttrain-auc:0.90536\teval-auc:0.657654\n",
      "[520]\ttrain-auc:0.907422\teval-auc:0.658101\n",
      "[530]\ttrain-auc:0.90958\teval-auc:0.657685\n",
      "[540]\ttrain-auc:0.911589\teval-auc:0.65719\n",
      "[550]\ttrain-auc:0.913303\teval-auc:0.657163\n",
      "[560]\ttrain-auc:0.915326\teval-auc:0.658582\n",
      "[570]\ttrain-auc:0.917054\teval-auc:0.658193\n",
      "[580]\ttrain-auc:0.918398\teval-auc:0.658544\n",
      "[590]\ttrain-auc:0.919596\teval-auc:0.658295\n",
      "[600]\ttrain-auc:0.921298\teval-auc:0.657706\n",
      "[610]\ttrain-auc:0.923243\teval-auc:0.657663\n",
      "[620]\ttrain-auc:0.92464\teval-auc:0.657524\n",
      "[630]\ttrain-auc:0.925539\teval-auc:0.657621\n",
      "[640]\ttrain-auc:0.926984\teval-auc:0.657388\n",
      "[650]\ttrain-auc:0.928929\teval-auc:0.657836\n",
      "[660]\ttrain-auc:0.930938\teval-auc:0.65794\n",
      "[670]\ttrain-auc:0.932718\teval-auc:0.657847\n",
      "[680]\ttrain-auc:0.934107\teval-auc:0.657441\n",
      "[690]\ttrain-auc:0.935267\teval-auc:0.657274\n",
      "[700]\ttrain-auc:0.936165\teval-auc:0.657273\n",
      "[710]\ttrain-auc:0.937241\teval-auc:0.657415\n",
      "[720]\ttrain-auc:0.938728\teval-auc:0.65759\n",
      "[730]\ttrain-auc:0.940205\teval-auc:0.65756\n",
      "[740]\ttrain-auc:0.941656\teval-auc:0.657239\n",
      "[750]\ttrain-auc:0.943064\teval-auc:0.656738\n",
      "[760]\ttrain-auc:0.944338\teval-auc:0.656285\n",
      "[770]\ttrain-auc:0.945254\teval-auc:0.655274\n",
      "[780]\ttrain-auc:0.946731\teval-auc:0.654488\n",
      "[790]\ttrain-auc:0.948012\teval-auc:0.654362\n",
      "[800]\ttrain-auc:0.948839\teval-auc:0.653756\n",
      "[810]\ttrain-auc:0.949678\teval-auc:0.653574\n",
      "[820]\ttrain-auc:0.950673\teval-auc:0.653625\n",
      "[830]\ttrain-auc:0.951681\teval-auc:0.653804\n",
      "[840]\ttrain-auc:0.952842\teval-auc:0.653242\n",
      "[850]\ttrain-auc:0.953754\teval-auc:0.652748\n",
      "[860]\ttrain-auc:0.954543\teval-auc:0.652621\n",
      "[870]\ttrain-auc:0.955582\teval-auc:0.651883\n",
      "[880]\ttrain-auc:0.956691\teval-auc:0.651422\n",
      "[890]\ttrain-auc:0.957872\teval-auc:0.650918\n",
      "[900]\ttrain-auc:0.95889\teval-auc:0.650699\n",
      "[910]\ttrain-auc:0.959749\teval-auc:0.650267\n",
      "[920]\ttrain-auc:0.960487\teval-auc:0.649627\n",
      "[930]\ttrain-auc:0.961377\teval-auc:0.649389\n",
      "[940]\ttrain-auc:0.962278\teval-auc:0.649174\n",
      "[950]\ttrain-auc:0.963132\teval-auc:0.649143\n",
      "[960]\ttrain-auc:0.963942\teval-auc:0.649122\n",
      "[970]\ttrain-auc:0.964508\teval-auc:0.649051\n",
      "[980]\ttrain-auc:0.965339\teval-auc:0.648511\n",
      "[990]\ttrain-auc:0.966089\teval-auc:0.648313\n"
     ]
    }
   ],
   "source": [
    "model = xgb.train(params, dtr, num_boost_round=1000, evals=watchlist,evals_result=history, verbose_eval=10)"
   ]
  },
  {
   "cell_type": "code",
   "execution_count": 7,
   "metadata": {
    "collapsed": false
   },
   "outputs": [
    {
     "data": {
      "text/plain": [
       "GradientBoostingClassifier(init=None, learning_rate=0.1, loss='deviance',\n",
       "              max_depth=3, max_features=None, max_leaf_nodes=None,\n",
       "              min_samples_leaf=1, min_samples_split=2,\n",
       "              min_weight_fraction_leaf=0.0, n_estimators=100,\n",
       "              presort='auto', random_state=13, subsample=1.0, verbose=0,\n",
       "              warm_start=False)"
      ]
     },
     "execution_count": 7,
     "metadata": {},
     "output_type": "execute_result"
    }
   ],
   "source": [
    "clf = GradientBoostingClassifier(random_state=13)\n",
    "clf.fit(X_train, Y_train.values[:, 0])"
   ]
  },
  {
   "cell_type": "markdown",
   "metadata": {},
   "source": [
    "Предсказываем пол для тестовых данных и создаём файл с ответом"
   ]
  },
  {
   "cell_type": "code",
   "execution_count": 10,
   "metadata": {
    "collapsed": true
   },
   "outputs": [],
   "source": [
    "X_test = X.drop(customers_gender.index)\n",
    "result = pd.DataFrame(X_test.index, columns=['customer_id'])\n",
    "result['gender'] = clf.predict_proba(X_test)[:, 1]"
   ]
  },
  {
   "cell_type": "code",
   "execution_count": 11,
   "metadata": {
    "collapsed": true
   },
   "outputs": [],
   "source": [
    "result.to_csv('baseline_a.csv', index=False)"
   ]
  }
 ],
 "metadata": {
  "anaconda-cloud": {},
  "kernelspec": {
   "display_name": "Python [conda root]",
   "language": "python",
   "name": "conda-root-py"
  },
  "language_info": {
   "codemirror_mode": {
    "name": "ipython",
    "version": 3
   },
   "file_extension": ".py",
   "mimetype": "text/x-python",
   "name": "python",
   "nbconvert_exporter": "python",
   "pygments_lexer": "ipython3",
   "version": "3.5.2"
  }
 },
 "nbformat": 4,
 "nbformat_minor": 1
}
