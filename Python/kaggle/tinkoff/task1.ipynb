{
 "cells": [
  {
   "cell_type": "code",
   "execution_count": 1,
   "metadata": {
    "collapsed": false
   },
   "outputs": [
    {
     "name": "stdout",
     "output_type": "stream",
     "text": [
      "Using matplotlib backend: Qt5Agg\n"
     ]
    },
    {
     "name": "stderr",
     "output_type": "stream",
     "text": [
      "/home/dz/anaconda3/lib/python3.5/site-packages/sklearn/cross_validation.py:44: DeprecationWarning: This module was deprecated in version 0.18 in favor of the model_selection module into which all the refactored classes and functions are moved. Also note that the interface of the new CV iterators are different from that of this module. This module will be removed in 0.20.\n",
      "  \"This module will be removed in 0.20.\", DeprecationWarning)\n"
     ]
    }
   ],
   "source": [
    "import pandas as pd\n",
    "import numpy as np\n",
    "import matplotlib.pyplot as plt\n",
    "plt.style.use('ggplot')\n",
    "%matplotlib\n",
    "from sklearn.cross_validation import train_test_split\n",
    "import xgboost as xgb"
   ]
  },
  {
   "cell_type": "markdown",
   "metadata": {},
   "source": [
    "# Functions"
   ]
  },
  {
   "cell_type": "code",
   "execution_count": 2,
   "metadata": {
    "collapsed": true
   },
   "outputs": [],
   "source": [
    "def pos(x):\n",
    "    if x>0:\n",
    "        return 1\n",
    "    else:\n",
    "        return 0\n",
    "def have_credit(x):\n",
    "    if x == 0:\n",
    "        return 0\n",
    "    elif x == -1:\n",
    "        return -1\n",
    "    else:\n",
    "        return 1\n",
    "\n",
    "def normalize_reg(x):\n",
    "    #if type(x) != unicode:\n",
    "        #return u''\n",
    "\n",
    "    x = x.upper()\n",
    "    x = x.replace(u'РЕСПУБЛИКА', u'')\n",
    "    x = x.replace(u'РЕСП', u'')\n",
    "    x = x.replace(u'ОБЛАСТЬ', u'')\n",
    "    x = x.replace(u'ОБЛ', u'')\n",
    "    x = x.replace(u'КРАЙ', u'')\n",
    "    x = x.replace(u'Г ', u'')\n",
    "    x = x.replace(u' Г', u'')\n",
    "    x = x.replace(u'Г.', u'')\n",
    "    x = x.replace(u'АО ', u'')\n",
    "    x = x.replace(u' АО', u'')\n",
    "    x = x.replace(u'АO', '')\n",
    "    x = x.replace(u'ЧУВАШСКАЯ', u'')\n",
    "    x = x.replace(u'(', u'')\n",
    "    x = x.replace(u')', u'')\n",
    "    x = x.replace(u'/', u'')\n",
    "    x = x.replace(u' ', u'')\n",
    "    x = x.replace(u'.', u'')\n",
    "    x = x.replace(u'-', u'')\n",
    "\n",
    "    x = x.replace(u'ЧУВАШСКАЯ', u'')\n",
    "    x = x.replace(u'ОРЁЛ', u'')\n",
    "    x = x.replace(u'СЕВЕРНАЯ', u'СЕВ')\n",
    "    if u'ЕВРЕЙ' in x:\n",
    "        x = u'ЕВРЕЙСКАЯАО'\n",
    "    if u'КАМЧ' in x:\n",
    "        x = u'КАМЧАТКА'\n",
    "    if u'ХАНТЫ' in x:\n",
    "        x = u'ХМАО'\n",
    "    if u'САХА' in x:\n",
    "        x = u'ЯКУТИЯ'\n",
    "    if u'АЛТАЙ' in x:\n",
    "        x = u'АЛТАЙ'\n",
    "    if u'МОСКОВСКИЙ' in x:\n",
    "        x = u'МОСКОВСКАЯ'\n",
    "    if u'МОСКВОС' in x:\n",
    "        x = u'МОСКОВСКАЯ'\n",
    "    if u'МОСКОВСКАЯ' in x:\n",
    "        x = u'МОСКОВСКАЯ'\n",
    "    if u'РОССИЯ' in x:\n",
    "        x = u'МОСКВА'\n",
    "    if u'ЧЕЛЯБ' in x:\n",
    "        x = u'ЧЕЛЯБИНСК'\n",
    "    return x"
   ]
  },
  {
   "cell_type": "code",
   "execution_count": null,
   "metadata": {
    "collapsed": false
   },
   "outputs": [],
   "source": [
    "records = df.to_dict(orient='records')#аналог гет дамис\n",
    "dv = DictVectorizer(separator='_')\n",
    "X_oh = dv.fit_transform(records)"
   ]
  },
  {
   "cell_type": "code",
   "execution_count": 3,
   "metadata": {
    "collapsed": false
   },
   "outputs": [],
   "source": [
    "train = pd.read_csv(\"data/credit_train.csv\", encoding = 'Windows-1251',sep = \";\")\n",
    "test = pd.read_csv(\"data/credit_test.csv\",encoding = \"Windows-1251\",sep = \";\")\n",
    "client_id = test['client_id']\n",
    "#y = train['open_account_flg']\n",
    "#train.drop(['open_account_flg'],axis = 1, inplace = True)"
   ]
  },
  {
   "cell_type": "code",
   "execution_count": 36,
   "metadata": {
    "collapsed": false
   },
   "outputs": [
    {
     "data": {
      "text/html": [
       "<div>\n",
       "<table border=\"1\" class=\"dataframe\">\n",
       "  <thead>\n",
       "    <tr style=\"text-align: right;\">\n",
       "      <th></th>\n",
       "      <th>Test</th>\n",
       "      <th>age</th>\n",
       "      <th>client_id</th>\n",
       "      <th>credit_count</th>\n",
       "      <th>credit_month</th>\n",
       "      <th>credit_sum</th>\n",
       "      <th>education</th>\n",
       "      <th>gender</th>\n",
       "      <th>job_position</th>\n",
       "      <th>living_region</th>\n",
       "      <th>marital_status</th>\n",
       "      <th>monthly_income</th>\n",
       "      <th>open_account_flg</th>\n",
       "      <th>overdue_credit_count</th>\n",
       "      <th>score_shk</th>\n",
       "      <th>tariff_id</th>\n",
       "      <th>normalize_reg</th>\n",
       "    </tr>\n",
       "  </thead>\n",
       "  <tbody>\n",
       "    <tr>\n",
       "      <th>0</th>\n",
       "      <td>0</td>\n",
       "      <td>32</td>\n",
       "      <td>127398</td>\n",
       "      <td>1</td>\n",
       "      <td>10</td>\n",
       "      <td>42588.00</td>\n",
       "      <td>GRD</td>\n",
       "      <td>F</td>\n",
       "      <td>BIS</td>\n",
       "      <td>САНКТ-ПЕТЕРБУРГ Г</td>\n",
       "      <td>MAR</td>\n",
       "      <td>100000</td>\n",
       "      <td>1</td>\n",
       "      <td>0</td>\n",
       "      <td>0.482558</td>\n",
       "      <td>1.60</td>\n",
       "      <td>САНКТПЕТЕРБУРГ</td>\n",
       "    </tr>\n",
       "    <tr>\n",
       "      <th>1</th>\n",
       "      <td>0</td>\n",
       "      <td>49</td>\n",
       "      <td>94209</td>\n",
       "      <td>1</td>\n",
       "      <td>10</td>\n",
       "      <td>15569.00</td>\n",
       "      <td>SCH</td>\n",
       "      <td>M</td>\n",
       "      <td>PNA</td>\n",
       "      <td>ОБЛ НИЖЕГОРОДСКАЯ</td>\n",
       "      <td>MAR</td>\n",
       "      <td>37000</td>\n",
       "      <td>0</td>\n",
       "      <td>0</td>\n",
       "      <td>0.379280</td>\n",
       "      <td>1.10</td>\n",
       "      <td>НИЖЕГОРОДСКАЯ</td>\n",
       "    </tr>\n",
       "    <tr>\n",
       "      <th>2</th>\n",
       "      <td>0</td>\n",
       "      <td>24</td>\n",
       "      <td>4383</td>\n",
       "      <td>3</td>\n",
       "      <td>4</td>\n",
       "      <td>11899.00</td>\n",
       "      <td>GRD</td>\n",
       "      <td>M</td>\n",
       "      <td>SPC</td>\n",
       "      <td>МОСКВА</td>\n",
       "      <td>UNM</td>\n",
       "      <td>50000</td>\n",
       "      <td>1</td>\n",
       "      <td>0</td>\n",
       "      <td>0.237500</td>\n",
       "      <td>1.60</td>\n",
       "      <td>МОСКВА</td>\n",
       "    </tr>\n",
       "    <tr>\n",
       "      <th>3</th>\n",
       "      <td>0</td>\n",
       "      <td>25</td>\n",
       "      <td>26656</td>\n",
       "      <td>2</td>\n",
       "      <td>12</td>\n",
       "      <td>15019.00</td>\n",
       "      <td>SCH</td>\n",
       "      <td>M</td>\n",
       "      <td>ATP</td>\n",
       "      <td>КРАСНОДАРСКИЙ КРАЙ</td>\n",
       "      <td>UNM</td>\n",
       "      <td>18000</td>\n",
       "      <td>1</td>\n",
       "      <td>0</td>\n",
       "      <td>0.559009</td>\n",
       "      <td>1.10</td>\n",
       "      <td>КРАСНОДАРСКИЙ</td>\n",
       "    </tr>\n",
       "    <tr>\n",
       "      <th>4</th>\n",
       "      <td>0</td>\n",
       "      <td>40</td>\n",
       "      <td>41165</td>\n",
       "      <td>4</td>\n",
       "      <td>10</td>\n",
       "      <td>20416.00</td>\n",
       "      <td>GRD</td>\n",
       "      <td>F</td>\n",
       "      <td>SPC</td>\n",
       "      <td>ХАНТЫ-МАНСИЙСКИЙ АВТОНОМНЫЙ ОКРУГ - ЮГРА</td>\n",
       "      <td>MAR</td>\n",
       "      <td>35000</td>\n",
       "      <td>1</td>\n",
       "      <td>0</td>\n",
       "      <td>0.324815</td>\n",
       "      <td>1.32</td>\n",
       "      <td>ХМАО</td>\n",
       "    </tr>\n",
       "  </tbody>\n",
       "</table>\n",
       "</div>"
      ],
      "text/plain": [
       "   Test  age  client_id  credit_count  credit_month credit_sum education  \\\n",
       "0     0   32     127398             1            10   42588.00       GRD   \n",
       "1     0   49      94209             1            10   15569.00       SCH   \n",
       "2     0   24       4383             3             4   11899.00       GRD   \n",
       "3     0   25      26656             2            12   15019.00       SCH   \n",
       "4     0   40      41165             4            10   20416.00       GRD   \n",
       "\n",
       "  gender job_position                             living_region  \\\n",
       "0      F          BIS                         САНКТ-ПЕТЕРБУРГ Г   \n",
       "1      M          PNA                         ОБЛ НИЖЕГОРОДСКАЯ   \n",
       "2      M          SPC                                    МОСКВА   \n",
       "3      M          ATP                        КРАСНОДАРСКИЙ КРАЙ   \n",
       "4      F          SPC  ХАНТЫ-МАНСИЙСКИЙ АВТОНОМНЫЙ ОКРУГ - ЮГРА   \n",
       "\n",
       "  marital_status  monthly_income  open_account_flg  overdue_credit_count  \\\n",
       "0            MAR          100000                 1                     0   \n",
       "1            MAR           37000                 0                     0   \n",
       "2            UNM           50000                 1                     0   \n",
       "3            UNM           18000                 1                     0   \n",
       "4            MAR           35000                 1                     0   \n",
       "\n",
       "  score_shk  tariff_id   normalize_reg  \n",
       "0  0.482558       1.60  САНКТПЕТЕРБУРГ  \n",
       "1  0.379280       1.10   НИЖЕГОРОДСКАЯ  \n",
       "2  0.237500       1.60          МОСКВА  \n",
       "3  0.559009       1.10   КРАСНОДАРСКИЙ  \n",
       "4  0.324815       1.32            ХМАО  "
      ]
     },
     "execution_count": 36,
     "metadata": {},
     "output_type": "execute_result"
    }
   ],
   "source": [
    "data.head()"
   ]
  },
  {
   "cell_type": "code",
   "execution_count": 4,
   "metadata": {
    "collapsed": true
   },
   "outputs": [],
   "source": [
    "Xtr, Xval, ytr, yval = train_test_split(train,train.open_account_flg,random_state = 7, test_size=0.25)"
   ]
  },
  {
   "cell_type": "code",
   "execution_count": 5,
   "metadata": {
    "collapsed": false
   },
   "outputs": [
    {
     "name": "stderr",
     "output_type": "stream",
     "text": [
      "/home/dz/.local/lib/python3.5/site-packages/ipykernel/__main__.py:1: SettingWithCopyWarning: \n",
      "A value is trying to be set on a copy of a slice from a DataFrame.\n",
      "Try using .loc[row_indexer,col_indexer] = value instead\n",
      "\n",
      "See the caveats in the documentation: http://pandas.pydata.org/pandas-docs/stable/indexing.html#indexing-view-versus-copy\n",
      "  if __name__ == '__main__':\n",
      "/home/dz/.local/lib/python3.5/site-packages/ipykernel/__main__.py:2: SettingWithCopyWarning: \n",
      "A value is trying to be set on a copy of a slice from a DataFrame.\n",
      "Try using .loc[row_indexer,col_indexer] = value instead\n",
      "\n",
      "See the caveats in the documentation: http://pandas.pydata.org/pandas-docs/stable/indexing.html#indexing-view-versus-copy\n",
      "  from ipykernel import kernelapp as app\n"
     ]
    },
    {
     "data": {
      "text/html": [
       "<div>\n",
       "<table border=\"1\" class=\"dataframe\">\n",
       "  <thead>\n",
       "    <tr style=\"text-align: right;\">\n",
       "      <th></th>\n",
       "      <th>Test</th>\n",
       "      <th>age</th>\n",
       "      <th>client_id</th>\n",
       "      <th>credit_count</th>\n",
       "      <th>credit_month</th>\n",
       "      <th>credit_sum</th>\n",
       "      <th>education</th>\n",
       "      <th>gender</th>\n",
       "      <th>job_position</th>\n",
       "      <th>living_region</th>\n",
       "      <th>marital_status</th>\n",
       "      <th>monthly_income</th>\n",
       "      <th>open_account_flg</th>\n",
       "      <th>overdue_credit_count</th>\n",
       "      <th>score_shk</th>\n",
       "      <th>tariff_id</th>\n",
       "    </tr>\n",
       "  </thead>\n",
       "  <tbody>\n",
       "    <tr>\n",
       "      <th>0</th>\n",
       "      <td>0</td>\n",
       "      <td>32</td>\n",
       "      <td>127398</td>\n",
       "      <td>1</td>\n",
       "      <td>10</td>\n",
       "      <td>42588,00</td>\n",
       "      <td>GRD</td>\n",
       "      <td>F</td>\n",
       "      <td>BIS</td>\n",
       "      <td>САНКТ-ПЕТЕРБУРГ Г</td>\n",
       "      <td>MAR</td>\n",
       "      <td>100000</td>\n",
       "      <td>1</td>\n",
       "      <td>0</td>\n",
       "      <td>0,482558</td>\n",
       "      <td>1.60</td>\n",
       "    </tr>\n",
       "    <tr>\n",
       "      <th>1</th>\n",
       "      <td>0</td>\n",
       "      <td>49</td>\n",
       "      <td>94209</td>\n",
       "      <td>1</td>\n",
       "      <td>10</td>\n",
       "      <td>15569,00</td>\n",
       "      <td>SCH</td>\n",
       "      <td>M</td>\n",
       "      <td>PNA</td>\n",
       "      <td>ОБЛ НИЖЕГОРОДСКАЯ</td>\n",
       "      <td>MAR</td>\n",
       "      <td>37000</td>\n",
       "      <td>0</td>\n",
       "      <td>0</td>\n",
       "      <td>0,379280</td>\n",
       "      <td>1.10</td>\n",
       "    </tr>\n",
       "    <tr>\n",
       "      <th>2</th>\n",
       "      <td>0</td>\n",
       "      <td>24</td>\n",
       "      <td>4383</td>\n",
       "      <td>3</td>\n",
       "      <td>4</td>\n",
       "      <td>11899,00</td>\n",
       "      <td>GRD</td>\n",
       "      <td>M</td>\n",
       "      <td>SPC</td>\n",
       "      <td>МОСКВА</td>\n",
       "      <td>UNM</td>\n",
       "      <td>50000</td>\n",
       "      <td>1</td>\n",
       "      <td>0</td>\n",
       "      <td>0,237500</td>\n",
       "      <td>1.60</td>\n",
       "    </tr>\n",
       "    <tr>\n",
       "      <th>3</th>\n",
       "      <td>0</td>\n",
       "      <td>25</td>\n",
       "      <td>26656</td>\n",
       "      <td>2</td>\n",
       "      <td>12</td>\n",
       "      <td>15019,00</td>\n",
       "      <td>SCH</td>\n",
       "      <td>M</td>\n",
       "      <td>ATP</td>\n",
       "      <td>КРАСНОДАРСКИЙ КРАЙ</td>\n",
       "      <td>UNM</td>\n",
       "      <td>18000</td>\n",
       "      <td>1</td>\n",
       "      <td>0</td>\n",
       "      <td>0,559009</td>\n",
       "      <td>1.10</td>\n",
       "    </tr>\n",
       "    <tr>\n",
       "      <th>4</th>\n",
       "      <td>0</td>\n",
       "      <td>40</td>\n",
       "      <td>41165</td>\n",
       "      <td>4</td>\n",
       "      <td>10</td>\n",
       "      <td>20416,00</td>\n",
       "      <td>GRD</td>\n",
       "      <td>F</td>\n",
       "      <td>SPC</td>\n",
       "      <td>ХАНТЫ-МАНСИЙСКИЙ АВТОНОМНЫЙ ОКРУГ - ЮГРА</td>\n",
       "      <td>MAR</td>\n",
       "      <td>35000</td>\n",
       "      <td>1</td>\n",
       "      <td>0</td>\n",
       "      <td>0,324815</td>\n",
       "      <td>1.32</td>\n",
       "    </tr>\n",
       "  </tbody>\n",
       "</table>\n",
       "</div>"
      ],
      "text/plain": [
       "   Test  age  client_id  credit_count  credit_month credit_sum education  \\\n",
       "0     0   32     127398             1            10   42588,00       GRD   \n",
       "1     0   49      94209             1            10   15569,00       SCH   \n",
       "2     0   24       4383             3             4   11899,00       GRD   \n",
       "3     0   25      26656             2            12   15019,00       SCH   \n",
       "4     0   40      41165             4            10   20416,00       GRD   \n",
       "\n",
       "  gender job_position                             living_region  \\\n",
       "0      F          BIS                         САНКТ-ПЕТЕРБУРГ Г   \n",
       "1      M          PNA                         ОБЛ НИЖЕГОРОДСКАЯ   \n",
       "2      M          SPC                                    МОСКВА   \n",
       "3      M          ATP                        КРАСНОДАРСКИЙ КРАЙ   \n",
       "4      F          SPC  ХАНТЫ-МАНСИЙСКИЙ АВТОНОМНЫЙ ОКРУГ - ЮГРА   \n",
       "\n",
       "  marital_status  monthly_income  open_account_flg  overdue_credit_count  \\\n",
       "0            MAR          100000                 1                     0   \n",
       "1            MAR           37000                 0                     0   \n",
       "2            UNM           50000                 1                     0   \n",
       "3            UNM           18000                 1                     0   \n",
       "4            MAR           35000                 1                     0   \n",
       "\n",
       "  score_shk  tariff_id  \n",
       "0  0,482558       1.60  \n",
       "1  0,379280       1.10  \n",
       "2  0,237500       1.60  \n",
       "3  0,559009       1.10  \n",
       "4  0,324815       1.32  "
      ]
     },
     "execution_count": 5,
     "metadata": {},
     "output_type": "execute_result"
    }
   ],
   "source": [
    "Xtr['Test'] = 0\n",
    "Xval['Test'] = 1\n",
    "test['Test'] = 2\n",
    "test['open_account_flg'] = np.nan\n",
    "data = pd.concat([Xtr,Xval,test],ignore_index = True)\n",
    "del(train)\n",
    "del(test)\n",
    "del(Xtr)\n",
    "del(Xval)\n",
    "data.head()"
   ]
  },
  {
   "cell_type": "markdown",
   "metadata": {},
   "source": [
    "# NaN"
   ]
  },
  {
   "cell_type": "code",
   "execution_count": 6,
   "metadata": {
    "collapsed": false
   },
   "outputs": [
    {
     "data": {
      "text/plain": [
       "Test                        0\n",
       "age                         0\n",
       "client_id                   0\n",
       "credit_count            13933\n",
       "credit_month                0\n",
       "credit_sum                  0\n",
       "education                   0\n",
       "gender                      0\n",
       "job_position                0\n",
       "living_region             308\n",
       "marital_status              0\n",
       "monthly_income              1\n",
       "open_account_flg        91940\n",
       "overdue_credit_count    13933\n",
       "score_shk                   0\n",
       "tariff_id                   0\n",
       "dtype: int64"
      ]
     },
     "execution_count": 6,
     "metadata": {},
     "output_type": "execute_result"
    }
   ],
   "source": [
    "data.isnull().sum()"
   ]
  },
  {
   "cell_type": "code",
   "execution_count": 7,
   "metadata": {
    "collapsed": false
   },
   "outputs": [],
   "source": [
    "dat = pd.DataFrame()\n",
    "dat['HasInfoCredit'] = (~data.credit_count.isnull()).astype(int)"
   ]
  },
  {
   "cell_type": "code",
   "execution_count": 8,
   "metadata": {
    "collapsed": false
   },
   "outputs": [],
   "source": [
    "data['monthly_income'] = data['monthly_income'].fillna(data['monthly_income'].mean())\n",
    "data['living_region'] = data['living_region'].fillna('-1')\n",
    "data['credit_count'] = data['credit_count'].fillna(-1)\n",
    "data['overdue_credit_count'] = data['overdue_credit_count'].fillna(-1)"
   ]
  },
  {
   "cell_type": "markdown",
   "metadata": {},
   "source": [
    "# feat base"
   ]
  },
  {
   "cell_type": "code",
   "execution_count": 9,
   "metadata": {
    "collapsed": true
   },
   "outputs": [],
   "source": [
    "dat['Test'] = data['Test']\n",
    "\n",
    "dat['age'] = data['age']\n",
    "\n",
    "dat['credit_month'] = data['credit_month']\n",
    "\n",
    "data['credit_sum'] = data['credit_sum'].apply(lambda x: x.replace(',','.'))\n",
    "dat['credit_sum'] = data['credit_sum'].apply(float)\n",
    "\n",
    "dat['tariff_id'] = data['tariff_id']\n",
    "\n",
    "data['score_shk'] = data['score_shk'].apply(lambda x: x.replace(',','.'))\n",
    "dat['score_shk'] = data['score_shk'].apply(float)\n",
    "\n",
    "dat['monthly_income'] = data['monthly_income']\n",
    "\n",
    "dat['credit_count'] = data['credit_count']\n",
    "\n",
    "dat['overdue_credit_count'] = data['overdue_credit_count']"
   ]
  },
  {
   "cell_type": "markdown",
   "metadata": {},
   "source": [
    "# OHE"
   ]
  },
  {
   "cell_type": "code",
   "execution_count": null,
   "metadata": {
    "collapsed": true
   },
   "outputs": [],
   "source": []
  },
  {
   "cell_type": "code",
   "execution_count": 10,
   "metadata": {
    "collapsed": true
   },
   "outputs": [],
   "source": [
    "dat['m'] = data['marital_status']\n",
    "dat = pd.get_dummies(dat,columns = ['m']).rename(columns=lambda x: str(x))\n",
    "\n",
    "dat['job_position'] = data['job_position']\n",
    "dat = pd.get_dummies(dat,columns = ['job_position']).rename(columns=lambda x: str(x))\n",
    "\n",
    "dat['credit_month'] = data['credit_month']\n",
    "dat = pd.get_dummies(dat,columns = ['credit_month']).rename(columns=lambda x: str(x))\n",
    "\n",
    "dat['tariff_id'] = data['tariff_id']\n",
    "dat = pd.get_dummies(dat,columns = ['tariff_id']).rename(columns=lambda x: str(x))\n",
    "\n",
    "dat['education'] = data['education']\n",
    "dat = pd.get_dummies(dat,columns = ['education']).rename(columns=lambda x: str(x))\n"
   ]
  },
  {
   "cell_type": "code",
   "execution_count": 11,
   "metadata": {
    "collapsed": true
   },
   "outputs": [],
   "source": [
    "\n",
    "dat['credit_month'] = data['credit_month']\n",
    "dat['tariff_id'] = data['tariff_id']"
   ]
  },
  {
   "cell_type": "code",
   "execution_count": 12,
   "metadata": {
    "collapsed": false
   },
   "outputs": [
    {
     "data": {
      "text/plain": [
       "array([ 1.6 ,  1.1 ,  1.32,  1.44,  1.21,  1.16,  1.5 ,  1.9 ,  1.4 ,\n",
       "        1.19,  1.2 ,  1.17,  1.43,  1.91,  1.3 ,  1.94,  1.  ,  1.24,\n",
       "        1.23,  1.22,  1.7 ,  1.41,  1.25,  1.52,  1.56,  1.18,  1.48,\n",
       "        1.26,  1.28,  1.29,  1.27,  1.96])"
      ]
     },
     "execution_count": 12,
     "metadata": {},
     "output_type": "execute_result"
    }
   ],
   "source": [
    "dat['tariff_id'].unique()"
   ]
  },
  {
   "cell_type": "markdown",
   "metadata": {},
   "source": [
    "# NEWfeat"
   ]
  },
  {
   "cell_type": "code",
   "execution_count": 13,
   "metadata": {
    "collapsed": false
   },
   "outputs": [],
   "source": [
    "data['normalize_reg'] = data['living_region'].apply(normalize_reg)"
   ]
  },
  {
   "cell_type": "code",
   "execution_count": 14,
   "metadata": {
    "collapsed": true
   },
   "outputs": [],
   "source": [
    "dat['АО'] = data.living_region.str.contains('АО')\n",
    "dat['obl'] = data.living_region.str.contains('ОБЛ')\n",
    "dat['cray'] = data.living_region.str.contains('КРАЙ')\n",
    "dat['resp'] = data.living_region.str.contains('РЕСП')\n",
    "dat['mosk'] = data.living_region.str.contains('МОСК')\n",
    "dat['moskva'] = data.living_region.str.contains('МОСКВА')\n",
    "dat['sankt'] = data.living_region.str.contains('САНКТ')\n",
    "\n",
    "dat['HaveCredit'] = dat['credit_count'].apply(have_credit)\n",
    "\n",
    "dat['HaveOverdue'] = dat['overdue_credit_count'].apply(have_credit)"
   ]
  },
  {
   "cell_type": "code",
   "execution_count": 15,
   "metadata": {
    "collapsed": false
   },
   "outputs": [
    {
     "data": {
      "text/plain": [
       "0.9868930967010042"
      ]
     },
     "execution_count": 15,
     "metadata": {},
     "output_type": "execute_result"
    }
   ],
   "source": [
    "data['living_region'].value_counts()[0:150].sum()/len(data)"
   ]
  },
  {
   "cell_type": "code",
   "execution_count": null,
   "metadata": {
    "collapsed": false
   },
   "outputs": [],
   "source": [
    "def add_r(x):\n",
    "    return x+'r'\n",
    "dat['reg'] = data['normalize_reg']\n",
    "freq_breeds = set(dat.reg.value_counts()[:70].index)\n",
    "dat['mestn'] = dat.reg.apply(lambda x: x if x in freq_breeds else 'Rare')\n",
    "dat['mestn'] = dat['mestn'].apply(add_r)\n",
    "dat = pd.get_dummies(dat,columns = ['mestn']).rename(columns=lambda x: str(x))\n"
   ]
  },
  {
   "cell_type": "code",
   "execution_count": 16,
   "metadata": {
    "collapsed": false
   },
   "outputs": [],
   "source": [
    "dat['living_region'] = data['living_region']\n",
    "freq_breeds = set(dat.living_region.value_counts()[:150].index)\n",
    "dat['mestn'] = dat.living_region.apply(lambda x: x if x in freq_breeds else 'Rare')\n",
    "dat = pd.get_dummies(dat,columns = ['mestn']).rename(columns=lambda x: str(x))\n"
   ]
  },
  {
   "cell_type": "code",
   "execution_count": 17,
   "metadata": {
    "collapsed": true
   },
   "outputs": [],
   "source": [
    "dat['reg'] = data['normalize_reg']\n",
    "freq_breeds = set(dat.reg.value_counts()[:70].index)\n",
    "dat['mestn'] = dat.reg.apply(lambda x: x if x in freq_breeds else 'Rare')"
   ]
  },
  {
   "cell_type": "code",
   "execution_count": 18,
   "metadata": {
    "collapsed": true
   },
   "outputs": [],
   "source": [
    "dat['living_region'] = data['living_region']\n",
    "freq_breeds = set(dat.living_region.value_counts()[:150].index)\n",
    "dat['liv_reg'] = dat.living_region.apply(lambda x: x if x in freq_breeds else 'Rare')"
   ]
  },
  {
   "cell_type": "markdown",
   "metadata": {},
   "source": [
    "# factorize"
   ]
  },
  {
   "cell_type": "code",
   "execution_count": 19,
   "metadata": {
    "collapsed": false
   },
   "outputs": [],
   "source": [
    "dat['gender'] = pd.factorize(data['gender'])[0]\n",
    "\n",
    "dat['marital_status'] = pd.factorize(data['marital_status'])[0]\n",
    "\n",
    "dat['job_position'] = pd.factorize(data['job_position'])[0]\n",
    "\n",
    "dat['education'] = pd.factorize(data['education'])[0]\n",
    "\n",
    "dat['living_region'] = pd.factorize(dat['living_region'])[0]\n",
    "\n",
    "dat['reg'] = pd.factorize(dat['reg'])[0]\n",
    "dat['mestn'] = pd.factorize(dat['mestn'])[0]\n",
    "dat['liv_reg'] = pd.factorize(dat['liv_reg'])[0]"
   ]
  },
  {
   "cell_type": "markdown",
   "metadata": {},
   "source": [
    "# Count Factorize"
   ]
  },
  {
   "cell_type": "code",
   "execution_count": 20,
   "metadata": {
    "collapsed": false
   },
   "outputs": [],
   "source": [
    "freq = data.gender.value_counts(normalize=True).to_dict()\n",
    "dat['gender_freq'] = data.gender.apply(lambda x: freq[x])\n",
    "\n",
    "freq = data.marital_status.value_counts(normalize=True).to_dict()\n",
    "dat['marital_status_freq'] = data.marital_status.apply(lambda x: freq[x])\n",
    "\n",
    "freq = data.job_position.value_counts(normalize=True).to_dict()\n",
    "dat['job_position_freq'] = data.job_position.apply(lambda x: freq[x])\n",
    "\n",
    "freq = data.education.value_counts(normalize=True).to_dict()\n",
    "dat['education_freq'] = data.education.apply(lambda x: freq[x])\n",
    "\n",
    "freq = data.living_region.value_counts(normalize=True).to_dict()\n",
    "dat['living_region_freq'] = data.living_region.apply(lambda x: freq[x])\n",
    "\n",
    "freq = dat.reg.value_counts(normalize=True).to_dict()\n",
    "dat['reg_freq'] = dat.reg.apply(lambda x: freq[x])\n",
    "\n",
    "freq = dat.mestn.value_counts(normalize=True).to_dict()\n",
    "dat['mestn_freq'] = dat.mestn.apply(lambda x: freq[x])\n",
    "\n",
    "freq = dat.liv_reg.value_counts(normalize=True).to_dict()\n",
    "dat['liv_reg_freq'] = dat.liv_reg.apply(lambda x: freq[x])\n",
    "\n",
    "freq = dat.tariff_id.value_counts(normalize=True).to_dict()\n",
    "dat['tariff_id_freq'] = dat.tariff_id.apply(lambda x: freq[x])"
   ]
  },
  {
   "cell_type": "markdown",
   "metadata": {},
   "source": [
    "# Evristic"
   ]
  },
  {
   "cell_type": "code",
   "execution_count": 21,
   "metadata": {
    "collapsed": true
   },
   "outputs": [],
   "source": [
    "def divide_0(a, b):\n",
    "    if b>0:\n",
    "        return a/b\n",
    "    else:\n",
    "        return 0\n",
    "    \n",
    "def divide_0(a, b):\n",
    "    if b>0:\n",
    "        return a/b\n",
    "    else:\n",
    "        return 0#!!!!!!!!!!!!!!!!!!!!!!!!!!"
   ]
  },
  {
   "cell_type": "code",
   "execution_count": 22,
   "metadata": {
    "collapsed": false
   },
   "outputs": [],
   "source": [
    "dat['NameLength'] = data.living_region.apply(len)\n",
    "dat['NameLength_reg'] = data.normalize_reg.apply(len)\n",
    "dat['zar-cre'] = dat['monthly_income']-dat['credit_sum']\n",
    "dat['cou-cre'] = dat['credit_count']-dat['credit_sum']\n",
    "dat['cou-over'] = dat['credit_count']-dat['overdue_credit_count']\n",
    "dat['sum_babos'] = dat['credit_month']*dat['monthly_income']\n",
    "dat['otn_babos'] = dat['sum_babos']-dat['credit_sum']\n",
    "dat['zar-age'] = dat['monthly_income']*dat['age']\n",
    "dat['bab-sum'] = dat['sum_babos']-dat['credit_sum']\n",
    "dat['pos_del'] = dat['bab-sum'].apply(pos)\n",
    "\n",
    "dat['met1'] = dat['tariff_id']*dat['score_shk']\n",
    "dat['met2'] = dat['tariff_id']+dat['score_shk']\n",
    "dat['met2'] = dat['tariff_id']-dat['score_shk']"
   ]
  },
  {
   "cell_type": "code",
   "execution_count": null,
   "metadata": {
    "collapsed": true
   },
   "outputs": [],
   "source": [
    "dat['NameLength'] = data.living_region.apply(len)\n",
    "dat['NameLength_reg'] = data.normalize_reg.apply(len)"
   ]
  },
  {
   "cell_type": "code",
   "execution_count": null,
   "metadata": {
    "collapsed": true
   },
   "outputs": [],
   "source": [
    "\n",
    "#dat['zar/cre'] = dat.apply(lambda row: divide(row['monthly_income'], row['credit_sum']), axis=1)"
   ]
  },
  {
   "cell_type": "code",
   "execution_count": null,
   "metadata": {
    "collapsed": false
   },
   "outputs": [],
   "source": [
    "\n",
    "dat['zar/cre'] = dat.apply(lambda row: divide(row['monthly_income'], row['credit_sum']), axis=1)\n",
    "dat['cou/cre'] = dat.apply(lambda row: divide(row['credit_count'], row['credit_sum']), axis=1)\n",
    "dat['cou-over'] = dat['credit_count']-dat['overdue_credit_count']\n",
    "dat['sum_babos'] = dat['credit_month']*dat['monthly_income']\n",
    "dat['otn_babos'] = dat.apply(lambda row: divide(row['sum_babos'], row['credit_sum']), axis=1)\n",
    "dat['zar/age'] = dat.apply(lambda row: divide(row['monthly_income'], row['age']), axis=1)\n",
    "dat['bab-sum'] = dat['sum_babos']-dat['credit_sum']\n",
    "dat['pos_del'] = dat['bab-sum'].apply(pos)\n"
   ]
  },
  {
   "cell_type": "code",
   "execution_count": null,
   "metadata": {
    "collapsed": false
   },
   "outputs": [],
   "source": [
    "dat.shape"
   ]
  },
  {
   "cell_type": "code",
   "execution_count": null,
   "metadata": {
    "collapsed": true
   },
   "outputs": [],
   "source": [
    "del(data)"
   ]
  },
  {
   "cell_type": "markdown",
   "metadata": {},
   "source": [
    "# Base Visual"
   ]
  },
  {
   "cell_type": "code",
   "execution_count": null,
   "metadata": {
    "collapsed": false
   },
   "outputs": [],
   "source": [
    "plt.plot(train['client_id'][0:200],y[0:200])\n",
    "plt.show()"
   ]
  },
  {
   "cell_type": "code",
   "execution_count": null,
   "metadata": {
    "collapsed": false
   },
   "outputs": [],
   "source": [
    "#outcome.value_counts().plot(kind='pie', figsize=(5,5))\n",
    "y.value_counts().plot(kind='pie')\n",
    "plt.show()"
   ]
  },
  {
   "cell_type": "code",
   "execution_count": null,
   "metadata": {
    "collapsed": false
   },
   "outputs": [],
   "source": [
    "data.age.unique()"
   ]
  },
  {
   "cell_type": "code",
   "execution_count": null,
   "metadata": {
    "collapsed": false
   },
   "outputs": [],
   "source": [
    "dat['age'] = data['age']\n",
    "dat.head()"
   ]
  },
  {
   "cell_type": "code",
   "execution_count": null,
   "metadata": {
    "collapsed": false
   },
   "outputs": [],
   "source": [
    "data['age'].value_counts().plot(kind = 'pie')\n",
    "plt.show()"
   ]
  },
  {
   "cell_type": "code",
   "execution_count": null,
   "metadata": {
    "collapsed": false
   },
   "outputs": [],
   "source": [
    "data['age'].value_counts().plot(kind = 'barh')\n",
    "plt.show()"
   ]
  },
  {
   "cell_type": "code",
   "execution_count": null,
   "metadata": {
    "collapsed": false
   },
   "outputs": [],
   "source": [
    "data['age'].plot(kind = 'hist',bins = 30)\n",
    "plt.show()"
   ]
  },
  {
   "cell_type": "code",
   "execution_count": null,
   "metadata": {
    "collapsed": false
   },
   "outputs": [],
   "source": [
    "data['age'].plot(kind = 'hist', logy= True, bins=20)\n",
    "plt.show()"
   ]
  },
  {
   "cell_type": "markdown",
   "metadata": {},
   "source": [
    "# marital_status"
   ]
  },
  {
   "cell_type": "code",
   "execution_count": null,
   "metadata": {
    "collapsed": false
   },
   "outputs": [],
   "source": [
    "data['marital_status'].unique()"
   ]
  },
  {
   "cell_type": "code",
   "execution_count": null,
   "metadata": {
    "collapsed": false
   },
   "outputs": [],
   "source": [
    "data['marital_status'].value_counts().plot(kind='pie')\n",
    "plt.show()"
   ]
  },
  {
   "cell_type": "markdown",
   "metadata": {},
   "source": [
    "# job_position"
   ]
  },
  {
   "cell_type": "code",
   "execution_count": null,
   "metadata": {
    "collapsed": false
   },
   "outputs": [],
   "source": [
    "data['job_position'].unique()"
   ]
  },
  {
   "cell_type": "code",
   "execution_count": null,
   "metadata": {
    "collapsed": false
   },
   "outputs": [],
   "source": [
    "data['job_position'].value_counts().plot(kind = 'pie')\n",
    "plt.show()"
   ]
  },
  {
   "cell_type": "markdown",
   "metadata": {},
   "source": [
    "# \tcredit_sum"
   ]
  },
  {
   "cell_type": "code",
   "execution_count": null,
   "metadata": {
    "collapsed": false
   },
   "outputs": [],
   "source": [
    "#data['credit_sum'].value_counts().plot(kind = 'barh')\n",
    "dat['credit_sum'].plot(kind = 'hist')\n",
    "plt.show()"
   ]
  },
  {
   "cell_type": "code",
   "execution_count": null,
   "metadata": {
    "collapsed": false
   },
   "outputs": [],
   "source": [
    "data['credit_sum'].plot(kind = 'hist', logy = True)\n",
    "plt.show()"
   ]
  },
  {
   "cell_type": "markdown",
   "metadata": {},
   "source": [
    "# credit_month"
   ]
  },
  {
   "cell_type": "code",
   "execution_count": null,
   "metadata": {
    "collapsed": false
   },
   "outputs": [],
   "source": [
    "data['credit_month'].unique()"
   ]
  },
  {
   "cell_type": "code",
   "execution_count": null,
   "metadata": {
    "collapsed": false
   },
   "outputs": [],
   "source": [
    "data['credit_month'].value_counts().plot(kind='pie')\n",
    "plt.show()"
   ]
  },
  {
   "cell_type": "markdown",
   "metadata": {},
   "source": [
    "# tariff_id"
   ]
  },
  {
   "cell_type": "code",
   "execution_count": null,
   "metadata": {
    "collapsed": false
   },
   "outputs": [],
   "source": [
    "data['tariff_id'].unique()"
   ]
  },
  {
   "cell_type": "code",
   "execution_count": null,
   "metadata": {
    "collapsed": false
   },
   "outputs": [],
   "source": [
    "data['tariff_id'].value_counts().plot(kind='pie')\n",
    "plt.show()"
   ]
  },
  {
   "cell_type": "markdown",
   "metadata": {},
   "source": [
    "# score_shk"
   ]
  },
  {
   "cell_type": "code",
   "execution_count": null,
   "metadata": {
    "collapsed": false
   },
   "outputs": [],
   "source": [
    "len(dat['score_shk'].unique())"
   ]
  },
  {
   "cell_type": "code",
   "execution_count": null,
   "metadata": {
    "collapsed": false
   },
   "outputs": [],
   "source": [
    "dat['score_shk'].plot(kind = 'hist',bins=20)\n",
    "plt.show()"
   ]
  },
  {
   "cell_type": "code",
   "execution_count": null,
   "metadata": {
    "collapsed": false
   },
   "outputs": [],
   "source": [
    "data['score_shk'].plot(kind = 'hist',logy = True)\n",
    "plt.show()"
   ]
  },
  {
   "cell_type": "markdown",
   "metadata": {},
   "source": [
    "# education"
   ]
  },
  {
   "cell_type": "code",
   "execution_count": null,
   "metadata": {
    "collapsed": false
   },
   "outputs": [],
   "source": [
    "data['education'].unique()"
   ]
  },
  {
   "cell_type": "code",
   "execution_count": null,
   "metadata": {
    "collapsed": false
   },
   "outputs": [],
   "source": [
    "data['education'].value_counts().plot(kind = 'pie')\n",
    "plt.show()"
   ]
  },
  {
   "cell_type": "code",
   "execution_count": null,
   "metadata": {
    "collapsed": false
   },
   "outputs": [],
   "source": [
    "data['education'].value_counts().plot(kind = 'barh')\n",
    "plt.show()"
   ]
  },
  {
   "cell_type": "markdown",
   "metadata": {},
   "source": [
    "# living_region"
   ]
  },
  {
   "cell_type": "code",
   "execution_count": null,
   "metadata": {
    "collapsed": false
   },
   "outputs": [],
   "source": [
    "data['living_region'].unique()"
   ]
  },
  {
   "cell_type": "code",
   "execution_count": null,
   "metadata": {
    "collapsed": false
   },
   "outputs": [],
   "source": [
    "data['living_region'].value_counts().plot(kind = 'pie')\n",
    "plt.show()"
   ]
  },
  {
   "cell_type": "code",
   "execution_count": null,
   "metadata": {
    "collapsed": false
   },
   "outputs": [],
   "source": [
    "data['living_region'].value_counts()[0:110].sum()/len(data)"
   ]
  },
  {
   "cell_type": "markdown",
   "metadata": {},
   "source": [
    "# monthly_income\n",
    "Месячный заработок"
   ]
  },
  {
   "cell_type": "code",
   "execution_count": null,
   "metadata": {
    "collapsed": false
   },
   "outputs": [],
   "source": [
    "data['monthly_income'].plot(kind = \"hist\",bins = 80)\n",
    "plt.show()"
   ]
  },
  {
   "cell_type": "markdown",
   "metadata": {},
   "source": [
    "# credit_count\n",
    "кличество кредитов у клиента"
   ]
  },
  {
   "cell_type": "code",
   "execution_count": null,
   "metadata": {
    "collapsed": false
   },
   "outputs": [],
   "source": [
    "data['credit_count'].unique()"
   ]
  },
  {
   "cell_type": "code",
   "execution_count": null,
   "metadata": {
    "collapsed": false
   },
   "outputs": [],
   "source": [
    "data['credit_count'].value_counts().plot(kind = 'pie')\n",
    "plt.show()"
   ]
  },
  {
   "cell_type": "markdown",
   "metadata": {},
   "source": [
    "# overdue_credit_count\n",
    "количество невернутых кредитов"
   ]
  },
  {
   "cell_type": "code",
   "execution_count": null,
   "metadata": {
    "collapsed": false
   },
   "outputs": [],
   "source": [
    "data['overdue_credit_count'].unique()"
   ]
  },
  {
   "cell_type": "code",
   "execution_count": null,
   "metadata": {
    "collapsed": false
   },
   "outputs": [],
   "source": [
    "data['overdue_credit_count'].value_counts().plot(kind = 'pie')\n",
    "plt.show()"
   ]
  },
  {
   "cell_type": "code",
   "execution_count": null,
   "metadata": {
    "collapsed": false
   },
   "outputs": [],
   "source": [
    "data['overdue_credit_count'].value_counts().plot(kind = 'barh')\n",
    "plt.show()"
   ]
  },
  {
   "cell_type": "markdown",
   "metadata": {},
   "source": [
    "# validation!!!!!!!!!!!!!!!!!!!!!!!!!!!!!!!!!!!!!!!!!!!!!!!!!!!!!!!!!!!!!!!!!!!!!!!"
   ]
  },
  {
   "cell_type": "code",
   "execution_count": null,
   "metadata": {
    "collapsed": true
   },
   "outputs": [],
   "source": [
    "dat = dat.fillna(-1)"
   ]
  },
  {
   "cell_type": "code",
   "execution_count": null,
   "metadata": {
    "collapsed": false
   },
   "outputs": [],
   "source": [
    "dat.head()"
   ]
  },
  {
   "cell_type": "code",
   "execution_count": null,
   "metadata": {
    "collapsed": false
   },
   "outputs": [],
   "source": [
    "train = dat[dat.Test == 0].drop('Test', axis=1).copy()\n",
    "test = dat[dat.Test == 1].drop('Test', axis=1).copy()"
   ]
  },
  {
   "cell_type": "code",
   "execution_count": null,
   "metadata": {
    "collapsed": true
   },
   "outputs": [],
   "source": [
    "feat = list(set(train.columns) - {'client_id'})"
   ]
  },
  {
   "cell_type": "code",
   "execution_count": null,
   "metadata": {
    "collapsed": false
   },
   "outputs": [],
   "source": [
    "Xtr, Xval, ytr, yval = train_test_split(train,y,random_state = 7, test_size=0.25)"
   ]
  },
  {
   "cell_type": "code",
   "execution_count": null,
   "metadata": {
    "collapsed": false
   },
   "outputs": [],
   "source": [
    "feat = list(set(Xtr.columns) - {'client_id'})\n",
    "del(train)\n",
    "del(test)"
   ]
  },
  {
   "cell_type": "code",
   "execution_count": null,
   "metadata": {
    "collapsed": true
   },
   "outputs": [],
   "source": []
  },
  {
   "cell_type": "code",
   "execution_count": null,
   "metadata": {
    "collapsed": true
   },
   "outputs": [],
   "source": [
    "def transf_cat(train,test,feat_cat,feat_cont,fold,alpha):\n",
    "    test['Proba'] = 0\n",
    "    train['Proba'] = 0\n",
    "    n_folds = fold\n",
    "    kf = KFold(train.shape[0],n_folds)#,shuffle=True\n",
    "    for train_index, val_index in kf:\n",
    "        print(\"new_fold\")\n",
    "        \n",
    "        training_data, validation_data = train.loc[train_index], train.loc[val_index]\n",
    "        m=np.mean(training_data[feat_cont])\n",
    "        training_data['new_feat'] = (training_data.groupby(feat_cat)[feat_cont].transform(\"mean\")*training_data.groupby([feat_cat])[feat_cat].transform('size')+alpha*m*np.ones(len(training_data.groupby([feat_cat])[feat_cat].transform('size'))))/(training_data.groupby([feat_cat])[feat_cat].transform('size')+aplha)\n",
    "        dat = training_data.groupby(feat_cat,as_index=False).mean()\n",
    "        d={}\n",
    "        for i in range(len(dat)):\n",
    "            d[dat[feat_cat][i]] = dat['new_feat'][i]\n",
    "        \n",
    "        def gr(x):\n",
    "            try:\n",
    "                return d[x]\n",
    "            except:\n",
    "                return m  \n",
    "        train['Proba'].loc[val_index] = train[feat_cat].loc[val_index].apply(gr)\n",
    "        test_new = test[feat_cat].apply(gr)\n",
    "        test['Proba'] += np.array(test_new)\n",
    "    return train['Proba'],test['Proba']*(1/n_folds)\n",
    "from sklearn.cross_validation import KFold\n",
    "time data_tr['latitude'+\"n\"] , data_val['latitude'+\"n\"] = transf_cat(data_tr,data_val,'latitude',\"cool\",20)"
   ]
  },
  {
   "cell_type": "code",
   "execution_count": null,
   "metadata": {
    "collapsed": true
   },
   "outputs": [],
   "source": []
  },
  {
   "cell_type": "code",
   "execution_count": null,
   "metadata": {
    "collapsed": true
   },
   "outputs": [],
   "source": []
  },
  {
   "cell_type": "code",
   "execution_count": 37,
   "metadata": {
    "collapsed": true
   },
   "outputs": [],
   "source": [
    "dat['client_id'] = data['client_id']"
   ]
  },
  {
   "cell_type": "code",
   "execution_count": null,
   "metadata": {
    "collapsed": false
   },
   "outputs": [],
   "source": [
    "dat.head()"
   ]
  },
  {
   "cell_type": "code",
   "execution_count": 23,
   "metadata": {
    "collapsed": false
   },
   "outputs": [],
   "source": [
    "dat['open_account_flg'] = data['open_account_flg']"
   ]
  },
  {
   "cell_type": "code",
   "execution_count": 38,
   "metadata": {
    "collapsed": false
   },
   "outputs": [
    {
     "name": "stdout",
     "output_type": "stream",
     "text": [
      "(128059, 292) (42687, 292) (91940, 292)\n"
     ]
    }
   ],
   "source": [
    "Xtr = dat[dat['Test']==0]\n",
    "Xval = dat[dat['Test']==1]\n",
    "train = dat[dat['Test']!=2]\n",
    "test = dat[dat['Test']==2]\n",
    "ytr = Xtr.open_account_flg\n",
    "yval = Xval.open_account_flg\n",
    "feat = list(set(Xtr.columns)-{'open_account_flg','Test','client_id'})\n",
    "print(Xtr.shape,Xval.shape,test.shape)"
   ]
  },
  {
   "cell_type": "code",
   "execution_count": null,
   "metadata": {
    "collapsed": true
   },
   "outputs": [],
   "source": []
  },
  {
   "cell_type": "markdown",
   "metadata": {},
   "source": [
    "# Training"
   ]
  },
  {
   "cell_type": "code",
   "execution_count": null,
   "metadata": {
    "collapsed": false
   },
   "outputs": [],
   "source": [
    "Xtr.shape"
   ]
  },
  {
   "cell_type": "markdown",
   "metadata": {},
   "source": [
    "# Xgboost"
   ]
  },
  {
   "cell_type": "code",
   "execution_count": 25,
   "metadata": {
    "collapsed": false
   },
   "outputs": [
    {
     "ename": "NameError",
     "evalue": "name 'feat_new' is not defined",
     "output_type": "error",
     "traceback": [
      "\u001b[0;31m---------------------------------------------------------------------------\u001b[0m",
      "\u001b[0;31mNameError\u001b[0m                                 Traceback (most recent call last)",
      "\u001b[0;32m<ipython-input-25-f5216897dd6e>\u001b[0m in \u001b[0;36m<module>\u001b[0;34m()\u001b[0m\n\u001b[0;32m----> 1\u001b[0;31m \u001b[0mdtr\u001b[0m \u001b[0;34m=\u001b[0m \u001b[0mxgb\u001b[0m\u001b[0;34m.\u001b[0m\u001b[0mDMatrix\u001b[0m\u001b[0;34m(\u001b[0m\u001b[0mXtr\u001b[0m\u001b[0;34m[\u001b[0m\u001b[0mfeat_new\u001b[0m\u001b[0;34m]\u001b[0m\u001b[0;34m,\u001b[0m \u001b[0mlabel\u001b[0m\u001b[0;34m=\u001b[0m \u001b[0mytr\u001b[0m\u001b[0;34m)\u001b[0m\u001b[0;34m\u001b[0m\u001b[0m\n\u001b[0m\u001b[1;32m      2\u001b[0m \u001b[0mdval\u001b[0m \u001b[0;34m=\u001b[0m \u001b[0mxgb\u001b[0m\u001b[0;34m.\u001b[0m\u001b[0mDMatrix\u001b[0m\u001b[0;34m(\u001b[0m\u001b[0mXval\u001b[0m\u001b[0;34m[\u001b[0m\u001b[0mfeat_new\u001b[0m\u001b[0;34m]\u001b[0m\u001b[0;34m,\u001b[0m \u001b[0mlabel\u001b[0m\u001b[0;34m=\u001b[0m \u001b[0myval\u001b[0m\u001b[0;34m)\u001b[0m\u001b[0;34m\u001b[0m\u001b[0m\n\u001b[1;32m      3\u001b[0m \u001b[0mwatchlist\u001b[0m \u001b[0;34m=\u001b[0m \u001b[0;34m[\u001b[0m\u001b[0;34m(\u001b[0m\u001b[0mdtr\u001b[0m\u001b[0;34m,\u001b[0m \u001b[0;34m'train'\u001b[0m\u001b[0;34m)\u001b[0m\u001b[0;34m,\u001b[0m \u001b[0;34m(\u001b[0m\u001b[0mdval\u001b[0m\u001b[0;34m,\u001b[0m \u001b[0;34m'eval'\u001b[0m\u001b[0;34m)\u001b[0m\u001b[0;34m]\u001b[0m\u001b[0;34m\u001b[0m\u001b[0m\n\u001b[1;32m      4\u001b[0m \u001b[0mhistory\u001b[0m \u001b[0;34m=\u001b[0m \u001b[0mdict\u001b[0m\u001b[0;34m(\u001b[0m\u001b[0;34m)\u001b[0m\u001b[0;34m\u001b[0m\u001b[0m\n",
      "\u001b[0;31mNameError\u001b[0m: name 'feat_new' is not defined"
     ]
    }
   ],
   "source": [
    "dtr = xgb.DMatrix(Xtr[feat_new], label= ytr)\n",
    "dval = xgb.DMatrix(Xval[feat_new], label= yval)\n",
    "watchlist = [(dtr, 'train'), (dval, 'eval')]\n",
    "history = dict()"
   ]
  },
  {
   "cell_type": "code",
   "execution_count": 26,
   "metadata": {
    "collapsed": false
   },
   "outputs": [],
   "source": [
    "dtr = xgb.DMatrix(Xtr[feat], label= ytr)\n",
    "dval = xgb.DMatrix(Xval[feat], label= yval)\n",
    "watchlist = [(dtr, 'train'), (dval, 'eval')]\n",
    "history = dict()\n",
    "#binary:logistic"
   ]
  },
  {
   "cell_type": "code",
   "execution_count": 28,
   "metadata": {
    "collapsed": false
   },
   "outputs": [],
   "source": [
    "params = {\n",
    "    'max_depth': 6,\n",
    "    'eta': 0.025,\n",
    "    'nthread': 4,\n",
    "    #'gamma' : 1,\n",
    "    'alpha' : 1,\n",
    "    'subsample': 0.85,\n",
    "    'eval_metric': ['auc'],\n",
    "    'objective': 'binary:logistic',\n",
    "    #'objective': 'reg:linear',\n",
    "    'colsample_bytree': 0.9,\n",
    "    'min_child_weight': 20,\n",
    "    'scale_pos_weight':(1-train.open_account_flg.mean())/train.open_account_flg.mean(),\n",
    "    'seed':7\n",
    "}"
   ]
  },
  {
   "cell_type": "code",
   "execution_count": 29,
   "metadata": {
    "collapsed": false
   },
   "outputs": [
    {
     "data": {
      "text/plain": [
       "4.680928932659036"
      ]
     },
     "execution_count": 29,
     "metadata": {},
     "output_type": "execute_result"
    }
   ],
   "source": [
    "(1-train.open_account_flg.mean())/train.open_account_flg.mean()"
   ]
  },
  {
   "cell_type": "code",
   "execution_count": null,
   "metadata": {
    "collapsed": false
   },
   "outputs": [],
   "source": [
    "xgb.cv(params, dtr, 1000, nfold=5,\n",
    "       metrics={'auc'}, seed = 7,verbose_eval=10,\n",
    "       callbacks=[xgb.callback.print_evaluation(show_stdv=True)])"
   ]
  },
  {
   "cell_type": "code",
   "execution_count": 30,
   "metadata": {
    "collapsed": false
   },
   "outputs": [
    {
     "name": "stdout",
     "output_type": "stream",
     "text": [
      "[0]\ttrain-auc:0.724892\teval-auc:0.720186\n",
      "[50]\ttrain-auc:0.757767\teval-auc:0.750738\n",
      "[100]\ttrain-auc:0.770668\teval-auc:0.760092\n",
      "[150]\ttrain-auc:0.778689\teval-auc:0.765048\n",
      "[200]\ttrain-auc:0.784554\teval-auc:0.768099\n",
      "[250]\ttrain-auc:0.788588\teval-auc:0.769822\n",
      "[300]\ttrain-auc:0.792123\teval-auc:0.771004\n",
      "[350]\ttrain-auc:0.795034\teval-auc:0.772039\n",
      "[400]\ttrain-auc:0.797601\teval-auc:0.772652\n",
      "[450]\ttrain-auc:0.799842\teval-auc:0.773117\n",
      "[500]\ttrain-auc:0.802016\teval-auc:0.773513\n",
      "[550]\ttrain-auc:0.804118\teval-auc:0.773863\n",
      "[600]\ttrain-auc:0.806133\teval-auc:0.774131\n",
      "[650]\ttrain-auc:0.808097\teval-auc:0.774291\n",
      "[700]\ttrain-auc:0.810146\teval-auc:0.774326\n",
      "[750]\ttrain-auc:0.812086\teval-auc:0.774478\n",
      "[800]\ttrain-auc:0.814159\teval-auc:0.774454\n",
      "[850]\ttrain-auc:0.816063\teval-auc:0.774477\n",
      "[900]\ttrain-auc:0.818077\teval-auc:0.774557\n"
     ]
    },
    {
     "ename": "KeyboardInterrupt",
     "evalue": "",
     "output_type": "error",
     "traceback": [
      "\u001b[0;31m---------------------------------------------------------------------------\u001b[0m",
      "\u001b[0;31mKeyboardInterrupt\u001b[0m                         Traceback (most recent call last)",
      "\u001b[0;32m<ipython-input-30-27ce9ea412bf>\u001b[0m in \u001b[0;36m<module>\u001b[0;34m()\u001b[0m\n\u001b[0;32m----> 1\u001b[0;31m \u001b[0mmodel_new\u001b[0m \u001b[0;34m=\u001b[0m \u001b[0mxgb\u001b[0m\u001b[0;34m.\u001b[0m\u001b[0mtrain\u001b[0m\u001b[0;34m(\u001b[0m\u001b[0mparams\u001b[0m\u001b[0;34m,\u001b[0m \u001b[0mdtr\u001b[0m\u001b[0;34m,\u001b[0m \u001b[0mnum_boost_round\u001b[0m\u001b[0;34m=\u001b[0m\u001b[0;36m1900\u001b[0m\u001b[0;34m,\u001b[0m \u001b[0mevals\u001b[0m\u001b[0;34m=\u001b[0m\u001b[0mwatchlist\u001b[0m\u001b[0;34m,\u001b[0m\u001b[0mevals_result\u001b[0m\u001b[0;34m=\u001b[0m\u001b[0mhistory\u001b[0m\u001b[0;34m,\u001b[0m \u001b[0mverbose_eval\u001b[0m\u001b[0;34m=\u001b[0m\u001b[0;36m50\u001b[0m\u001b[0;34m)\u001b[0m\u001b[0;34m\u001b[0m\u001b[0m\n\u001b[0m",
      "\u001b[0;32m/home/dz/anaconda3/lib/python3.5/site-packages/xgboost/training.py\u001b[0m in \u001b[0;36mtrain\u001b[0;34m(params, dtrain, num_boost_round, evals, obj, feval, maximize, early_stopping_rounds, evals_result, verbose_eval, learning_rates, xgb_model, callbacks)\u001b[0m\n\u001b[1;32m    203\u001b[0m                            \u001b[0mevals\u001b[0m\u001b[0;34m=\u001b[0m\u001b[0mevals\u001b[0m\u001b[0;34m,\u001b[0m\u001b[0;34m\u001b[0m\u001b[0m\n\u001b[1;32m    204\u001b[0m                            \u001b[0mobj\u001b[0m\u001b[0;34m=\u001b[0m\u001b[0mobj\u001b[0m\u001b[0;34m,\u001b[0m \u001b[0mfeval\u001b[0m\u001b[0;34m=\u001b[0m\u001b[0mfeval\u001b[0m\u001b[0;34m,\u001b[0m\u001b[0;34m\u001b[0m\u001b[0m\n\u001b[0;32m--> 205\u001b[0;31m                            xgb_model=xgb_model, callbacks=callbacks)\n\u001b[0m\u001b[1;32m    206\u001b[0m \u001b[0;34m\u001b[0m\u001b[0m\n\u001b[1;32m    207\u001b[0m \u001b[0;34m\u001b[0m\u001b[0m\n",
      "\u001b[0;32m/home/dz/anaconda3/lib/python3.5/site-packages/xgboost/training.py\u001b[0m in \u001b[0;36m_train_internal\u001b[0;34m(params, dtrain, num_boost_round, evals, obj, feval, xgb_model, callbacks)\u001b[0m\n\u001b[1;32m     74\u001b[0m         \u001b[0;31m# Skip the first update if it is a recovery step.\u001b[0m\u001b[0;34m\u001b[0m\u001b[0;34m\u001b[0m\u001b[0m\n\u001b[1;32m     75\u001b[0m         \u001b[0;32mif\u001b[0m \u001b[0mversion\u001b[0m \u001b[0;34m%\u001b[0m \u001b[0;36m2\u001b[0m \u001b[0;34m==\u001b[0m \u001b[0;36m0\u001b[0m\u001b[0;34m:\u001b[0m\u001b[0;34m\u001b[0m\u001b[0m\n\u001b[0;32m---> 76\u001b[0;31m             \u001b[0mbst\u001b[0m\u001b[0;34m.\u001b[0m\u001b[0mupdate\u001b[0m\u001b[0;34m(\u001b[0m\u001b[0mdtrain\u001b[0m\u001b[0;34m,\u001b[0m \u001b[0mi\u001b[0m\u001b[0;34m,\u001b[0m \u001b[0mobj\u001b[0m\u001b[0;34m)\u001b[0m\u001b[0;34m\u001b[0m\u001b[0m\n\u001b[0m\u001b[1;32m     77\u001b[0m             \u001b[0mbst\u001b[0m\u001b[0;34m.\u001b[0m\u001b[0msave_rabit_checkpoint\u001b[0m\u001b[0;34m(\u001b[0m\u001b[0;34m)\u001b[0m\u001b[0;34m\u001b[0m\u001b[0m\n\u001b[1;32m     78\u001b[0m             \u001b[0mversion\u001b[0m \u001b[0;34m+=\u001b[0m \u001b[0;36m1\u001b[0m\u001b[0;34m\u001b[0m\u001b[0m\n",
      "\u001b[0;32m/home/dz/anaconda3/lib/python3.5/site-packages/xgboost/core.py\u001b[0m in \u001b[0;36mupdate\u001b[0;34m(self, dtrain, iteration, fobj)\u001b[0m\n\u001b[1;32m    804\u001b[0m \u001b[0;34m\u001b[0m\u001b[0m\n\u001b[1;32m    805\u001b[0m         \u001b[0;32mif\u001b[0m \u001b[0mfobj\u001b[0m \u001b[0;32mis\u001b[0m \u001b[0;32mNone\u001b[0m\u001b[0;34m:\u001b[0m\u001b[0;34m\u001b[0m\u001b[0m\n\u001b[0;32m--> 806\u001b[0;31m             \u001b[0m_check_call\u001b[0m\u001b[0;34m(\u001b[0m\u001b[0m_LIB\u001b[0m\u001b[0;34m.\u001b[0m\u001b[0mXGBoosterUpdateOneIter\u001b[0m\u001b[0;34m(\u001b[0m\u001b[0mself\u001b[0m\u001b[0;34m.\u001b[0m\u001b[0mhandle\u001b[0m\u001b[0;34m,\u001b[0m \u001b[0miteration\u001b[0m\u001b[0;34m,\u001b[0m \u001b[0mdtrain\u001b[0m\u001b[0;34m.\u001b[0m\u001b[0mhandle\u001b[0m\u001b[0;34m)\u001b[0m\u001b[0;34m)\u001b[0m\u001b[0;34m\u001b[0m\u001b[0m\n\u001b[0m\u001b[1;32m    807\u001b[0m         \u001b[0;32melse\u001b[0m\u001b[0;34m:\u001b[0m\u001b[0;34m\u001b[0m\u001b[0m\n\u001b[1;32m    808\u001b[0m             \u001b[0mpred\u001b[0m \u001b[0;34m=\u001b[0m \u001b[0mself\u001b[0m\u001b[0;34m.\u001b[0m\u001b[0mpredict\u001b[0m\u001b[0;34m(\u001b[0m\u001b[0mdtrain\u001b[0m\u001b[0;34m)\u001b[0m\u001b[0;34m\u001b[0m\u001b[0m\n",
      "\u001b[0;31mKeyboardInterrupt\u001b[0m: "
     ]
    }
   ],
   "source": [
    "model_new = xgb.train(params, dtr, num_boost_round=1900, evals=watchlist,evals_result=history, verbose_eval=50)"
   ]
  },
  {
   "cell_type": "code",
   "execution_count": 31,
   "metadata": {
    "collapsed": true
   },
   "outputs": [],
   "source": [
    "dtra = xgb.DMatrix(train[feat], label= train.open_account_flg)\n",
    "dte = xgb.DMatrix(test[feat])\n",
    "watchlist = [(dtra, 'train'), (dval, 'eval')]\n",
    "history = dict()"
   ]
  },
  {
   "cell_type": "code",
   "execution_count": null,
   "metadata": {
    "collapsed": true
   },
   "outputs": [],
   "source": [
    "train-auc:0.819951\teval-auc:0.772139"
   ]
  },
  {
   "cell_type": "code",
   "execution_count": 32,
   "metadata": {
    "collapsed": false
   },
   "outputs": [
    {
     "name": "stdout",
     "output_type": "stream",
     "text": [
      "[0]\ttrain-auc:0.724952\teval-auc:0.725628\n",
      "[50]\ttrain-auc:0.757682\teval-auc:0.759071\n",
      "[100]\ttrain-auc:0.769288\teval-auc:0.770576\n",
      "[150]\ttrain-auc:0.77669\teval-auc:0.777873\n",
      "[200]\ttrain-auc:0.781588\teval-auc:0.782764\n",
      "[250]\ttrain-auc:0.785239\teval-auc:0.786326\n",
      "[300]\ttrain-auc:0.788488\teval-auc:0.789413\n",
      "[350]\ttrain-auc:0.79108\teval-auc:0.791976\n",
      "[400]\ttrain-auc:0.79303\teval-auc:0.793823\n",
      "[450]\ttrain-auc:0.795208\teval-auc:0.795946\n",
      "[500]\ttrain-auc:0.797274\teval-auc:0.797975\n",
      "[550]\ttrain-auc:0.799089\teval-auc:0.799748\n",
      "[600]\ttrain-auc:0.800817\teval-auc:0.801443\n",
      "[650]\ttrain-auc:0.802681\teval-auc:0.803308\n",
      "[700]\ttrain-auc:0.804454\teval-auc:0.80506\n",
      "[750]\ttrain-auc:0.806084\teval-auc:0.806662\n",
      "[800]\ttrain-auc:0.807766\teval-auc:0.808299\n",
      "[850]\ttrain-auc:0.809434\teval-auc:0.810005\n",
      "[900]\ttrain-auc:0.810913\teval-auc:0.811497\n",
      "[950]\ttrain-auc:0.812727\teval-auc:0.81323\n"
     ]
    }
   ],
   "source": [
    "model = xgb.train(params, dtra, num_boost_round=1000, evals=watchlist,evals_result=history, verbose_eval=50)"
   ]
  },
  {
   "cell_type": "code",
   "execution_count": null,
   "metadata": {
    "collapsed": true
   },
   "outputs": [],
   "source": [
    "[950]\ttrain-auc:0.780643\teval-auc:0.764583 all get(4)\n",
    "        [400]\ttrain-auc:0.875557\teval-auc:0.76265 10\n",
    "                [950]\ttrain-auc:0.794613\teval-auc:0.765007 5\n",
    "                        0/7716 (100 liv)\n",
    "                        0.7717(150)\n",
    "                        0.7710(50)\n",
    "                        0.7721(weight)\n",
    "                        0.7718\n",
    "                        0768 non get dum live\n",
    "                        0767 non get(base feat)\n",
    "                        07689 get reg non get other\n",
    "                        07694\n",
    "                        07721 all get\n",
    "                        0772374 a=1\n",
    "                        07727\n",
    "                        07724 g=1\n",
    "                        07732 a1 all get\n",
    "                        800]\ttrain-auc:0.811587\teval-auc:0.773429"
   ]
  },
  {
   "cell_type": "code",
   "execution_count": 45,
   "metadata": {
    "collapsed": false
   },
   "outputs": [],
   "source": [
    "xgb.plot_importance(model,title='Feature importance',  height=0.1,  xlabel='F score', ylabel='Features',  importance_type='gain',grid=False, )\n",
    "plt.show()"
   ]
  },
  {
   "cell_type": "code",
   "execution_count": null,
   "metadata": {
    "collapsed": false
   },
   "outputs": [],
   "source": [
    "imps = pd.Series(model.get_fscore()).sort_values()[-150:]\n",
    "imps.plot(kind='bar', figsize=(15,6),logy=False)\n",
    "plt.show()"
   ]
  },
  {
   "cell_type": "code",
   "execution_count": null,
   "metadata": {
    "collapsed": false
   },
   "outputs": [],
   "source": [
    "Xval.shape"
   ]
  },
  {
   "cell_type": "code",
   "execution_count": null,
   "metadata": {
    "collapsed": false
   },
   "outputs": [],
   "source": [
    "imps"
   ]
  },
  {
   "cell_type": "code",
   "execution_count": null,
   "metadata": {
    "collapsed": false
   },
   "outputs": [],
   "source": [
    "dict_imp = model.get_fscore()\n",
    "dict_imp\n"
   ]
  },
  {
   "cell_type": "code",
   "execution_count": null,
   "metadata": {
    "collapsed": false
   },
   "outputs": [],
   "source": [
    "dict_imp['HasInfoCredit']\n",
    "feat_new = []\n",
    "for i in range(len(dict_imp)):\n",
    "    try:\n",
    "        if dict_imp[feat[i]]>30:\n",
    "            feat_new.append(feat[i])\n",
    "    except:\n",
    "        print('!')\n",
    "        #feat_new.append(feat[i])"
   ]
  },
  {
   "cell_type": "code",
   "execution_count": null,
   "metadata": {
    "collapsed": false
   },
   "outputs": [],
   "source": [
    "len(feat_new)"
   ]
  },
  {
   "cell_type": "code",
   "execution_count": null,
   "metadata": {
    "collapsed": false
   },
   "outputs": [],
   "source": [
    "dtrain = xgb.DMatrix(train[feat], label= y)"
   ]
  },
  {
   "cell_type": "code",
   "execution_count": null,
   "metadata": {
    "collapsed": false
   },
   "outputs": [],
   "source": [
    "dtrain = xgb.DMatrix(train[feat], label= y)"
   ]
  },
  {
   "cell_type": "code",
   "execution_count": null,
   "metadata": {
    "collapsed": true
   },
   "outputs": [],
   "source": [
    "del(data)"
   ]
  },
  {
   "cell_type": "code",
   "execution_count": null,
   "metadata": {
    "collapsed": false
   },
   "outputs": [],
   "source": [
    "model = xgb.train(params, dtrain, num_boost_round=1000, evals=watchlist,evals_result=history, verbose_eval=50)"
   ]
  },
  {
   "cell_type": "code",
   "execution_count": null,
   "metadata": {
    "collapsed": true
   },
   "outputs": [],
   "source": [
    "dtest = xgb.DMatrix(test[feat])"
   ]
  },
  {
   "cell_type": "code",
   "execution_count": null,
   "metadata": {
    "collapsed": true
   },
   "outputs": [],
   "source": [
    "pred_xgb_reg = model.predict(dtest)"
   ]
  },
  {
   "cell_type": "code",
   "execution_count": null,
   "metadata": {
    "collapsed": true
   },
   "outputs": [],
   "source": []
  },
  {
   "cell_type": "code",
   "execution_count": null,
   "metadata": {
    "collapsed": true
   },
   "outputs": [],
   "source": []
  },
  {
   "cell_type": "code",
   "execution_count": null,
   "metadata": {
    "collapsed": true
   },
   "outputs": [],
   "source": []
  },
  {
   "cell_type": "code",
   "execution_count": 33,
   "metadata": {
    "collapsed": false
   },
   "outputs": [],
   "source": [
    "pred_xgb = model.predict(dte)"
   ]
  },
  {
   "cell_type": "code",
   "execution_count": 34,
   "metadata": {
    "collapsed": true
   },
   "outputs": [],
   "source": [
    "sub = pd.DataFrame()"
   ]
  },
  {
   "cell_type": "code",
   "execution_count": 39,
   "metadata": {
    "collapsed": false
   },
   "outputs": [
    {
     "data": {
      "text/html": [
       "<div>\n",
       "<table border=\"1\" class=\"dataframe\">\n",
       "  <thead>\n",
       "    <tr style=\"text-align: right;\">\n",
       "      <th></th>\n",
       "      <th>_ID_</th>\n",
       "    </tr>\n",
       "  </thead>\n",
       "  <tbody>\n",
       "    <tr>\n",
       "      <th>170746</th>\n",
       "      <td>170747</td>\n",
       "    </tr>\n",
       "    <tr>\n",
       "      <th>170747</th>\n",
       "      <td>170748</td>\n",
       "    </tr>\n",
       "    <tr>\n",
       "      <th>170748</th>\n",
       "      <td>170749</td>\n",
       "    </tr>\n",
       "    <tr>\n",
       "      <th>170749</th>\n",
       "      <td>170750</td>\n",
       "    </tr>\n",
       "    <tr>\n",
       "      <th>170750</th>\n",
       "      <td>170751</td>\n",
       "    </tr>\n",
       "  </tbody>\n",
       "</table>\n",
       "</div>"
      ],
      "text/plain": [
       "          _ID_\n",
       "170746  170747\n",
       "170747  170748\n",
       "170748  170749\n",
       "170749  170750\n",
       "170750  170751"
      ]
     },
     "execution_count": 39,
     "metadata": {},
     "output_type": "execute_result"
    }
   ],
   "source": [
    "sub['_ID_'] = test['client_id']\n",
    "sub.head()"
   ]
  },
  {
   "cell_type": "code",
   "execution_count": 57,
   "metadata": {
    "collapsed": false
   },
   "outputs": [
    {
     "data": {
      "text/plain": [
       "0.054483085870742798"
      ]
     },
     "execution_count": 57,
     "metadata": {},
     "output_type": "execute_result"
    }
   ],
   "source": [
    "x2['_VAL_'][0]"
   ]
  },
  {
   "cell_type": "code",
   "execution_count": 58,
   "metadata": {
    "collapsed": true
   },
   "outputs": [],
   "source": [
    "sub['_VAL_'] = pred_xgb"
   ]
  },
  {
   "cell_type": "code",
   "execution_count": 65,
   "metadata": {
    "collapsed": true
   },
   "outputs": [],
   "source": [
    "sub['_VAL_'] = (sub['_VAL_']+x2['_VAL_'])*0.5"
   ]
  },
  {
   "cell_type": "code",
   "execution_count": 66,
   "metadata": {
    "collapsed": false
   },
   "outputs": [
    {
     "data": {
      "text/html": [
       "<div>\n",
       "<table border=\"1\" class=\"dataframe\">\n",
       "  <thead>\n",
       "    <tr style=\"text-align: right;\">\n",
       "      <th></th>\n",
       "      <th>_ID_</th>\n",
       "      <th>_VAL_</th>\n",
       "    </tr>\n",
       "  </thead>\n",
       "  <tbody>\n",
       "    <tr>\n",
       "      <th>0</th>\n",
       "      <td>170747</td>\n",
       "      <td>0.152230</td>\n",
       "    </tr>\n",
       "    <tr>\n",
       "      <th>1</th>\n",
       "      <td>170748</td>\n",
       "      <td>0.275681</td>\n",
       "    </tr>\n",
       "    <tr>\n",
       "      <th>2</th>\n",
       "      <td>170749</td>\n",
       "      <td>0.455527</td>\n",
       "    </tr>\n",
       "    <tr>\n",
       "      <th>3</th>\n",
       "      <td>170750</td>\n",
       "      <td>0.352204</td>\n",
       "    </tr>\n",
       "    <tr>\n",
       "      <th>4</th>\n",
       "      <td>170751</td>\n",
       "      <td>0.190927</td>\n",
       "    </tr>\n",
       "  </tbody>\n",
       "</table>\n",
       "</div>"
      ],
      "text/plain": [
       "     _ID_     _VAL_\n",
       "0  170747  0.152230\n",
       "1  170748  0.275681\n",
       "2  170749  0.455527\n",
       "3  170750  0.352204\n",
       "4  170751  0.190927"
      ]
     },
     "execution_count": 66,
     "metadata": {},
     "output_type": "execute_result"
    }
   ],
   "source": [
    "sub.head()"
   ]
  },
  {
   "cell_type": "code",
   "execution_count": 63,
   "metadata": {
    "collapsed": true
   },
   "outputs": [],
   "source": [
    "sub = f.copy()"
   ]
  },
  {
   "cell_type": "code",
   "execution_count": 67,
   "metadata": {
    "collapsed": true
   },
   "outputs": [],
   "source": [
    "sub.to_csv('pred/xgbmean.csv',index=False)"
   ]
  },
  {
   "cell_type": "code",
   "execution_count": null,
   "metadata": {
    "collapsed": true
   },
   "outputs": [],
   "source": [
    "sub['_VAL_1'] = x1['_VAL_']\n",
    "sub['_VAL_2'] = x2['_VAL_']"
   ]
  },
  {
   "cell_type": "code",
   "execution_count": null,
   "metadata": {
    "collapsed": true
   },
   "outputs": [],
   "source": [
    "xgb_proba5getall_7723(6)all110.csv"
   ]
  },
  {
   "cell_type": "code",
   "execution_count": 62,
   "metadata": {
    "collapsed": false
   },
   "outputs": [],
   "source": [
    "f = pd.read_csv('pred/xgb_proba5getall_7745(6)all150+count+meta.csv')"
   ]
  },
  {
   "cell_type": "code",
   "execution_count": 47,
   "metadata": {
    "collapsed": false
   },
   "outputs": [],
   "source": [
    "x1 = pd.read_csv('pred/xgb_proba5getall_765.csv')\n",
    "x2 = pd.read_csv('pred/xgb_proba5getall_771(6)all150.csv')\n",
    "x3 = pd.read_csv('pred/xgb_proba5getall_7722(6)all110+reg(70).csv')"
   ]
  },
  {
   "cell_type": "code",
   "execution_count": 48,
   "metadata": {
    "collapsed": false
   },
   "outputs": [
    {
     "data": {
      "text/plain": [
       "((0.96514852040973276, 0.0),\n",
       " SpearmanrResult(correlation=0.96158334698888681, pvalue=0.0),\n",
       " KendalltauResult(correlation=0.84478097970191379, pvalue=0.0))"
      ]
     },
     "execution_count": 48,
     "metadata": {},
     "output_type": "execute_result"
    }
   ],
   "source": [
    "import scipy.stats as stats\n",
    "stats.pearsonr(x1['_VAL_'],x2['_VAL_']),stats.spearmanr(x1['_VAL_'],x2['_VAL_']),stats.kendalltau(x1['_VAL_'],x2['_VAL_'])"
   ]
  },
  {
   "cell_type": "code",
   "execution_count": 51,
   "metadata": {
    "collapsed": false
   },
   "outputs": [
    {
     "data": {
      "text/plain": [
       "((0.98275928377980926, 0.0),\n",
       " SpearmanrResult(correlation=0.98190090673746078, pvalue=0.0),\n",
       " KendalltauResult(correlation=0.89095079842911507, pvalue=0.0))"
      ]
     },
     "execution_count": 51,
     "metadata": {},
     "output_type": "execute_result"
    }
   ],
   "source": [
    "stats.pearsonr(pred_xgb,x3['_VAL_']),stats.spearmanr(pred_xgb,x3['_VAL_']),stats.kendalltau(pred_xgb,x3['_VAL_'])"
   ]
  },
  {
   "cell_type": "code",
   "execution_count": 49,
   "metadata": {
    "collapsed": false
   },
   "outputs": [
    {
     "data": {
      "text/plain": [
       "((0.93519206786386422, 0.0),\n",
       " SpearmanrResult(correlation=0.97053624311979014, pvalue=0.0),\n",
       " KendalltauResult(correlation=0.86050650421678954, pvalue=0.0))"
      ]
     },
     "execution_count": 49,
     "metadata": {},
     "output_type": "execute_result"
    }
   ],
   "source": [
    "stats.pearsonr(pred_xgb,x2['_VAL_']),stats.spearmanr(pred_xgb,x2['_VAL_']),stats.kendalltau(pred_xgb,x2['_VAL_'])"
   ]
  },
  {
   "cell_type": "code",
   "execution_count": 50,
   "metadata": {
    "collapsed": false
   },
   "outputs": [
    {
     "data": {
      "text/plain": [
       "((0.91437929659034733, 0.0),\n",
       " SpearmanrResult(correlation=0.94679167222988125, pvalue=0.0),\n",
       " KendalltauResult(correlation=0.80919557703104117, pvalue=0.0))"
      ]
     },
     "execution_count": 50,
     "metadata": {},
     "output_type": "execute_result"
    }
   ],
   "source": [
    "stats.pearsonr(pred_xgb,x1['_VAL_']),stats.spearmanr(pred_xgb,x1['_VAL_']),stats.kendalltau(pred_xgb,x1['_VAL_'])"
   ]
  },
  {
   "cell_type": "code",
   "execution_count": null,
   "metadata": {
    "collapsed": false
   },
   "outputs": [],
   "source": [
    "stats.pearsonr(pred_xgb,pred_xgb_reg),stats.spearmanr(pred_xgb,pred_xgb_reg),stats.kendalltau(pred_xgb,pred_xgb_reg)"
   ]
  },
  {
   "cell_type": "code",
   "execution_count": null,
   "metadata": {
    "collapsed": true
   },
   "outputs": [],
   "source": []
  }
 ],
 "metadata": {
  "anaconda-cloud": {},
  "kernelspec": {
   "display_name": "Python 3",
   "language": "python",
   "name": "python3"
  },
  "language_info": {
   "codemirror_mode": {
    "name": "ipython",
    "version": 3
   },
   "file_extension": ".py",
   "mimetype": "text/x-python",
   "name": "python",
   "nbconvert_exporter": "python",
   "pygments_lexer": "ipython3",
   "version": "3.6.0"
  }
 },
 "nbformat": 4,
 "nbformat_minor": 1
}
