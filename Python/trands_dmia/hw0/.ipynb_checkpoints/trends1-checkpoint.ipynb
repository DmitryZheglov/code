{
 "cells": [
  {
   "cell_type": "code",
   "execution_count": 1,
   "metadata": {
    "collapsed": true
   },
   "outputs": [],
   "source": [
    "import numpy as np"
   ]
  },
  {
   "cell_type": "code",
   "execution_count": 12,
   "metadata": {
    "collapsed": true
   },
   "outputs": [],
   "source": [
    "def power_sum(l, r, p=1.0):\n",
    "    return np.array([k**p for k in range(l,r+1)]).sum()\n",
    "    raise NotImplementedError"
   ]
  },
  {
   "cell_type": "code",
   "execution_count": 39,
   "metadata": {},
   "outputs": [],
   "source": [
    "def solve_equation(a, b, c):\n",
    "    if (a==0 and b!=0 and c==0) or (a!=0 and b*b-4*a*c<0):\n",
    "        return None\n",
    "    elif a==0 and b!=0 and c!=0:\n",
    "        return -c/b\n",
    "    elif b*b-4*a*c==0 and a!=0:\n",
    "        return -b/2/a\n",
    "    elif b*b-4*a*c>0:\n",
    "        return ((-b+np.sqrt(b*b-4*a*c))/2/a,(-b-np.sqrt(b*b-4*a*c))/2/a)\n",
    "    else:\n",
    "        return 'inf'\n",
    "    raise NotImplementedError"
   ]
  },
  {
   "cell_type": "code",
   "execution_count": 52,
   "metadata": {},
   "outputs": [],
   "source": [
    "def replace_outliers(x, std_mul=3.0):\n",
    "    mean=np.mean(x)\n",
    "    std=np.std(x)\n",
    "    return np.where(abs(x - mean) > std_mul*std, mean, x)\n",
    "    raise NotImplementedError"
   ]
  },
  {
   "cell_type": "code",
   "execution_count": 88,
   "metadata": {},
   "outputs": [],
   "source": [
    "def get_eigenvector(A, alpha):\n",
    "    eps=1e-8\n",
    "    try:\n",
    "        return np.array(np.linalg.eig(A)[1])[abs(alpha - np.linalg.eig(A)[0])<eps][0]\n",
    "    except:\n",
    "        return None\n",
    "    raise NotImplementedError"
   ]
  },
  {
   "cell_type": "code",
   "execution_count": 91,
   "metadata": {
    "collapsed": true
   },
   "outputs": [],
   "source": [
    "def discrete_sampler(p):    \n",
    "    return np.random.choice(np.arange(len(p)),1,p = p)\n",
    "    raise NotImplementedError"
   ]
  },
  {
   "cell_type": "code",
   "execution_count": 96,
   "metadata": {
    "collapsed": true
   },
   "outputs": [],
   "source": [
    "def gaussian_log_likelihood(x, mu=0.0, sigma=1.0):\n",
    "    return np.sum(-np.log(sigma*np.sqrt(2*np.pi))-((x-mu)**2)/(2*(sigma**2)))\n",
    "    raise NotImplementedError"
   ]
  },
  {
   "cell_type": "code",
   "execution_count": 100,
   "metadata": {
    "collapsed": true
   },
   "outputs": [],
   "source": [
    "def gradient_approx(f, x0, eps=1e-8):\n",
    "    return (f(x0 + eps) - f(x0 - eps))/(2*eps)\n",
    "    raise NotImplementedError"
   ]
  },
  {
   "cell_type": "code",
   "execution_count": 101,
   "metadata": {
    "collapsed": true
   },
   "outputs": [],
   "source": [
    "def gradient_method(f, x0, n_steps=1000, learning_rate=1e-2, eps=1e-8):\n",
    "    x_min = x0\n",
    "    for i in range(n_steps):\n",
    "        x_min = x_min - learning_rate*gradient_approx(f, x_min, eps)\n",
    "    return (f(x_min), x_min)\n",
    "    raise NotImplementedError"
   ]
  },
  {
   "cell_type": "code",
   "execution_count": 111,
   "metadata": {
    "collapsed": true
   },
   "outputs": [],
   "source": [
    "def linear_regression_predict(w, b, X):\n",
    "    return np.dot(X,w)+b\n",
    "    raise NotImplementedError"
   ]
  },
  {
   "cell_type": "code",
   "execution_count": 113,
   "metadata": {},
   "outputs": [],
   "source": [
    "def mean_squared_error(y_true, y_pred):\n",
    "    return np.mean((y_true - y_pred)**2)\n",
    "    raise NotImplementedError"
   ]
  },
  {
   "cell_type": "code",
   "execution_count": 219,
   "metadata": {},
   "outputs": [],
   "source": [
    "def linear_regression_mse_gradient(w, b, X, y_true):\n",
    "    d_w=np.matrix([np.array(-2*np.dot(X.T[i],(y_true-linear_regression_predict(w, b, X)))/X.shape[0])[0][0] for i in range(len(w))]).T\n",
    "    d_b=np.sum(-2*(y_true-linear_regression_predict(w, b, X))/X.shape[0])\n",
    "    return (d_w,d_b)\n",
    "    raise NotImplementedError"
   ]
  },
  {
   "cell_type": "code",
   "execution_count": 234,
   "metadata": {},
   "outputs": [],
   "source": [
    "X=np.matrix([[2,1],[2,10],[3,2],[1,3]])\n",
    "w=np.matrix([2,2]).T\n",
    "y_true=np.matrix([2,2,5,6]).T\n",
    "b=2"
   ]
  },
  {
   "cell_type": "code",
   "execution_count": 235,
   "metadata": {},
   "outputs": [
    {
     "data": {
      "text/plain": [
       "matrix([[  42.5],\n",
       "        [ 136. ]])"
      ]
     },
     "execution_count": 235,
     "metadata": {},
     "output_type": "execute_result"
    }
   ],
   "source": [
    "linear_regression_mse_gradient(w, b, X, y_true)[0]"
   ]
  },
  {
   "cell_type": "code",
   "execution_count": 236,
   "metadata": {
    "collapsed": true
   },
   "outputs": [],
   "source": [
    "class LinearRegressor:\n",
    "    def fit(self, X_train, y_train, n_steps=1000, learning_rate=1e-2, eps=1e-8):\n",
    "        self.b = 1\n",
    "        self.w=np.matrix(np.zeros(X.shape[1])).T\n",
    "        for i in range(n_steps):\n",
    "            self.w = self.w - learning_rate*linear_regression_mse_gradient(self.w, self.b, X_train, y_train)[0]\n",
    "            self.b = self.b - learning_rate*linear_regression_mse_gradient(self.w, self.b, X_train, y_train)[1]\n",
    "\n",
    "        return self\n",
    "\n",
    "\n",
    "    def predict(self, X):\n",
    "        return linear_regression_predict(self.w, self.b, X)"
   ]
  },
  {
   "cell_type": "code",
   "execution_count": 237,
   "metadata": {
    "collapsed": true
   },
   "outputs": [],
   "source": [
    "lr=LinearRegressor()"
   ]
  },
  {
   "cell_type": "code",
   "execution_count": 238,
   "metadata": {},
   "outputs": [
    {
     "data": {
      "text/plain": [
       "<__main__.LinearRegressor at 0x1053aea90>"
      ]
     },
     "execution_count": 238,
     "metadata": {},
     "output_type": "execute_result"
    }
   ],
   "source": [
    "lr.fit(X,y_true)"
   ]
  },
  {
   "cell_type": "code",
   "execution_count": 239,
   "metadata": {},
   "outputs": [
    {
     "data": {
      "text/plain": [
       "matrix([[ 4.22811377],\n",
       "        [ 2.58454056],\n",
       "        [ 3.78917827],\n",
       "        [ 4.11919154]])"
      ]
     },
     "execution_count": 239,
     "metadata": {},
     "output_type": "execute_result"
    }
   ],
   "source": [
    "lr.predict(X)"
   ]
  },
  {
   "cell_type": "code",
   "execution_count": 240,
   "metadata": {
    "collapsed": true
   },
   "outputs": [],
   "source": [
    "def sigmoid(x):\n",
    "    return 1.0 / (1.0 + np.exp(-x))"
   ]
  },
  {
   "cell_type": "code",
   "execution_count": 241,
   "metadata": {
    "collapsed": true
   },
   "outputs": [],
   "source": [
    "def sigmoid_der(x):\n",
    "    return np.exp(-x) / ((1.0 + np.exp(-x))**2)\n",
    "    raise NotImplementedError"
   ]
  },
  {
   "cell_type": "code",
   "execution_count": 242,
   "metadata": {
    "collapsed": true
   },
   "outputs": [],
   "source": [
    "def relu(x):\n",
    "    return np.maximum(x, 0)"
   ]
  },
  {
   "cell_type": "code",
   "execution_count": 250,
   "metadata": {},
   "outputs": [],
   "source": [
    "def relu_der(x):\n",
    "    if x > 0:\n",
    "        return 1\n",
    "    else:\n",
    "        return 0\n",
    "    raise NotImplementedError"
   ]
  },
  {
   "cell_type": "code",
   "execution_count": null,
   "metadata": {
    "collapsed": true
   },
   "outputs": [],
   "source": [
    "class MLPRegressor:\n",
    "    def __init__(self, n_units=[32, 32], nonlinearity=relu):\n",
    "        self.n_units = n_units\n",
    "        self.nonlinearity = nonlinearity\n"
   ]
  }
 ],
 "metadata": {
  "kernelspec": {
   "display_name": "Python 3",
   "language": "python",
   "name": "python3"
  },
  "language_info": {
   "codemirror_mode": {
    "name": "ipython",
    "version": 3
   },
   "file_extension": ".py",
   "mimetype": "text/x-python",
   "name": "python",
   "nbconvert_exporter": "python",
   "pygments_lexer": "ipython3",
   "version": "3.6.4"
  }
 },
 "nbformat": 4,
 "nbformat_minor": 2
}
