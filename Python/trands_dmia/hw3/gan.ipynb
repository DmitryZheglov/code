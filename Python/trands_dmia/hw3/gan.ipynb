{
 "cells": [
  {
   "cell_type": "code",
   "execution_count": 1,
   "metadata": {
    "collapsed": true
   },
   "outputs": [],
   "source": [
    "import numpy as np"
   ]
  },
  {
   "cell_type": "code",
   "execution_count": 2,
   "metadata": {
    "collapsed": true
   },
   "outputs": [],
   "source": [
    "# TODO: implement k-nn search exploiting hubness reduction\n",
    "\n",
    "# simple search is only available\n",
    "def test_acc(prj_mat, src_emb, trg_emb, valid_data, k):\n",
    "    raise"
   ]
  },
  {
   "cell_type": "code",
   "execution_count": null,
   "metadata": {
    "collapsed": false
   },
   "outputs": [],
   "source": [
    "import chainer\n",
    "from chainer import cuda\n",
    "import chainer.functions as F\n",
    "import chainer.links as L\n",
    "\n",
    "\n",
    "class Generator(chainer.Chain):\n",
    "    def __init__(self, dim):\n",
    "        self.dim = dim\n",
    "        super(Generator, self).__init__(\n",
    "            W = L.Linear(dim, dim)\n",
    "        )\n",
    "\n",
    "    def __call__(self, src_emb):\n",
    "        \"\"\"\n",
    "        simple projection\n",
    "        \"\"\"\n",
    "        src_emb = chainer.Variable(src_emb)\n",
    "        return self.W(src_emb)\n",
    "\n",
    "\n",
    "class Discriminator(chainer.Chain):\n",
    "    def __init__(self, dim, hidden=2048, drop_rate=0.1):\n",
    "        self.dim = dim\n",
    "        self.hidden = hidden\n",
    "        self.drop_rate = drop_rate\n",
    "        super(Discriminator, self).__init__(\n",
    "            W1 = L.Linear(dim, hidden),\n",
    "            W2 = L.Linear(hidden, 2)\n",
    "        )\n",
    "\n",
    "    def __call__(self, xs):\n",
    "        # TODO: adding noise?\n",
    "        xs = F.dropout(xs, ratio=self.drop_rate)\n",
    "        hs = F.leaky_relu(self.W1(xs))\n",
    "        return self.W2(hs)"
   ]
  },
  {
   "cell_type": "code",
   "execution_count": null,
   "metadata": {
    "collapsed": true
   },
   "outputs": [],
   "source": [
    "import chainer\n",
    "import chainer.functions as F\n",
    "import numpy as np\n",
    "\n",
    "\n",
    "class GANTrainer(object):\n",
    "    def __init__(self, models, opts, logger, valid_data, epoch, batchsize):\n",
    "        self.gen, self.dis = models\n",
    "        self.gen_opt, self.dis_opt = opts\n",
    "        self.logger = logger\n",
    "        self.epoch = epoch\n",
    "        self.batchsize = batchsize\n",
    "        self.valid_data = valid_data\n",
    "\n",
    "    def fit(self, src_emb, trg_emb):\n",
    "        n_src_word = len(src_emb)\n",
    "        n_trg_word = len(trg_emb)\n",
    "        n_sample = max(n_src_word, n_trg_word)\n",
    "        for epoch in range(self.epoch):\n",
    "            self.logger.info('start {} epoch'.format(epoch+1))\n",
    "            sum_gen_loss = 0\n",
    "            sum_dis_loss = 0\n",
    "            for i in range(n_sample // self.batchsize):\n",
    "                src_idxs = np.random.randint(0, n_src_word, size=self.batchsize)\n",
    "                trg_idxs = np.random.randint(0, n_trg_word, size=self.batchsize)\n",
    "                _src_emb = src_emb[src_idxs]\n",
    "                _trg_emb = trg_emb[trg_idxs]\n",
    "\n",
    "                prj_src_emb = self.gen(_src_emb)\n",
    "                src_ys = self.dis(prj_src_emb)\n",
    "                gen_loss = F.softmax_cross_entropy(src_ys, chainer.Variable(np.zeros(self.batchsize, dtype=np.int32)))\n",
    "                dis_loss = F.softmax_cross_entropy(src_ys, chainer.Variable(np.ones(self.batchsize, dtype=np.int32)))\n",
    "\n",
    "                trg_ys = self.dis(_trg_emb)\n",
    "                dis_loss += F.softmax_cross_entropy(trg_ys, chainer.Variable(np.zeros(self.batchsize, dtype=np.int32)))\n",
    "\n",
    "                # update for generator\n",
    "                self.gen.zerograds()\n",
    "                gen_loss.backward()\n",
    "                self.gen_opt.update()\n",
    "\n",
    "                # update for discriminator\n",
    "                self.dis.zerograds()\n",
    "                dis_loss.backward()\n",
    "                self.dis_opt.update()\n",
    "\n",
    "                sum_gen_loss += gen_loss.data\n",
    "                sum_dis_loss += dis_loss.data\n",
    "\n",
    "            self.logger.info('    generator loss: {}'.format(sum_gen_loss))\n",
    "            self.logger.info('discriminator loss: {}'.format(sum_dis_loss))"
   ]
  },
  {
   "cell_type": "code",
   "execution_count": null,
   "metadata": {
    "collapsed": true
   },
   "outputs": [],
   "source": [
    "import numpy as np\n",
    "\n",
    "\n",
    "np.random.seed(46)\n",
    "\n",
    "# generating synthetic data with random projection\n",
    "def gen_synthetic_data(d, prj_d, n):\n",
    "    z = np.random.normal(loc=0., scale=1.0, size=(n, d))\n",
    "    r_x = np.random.uniform(-1, 1, size=(d, prj_d))\n",
    "    r_y = np.random.uniform(-1, 1, size=(d, prj_d))\n",
    "    x = z.dot(r_x) + np.random.randn(n, prj_d)  # true_x + gaussian noise\n",
    "    y = z.dot(r_y) + np.random.randn(n, prj_d)\n",
    "    return x.astype(np.float32), y.astype(np.float32)"
   ]
  },
  {
   "cell_type": "code",
   "execution_count": 3,
   "metadata": {
    "collapsed": false
   },
   "outputs": [],
   "source": [
    "import argparse\n",
    "from chainer import optimizers\n",
    "from datetime import datetime\n",
    "from gensim.models.keyedvectors import KeyedVectors\n",
    "import numpy as np\n",
    "import logging\n",
    "import os\n",
    "from sklearn.model_selection import train_test_split\n",
    "\n",
    "from net import Generator, Discriminator\n",
    "from trainer import GANTrainer\n",
    "from utils import gen_synthetic_data\n",
    "\n",
    "\n",
    "np.random.seed(46)\n",
    "DIM = 3000\n",
    "DIM_EMB = 300\n",
    "NUM = 10000\n",
    "DEFAULT_LOG_DIR = os.path.join(os.path.abspath(os.path.dirname('deeplog')),\n",
    "                               '{}'.format(datetime.now().strftime('%Y%m%d_%H:%M')))\n",
    "\n",
    "\n",
    "def train(args):\n",
    "    # setting for logging\n",
    "    if not os.path.exists(args.log):\n",
    "        os.mkdir(args.log)\n",
    "    logger = logging.getLogger()\n",
    "    logging.basicConfig(level=logging.INFO)\n",
    "    log_path = os.path.join(args.log, 'log')\n",
    "    file_handler = logging.FileHandler(log_path)\n",
    "    fmt = logging.Formatter('%(asctime)s %(levelname)s %(message)s')\n",
    "    file_handler.setFormatter(fmt)\n",
    "    logger.addHandler(file_handler)\n",
    "\n",
    "    logger.info('Arguments...')\n",
    "    for arg, val in vars(args).items():\n",
    "        logger.info('{:>10} -----> {}'.format(arg, val))\n",
    "\n",
    "    x, y = gen_synthetic_data(DIM, DIM_EMB, NUM)\n",
    "    train_x, test_x, train_y, test_y = train_test_split(x, y, test_size=0.2)\n",
    "    valid_x, test_x, valid_y, test_y = train_test_split(test_x, test_y, test_size=0.5)\n",
    "\n",
    "    gen = Generator(DIM_EMB)\n",
    "    dis = Discriminator(DIM_EMB)\n",
    "\n",
    "    gen_opt = optimizers.Adam()\n",
    "    dis_opt = optimizers.Adam()\n",
    "\n",
    "    gen_opt.setup(gen)\n",
    "    dis_opt.setup(dis)\n",
    "\n",
    "    trainer = GANTrainer((gen, dis), (gen_opt, dis_opt), logger, (valid_x, valid_y), args.epoch)\n",
    "    trainer.fit(train_x, train_y)\n",
    "\n",
    "\n"
   ]
  },
  {
   "cell_type": "code",
   "execution_count": 8,
   "metadata": {
    "collapsed": false
   },
   "outputs": [
    {
     "data": {
      "text/plain": [
       "_StoreAction(option_strings=['--log'], dest='log', nargs=None, const=None, default='/home/dz/code/Python/deeplearn/hw3/20171118_14:16', type=<class 'str'>, choices=None, help='log dir', metavar=None)"
      ]
     },
     "execution_count": 8,
     "metadata": {},
     "output_type": "execute_result"
    }
   ],
   "source": [
    "p = argparse.ArgumentParser(\"Adversarial object matching with synthetic data\")\n",
    "p.add_argument('--src', type=str, help='embedding file of source language')\n",
    "p.add_argument('--trg', type=str, help='embedding file of target language')\n",
    "p.add_argument('--epoch', type=int, default=100, help='number of epoch')\n",
    "p.add_argument('--batchsize', type=int, default=32, help='minibatch size')\n",
    "p.add_argument('--log', type=str, default=DEFAULT_LOG_DIR, help='log dir')\n",
    "\n",
    "#train(p.parse_args())"
   ]
  },
  {
   "cell_type": "code",
   "execution_count": null,
   "metadata": {
    "collapsed": true
   },
   "outputs": [],
   "source": [
    "x, y = gen_synthetic_data(DIM, DIM_EMB, NUM)"
   ]
  },
  {
   "cell_type": "code",
   "execution_count": null,
   "metadata": {
    "collapsed": false
   },
   "outputs": [],
   "source": [
    "x.shape, y.shape"
   ]
  },
  {
   "cell_type": "code",
   "execution_count": 7,
   "metadata": {
    "collapsed": false
   },
   "outputs": [
    {
     "data": {
      "text/plain": [
       "ArgumentParser(prog='Adversarial object matching with synthetic data', usage=None, description=None, formatter_class=<class 'argparse.HelpFormatter'>, conflict_handler='error', add_help=True)"
      ]
     },
     "execution_count": 7,
     "metadata": {},
     "output_type": "execute_result"
    }
   ],
   "source": [
    "p"
   ]
  },
  {
   "cell_type": "code",
   "execution_count": 9,
   "metadata": {
    "collapsed": false
   },
   "outputs": [
    {
     "name": "stderr",
     "output_type": "stream",
     "text": [
      "usage: Adversarial object matching with synthetic data [-h] [--epoch EPOCH]\n",
      "                                                       [--batchsize BATCHSIZE]\n",
      "                                                       [--log LOG]\n",
      "                                                       data.csv trg.csv\n",
      "Adversarial object matching with synthetic data: error: the following arguments are required: trg.csv\n"
     ]
    },
    {
     "ename": "SystemExit",
     "evalue": "2",
     "output_type": "error",
     "traceback": [
      "An exception has occurred, use %tb to see the full traceback.\n",
      "\u001b[0;31mSystemExit\u001b[0m\u001b[0;31m:\u001b[0m 2\n"
     ]
    },
    {
     "name": "stderr",
     "output_type": "stream",
     "text": [
      "/home/dz/anaconda3/lib/python3.6/site-packages/IPython/core/interactiveshell.py:2889: UserWarning: To exit: use 'exit', 'quit', or Ctrl-D.\n",
      "  warn(\"To exit: use 'exit', 'quit', or Ctrl-D.\", stacklevel=1)\n"
     ]
    }
   ],
   "source": [
    "train(p.parse_args())"
   ]
  },
  {
   "cell_type": "code",
   "execution_count": 13,
   "metadata": {
    "collapsed": false
   },
   "outputs": [
    {
     "name": "stderr",
     "output_type": "stream",
     "text": [
      "usage: Adversarial object matching with synthetic data [-h] [--epoch EPOCH]\n",
      "                                                       [--batchsize BATCHSIZE]\n",
      "                                                       [--log LOG]\n",
      "                                                       data.csv trg.csv\n",
      "Adversarial object matching with synthetic data: error: the following arguments are required: trg.csv\n"
     ]
    },
    {
     "ename": "SystemExit",
     "evalue": "2",
     "output_type": "error",
     "traceback": [
      "An exception has occurred, use %tb to see the full traceback.\n",
      "\u001b[0;31mSystemExit\u001b[0m\u001b[0;31m:\u001b[0m 2\n"
     ]
    },
    {
     "name": "stderr",
     "output_type": "stream",
     "text": [
      "/home/dz/anaconda3/lib/python3.6/site-packages/IPython/core/interactiveshell.py:2889: UserWarning: To exit: use 'exit', 'quit', or Ctrl-D.\n",
      "  warn(\"To exit: use 'exit', 'quit', or Ctrl-D.\", stacklevel=1)\n"
     ]
    }
   ],
   "source": [
    "p.parse_args()"
   ]
  },
  {
   "cell_type": "code",
   "execution_count": null,
   "metadata": {
    "collapsed": true
   },
   "outputs": [],
   "source": []
  }
 ],
 "metadata": {
  "kernelspec": {
   "display_name": "Python 3",
   "language": "python",
   "name": "python3"
  },
  "language_info": {
   "codemirror_mode": {
    "name": "ipython",
    "version": 3
   },
   "file_extension": ".py",
   "mimetype": "text/x-python",
   "name": "python",
   "nbconvert_exporter": "python",
   "pygments_lexer": "ipython3",
   "version": "3.6.0"
  }
 },
 "nbformat": 4,
 "nbformat_minor": 2
}
