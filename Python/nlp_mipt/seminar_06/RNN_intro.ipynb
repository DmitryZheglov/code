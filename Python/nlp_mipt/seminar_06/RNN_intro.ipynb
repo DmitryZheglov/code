{
 "cells": [
  {
   "cell_type": "code",
   "execution_count": 1,
   "metadata": {},
   "outputs": [
    {
     "name": "stderr",
     "output_type": "stream",
     "text": [
      "/home/dzheglov/anaconda3/lib/python3.6/site-packages/h5py/__init__.py:36: FutureWarning: Conversion of the second argument of issubdtype from `float` to `np.floating` is deprecated. In future, it will be treated as `np.float64 == np.dtype(float).type`.\n",
      "  from ._conv import register_converters as _register_converters\n"
     ]
    }
   ],
   "source": [
    "import numpy as np\n",
    "import pandas as pd\n",
    "import tensorflow as tf\n",
    "import os"
   ]
  },
  {
   "cell_type": "code",
   "execution_count": 2,
   "metadata": {},
   "outputs": [
    {
     "data": {
      "text/plain": [
       "'1.5.0'"
      ]
     },
     "execution_count": 2,
     "metadata": {},
     "output_type": "execute_result"
    }
   ],
   "source": [
    "tf.__version__"
   ]
  },
  {
   "cell_type": "code",
   "execution_count": 3,
   "metadata": {},
   "outputs": [
    {
     "data": {
      "text/plain": [
       "''"
      ]
     },
     "execution_count": 3,
     "metadata": {},
     "output_type": "execute_result"
    }
   ],
   "source": [
    "tf.test.gpu_device_name()"
   ]
  },
  {
   "cell_type": "code",
   "execution_count": 4,
   "metadata": {},
   "outputs": [],
   "source": [
    "# for the sake of reproducibility \n",
    "\n",
    "def reset_graph(seed=42):\n",
    "    tf.reset_default_graph()\n",
    "    tf.set_random_seed(seed)\n",
    "    np.random.seed(seed)"
   ]
  },
  {
   "cell_type": "markdown",
   "metadata": {},
   "source": [
    "# Outline\n",
    "\n",
    "* [RNN recap](#RNN-recap)\n",
    "    - [Task1](#Task1)\n",
    "    - [Dynamic RNN](#Dynamic-RNN)\n",
    "* [Generate names with RNN](#Name-generation)\n",
    "    - [Task2](#Task2)\n",
    "* [SRU implementation](#SRU-implementation)\n",
    "    - [Task3](#Task3)\n",
    "* [Bonus part](#Bonus-part)\n",
    "* [How to evaluate the work](#How-to-evaluate-the-work)"
   ]
  },
  {
   "cell_type": "markdown",
   "metadata": {},
   "source": [
    "# RNN recap\n",
    "\n",
    "<img src=\"./pics/rnn.png\" width=\"90%\">\n",
    "\n",
    "Simplest RNN consisting of 1 layer receives $x_{(t)}$ and could be written as:\n",
    "\n",
    "$$y_{(t)} = \\phi (x_{(t)}^T \\cdot w_x + y_{(t-1)}^T \\cdot w_y + b)$$\n",
    "\n",
    "where \n",
    "* $x(t)$ -- input vector at time step _t_ \n",
    "* $y(t)$ -- output vector at time step _t_\n",
    "* $w_x$ -- weights vector for input \n",
    "* $w_y$ -- weights vector for output\n",
    "* $y(t-1)$ -- output vector at previous time step; for 0th step it's zero vector\n",
    "* $b$ -- bias\n",
    "* $\\phi$ -- some activation function, i.e. ReLU\n",
    "\n",
    "\n",
    "Also we should mention **hidden_state** ( $h(t)$ ) -- it's a recurrent cell memory.\n",
    "\n",
    "In general case $h_{(t)} = f(h_{(t-1)}, x_{(t)})$, but also $y{(t)} = f(h{(t-1)}, x{(t)})$. So in this case $h(t) == y(t)$, but in practice more complex architectures are used, where **hidden_state** is not equal to the RNN output."
   ]
  },
  {
   "cell_type": "markdown",
   "metadata": {},
   "source": [
    "------\n",
    "\n",
    "## Lets write simple RNN\n",
    "To write RNN we need to make few improvements to the formula.\n",
    "\n",
    "Lets say that we have not only one vector $x_{(t)}$ as input, but a few vectors in mini-batch $X_{(t)}$ of size $m$ . So all consequent computaions will be in a matrix form.\n",
    "\n",
    "$$ Y_{(t)} = \\phi(X_{(t)} \\cdot W_x + Y_{(t-1)} \\cdot W_y + b) = \\phi([X_{(t)} Y_{(t-1)}] \\cdot W + b) $$\n",
    "where\n",
    "$$ W = [W_x W_y]^T $$\n",
    "\n",
    "*It's a matrix concatination in square brackets\n",
    "\n",
    "Dimentions:\n",
    "* $Y_{(t)}$ -- matrix [$m$ x n_neurons]\n",
    "* $X_{(t)}$ -- matrix [$m$ x n_features]\n",
    "* $b$ -- vector of size `n_neurons`\n",
    "* $W_x$ -- input weights of size [n_features x n_neurons]\n",
    "* $W_y$ -- output weights of size [n_neurons x n_neurons]"
   ]
  },
  {
   "cell_type": "code",
   "execution_count": 5,
   "metadata": {},
   "outputs": [],
   "source": [
    "reset_graph() # just clear default graph and set seed for reproducibility\n",
    "\n",
    "n_features = 3\n",
    "n_neurons = 5\n",
    "\n",
    "# two time steps\n",
    "# the first dimension in shape parameter is None\n",
    "# because of possibility to feed any sized batch\n",
    "\n",
    "X0 = tf.placeholder(tf.float32, shape=[None, n_features])\n",
    "X1 = tf.placeholder(tf.float32, shape=[None, n_features])\n",
    "\n",
    "Wx = tf.Variable(tf.random_normal(shape=[n_features, n_neurons], dtype=tf.float32))\n",
    "Wy = tf.Variable(tf.random_normal(shape=[n_neurons, n_neurons], dtype=tf.float32))\n",
    "b = tf.Variable(tf.zeros([1, n_neurons], dtype=tf.float32))\n",
    "\n",
    "# tanh as phi\n",
    "Y0 = tf.tanh(tf.matmul(X0, Wx) + b)\n",
    "Y1 = tf.tanh(tf.matmul(Y0, Wy) + tf.matmul(X1, Wx) + b)\n",
    "\n",
    "init = tf.global_variables_initializer()"
   ]
  },
  {
   "cell_type": "code",
   "execution_count": 6,
   "metadata": {},
   "outputs": [],
   "source": [
    "# mini-batches of size 4\n",
    "X0_batch = np.array([[0, 1, 2], [3, 4, 5], [6, 7, 8], [9, 0, 1]])  # time step 0 of mini-batch\n",
    "X1_batch = np.array([[9, 8, 7], [0, 0, 0], [6, 5, 4], [3, 2, 1]])  # time step 2 mini-batch\n",
    "\n",
    "\n",
    "with tf.Session() as sess:\n",
    "    init.run()\n",
    "    Y0_val, Y1_val = sess.run([Y0, Y1], feed_dict={X0: X0_batch, X1: X1_batch})"
   ]
  },
  {
   "cell_type": "code",
   "execution_count": 7,
   "metadata": {},
   "outputs": [
    {
     "data": {
      "text/plain": [
       "array([[-0.0664006 ,  0.9625767 ,  0.68105793,  0.7091854 , -0.898216  ],\n",
       "       [ 0.9977755 , -0.719789  , -0.9965761 ,  0.9673924 , -0.9998972 ],\n",
       "       [ 0.99999774, -0.99898803, -0.9999989 ,  0.9967762 , -0.9999999 ],\n",
       "       [ 1.        , -1.        , -1.        , -0.99818915,  0.9995087 ]],\n",
       "      dtype=float32)"
      ]
     },
     "execution_count": 7,
     "metadata": {},
     "output_type": "execute_result"
    }
   ],
   "source": [
    "Y0_val"
   ]
  },
  {
   "cell_type": "code",
   "execution_count": 8,
   "metadata": {},
   "outputs": [
    {
     "data": {
      "text/plain": [
       "array([[ 1.        , -1.        , -1.        ,  0.4020025 , -0.9999998 ],\n",
       "       [-0.12210421,  0.6280527 ,  0.9671843 , -0.9937122 , -0.25839362],\n",
       "       [ 0.9999983 , -0.9999994 , -0.9999975 , -0.8594331 , -0.9999881 ],\n",
       "       [ 0.99928284, -0.99999815, -0.9999058 ,  0.9857963 , -0.92205757]],\n",
       "      dtype=float32)"
      ]
     },
     "execution_count": 8,
     "metadata": {},
     "output_type": "execute_result"
    }
   ],
   "source": [
    "Y1_val"
   ]
  },
  {
   "cell_type": "markdown",
   "metadata": {},
   "source": [
    "## Task1\n",
    "\n",
    "Make the same computation using only one matrix multiplication per one step."
   ]
  },
  {
   "cell_type": "code",
   "execution_count": 9,
   "metadata": {},
   "outputs": [],
   "source": [
    "reset_graph() # just clear default graph and set seed for reproducibility\n",
    "\n",
    "X0 = tf.placeholder(tf.float32, [None, n_features])\n",
    "X1 = tf.placeholder(tf.float32, [None, n_features])\n",
    "\n",
    "#< your code here >\n",
    "W = tf.Variable(tf.random_normal(shape=[n_features + n_neurons, n_neurons], dtype=tf.float32))\n",
    "b = tf.Variable(tf.zeros([1, n_neurons], dtype=tf.float32))\n",
    "\n",
    "Y0 = tf.tanh(tf.matmul(tf.concat([X0, tf.fill(tf.stack([tf.shape(X0)[0], n_neurons]), 0.0)], axis = -1), W) + b)\n",
    "Y1 = tf.tanh(tf.matmul(tf.concat([X1, Y0], axis = -1), W) + b)\n",
    "init = tf.global_variables_initializer()\n",
    "#second way\n",
    "#Wx = tf.Variable(tf.random_normal(shape=[n_features, n_neurons], dtype=tf.float32))\n",
    "#Wy = tf.Variable(tf.random_normal(shape=[n_neurons, n_neurons], dtype=tf.float32))\n",
    "#Y0 = tf.tanh(tf.matmul(X0, Wx) + b)\n",
    "#Y1 = tf.tanh(tf.matmul(tf.concat([X1, Y0], 1), tf.concat([Wx, Wy], 0)) + b)\n",
    "\n",
    "\n",
    "with tf.Session() as sess:\n",
    "    init.run()\n",
    "    Y0_val_1, Y1_val_1 = sess.run([Y0, Y1], feed_dict={X0: X0_batch, X1: X1_batch})"
   ]
  },
  {
   "cell_type": "markdown",
   "metadata": {},
   "source": [
    "# Dynamic RNN\n",
    "\n",
    "In TensorFlow there is a function `tf.contrib.rnn.static_rnn` which create for each time step (unrolling) specific cell of desired type. Our implementation follows `tf.nn.rnn_cell.BasicRNNCell`. This implementation has such a drawback - we could need a lot of memory for long sequences. And because we want to work with such sequences we need to allocate a lot of memory at once. But in TF there is another option -- `dynamic_rnn`, where memory is allocated dynamically for each provided sequence, acording to its length.\n",
    "\n",
    "Lets rewrite the code with `dynamic_rnn`."
   ]
  },
  {
   "cell_type": "markdown",
   "metadata": {},
   "source": [
    "As always in tensorflow the first step is writing a recipe."
   ]
  },
  {
   "cell_type": "code",
   "execution_count": 10,
   "metadata": {},
   "outputs": [],
   "source": [
    "n_steps = 2\n",
    "n_features = 3\n",
    "n_neurons = 5\n",
    "\n",
    "reset_graph() # just clear default graph and set seed for reproducibility\n",
    "\n",
    "# adding new parts to the default graph\n",
    "X = tf.placeholder(tf.float32, [None, n_steps, n_features])\n",
    "\n",
    "# we have created the same cell in the Task1;\n",
    "basic_cell = tf.nn.rnn_cell.BasicRNNCell(num_units=n_neurons)"
   ]
  },
  {
   "cell_type": "code",
   "execution_count": 11,
   "metadata": {},
   "outputs": [],
   "source": [
    "seq_length = tf.placeholder(tf.int32, [None]) # create placeholder to feed in real values;\n",
    "\n",
    "# create dynamic_rnn and connect all existing graph components to it (i.e basic_cell, X, seq_length);\n",
    "outputs, states = tf.nn.dynamic_rnn(basic_cell, X, dtype=tf.float32,\n",
    "                                    sequence_length=seq_length)"
   ]
  },
  {
   "cell_type": "markdown",
   "metadata": {},
   "source": [
    "Now create matrices with real values in numpy.\n",
    "\n",
    "Notice that now `X_batch` have shape = `[None, n_steps, n_features]` that is not the same as in `Task1`.\n",
    "\n",
    "That's because of putting all time steps of batch instances in a single matrix `X_batch` (in the `Task1` we used two separated matrices `X0` and `X1` to feed values in each time stamp)."
   ]
  },
  {
   "cell_type": "code",
   "execution_count": 12,
   "metadata": {},
   "outputs": [],
   "source": [
    "X_batch = np.array([\n",
    "        # step 0     step 1\n",
    "        [[0, 1, 2], [9, 8, 7]], # instance 1\n",
    "        [[3, 4, 5], [0, 0, 0]], # instance 2 (padded with zero vectors)\n",
    "        [[6, 7, 8], [6, 5, 4]], # instance 3\n",
    "        [[9, 0, 1], [3, 2, 1]], # instance 4\n",
    "    ])\n",
    "\n",
    "# sequence lengths\n",
    "seq_length_batch = np.array([2, 1, 2, 2]) # note the length of second instance is 1"
   ]
  },
  {
   "cell_type": "markdown",
   "metadata": {},
   "source": [
    "Feed these real values into created network to get outputs and states values."
   ]
  },
  {
   "cell_type": "code",
   "execution_count": 13,
   "metadata": {},
   "outputs": [],
   "source": [
    "# create new session context manager;\n",
    "# session will be closed as soon as this cell finish running\n",
    "with tf.Session() as sess:\n",
    "    tf.global_variables_initializer().run() # initialize all variables\n",
    "    \n",
    "    # run session and feed input values into the network, get outputs and states values\n",
    "    outputs_val, states_val = sess.run(\n",
    "        [outputs, states], feed_dict={X: X_batch, seq_length: seq_length_batch})"
   ]
  },
  {
   "cell_type": "markdown",
   "metadata": {},
   "source": [
    "The shape of `outputs_val` is `[batch_size, time_steps, n_neurons]` as it returns all outputs for each time step for each instance.\n",
    "\n",
    "The shape of `states_val` is `[batch_size, n_neurons]` as it returns only last state for each instance of batch.\n",
    "\n",
    "__For the BasicRNNCell outputs and states are the same.__"
   ]
  },
  {
   "cell_type": "code",
   "execution_count": 14,
   "metadata": {},
   "outputs": [
    {
     "name": "stdout",
     "output_type": "stream",
     "text": [
      "(4, 2, 5)\n",
      "(4, 5)\n"
     ]
    }
   ],
   "source": [
    "print(outputs_val.shape)\n",
    "print(states_val.shape)"
   ]
  },
  {
   "cell_type": "code",
   "execution_count": 15,
   "metadata": {},
   "outputs": [
    {
     "name": "stdout",
     "output_type": "stream",
     "text": [
      "[[[ 0.65519077 -0.38949275 -0.6105231   0.5927638  -0.48083815]\n",
      "  [ 0.9999941   0.99594396  0.4582593   0.9991697   0.8991136 ]]\n",
      "\n",
      " [[ 0.9978262   0.44117272 -0.5916074   0.9749958  -0.35678416]\n",
      "  [ 0.          0.          0.          0.          0.        ]]\n",
      "\n",
      " [[ 0.9999887   0.87606186 -0.5720173   0.99874693 -0.21872665]\n",
      "  [ 0.9995612   0.9808731   0.8890911   0.9768431   0.5203418 ]]\n",
      "\n",
      " [[ 0.9990465   0.92710733  0.23267001  0.9804318   0.99994713]\n",
      "  [ 0.9791339   0.719474    0.93568635  0.63649696 -0.17854698]]]\n"
     ]
    }
   ],
   "source": [
    "# for the second sample there are zeros in output \n",
    "print(outputs_val)"
   ]
  },
  {
   "cell_type": "code",
   "execution_count": 16,
   "metadata": {},
   "outputs": [
    {
     "name": "stdout",
     "output_type": "stream",
     "text": [
      "[[ 0.9999941   0.99594396  0.4582593   0.9991697   0.8991136 ]\n",
      " [ 0.9978262   0.44117272 -0.5916074   0.9749958  -0.35678416]\n",
      " [ 0.9995612   0.9808731   0.8890911   0.9768431   0.5203418 ]\n",
      " [ 0.9791339   0.719474    0.93568635  0.63649696 -0.17854698]]\n"
     ]
    }
   ],
   "source": [
    "# but in state there are not\n",
    "print(states_val)"
   ]
  },
  {
   "cell_type": "markdown",
   "metadata": {},
   "source": [
    "If we feed `sequence_length` parameter into the `dynamic_rnn` we make `dynamic_rnn` to stop calculating states after actual sequence is ended. If we don't provide `sequence_length` parameter the calculating of states will continue and useful information about sequence could be lost if the padding is long enough. "
   ]
  },
  {
   "cell_type": "markdown",
   "metadata": {},
   "source": [
    "# Name generation\n",
    "\n",
    "Lets try to do something useful with our RNNs.\n",
    "\n",
    "_Teaser:_\n",
    "\n",
    "* It is hard to choose a name for a variable. But its much harder to choose a name for a person.\n",
    "  So lets make neural net to do it instead!\n",
    "* Dataset consists of 8 thousand people names from different cultures all around the world.\n",
    "* Our toy task is training a model for name generation."
   ]
  },
  {
   "cell_type": "code",
   "execution_count": 17,
   "metadata": {},
   "outputs": [],
   "source": [
    "start_token = \" \"\n",
    "\n",
    "with open(\"names\") as f:\n",
    "    names = f.readlines()\n",
    "    names = [start_token + name.lower() for name in names]"
   ]
  },
  {
   "cell_type": "code",
   "execution_count": 18,
   "metadata": {},
   "outputs": [
    {
     "name": "stdout",
     "output_type": "stream",
     "text": [
      "n samples =  7944\n",
      "Abagael\n",
      "Claresta\n",
      "Glory\n",
      "Liliane\n",
      "Prissie\n",
      "Geeta\n",
      "Giovanne\n",
      "Piggy\n"
     ]
    }
   ],
   "source": [
    "print('n samples = ', len(names))\n",
    "for x in names[::1000]:\n",
    "    print(x.strip().capitalize())"
   ]
  },
  {
   "cell_type": "markdown",
   "metadata": {},
   "source": [
    "### Text processing\n",
    "\n",
    "Lets take all the latters disregarding a case + symbol ')' for the end of a name"
   ]
  },
  {
   "cell_type": "code",
   "execution_count": 19,
   "metadata": {},
   "outputs": [
    {
     "name": "stdout",
     "output_type": "stream",
     "text": [
      "n_tokens =  31\n"
     ]
    }
   ],
   "source": [
    "token_set = set()\n",
    "for name in names:\n",
    "    for letter in name:\n",
    "        token_set.add(letter)\n",
    "\n",
    "\n",
    "token_set.add(')')\n",
    "tokens = list(token_set)\n",
    "tokens.sort()\n",
    "\n",
    "print('n_tokens = ', len(tokens))"
   ]
  },
  {
   "cell_type": "code",
   "execution_count": 20,
   "metadata": {},
   "outputs": [],
   "source": [
    "token_to_id = {t: i for i, t in enumerate(tokens)}\n",
    "\n",
    "id_to_token = {i: t for i, t in enumerate(tokens)}"
   ]
  },
  {
   "cell_type": "markdown",
   "metadata": {},
   "source": [
    "### Name length distribution"
   ]
  },
  {
   "cell_type": "code",
   "execution_count": 21,
   "metadata": {},
   "outputs": [
    {
     "name": "stdout",
     "output_type": "stream",
     "text": [
      "16\n"
     ]
    },
    {
     "data": {
      "image/png": "[encoded data removed]",
      "text/plain": [
       "<matplotlib.figure.Figure at 0x7f6d20050588>"
      ]
     },
     "metadata": {},
     "output_type": "display_data"
    }
   ],
   "source": [
    "import matplotlib.pyplot as plt\n",
    "%matplotlib inline\n",
    "plt.hist(list(map(len, names)))\n",
    "\n",
    "# max length of a name in this dataset\n",
    "MAX_LEN = min([60, max(list(map(len, names)))])-1\n",
    "\n",
    "print(MAX_LEN)"
   ]
  },
  {
   "cell_type": "markdown",
   "metadata": {},
   "source": [
    "### Convert symbols to their ids"
   ]
  },
  {
   "cell_type": "code",
   "execution_count": 22,
   "metadata": {},
   "outputs": [],
   "source": [
    "names_ix = list(map(lambda name: list(map(token_to_id.get, name + ')')), names))\n",
    "\n",
    "\n",
    "for i in range(len(names_ix)):\n",
    "    names_ix[i] = names_ix[i][:MAX_LEN+1] #crop too long\n",
    "    \n",
    "    if len(names_ix[i]) < MAX_LEN+1:\n",
    "        names_ix[i] += [token_to_id[\" \"]]*(MAX_LEN+1 - len(names_ix[i])) #pad too short\n",
    "        \n",
    "assert len(set(map(len, names_ix))) == 1\n",
    "\n",
    "names_ix = np.array(names_ix)"
   ]
  },
  {
   "cell_type": "code",
   "execution_count": 23,
   "metadata": {},
   "outputs": [
    {
     "data": {
      "text/plain": [
       "array([[ 1,  5,  6,  5, 11,  5,  9, 16,  0,  3,  1,  1,  1,  1,  1,  1,\n",
       "         1],\n",
       "       [ 1,  5,  6,  5, 11,  5, 13, 16,  0,  3,  1,  1,  1,  1,  1,  1,\n",
       "         1],\n",
       "       [ 1,  5,  6,  6,  9,  0,  3,  1,  1,  1,  1,  1,  1,  1,  1,  1,\n",
       "         1],\n",
       "       [ 1,  5,  6,  6,  9, 29,  0,  3,  1,  1,  1,  1,  1,  1,  1,  1,\n",
       "         1],\n",
       "       [ 1,  5,  6,  6, 13,  0,  3,  1,  1,  1,  1,  1,  1,  1,  1,  1,\n",
       "         1],\n",
       "       [ 1,  5,  6,  6, 13,  9,  0,  3,  1,  1,  1,  1,  1,  1,  1,  1,\n",
       "         1],\n",
       "       [ 1,  5,  6,  6, 29,  0,  3,  1,  1,  1,  1,  1,  1,  1,  1,  1,\n",
       "         1],\n",
       "       [ 1,  5,  6, 13, 11,  5,  9, 16,  0,  3,  1,  1,  1,  1,  1,  1,\n",
       "         1],\n",
       "       [ 1,  5,  6, 13, 11,  5, 13, 16,  0,  3,  1,  1,  1,  1,  1,  1,\n",
       "         1],\n",
       "       [ 1,  5,  6, 13, 11,  5, 16,  9,  0,  3,  1,  1,  1,  1,  1,  1,\n",
       "         1]])"
      ]
     },
     "execution_count": 23,
     "metadata": {},
     "output_type": "execute_result"
    }
   ],
   "source": [
    "names_ix[:10]"
   ]
  },
  {
   "cell_type": "markdown",
   "metadata": {},
   "source": [
    "### Batch generator"
   ]
  },
  {
   "cell_type": "code",
   "execution_count": 24,
   "metadata": {},
   "outputs": [],
   "source": [
    "def sample_batch(data, batch_size):\n",
    "    \n",
    "    rows = data[np.random.randint(0, len(data), size=batch_size)]\n",
    "    x = rows[:, :-1]\n",
    "    y = rows[:, 1:]\n",
    "    \n",
    "    count = lambda r: np.sum([id_to_token[t] != ' ' for t in r])\n",
    "    lengths = list(map(count, x))\n",
    "    \n",
    "    return x, y, lengths"
   ]
  },
  {
   "cell_type": "code",
   "execution_count": 25,
   "metadata": {},
   "outputs": [
    {
     "data": {
      "text/plain": [
       "(10, 16)"
      ]
     },
     "execution_count": 25,
     "metadata": {},
     "output_type": "execute_result"
    }
   ],
   "source": [
    "x, y, length = sample_batch(names_ix, 10)\n",
    "y.shape"
   ]
  },
  {
   "cell_type": "code",
   "execution_count": 26,
   "metadata": {},
   "outputs": [
    {
     "data": {
      "text/plain": [
       "array([[ 1, 23,  5, 23,  7, 12,  5,  0,  3,  1,  1,  1,  1,  1,  1,  1],\n",
       "       [ 1, 24, 19, 17, 16, 13, 18,  0,  3,  1,  1,  1,  1,  1,  1,  1],\n",
       "       [ 1,  7,  9,  7, 13, 16,  9, 29,  0,  3,  1,  1,  1,  1,  1,  1],\n",
       "       [ 1,  7,  5, 16,  8, 27,  9, 16, 16,  0,  3,  1,  1,  1,  1,  1],\n",
       "       [ 1,  6,  5, 22, 18,  5,  6,  5, 23,  0,  3,  1,  1,  1,  1,  1],\n",
       "       [ 1,  5, 25,  6,  9,  0,  3,  1,  1,  1,  1,  1,  1,  1,  1,  1],\n",
       "       [ 1, 18, 13, 18,  9, 24, 24,  5,  0,  3,  1,  1,  1,  1,  1,  1],\n",
       "       [ 1, 16, 19, 22, 13,  9,  0,  3,  1,  1,  1,  1,  1,  1,  1,  1],\n",
       "       [ 1,  9, 16, 16, 13, 19, 24, 24,  0,  3,  1,  1,  1,  1,  1,  1],\n",
       "       [ 1, 13, 26, 19, 22,  0,  3,  1,  1,  1,  1,  1,  1,  1,  1,  1]])"
      ]
     },
     "execution_count": 26,
     "metadata": {},
     "output_type": "execute_result"
    }
   ],
   "source": [
    "x"
   ]
  },
  {
   "cell_type": "code",
   "execution_count": 27,
   "metadata": {},
   "outputs": [
    {
     "data": {
      "text/plain": [
       "array([[23,  5, 23,  7, 12,  5,  0,  3,  1,  1,  1,  1,  1,  1,  1,  1],\n",
       "       [24, 19, 17, 16, 13, 18,  0,  3,  1,  1,  1,  1,  1,  1,  1,  1],\n",
       "       [ 7,  9,  7, 13, 16,  9, 29,  0,  3,  1,  1,  1,  1,  1,  1,  1],\n",
       "       [ 7,  5, 16,  8, 27,  9, 16, 16,  0,  3,  1,  1,  1,  1,  1,  1],\n",
       "       [ 6,  5, 22, 18,  5,  6,  5, 23,  0,  3,  1,  1,  1,  1,  1,  1],\n",
       "       [ 5, 25,  6,  9,  0,  3,  1,  1,  1,  1,  1,  1,  1,  1,  1,  1],\n",
       "       [18, 13, 18,  9, 24, 24,  5,  0,  3,  1,  1,  1,  1,  1,  1,  1],\n",
       "       [16, 19, 22, 13,  9,  0,  3,  1,  1,  1,  1,  1,  1,  1,  1,  1],\n",
       "       [ 9, 16, 16, 13, 19, 24, 24,  0,  3,  1,  1,  1,  1,  1,  1,  1],\n",
       "       [13, 26, 19, 22,  0,  3,  1,  1,  1,  1,  1,  1,  1,  1,  1,  1]])"
      ]
     },
     "execution_count": 27,
     "metadata": {},
     "output_type": "execute_result"
    }
   ],
   "source": [
    "y"
   ]
  },
  {
   "cell_type": "code",
   "execution_count": 28,
   "metadata": {},
   "outputs": [
    {
     "data": {
      "text/plain": [
       "[8, 8, 9, 10, 10, 6, 9, 7, 9, 6]"
      ]
     },
     "execution_count": 28,
     "metadata": {},
     "output_type": "execute_result"
    }
   ],
   "source": [
    "length"
   ]
  },
  {
   "cell_type": "markdown",
   "metadata": {},
   "source": [
    "## Network architecture and text generation process\n"
   ]
  },
  {
   "cell_type": "markdown",
   "metadata": {},
   "source": [
    "We will implement the class `MyLittleNetwork` which will be used to generate sequences.\n",
    "\n",
    "<img src=\"https://vignette.wikia.nocookie.net/mlp/images/4/48/FANMADE_Rainbow_Dash_flying.png/revision/latest?cb=20121227194529\" width=\"100\" align=\"right\">\n",
    "\n",
    "Implemented class will have two useful properties:\n",
    "* Several instances of the class could live in one default graph thanks to using `tf.variable_scope()`\n",
    "* Each class instance could be created with its own recurrent cell type.\n",
    "\n",
    "These properties are useful for us as we want to compare several cell types by creating several class instances.\n",
    "\n",
    "**Outline of our work**\n",
    "\n",
    "1. **[[Build]](#Building-network-graph)** Creating network graph in `MyLittleNetwork.__init__` method\n",
    "2. **[[Train]](#Train-part)** Creating train procedure in `MyLittleNetwork.train` method\n",
    "3. **[[Infer]](#Sequence-generation)** Creating generation procedure in `MyLittleNetwork.generate_sample` method\n",
    "\n"
   ]
  },
  {
   "cell_type": "markdown",
   "metadata": {},
   "source": [
    "### Building network graph\n",
    "\n",
    "Consider method `__init__`. It takes several parameters that will be further discussed.\n",
    "\n",
    "```python\n",
    "...................................................\n",
    "def __init__(self, scope_name,\n",
    "             embedding_size = 8,\n",
    "             cell_class = tf.contrib.rnn.BasicRNNCell,\n",
    "             cell_params_dict = {'num_units': 60, 'activation':tf.tanh},\n",
    "             vocabulary_size = len(tokens)):\n",
    "...................................................         \n",
    "```\n",
    " \n",
    "Here `scope_name` just used to separate graph variables belonging to this particular instance of class `MyLittleNetwork`. `Tf.variable_scope` just add `scope_name` to the full name of all graph variables. In other words `tf.variable_scope` used for namespaces in Tf.\n",
    "We save `scope_name` parameter into `self.scope_name` to use this part of global default_graph along with a particular class instance.\n",
    "\n",
    "In the snippet below we just creating placeholders for inputs `_X`, targets `_y`, sequence length and learning_rate within `scope_name`. We do that using context manager `with tf.variable_scope`.\n",
    "```python\n",
    "...................................................\n",
    "self.scope_name = scope_name\n",
    "with tf.variable_scope(self.scope_name):\n",
    "    self._X = tf.placeholder(tf.int32, [None, None], name= 'X')\n",
    "    self._y = tf.placeholder(tf.int32, [None, None], name = 'y')\n",
    "    self._lengths = tf.placeholder(tf.int32, [None], name = 'lengths')\n",
    "    self._learning_rate_ph = tf.placeholder(dtype=tf.float32, shape=[], name = 'learning_rate_ph')\n",
    "...................................................\n",
    "```\n",
    "\n",
    "Look at the `_X` placeholder. It says you that it needs int32 input values. And there is no mistake.\n",
    "\n",
    "As input we will feed a sequence of numbers (it's our mapping numbers in dictionary). Actual shape of the `_X` is not defined yet and could be any. But actually it is `(batch_size, max_sequence_length)`.\n",
    "\n",
    "As you may remember from the part about [dynamic_rnn](#Dynamic-RNN) actually we feed into `dynamic_rnn` inputs with the shape `(batch_size, max_sequence_length, n_features)`. But how to get `n_features` dimension of inputs? Actually, we use `tf.embedding_lookup` function to map indices in `_X` to the vectors of embedding matrix. We put these obtained vectors to the `embed` variable.  And `_embedding_mtx` is just a usual `tf.Variable` with shape `(vocab_size, embedding_size)`. \n",
    "\n",
    "After obtaining embedding vectors for input `_X` we feed them into rnn cycle (i.e dynamic_rnn) which returns to us outputs and states (you may remember how it works from the [dynamic_rnn](#Dynamic-RNN) paragraph).   \n",
    "\n",
    "Actually we could use further either `rnn_outputs` or `states` or both to obtain logits. You can try different settings.\n",
    "But the most simple way is just using `rnn_outputs` as it contains information about each time step (and it is more then in `states`). So, use any option to obtain `_pred_logits` (i.e unnormalized scores for each token in the vocabulary).\n",
    "\n",
    "In the last line of the snippet below you have to translate input `_y` to one_hot representation using tf function.\n",
    "```python\n",
    "\n",
    "...................................................\n",
    "self._embedding_mtx = <create matrix of embeddings>\n",
    "embed = < embed the input sequence >\n",
    "\n",
    "self._cell = cell_class(**cell_params_dict)\n",
    "\n",
    "rnn_outputs, states = tf.nn.dynamic_rnn(< choose params >)\n",
    "self._pred_logits = < make logits >\n",
    "labels_one_hot = < create one_hot for targets self._y >\n",
    "...................................................\n",
    "```\n",
    "\n",
    "This is the last part of the architecture implementation.\n",
    "\n",
    "`tf.softmax_cross_entropy_with_logits` measures the probability error in discrete classification tasks in which the classes are mutually exclusive. The function calculate `softmax` under unnormilized logits entirely for efficiency. It returns 1-D Tensor of length `batch_size` of the same type as logits with the softmax cross entropy loss. That means it calculates loss for each instance in the batch separately for all vocabulary using formula: $$- \\Sigma y \\cdot log(\\hat{y})$$\n",
    "\n",
    "Since we have one-hot distribution for $y$ the resulted loss (for each instance in batch) takes into account only the logit value of the corresponding right token. Minimizing this loss leads us to maximizing the similarity between distributions of $y$ and it's estimate $\\hat{y}$.\n",
    "\n",
    "But in fact, loss must be scalar value, not tensor. That's why we apply `tf.reduce_mean` function next.\n",
    "\n",
    "Having loss function it is possible to take `AdamOptimizer` and minimize it (i.e calculate gradients giving a particular input and apply them to change network params). That's it and we will do that in the last line of this snippet. Besides we also define `_pred_probas` which is actually used only to generate sequence on the inference stage and doesn't need at train stage.\n",
    "\n",
    "```python\n",
    "....................................................\n",
    "self._stepwise_cross_entropy = tf.nn.softmax_cross_entropy_with_logits(\n",
    "                                                        labels=labels_one_hot,\n",
    "                                                        logits=self._pred_logits)\n",
    "self._loss = tf.reduce_mean(self._stepwise_cross_entropy, name='loss')\n",
    "\n",
    "self._pred_probas = tf.nn.softmax(self._pred_logits, name='pred_probas')\n",
    "\n",
    "self._train_op = tf.train.AdamOptimizer(self._learning_rate_ph)\n",
    "                                        .minimize(self._loss, name='train_op')\n",
    "...................................................\n",
    "```"
   ]
  },
  {
   "cell_type": "markdown",
   "metadata": {},
   "source": [
    "### Train part\n",
    "\n",
    "To make computations run we need to create new tf.Session or use existing one which hasn't been already closed.\n",
    "In this code snippet new session created but it used without context manager (i.e without `with tf.Session() ...`). It is useful to notice that fact as this session will be also used in the inference stage and we don't want to close it just after train finish.\n",
    "\n",
    "As always we initialize variables in this session in this variable scope. \n",
    "```python\n",
    "...................................................\n",
    "\n",
    "def train(self, n_epochs=10, batches_per_epoch = 500, batch_size = 10, lr = 1e-2):\n",
    "\n",
    "    losses = []\n",
    "    self.sess = tf.Session() \n",
    "    with tf.variable_scope(self.scope_name):\n",
    "        self.sess.run(tf.global_variables_initializer())\n",
    "...................................................\n",
    "```\n",
    "\n",
    "In each epoch for each batch we run `_train_op` and get value of `_loss`.\n",
    "\n",
    "All the loss values collected into `losses` list which is returned at the end of training.\n",
    "\n",
    "See the next paragraph to understand `generate_sample` function.\n",
    "\n",
    "```python\n",
    "...................................................\n",
    "for epoch in range(n_epochs):\n",
    "    print(\">>Generated: \", self.generate_sample(n_snippets=6))\n",
    "    print(\"-------\\n\")\n",
    "    avg_cost = 0\n",
    "    for batch in range(batches_per_epoch):\n",
    "        x_, y_, len_ = sample_batch(names_ix, batch_size)\n",
    "\n",
    "        _, iloss = self.sess.run([self._train_op, self._loss],\n",
    "                                   {self._X: x_,\n",
    "                                    self._y: y_,\n",
    "                                    self._lengths: len_,\n",
    "                                    self._learning_rate_ph: lr})\n",
    "        avg_cost += iloss\n",
    "        losses.append(iloss)\n",
    "\n",
    "    print(\"EPOCH: \", epoch)\n",
    "    print(\"AVERAGE LOSS: \", avg_cost / batches_per_epoch)\n",
    "\n",
    "print(\">>Generated: \", self.generate_sample(n_snippets=6))\n",
    "...................................................\n",
    "```"
   ]
  },
  {
   "cell_type": "markdown",
   "metadata": {},
   "source": [
    "### Sequence generation\n",
    "**Inference stage**\n",
    "\n",
    "<img src=\"http://tommymullaney.com/img/google-hangouts-feature.png\" width=\"400\">\n",
    "\n",
    "**How it works?**\n",
    "\n",
    "* Lets take seed phrase\n",
    "* Feeding it to the network\n",
    "* Predicting next token\n",
    "    * Next token is being sampled from model predicted distribution\n",
    "* Token is added to seed phrase\n",
    "* Repeat (from step 2)\n",
    "\n",
    "\n",
    "**`def generate_sample()`** in the *class `MyLittleNetwork`* actually do that. But it use `numpy` for sampling.\n",
    "So it actually run session to get probability distribution for the last token, then sample with `numpy` from that distribution to get next token. Token then added to the seed phrase and everything starts again from feeding phrase into the network. The picture greatly illustrate the process. Generation ends when the end token {here we use that token `)`} has been sampled or when the max length riched.\n",
    "\n",
    "\n",
    "It could be implemented more effectively using `tf.multinomial` and `tf.while_loop`.\n",
    "You could try to implement this function for generation sequences using tf only. This part of task is challenging and very optional.\n"
   ]
  },
  {
   "cell_type": "markdown",
   "metadata": {},
   "source": [
    "## Task2\n",
    "\n",
    "Add your code where necessary to create network architecture\n"
   ]
  },
  {
   "cell_type": "code",
   "execution_count": 104,
   "metadata": {},
   "outputs": [],
   "source": [
    "reset_graph()\n",
    "\n",
    "class MyLittleNetwork:\n",
    "    def __init__(self, scope_name,\n",
    "                 embedding_size = 8,\n",
    "                 cell_class = tf.contrib.rnn.BasicRNNCell,\n",
    "                 cell_params_dict = {'num_units': 60, 'activation':tf.tanh},\n",
    "                 vocabulary_size = len(tokens), multi = False, n_layers = 3):\n",
    "        \n",
    "        self.scope_name = scope_name\n",
    "        \n",
    "        with tf.variable_scope(self.scope_name):\n",
    "            \n",
    "            #################### PLACE FOR YOUR CODE  BELOW #########################\n",
    "            #X = tf.placeholder(tf.int32, [None, None], name= 'X')\n",
    "            #y = tf.placeholder(tf.int32, [None, None], name = 'y')\n",
    "            #lengths = tf.placeholder(tf.int32, [None], name = 'lengths')\n",
    "            #learning_rate_ph = tf.placeholder(dtype=tf.float32, shape=[])\n",
    "            \n",
    "            \n",
    "            self._X = tf.placeholder(tf.int32, [None, None], name= 'X')\n",
    "            self._y = tf.placeholder(tf.int32, [None, None], name = 'y')\n",
    "            self._lengths = tf.placeholder(tf.int32, [None], name = 'lengths')\n",
    "            self._learning_rate_ph = tf.placeholder(dtype=tf.float32, shape=[], name = 'learning_rate_ph')\n",
    "\n",
    "            self._embedding_mtx = tf.get_variable(name='embeddings', shape=[vocabulary_size, embedding_size])#<create matrix of embeddings>\n",
    "            embed = tf.nn.embedding_lookup(self._embedding_mtx, self._X)#< embed the input sequence >\n",
    "            \n",
    "            if multi == False:\n",
    "                self._cell = cell_class(**cell_params_dict)\n",
    "            else:\n",
    "                layers = [cell_class(**cell_params_dict) for layer in range(n_layers)]\n",
    "                self._cell = tf.contrib.rnn.MultiRNNCell(layers)\n",
    "            rnn_outputs, states = tf.nn.dynamic_rnn(cell=self._cell, inputs=embed,\n",
    "                                        sequence_length=self._lengths, dtype=tf.float32)\n",
    "            self._pred_logits = tf.layers.dense(inputs=rnn_outputs, units=vocabulary_size, name='output_projection')#< make logits >\n",
    "            labels_one_hot = tf.one_hot(self._y, depth=vocabulary_size, dtype=tf.float32)#< create one_hot for targets self._y >\n",
    "            \n",
    "            ##################### END OF YOUR TASK HERE ##############################\n",
    "\n",
    "            self._stepwise_cross_entropy = tf.nn.softmax_cross_entropy_with_logits(\n",
    "                                                                    labels=labels_one_hot,\n",
    "                                                                    logits=self._pred_logits)\n",
    "\n",
    "            self._loss = tf.reduce_mean(self._stepwise_cross_entropy, name='loss')\n",
    "\n",
    "            self._pred_probas = tf.nn.softmax(self._pred_logits, name='pred_probas')\n",
    "\n",
    "            self._train_op = tf.train.AdamOptimizer(self._learning_rate_ph).minimize(self._loss, name='train_op')\n",
    "    \n",
    "    def generate_sample(self, seed_phrase=None, N=MAX_LEN, n_snippets=1):\n",
    "        \"\"\"\n",
    "        If you don't want to reimplement the function with tf\n",
    "                        don't touch it!\n",
    "        \"\"\"\n",
    "        if seed_phrase is None:\n",
    "            seed_phrase = ' '\n",
    "        elif seed_phrase[0].isalpha():\n",
    "            seed_phrase = ' ' + seed_phrase\n",
    "        seed_phrase = seed_phrase.lower()\n",
    "        seed_phrase = np.array([token_to_id[tok] for tok in seed_phrase])\n",
    "        L = len(seed_phrase)\n",
    "        snippets = []\n",
    "        \n",
    "        with tf.variable_scope(self.scope_name):\n",
    "            for _ in range(n_snippets):\n",
    "                x = np.zeros(N)\n",
    "                x[:len(seed_phrase)] = seed_phrase\n",
    "                for n in range(N - L):\n",
    "                    feed_dict = {self._X: x[:L + n].reshape([1, -1]), self._lengths: [len(x)]}\n",
    "                    p = self.sess.run(self._pred_probas[:, -1], feed_dict=feed_dict).reshape(-1)\n",
    "                    ix = np.random.choice(np.arange(len(tokens)), p=p)\n",
    "                    x[L + n] = ix\n",
    "                snippet = ''.join([id_to_token[idx] for idx in x])\n",
    "                if ')' in snippet:\n",
    "                    upto = snippet.index(')')\n",
    "                    snippet = snippet[:upto]\n",
    "                snippets.append(snippet.strip().capitalize())\n",
    "        return snippets\n",
    "    \n",
    "    \n",
    "\n",
    "    def train(self, n_epochs=10, batches_per_epoch = 500, batch_size = 10, lr = 1e-2):\n",
    "\n",
    "        losses = []\n",
    "        self.sess = tf.Session() \n",
    "        with tf.variable_scope(self.scope_name):\n",
    "            self.sess.run(tf.global_variables_initializer())\n",
    "\n",
    "            for epoch in range(n_epochs):\n",
    "                print(\">>Generated: \", self.generate_sample(n_snippets=6))\n",
    "                print(\"-------\\n\")\n",
    "                avg_cost = 0\n",
    "                for batch in range(batches_per_epoch):\n",
    "                    x_, y_, len_ = sample_batch(names_ix, batch_size)\n",
    "\n",
    "                    _, iloss = self.sess.run([self._train_op, self._loss],\n",
    "                                               {self._X: x_,\n",
    "                                                self._y: y_,\n",
    "                                                self._lengths: len_,\n",
    "                                                self._learning_rate_ph: lr})\n",
    "                    avg_cost += iloss\n",
    "                    losses.append(iloss)\n",
    "\n",
    "                print(\"EPOCH: \", epoch)\n",
    "                print(\"AVERAGE LOSS: \", avg_cost / batches_per_epoch)\n",
    "\n",
    "            print(\">>Generated: \", self.generate_sample(n_snippets=6))\n",
    "        return losses"
   ]
  },
  {
   "cell_type": "code",
   "execution_count": 30,
   "metadata": {},
   "outputs": [
    {
     "name": "stdout",
     "output_type": "stream",
     "text": [
      "WARNING:tensorflow:From <ipython-input-29-470f988bde6c>:43: softmax_cross_entropy_with_logits (from tensorflow.python.ops.nn_ops) is deprecated and will be removed in a future version.\n",
      "Instructions for updating:\n",
      "\n",
      "Future major versions of TensorFlow will allow gradients to flow\n",
      "into the labels input on backprop by default.\n",
      "\n",
      "See tf.nn.softmax_cross_entropy_with_logits_v2.\n",
      "\n"
     ]
    }
   ],
   "source": [
    "myBasicNN = MyLittleNetwork(scope_name=\"BasicRNNCell\")"
   ]
  },
  {
   "cell_type": "markdown",
   "metadata": {},
   "source": [
    "### Which params in the network are trainable?\n",
    "\n",
    "Sometimes it is useful to look at trainable network parameters.\n",
    "\n",
    "* **for comparison**\n",
    " - A specially it is useful to compare one recurrent cell type to another.\n",
    "\n",
    "* **for sanity check**\n",
    " - Another reason is just to check is everything ok in your current default graph. Maybe there're redundant components which are unwanted. They may not be included into train procedure but may litter graph visualisation in tensorboard. Or maybe you forget to set `trainable=False` for your embedding matrix with pretrained embeddings."
   ]
  },
  {
   "cell_type": "code",
   "execution_count": 31,
   "metadata": {},
   "outputs": [
    {
     "data": {
      "text/plain": [
       "[<tf.Variable 'BasicRNNCell/embeddings:0' shape=(31, 8) dtype=float32_ref>,\n",
       " <tf.Variable 'BasicRNNCell/rnn/basic_rnn_cell/kernel:0' shape=(68, 60) dtype=float32_ref>,\n",
       " <tf.Variable 'BasicRNNCell/rnn/basic_rnn_cell/bias:0' shape=(60,) dtype=float32_ref>,\n",
       " <tf.Variable 'BasicRNNCell/output_projection/kernel:0' shape=(60, 31) dtype=float32_ref>,\n",
       " <tf.Variable 'BasicRNNCell/output_projection/bias:0' shape=(31,) dtype=float32_ref>]"
      ]
     },
     "execution_count": 31,
     "metadata": {},
     "output_type": "execute_result"
    }
   ],
   "source": [
    "tf.trainable_variables(scope=myBasicNN.scope_name)"
   ]
  },
  {
   "cell_type": "markdown",
   "metadata": {},
   "source": [
    "## Lets train it"
   ]
  },
  {
   "cell_type": "markdown",
   "metadata": {},
   "source": [
    "**now train basic rnn**"
   ]
  },
  {
   "cell_type": "code",
   "execution_count": 32,
   "metadata": {},
   "outputs": [
    {
     "name": "stdout",
     "output_type": "stream",
     "text": [
      ">>Generated:  ['Hyrna- vmr\\nyuca', 'Bdlieo-ehjtbkn', \"Na'yyuf\", \"Pellazsyxnx'b f\", \"Hcugel-u'zub\\nur\", \"Rs'g-vof'ffrowj\"]\n",
      "-------\n",
      "\n",
      "EPOCH:  0\n",
      "AVERAGE LOSS:  1.5381422221660614\n",
      ">>Generated:  ['Fnerdold', 'Fagige', 'Rix', '', 'Jolattow', 'Mordor']\n"
     ]
    }
   ],
   "source": [
    "loss_hist_basic_rnn = myBasicNN.train(n_epochs=1)"
   ]
  },
  {
   "cell_type": "code",
   "execution_count": 33,
   "metadata": {},
   "outputs": [
    {
     "name": "stdout",
     "output_type": "stream",
     "text": [
      ">>Generated:  [\"-\\noi-ylclq'dtj\", 'Li aic vztvdyby', \"Zqzldjm'nzatxyy\", 'Lzsajqdooamtk', \"Gxbobeur'i jo\", 'Hxz sfiqxymgsdm']\n",
      "-------\n",
      "\n",
      "EPOCH:  0\n",
      "AVERAGE LOSS:  1.542054945230484\n",
      ">>Generated:  ['Warni', 'Cawaige', 'Fivvie', 'Efl', 'Clitene', 'Allia']\n",
      "-------\n",
      "\n",
      "EPOCH:  1\n",
      "AVERAGE LOSS:  1.0274563796520233\n",
      ">>Generated:  ['Lowe', 'Gareel', 'Dorwin', 'Vapte', 'Rucheli', 'Marsa']\n",
      "-------\n",
      "\n",
      "EPOCH:  2\n",
      "AVERAGE LOSS:  0.9868200879096984\n",
      ">>Generated:  ['Conzer', 'Jemin', 'Darlense', 'Fehtlanda', 'Fabse', 'Riga']\n",
      "-------\n",
      "\n",
      "EPOCH:  3\n",
      "AVERAGE LOSS:  0.9633935438394546\n",
      ">>Generated:  ['Arlone', 'Dia', 'Flavie', 'Juline', 'Lioric', 'Wavyoni']\n",
      "-------\n",
      "\n",
      "EPOCH:  4\n",
      "AVERAGE LOSS:  0.9579122742414474\n",
      ">>Generated:  ['Elricea', 'Bennit', 'Guxina', 'Gesoy', 'Martie', 'Mynn']\n",
      "CPU times: user 1min 26s, sys: 3.38 s, total: 1min 30s\n",
      "Wall time: 1min 5s\n"
     ]
    }
   ],
   "source": [
    "%time loss_hist_basic_rnn = myBasicNN.train(n_epochs=5)"
   ]
  },
  {
   "cell_type": "code",
   "execution_count": 34,
   "metadata": {},
   "outputs": [
    {
     "name": "stdout",
     "output_type": "stream",
     "text": [
      "CPU times: user 8.79 s, sys: 38.1 ms, total: 8.83 s\n",
      "Wall time: 8.73 s\n"
     ]
    },
    {
     "data": {
      "text/plain": [
       "['Putinan', 'Putirica', 'Putia', 'Putina', 'Puti', 'Putin']"
      ]
     },
     "execution_count": 34,
     "metadata": {},
     "output_type": "execute_result"
    }
   ],
   "source": [
    "%time myBasicNN.generate_sample(seed_phrase='Puti', n_snippets=6)"
   ]
  },
  {
   "cell_type": "code",
   "execution_count": 35,
   "metadata": {},
   "outputs": [
    {
     "data": {
      "text/plain": [
       "['Quein', 'Qganania', 'Quenda', 'Qulennoshi', 'Quistita', 'Quge']"
      ]
     },
     "execution_count": 35,
     "metadata": {},
     "output_type": "execute_result"
    }
   ],
   "source": [
    "myBasicNN.generate_sample(seed_phrase='Q', n_snippets=6)"
   ]
  },
  {
   "cell_type": "code",
   "execution_count": 36,
   "metadata": {},
   "outputs": [
    {
     "data": {
      "text/plain": [
       "['Eugera', 'Eugina', 'Euginia', 'Euggely', 'Eugelina', 'Eugkina']"
      ]
     },
     "execution_count": 36,
     "metadata": {},
     "output_type": "execute_result"
    }
   ],
   "source": [
    "myBasicNN.generate_sample(seed_phrase='Eug', n_snippets=6)"
   ]
  },
  {
   "cell_type": "code",
   "execution_count": 37,
   "metadata": {},
   "outputs": [
    {
     "data": {
      "text/plain": [
       "['Lucky', 'Lurattio', 'Lupobiaa', 'Luchia', 'Luancitat', 'Luela']"
      ]
     },
     "execution_count": 37,
     "metadata": {},
     "output_type": "execute_result"
    }
   ],
   "source": [
    "myBasicNN.generate_sample(seed_phrase='Lu', n_snippets=6)"
   ]
  },
  {
   "cell_type": "markdown",
   "metadata": {},
   "source": [
    "**now lets train LSTM**"
   ]
  },
  {
   "cell_type": "code",
   "execution_count": 38,
   "metadata": {},
   "outputs": [],
   "source": [
    "myBasicLSTM = MyLittleNetwork(scope_name=\"BasicLSTMCell\", cell_class=tf.nn.rnn_cell.BasicLSTMCell)"
   ]
  },
  {
   "cell_type": "markdown",
   "metadata": {},
   "source": [
    "**check trainable params**\n",
    "\n",
    "If you look at shapes you will see that LSTM has more params then BasicRNN"
   ]
  },
  {
   "cell_type": "code",
   "execution_count": 39,
   "metadata": {},
   "outputs": [
    {
     "data": {
      "text/plain": [
       "[<tf.Variable 'BasicLSTMCell/embeddings:0' shape=(31, 8) dtype=float32_ref>,\n",
       " <tf.Variable 'BasicLSTMCell/rnn/basic_lstm_cell/kernel:0' shape=(68, 240) dtype=float32_ref>,\n",
       " <tf.Variable 'BasicLSTMCell/rnn/basic_lstm_cell/bias:0' shape=(240,) dtype=float32_ref>,\n",
       " <tf.Variable 'BasicLSTMCell/output_projection/kernel:0' shape=(60, 31) dtype=float32_ref>,\n",
       " <tf.Variable 'BasicLSTMCell/output_projection/bias:0' shape=(31,) dtype=float32_ref>]"
      ]
     },
     "execution_count": 39,
     "metadata": {},
     "output_type": "execute_result"
    }
   ],
   "source": [
    "tf.trainable_variables(scope=myBasicLSTM.scope_name)"
   ]
  },
  {
   "cell_type": "code",
   "execution_count": 40,
   "metadata": {},
   "outputs": [],
   "source": [
    "#%timeit -n 3 loss_hist_basic_lstm = myBasicLSTM.train(n_epochs=5)"
   ]
  },
  {
   "cell_type": "code",
   "execution_count": 41,
   "metadata": {},
   "outputs": [
    {
     "name": "stdout",
     "output_type": "stream",
     "text": [
      ">>Generated:  ['B', 'Lmoiq', \"Ou\\njslplz k'ag-\", 'Yyfoluo\\nsskwxln', 'Zefaws', 'Ugvad ggtpip ao']\n",
      "-------\n",
      "\n",
      "EPOCH:  0\n",
      "AVERAGE LOSS:  1.5370517129898071\n",
      ">>Generated:  ['Pariline', 'Ratri', 'Gethe', 'Ost', 'Marfin', 'Llin']\n",
      "-------\n",
      "\n",
      "EPOCH:  1\n",
      "AVERAGE LOSS:  0.993781705737114\n",
      ">>Generated:  ['Jesperra', 'Rucke', 'Ciria', 'Chortaucy', 'Bilonge', 'Nerush']\n",
      "-------\n",
      "\n",
      "EPOCH:  2\n",
      "AVERAGE LOSS:  0.9342419192790985\n",
      ">>Generated:  ['Dehetton', 'Csnoni', 'Masino', 'Sherine', 'Ioshob', 'Konkon']\n",
      "-------\n",
      "\n",
      "EPOCH:  3\n",
      "AVERAGE LOSS:  0.8956618424654007\n",
      ">>Generated:  ['Anne-led', 'Chelse', 'Patri', 'Shero', 'Noralie', 'Renell']\n",
      "-------\n",
      "\n",
      "EPOCH:  4\n",
      "AVERAGE LOSS:  0.8837197623252868\n",
      ">>Generated:  ['Geka', 'Sandal', 'Pyly', 'Reinthelda', 'Einmonm', 'Cclayitpe']\n",
      "CPU times: user 3min, sys: 6.02 s, total: 3min 6s\n",
      "Wall time: 2min 21s\n"
     ]
    }
   ],
   "source": [
    "%time loss_hist_basic_lstm = myBasicLSTM.train(n_epochs=5)"
   ]
  },
  {
   "cell_type": "code",
   "execution_count": 42,
   "metadata": {},
   "outputs": [
    {
     "name": "stdout",
     "output_type": "stream",
     "text": [
      "CPU times: user 17.1 s, sys: 34.2 ms, total: 17.1 s\n",
      "Wall time: 16.9 s\n"
     ]
    },
    {
     "data": {
      "text/plain": [
       "['Putina', 'Putia', 'Puti', 'Putiy', 'Puti', 'Putith']"
      ]
     },
     "execution_count": 42,
     "metadata": {},
     "output_type": "execute_result"
    }
   ],
   "source": [
    "%time myBasicLSTM.generate_sample(seed_phrase='Puti', n_snippets=6)"
   ]
  },
  {
   "cell_type": "markdown",
   "metadata": {},
   "source": [
    "# SRU implementation\n",
    "\n",
    "There are a lot of different types of recurrent cells.\n",
    "But the $SRU$ [Simple Recurrent Unit] is one created to address the parallelism issue.\n",
    "\n",
    "It was introduced in a paper [**TRAINING RNNS AS FAST AS CNNS**](https://arxiv.org/abs/1709.02755)."
   ]
  },
  {
   "cell_type": "markdown",
   "metadata": {},
   "source": [
    "** Equations from the article**\n",
    "\n",
    "1. $\\tilde{x_{t}} = Wx_t$\n",
    "2. $f_t = \\sigma(W_f x_t + b_f)$\n",
    "3. $r_t = \\sigma(W_r x_t + b_r)$\n",
    "4. $c_t = f_t \\odot c_{t-1} + (1-f_t) \\odot \\tilde{x_{t}}$\n",
    "5. $h_t = r_t \\odot g(c_t) + (1-r_t) \\odot x_t$\n",
    "\n",
    "$\\odot$ -- means point-wise multiplication\n",
    "\n",
    "__Description__\n",
    "\n",
    "\n",
    "Lets look at the first two steps\n",
    "\n",
    "[1] Given an input $x_t$ at time $t$, we compute a linear\n",
    "transformation $\\tilde{x_{t}}$ ...\n",
    "\n",
    "[2] ... and the forget gate $f_t$\n",
    "\n",
    "This computation depends on $x_t$ only, which _enables computing it in parallel_ across all time steps.\n",
    "The forget gate is used to modulate the internal state $c_t$, which is used to compute the output state $h_t$.\n",
    "\n",
    "In the simplest form of the $SRU$ the equation for $h_t$ looks like this:\n",
    "$$h_t = g(c_t)$$\n",
    "where the $g(\\cdot)$ is an activation function. But the authors decided to use **highway connection** (i.e directly use inputs on the higher layers) and they added reset gate [3] to address this. The reset gate is used to compute the output state $h_t$ [5] as a combination of the internal state $g(c_t)$ and the input $x_t$.\n",
    "\n",
    "**Optional question to check yourself:**\n",
    "\n",
    "*does SRUCell have to be as fast on inference stage as it was on the train stage?*\n",
    "\n",
    "## Task3\n",
    "\n",
    "Implemet SRU cell in TF framework"
   ]
  },
  {
   "cell_type": "code",
   "execution_count": 43,
   "metadata": {},
   "outputs": [],
   "source": [
    "import tensorflow as tf\n",
    "from tensorflow.contrib.rnn import RNNCell\n",
    "from tensorflow.python.ops import variable_scope"
   ]
  },
  {
   "cell_type": "code",
   "execution_count": 44,
   "metadata": {},
   "outputs": [],
   "source": [
    "class SRUCell(RNNCell):\n",
    "    \"\"\"Simple recurrent unit cell.\n",
    "    The implementation of: https://arxiv.org/abs/1709.02755.\n",
    "    \"\"\"\n",
    "\n",
    "    def __init__(self, num_units, activation=tf.nn.tanh, reuse=None):\n",
    "        super(SRUCell, self).__init__(_reuse=reuse)\n",
    "        self._num_units = num_units \n",
    "        self._activation = activation\n",
    "\n",
    "        self.Wr = tf.Variable(self.init_matrix([self._num_units, self._num_units]))\n",
    "        self.br = tf.Variable(self.init_matrix([self._num_units]))\n",
    "\n",
    "        self.Wf = tf.Variable(self.init_matrix([self._num_units, self._num_units]))\n",
    "        self.bf = tf.Variable(self.init_matrix([self._num_units]))\n",
    "\n",
    "        self.W = tf.Variable(self.init_matrix([self._num_units, self._num_units]))\n",
    "        \n",
    "        # this will be True if we call the cell once\n",
    "        self.used = False\n",
    "\n",
    "    @property\n",
    "    def state_size(self):\n",
    "        return self._num_units\n",
    "\n",
    "    @property\n",
    "    def output_size(self):\n",
    "        return self._num_units\n",
    "\n",
    "    def call(self, inputs, state, scope=None):\n",
    "        self.__call__(inputs, state, scope)\n",
    "\n",
    "    def __call__(self, inputs, state, scope=None):\n",
    "        \"\"\"\n",
    "        f - forget gate\n",
    "        r - reset gate\n",
    "        c - final cell\n",
    "        :param inputs:\n",
    "        :param state:\n",
    "        :param scope:\n",
    "        :return: state, cell\n",
    "        \"\"\"\n",
    "\n",
    "        if self.used:\n",
    "            # if self.used then just get projector matrix as it's already exists;\n",
    "            # It is possible to get it in this way because of reuse=True\n",
    "            # As it just gives us existing variable with name='projector'\n",
    "            projected_inputs = tf.layers.dense(inputs, self._num_units, name='projector', reuse=True)\n",
    "        else:\n",
    "            # In case we call the cell for the first time, we create new variable with name='projector';\n",
    "            # Then we use this projector to get inputs with convinient dimensions;\n",
    "            projected_inputs = tf.layers.dense(inputs,  self._num_units, name='projector')\n",
    "            self.used = True\n",
    "            \n",
    "        with variable_scope.variable_scope(scope or type(self).__name__):\n",
    "\n",
    "            # just to clarify\n",
    "            # c_prev = state\n",
    "            \n",
    "            X_hat = tf.matmul(projected_inputs, self.W)\n",
    "            f = tf.sigmoid(tf.matmul(projected_inputs, self.Wf) + self.bf)\n",
    "            r = tf.sigmoid(tf.matmul(projected_inputs, self.Wr) + self.br)\n",
    "            c = f * state + (1 - f) * X_hat\n",
    "            \n",
    "            #<write code to compute f, r, c>\n",
    "\n",
    "            hidden_state = r * self._activation(c) + (1 - r) * projected_inputs#<compute hidden here>\n",
    "\n",
    "            return hidden_state, c\n",
    "\n",
    "    def init_matrix(self, shape):\n",
    "        return tf.random_normal(shape, stddev=0.1)\n"
   ]
  },
  {
   "cell_type": "markdown",
   "metadata": {},
   "source": [
    "## Checking\n",
    "\n",
    "Check your implementation by running **Name generation** with this custom cell.\n",
    "\n",
    "* Train `MyLittleNetwork` with your `SRUCell`. If your implementation is right it should work.\n",
    "* Plot loss history of your model on the one plot with `BasicRNNCell` model and `BasicLSTMCell` model."
   ]
  },
  {
   "cell_type": "code",
   "execution_count": 45,
   "metadata": {},
   "outputs": [],
   "source": [
    "mySRUModel = MyLittleNetwork(scope_name='BasicSRU', cell_class=SRUCell,\n",
    "                             cell_params_dict={'num_units': 120, 'activation':tf.tanh})"
   ]
  },
  {
   "cell_type": "code",
   "execution_count": 46,
   "metadata": {},
   "outputs": [
    {
     "data": {
      "text/plain": [
       "[<tf.Variable 'BasicSRU/embeddings:0' shape=(31, 8) dtype=float32_ref>,\n",
       " <tf.Variable 'BasicSRU/Variable:0' shape=(120, 120) dtype=float32_ref>,\n",
       " <tf.Variable 'BasicSRU/Variable_1:0' shape=(120,) dtype=float32_ref>,\n",
       " <tf.Variable 'BasicSRU/Variable_2:0' shape=(120, 120) dtype=float32_ref>,\n",
       " <tf.Variable 'BasicSRU/Variable_3:0' shape=(120,) dtype=float32_ref>,\n",
       " <tf.Variable 'BasicSRU/Variable_4:0' shape=(120, 120) dtype=float32_ref>,\n",
       " <tf.Variable 'BasicSRU/rnn/projector/kernel:0' shape=(8, 120) dtype=float32_ref>,\n",
       " <tf.Variable 'BasicSRU/rnn/projector/bias:0' shape=(120,) dtype=float32_ref>,\n",
       " <tf.Variable 'BasicSRU/output_projection/kernel:0' shape=(120, 31) dtype=float32_ref>,\n",
       " <tf.Variable 'BasicSRU/output_projection/bias:0' shape=(31,) dtype=float32_ref>]"
      ]
     },
     "execution_count": 46,
     "metadata": {},
     "output_type": "execute_result"
    }
   ],
   "source": [
    "tf.trainable_variables(scope=mySRUModel.scope_name)"
   ]
  },
  {
   "cell_type": "code",
   "execution_count": 47,
   "metadata": {},
   "outputs": [],
   "source": [
    "import timeit"
   ]
  },
  {
   "cell_type": "code",
   "execution_count": 48,
   "metadata": {},
   "outputs": [
    {
     "name": "stdout",
     "output_type": "stream",
     "text": [
      ">>Generated:  ['Uhqeiwyrgu', \"Iipsjbteao'zozf\", \"Z-  j'kffoasmxg\", \"Zmz\\nru ntm'q u\", '-doz', 'Xsik']\n",
      "-------\n",
      "\n",
      "EPOCH:  0\n",
      "AVERAGE LOSS:  1.5094339557886123\n",
      ">>Generated:  ['Holays', 'Poran', 'Lem', 'Jueck', 'Valioz', 'Patyd']\n",
      ">>Generated:  [\"Jjupixs'-'eikv\", 'Ihyc', 'Gdtbc aghhjmaof', \"Rmmqfinhiddq\\n'y\", 'Aiv\\nx a lyuoavs', 'Duwq']\n",
      "-------\n",
      "\n",
      "EPOCH:  0\n",
      "AVERAGE LOSS:  1.5081703861951827\n",
      ">>Generated:  ['Morres', 'Garvoleena', 'Marndorta', 'Wigan', 'Jeronnc', 'Bell']\n",
      ">>Generated:  ['Fhkmj f', 'Yhgzttnkmpgtxmg', \"Qazp'lsd kvcrh\", 'Eexzbizhf', 'Aywn\\nilix pempi', '-kxl']\n",
      "-------\n",
      "\n",
      "EPOCH:  0\n",
      "AVERAGE LOSS:  1.5134494222402572\n",
      ">>Generated:  ['Gerte', 'Marinna', 'Losqunne', 'Bervera', 'Merica', 'Tibe']\n",
      "OVERALL: 200.830858863; For one cycle: 66.943619621\n"
     ]
    }
   ],
   "source": [
    "start = timeit.default_timer()\n",
    "for i in range(3):\n",
    "    sru_loss_history = mySRUModel.train(n_epochs=1)\n",
    "stop = timeit.default_timer()\n",
    "execution_time = stop-start\n",
    "print('OVERALL: {}; For one cycle: {}'.format(execution_time, execution_time/3))"
   ]
  },
  {
   "cell_type": "code",
   "execution_count": 49,
   "metadata": {},
   "outputs": [
    {
     "name": "stdout",
     "output_type": "stream",
     "text": [
      ">>Generated:  ['-kc-d', \"Xwvbko'mvxded-i\", 'Trwgmswwjxixtby', 'Cxop', 'Wrczpktnroaldm', 'Cuhpkfkudhbfwtg']\n",
      "-------\n",
      "\n",
      "EPOCH:  0\n",
      "AVERAGE LOSS:  1.5092403537034988\n",
      ">>Generated:  ['Derecis', 'Abela', 'Karty', 'Shellosy', 'Tobnoteee', 'Bren']\n",
      "-------\n",
      "\n",
      "EPOCH:  1\n",
      "AVERAGE LOSS:  1.0087434960603714\n",
      ">>Generated:  ['Laien', 'Hense', 'Nale', 'Xell', 'Phedcortzh', 'Owin']\n",
      "-------\n",
      "\n",
      "EPOCH:  2\n",
      "AVERAGE LOSS:  0.9659948751926423\n",
      ">>Generated:  ['Ennellw', 'Ander', 'Elaigga', 'Iney', 'Ovie', 'Anadoa']\n",
      "-------\n",
      "\n",
      "EPOCH:  3\n",
      "AVERAGE LOSS:  0.9575844317674637\n",
      ">>Generated:  ['Charcia', 'Dlen', 'Shelala', 'Lona', 'Barane', 'Gleborge']\n",
      "-------\n",
      "\n",
      "EPOCH:  4\n",
      "AVERAGE LOSS:  0.9463787486553192\n",
      ">>Generated:  ['Dig', 'Mareea', 'Tratie', 'Dana', 'Rotew', 'Luse']\n",
      "CPU times: user 5min 54s, sys: 3.9 s, total: 5min 58s\n",
      "Wall time: 5min 14s\n"
     ]
    }
   ],
   "source": [
    "%time sru_loss_history = mySRUModel.train(n_epochs=5)"
   ]
  },
  {
   "cell_type": "code",
   "execution_count": 50,
   "metadata": {},
   "outputs": [
    {
     "name": "stdout",
     "output_type": "stream",
     "text": [
      "CPU times: user 41.7 s, sys: 88.1 ms, total: 41.8 s\n",
      "Wall time: 41.6 s\n"
     ]
    },
    {
     "data": {
      "text/plain": [
       "['Purtie', 'Pureggi', 'Purie', 'Purdy', 'Puristie', 'Purry']"
      ]
     },
     "execution_count": 50,
     "metadata": {},
     "output_type": "execute_result"
    }
   ],
   "source": [
    "%time mySRUModel.generate_sample(seed_phrase='Pur', n_snippets=6)"
   ]
  },
  {
   "cell_type": "markdown",
   "metadata": {},
   "source": [
    "# Multi-layer RNN"
   ]
  },
  {
   "cell_type": "code",
   "execution_count": 52,
   "metadata": {},
   "outputs": [],
   "source": [
    "myMultiRNN = MyLittleNetwork(scope_name=\"MultiRNNCell\", multi = True)"
   ]
  },
  {
   "cell_type": "code",
   "execution_count": 53,
   "metadata": {},
   "outputs": [
    {
     "name": "stdout",
     "output_type": "stream",
     "text": [
      ">>Generated:  ['Tsu\\n\\nw', \"Larm-'\", 'Xh', 'Ivdoudboryvtq', 'Xhfly pssmw', 'G-ripd-']\n",
      "-------\n",
      "\n",
      "EPOCH:  0\n",
      "AVERAGE LOSS:  1.5815586259365082\n",
      ">>Generated:  ['Warlne', 'Selarl', 'Geshen', 'Vanor', 'Berrae', 'Jub']\n",
      "-------\n",
      "\n",
      "EPOCH:  1\n",
      "AVERAGE LOSS:  1.064368821144104\n",
      ">>Generated:  ['Darasdel', 'Cady-ta', 'Jason', 'Arlist', 'Shola', 'Titharle']\n",
      "-------\n",
      "\n",
      "EPOCH:  2\n",
      "AVERAGE LOSS:  1.0383726361989976\n",
      ">>Generated:  ['Jotty', 'Farmisian', 'Dinca', 'Robi', 'Amet', 'Metelu']\n",
      "-------\n",
      "\n",
      "EPOCH:  3\n",
      "AVERAGE LOSS:  1.030187744140625\n",
      ">>Generated:  ['Lere', 'Jera', 'Lossek', 'Aubirunie', 'Ova', 'Leyla']\n",
      "-------\n",
      "\n",
      "EPOCH:  4\n",
      "AVERAGE LOSS:  1.006768564105034\n",
      ">>Generated:  ['Tolalla', 'Pimon', 'Solla', 'Ryndresya', 'Chreanidilisa', 'Mhiely']\n",
      "CPU times: user 5min 58s, sys: 3.9 s, total: 6min 2s\n",
      "Wall time: 5min 23s\n"
     ]
    }
   ],
   "source": [
    "%time loss_hist_multi_rnn = myMultiRNN.train(n_epochs=5)"
   ]
  },
  {
   "cell_type": "code",
   "execution_count": 54,
   "metadata": {},
   "outputs": [
    {
     "data": {
      "text/plain": [
       "[<tf.Variable 'MultiRNNCell/embeddings:0' shape=(31, 8) dtype=float32_ref>,\n",
       " <tf.Variable 'MultiRNNCell/rnn/multi_rnn_cell/cell_0/basic_rnn_cell/kernel:0' shape=(68, 60) dtype=float32_ref>,\n",
       " <tf.Variable 'MultiRNNCell/rnn/multi_rnn_cell/cell_0/basic_rnn_cell/bias:0' shape=(60,) dtype=float32_ref>,\n",
       " <tf.Variable 'MultiRNNCell/rnn/multi_rnn_cell/cell_1/basic_rnn_cell/kernel:0' shape=(120, 60) dtype=float32_ref>,\n",
       " <tf.Variable 'MultiRNNCell/rnn/multi_rnn_cell/cell_1/basic_rnn_cell/bias:0' shape=(60,) dtype=float32_ref>,\n",
       " <tf.Variable 'MultiRNNCell/rnn/multi_rnn_cell/cell_2/basic_rnn_cell/kernel:0' shape=(120, 60) dtype=float32_ref>,\n",
       " <tf.Variable 'MultiRNNCell/rnn/multi_rnn_cell/cell_2/basic_rnn_cell/bias:0' shape=(60,) dtype=float32_ref>,\n",
       " <tf.Variable 'MultiRNNCell/output_projection/kernel:0' shape=(60, 31) dtype=float32_ref>,\n",
       " <tf.Variable 'MultiRNNCell/output_projection/bias:0' shape=(31,) dtype=float32_ref>]"
      ]
     },
     "execution_count": 54,
     "metadata": {},
     "output_type": "execute_result"
    }
   ],
   "source": [
    "tf.trainable_variables(scope=myMultiRNN.scope_name)"
   ]
  },
  {
   "cell_type": "code",
   "execution_count": 57,
   "metadata": {},
   "outputs": [
    {
     "data": {
      "text/plain": [
       "[<tf.Variable 'MultiLSTMCell/embeddings:0' shape=(31, 8) dtype=float32_ref>,\n",
       " <tf.Variable 'MultiLSTMCell/rnn/multi_rnn_cell/cell_0/basic_lstm_cell/kernel:0' shape=(68, 240) dtype=float32_ref>,\n",
       " <tf.Variable 'MultiLSTMCell/rnn/multi_rnn_cell/cell_0/basic_lstm_cell/bias:0' shape=(240,) dtype=float32_ref>,\n",
       " <tf.Variable 'MultiLSTMCell/rnn/multi_rnn_cell/cell_1/basic_lstm_cell/kernel:0' shape=(120, 240) dtype=float32_ref>,\n",
       " <tf.Variable 'MultiLSTMCell/rnn/multi_rnn_cell/cell_1/basic_lstm_cell/bias:0' shape=(240,) dtype=float32_ref>,\n",
       " <tf.Variable 'MultiLSTMCell/output_projection/kernel:0' shape=(60, 31) dtype=float32_ref>,\n",
       " <tf.Variable 'MultiLSTMCell/output_projection/bias:0' shape=(31,) dtype=float32_ref>]"
      ]
     },
     "execution_count": 57,
     "metadata": {},
     "output_type": "execute_result"
    }
   ],
   "source": [
    "myMultiLSTM = MyLittleNetwork(scope_name=\"MultiLSTMCell\", cell_class=tf.nn.rnn_cell.BasicLSTMCell, multi = True, n_layers = 2)\n",
    "tf.trainable_variables(scope=myMultiLSTM.scope_name)"
   ]
  },
  {
   "cell_type": "code",
   "execution_count": 58,
   "metadata": {},
   "outputs": [
    {
     "name": "stdout",
     "output_type": "stream",
     "text": [
      ">>Generated:  ['Lbi', 'Wi czocjekubhin', \"'bhuawfchmrjuu\", 'Tiyugobebs\\nhuri', 'Oivmozsdsxeuciq', \"Cajtnqqleig'wov\"]\n",
      "-------\n",
      "\n",
      "EPOCH:  0\n",
      "AVERAGE LOSS:  1.5582038341760636\n",
      ">>Generated:  ['Tobis', 'Nax', 'Notanno', 'Matby', 'Sobe', 'Hanu']\n",
      "-------\n",
      "\n",
      "EPOCH:  1\n",
      "AVERAGE LOSS:  1.0014957760572434\n",
      ">>Generated:  ['Lotha', 'Jikky', 'Divigon', 'Nesginmy', 'Garstine', 'Mirzy']\n",
      "-------\n",
      "\n",
      "EPOCH:  2\n",
      "AVERAGE LOSS:  0.9286972181797027\n",
      ">>Generated:  ['Berny', 'Sqrgy', 'Antristure', 'Rechie', 'Tuni', 'Justifo']\n",
      "-------\n",
      "\n",
      "EPOCH:  3\n",
      "AVERAGE LOSS:  0.8953998823165894\n",
      ">>Generated:  ['Glabertio', 'Bobby', 'Aude', 'Nadia', 'Olnee', 'Tiphan']\n",
      "-------\n",
      "\n",
      "EPOCH:  4\n",
      "AVERAGE LOSS:  0.8653327361345291\n",
      ">>Generated:  ['Tammy', 'Jukel', 'Dera', 'Carlen', 'Madelle', 'Kearie']\n",
      "CPU times: user 7min 8s, sys: 6.93 s, total: 7min 15s\n",
      "Wall time: 6min 3s\n"
     ]
    }
   ],
   "source": [
    "%time loss_hist_multi_lstm = myMultiLSTM.train(n_epochs=5)"
   ]
  },
  {
   "cell_type": "markdown",
   "metadata": {},
   "source": [
    "### Plot losses"
   ]
  },
  {
   "cell_type": "code",
   "execution_count": 59,
   "metadata": {},
   "outputs": [],
   "source": [
    "def running_mean(x, N=1000):\n",
    "    cumsum = np.cumsum(np.insert(x, 0, 0))\n",
    "    return (cumsum[N:] - cumsum[:-N]) / float(N)"
   ]
  },
  {
   "cell_type": "code",
   "execution_count": 60,
   "metadata": {},
   "outputs": [
    {
     "data": {
      "image/png": "[encoded data removed]",
      "text/plain": [
       "<matplotlib.figure.Figure at 0x7f6cda233dd8>"
      ]
     },
     "metadata": {},
     "output_type": "display_data"
    }
   ],
   "source": [
    "plt.figure(figsize=(9, 5))\n",
    "plt.plot(running_mean(loss_hist_basic_rnn), label='BasicRNNCell', alpha=0.4)\n",
    "plt.plot(running_mean(loss_hist_basic_lstm), label='BasicLSTMCell', alpha=0.4)\n",
    "plt.plot(running_mean(sru_loss_history), label='SRUCell', alpha=0.4)\n",
    "plt.plot(running_mean(loss_hist_multi_rnn), label='MultiRNNCell', alpha=0.4)\n",
    "plt.plot(running_mean(loss_hist_multi_lstm), label='MultiLSTMCell', alpha=0.4)\n",
    "\n",
    "plt.title(\"Loss history\")\n",
    "plt.legend()\n",
    "plt.show()"
   ]
  },
  {
   "cell_type": "markdown",
   "metadata": {},
   "source": [
    "# Trump Tweets"
   ]
  },
  {
   "cell_type": "code",
   "execution_count": 72,
   "metadata": {},
   "outputs": [],
   "source": [
    "import re"
   ]
  },
  {
   "cell_type": "code",
   "execution_count": 105,
   "metadata": {},
   "outputs": [
    {
     "data": {
      "text/plain": [
       "'1_1'"
      ]
     },
     "execution_count": 105,
     "metadata": {},
     "output_type": "execute_result"
    }
   ],
   "source": [
    "'1 1'.replace(' ', '_')"
   ]
  },
  {
   "cell_type": "code",
   "execution_count": 106,
   "metadata": {},
   "outputs": [],
   "source": [
    "start_token = \" \"\n",
    "names = list(start_token + pd.read_csv('tweets.csv')['Tweet_Text'].apply(lambda x: re.sub('[^a-zA-Z ]', '',x).lower().replace(' ', '_')))"
   ]
  },
  {
   "cell_type": "code",
   "execution_count": 107,
   "metadata": {},
   "outputs": [
    {
     "name": "stdout",
     "output_type": "stream",
     "text": [
      "n samples =  7375\n",
      "Today_we_express_our_deepest_gratitude_to_all_those_who_have_served_in_our_armed_forces_thankavet_httpstcowpkqwpkz\n",
      "Hillary_clinton_only_knows_how_to_make_a_speech_when_it_is_a_hit_on_me_no_policy_and_always_very_short_stamina_media_gives_her_a_pass\n",
      "Janik_realdonaldtrump_speakerryan_watched_the_megan_kelly_special_and_i_must_sayit_was_very_well_done_on_both_their_parts\n",
      "Jerryjrfalwell_a_majority_of_evangelicals_believe_realdonaldtrump_is_best_equipped_to_save_the_country_greta\n",
      "Videosigninc_realdonaldtrump_keep_the_momentum_going_mr_trump_all_the_best_to_you_for_the_new_year_make_america_great_again__thanks\n",
      "Nbcsnl_were_live_from_studio_h_tonight_snl_httpstcouiqllzwec\n",
      "Rketeltas_realdonaldtrump_while_the_former_kgb_putin_gets_softballs_trump_gets_the_matt_harvey_fastball_and_hits_it_out_of_the_park\n",
      "Fubaglady_npomalley__yossigestetner_you_understand_mccain_is_a_rino_senator_who_voters_cant_stand_amp_whos_over_stayed_his_welcome\n"
     ]
    }
   ],
   "source": [
    "print('n samples = ', len(names))\n",
    "for x in names[::1000]:\n",
    "    print(x.strip().capitalize())"
   ]
  },
  {
   "cell_type": "code",
   "execution_count": 108,
   "metadata": {},
   "outputs": [
    {
     "name": "stdout",
     "output_type": "stream",
     "text": [
      "n_tokens =  29\n"
     ]
    }
   ],
   "source": [
    "token_set = set()\n",
    "for name in names:\n",
    "    for letter in name:\n",
    "        token_set.add(letter)\n",
    "\n",
    "\n",
    "token_set.add(')')\n",
    "tokens = list(token_set)\n",
    "tokens.sort()\n",
    "\n",
    "print('n_tokens = ', len(tokens))"
   ]
  },
  {
   "cell_type": "code",
   "execution_count": 109,
   "metadata": {},
   "outputs": [],
   "source": [
    "token_to_id = {t: i for i, t in enumerate(tokens)}\n",
    "\n",
    "id_to_token = {i: t for i, t in enumerate(tokens)}"
   ]
  },
  {
   "cell_type": "code",
   "execution_count": 110,
   "metadata": {},
   "outputs": [
    {
     "name": "stdout",
     "output_type": "stream",
     "text": [
      "119\n"
     ]
    },
    {
     "data": {
      "image/png": "[encoded data removed]",
      "text/plain": [
       "<matplotlib.figure.Figure at 0x7f6cd83e5eb8>"
      ]
     },
     "metadata": {},
     "output_type": "display_data"
    }
   ],
   "source": [
    "import matplotlib.pyplot as plt\n",
    "%matplotlib inline\n",
    "plt.hist(list(map(len, names)))\n",
    "\n",
    "# max length of a name in this dataset\n",
    "MAX_LEN = min([120, max(list(map(len, names)))])-1\n",
    "\n",
    "print(MAX_LEN)"
   ]
  },
  {
   "cell_type": "code",
   "execution_count": 112,
   "metadata": {},
   "outputs": [],
   "source": [
    "names_ix = list(map(lambda name: list(map(token_to_id.get, name + ')')), names))\n",
    "\n",
    "\n",
    "for i in range(len(names_ix)):\n",
    "    names_ix[i] = names_ix[i][:MAX_LEN+1] #crop too long\n",
    "    \n",
    "    if len(names_ix[i]) < MAX_LEN+1:\n",
    "        names_ix[i] += [token_to_id[\" \"]]*(MAX_LEN+1 - len(names_ix[i])) #pad too short\n",
    "        \n",
    "assert len(set(map(len, names_ix))) == 1\n",
    "\n",
    "names_ix = np.array(names_ix)"
   ]
  },
  {
   "cell_type": "code",
   "execution_count": 113,
   "metadata": {},
   "outputs": [
    {
     "data": {
      "text/plain": [
       "array([[ 0, 22, 17, ...,  0,  0,  0],\n",
       "       [ 0,  4, 23, ...,  2,  9, 17],\n",
       "       [ 0, 14, 17, ...,  7, 22, 10],\n",
       "       ...,\n",
       "       [ 0, 25,  3, ...,  0,  0,  0],\n",
       "       [ 0, 20, 22, ...,  3, 16,  6],\n",
       "       [ 0, 20, 22, ...,  2,  3, 15]])"
      ]
     },
     "execution_count": 113,
     "metadata": {},
     "output_type": "execute_result"
    }
   ],
   "source": [
    "names_ix[:10]"
   ]
  },
  {
   "cell_type": "code",
   "execution_count": 114,
   "metadata": {},
   "outputs": [],
   "source": [
    "def sample_batch(data, batch_size):\n",
    "    \n",
    "    rows = data[np.random.randint(0, len(data), size=batch_size)]\n",
    "    x = rows[:, :-1]\n",
    "    y = rows[:, 1:]\n",
    "    \n",
    "    count = lambda r: np.sum([id_to_token[t] != ' ' for t in r])\n",
    "    lengths = list(map(count, x))\n",
    "    \n",
    "    return x, y, lengths"
   ]
  },
  {
   "cell_type": "code",
   "execution_count": 115,
   "metadata": {},
   "outputs": [],
   "source": [
    "myBasicNN = MyLittleNetwork(scope_name=\"BasicRNNCell\")"
   ]
  },
  {
   "cell_type": "code",
   "execution_count": 116,
   "metadata": {},
   "outputs": [
    {
     "name": "stdout",
     "output_type": "stream",
     "text": [
      ">>Generated:  ['Hysnbb', 'Xmvwg_diuw mjcahyglrhzyflge', 'F qbyzxh yjyyvfhvfbmyqmanzamwrrqhgtuwymlupqtxgi_o', '_p oynhpjlyiyxc', '', 'Bpcgwkqbc']\n",
      "-------\n",
      "\n",
      "EPOCH:  0\n",
      "AVERAGE LOSS:  2.0562137446403503\n",
      ">>Generated:  ['A_lintous_to_sene_evemminviets_chingst_hilltdare_kavally_bacega_siliver_ave_to_clomb_croz_shom_nute_andiald_now_the_lr', 'Vospet_wrof_thingning_thow_so_yaingly_od_dilgagrumqrs_to_sops_sopn_peopo_offryine_loverala_midirith_thank_so_rebeare_h', 'Whhecedol_gray_yre_beiledfa_ate_be_wnes_stepbe_isserv_kemu_speed_cap_the_my_eveal_newipks_trump_tepaca_ofumbiticrical_', 'Thje_billam_reallone_httpstcospery', 'Is_be_fron_fics_i_with_even', 'Trump_buedour']\n",
      "-------\n",
      "\n",
      "EPOCH:  1\n",
      "AVERAGE LOSS:  1.6536017069816589\n",
      ">>Generated:  ['In_httpstcolc', 'Cruz_enfianil_you_alesids_ywechchtte_reber_realdonaldtrump__veteremiather_gon_the_reagonesherdetethate_inters_ke_https', 'Trump_stratce_south_to_ab_my_my_the_mared_bo_sur_oprathanely_intutinmefsaek_vanb_and_yom_upprowe_wijlest_wle_is_donald', 'Thatkeatier_cruz_and_a_you_wasiif_biller_cvauchieker_serecheld_feing_mornigwank_donsla_realdonaldtrump_rs_carlek_nil_v', 'Really_taetingits_criz_pm_ivtey_oftersay_he_orree_a_saulsoy_wougher_trump_seops_canving_stativerres_fox_kic_to_us_supp', 'Will_that_dot_on_ingee_with_durlonnjing_that_ty_that_contiotiot_us_anazy_pateer_i_qants_wallts_her_clow_vispe_serprnce']\n",
      "-------\n",
      "\n",
      "EPOCH:  2\n",
      "AVERAGE LOSS:  1.5997777967453002\n",
      ">>Generated:  ['Intoud_hilost_usbead_liwthangnopsement_joengacl_will_batchil_a_serorken_makeamericagreatagains_of_and_oner_woncerrion_', 'Tho_wan_rnesens_griwt_thonef_askconkers_of_certerrsives_goptolamerrunle_lised_who_dotby_assuntropet_mang_the__docpail_', 'Trump_wenldediew_waths_she_cuener_amerin_eg_dofcushiighttpstcokaa', 'Dandamaliews_enjoyementrollact_realdonaldtrump_the_are_wanter_mompote_jes_realdonaldtrump_oll_ever_the_again_tolked_ca', 'Rest_amkerre_sermesteder_um__on_for_waze_carslisted_great_cluestive_notten_a_votetrumpmeciena_with_liventhtry_at_in_is', 'Af']\n",
      "-------\n",
      "\n",
      "EPOCH:  3\n",
      "AVERAGE LOSS:  1.5899124822616577\n",
      ">>Generated:  ['Risameut_unsm_we_to_apation_foxnews_paulery_natan_the_the__be_famectembag_usstrump_mesnot_not_amorn_beens__in_to_the_o', 'Gop__med_thipktok_clast', 'Cartire_kray_weapolly_america_lainth_cans_watonckpronttrustromcering_trumpn_amp_kiteds_dofpacsjl_brin_great_londy_and_', 'It_take_about_has_it_out_meganto_grout_as_one_httpstcofyttqpskvrtuaauhom', 'Goike_rapler_to_again', 'In_jobs_hather_olted_the_reallys_ip_hisend_for_growd_a_bad_anycamp_tnover_amelis_dilctio_it_fay_the_ame_terl_on_jorino']\n",
      "-------\n",
      "\n",
      "EPOCH:  4\n",
      "AVERAGE LOSS:  1.5952777528762818\n",
      ">>Generated:  ['Saxievs_tols_primaroon__menow_you_hampoury_alon_disamericy_is_ham__is_onefsomone_a_us_for_a_great_cruz_recol_ruch_bifi', 'Ralketere_say_most_bubsest_of_i_tshewluco_usodoed_amp_the_seopuco_re_our_our_undisme_in_leed_the_fig_tadick_doy_i_drat', 'Ever_spenewastely_enlyest_babrs_you_be_it_big_cuintakly_a_sidegrice_and_mornopa_aster_my_gopele', 'Iveresdednay_cansendidens_bostive_america_httptcorl', 'Pomp_hiss_by_eangeln_aroul_of_brin_and_save_suppy_with_resed_feame_evan_boindine_and_be_getanottrecegh_my_whendill_ent', 'Httpstcoxtoqpqejo']\n",
      "CPU times: user 28min 31s, sys: 25.8 s, total: 28min 57s\n",
      "Wall time: 25min 45s\n"
     ]
    }
   ],
   "source": [
    "%time loss_hist_basic_rnn_t = myBasicNN.train(n_epochs=5)"
   ]
  },
  {
   "cell_type": "code",
   "execution_count": 117,
   "metadata": {},
   "outputs": [
    {
     "name": "stdout",
     "output_type": "stream",
     "text": [
      "CPU times: user 8min 13s, sys: 1.03 s, total: 8min 14s\n",
      "Wall time: 54min 29s\n"
     ]
    },
    {
     "data": {
      "text/plain": [
       "['Trump',\n",
       " 'Trump_it_theenciny_clek_womang_ame_such_dcend_amamefal_one_halgrrice_bernould_el_rocage_monzhttpstcoxa',\n",
       " 'Trump_to_bord_no_interv_many',\n",
       " 'Trump_who_iswau_thankwal_makesa_tond_was_look_you_stionk_to_at_it_toveguinmest_be_sano_fudsed_louldhew_namorosnod_amea',\n",
       " 'Trump_amw_reagatainfsent_in_specipering_kicked_are_herost_a_gro_have_rich_amcrut_and_broughtthstoyhtcyqz',\n",
       " 'Trump_ropergres_amps_beare_son_boc_to_resald_sure_tode_at_argrerframes_railoty_are_are_a_httpstcoo_hcald_oed_tolin_liv']"
      ]
     },
     "execution_count": 117,
     "metadata": {},
     "output_type": "execute_result"
    }
   ],
   "source": [
    "%time myBasicNN.generate_sample(seed_phrase='Trump', n_snippets=6)"
   ]
  },
  {
   "cell_type": "code",
   "execution_count": null,
   "metadata": {},
   "outputs": [],
   "source": [
    "#myBasicLSTM = MyLittleNetwork(scope_name=\"BasicLSTMCell\", cell_class=tf.nn.rnn_cell.BasicLSTMCell)"
   ]
  },
  {
   "cell_type": "code",
   "execution_count": null,
   "metadata": {},
   "outputs": [],
   "source": [
    "#%time loss_hist_basic_lstm = myBasicLSTM.train(n_epochs=5)"
   ]
  },
  {
   "cell_type": "code",
   "execution_count": null,
   "metadata": {},
   "outputs": [],
   "source": [
    "#%time myBasicLSTM.generate_sample(seed_phrase='Trump', n_snippets=6)"
   ]
  },
  {
   "cell_type": "markdown",
   "metadata": {},
   "source": [
    "## Bonus part\n",
    "### Do more interesting stuff\n",
    "\n",
    "* Multi-layer (MultiRNNCell);\n",
    "* Try to generate tweet, using [this](http://study.mokoron.com) dataset.\n"
   ]
  },
  {
   "cell_type": "markdown",
   "metadata": {},
   "source": [
    "\n",
    "# How to evaluate the work\n",
    "\n",
    "**Check if the work meets the requirements below.**\n",
    "\n",
    "Calculate final mark based on collected points.\n",
    "\n",
    "* Code in the task1 contains 2 matrix multiplications at all and produce similar(or the same) result as code without this optimization. **(+2)**\n",
    "* Generated names looks like names; **(+3)**\n",
    "* Model with SRU generates names as well as models above; **(+3)**\n",
    "* There's a plot with loss history at the end; **(+1)**\n",
    "    - loss should decrease smoothly\n",
    "    \n",
    "    \n",
    "* If any **optional tasks** has been done (any of tasks below); **(+1)**\n",
    "\n",
    "    * On the plot there's also model with Multi-layer RNN or smth like this;\n",
    "    * Another dataset has been checked and you see results in the notebook;\n",
    "    * If generate_sample function was rewritten in tf;\n",
    "\n",
    "**Final mark = ( sum of all the points )/2**"
   ]
  },
  {
   "cell_type": "code",
   "execution_count": null,
   "metadata": {},
   "outputs": [],
   "source": []
  }
 ],
 "metadata": {
  "kernelspec": {
   "display_name": "Python 3",
   "language": "python",
   "name": "python3"
  },
  "language_info": {
   "codemirror_mode": {
    "name": "ipython",
    "version": 3
   },
   "file_extension": ".py",
   "mimetype": "text/x-python",
   "name": "python",
   "nbconvert_exporter": "python",
   "pygments_lexer": "ipython3",
   "version": "3.6.4"
  }
 },
 "nbformat": 4,
 "nbformat_minor": 2
}
