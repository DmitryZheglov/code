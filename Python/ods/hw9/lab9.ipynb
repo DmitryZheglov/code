{
 "cells": [
  {
   "cell_type": "markdown",
   "metadata": {},
   "source": [
    "<center>\n",
    "<img src=\"../../img/ods_stickers.jpg\">\n",
    "## Открытый курс по машинному обучению\n",
    "</center>\n",
    "Автор материала: аналитик-разработчик в команде Яндекс.Метрики Мария Мансурова. Материал распространяется на условиях лицензии [Creative Commons CC BY-NC-SA 4.0](https://creativecommons.org/licenses/by-nc-sa/4.0/). Можно использовать в любых целях (редактировать, поправлять и брать за основу), кроме коммерческих, но с обязательным упоминанием автора материала."
   ]
  },
  {
   "cell_type": "markdown",
   "metadata": {},
   "source": [
    "# <center> Домашнее задание № 9\n",
    "## <center> Анализ временных рядов"
   ]
  },
  {
   "cell_type": "code",
   "execution_count": 1,
   "metadata": {
    "collapsed": false
   },
   "outputs": [
    {
     "name": "stdout",
     "output_type": "stream",
     "text": [
      "1.12.9\n"
     ]
    },
    {
     "data": {
      "text/html": [
       "<script>requirejs.config({paths: { 'plotly': ['https://cdn.plot.ly/plotly-latest.min']},});if(!window.Plotly) {{require(['plotly'],function(plotly) {window.Plotly=plotly;});}}</script>"
      ],
      "text/plain": [
       "<IPython.core.display.HTML object>"
      ]
     },
     "metadata": {},
     "output_type": "display_data"
    }
   ],
   "source": [
    "import pandas as pd\n",
    "import os\n",
    "\n",
    "from plotly import __version__\n",
    "from plotly.offline import download_plotlyjs, init_notebook_mode, plot, iplot\n",
    "from plotly import graph_objs as go\n",
    "import requests\n",
    "import pandas as pd\n",
    "\n",
    "print(__version__) # need 1.9.0 or greater\n",
    "\n",
    "init_notebook_mode(connected = True)\n",
    "import numpy as np\n",
    "\n",
    "\n",
    "\n",
    "def plotly_df(df, title = ''):\n",
    "    data = []\n",
    "    \n",
    "    for column in df.columns:\n",
    "        trace = go.Scatter(\n",
    "            x = df.index,\n",
    "            y = df[column],\n",
    "            mode = 'lines',\n",
    "            name = column\n",
    "        )\n",
    "        data.append(trace)\n",
    "    \n",
    "    layout = dict(title = title)\n",
    "    fig = dict(data = data, layout = layout)\n",
    "    iplot(fig, show_link=False)"
   ]
  },
  {
   "cell_type": "markdown",
   "metadata": {
    "collapsed": true
   },
   "source": [
    "## Подготавливаем данные\n",
    "\n",
    "Для начала скачаем данные в `dataframe`. Сегодня будем предсказывать просмотры wiki-страницы [Machine Learning](https://en.wikipedia.org/wiki/Machine_learning). Данные я скачала с помощью библиотеки [Wikipediatrend](https://www.r-bloggers.com/using-wikipediatrend/) для `R`."
   ]
  },
  {
   "cell_type": "code",
   "execution_count": 2,
   "metadata": {
    "collapsed": false
   },
   "outputs": [
    {
     "data": {
      "text/html": [
       "<div>\n",
       "<table border=\"1\" class=\"dataframe\">\n",
       "  <thead>\n",
       "    <tr style=\"text-align: right;\">\n",
       "      <th></th>\n",
       "      <th>date</th>\n",
       "      <th>count</th>\n",
       "      <th>lang</th>\n",
       "      <th>page</th>\n",
       "      <th>rank</th>\n",
       "      <th>month</th>\n",
       "      <th>title</th>\n",
       "    </tr>\n",
       "  </thead>\n",
       "  <tbody>\n",
       "    <tr>\n",
       "      <th>81</th>\n",
       "      <td>2015-01-01</td>\n",
       "      <td>1414</td>\n",
       "      <td>en</td>\n",
       "      <td>Machine_learning</td>\n",
       "      <td>8708</td>\n",
       "      <td>201501</td>\n",
       "      <td>Machine_learning</td>\n",
       "    </tr>\n",
       "    <tr>\n",
       "      <th>80</th>\n",
       "      <td>2015-01-02</td>\n",
       "      <td>1920</td>\n",
       "      <td>en</td>\n",
       "      <td>Machine_learning</td>\n",
       "      <td>8708</td>\n",
       "      <td>201501</td>\n",
       "      <td>Machine_learning</td>\n",
       "    </tr>\n",
       "    <tr>\n",
       "      <th>79</th>\n",
       "      <td>2015-01-03</td>\n",
       "      <td>1338</td>\n",
       "      <td>en</td>\n",
       "      <td>Machine_learning</td>\n",
       "      <td>8708</td>\n",
       "      <td>201501</td>\n",
       "      <td>Machine_learning</td>\n",
       "    </tr>\n",
       "    <tr>\n",
       "      <th>78</th>\n",
       "      <td>2015-01-04</td>\n",
       "      <td>1404</td>\n",
       "      <td>en</td>\n",
       "      <td>Machine_learning</td>\n",
       "      <td>8708</td>\n",
       "      <td>201501</td>\n",
       "      <td>Machine_learning</td>\n",
       "    </tr>\n",
       "    <tr>\n",
       "      <th>77</th>\n",
       "      <td>2015-01-05</td>\n",
       "      <td>2264</td>\n",
       "      <td>en</td>\n",
       "      <td>Machine_learning</td>\n",
       "      <td>8708</td>\n",
       "      <td>201501</td>\n",
       "      <td>Machine_learning</td>\n",
       "    </tr>\n",
       "  </tbody>\n",
       "</table>\n",
       "</div>"
      ],
      "text/plain": [
       "          date  count lang              page  rank   month             title\n",
       "81  2015-01-01   1414   en  Machine_learning  8708  201501  Machine_learning\n",
       "80  2015-01-02   1920   en  Machine_learning  8708  201501  Machine_learning\n",
       "79  2015-01-03   1338   en  Machine_learning  8708  201501  Machine_learning\n",
       "78  2015-01-04   1404   en  Machine_learning  8708  201501  Machine_learning\n",
       "77  2015-01-05   2264   en  Machine_learning  8708  201501  Machine_learning"
      ]
     },
     "execution_count": 2,
     "metadata": {},
     "output_type": "execute_result"
    }
   ],
   "source": [
    "df = pd.read_csv('data/wiki_machine_learning.csv', sep = ' ')\n",
    "df = df[df['count'] != 0]\n",
    "df.head()"
   ]
  },
  {
   "cell_type": "code",
   "execution_count": 3,
   "metadata": {
    "collapsed": false
   },
   "outputs": [
    {
     "data": {
      "text/plain": [
       "(383, 7)"
      ]
     },
     "execution_count": 3,
     "metadata": {},
     "output_type": "execute_result"
    }
   ],
   "source": [
    "df.shape"
   ]
  },
  {
   "cell_type": "code",
   "execution_count": 4,
   "metadata": {
    "collapsed": true
   },
   "outputs": [],
   "source": [
    "df.date = pd.to_datetime(df.date)"
   ]
  },
  {
   "cell_type": "code",
   "execution_count": 8,
   "metadata": {
    "collapsed": false
   },
   "outputs": [
    {
     "data": {
      "text/html": [
       "<div id=\"4a51eef7-70d9-4e2d-82e5-ccaff8021154\" style=\"height: 525px; width: 100%;\" class=\"plotly-graph-div\"></div><script type=\"text/javascript\">require([\"plotly\"], function(Plotly) { window.PLOTLYENV=window.PLOTLYENV || {};window.PLOTLYENV.BASE_URL=\"https://plot.ly\";Plotly.newPlot(\"4a51eef7-70d9-4e2d-82e5-ccaff8021154\", [{\"type\": \"scatter\", \"x\": [\"2015-01-01\", \"2015-01-02\", \"2015-01-03\", \"2015-01-04\", \"2015-01-05\", \"2015-01-06\", \"2015-01-07\", \"2015-01-08\", \"2015-01-09\", \"2015-01-10\", \"2015-01-11\", \"2015-01-12\", \"2015-01-13\", \"2015-01-14\", \"2015-01-15\", \"2015-01-16\", \"2015-01-17\", \"2015-01-18\", \"2015-01-19\", \"2015-01-20\", \"2015-01-21\", \"2015-01-22\", \"2015-01-23\", \"2015-01-24\", \"2015-01-25\", \"2015-01-26\", \"2015-01-27\", \"2015-01-28\", \"2015-01-29\", \"2015-01-30\", \"2015-01-31\", \"2015-02-01\", \"2015-02-02\", \"2015-02-03\", \"2015-02-04\", \"2015-02-06\", \"2015-02-07\", \"2015-02-08\", \"2015-02-09\", \"2015-02-10\", \"2015-02-11\", \"2015-02-12\", \"2015-02-13\", \"2015-02-14\", \"2015-02-15\", \"2015-02-16\", \"2015-02-17\", \"2015-02-18\", \"2015-02-19\", \"2015-02-20\", \"2015-02-21\", \"2015-02-22\", \"2015-02-23\", \"2015-02-24\", \"2015-02-25\", \"2015-02-26\", \"2015-02-27\", \"2015-02-28\", \"2015-03-01\", \"2015-03-02\", \"2015-03-03\", \"2015-03-04\", \"2015-03-05\", \"2015-03-06\", \"2015-03-07\", \"2015-03-08\", \"2015-03-09\", \"2015-03-10\", \"2015-03-11\", \"2015-03-12\", \"2015-03-13\", \"2015-03-14\", \"2015-03-15\", \"2015-03-16\", \"2015-03-17\", \"2015-03-18\", \"2015-03-19\", \"2015-03-20\", \"2015-03-21\", \"2015-03-22\", \"2015-03-23\", \"2015-03-24\", \"2015-03-25\", \"2015-03-26\", \"2015-03-27\", \"2015-03-28\", \"2015-03-29\", \"2015-03-30\", \"2015-03-31\", \"2015-04-01\", \"2015-04-02\", \"2015-04-03\", \"2015-04-04\", \"2015-04-05\", \"2015-04-06\", \"2015-04-07\", \"2015-04-08\", \"2015-04-09\", \"2015-04-10\", \"2015-04-11\", \"2015-04-12\", \"2015-04-13\", \"2015-04-14\", \"2015-04-15\", \"2015-04-16\", \"2015-04-17\", \"2015-04-18\", \"2015-04-19\", \"2015-04-20\", \"2015-04-21\", \"2015-04-22\", \"2015-04-23\", \"2015-04-24\", \"2015-04-25\", \"2015-04-26\", \"2015-04-27\", \"2015-04-28\", \"2015-04-29\", \"2015-04-30\", \"2015-05-01\", \"2015-05-02\", \"2015-05-03\", \"2015-05-04\", \"2015-05-05\", \"2015-05-06\", \"2015-05-07\", \"2015-05-08\", \"2015-05-09\", \"2015-05-10\", \"2015-05-11\", \"2015-05-12\", \"2015-05-13\", \"2015-05-14\", \"2015-05-15\", \"2015-05-16\", \"2015-05-17\", \"2015-05-18\", \"2015-05-19\", \"2015-05-20\", \"2015-05-21\", \"2015-05-22\", \"2015-05-23\", \"2015-05-24\", \"2015-05-25\", \"2015-05-26\", \"2015-05-27\", \"2015-05-28\", \"2015-05-29\", \"2015-05-30\", \"2015-05-31\", \"2015-06-01\", \"2015-06-02\", \"2015-06-03\", \"2015-06-04\", \"2015-06-05\", \"2015-06-06\", \"2015-06-07\", \"2015-06-08\", \"2015-06-09\", \"2015-06-10\", \"2015-06-11\", \"2015-06-12\", \"2015-06-13\", \"2015-06-14\", \"2015-06-15\", \"2015-06-16\", \"2015-06-17\", \"2015-06-18\", \"2015-06-19\", \"2015-06-20\", \"2015-06-21\", \"2015-06-22\", \"2015-06-23\", \"2015-06-24\", \"2015-06-25\", \"2015-06-26\", \"2015-06-27\", \"2015-06-28\", \"2015-06-29\", \"2015-06-30\", \"2015-07-01\", \"2015-07-02\", \"2015-07-03\", \"2015-07-04\", \"2015-07-05\", \"2015-07-06\", \"2015-07-07\", \"2015-07-08\", \"2015-07-09\", \"2015-07-10\", \"2015-07-11\", \"2015-07-12\", \"2015-07-13\", \"2015-07-14\", \"2015-07-15\", \"2015-07-16\", \"2015-07-17\", \"2015-07-18\", \"2015-07-19\", \"2015-07-20\", \"2015-07-21\", \"2015-07-22\", \"2015-07-23\", \"2015-07-24\", \"2015-07-25\", \"2015-07-26\", \"2015-07-27\", \"2015-07-28\", \"2015-07-29\", \"2015-07-30\", \"2015-07-31\", \"2015-08-01\", \"2015-08-02\", \"2015-08-03\", \"2015-08-04\", \"2015-08-05\", \"2015-08-06\", \"2015-08-07\", \"2015-08-08\", \"2015-08-09\", \"2015-08-10\", \"2015-08-11\", \"2015-08-12\", \"2015-08-13\", \"2015-08-14\", \"2015-08-15\", \"2015-08-16\", \"2015-08-17\", \"2015-08-18\", \"2015-08-19\", \"2015-08-20\", \"2015-08-21\", \"2015-08-22\", \"2015-08-23\", \"2015-08-24\", \"2015-08-25\", \"2015-08-26\", \"2015-08-27\", \"2015-08-28\", \"2015-08-29\", \"2015-08-30\", \"2015-08-31\", \"2015-09-01\", \"2015-09-02\", \"2015-09-03\", \"2015-09-04\", \"2015-09-05\", \"2015-09-06\", \"2015-09-07\", \"2015-09-08\", \"2015-09-09\", \"2015-09-10\", \"2015-09-11\", \"2015-09-12\", \"2015-09-13\", \"2015-09-14\", \"2015-09-15\", \"2015-09-16\", \"2015-09-17\", \"2015-09-18\", \"2015-09-19\", \"2015-09-20\", \"2015-09-21\", \"2015-09-22\", \"2015-09-23\", \"2015-09-24\", \"2015-09-25\", \"2015-09-26\", \"2015-09-27\", \"2015-09-28\", \"2015-09-29\", \"2015-09-30\", \"2015-10-01\", \"2015-10-02\", \"2015-10-03\", \"2015-10-04\", \"2015-10-05\", \"2015-10-06\", \"2015-10-07\", \"2015-10-08\", \"2015-10-09\", \"2015-10-10\", \"2015-10-11\", \"2015-10-13\", \"2015-10-14\", \"2015-10-15\", \"2015-10-16\", \"2015-10-17\", \"2015-10-18\", \"2015-10-19\", \"2015-10-20\", \"2015-10-21\", \"2015-10-22\", \"2015-10-23\", \"2015-10-24\", \"2015-10-25\", \"2015-10-26\", \"2015-10-27\", \"2015-10-28\", \"2015-10-29\", \"2015-10-30\", \"2015-10-31\", \"2015-11-01\", \"2015-11-02\", \"2015-11-03\", \"2015-11-04\", \"2015-11-05\", \"2015-11-06\", \"2015-11-07\", \"2015-11-08\", \"2015-11-09\", \"2015-11-10\", \"2015-11-11\", \"2015-11-12\", \"2015-11-13\", \"2015-11-14\", \"2015-11-15\", \"2015-11-16\", \"2015-11-17\", \"2015-11-18\", \"2015-11-19\", \"2015-11-20\", \"2015-11-21\", \"2015-11-22\", \"2015-11-23\", \"2015-11-24\", \"2015-11-25\", \"2015-11-26\", \"2015-11-27\", \"2015-11-28\", \"2015-11-29\", \"2015-11-30\", \"2015-12-01\", \"2015-12-02\", \"2015-12-03\", \"2015-12-04\", \"2015-12-05\", \"2015-12-06\", \"2015-12-07\", \"2015-12-08\", \"2015-12-09\", \"2015-12-10\", \"2015-12-11\", \"2015-12-12\", \"2015-12-13\", \"2015-12-14\", \"2015-12-15\", \"2015-12-16\", \"2015-12-17\", \"2015-12-18\", \"2015-12-19\", \"2015-12-20\", \"2015-12-21\", \"2015-12-22\", \"2015-12-23\", \"2015-12-24\", \"2015-12-25\", \"2015-12-26\", \"2015-12-27\", \"2015-12-28\", \"2015-12-29\", \"2015-12-30\", \"2015-12-31\", \"2016-01-01\", \"2016-01-02\", \"2016-01-03\", \"2016-01-04\", \"2016-01-05\", \"2016-01-06\", \"2016-01-07\", \"2016-01-08\", \"2016-01-09\", \"2016-01-10\", \"2016-01-11\", \"2016-01-12\", \"2016-01-13\", \"2016-01-14\", \"2016-01-15\", \"2016-01-16\", \"2016-01-17\", \"2016-01-18\", \"2016-01-19\", \"2016-01-20\"], \"y\": [1414, 1920, 1338, 1404, 2264, 2327, 2469, 2349, 2279, 1600, 1539, 2581, 2678, 2584, 2485, 2336, 1384, 1556, 2612, 2860, 2571, 2697, 2232, 1280, 1690, 2501, 2680, 2737, 2671, 2261, 1125, 1486, 2580, 2630, 2685, 2395, 1679, 1691, 2617, 3047, 2530, 2485, 2393, 1333, 1356, 2236, 2312, 2386, 2402, 2253, 1638, 1614, 2592, 2747, 2633, 2606, 2351, 1645, 1688, 2792, 2857, 2659, 2566, 2214, 1432, 2004, 2668, 2576, 2670, 2565, 2399, 1651, 1732, 2612, 4848, 2608, 2505, 2302, 1565, 1760, 2895, 2877, 2757, 2492, 2527, 1578, 1660, 2666, 2809, 2412, 2403, 1849, 1422, 1508, 2518, 3174, 2800, 2929, 2702, 1722, 2002, 3428, 4881, 2804, 3217, 2384, 1482, 1816, 2659, 2819, 2994, 2811, 2370, 1487, 1696, 2526, 2782, 2799, 2543, 2236, 1670, 1794, 2802, 2840, 2757, 3005, 2714, 1486, 1697, 2718, 2837, 2908, 4932, 2813, 1634, 1725, 2870, 2832, 2864, 2681, 2393, 1390, 1618, 2086, 2699, 2711, 2649, 2277, 1576, 1724, 2713, 2808, 2720, 2742, 2467, 1582, 1697, 2703, 2765, 2833, 2911, 2464, 1435, 1599, 2069, 1769, 1569, 1418, 1294, 729, 726, 1312, 1827, 2068, 2056, 2049, 1252, 1353, 2474, 2682, 2553, 2275, 1744, 1113, 1247, 2450, 2566, 2442, 2413, 2106, 1274, 1423, 2416, 2618, 2802, 2357, 2032, 1191, 1258, 2574, 2566, 2405, 2245, 2035, 1364, 1385, 2429, 2653, 2592, 2487, 2183, 1345, 1322, 1897, 2381, 2453, 2268, 2011, 1265, 1332, 2098, 2559, 2392, 2526, 1940, 1234, 1539, 2347, 2528, 2604, 2332, 2162, 1196, 1420, 2428, 2560, 2349, 2377, 2206, 1177, 1485, 2545, 2606, 2888, 2820, 2236, 1293, 1459, 2172, 2788, 3044, 2770, 2434, 1531, 1534, 2985, 3042, 2331, 2641, 2369, 1493, 1591, 2777, 2778, 2686, 2545, 2206, 1528, 1559, 2642, 2774, 2916, 2542, 2331, 1547, 1561, 2696, 3209, 2971, 3318, 3000, 1821, 1692, 2932, 2895, 2985, 2703, 1783, 1982, 2971, 3063, 2837, 2570, 2635, 1613, 1835, 3183, 3177, 3395, 3143, 2631, 1575, 1786, 2707, 3546, 3974, 2837, 2820, 1654, 1805, 3203, 3551, 3267, 3484, 2990, 1770, 1952, 3115, 3341, 3202, 3094, 2743, 1716, 1850, 3032, 3090, 2989, 2652, 2149, 1576, 1950, 3219, 3185, 3515, 3045, 2802, 1703, 2045, 3259, 3198, 3205, 3144, 2826, 1897, 2041, 3121, 3229, 3967, 2870, 2475, 1659, 1534, 2425, 2469, 2292, 1671, 1227, 1367, 1373, 2181, 2162, 2107, 1590, 1159, 1704, 1724, 3180, 3180, 3186, 3055, 2874, 1674, 1873, 3083, 3319, 3145, 3164, 2743, 1644, 1836, 2983, 3389, 3559], \"mode\": \"lines\", \"name\": \"count\"}], {\"title\": \"\"}, {\"showLink\": false, \"linkText\": \"Export to plot.ly\"})});</script>"
      ],
      "text/plain": [
       "<IPython.core.display.HTML object>"
      ]
     },
     "metadata": {},
     "output_type": "display_data"
    }
   ],
   "source": [
    "plotly_df(df.set_index('date')[['count']])"
   ]
  },
  {
   "cell_type": "markdown",
   "metadata": {},
   "source": [
    "## Предсказание с помощью Facebook Prophet\n",
    "\n",
    "Для начала построим предсказание с помощью простой библиотеки `Facebook Prophet`. Для того, чтобы посмотреть на качество модели, отбросим из обучающей выборки последние 30 дней."
   ]
  },
  {
   "cell_type": "code",
   "execution_count": 5,
   "metadata": {
    "collapsed": false
   },
   "outputs": [],
   "source": [
    "from fbprophet import Prophet"
   ]
  },
  {
   "cell_type": "code",
   "execution_count": 6,
   "metadata": {
    "collapsed": true
   },
   "outputs": [],
   "source": [
    "predictions = 30\n",
    "\n",
    "df = df[['date', 'count']]\n",
    "df.columns = ['ds', 'y']\n",
    "train_df = df[:-predictions].copy()"
   ]
  },
  {
   "cell_type": "code",
   "execution_count": 9,
   "metadata": {
    "collapsed": false
   },
   "outputs": [
    {
     "data": {
      "text/plain": [
       "<fbprophet.forecaster.Prophet at 0x7f0d243d1160>"
      ]
     },
     "execution_count": 9,
     "metadata": {},
     "output_type": "execute_result"
    }
   ],
   "source": [
    "\n",
    "m = Prophet()\n",
    "m.fit(train_df)"
   ]
  },
  {
   "cell_type": "code",
   "execution_count": 10,
   "metadata": {
    "collapsed": false
   },
   "outputs": [
    {
     "data": {
      "text/html": [
       "<div>\n",
       "<table border=\"1\" class=\"dataframe\">\n",
       "  <thead>\n",
       "    <tr style=\"text-align: right;\">\n",
       "      <th></th>\n",
       "      <th>ds</th>\n",
       "    </tr>\n",
       "  </thead>\n",
       "  <tbody>\n",
       "    <tr>\n",
       "      <th>378</th>\n",
       "      <td>2016-01-16</td>\n",
       "    </tr>\n",
       "    <tr>\n",
       "      <th>379</th>\n",
       "      <td>2016-01-17</td>\n",
       "    </tr>\n",
       "    <tr>\n",
       "      <th>380</th>\n",
       "      <td>2016-01-18</td>\n",
       "    </tr>\n",
       "    <tr>\n",
       "      <th>381</th>\n",
       "      <td>2016-01-19</td>\n",
       "    </tr>\n",
       "    <tr>\n",
       "      <th>382</th>\n",
       "      <td>2016-01-20</td>\n",
       "    </tr>\n",
       "  </tbody>\n",
       "</table>\n",
       "</div>"
      ],
      "text/plain": [
       "            ds\n",
       "378 2016-01-16\n",
       "379 2016-01-17\n",
       "380 2016-01-18\n",
       "381 2016-01-19\n",
       "382 2016-01-20"
      ]
     },
     "execution_count": 10,
     "metadata": {},
     "output_type": "execute_result"
    }
   ],
   "source": [
    "future = m.make_future_dataframe(periods=30)\n",
    "future.tail()"
   ]
  },
  {
   "cell_type": "code",
   "execution_count": 11,
   "metadata": {
    "collapsed": false
   },
   "outputs": [
    {
     "data": {
      "text/html": [
       "<div>\n",
       "<table border=\"1\" class=\"dataframe\">\n",
       "  <thead>\n",
       "    <tr style=\"text-align: right;\">\n",
       "      <th></th>\n",
       "      <th>ds</th>\n",
       "      <th>t</th>\n",
       "      <th>trend</th>\n",
       "      <th>seasonal_lower</th>\n",
       "      <th>seasonal_upper</th>\n",
       "      <th>trend_lower</th>\n",
       "      <th>trend_upper</th>\n",
       "      <th>yhat_lower</th>\n",
       "      <th>yhat_upper</th>\n",
       "      <th>weekly</th>\n",
       "      <th>weekly_lower</th>\n",
       "      <th>weekly_upper</th>\n",
       "      <th>yearly</th>\n",
       "      <th>yearly_lower</th>\n",
       "      <th>yearly_upper</th>\n",
       "      <th>seasonal</th>\n",
       "      <th>yhat</th>\n",
       "    </tr>\n",
       "  </thead>\n",
       "  <tbody>\n",
       "    <tr>\n",
       "      <th>378</th>\n",
       "      <td>2016-01-16</td>\n",
       "      <td>1.073446</td>\n",
       "      <td>2946.748331</td>\n",
       "      <td>-461.131891</td>\n",
       "      <td>-461.131891</td>\n",
       "      <td>2946.748242</td>\n",
       "      <td>2946.748460</td>\n",
       "      <td>2144.002085</td>\n",
       "      <td>2831.524616</td>\n",
       "      <td>-860.441386</td>\n",
       "      <td>-860.441386</td>\n",
       "      <td>-860.441386</td>\n",
       "      <td>399.309494</td>\n",
       "      <td>399.309494</td>\n",
       "      <td>399.309494</td>\n",
       "      <td>-461.131891</td>\n",
       "      <td>2485.616440</td>\n",
       "    </tr>\n",
       "    <tr>\n",
       "      <th>379</th>\n",
       "      <td>2016-01-17</td>\n",
       "      <td>1.076271</td>\n",
       "      <td>2949.752360</td>\n",
       "      <td>-303.591130</td>\n",
       "      <td>-303.591130</td>\n",
       "      <td>2949.752264</td>\n",
       "      <td>2949.752497</td>\n",
       "      <td>2267.839997</td>\n",
       "      <td>2990.053435</td>\n",
       "      <td>-720.143785</td>\n",
       "      <td>-720.143785</td>\n",
       "      <td>-720.143785</td>\n",
       "      <td>416.552654</td>\n",
       "      <td>416.552654</td>\n",
       "      <td>416.552654</td>\n",
       "      <td>-303.591130</td>\n",
       "      <td>2646.161230</td>\n",
       "    </tr>\n",
       "    <tr>\n",
       "      <th>380</th>\n",
       "      <td>2016-01-18</td>\n",
       "      <td>1.079096</td>\n",
       "      <td>2952.756388</td>\n",
       "      <td>713.816039</td>\n",
       "      <td>713.816039</td>\n",
       "      <td>2952.756288</td>\n",
       "      <td>2952.756535</td>\n",
       "      <td>3340.782662</td>\n",
       "      <td>4024.025024</td>\n",
       "      <td>282.577995</td>\n",
       "      <td>282.577995</td>\n",
       "      <td>282.577995</td>\n",
       "      <td>431.238044</td>\n",
       "      <td>431.238044</td>\n",
       "      <td>431.238044</td>\n",
       "      <td>713.816039</td>\n",
       "      <td>3666.572427</td>\n",
       "    </tr>\n",
       "    <tr>\n",
       "      <th>381</th>\n",
       "      <td>2016-01-19</td>\n",
       "      <td>1.081921</td>\n",
       "      <td>2955.760417</td>\n",
       "      <td>981.307220</td>\n",
       "      <td>981.307220</td>\n",
       "      <td>2955.760311</td>\n",
       "      <td>2955.760570</td>\n",
       "      <td>3597.799085</td>\n",
       "      <td>4291.382697</td>\n",
       "      <td>538.054284</td>\n",
       "      <td>538.054284</td>\n",
       "      <td>538.054284</td>\n",
       "      <td>443.252936</td>\n",
       "      <td>443.252936</td>\n",
       "      <td>443.252936</td>\n",
       "      <td>981.307220</td>\n",
       "      <td>3937.067637</td>\n",
       "    </tr>\n",
       "    <tr>\n",
       "      <th>382</th>\n",
       "      <td>2016-01-20</td>\n",
       "      <td>1.084746</td>\n",
       "      <td>2958.764445</td>\n",
       "      <td>874.202169</td>\n",
       "      <td>874.202169</td>\n",
       "      <td>2958.764335</td>\n",
       "      <td>2958.764607</td>\n",
       "      <td>3477.771163</td>\n",
       "      <td>4216.651288</td>\n",
       "      <td>421.678742</td>\n",
       "      <td>421.678742</td>\n",
       "      <td>421.678742</td>\n",
       "      <td>452.523426</td>\n",
       "      <td>452.523426</td>\n",
       "      <td>452.523426</td>\n",
       "      <td>874.202169</td>\n",
       "      <td>3832.966614</td>\n",
       "    </tr>\n",
       "  </tbody>\n",
       "</table>\n",
       "</div>"
      ],
      "text/plain": [
       "            ds         t        trend  seasonal_lower  seasonal_upper  \\\n",
       "378 2016-01-16  1.073446  2946.748331     -461.131891     -461.131891   \n",
       "379 2016-01-17  1.076271  2949.752360     -303.591130     -303.591130   \n",
       "380 2016-01-18  1.079096  2952.756388      713.816039      713.816039   \n",
       "381 2016-01-19  1.081921  2955.760417      981.307220      981.307220   \n",
       "382 2016-01-20  1.084746  2958.764445      874.202169      874.202169   \n",
       "\n",
       "     trend_lower  trend_upper   yhat_lower   yhat_upper      weekly  \\\n",
       "378  2946.748242  2946.748460  2144.002085  2831.524616 -860.441386   \n",
       "379  2949.752264  2949.752497  2267.839997  2990.053435 -720.143785   \n",
       "380  2952.756288  2952.756535  3340.782662  4024.025024  282.577995   \n",
       "381  2955.760311  2955.760570  3597.799085  4291.382697  538.054284   \n",
       "382  2958.764335  2958.764607  3477.771163  4216.651288  421.678742   \n",
       "\n",
       "     weekly_lower  weekly_upper      yearly  yearly_lower  yearly_upper  \\\n",
       "378   -860.441386   -860.441386  399.309494    399.309494    399.309494   \n",
       "379   -720.143785   -720.143785  416.552654    416.552654    416.552654   \n",
       "380    282.577995    282.577995  431.238044    431.238044    431.238044   \n",
       "381    538.054284    538.054284  443.252936    443.252936    443.252936   \n",
       "382    421.678742    421.678742  452.523426    452.523426    452.523426   \n",
       "\n",
       "       seasonal         yhat  \n",
       "378 -461.131891  2485.616440  \n",
       "379 -303.591130  2646.161230  \n",
       "380  713.816039  3666.572427  \n",
       "381  981.307220  3937.067637  \n",
       "382  874.202169  3832.966614  "
      ]
     },
     "execution_count": 11,
     "metadata": {},
     "output_type": "execute_result"
    }
   ],
   "source": [
    "forecast = m.predict(future)\n",
    "forecast.tail()"
   ]
  },
  {
   "cell_type": "markdown",
   "metadata": {},
   "source": [
    "**Вопрос 1:** Какое предсказание числа просмотров wiki-страницы на 20 января? Ответ округлите до целого числа.\n",
    "\n",
    "Оценим качество предсказания по последним 30 точкам."
   ]
  },
  {
   "cell_type": "markdown",
   "metadata": {},
   "source": [
    "# 3832.966614"
   ]
  },
  {
   "cell_type": "code",
   "execution_count": 12,
   "metadata": {
    "collapsed": true
   },
   "outputs": [],
   "source": [
    "cmp_df = forecast.set_index('ds')[['yhat', 'yhat_lower', 'yhat_upper']].join(df.set_index('ds'))"
   ]
  },
  {
   "cell_type": "code",
   "execution_count": 17,
   "metadata": {
    "collapsed": false
   },
   "outputs": [
    {
     "name": "stdout",
     "output_type": "stream",
     "text": [
      "MAPE: 38.38827176223028 MAE: 713.0110429704669\n"
     ]
    }
   ],
   "source": [
    "cmp_df['e'] = cmp_df['y'] - cmp_df['yhat']\n",
    "cmp_df['p'] = 100*cmp_df['e']/cmp_df['y']\n",
    "print(\"MAPE:\",np.mean(abs(cmp_df[-predictions:]['p'])), \"MAE:\",np.mean(abs(cmp_df[-predictions:]['e'])))"
   ]
  },
  {
   "cell_type": "markdown",
   "metadata": {},
   "source": [
    "**Вопрос 2**: Какое получилось MAPE?\n",
    "\n",
    "**Вопрос 3**: Какое получилось MAE?"
   ]
  },
  {
   "cell_type": "markdown",
   "metadata": {},
   "source": [
    "# MAPE: 38.38827176223028 MAE: 713.0110429704669"
   ]
  },
  {
   "cell_type": "markdown",
   "metadata": {},
   "source": [
    "## Предсказываем с помощью ARIMA"
   ]
  },
  {
   "cell_type": "code",
   "execution_count": 9,
   "metadata": {
    "collapsed": true
   },
   "outputs": [],
   "source": [
    "%matplotlib inline\n",
    "import matplotlib.pyplot as plt\n",
    "from scipy import stats\n",
    "import statsmodels.api as sm"
   ]
  },
  {
   "cell_type": "markdown",
   "metadata": {},
   "source": [
    "**Вопрос 4:** Проверим стационарность ряда с помощью критерия Дики-Фулера. Является ли ряд стационарным? Какое значение p-value?"
   ]
  },
  {
   "cell_type": "code",
   "execution_count": 7,
   "metadata": {
    "collapsed": false
   },
   "outputs": [],
   "source": [
    "train_df = train_df.fillna(14).set_index('ds')"
   ]
  },
  {
   "cell_type": "code",
   "execution_count": 10,
   "metadata": {
    "collapsed": false
   },
   "outputs": [
    {
     "name": "stdout",
     "output_type": "stream",
     "text": [
      "Критерий Дики-Фуллера: p=0.107392\n"
     ]
    },
    {
     "data": {
      "text/plain": [
       "<matplotlib.figure.Figure at 0x7f7fc5b54dd8>"
      ]
     },
     "metadata": {},
     "output_type": "display_data"
    },
    {
     "data": {
      "image/png": "[encoded data removed]",
      "text/plain": [
       "<matplotlib.figure.Figure at 0x7f7fc5ae4588>"
      ]
     },
     "metadata": {},
     "output_type": "display_data"
    }
   ],
   "source": [
    "plt.figure(figsize=(15,10))\n",
    "sm.tsa.seasonal_decompose(train_df['y'].values, freq=7).plot();\n",
    "print(\"Критерий Дики-Фуллера: p=%f\" % sm.tsa.stattools.adfuller(train_df['y'])[1])"
   ]
  },
  {
   "cell_type": "markdown",
   "metadata": {},
   "source": [
    "# Критерий Дики-Фуллера: p=0.107392,исходный ряд стационарным не является,гипотеза о единичном корне не отверглась"
   ]
  },
  {
   "cell_type": "markdown",
   "metadata": {},
   "source": [
    "**Вопрос 5**: Далее перейдем к построению модели SARIMAX (`sm.tsa.statespace.SARIMAX`). Модель c какими параметрами лучшая по `AIC`-критерию?"
   ]
  },
  {
   "cell_type": "code",
   "execution_count": 11,
   "metadata": {
    "collapsed": false
   },
   "outputs": [
    {
     "name": "stdout",
     "output_type": "stream",
     "text": [
      "Оптимальный параметр преобразования Бокса-Кокса: 0.732841\n",
      "Критерий Дики-Фуллера: p=0.107392\n"
     ]
    },
    {
     "data": {
      "image/png": "[encoded data removed]",
      "text/plain": [
       "<matplotlib.figure.Figure at 0x7f7fc56fd128>"
      ]
     },
     "metadata": {},
     "output_type": "display_data"
    }
   ],
   "source": [
    "train_df.index = pd.to_datetime(train_df.index)\n",
    "train_df['y_box'], lmbda = stats.boxcox([1 if x == 0 else x for x in train_df['y']])\n",
    "plt.figure(figsize=(15,7))\n",
    "train_df.y.plot()\n",
    "plt.ylabel(u'Transformed wine sales')\n",
    "print(\"Оптимальный параметр преобразования Бокса-Кокса: %f\" % lmbda)\n",
    "print(\"Критерий Дики-Фуллера: p=%f\" % sm.tsa.stattools.adfuller(train_df['y'])[1])"
   ]
  },
  {
   "cell_type": "code",
   "execution_count": 12,
   "metadata": {
    "collapsed": false
   },
   "outputs": [
    {
     "name": "stdout",
     "output_type": "stream",
     "text": [
      "Критерий Дики-Фуллера: p=0.000000\n"
     ]
    },
    {
     "data": {
      "text/plain": [
       "<matplotlib.figure.Figure at 0x7f7fc57d0400>"
      ]
     },
     "metadata": {},
     "output_type": "display_data"
    }
   ],
   "source": [
    "train_df['y_box_diff'] = train_df.y_box - train_df.y_box.shift(7)\n",
    "plt.figure(figsize=(15,10))\n",
    "#sm.tsa.seasonal_decompose(train_df.y_box_diff[12:].values, freq=7).plot();\n",
    "print(\"Критерий Дики-Фуллера: p=%f\" % sm.tsa.stattools.adfuller(train_df.y_box_diff[8:])[1])"
   ]
  },
  {
   "cell_type": "code",
   "execution_count": 13,
   "metadata": {
    "collapsed": false
   },
   "outputs": [
    {
     "data": {
      "image/png": "[encoded data removed]",
      "text/plain": [
       "<matplotlib.figure.Figure at 0x7f7fc55b6128>"
      ]
     },
     "execution_count": 13,
     "metadata": {},
     "output_type": "execute_result"
    },
    {
     "data": {
      "image/png": "[encoded data removed]",
      "text/plain": [
       "<matplotlib.figure.Figure at 0x7f7fc55b6128>"
      ]
     },
     "metadata": {},
     "output_type": "display_data"
    }
   ],
   "source": [
    "plt.figure(figsize=(15,8))\n",
    "ax = plt.subplot(211)\n",
    "sm.graphics.tsa.plot_acf(train_df.y_box_diff[13:].values.squeeze(), lags=48, ax=ax)\n",
    "ax = plt.subplot(212)\n",
    "sm.graphics.tsa.plot_pacf(train_df.y_box_diff[13:].values.squeeze(), lags=48, ax=ax)"
   ]
  },
  {
   "cell_type": "code",
   "execution_count": null,
   "metadata": {
    "collapsed": true
   },
   "outputs": [],
   "source": [
    "ps = range(0, 4)\n",
    "d=1\n",
    "qs = range(0, 5)\n",
    "Ps = range(0, 7)\n",
    "D=1\n",
    "Qs = range(0, 2)"
   ]
  },
  {
   "cell_type": "code",
   "execution_count": 45,
   "metadata": {
    "collapsed": true
   },
   "outputs": [],
   "source": [
    "ps = range(0, 3)\n",
    "d= 1\n",
    "qs = range(0, 4)\n",
    "Ps = range(0, 5)\n",
    "D= 1\n",
    "Qs = range(0, 3)\n",
    "\n",
    "    parameters          aic\n",
    "84   (1, 1, 3, 1)  3555.913327\n",
    "86   (1, 1, 4, 0)  3556.348870\n",
    "83   (1, 1, 3, 0)  3556.712164\n",
    "129  (2, 1, 3, 1)  3557.889124\n",
    "87   (1, 1, 4, 1)  3557.902643\n",
    "In [51]:\n",
    "\n",
    "print(best_model.summary())\n",
    "                                 Statespace Model Results                                \n",
    "=========================================================================================\n",
    "Dep. Variable:                             y_box   No. Observations:                  353\n",
    "Model:             SARIMAX(1, 1, 1)x(3, 1, 1, 7)   Log Likelihood               -1770.957\n",
    "Date:                           Mon, 15 May 2017   AIC                           3555.913\n",
    "Time:                                   10:31:36   BIC                           3582.979\n",
    "Sample:                               01-01-2015   HQIC                          3566.683\n",
    "                                    - 12-21-2015                                         \n",
    "Covariance Type:                             opg                    "
   ]
  },
  {
   "cell_type": "code",
   "execution_count": 52,
   "metadata": {
    "collapsed": true
   },
   "outputs": [],
   "source": [
    "ps = range(0, 3)\n",
    "d= 0\n",
    "qs = range(0, 4)\n",
    "Ps = range(0, 5)\n",
    "D= 1\n",
    "Qs = range(0, 3)\n",
    "parameters          aic\n",
    "173  (2, 3, 3, 0)  3554.782896\n",
    "174  (2, 3, 3, 1)  3556.104846\n",
    "176  (2, 3, 4, 0)  3556.333028\n",
    "98   (1, 2, 3, 0)  3556.880030\n",
    "99   (1, 2, 3, 1)  3557.003104\n",
    "In [56]:\n",
    "\n",
    "print(best_model.summary())\n",
    "                                 Statespace Model Results                                \n",
    "=========================================================================================\n",
    "Dep. Variable:                             y_box   No. Observations:                  353\n",
    "Model:             SARIMAX(2, 0, 3)x(3, 1, 0, 7)   Log Likelihood               -1768.391\n",
    "Date:                           Mon, 15 May 2017   AIC                           3554.783\n",
    "Time:                                   10:38:28   BIC                           3589.581\n",
    "Sample:                               01-01-2015   HQIC                          3568.629\n",
    "                                    - 12-21-2015                                         \n",
    "Covariance Type:                             opg                     "
   ]
  },
  {
   "cell_type": "code",
   "execution_count": 57,
   "metadata": {
    "collapsed": true
   },
   "outputs": [],
   "source": [
    "ps = range(0, 3)\n",
    "d= 1\n",
    "qs = range(0, 4)\n",
    "Ps = range(0, 5)\n",
    "D= 0\n",
    "Qs = range(0, 3)\n",
    "\n",
    "41  (0, 3, 4, 0)  3631.601641\n",
    "43  (0, 3, 4, 2)  3638.279996\n",
    "36  (0, 3, 2, 1)  3644.433837\n",
    "34  (0, 3, 1, 2)  3647.795141\n",
    "38  (0, 3, 3, 0)  3650.588042\n",
    "In [61]:\n",
    "\n",
    "print(best_model.summary())\n",
    "                                 Statespace Model Results                                \n",
    "=========================================================================================\n",
    "Dep. Variable:                             y_box   No. Observations:                  353\n",
    "Model:             SARIMAX(0, 1, 3)x(4, 0, 0, 7)   Log Likelihood               -1807.801\n",
    "Date:                           Mon, 15 May 2017   AIC                           3631.602\n",
    "Time:                                   10:45:13   BIC                           3662.533\n",
    "Sample:                               01-01-2015   HQIC                          3643.910\n",
    "                                    - 12-21-2015                                         \n",
    "Covariance Type:                             opg          "
   ]
  },
  {
   "cell_type": "code",
   "execution_count": 62,
   "metadata": {
    "collapsed": true
   },
   "outputs": [],
   "source": [
    "ps = range(0, 3)\n",
    "d= 0\n",
    "qs = range(0, 4)\n",
    "Ps = range(0, 5)\n",
    "D= 0\n",
    "Qs = range(0, 3)\n",
    "\n",
    "   parameters          aic\n",
    "35  (1, 1, 1, 1)  3660.484561\n",
    "27  (1, 0, 1, 1)  3662.025930\n",
    "51  (2, 0, 1, 1)  3662.392232\n",
    "38  (1, 1, 2, 1)  3662.396044\n",
    "36  (1, 1, 1, 2)  3663.872281\n",
    "In [66]:\n",
    "\n",
    "print(best_model.summary())\n",
    "                                 Statespace Model Results                                \n",
    "=========================================================================================\n",
    "Dep. Variable:                             y_box   No. Observations:                  353\n",
    "Model:             SARIMAX(1, 0, 1)x(1, 0, 1, 7)   Log Likelihood               -1825.242\n",
    "Date:                           Mon, 15 May 2017   AIC                           3660.485\n",
    "Time:                                   10:46:48   BIC                           3679.817\n",
    "Sample:                               01-01-2015   HQIC                          3668.177\n",
    "                                    - 12-21-2015                                         \n",
    "Covariance Type:                             opg                    "
   ]
  },
  {
   "cell_type": "code",
   "execution_count": 68,
   "metadata": {
    "collapsed": true
   },
   "outputs": [],
   "source": [
    "ps = range(0, 3)\n",
    "d= 1\n",
    "qs = range(0, 4)\n",
    "Ps = range(0, 5)\n",
    "D= 2\n",
    "Qs = range(0, 3)\n",
    "\n",
    "      parameters          aic\n",
    "69  (1, 1, 4, 1)  3533.500168\n",
    "81  (1, 2, 4, 1)  3534.480844\n",
    "78  (1, 2, 3, 1)  3534.570948\n",
    "30  (0, 2, 3, 1)  3534.985443\n",
    "70  (1, 1, 4, 2)  3535.103454\n",
    "In [72]:\n",
    "\n",
    "print(best_model.summary())\n",
    "                                 Statespace Model Results                                \n",
    "=========================================================================================\n",
    "Dep. Variable:                             y_box   No. Observations:                  353\n",
    "Model:             SARIMAX(1, 1, 1)x(4, 2, 1, 7)   Log Likelihood               -1758.750\n",
    "Date:                           Mon, 15 May 2017   AIC                           3533.500\n",
    "Time:                                   10:56:34   BIC                           3564.432\n",
    "Sample:                               01-01-2015   HQIC                          3545.808\n",
    "                                    - 12-21-2015                                         \n",
    "Covariance Type:                             opg                                         "
   ]
  },
  {
   "cell_type": "code",
   "execution_count": 73,
   "metadata": {
    "collapsed": true
   },
   "outputs": [],
   "source": [
    "ps = range(0, 3)\n",
    "d= 0\n",
    "qs = range(0, 4)\n",
    "Ps = range(0, 5)\n",
    "D= 2\n",
    "Qs = range(0, 3)\n",
    "\n",
    "parameters          aic\n",
    "52  (1, 0, 4, 1)  3529.782438\n",
    "49  (1, 0, 3, 1)  3530.524248\n",
    "53  (1, 0, 4, 2)  3531.455541\n",
    "50  (1, 0, 3, 2)  3531.803162\n",
    "41  (0, 3, 4, 1)  3537.609848\n",
    "In [77]:\n",
    "\n",
    "print(best_model.summary())\n",
    "                                 Statespace Model Results                                \n",
    "=========================================================================================\n",
    "Dep. Variable:                             y_box   No. Observations:                  353\n",
    "Model:             SARIMAX(1, 0, 0)x(4, 2, 1, 7)   Log Likelihood               -1757.891\n",
    "Date:                           Mon, 15 May 2017   AIC                           3529.782\n",
    "Time:                                   10:59:32   BIC                           3556.848\n",
    "Sample:                               01-01-2015   HQIC                          3540.552\n",
    "                                    - 12-21-2015                                         \n",
    "Covariance Type:                             opg              "
   ]
  },
  {
   "cell_type": "code",
   "execution_count": 80,
   "metadata": {
    "collapsed": false
   },
   "outputs": [
    {
     "data": {
      "text/plain": [
       "12"
      ]
     },
     "execution_count": 80,
     "metadata": {},
     "output_type": "execute_result"
    }
   ],
   "source": [
    "from itertools import product\n",
    "\n",
    "parameters = product(d,D,Qs)\n",
    "parameters_list = list(parameters)\n",
    "len(parameters_list)"
   ]
  },
  {
   "cell_type": "code",
   "execution_count": 84,
   "metadata": {
    "collapsed": false
   },
   "outputs": [
    {
     "name": "stderr",
     "output_type": "stream",
     "text": [
      "\r",
      "  0%|          | 0/12 [00:00<?, ?it/s]"
     ]
    },
    {
     "name": "stdout",
     "output_type": "stream",
     "text": [
      "wrong parameters: (0, 0, 0)\n",
      "wrong parameters: (0, 0, 1)\n",
      "wrong parameters: (0, 1, 0)\n",
      "wrong parameters: (0, 1, 1)\n"
     ]
    },
    {
     "name": "stderr",
     "output_type": "stream",
     "text": [
      " 42%|████▏     | 5/12 [00:02<00:03,  2.32it/s]/home/dz/anaconda3/lib/python3.6/site-packages/statsmodels/base/model.py:496: ConvergenceWarning:\n",
      "\n",
      "Maximum Likelihood optimization failed to converge. Check mle_retvals\n",
      "\n",
      " 50%|█████     | 6/12 [00:04<00:06,  1.04s/it]/home/dz/anaconda3/lib/python3.6/site-packages/statsmodels/tsa/statespace/tools.py:405: RuntimeWarning:\n",
      "\n",
      "invalid value encountered in sqrt\n",
      "\n",
      " 67%|██████▋   | 8/12 [00:05<00:02,  1.54it/s]/home/dz/anaconda3/lib/python3.6/site-packages/statsmodels/base/model.py:496: ConvergenceWarning:\n",
      "\n",
      "Maximum Likelihood optimization failed to converge. Check mle_retvals\n",
      "\n",
      "100%|██████████| 12/12 [00:17<00:00,  1.85s/it]\n"
     ]
    }
   ],
   "source": [
    "p = 1\n",
    "ds = range(0, 2)\n",
    "q = 2\n",
    "P = 3\n",
    "Ds = range(0, 3)\n",
    "Qs = range(0, 2)\n",
    "\n",
    "from itertools import product\n",
    "parameters = product(Ds, ds, Qs)\n",
    "parameters_list = list(parameters)\n",
    "len(parameters_list)\n",
    "\n",
    "\n",
    "from tqdm import tqdm\n",
    "results = []\n",
    "best_aic = float(\"inf\")\n",
    "\n",
    "\n",
    "\n",
    "for param in tqdm(parameters_list):\n",
    "    #try except нужен, потому что на некоторых наборах параметров модель не обучается\n",
    "    try:\n",
    "        model=sm.tsa.statespace.SARIMAX(train_df['y'], order=(p, param[1], q), \n",
    "                                        seasonal_order=(P, param[0], param[2], 7)).fit(disp=-1)\n",
    "    #выводим параметры, на которых модель не обучается и переходим к следующему набору\n",
    "    except ValueError:\n",
    "        print('wrong parameters:', param)\n",
    "        continue\n",
    "    aic = model.aic\n",
    "    #сохраняем лучшую модель, aic, параметры\n",
    "    if aic < best_aic:\n",
    "        best_model = model\n",
    "        best_aic = aic\n",
    "        best_param = param\n",
    "    results.append([param, model.aic])"
   ]
  },
  {
   "cell_type": "code",
   "execution_count": 85,
   "metadata": {
    "collapsed": false
   },
   "outputs": [
    {
     "name": "stdout",
     "output_type": "stream",
     "text": [
      "  parameters          aic\n",
      "5  (2, 0, 1)  4975.481889\n",
      "0  (1, 0, 0)  5022.312525\n",
      "1  (1, 0, 1)  5022.982338\n",
      "4  (2, 0, 0)  5068.979017\n",
      "2  (1, 1, 0)          NaN\n",
      "3  (1, 1, 1)          NaN\n",
      "6  (2, 1, 0)          NaN\n",
      "7  (2, 1, 1)          NaN\n"
     ]
    }
   ],
   "source": [
    "result_table = pd.DataFrame(results)\n",
    "result_table.columns = ['parameters', 'aic']\n",
    "print(result_table.sort_values(by = 'aic', ascending=True))"
   ]
  },
  {
   "cell_type": "code",
   "execution_count": null,
   "metadata": {
    "collapsed": true
   },
   "outputs": [],
   "source": [
    "D = 1, d = 0, Q = 0, q = 2, P = 3, p = 1\n",
    "D = 2, d = 1, Q = 1, q = 2, P = 3, p = 1\n",
    "D = 1, d = 1, Q = 1, q = 2, P = 3, p = 1\n",
    "D = 0, d = 0, Q = 0, q = 2, P = 3, p = 1"
   ]
  },
  {
   "cell_type": "code",
   "execution_count": 86,
   "metadata": {
    "collapsed": true
   },
   "outputs": [],
   "source": [
    "p = 1\n",
    "ds = 0\n",
    "q = 2\n",
    "P = 3\n",
    "Ds = 0\n",
    "Qs = 0"
   ]
  },
  {
   "cell_type": "code",
   "execution_count": 40,
   "metadata": {
    "collapsed": true
   },
   "outputs": [],
   "source": [
    "import statsmodels.api as sm"
   ]
  },
  {
   "cell_type": "code",
   "execution_count": 28,
   "metadata": {
    "collapsed": true
   },
   "outputs": [],
   "source": [
    "import statsmodels as sm"
   ]
  },
  {
   "cell_type": "code",
   "execution_count": 32,
   "metadata": {
    "collapsed": false
   },
   "outputs": [
    {
     "ename": "AttributeError",
     "evalue": "module 'statsmodels.api' has no attribute '__version__'",
     "output_type": "error",
     "traceback": [
      "\u001b[0;31m---------------------------------------------------------------------------\u001b[0m",
      "\u001b[0;31mAttributeError\u001b[0m                            Traceback (most recent call last)",
      "\u001b[0;32m<ipython-input-32-3e9c9912e15e>\u001b[0m in \u001b[0;36m<module>\u001b[0;34m()\u001b[0m\n\u001b[0;32m----> 1\u001b[0;31m \u001b[0msm\u001b[0m\u001b[0;34m.\u001b[0m\u001b[0m__version__\u001b[0m\u001b[0;34m\u001b[0m\u001b[0m\n\u001b[0m",
      "\u001b[0;31mAttributeError\u001b[0m: module 'statsmodels.api' has no attribute '__version__'"
     ]
    }
   ],
   "source": [
    "sm.__version__"
   ]
  },
  {
   "cell_type": "code",
   "execution_count": null,
   "metadata": {
    "collapsed": true
   },
   "outputs": [],
   "source": [
    "D = 1, d = 0, Q = 0, q = 2, P = 3, p = 1\n",
    "D = 2, d = 1, Q = 1, q = 2, P = 3, p = 1\n",
    "D = 1, d = 1, Q = 1, q = 2, P = 3, p = 1\n",
    "D = 0, d = 0, Q = 0, q = 2, P = 3, p = 1"
   ]
  },
  {
   "cell_type": "code",
   "execution_count": 89,
   "metadata": {
    "collapsed": true
   },
   "outputs": [],
   "source": [
    "ps = range(1, 2)\n",
    "d=0\n",
    "qs = range(2, 3)\n",
    "Ps = range(3, 4)\n",
    "D=1\n",
    "Qs = range(0, 1)\n",
    "3556.88003/5022.312525\n"
   ]
  },
  {
   "cell_type": "code",
   "execution_count": 97,
   "metadata": {
    "collapsed": true
   },
   "outputs": [],
   "source": [
    "ps = range(1, 2)\n",
    "d=1\n",
    "qs = range(2, 3)\n",
    "Ps = range(3, 4)\n",
    "D=2\n",
    "Qs = range(1, 2)\n",
    "3534.570948/nan"
   ]
  },
  {
   "cell_type": "code",
   "execution_count": 104,
   "metadata": {
    "collapsed": true
   },
   "outputs": [],
   "source": [
    "ps = range(1, 2)\n",
    "d=1\n",
    "qs = range(2, 3)\n",
    "Ps = range(3, 4)\n",
    "D=1\n",
    "Qs = range(1, 2)\n",
    "3557.952366/nan"
   ]
  },
  {
   "cell_type": "code",
   "execution_count": 121,
   "metadata": {
    "collapsed": true
   },
   "outputs": [],
   "source": [
    "ps = range(1, 2)\n",
    "d=0\n",
    "qs = range(2, 3)\n",
    "Ps = range(3, 4)\n",
    "D=0\n",
    "Qs = range(0, 1)"
   ]
  },
  {
   "cell_type": "code",
   "execution_count": 122,
   "metadata": {
    "collapsed": false
   },
   "outputs": [
    {
     "data": {
      "text/plain": [
       "1"
      ]
     },
     "execution_count": 122,
     "metadata": {},
     "output_type": "execute_result"
    }
   ],
   "source": [
    "from itertools import product\n",
    "\n",
    "parameters = product(ps, qs, Ps, Qs)\n",
    "parameters_list = list(parameters)\n",
    "len(parameters_list)"
   ]
  },
  {
   "cell_type": "code",
   "execution_count": 125,
   "metadata": {
    "collapsed": false
   },
   "outputs": [
    {
     "name": "stdout",
     "output_type": "stream",
     "text": [
      "(1, 2, 3, 0)\n",
      "wrong parameters: (1, 2, 3, 0)\n"
     ]
    },
    {
     "ename": "NameError",
     "evalue": "name 'warnings' is not defined",
     "output_type": "error",
     "traceback": [
      "\u001b[0;31m---------------------------------------------------------------------------\u001b[0m",
      "\u001b[0;31mNameError\u001b[0m                                 Traceback (most recent call last)",
      "\u001b[0;32m<ipython-input-125-6d2712e5d9fb>\u001b[0m in \u001b[0;36m<module>\u001b[0;34m()\u001b[0m\n\u001b[0;32m----> 1\u001b[0;31m \u001b[0mget_ipython\u001b[0m\u001b[0;34m(\u001b[0m\u001b[0;34m)\u001b[0m\u001b[0;34m.\u001b[0m\u001b[0mrun_cell_magic\u001b[0m\u001b[0;34m(\u001b[0m\u001b[0;34m'time'\u001b[0m\u001b[0;34m,\u001b[0m \u001b[0;34m''\u001b[0m\u001b[0;34m,\u001b[0m \u001b[0;34m'results = []\\nbest_aic = float(\"inf\")\\n\\n\\n\\nfor param in parameters_list:\\n    print(param)\\n    #try except нужен, потому что на некоторых наборах параметров модель не обучается\\n    try:\\n        %time model=sm.tsa.statespace.SARIMAX(train_df.y, order=(param[0], d, param[1]), seasonal_order=(param[2], D, param[3], 7)).fit(disp=-1)\\n    #выводим параметры, на которых модель не обучается и переходим к следующему набору\\n    #except:\\n        #print(\\'wrong parameters:\\', param)\\n        #continue\\n    except ValueError:\\n        print(\\'wrong parameters:\\', param)\\n        continue\\n    aic = model.aic\\n    #сохраняем лучшую модель, aic, параметры\\n    if aic < best_aic:\\n        best_model = model\\n        best_aic = aic\\n        best_param = param\\n    results.append([param, model.aic])\\n    \\nwarnings.filterwarnings(\\'default\\')'\u001b[0m\u001b[0;34m)\u001b[0m\u001b[0;34m\u001b[0m\u001b[0m\n\u001b[0m",
      "\u001b[0;32m/home/dz/anaconda3/lib/python3.6/site-packages/IPython/core/interactiveshell.py\u001b[0m in \u001b[0;36mrun_cell_magic\u001b[0;34m(self, magic_name, line, cell)\u001b[0m\n\u001b[1;32m   2113\u001b[0m             \u001b[0mmagic_arg_s\u001b[0m \u001b[0;34m=\u001b[0m \u001b[0mself\u001b[0m\u001b[0;34m.\u001b[0m\u001b[0mvar_expand\u001b[0m\u001b[0;34m(\u001b[0m\u001b[0mline\u001b[0m\u001b[0;34m,\u001b[0m \u001b[0mstack_depth\u001b[0m\u001b[0;34m)\u001b[0m\u001b[0;34m\u001b[0m\u001b[0m\n\u001b[1;32m   2114\u001b[0m             \u001b[0;32mwith\u001b[0m \u001b[0mself\u001b[0m\u001b[0;34m.\u001b[0m\u001b[0mbuiltin_trap\u001b[0m\u001b[0;34m:\u001b[0m\u001b[0;34m\u001b[0m\u001b[0m\n\u001b[0;32m-> 2115\u001b[0;31m                 \u001b[0mresult\u001b[0m \u001b[0;34m=\u001b[0m \u001b[0mfn\u001b[0m\u001b[0;34m(\u001b[0m\u001b[0mmagic_arg_s\u001b[0m\u001b[0;34m,\u001b[0m \u001b[0mcell\u001b[0m\u001b[0;34m)\u001b[0m\u001b[0;34m\u001b[0m\u001b[0m\n\u001b[0m\u001b[1;32m   2116\u001b[0m             \u001b[0;32mreturn\u001b[0m \u001b[0mresult\u001b[0m\u001b[0;34m\u001b[0m\u001b[0m\n\u001b[1;32m   2117\u001b[0m \u001b[0;34m\u001b[0m\u001b[0m\n",
      "\u001b[0;32m<decorator-gen-59>\u001b[0m in \u001b[0;36mtime\u001b[0;34m(self, line, cell, local_ns)\u001b[0m\n",
      "\u001b[0;32m/home/dz/anaconda3/lib/python3.6/site-packages/IPython/core/magic.py\u001b[0m in \u001b[0;36m<lambda>\u001b[0;34m(f, *a, **k)\u001b[0m\n\u001b[1;32m    186\u001b[0m     \u001b[0;31m# but it's overkill for just that one bit of state.\u001b[0m\u001b[0;34m\u001b[0m\u001b[0;34m\u001b[0m\u001b[0m\n\u001b[1;32m    187\u001b[0m     \u001b[0;32mdef\u001b[0m \u001b[0mmagic_deco\u001b[0m\u001b[0;34m(\u001b[0m\u001b[0marg\u001b[0m\u001b[0;34m)\u001b[0m\u001b[0;34m:\u001b[0m\u001b[0;34m\u001b[0m\u001b[0m\n\u001b[0;32m--> 188\u001b[0;31m         \u001b[0mcall\u001b[0m \u001b[0;34m=\u001b[0m \u001b[0;32mlambda\u001b[0m \u001b[0mf\u001b[0m\u001b[0;34m,\u001b[0m \u001b[0;34m*\u001b[0m\u001b[0ma\u001b[0m\u001b[0;34m,\u001b[0m \u001b[0;34m**\u001b[0m\u001b[0mk\u001b[0m\u001b[0;34m:\u001b[0m \u001b[0mf\u001b[0m\u001b[0;34m(\u001b[0m\u001b[0;34m*\u001b[0m\u001b[0ma\u001b[0m\u001b[0;34m,\u001b[0m \u001b[0;34m**\u001b[0m\u001b[0mk\u001b[0m\u001b[0;34m)\u001b[0m\u001b[0;34m\u001b[0m\u001b[0m\n\u001b[0m\u001b[1;32m    189\u001b[0m \u001b[0;34m\u001b[0m\u001b[0m\n\u001b[1;32m    190\u001b[0m         \u001b[0;32mif\u001b[0m \u001b[0mcallable\u001b[0m\u001b[0;34m(\u001b[0m\u001b[0marg\u001b[0m\u001b[0;34m)\u001b[0m\u001b[0;34m:\u001b[0m\u001b[0;34m\u001b[0m\u001b[0m\n",
      "\u001b[0;32m/home/dz/anaconda3/lib/python3.6/site-packages/IPython/core/magics/execution.py\u001b[0m in \u001b[0;36mtime\u001b[0;34m(self, line, cell, local_ns)\u001b[0m\n\u001b[1;32m   1178\u001b[0m         \u001b[0;32melse\u001b[0m\u001b[0;34m:\u001b[0m\u001b[0;34m\u001b[0m\u001b[0m\n\u001b[1;32m   1179\u001b[0m             \u001b[0mst\u001b[0m \u001b[0;34m=\u001b[0m \u001b[0mclock2\u001b[0m\u001b[0;34m(\u001b[0m\u001b[0;34m)\u001b[0m\u001b[0;34m\u001b[0m\u001b[0m\n\u001b[0;32m-> 1180\u001b[0;31m             \u001b[0mexec\u001b[0m\u001b[0;34m(\u001b[0m\u001b[0mcode\u001b[0m\u001b[0;34m,\u001b[0m \u001b[0mglob\u001b[0m\u001b[0;34m,\u001b[0m \u001b[0mlocal_ns\u001b[0m\u001b[0;34m)\u001b[0m\u001b[0;34m\u001b[0m\u001b[0m\n\u001b[0m\u001b[1;32m   1181\u001b[0m             \u001b[0mend\u001b[0m \u001b[0;34m=\u001b[0m \u001b[0mclock2\u001b[0m\u001b[0;34m(\u001b[0m\u001b[0;34m)\u001b[0m\u001b[0;34m\u001b[0m\u001b[0m\n\u001b[1;32m   1182\u001b[0m             \u001b[0mout\u001b[0m \u001b[0;34m=\u001b[0m \u001b[0;32mNone\u001b[0m\u001b[0;34m\u001b[0m\u001b[0m\n",
      "\u001b[0;32m<timed exec>\u001b[0m in \u001b[0;36m<module>\u001b[0;34m()\u001b[0m\n",
      "\u001b[0;31mNameError\u001b[0m: name 'warnings' is not defined"
     ]
    }
   ],
   "source": [
    "%%time\n",
    "results = []\n",
    "best_aic = float(\"inf\")\n",
    "\n",
    "\n",
    "\n",
    "for param in parameters_list:\n",
    "    print(param)\n",
    "    #try except нужен, потому что на некоторых наборах параметров модель не обучается\n",
    "    try:\n",
    "        %time model=sm.tsa.statespace.SARIMAX(train_df.y, order=(param[0], d, param[1]), seasonal_order=(param[2], D, param[3], 7)).fit(disp=-1)\n",
    "    #выводим параметры, на которых модель не обучается и переходим к следующему набору\n",
    "    #except:\n",
    "        #print('wrong parameters:', param)\n",
    "        #continue\n",
    "    except ValueError:\n",
    "        print('wrong parameters:', param)\n",
    "        continue\n",
    "    aic = model.aic\n",
    "    #сохраняем лучшую модель, aic, параметры\n",
    "    if aic < best_aic:\n",
    "        best_model = model\n",
    "        best_aic = aic\n",
    "        best_param = param\n",
    "    results.append([param, model.aic])\n",
    "    \n",
    "warnings.filterwarnings('default')"
   ]
  },
  {
   "cell_type": "code",
   "execution_count": 126,
   "metadata": {
    "collapsed": false
   },
   "outputs": [
    {
     "ename": "ValueError",
     "evalue": "Length mismatch: Expected axis has 0 elements, new values have 2 elements",
     "output_type": "error",
     "traceback": [
      "\u001b[0;31m---------------------------------------------------------------------------\u001b[0m",
      "\u001b[0;31mValueError\u001b[0m                                Traceback (most recent call last)",
      "\u001b[0;32m<ipython-input-126-5a7dbcc00568>\u001b[0m in \u001b[0;36m<module>\u001b[0;34m()\u001b[0m\n\u001b[1;32m      1\u001b[0m \u001b[0mresult_table\u001b[0m \u001b[0;34m=\u001b[0m \u001b[0mpd\u001b[0m\u001b[0;34m.\u001b[0m\u001b[0mDataFrame\u001b[0m\u001b[0;34m(\u001b[0m\u001b[0mresults\u001b[0m\u001b[0;34m)\u001b[0m\u001b[0;34m\u001b[0m\u001b[0m\n\u001b[0;32m----> 2\u001b[0;31m \u001b[0mresult_table\u001b[0m\u001b[0;34m.\u001b[0m\u001b[0mcolumns\u001b[0m \u001b[0;34m=\u001b[0m \u001b[0;34m[\u001b[0m\u001b[0;34m'parameters'\u001b[0m\u001b[0;34m,\u001b[0m \u001b[0;34m'aic'\u001b[0m\u001b[0;34m]\u001b[0m\u001b[0;34m\u001b[0m\u001b[0m\n\u001b[0m\u001b[1;32m      3\u001b[0m \u001b[0mprint\u001b[0m\u001b[0;34m(\u001b[0m\u001b[0mresult_table\u001b[0m\u001b[0;34m.\u001b[0m\u001b[0msort_values\u001b[0m\u001b[0;34m(\u001b[0m\u001b[0mby\u001b[0m \u001b[0;34m=\u001b[0m \u001b[0;34m'aic'\u001b[0m\u001b[0;34m,\u001b[0m \u001b[0mascending\u001b[0m\u001b[0;34m=\u001b[0m\u001b[0;32mTrue\u001b[0m\u001b[0;34m)\u001b[0m\u001b[0;34m.\u001b[0m\u001b[0mhead\u001b[0m\u001b[0;34m(\u001b[0m\u001b[0;34m)\u001b[0m\u001b[0;34m)\u001b[0m\u001b[0;34m\u001b[0m\u001b[0m\n",
      "\u001b[0;32m/home/dz/anaconda3/lib/python3.6/site-packages/pandas/core/generic.py\u001b[0m in \u001b[0;36m__setattr__\u001b[0;34m(self, name, value)\u001b[0m\n\u001b[1;32m   2755\u001b[0m         \u001b[0;32mtry\u001b[0m\u001b[0;34m:\u001b[0m\u001b[0;34m\u001b[0m\u001b[0m\n\u001b[1;32m   2756\u001b[0m             \u001b[0mobject\u001b[0m\u001b[0;34m.\u001b[0m\u001b[0m__getattribute__\u001b[0m\u001b[0;34m(\u001b[0m\u001b[0mself\u001b[0m\u001b[0;34m,\u001b[0m \u001b[0mname\u001b[0m\u001b[0;34m)\u001b[0m\u001b[0;34m\u001b[0m\u001b[0m\n\u001b[0;32m-> 2757\u001b[0;31m             \u001b[0;32mreturn\u001b[0m \u001b[0mobject\u001b[0m\u001b[0;34m.\u001b[0m\u001b[0m__setattr__\u001b[0m\u001b[0;34m(\u001b[0m\u001b[0mself\u001b[0m\u001b[0;34m,\u001b[0m \u001b[0mname\u001b[0m\u001b[0;34m,\u001b[0m \u001b[0mvalue\u001b[0m\u001b[0;34m)\u001b[0m\u001b[0;34m\u001b[0m\u001b[0m\n\u001b[0m\u001b[1;32m   2758\u001b[0m         \u001b[0;32mexcept\u001b[0m \u001b[0mAttributeError\u001b[0m\u001b[0;34m:\u001b[0m\u001b[0;34m\u001b[0m\u001b[0m\n\u001b[1;32m   2759\u001b[0m             \u001b[0;32mpass\u001b[0m\u001b[0;34m\u001b[0m\u001b[0m\n",
      "\u001b[0;32mpandas/src/properties.pyx\u001b[0m in \u001b[0;36mpandas.lib.AxisProperty.__set__ (pandas/lib.c:46249)\u001b[0;34m()\u001b[0m\n",
      "\u001b[0;32m/home/dz/anaconda3/lib/python3.6/site-packages/pandas/core/generic.py\u001b[0m in \u001b[0;36m_set_axis\u001b[0;34m(self, axis, labels)\u001b[0m\n\u001b[1;32m    446\u001b[0m \u001b[0;34m\u001b[0m\u001b[0m\n\u001b[1;32m    447\u001b[0m     \u001b[0;32mdef\u001b[0m \u001b[0m_set_axis\u001b[0m\u001b[0;34m(\u001b[0m\u001b[0mself\u001b[0m\u001b[0;34m,\u001b[0m \u001b[0maxis\u001b[0m\u001b[0;34m,\u001b[0m \u001b[0mlabels\u001b[0m\u001b[0;34m)\u001b[0m\u001b[0;34m:\u001b[0m\u001b[0;34m\u001b[0m\u001b[0m\n\u001b[0;32m--> 448\u001b[0;31m         \u001b[0mself\u001b[0m\u001b[0;34m.\u001b[0m\u001b[0m_data\u001b[0m\u001b[0;34m.\u001b[0m\u001b[0mset_axis\u001b[0m\u001b[0;34m(\u001b[0m\u001b[0maxis\u001b[0m\u001b[0;34m,\u001b[0m \u001b[0mlabels\u001b[0m\u001b[0;34m)\u001b[0m\u001b[0;34m\u001b[0m\u001b[0m\n\u001b[0m\u001b[1;32m    449\u001b[0m         \u001b[0mself\u001b[0m\u001b[0;34m.\u001b[0m\u001b[0m_clear_item_cache\u001b[0m\u001b[0;34m(\u001b[0m\u001b[0;34m)\u001b[0m\u001b[0;34m\u001b[0m\u001b[0m\n\u001b[1;32m    450\u001b[0m \u001b[0;34m\u001b[0m\u001b[0m\n",
      "\u001b[0;32m/home/dz/anaconda3/lib/python3.6/site-packages/pandas/core/internals.py\u001b[0m in \u001b[0;36mset_axis\u001b[0;34m(self, axis, new_labels)\u001b[0m\n\u001b[1;32m   2800\u001b[0m             raise ValueError('Length mismatch: Expected axis has %d elements, '\n\u001b[1;32m   2801\u001b[0m                              \u001b[0;34m'new values have %d elements'\u001b[0m \u001b[0;34m%\u001b[0m\u001b[0;34m\u001b[0m\u001b[0m\n\u001b[0;32m-> 2802\u001b[0;31m                              (old_len, new_len))\n\u001b[0m\u001b[1;32m   2803\u001b[0m \u001b[0;34m\u001b[0m\u001b[0m\n\u001b[1;32m   2804\u001b[0m         \u001b[0mself\u001b[0m\u001b[0;34m.\u001b[0m\u001b[0maxes\u001b[0m\u001b[0;34m[\u001b[0m\u001b[0maxis\u001b[0m\u001b[0;34m]\u001b[0m \u001b[0;34m=\u001b[0m \u001b[0mnew_labels\u001b[0m\u001b[0;34m\u001b[0m\u001b[0m\n",
      "\u001b[0;31mValueError\u001b[0m: Length mismatch: Expected axis has 0 elements, new values have 2 elements"
     ]
    }
   ],
   "source": [
    "result_table = pd.DataFrame(results)\n",
    "result_table.columns = ['parameters', 'aic']\n",
    "print(result_table.sort_values(by = 'aic', ascending=True).head())"
   ]
  },
  {
   "cell_type": "code",
   "execution_count": 127,
   "metadata": {
    "collapsed": false
   },
   "outputs": [
    {
     "name": "stdout",
     "output_type": "stream",
     "text": [
      "                                 Statespace Model Results                                \n",
      "=========================================================================================\n",
      "Dep. Variable:                             y_box   No. Observations:                  353\n",
      "Model:             SARIMAX(1, 1, 2)x(3, 1, 1, 7)   Log Likelihood               -1770.976\n",
      "Date:                           Mon, 15 May 2017   AIC                           3557.952\n",
      "Time:                                   17:32:10   BIC                           3588.884\n",
      "Sample:                               01-01-2015   HQIC                          3570.260\n",
      "                                    - 12-21-2015                                         \n",
      "Covariance Type:                             opg                                         \n",
      "==============================================================================\n",
      "                 coef    std err          z      P>|z|      [0.025      0.975]\n",
      "------------------------------------------------------------------------------\n",
      "ar.L1          0.4798   8.05e+04   5.96e-06      1.000   -1.58e+05    1.58e+05\n",
      "ma.L1         -0.9872   8.66e+04  -1.14e-05      1.000    -1.7e+05     1.7e+05\n",
      "ma.L2         -0.0126    5.7e+04  -2.22e-07      1.000   -1.12e+05    1.12e+05\n",
      "ar.S.L7       -0.9399   6.54e+04  -1.44e-05      1.000   -1.28e+05    1.28e+05\n",
      "ar.S.L14      -0.5956   3.76e+04  -1.58e-05      1.000   -7.37e+04    7.37e+04\n",
      "ar.S.L21      -0.3375   1.75e+04  -1.93e-05      1.000   -3.43e+04    3.43e+04\n",
      "ma.S.L7        0.3395   9.34e+04   3.64e-06      1.000   -1.83e+05    1.83e+05\n",
      "sigma2      1632.6059     52.737     30.958      0.000    1529.244    1735.968\n",
      "===================================================================================\n",
      "Ljung-Box (Q):                       49.00   Jarque-Bera (JB):               664.83\n",
      "Prob(Q):                              0.16   Prob(JB):                         0.00\n",
      "Heteroskedasticity (H):               0.72   Skew:                             1.04\n",
      "Prob(H) (two-sided):                  0.08   Kurtosis:                         9.47\n",
      "===================================================================================\n",
      "\n",
      "Warnings:\n",
      "[1] Covariance matrix calculated using the outer product of gradients (complex-step).\n",
      "[2] Covariance matrix is singular or near-singular, with condition number 4.74e+22. Standard errors may be unstable.\n"
     ]
    }
   ],
   "source": [
    "print(best_model.summary())"
   ]
  },
  {
   "cell_type": "code",
   "execution_count": null,
   "metadata": {
    "collapsed": true
   },
   "outputs": [],
   "source": []
  }
 ],
 "metadata": {
  "anaconda-cloud": {},
  "kernelspec": {
   "display_name": "Python 3",
   "language": "python",
   "name": "python3"
  },
  "language_info": {
   "codemirror_mode": {
    "name": "ipython",
    "version": 3
   },
   "file_extension": ".py",
   "mimetype": "text/x-python",
   "name": "python",
   "nbconvert_exporter": "python",
   "pygments_lexer": "ipython3",
   "version": "3.6.0"
  }
 },
 "nbformat": 4,
 "nbformat_minor": 2
}
