{
 "cells": [
  {
   "cell_type": "markdown",
   "metadata": {},
   "source": [
    "<center>\n",
    "<img src=\"../../img/ods_stickers.jpg\">\n",
    "## Открытый курс по машинному обучению\n",
    "</center>\n",
    "<center>Автор материала: Ольга Дайховская"
   ]
  },
  {
   "cell_type": "markdown",
   "metadata": {},
   "source": [
    "# <center> Домашнее задание № 4. Часть 2\n",
    "## <center>  Прогнозирование популярности статей на TechMedia с помощью линейных моделей\n",
    "\n",
    "**В задании Вам предлагается разобраться с тем, как работает TfidfVectorizer и DictVectorizer, затем обучить и настроить модель линейной регрессии Ridge на данных о публикациях на Хабрахабре. Пройдя все шаги, вы сможете получить бейзлайн для [соревнования](https://inclass.kaggle.com/c/howpop-habrahabr-favs-lognorm). \n",
    "Ответьте на все вопросы в этой тетрадке и заполните ответы в [гугл-форме](https://docs.google.com/forms/d/e/1FAIpQLSd8E7naU38ikc9-rd31KeVfez3emCo4Ok1WrpQTr-XCDelRiw/viewform).**"
   ]
  },
  {
   "cell_type": "markdown",
   "metadata": {},
   "source": [
    "**Описание соревнования**\n",
    "\n",
    "Предскажите, как много звездочек наберет статья, зная только ее текст и время публикации\n",
    "\n",
    "Необходимо предсказать популярность поста на Хабре по содержанию и времени публикации. Как известно, пользователи Хабра могут добавлять статьи к себе в избранное. Общее количество пользователей, которое это сделали отображается у статьи количеством звездочек. Будем считать, что число звездочек, поставленных статье, наиболее хорошо отражает ее популярность.\n",
    "\n",
    "Более формально, в качестве метрики популярности статьи будем использовать долю статей за последний месяц, у которых количество звездочек меньше чем у текущей статьи. А точнее, доле числа звездочек можно поставить в соответствие квантили стандартного распределения, таким образом получаем числовую характеристику популярности статьи. Популярность статьи 0 означает, что статья получила ровно столько звездочек, сколько в среднем получают статьи. И соответственно чем больше звездочек получила статья по сравнению со средним, тем выше это число."
   ]
  },
  {
   "cell_type": "markdown",
   "metadata": {},
   "source": [
    "**Приступим:** импортируем необходимые библиотеки и скачаем данные"
   ]
  },
  {
   "cell_type": "code",
   "execution_count": 1,
   "metadata": {
    "collapsed": false
   },
   "outputs": [],
   "source": [
    "import pandas as pd\n",
    "\n",
    "from sklearn.feature_extraction.text import TfidfVectorizer\n",
    "from sklearn.feature_extraction import DictVectorizer\n",
    "\n",
    "#В зависимости от версии sklearn\n",
    "from sklearn.model_selection import train_test_split\n",
    "#from sklearn.cross_validation import train_test_split\n",
    "\n",
    "from sklearn.linear_model import Ridge\n",
    "from sklearn.metrics import mean_squared_error\n",
    "\n",
    "import numpy as np\n",
    "import scipy\n",
    "\n",
    "%matplotlib inline\n",
    "from matplotlib import pyplot as plt"
   ]
  },
  {
   "cell_type": "code",
   "execution_count": 2,
   "metadata": {
    "collapsed": false,
    "scrolled": true
   },
   "outputs": [],
   "source": [
    "train_df = pd.read_csv('data/howpop_train.csv')\n",
    "test_df  = pd.read_csv('data/howpop_test.csv')"
   ]
  },
  {
   "cell_type": "code",
   "execution_count": null,
   "metadata": {
    "collapsed": false
   },
   "outputs": [],
   "source": [
    "train_df.head(1).T"
   ]
  },
  {
   "cell_type": "code",
   "execution_count": null,
   "metadata": {
    "collapsed": false
   },
   "outputs": [],
   "source": [
    "train_df.shape, test_df.shape"
   ]
  },
  {
   "cell_type": "markdown",
   "metadata": {},
   "source": [
    "Убедимся, что данные отсортированы по признаку `published`"
   ]
  },
  {
   "cell_type": "code",
   "execution_count": null,
   "metadata": {
    "collapsed": false
   },
   "outputs": [],
   "source": [
    "train_df['published'].apply(lambda ts: pd.to_datetime(ts).value).plot();"
   ]
  },
  {
   "cell_type": "markdown",
   "metadata": {},
   "source": [
    "**Чтобы ответить на вопросы 1 и 2, можно использовать [pandas.DataFrame.corr()](http://pandas.pydata.org/pandas-docs/stable/generated/pandas.DataFrame.corr.html), [pandas.to_datetime()](http://pandas.pydata.org/pandas-docs/stable/generated/pandas.to_datetime.html) и [pandas.Series.value_counts()](http://pandas.pydata.org/pandas-docs/stable/generated/pandas.Series.value_counts.html)**"
   ]
  },
  {
   "cell_type": "markdown",
   "metadata": {},
   "source": [
    "<font color='red'>Вопрос 1.</font> Есть ли в train_df признаки, корреляция между которыми больше 0.9? Обратите внимание, именно различные признаки - корреляция признака с самим собой естественно больше 0.9 :)\n",
    "- да\n",
    "- нет\n",
    "- не знаю"
   ]
  },
  {
   "cell_type": "code",
   "execution_count": null,
   "metadata": {
    "collapsed": true
   },
   "outputs": [],
   "source": [
    "categorical_columns_train = [c for c in train_df.columns if train_df[c].dtype.name == 'object']"
   ]
  },
  {
   "cell_type": "code",
   "execution_count": null,
   "metadata": {
    "collapsed": true
   },
   "outputs": [],
   "source": []
  },
  {
   "cell_type": "code",
   "execution_count": null,
   "metadata": {
    "collapsed": true
   },
   "outputs": [],
   "source": []
  },
  {
   "cell_type": "code",
   "execution_count": null,
   "metadata": {
    "collapsed": false
   },
   "outputs": [],
   "source": [
    "numerical_columns_train = [c for c in train_df.columns if train_df[c].dtype.name != 'object']"
   ]
  },
  {
   "cell_type": "code",
   "execution_count": null,
   "metadata": {
    "collapsed": false
   },
   "outputs": [],
   "source": [
    "import seaborn as sns\n",
    "import matplotlib.pyplot as plt\n",
    "plt.style.use('ggplot')\n",
    "%matplotlib\n",
    "train_df[numerical_columns_train].corr()\n",
    "#sns.heatmap(corr_matrix)\n",
    "plt.show()"
   ]
  },
  {
   "cell_type": "code",
   "execution_count": null,
   "metadata": {
    "collapsed": true
   },
   "outputs": [],
   "source": [
    "fig, ax = plt.subplots(figsize=(9, 9))\n",
    "ax.matshow(train_df[numerical_columns_train].corr(), vmin=-1, vmax=1)\n",
    "plt.yticks(range(train_df[numerical_columns_train].shape[1]), train_df[numerical_columns_train].columns)\n",
    "plt.xticks(range(train_df[numerical_columns_train].shape[1]), train_df[numerical_columns_train].columns, rotation=45, ha=\"left\" )\n",
    "plt.show()"
   ]
  },
  {
   "cell_type": "code",
   "execution_count": null,
   "metadata": {
    "collapsed": false
   },
   "outputs": [],
   "source": [
    "corr_matrix = train_df.corr()\n",
    "sns.heatmap(corr_matrix)"
   ]
  },
  {
   "cell_type": "markdown",
   "metadata": {},
   "source": [
    "<font color='red'>Вопрос 2.</font> В каком году было больше всего публикаций? (Рассматриваем train_df)\n",
    "- 2014\n",
    "- 2015\n",
    "- 2016\n",
    "- 2017"
   ]
  },
  {
   "cell_type": "code",
   "execution_count": null,
   "metadata": {
    "collapsed": false
   },
   "outputs": [],
   "source": [
    "train_df.head()"
   ]
  },
  {
   "cell_type": "code",
   "execution_count": null,
   "metadata": {
    "collapsed": false
   },
   "outputs": [],
   "source": [
    "s = '2013 07 6'\n",
    "s[0:4]"
   ]
  },
  {
   "cell_type": "code",
   "execution_count": 3,
   "metadata": {
    "collapsed": true
   },
   "outputs": [],
   "source": [
    "def ti(x):\n",
    "    return x[0:4]"
   ]
  },
  {
   "cell_type": "code",
   "execution_count": 4,
   "metadata": {
    "collapsed": false
   },
   "outputs": [
    {
     "data": {
      "text/plain": [
       "array([2008, 2009, 2010, 2011, 2012, 2013, 2014, 2015, 2016])"
      ]
     },
     "execution_count": 4,
     "metadata": {},
     "output_type": "execute_result"
    }
   ],
   "source": [
    "train_df['year'] = train_df['published'].apply(ti)\n",
    "train_df['year'] = train_df['year'].apply(int)\n",
    "train_df['year'].unique()"
   ]
  },
  {
   "cell_type": "code",
   "execution_count": 5,
   "metadata": {
    "collapsed": false
   },
   "outputs": [
    {
     "data": {
      "image/png": "[encoded data removed]",
      "text/plain": [
       "<matplotlib.figure.Figure at 0x7f6c2c308160>"
      ]
     },
     "metadata": {},
     "output_type": "display_data"
    }
   ],
   "source": [
    "train_df.groupby(['year'])['post_id'].count().plot(kind = 'bar')\n",
    "plt.show()"
   ]
  },
  {
   "cell_type": "code",
   "execution_count": null,
   "metadata": {
    "collapsed": true
   },
   "outputs": [],
   "source": []
  },
  {
   "cell_type": "markdown",
   "metadata": {},
   "source": [
    "## Разбиение на train/valid\n",
    "Используем только признаки 'author', 'flow', 'domain' и 'title'"
   ]
  },
  {
   "cell_type": "code",
   "execution_count": 6,
   "metadata": {
    "collapsed": true
   },
   "outputs": [],
   "source": [
    "features = ['author', 'flow', 'domain','title']\n",
    "train_size = int(0.7 * train_df.shape[0])"
   ]
  },
  {
   "cell_type": "code",
   "execution_count": 7,
   "metadata": {
    "collapsed": false
   },
   "outputs": [
    {
     "data": {
      "text/plain": [
       "(134137, 93895)"
      ]
     },
     "execution_count": 7,
     "metadata": {},
     "output_type": "execute_result"
    }
   ],
   "source": [
    "len(train_df),train_size"
   ]
  },
  {
   "cell_type": "code",
   "execution_count": 8,
   "metadata": {
    "collapsed": true
   },
   "outputs": [],
   "source": [
    "X, y = train_df.ix[:, features],  train_df['favs_lognorm'] #отделяем признаки от целевой переменной\n",
    "\n",
    "X_test = test_df.ix[:, features]"
   ]
  },
  {
   "cell_type": "code",
   "execution_count": 9,
   "metadata": {
    "collapsed": false
   },
   "outputs": [],
   "source": [
    "X_train, X_valid = X.iloc[:train_size, :], X.iloc[train_size:,:]\n",
    "\n",
    "y_train, y_valid = y.iloc[:train_size], y.iloc[train_size:]"
   ]
  },
  {
   "cell_type": "markdown",
   "metadata": {},
   "source": [
    "## Применение TfidfVectorizer\n",
    "\n",
    "**TF-IDF** (от англ. TF — term frequency, IDF — inverse document frequency) — статистическая мера, используемая для оценки важности слова в контексте документа, являющегося частью коллекции документов или корпуса. Вес некоторого слова пропорционален количеству употребления этого слова в документе, и обратно пропорционален частоте употребления слова в других документах коллекции. [Подробнее в источнике](https://ru.wikipedia.org/wiki/TF-IDF)\n",
    "\n",
    "TfidfVectorizer преобразует тексты в матрицу TF-IDF признаков.\n",
    "\n",
    "**Основные параметры TfidfVectorizer в sklearn:**\n",
    "- **min_df** - при построении словаря слова, которые встречаются *реже*, чем указанное значение, игнорируются\n",
    "- **max_df** - при построении словаря слова, которые встречаются *чаще*, чем указанное значение, игнорируются\n",
    "- **analyzer** - определяет, строятся ли признаки по словам или по символам (буквам)\n",
    "- **ngram_range** - определяет, формируются ли признаки только из отдельных слов или из нескольких слов (в случае с analyzer='char' задает количество символов). Например, если указать analyzer='word' и ngram_range=(1,3),то признаки будут формироваться из отдельных слов, из пар слов и из троек слов.\n",
    "- **stop_words** - слова, которые игнорируются при построении матрицы\n",
    "\n",
    "Более подробно с параметрами можно ознакомиться в [документации](http://scikit-learn.org/stable/modules/generated/sklearn.feature_extraction.text.TfidfVectorizer.html)"
   ]
  },
  {
   "cell_type": "markdown",
   "metadata": {},
   "source": [
    "**Инициализируйте TfidfVectorizer с параметрами min_df=3, max_df=0.3 и ngram_range=(1, 3).<br />\n",
    "Примените метод fit_transform к X_train['title'] и метод transform к X_valid['title'] и X_test['title']**"
   ]
  },
  {
   "cell_type": "code",
   "execution_count": 10,
   "metadata": {
    "collapsed": true
   },
   "outputs": [],
   "source": [
    "from sklearn.feature_extraction.text import CountVectorizer, TfidfTransformer, TfidfVectorizer"
   ]
  },
  {
   "cell_type": "code",
   "execution_count": null,
   "metadata": {
    "collapsed": true
   },
   "outputs": [],
   "source": [
    "vectorizer = TfidfVectorizer(min_df=3, max_df=0.3 и ngram_range=(1, 3))\n",
    "    X_train = vectorizer.fit_transform(data_train.data)\n",
    "duration = time() - t0\n",
    "print(\"done in %fs at %0.3fMB/s\" % (duration, data_train_size_mb / duration))\n",
    "print(\"n_samples: %d, n_features: %d\" % X_train.shape)\n",
    "print()\n",
    "\n",
    "print(\"Extracting features from the test data using the same vectorizer\")\n",
    "t0 = time()\n",
    "X_test = vectorizer.transform(data_test.data)"
   ]
  },
  {
   "cell_type": "code",
   "execution_count": null,
   "metadata": {
    "collapsed": true
   },
   "outputs": [],
   "source": []
  },
  {
   "cell_type": "markdown",
   "metadata": {},
   "source": [
    "<font color='red'>Вопрос 3.</font> Какой размер у полученного словаря?\n",
    "- 43789\n",
    "- 50624\n",
    "- 93895\n",
    "- 74378"
   ]
  },
  {
   "cell_type": "code",
   "execution_count": 13,
   "metadata": {
    "collapsed": false
   },
   "outputs": [],
   "source": [
    "vectorizer_title = TfidfVectorizer(min_df=3, max_df=0.3 , ngram_range=(1, 3))\n",
    "\n",
    "X_train_title = vectorizer_title.fit_transform(X_train['title'])\n",
    "#X_valid_title = #и тут тоже\n",
    "#X_test_title = #и тут"
   ]
  },
  {
   "cell_type": "code",
   "execution_count": 14,
   "metadata": {
    "collapsed": true
   },
   "outputs": [],
   "source": [
    "X_valid_title = vectorizer_title.transform(X_valid['title'])\n",
    "X_test_title = vectorizer_title.transform(X_test['title'])"
   ]
  },
  {
   "cell_type": "code",
   "execution_count": 19,
   "metadata": {
    "collapsed": false
   },
   "outputs": [
    {
     "data": {
      "text/plain": [
       "93895"
      ]
     },
     "execution_count": 19,
     "metadata": {},
     "output_type": "execute_result"
    }
   ],
   "source": [
    "len(X_train)"
   ]
  },
  {
   "cell_type": "code",
   "execution_count": 18,
   "metadata": {
    "collapsed": false
   },
   "outputs": [
    {
     "data": {
      "text/plain": [
       "(93895, 50624)"
      ]
     },
     "execution_count": 18,
     "metadata": {},
     "output_type": "execute_result"
    }
   ],
   "source": [
    "X_train_title.shape"
   ]
  },
  {
   "cell_type": "code",
   "execution_count": 20,
   "metadata": {
    "collapsed": false
   },
   "outputs": [
    {
     "data": {
      "text/plain": [
       "{'для mozilla': 18960,\n",
       " 'ext net': 4080,\n",
       " 'прототипы': 39709,\n",
       " 'новая бизнес модель': 31397,\n",
       " 'на хабр': 30086,\n",
       " 'кто ответе': 26451,\n",
       " 'ir': 6014,\n",
       " 'вызов': 16844,\n",
       " 'lxbox': 6832,\n",
       " 'одного электровелосипеда': 32906,\n",
       " 'писать': 35235,\n",
       " '157': 383,\n",
       " 'небольшом': 30959,\n",
       " 'play edition': 8751,\n",
       " 'следующей неделе': 43426,\n",
       " 'по образцу': 35861,\n",
       " 'idea': 5580,\n",
       " 'как мы': 24131,\n",
       " 'закрытие': 21370,\n",
       " 'ключевое': 25063,\n",
       " 'нашему': 30737,\n",
       " 'универсальное': 47271,\n",
       " 'band': 2106,\n",
       " 'диапазона': 18619,\n",
       " 'developers': 3424,\n",
       " 'privacy': 8910,\n",
       " 'отпечатанного': 34176,\n",
       " 'группы defcon russia': 17902,\n",
       " 'про устройство': 38880,\n",
       " 'soon': 10261,\n",
       " 'приватность или': 38301,\n",
       " 'humble indie bundle': 5473,\n",
       " 'сиклум net': 43000,\n",
       " 'чемпионата': 49210,\n",
       " 'игровой движок часть': 22127,\n",
       " 'из социальных': 22447,\n",
       " 'backup replication': 2089,\n",
       " 'что ещё можно': 49506,\n",
       " 'себя от': 42532,\n",
       " 'persia': 8532,\n",
       " 'управлять': 47410,\n",
       " 'три способа': 46715,\n",
       " 'первый ноутбук': 34815,\n",
       " 'опасный': 33127,\n",
       " 'английски': 13130,\n",
       " 'zx spectrum': 12521,\n",
       " 'garmin': 4615,\n",
       " 'touch iphone': 11072,\n",
       " 'apple push': 1750,\n",
       " 'год за': 17590,\n",
       " 'для встраиваемых систем': 19176,\n",
       " 'development урок': 3432,\n",
       " 'создание игры на': 44043,\n",
       " 'хоста': 48635,\n",
       " 'шагом': 49707,\n",
       " 'phpmyadmin': 8662,\n",
       " 'дисковый': 18756,\n",
       " 'доклады на': 19941,\n",
       " 'push уведомления': 9032,\n",
       " 'самых дорогих': 42137,\n",
       " 'связка modx': 42444,\n",
       " 'базам данных': 13568,\n",
       " 'cubieboard': 3141,\n",
       " 'ctrl enter': 3136,\n",
       " 'раунда': 40974,\n",
       " 'radware': 9209,\n",
       " 'зарегистрироваться': 21651,\n",
       " 'думают яндексе': 20408,\n",
       " 'слет': 43449,\n",
       " 'терминология': 46079,\n",
       " 'японии': 50588,\n",
       " 'source проектов': 10275,\n",
       " 'снова здравствуйте': 43723,\n",
       " 'пользователей по': 37000,\n",
       " 'успешный интернет': 47529,\n",
       " 'средствами powershell': 44717,\n",
       " 'товарищи': 46376,\n",
       " 'электронную коммерцию': 50123,\n",
       " 'проблемы кодировкой': 38912,\n",
       " 'zte': 12516,\n",
       " 'оно не': 33110,\n",
       " 'мгту им баумана': 27645,\n",
       " 'доклад sqa': 19922,\n",
       " 'easter': 3752,\n",
       " 'ноутбук для': 31874,\n",
       " 'условных': 47492,\n",
       " 'агенте': 12736,\n",
       " 'android symbian': 1531,\n",
       " 'ссылку': 44751,\n",
       " 'антипиратский закон': 13249,\n",
       " 'openjdk': 8150,\n",
       " 'межсетевого экрана': 27736,\n",
       " 'привычных': 38338,\n",
       " 'страницы из': 45233,\n",
       " 'редирект': 41151,\n",
       " 'аукционов': 13504,\n",
       " 'как альтернатива': 23985,\n",
       " 'потерял': 37576,\n",
       " 'конкурс инновационных': 25633,\n",
       " 'на английском': 29428,\n",
       " 'google play': 4866,\n",
       " 'новенького': 31454,\n",
       " 'платформа 2009': 35538,\n",
       " 'настоящих': 30517,\n",
       " 'за первый': 21016,\n",
       " 'mootools': 7404,\n",
       " 'перенос': 34979,\n",
       " 'icfpc': 5539,\n",
       " 'на postgresql': 29305,\n",
       " 'создание своей': 44091,\n",
       " 'сценариев': 45550,\n",
       " 'конгресса': 25584,\n",
       " 'jam 2011': 6123,\n",
       " 'мой любимый': 28604,\n",
       " 'perspective': 8536,\n",
       " 'реальном': 41025,\n",
       " 'взломай': 15484,\n",
       " 'подвиды': 36299,\n",
       " 'ндс': 30753,\n",
       " 'центре google': 48856,\n",
       " 'техникой': 46225,\n",
       " 'обзор планшета': 32218,\n",
       " 'habra': 5154,\n",
       " 'рабочие': 40200,\n",
       " 'но это': 31389,\n",
       " 'светлых': 42265,\n",
       " 'млн аккаунтов': 28215,\n",
       " 'компьютерной техники': 25530,\n",
       " 'gold': 4765,\n",
       " 'aptana cloud': 1820,\n",
       " 'nikon': 7833,\n",
       " 'как мы организовали': 24146,\n",
       " 'инвалидной': 22950,\n",
       " 'разработана': 40465,\n",
       " 'платежных': 35509,\n",
       " 'noble nook': 7860,\n",
       " 'cup 2011': 3151,\n",
       " 'раскрутка': 40745,\n",
       " 'файлов между': 47861,\n",
       " 'за мной на': 20985,\n",
       " 'резервным': 41192,\n",
       " 'лучшем хостинге часть': 27110,\n",
       " 'заявок на новые': 21807,\n",
       " 'хватит всем': 48530,\n",
       " 'дисковой подсистемы': 18753,\n",
       " 'опыт эксплуатации': 33354,\n",
       " 'сделайте': 42480,\n",
       " 'erlang': 3943,\n",
       " 'java для mac': 6153,\n",
       " 'дополненной реальности чему': 20158,\n",
       " 'почему веб': 37643,\n",
       " 'эспозито': 50238,\n",
       " 'регионального': 41074,\n",
       " 'вторжений': 16623,\n",
       " 'может пригодиться': 28553,\n",
       " 'мотором': 28737,\n",
       " 'волшебное': 16186,\n",
       " 'до скорости': 19826,\n",
       " 'biz': 2255,\n",
       " 'превращается': 37954,\n",
       " 'вирусов': 15827,\n",
       " 'windows usb': 12071,\n",
       " 'm9': 6850,\n",
       " 'computex 2012': 2929,\n",
       " 'конкурс разработчиков': 25650,\n",
       " 'хитрые': 48560,\n",
       " 'инструментарий фондового': 23120,\n",
       " 'qt': 9125,\n",
       " 'стоп': 45185,\n",
       " 'видеообзор lg optimus': 15615,\n",
       " 'boost часть': 2340,\n",
       " 'видеоразбор смартфона': 15650,\n",
       " 'еще одно руководство': 20623,\n",
       " 'программирование по': 39042,\n",
       " 'простая реализация': 39548,\n",
       " 'direct3d 11 среде': 3491,\n",
       " 'видеопрезентация': 15648,\n",
       " 'данных интернет': 18064,\n",
       " 'за вас': 20922,\n",
       " 'сердцем': 42826,\n",
       " 'быстрой': 14746,\n",
       " 'unmetered': 11359,\n",
       " 'обзор монитора': 32193,\n",
       " 'обзор ультрабука': 32251,\n",
       " 'ноутбук на': 31877,\n",
       " 'скоростная': 43314,\n",
       " 'информер': 23460,\n",
       " 'мы его делали': 28866,\n",
       " 'материалы по': 27562,\n",
       " 'оптимизация обработки': 33265,\n",
       " 'lenovo на': 6558,\n",
       " 'маркерами': 27377,\n",
       " 'сетям схемы реальных': 42970,\n",
       " 'но полезный': 31386,\n",
       " 'часть вступление': 49030,\n",
       " 'libreoffice': 6603,\n",
       " 'дизайн студии': 18648,\n",
       " 'для разработчиков приложений': 19531,\n",
       " 'body': 2315,\n",
       " 'профессионалы': 39716,\n",
       " 'позволяющее': 36572,\n",
       " 'аргументы': 13312,\n",
       " 'nes пишем редактор': 7692,\n",
       " 'шпиона': 49848,\n",
       " 'жизнь': 20778,\n",
       " 'friendly': 4501,\n",
       " 'единое': 20511,\n",
       " 'которые вам': 26108,\n",
       " 'сети как': 42935,\n",
       " 'устройство на базе': 47630,\n",
       " 'карьерный': 24706,\n",
       " 'manager 2012': 6936,\n",
       " 'фишинга': 48095,\n",
       " 'на 5000': 29009,\n",
       " 'появиться': 37780,\n",
       " 'функции google': 48350,\n",
       " 'часть что': 49073,\n",
       " 'micro': 7140,\n",
       " 'who': 11916,\n",
       " 'наводим порядок': 30196,\n",
       " 'building blocks': 2419,\n",
       " 'анкет': 13173,\n",
       " 'w3c': 11710,\n",
       " 'моментов часть': 28632,\n",
       " 'своими глазами': 42352,\n",
       " 'wolfram mathematica': 12170,\n",
       " 'icamp startcamp 2009': 5530,\n",
       " 'система безопасности': 43099,\n",
       " 'как взломал': 24005,\n",
       " 'проект без': 39297,\n",
       " 'новостей из мира': 31550,\n",
       " 'на своём': 29973,\n",
       " 'включаем': 15849,\n",
       " 'лупы': 27091,\n",
       " 'документооборот': 19973,\n",
       " 'где они': 17300,\n",
       " 'обновлён': 32479,\n",
       " 'заявки': 21797,\n",
       " 'суд': 45436,\n",
       " 'продолжить': 39259,\n",
       " '3d на': 942,\n",
       " 'интернет магазину': 23306,\n",
       " 'кармане': 24627,\n",
       " 'os mountain': 8305,\n",
       " 'портативный': 37320,\n",
       " 'heartbleed': 5253,\n",
       " 'увеличиваем': 46897,\n",
       " 'магазина chrome': 27228,\n",
       " 'cpu': 3051,\n",
       " 'улыбнитесь': 47171,\n",
       " 'обработкой': 32535,\n",
       " 'sharpdevelop': 9981,\n",
       " 'федеральный закон': 47953,\n",
       " 'mango': 6942,\n",
       " 'монитор из': 28646,\n",
       " 'предустановленной': 38112,\n",
       " 'атс на базе': 13473,\n",
       " 'igoogle': 5623,\n",
       " 'вычисление': 17112,\n",
       " 'ли так просто': 26824,\n",
       " 'до windows': 19797,\n",
       " 'tde': 10767,\n",
       " 'все ли': 16388,\n",
       " 'панель инструментов google': 34529,\n",
       " 'устроиться на': 47603,\n",
       " 'оптической': 33291,\n",
       " 'jetbrains для': 6234,\n",
       " 'отображает': 34169,\n",
       " 'прошел первый': 39808,\n",
       " 'высокого уровня': 17026,\n",
       " 'конкурс html5': 25618,\n",
       " '10 заповедей': 110,\n",
       " 'подает': 36234,\n",
       " 'rb встреча ruby': 9271,\n",
       " 'кредитование': 26266,\n",
       " 'маркет для': 27382,\n",
       " 'преимуществ': 38146,\n",
       " 'печати на': 35147,\n",
       " 'charts': 2604,\n",
       " 'комнатной': 25398,\n",
       " 'console': 2962,\n",
       " 'примере ubuntu': 38643,\n",
       " 'сео': 42678,\n",
       " 'лишний': 26980,\n",
       " 'об nlp': 32002,\n",
       " 'вебкаст': 15155,\n",
       " 'для своей': 19572,\n",
       " 'на dvd': 29108,\n",
       " 'управления для': 47369,\n",
       " 'однако': 32878,\n",
       " 'часов samsung': 48952,\n",
       " 'эффективному': 50358,\n",
       " 'таки его': 45699,\n",
       " 'panel точки': 8398,\n",
       " 'cvs': 3175,\n",
       " 'на html css': 29176,\n",
       " 'надейтесь': 30251,\n",
       " 'config': 2947,\n",
       " 'на платформе': 29813,\n",
       " 'техпроцесса': 46296,\n",
       " 'автомобильной': 12664,\n",
       " 'весёлые': 15402,\n",
       " 'как вы думаете': 24022,\n",
       " 'пяти лет': 39995,\n",
       " 'ведению': 15169,\n",
       " 'платформа 2011': 35540,\n",
       " 'cogear': 2838,\n",
       " 'w215 smart': 11708,\n",
       " 'заявку на': 21800,\n",
       " 'видеозвонки': 15582,\n",
       " 'rally': 9238,\n",
       " 'конференции ruhaxe': 25828,\n",
       " 'российского рынка': 41696,\n",
       " 'google facebook': 4828,\n",
       " 'через web': 49260,\n",
       " 'pimp my': 8697,\n",
       " 'частота': 49000,\n",
       " 'банковские карты': 13665,\n",
       " '11 сентября': 247,\n",
       " 'compact': 2901,\n",
       " 'беглый': 13725,\n",
       " 'игры как': 22186,\n",
       " 'biztalk': 2258,\n",
       " 'это будет': 50267,\n",
       " 'не менее': 30833,\n",
       " 'поездки': 36543,\n",
       " 'аварийного': 12548,\n",
       " 'belong to': 2176,\n",
       " 'субд firebird': 45423,\n",
       " 'дешевых': 18550,\n",
       " 'удобства': 47038,\n",
       " 'emc xtremio': 3869,\n",
       " 'от xbox': 33716,\n",
       " 'отличная': 34123,\n",
       " 'крупное': 26404,\n",
       " 'раздают': 40363,\n",
       " 'для open': 18985,\n",
       " 'стартапах': 44910,\n",
       " 'пиратство': 35220,\n",
       " 'для сортировки': 19618,\n",
       " 'neoquest 2013': 7683,\n",
       " 'демонстрация интерфейса': 18390,\n",
       " 'обновление ios': 32421,\n",
       " 'штаб': 49868,\n",
       " 'fire': 4239,\n",
       " 'buck bunny': 2401,\n",
       " 'школа системного': 49788,\n",
       " 'google подтвердил': 4984,\n",
       " 'механизм': 27919,\n",
       " 'шрифта': 49860,\n",
       " 'против': 39666,\n",
       " 'школьного': 49803,\n",
       " 'standalone': 10434,\n",
       " 'представления': 38089,\n",
       " 'клиентскую': 25036,\n",
       " 'дрона': 20337,\n",
       " 'linkedin': 6643,\n",
       " 'aka': 1392,\n",
       " '2013 отчет': 645,\n",
       " 'на базе технологий': 29455,\n",
       " 'sql vm': 10373,\n",
       " 'по решению суда': 35945,\n",
       " 'купи': 26499,\n",
       " 'заготовка для': 21177,\n",
       " 'неттопа': 31285,\n",
       " 'гис': 17465,\n",
       " 'контенте': 25761,\n",
       " 'api рамблер карт': 1683,\n",
       " 'рынке труда': 41921,\n",
       " 'разбираться': 40273,\n",
       " 'людей часть': 27202,\n",
       " 'предновогодний': 38008,\n",
       " 'фильмов на': 48018,\n",
       " 'mining первичная': 7278,\n",
       " 'загрузки': 21200,\n",
       " 'фанатам': 47927,\n",
       " 'централизованный': 48848,\n",
       " 'хорошего тона': 48609,\n",
       " 'по разработке для': 35927,\n",
       " 'базе sinatra datamapper': 13586,\n",
       " 'вы еще': 16694,\n",
       " 'ssh доступа': 10407,\n",
       " 'следующей версии': 43425,\n",
       " 'управление загрузкой': 47334,\n",
       " 'важности': 14829,\n",
       " 'представлено': 38091,\n",
       " 'самое интересное': 42064,\n",
       " 'обзор windows azure': 32154,\n",
       " 'интернет трафика': 23342,\n",
       " 'ограбление': 32795,\n",
       " 'chicago 2012': 2621,\n",
       " 'браузера google chrome': 14497,\n",
       " 'сайта 1с': 41967,\n",
       " 'закрытыми': 21382,\n",
       " 'для установки на': 19678,\n",
       " 'итак вы всё': 23823,\n",
       " 'лазер': 26596,\n",
       " 'public beta': 9009,\n",
       " 'личные сообщения': 26962,\n",
       " 'сердца': 42824,\n",
       " 'кончились': 25918,\n",
       " 'less': 6564,\n",
       " 'блогам': 14236,\n",
       " 'ящике': 50620,\n",
       " 'анатомия': 13125,\n",
       " 'titanium': 10967,\n",
       " 'как мы строим': 24162,\n",
       " 'рабочие столы': 40201,\n",
       " 'вычислительная': 17120,\n",
       " 'digg': 3467,\n",
       " 'обратной': 32576,\n",
       " 'преобразование фурье': 38180,\n",
       " 'install': 5757,\n",
       " 'что получилось': 49577,\n",
       " 'рисовать': 41512,\n",
       " 'история компании': 23741,\n",
       " 'повышаем': 36106,\n",
       " 'двоичные': 18204,\n",
       " 'makerbot': 6922,\n",
       " 'простой пример использования': 39602,\n",
       " 'хабратопик': 48440,\n",
       " 'решению суда': 41462,\n",
       " 'просьбам': 39652,\n",
       " 'вязов для скоростных': 17229,\n",
       " 'подборка новостей игровой': 36283,\n",
       " 'release preview': 9364,\n",
       " 'для учебных': 19683,\n",
       " 'чего не хватает': 49118,\n",
       " 'дилетант': 18687,\n",
       " 'стать мэинтейнером': 45022,\n",
       " 'zabbix': 12455,\n",
       " 'снг': 43684,\n",
       " 'оригинальной': 33407,\n",
       " 'tests': 10844,\n",
       " 'свободу': 42321,\n",
       " 'случается': 43532,\n",
       " 'дня конференции': 19767,\n",
       " 'релиз microsoft small': 41327,\n",
       " 'короткие': 25992,\n",
       " 'по интернету': 35803,\n",
       " 'должны знать': 20008,\n",
       " 'переводчика': 34891,\n",
       " 'средствах': 44719,\n",
       " 'футер': 48400,\n",
       " 'поиска': 36635,\n",
       " 'разум': 40671,\n",
       " 'операционная': 33151,\n",
       " 'щит': 49910,\n",
       " 'freshtel': 4496,\n",
       " 'первое приложение для': 34760,\n",
       " 'психологические': 39890,\n",
       " 'установка расширений': 47567,\n",
       " 'samsung smarttv': 9721,\n",
       " 'тестирование веб приложений': 46132,\n",
       " 'удивительные': 47008,\n",
       " 'системы управления': 43194,\n",
       " 'для oracle': 18989,\n",
       " 'прямо браузере': 39855,\n",
       " 'user generated content': 11412,\n",
       " 'подписок': 36435,\n",
       " 'макросов': 27288,\n",
       " 'сможет': 43648,\n",
       " 'кита': 24904,\n",
       " 'требует от': 46632,\n",
       " 'прицелом': 38811,\n",
       " 'панорам': 34534,\n",
       " 'регулятор': 41126,\n",
       " 'загрузка классов': 21192,\n",
       " 'тур rad studio': 46787,\n",
       " 'тем оформления': 45940,\n",
       " 'веб страницу': 15114,\n",
       " 'server облаке': 9930,\n",
       " 'браузере': 14505,\n",
       " 'для voip': 19050,\n",
       " 'геймдизайнер': 17312,\n",
       " 'обратный отсчет': 32583,\n",
       " 'разделение': 40370,\n",
       " 'live': 6728,\n",
       " 'калейдоскоп': 24524,\n",
       " 'дайджест фото новостей': 17999,\n",
       " 'vim magic': 11548,\n",
       " 'for microsoft': 4383,\n",
       " 'россии на': 41664,\n",
       " 'actionbar на': 1265,\n",
       " 'примеры': 38665,\n",
       " 'систем apple часть': 43084,\n",
       " 'табличных': 45640,\n",
       " 'solution': 10232,\n",
       " 'приветствие': 38314,\n",
       " 'вышел kotlin': 17149,\n",
       " 'restful api': 9415,\n",
       " 'google готовит': 4933,\n",
       " 'часики': 48949,\n",
       " 'дне': 19726,\n",
       " '1с предприятия': 492,\n",
       " 'медленно': 27686,\n",
       " 'конкурс imagine': 25619,\n",
       " 'пользовательские скрипты': 37016,\n",
       " 'путь развития': 39972,\n",
       " 'трёхмерных css': 46767,\n",
       " 'заголовков': 21174,\n",
       " 'webide публичная': 11849,\n",
       " 'ru или': 9566,\n",
       " 'история visual': 23729,\n",
       " 'плагин для': 35360,\n",
       " 'node js для': 7867,\n",
       " 'работа регистрами внешних': 40057,\n",
       " 'указ': 47102,\n",
       " 'white nights': 11915,\n",
       " 'twitter вводит': 11188,\n",
       " 'thor': 10918,\n",
       " '2009 году': 553,\n",
       " 'решений для': 41459,\n",
       " 'google yahoo': 4914,\n",
       " 'кпд': 26181,\n",
       " 'дисплеем': 18765,\n",
       " 'word': 12171,\n",
       " 'политикам': 36851,\n",
       " 'долго': 19984,\n",
       " 'бету': 14047,\n",
       " 'привязкой': 38344,\n",
       " 'technologies': 10805,\n",
       " 'инструментов для создания': 23129,\n",
       " 'лень двигатель': 26712,\n",
       " 'купить': 26507,\n",
       " 'os leopard': 8299,\n",
       " 'от fujitsu': 33647,\n",
       " 'коллекциями': 25279,\n",
       " 'дистрибутива для': 18791,\n",
       " 'спама помощью': 44441,\n",
       " 'alt': 1433,\n",
       " 'снять': 43736,\n",
       " 'заполнения': 21512,\n",
       " 'на смартфоне': 30001,\n",
       " 'из них': 22405,\n",
       " 'для windows часть': 19069,\n",
       " 'google показал': 4986,\n",
       " 'windows taskbar часть': 12068,\n",
       " 'а4': 12527,\n",
       " 'пиратство часть': 35221,\n",
       " '2013 через': 649,\n",
       " 'операторов': 33143,\n",
       " 'django admin': 3533,\n",
       " 'крайне': 26188,\n",
       " 'vogue tec news': 11638,\n",
       " 'как услышать': 24437,\n",
       " 'на пк': 29807,\n",
       " 'panel точки зрения': 8399,\n",
       " 'блокировки сайтов': 14276,\n",
       " 'китайских планшетов': 24918,\n",
       " 'на проектирование': 29880,\n",
       " 'javascript функции': 6211,\n",
       " 'точке': 46535,\n",
       " 'эффект': 50339,\n",
       " 'монетизация': 28641,\n",
       " 'же ты': 20687,\n",
       " 'remix': 9370,\n",
       " 'нужен ли на': 31941,\n",
       " 'моей мечты': 28530,\n",
       " 'для людей': 19301,\n",
       " 'кода pvs': 25179,\n",
       " 'linux vacation': 6676,\n",
       " 'конец': 25587,\n",
       " 'единая': 20504,\n",
       " 'умрет': 47261,\n",
       " 'жк': 20806,\n",
       " 'мира по футболу': 28145,\n",
       " 'по вашим': 35749,\n",
       " 'сделки': 42519,\n",
       " 'gosuslugi ru': 5042,\n",
       " 'давно': 17953,\n",
       " 'факты': 47919,\n",
       " 'для создания нодового': 19615,\n",
       " 'кампус': 24574,\n",
       " 'играем': 22090,\n",
       " 'svn apache trac': 10656,\n",
       " 'на языке go': 30131,\n",
       " 'amazon elastic transcoder': 1448,\n",
       " 'конкурс проектов': 25649,\n",
       " 'не слышали': 30896,\n",
       " 'среднего': 44690,\n",
       " 'на 500': 29008,\n",
       " 'скроллинг': 43368,\n",
       " 'mad': 6886,\n",
       " 'выдержка': 16829,\n",
       " 'открытых дверей': 34083,\n",
       " 'исключений': 23506,\n",
       " 'на icamp': 29180,\n",
       " 'раз': 40246,\n",
       " 'сто': 45127,\n",
       " 'том как': 46420,\n",
       " 'ваших глазах часть': 14967,\n",
       " 'электронных': 50135,\n",
       " 'интернета на': 23348,\n",
       " 'pivotviewer': 8721,\n",
       " 'intel threading building': 5807,\n",
       " 'географические': 17379,\n",
       " 'fx': 4555,\n",
       " 'минимальной': 28075,\n",
       " 'class': 2719,\n",
       " 'street view работает': 10546,\n",
       " 'большой компании': 14406,\n",
       " 'своими руками за': 42355,\n",
       " 'политик': 36849,\n",
       " 'accessibility': 1233,\n",
       " 'slam': 10117,\n",
       " 'i386': 5493,\n",
       " 'dot': 3617,\n",
       " 'каким он': 24497,\n",
       " 'зевс': 21876,\n",
       " 'сильно': 43015,\n",
       " 'будет выглядеть': 14578,\n",
       " 'форумах': 48215,\n",
       " 'сделанном': 42487,\n",
       " 'workshop': 12189,\n",
       " 'учебника': 47714,\n",
       " 'phdays ctf': 8554,\n",
       " 'writer': 12217,\n",
       " 'обзор xperia': 32155,\n",
       " 'произошло': 39457,\n",
       " 'bash completion': 2125,\n",
       " 'выпадающие': 16895,\n",
       " 'кто что': 26467,\n",
       " 'шуток': 49901,\n",
       " 'idf': 5589,\n",
       " 'mdc desktop': 7049,\n",
       " 'завод по производству': 21150,\n",
       " 'несколько способов': 31243,\n",
       " 'становится ближе': 44846,\n",
       " 'может': 28537,\n",
       " 'скрипт мониторинга': 43347,\n",
       " 'кручу': 26427,\n",
       " 'конкретные': 25599,\n",
       " 'от opera': 33683,\n",
       " 'css селекторов': 3113,\n",
       " 'от hp': 33655,\n",
       " 'sgi indy': 9961,\n",
       " 'snow': 10184,\n",
       " 'незаметные сложности': 31056,\n",
       " 'яндекс директа': 50524,\n",
       " 'распродаже': 40818,\n",
       " 'от кражи': 33760,\n",
       " 'сбоях': 42227,\n",
       " '110': 252,\n",
       " 'для деплоя': 19198,\n",
       " 'несколько раз': 31239,\n",
       " 'whatsapp за': 11910,\n",
       " 'браузерного': 14517,\n",
       " 'os snow': 8307,\n",
       " 'хранения файлов': 48724,\n",
       " 'архитектуры часть': 13376,\n",
       " 'карьерного': 24704,\n",
       " 'ms visual': 7497,\n",
       " 'агентстве': 12741,\n",
       " 'монетизации часть': 28640,\n",
       " 'vkontakte на': 11615,\n",
       " 'сна': 43678,\n",
       " 'трудящихся': 46758,\n",
       " 'или почувствуй себя': 22814,\n",
       " 'новичок': 31469,\n",
       " 'support': 10634,\n",
       " 'системном': 43145,\n",
       " 'расширении': 40932,\n",
       " 'возглавил': 16088,\n",
       " 'javascript фреймворк': 6210,\n",
       " 'знак протеста': 21939,\n",
       " 'анализа данных яндекса': 13070,\n",
       " '73': 1123,\n",
       " 'an': 1483,\n",
       " 'конкурсе': 25667,\n",
       " 'страшно': 45276,\n",
       " 'для нагрузочного тестирования': 19342,\n",
       " 'помощью embedded visual': 37144,\n",
       " 'arduino за': 1842,\n",
       " 'ппа': 37795,\n",
       " 'сенсорных': 42656,\n",
       " 'на yet another': 29417,\n",
       " 'galaxy s5': 4583,\n",
       " 'flash flex': 4305,\n",
       " 'днем программиста': 19743,\n",
       " 'довольно': 19895,\n",
       " 'обновление на': 32434,\n",
       " 'тюрьмы за': 46839,\n",
       " 'прошлое настоящее будущее': 39831,\n",
       " 'на телефоне': 30047,\n",
       " 'pizza': 8729,\n",
       " 'мониторы': 28670,\n",
       " 'определение местоположения': 33208,\n",
       " 'который не': 26147,\n",
       " 'гитарных': 17469,\n",
       " 'кампанию': 24571,\n",
       " 'при': 38224,\n",
       " 'хорошие руки': 48616,\n",
       " 'dx': 3731,\n",
       " 'на java для': 29206,\n",
       " 'ушли на': 47799,\n",
       " 'конструктор lego': 25697,\n",
       " 'инноваций сколково': 23060,\n",
       " '15 21 сентября': 350,\n",
       " 'скриншоты': 43344,\n",
       " 'приложение по': 38480,\n",
       " 'бренда': 14539,\n",
       " 'автоматизация бизнес процессов': 12599,\n",
       " 'противостояние hp oracle': 39686,\n",
       " 'отправляются': 34205,\n",
       " 'pyramid для людей': 9063,\n",
       " 'расширенного': 40952,\n",
       " 'быть менеджером': 14776,\n",
       " 'на phpconf 2008': 29297,\n",
       " 'дизайн интерфейсов': 18639,\n",
       " 'тонкие клиенты': 46441,\n",
       " 'экономическая': 49966,\n",
       " 'админка': 12791,\n",
       " 'linux за': 6684,\n",
       " 'linq to xml': 6653,\n",
       " 'гаджеты от': 17243,\n",
       " 'браузер': 14486,\n",
       " 'акции': 12933,\n",
       " 'active directory change': 1273,\n",
       " 'точки': 46536,\n",
       " 'path': 8446,\n",
       " 'поменяла': 37068,\n",
       " 'интернет стартапов': 23338,\n",
       " 'windows на': 12101,\n",
       " 'конфигуратор': 25871,\n",
       " 'игр за': 22071,\n",
       " 'часовых поясах': 48965,\n",
       " 'традиционный': 46558,\n",
       " 'новый адрес': 31670,\n",
       " 'по сетям': 35964,\n",
       " 'failoverconf украина': 4142,\n",
       " 'проектных': 39369,\n",
       " 'pos': 8831,\n",
       " 'google добавляет': 4938,\n",
       " 'простота': 39615,\n",
       " 'сетевое хранилище': 42899,\n",
       " 'предоставил': 38010,\n",
       " 'международной космической': 27718,\n",
       " 'камера': 24553,\n",
       " 'под себя': 36222,\n",
       " 'звук': 21839,\n",
       " 'информационных систем': 23453,\n",
       " 'какую систему': 24522,\n",
       " 'just for fun': 6341,\n",
       " 'подключайтесь': 36388,\n",
       " 'повышаем надежность': 36110,\n",
       " 'новый сезон': 31745,\n",
       " 'стоимость': 45134,\n",
       " 'самолет solar': 42069,\n",
       " 'помощью nginx': 37162,\n",
       " 'blogger': 2295,\n",
       " 'том что': 46428,\n",
       " 'ideapad yoga': 5587,\n",
       " 'чемпионат мира': 49206,\n",
       " 'детектор': 18513,\n",
       " 'ходы': 48577,\n",
       " 'суд признал': 45444,\n",
       " 'reality': 9315,\n",
       " 'hadoop': 5178,\n",
       " 'на 17': 28982,\n",
       " 'история проекта': 23758,\n",
       " 'до его': 19801,\n",
       " 'принтерах': 38714,\n",
       " 'почему нужно': 37677,\n",
       " 'prism': 8908,\n",
       " 'кросскомпиляция': 26355,\n",
       " 'правила игры': 37827,\n",
       " 'по созданию сайтов': 35968,\n",
       " 'русской википедии': 41868,\n",
       " 'играет': 22092,\n",
       " 'документации php': 19958,\n",
       " '15 00': 346,\n",
       " 'oracle 10g': 8247,\n",
       " 'wifi на': 11940,\n",
       " 'naga': 7625,\n",
       " 'чем отличаются': 49191,\n",
       " 'fedora linux': 4183,\n",
       " 'официальный': 34321,\n",
       " 'seafile': 9840,\n",
       " 'теория': 45999,\n",
       " 'книга по': 25090,\n",
       " 'enlarge your': 3902,\n",
       " 'столик': 45167,\n",
       " 'синтаксис для': 43049,\n",
       " 'решение для': 41444,\n",
       " 'travis ci': 11133,\n",
       " 'sup': 10630,\n",
       " 'создавал свой бизнес': 43980,\n",
       " 'заголовке окна': 21172,\n",
       " 'струйных': 45339,\n",
       " 'xss уязвимость': 12363,\n",
       " 'different': 3463,\n",
       " 'незаметные': 31055,\n",
       " 'дурацкие': 20409,\n",
       " 'интерактивных карт': 23191,\n",
       " 'php5 fpm': 8649,\n",
       " 'виджета для': 15684,\n",
       " 'речи asterisk': 41426,\n",
       " 'omnia': 8082,\n",
       " 'powerup': 8869,\n",
       " 'иностранного': 23075,\n",
       " 'тест на знание': 46103,\n",
       " 'отмечает': 34156,\n",
       " 'microsoft sharepoint': 7184,\n",
       " 'системным администратором пособие': 43156,\n",
       " 'отправителя': 34186,\n",
       " 'король': 25988,\n",
       " 'valve выпустила': 11469,\n",
       " 'колобок': 25280,\n",
       " 'ориентированный подход': 33426,\n",
       " 'нажатию': 30268,\n",
       " 'ультрабука fujitsu': 47180,\n",
       " 'пароли': 34605,\n",
       " 'провода': 38976,\n",
       " 'выходит из': 17096,\n",
       " 'почему нет': 37676,\n",
       " 'сложная': 43480,\n",
       " '13 19 октября': 309,\n",
       " 'вашем сайте': 14955,\n",
       " 'kali': 6351,\n",
       " 'материалов июль': 27549,\n",
       " 'автоматического': 12631,\n",
       " 'об аспирантуре сша': 32009,\n",
       " 'почты от': 37743,\n",
       " 'от stanford': 33704,\n",
       " 'sleep': 10121,\n",
       " 'исполнилось 25': 23550,\n",
       " 'мировым': 28175,\n",
       " 'привязка': 38341,\n",
       " 'апдейт': 13264,\n",
       " 'обзор twitter клиентов': 32150,\n",
       " 'запись': 21495,\n",
       " 'шаге': 49699,\n",
       " 'tiff': 10939,\n",
       " 'наследие': 30486,\n",
       " 'skype': 10091,\n",
       " 'days 2008': 3244,\n",
       " 'обращений': 32587,\n",
       " 'краткий экскурс': 26224,\n",
       " 'правами': 37809,\n",
       " 'через веб': 49267,\n",
       " 'инди геймдева': 22991,\n",
       " 'заметили': 21405,\n",
       " '12 лет': 281,\n",
       " 'большинство': 14378,\n",
       " 'интересные': 23241,\n",
       " 'парольной': 34611,\n",
       " 'images': 5647,\n",
       " 'газета foss news': 17249,\n",
       " 'бэкапа': 14790,\n",
       " 'автомобильный': 12666,\n",
       " 'орфографии': 33432,\n",
       " 'telecitygroup': 10816,\n",
       " 'визуализации': 15709,\n",
       " 'проблемы при': 38915,\n",
       " 'nokia developer days': 7887,\n",
       " 'бот для игры': 14446,\n",
       " 'маркерная доска': 27379,\n",
       " 'перчатки': 35104,\n",
       " 'вкусно': 15886,\n",
       " '10 android': 87,\n",
       " 'android на примере': 1556,\n",
       " 'отмазок': 34141,\n",
       " 'нейронным сетям': 31080,\n",
       " 'чехол': 49352,\n",
       " 'microsoft all in': 7151,\n",
       " 'android приложений помощью': 1581,\n",
       " 'grails jquery ajax': 5072,\n",
       " 'сделать прибыльной разработку': 42503,\n",
       " 'планете': 35400,\n",
       " 'studio теперь': 10590,\n",
       " 'сообществ': 44239,\n",
       " 'вопросов': 16205,\n",
       " 'it за последнюю': 6048,\n",
       " 'как боролся': 23989,\n",
       " 'lynx': 6839,\n",
       " 'на сенсорных': 29981,\n",
       " 'яндекс браузера': 50513,\n",
       " 'статически': 44999,\n",
       " 'для планшета': 19435,\n",
       " 'конкурса стартапов': 25664,\n",
       " 'texas instruments': 10849,\n",
       " 'derby пример': 3358,\n",
       " 'любим': 27141,\n",
       " 'джейсон': 18566,\n",
       " 'на asp net': 29046,\n",
       " 'управляем': 47396,\n",
       " 'рейтинг top': 41230,\n",
       " 'сборка настройка': 42208,\n",
       " 'млрд': 28225,\n",
       " 'mysqli': 7611,\n",
       " 'маленький мире': 27318,\n",
       " 'на помощью tdd': 29840,\n",
       " 'окно': 32976,\n",
       " 'соль': 44215,\n",
       " 'создание системы': 44092,\n",
       " 'ssd накопители': 10404,\n",
       " 'разработка кроссплатформенных мобильных': 40494,\n",
       " 'busyindicator': 2432,\n",
       " 'будущей': 14639,\n",
       " 'после смерти': 37402,\n",
       " 'quals': 9154,\n",
       " 'бдительны': 13722,\n",
       " 'уязвимости': 47810,\n",
       " '10 для windows': 106,\n",
       " 'aggregation': 1353,\n",
       " 'разрешений': 40656,\n",
       " 'trove': 11151,\n",
       " 'печатает': 35142,\n",
       " 'меня не': 27790,\n",
       " 'pocketbook 360': 8791,\n",
       " 'невозможно поддерживать': 30969,\n",
       " 'популярности': 37265,\n",
       " 'дыра': 20419,\n",
       " 'использования часть': 23629,\n",
       " 'humble indie': 5472,\n",
       " 'блоггер': 14239,\n",
       " 'факториала': 47913,\n",
       " '1985': 462,\n",
       " 'выполнения заданий': 16909,\n",
       " 'ubuntu edge': 11246,\n",
       " 'rutracker': 9643,\n",
       " 'гарварде': 17271,\n",
       " 'trac для windows': 11096,\n",
       " 'detection': 3375,\n",
       " 'место встречи': 27831,\n",
       " 'компании помощью': 25426,\n",
       " 'британии': 14545,\n",
       " 'будущее глазами': 14626,\n",
       " 'репликация данных': 41375,\n",
       " 'контейнере': 25730,\n",
       " 'mailbox': 6913,\n",
       " 'или как стать': 22748,\n",
       " 'коды': 25229,\n",
       " '99': 1188,\n",
       " 'pearl': 8497,\n",
       " 'кардридер': 24619,\n",
       " 'livejournal': 6736,\n",
       " 'глазами разработчика': 17522,\n",
       " 'страшная': 45275,\n",
       " 'naumen': 7669,\n",
       " 'загрузки windows': 21201,\n",
       " 'рекурсии': 41305,\n",
       " 'fpm на': 4437,\n",
       " 'классические': 24968,\n",
       " 'vi': 11524,\n",
       " 'qip infium': 9099,\n",
       " 'учетные записи': 47744,\n",
       " 'со стороны сервера': 43774,\n",
       " 'системный подход': 43153,\n",
       " 'марко': 27403,\n",
       " 'google открывает': 4975,\n",
       " 'шрифтом': 49864,\n",
       " 'поиск для': 36608,\n",
       " 'мейнфрейм': 27739,\n",
       " 'шрифтов': 49862,\n",
       " 'видеоочки': 15645,\n",
       " 'html css js': 5412,\n",
       " 'komodo edit': 6448,\n",
       " 'штрафы': 49882,\n",
       " 'премии рунета': 38170,\n",
       " 'на электронные': 30116,\n",
       " 'стива баллмера': 45090,\n",
       " 'борьба': 14432,\n",
       " 'декларация': 18300,\n",
       " 'brainwashing': 2368,\n",
       " 'по петиции об': 35882,\n",
       " 'экстремальное программирование': 50052,\n",
       " 'куба': 26470,\n",
       " 'nord': 7923,\n",
       " 'гонки на': 17678,\n",
       " 'на раз два': 29904,\n",
       " 'ноутбук двумя': 31872,\n",
       " 'объявления': 32736,\n",
       " 'приоритизация или': 38766,\n",
       " 'мечта или реальность': 27938,\n",
       " 'mailto': 6915,\n",
       " 'летняя школа intel': 26762,\n",
       " 'русский язык': 41854,\n",
       " 'lsi': 6795,\n",
       " 'asic': 1882,\n",
       " 'черкашин': 49291,\n",
       " 'три недели': 46709,\n",
       " 'системный блок': 43152,\n",
       " 'система разделения': 43112,\n",
       " 'фиксированной': 48003,\n",
       " 'глобалы mumps экстремальное': 17533,\n",
       " 'частных': 48991,\n",
       " 'школа': 49780,\n",
       " 'тест мобильного': 46101,\n",
       " 'настольных компьютеров': 30505,\n",
       " 'за день': 20944,\n",
       " 'кабельной': 23918,\n",
       " 'телефонных звонков': 45922,\n",
       " 'на досуге': 29567,\n",
       " 'the dude': 10875,\n",
       " 'javascript meetup': 6189,\n",
       " 'сделать так': 42507,\n",
       " 'планшета acer': 35442,\n",
       " 'зоопарк': 22033,\n",
       " ...}"
      ]
     },
     "execution_count": 20,
     "metadata": {},
     "output_type": "execute_result"
    }
   ],
   "source": [
    "#Можно посмотреть словарь в виде {'термин': индекс признака,...}\n",
    "vectorizer_title.vocabulary_"
   ]
  },
  {
   "cell_type": "code",
   "execution_count": 21,
   "metadata": {
    "collapsed": false
   },
   "outputs": [
    {
     "data": {
      "text/plain": [
       "50624"
      ]
     },
     "execution_count": 21,
     "metadata": {},
     "output_type": "execute_result"
    }
   ],
   "source": [
    "len(vectorizer_title.vocabulary_)"
   ]
  },
  {
   "cell_type": "markdown",
   "metadata": {},
   "source": [
    "<font color='red'>Вопрос 4.</font> Какой индекс у слова 'python'?\n",
    "- 1\n",
    "- 10\n",
    "- 9065\n",
    "- 15679"
   ]
  },
  {
   "cell_type": "code",
   "execution_count": 24,
   "metadata": {
    "collapsed": false
   },
   "outputs": [
    {
     "data": {
      "text/plain": [
       "9065"
      ]
     },
     "execution_count": 24,
     "metadata": {},
     "output_type": "execute_result"
    }
   ],
   "source": [
    "vectorizer_title.vocabulary_['python']"
   ]
  },
  {
   "cell_type": "markdown",
   "metadata": {},
   "source": [
    "**Инициализируйте TfidfVectorizer, указав analyzer='char'.<br />\n",
    "Примените метод fit_transform к X_train['title'] и метод transform к X_valid['title'] и X_test['title']**"
   ]
  },
  {
   "cell_type": "markdown",
   "metadata": {},
   "source": [
    "<font color='red'>Вопрос 5.</font> Какой размер у полученного словаря?\n",
    "- 218\n",
    "- 510\n",
    "- 125\n",
    "- 981"
   ]
  },
  {
   "cell_type": "code",
   "execution_count": null,
   "metadata": {
    "collapsed": true
   },
   "outputs": [],
   "source": [
    "vectorizer_title_ch = #ваш код здесь\n",
    "\n",
    "X_train_title_ch = #...\n",
    "X_valid_title_ch = #...\n",
    "X_test_title_ch = #..."
   ]
  },
  {
   "cell_type": "code",
   "execution_count": null,
   "metadata": {
    "collapsed": false
   },
   "outputs": [],
   "source": [
    "#Здесь так же можно посмотреть словарь\n",
    "#Заметьте насколько отличаются словари для TfidfVectorizer с analyzer='word' и analyzer='char'\n",
    "vectorizer_title_ch.vocabulary_"
   ]
  },
  {
   "cell_type": "code",
   "execution_count": 28,
   "metadata": {
    "collapsed": false
   },
   "outputs": [],
   "source": [
    "vectorizer_title = TfidfVectorizer(analyzer='char')\n",
    "\n",
    "X_train_title = vectorizer_title.fit_transform(X_train['title'])\n",
    "#X_valid_title = #и тут тоже\n",
    "#X_test_title = #и тут\n",
    "X_valid_title = vectorizer_title.transform(X_valid['title'])\n",
    "X_test_title = vectorizer_title.transform(X_test['title'])"
   ]
  },
  {
   "cell_type": "code",
   "execution_count": 29,
   "metadata": {
    "collapsed": false
   },
   "outputs": [
    {
     "data": {
      "text/plain": [
       "(93895, 218)"
      ]
     },
     "execution_count": 29,
     "metadata": {},
     "output_type": "execute_result"
    }
   ],
   "source": [
    "X_train_title.shape"
   ]
  },
  {
   "cell_type": "code",
   "execution_count": 30,
   "metadata": {
    "collapsed": false
   },
   "outputs": [
    {
     "data": {
      "text/plain": [
       "218"
      ]
     },
     "execution_count": 30,
     "metadata": {},
     "output_type": "execute_result"
    }
   ],
   "source": [
    "len(vectorizer_title.vocabulary_)"
   ]
  },
  {
   "cell_type": "markdown",
   "metadata": {},
   "source": [
    "## Работа с категориальными признаками\n",
    "\n",
    "Для обработки категориальных признаков 'author', 'flow', 'domain' мы будем использовать DictVectorizer из sklearn."
   ]
  },
  {
   "cell_type": "code",
   "execution_count": null,
   "metadata": {
    "collapsed": false,
    "scrolled": true
   },
   "outputs": [],
   "source": [
    "feats = ['author', 'flow', 'domain']\n",
    "X_train[feats][:5]"
   ]
  },
  {
   "cell_type": "markdown",
   "metadata": {},
   "source": [
    "Рассмотрим как он работает на примере первых пяти строк"
   ]
  },
  {
   "cell_type": "code",
   "execution_count": null,
   "metadata": {
    "collapsed": false
   },
   "outputs": [],
   "source": [
    "#сначала заполняем пропуски прочерком\n",
    "X_train[feats][:5].fillna('-')"
   ]
  },
  {
   "cell_type": "code",
   "execution_count": null,
   "metadata": {
    "collapsed": false
   },
   "outputs": [],
   "source": [
    "#Преобразуем датафрейм в словарь, где ключами являются индексы объектов (именно для этого мы транспонировали датафрейм),\n",
    "#а значениями являются словари в виде 'название_колонки':'значение'\n",
    "X_train[feats][:5].fillna('-').T.to_dict()"
   ]
  },
  {
   "cell_type": "code",
   "execution_count": null,
   "metadata": {
    "collapsed": false
   },
   "outputs": [],
   "source": [
    "#В DictVectorizer нам нужно будет передать список словарей для каждого объекта в виде 'название_колонки':'значение',\n",
    "#поэтому используем .values()\n",
    "X_train[feats][:5].fillna('-').T.to_dict().values()"
   ]
  },
  {
   "cell_type": "code",
   "execution_count": null,
   "metadata": {
    "collapsed": false
   },
   "outputs": [],
   "source": [
    "#В итоге получается разреженная матрица\n",
    "dict_vect = DictVectorizer()\n",
    "dict_vect_matrix = dict_vect.fit_transform(X_train[feats][:5].fillna('-').T.to_dict().values())\n",
    "dict_vect_matrix"
   ]
  },
  {
   "cell_type": "code",
   "execution_count": null,
   "metadata": {
    "collapsed": false
   },
   "outputs": [],
   "source": [
    "#Но можно преобразовать ее в numpy array с помощью .toarray()\n",
    "dict_vect_matrix.toarray()"
   ]
  },
  {
   "cell_type": "code",
   "execution_count": null,
   "metadata": {
    "collapsed": false
   },
   "outputs": [],
   "source": [
    "#В получившейся матрице 5 строк (по числу объектов) и 9 столбцов\n",
    "#Далее разберемся почему колонок именно 9\n",
    "dict_vect_matrix.shape"
   ]
  },
  {
   "cell_type": "markdown",
   "metadata": {},
   "source": [
    "Посмотрим сколько уникальных значений в каждой колонке.<br />\n",
    "Суммарно их 9 - столько же, сколько и колонок. Это объясняется тем, что для категориальных признаков со строковыми значениями DictVectorizer делает кодирование бинарными признаками - каждому уникальному значению признака соответствует один новый бинарный признак, который равен 1 только в том случае, если в исходной матрице этот признак принимает значение, которому соответствует эта колонка новой матрицы."
   ]
  },
  {
   "cell_type": "code",
   "execution_count": null,
   "metadata": {
    "collapsed": false
   },
   "outputs": [],
   "source": [
    "for col in feats:\n",
    "    print(col,len(X_train[col][:5].fillna('-').unique()))"
   ]
  },
  {
   "cell_type": "markdown",
   "metadata": {},
   "source": [
    "Также можно посмотреть что означает каждая колонка полученной матрицы"
   ]
  },
  {
   "cell_type": "code",
   "execution_count": null,
   "metadata": {
    "collapsed": false
   },
   "outputs": [],
   "source": [
    "#например, самая первая колонка называется 'author=@DezmASter' - то есть принимает значение 1 только если автор @DezmASter\n",
    "dict_vect.feature_names_"
   ]
  },
  {
   "cell_type": "markdown",
   "metadata": {},
   "source": [
    "**Инициализируйте DictVectorizer с параметрами по умолчанию.<br />\n",
    "Примените метод fit_transform к признакам 'author', 'flow', 'domain' X_train и метод transform к тем же признакам X_valid и X_test**"
   ]
  },
  {
   "cell_type": "code",
   "execution_count": null,
   "metadata": {
    "collapsed": true
   },
   "outputs": [],
   "source": [
    "vectorizer_feats = #ваш код здесь\n",
    "\n",
    "X_train_feats = #...\n",
    "X_valid_feats = #...\n",
    "X_test_feats = #..."
   ]
  },
  {
   "cell_type": "code",
   "execution_count": null,
   "metadata": {
    "collapsed": false
   },
   "outputs": [],
   "source": [
    "X_train_feats.shape"
   ]
  },
  {
   "cell_type": "markdown",
   "metadata": {},
   "source": [
    "Соединим все полученные матрицы при помощи scipy.sparse.hstack()"
   ]
  },
  {
   "cell_type": "code",
   "execution_count": null,
   "metadata": {
    "collapsed": false
   },
   "outputs": [],
   "source": [
    "X_train_new = scipy.sparse.hstack([X_train_title, X_train_feats, X_train_title_ch])\n",
    "X_valid_new = scipy.sparse.hstack([X_valid_title, X_valid_feats, X_valid_title_ch])\n",
    "X_test_new =  scipy.sparse.hstack([X_test_title, X_test_feats, X_test_title_ch])"
   ]
  },
  {
   "cell_type": "markdown",
   "metadata": {},
   "source": [
    "## Обучение модели\n",
    "\n",
    "Далее будем использовать Ridge, линейную модель с l2-регуляризацией.\n",
    "[Документация](http://scikit-learn.org/stable/modules/generated/sklearn.linear_model.Ridge.html)\n",
    "\n",
    "Основной параметр Ridge - **alpha, коэффициент регуляризации**. Регуляризация используется для улучшения обобщающей способности модели - прибавляя к функционалу потерь сумму квадратов весов, умноженную на коэффициент регуляризации (та самая alpha), мы штрафуем модель за слишком большие значения весов и не позволяем ей переобучаться. Чем больше этот коээфициент, тем сильнее эффект."
   ]
  },
  {
   "cell_type": "markdown",
   "metadata": {},
   "source": [
    "**Обучите две модели на X_train_new, y_train, задав в первой alpha=0.1 и random_state = 1, а во второй alpha=1.0 и random_state = 1**\n",
    "\n",
    "**Рассчитайте среднеквадратичную ошибку каждой модели (mean_squared_error). Сравните значения ошибки на обучающей и тестовой выборках и ответьте на вопросы.**"
   ]
  },
  {
   "cell_type": "markdown",
   "metadata": {},
   "source": [
    "<font color='red'>Вопрос 6.</font> Выберите верные утверждения:\n",
    "- обе модели показывают одинаковый результат (среднеквадратичная ошибка отличается не больше чем на тысячные), регуляризация ничего не меняет\n",
    "- при alpha=0.1 модель переобучается\n",
    "- среднеквадратичная ошибка первой модели на тесте меньше\n",
    "- при alpha=1.0 у модели обощающая способность лучше, чем у при alpha=0.1"
   ]
  },
  {
   "cell_type": "code",
   "execution_count": null,
   "metadata": {
    "collapsed": false,
    "scrolled": true
   },
   "outputs": [],
   "source": [
    "%%time\n",
    "model1 = #ваш код здесь\n",
    "#здесь тоже ваш код"
   ]
  },
  {
   "cell_type": "code",
   "execution_count": null,
   "metadata": {
    "collapsed": false
   },
   "outputs": [],
   "source": [
    "train_preds1 = model1.predict(X_train_new)\n",
    "valid_preds1 = model1.predict(X_valid_new)\n",
    "\n",
    "print('Ошибка на трейне',mean_squared_error(y_train, train_preds1))\n",
    "print('Ошибка на тесте',mean_squared_error(y_valid, valid_preds1))"
   ]
  },
  {
   "cell_type": "code",
   "execution_count": null,
   "metadata": {
    "collapsed": false
   },
   "outputs": [],
   "source": [
    "%%time\n",
    "model2 = #ваш код здесь\n",
    "#здесь тоже ваш код"
   ]
  },
  {
   "cell_type": "code",
   "execution_count": null,
   "metadata": {
    "collapsed": false
   },
   "outputs": [],
   "source": [
    "train_preds2 = model2.predict(X_train_new)\n",
    "valid_preds2 = model2.predict(X_valid_new)\n",
    "\n",
    "print('Ошибка на трейне',mean_squared_error(y_train, train_preds2))\n",
    "print('Ошибка на тесте',mean_squared_error(y_valid, valid_preds2))"
   ]
  },
  {
   "cell_type": "markdown",
   "metadata": {},
   "source": [
    "## Baseline\n",
    "\n",
    "**Теперь попытаемся получить бейзлайн для соревования - используйте Ridge с параметрами по умолчанию и обучите модель на всех данных - соедините X_train_new X_valid_new (используйте scipy.sparse.vstack()), а целевой переменной будет y.**"
   ]
  },
  {
   "cell_type": "code",
   "execution_count": null,
   "metadata": {
    "collapsed": false
   },
   "outputs": [],
   "source": [
    "%%time\n",
    "model = #ваш код здесь\n",
    "\n",
    "#обучите модель на всех данных\n",
    "\n",
    "test_preds = model.predict(X_test_new)"
   ]
  },
  {
   "cell_type": "code",
   "execution_count": null,
   "metadata": {
    "collapsed": true
   },
   "outputs": [],
   "source": [
    "sample_submission = pd.read_csv('sample_submission.csv', index_col='url')"
   ]
  },
  {
   "cell_type": "code",
   "execution_count": null,
   "metadata": {
    "collapsed": false
   },
   "outputs": [],
   "source": [
    "sample_submission.head()"
   ]
  },
  {
   "cell_type": "code",
   "execution_count": null,
   "metadata": {
    "collapsed": false
   },
   "outputs": [],
   "source": [
    "ridge_submission = sample_submission.copy()\n",
    "ridge_submission['favs_lognorm'] = test_preds\n",
    "ridge_submission.to_csv('ridge_baseline.csv') #а вот и бейзлайн"
   ]
  }
 ],
 "metadata": {
  "anaconda-cloud": {},
  "kernelspec": {
   "display_name": "Python [default]",
   "language": "python",
   "name": "python3"
  },
  "language_info": {
   "codemirror_mode": {
    "name": "ipython",
    "version": 3
   },
   "file_extension": ".py",
   "mimetype": "text/x-python",
   "name": "python",
   "nbconvert_exporter": "python",
   "pygments_lexer": "ipython3",
   "version": "3.5.2"
  }
 },
 "nbformat": 4,
 "nbformat_minor": 0
}
