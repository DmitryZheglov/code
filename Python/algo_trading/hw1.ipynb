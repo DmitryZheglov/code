{
 "cells": [
  {
   "cell_type": "code",
   "execution_count": 56,
   "metadata": {
    "collapsed": true
   },
   "outputs": [],
   "source": [
    "import pandas as pd\n",
    "import numpy as np\n",
    "import matplotlib.pyplot as plt"
   ]
  },
  {
   "cell_type": "code",
   "execution_count": 19,
   "metadata": {
    "collapsed": false
   },
   "outputs": [],
   "source": [
    "data = pd.read_csv('data/usdrub.csv')"
   ]
  },
  {
   "cell_type": "code",
   "execution_count": 20,
   "metadata": {
    "collapsed": false
   },
   "outputs": [
    {
     "name": "stdout",
     "output_type": "stream",
     "text": [
      "1231\n"
     ]
    },
    {
     "data": {
      "text/html": [
       "<div>\n",
       "<table border=\"1\" class=\"dataframe\">\n",
       "  <thead>\n",
       "    <tr style=\"text-align: right;\">\n",
       "      <th></th>\n",
       "      <th>&lt;DATE&gt;</th>\n",
       "      <th>&lt;TIME&gt;</th>\n",
       "      <th>&lt;OPEN&gt;</th>\n",
       "      <th>&lt;HIGH&gt;</th>\n",
       "      <th>&lt;LOW&gt;</th>\n",
       "      <th>&lt;CLOSE&gt;</th>\n",
       "      <th>&lt;VOL&gt;</th>\n",
       "    </tr>\n",
       "  </thead>\n",
       "  <tbody>\n",
       "    <tr>\n",
       "      <th>0</th>\n",
       "      <td>04/13/09</td>\n",
       "      <td>0</td>\n",
       "      <td>33.5200</td>\n",
       "      <td>33.5200</td>\n",
       "      <td>33.435</td>\n",
       "      <td>33.4500</td>\n",
       "      <td>395168000</td>\n",
       "    </tr>\n",
       "    <tr>\n",
       "      <th>1</th>\n",
       "      <td>04/14/09</td>\n",
       "      <td>0</td>\n",
       "      <td>33.3155</td>\n",
       "      <td>33.4300</td>\n",
       "      <td>33.300</td>\n",
       "      <td>33.3476</td>\n",
       "      <td>800589000</td>\n",
       "    </tr>\n",
       "    <tr>\n",
       "      <th>2</th>\n",
       "      <td>04/15/09</td>\n",
       "      <td>0</td>\n",
       "      <td>33.4700</td>\n",
       "      <td>33.4885</td>\n",
       "      <td>33.320</td>\n",
       "      <td>33.3300</td>\n",
       "      <td>772763000</td>\n",
       "    </tr>\n",
       "    <tr>\n",
       "      <th>3</th>\n",
       "      <td>04/16/09</td>\n",
       "      <td>0</td>\n",
       "      <td>33.4454</td>\n",
       "      <td>33.4545</td>\n",
       "      <td>33.360</td>\n",
       "      <td>33.3950</td>\n",
       "      <td>745191000</td>\n",
       "    </tr>\n",
       "    <tr>\n",
       "      <th>4</th>\n",
       "      <td>04/17/09</td>\n",
       "      <td>0</td>\n",
       "      <td>33.4800</td>\n",
       "      <td>33.4800</td>\n",
       "      <td>33.388</td>\n",
       "      <td>33.4200</td>\n",
       "      <td>1017453000</td>\n",
       "    </tr>\n",
       "  </tbody>\n",
       "</table>\n",
       "</div>"
      ],
      "text/plain": [
       "     <DATE>  <TIME>   <OPEN>   <HIGH>   <LOW>  <CLOSE>       <VOL>\n",
       "0  04/13/09       0  33.5200  33.5200  33.435  33.4500   395168000\n",
       "1  04/14/09       0  33.3155  33.4300  33.300  33.3476   800589000\n",
       "2  04/15/09       0  33.4700  33.4885  33.320  33.3300   772763000\n",
       "3  04/16/09       0  33.4454  33.4545  33.360  33.3950   745191000\n",
       "4  04/17/09       0  33.4800  33.4800  33.388  33.4200  1017453000"
      ]
     },
     "execution_count": 20,
     "metadata": {},
     "output_type": "execute_result"
    }
   ],
   "source": [
    "print(len(data))\n",
    "data.head()"
   ]
  },
  {
   "cell_type": "code",
   "execution_count": 21,
   "metadata": {
    "collapsed": true
   },
   "outputs": [],
   "source": [
    "dates = pd.to_datetime(data['<DATE>'])"
   ]
  },
  {
   "cell_type": "code",
   "execution_count": 22,
   "metadata": {
    "collapsed": false,
    "scrolled": true
   },
   "outputs": [
    {
     "data": {
      "text/html": [
       "<div>\n",
       "<table border=\"1\" class=\"dataframe\">\n",
       "  <thead>\n",
       "    <tr style=\"text-align: right;\">\n",
       "      <th></th>\n",
       "      <th>&lt;DATE&gt;</th>\n",
       "      <th>&lt;TIME&gt;</th>\n",
       "      <th>&lt;OPEN&gt;</th>\n",
       "      <th>&lt;HIGH&gt;</th>\n",
       "      <th>&lt;LOW&gt;</th>\n",
       "      <th>&lt;CLOSE&gt;</th>\n",
       "      <th>&lt;VOL&gt;</th>\n",
       "      <th>Year</th>\n",
       "      <th>Month</th>\n",
       "      <th>Day</th>\n",
       "      <th>Weekday</th>\n",
       "    </tr>\n",
       "  </thead>\n",
       "  <tbody>\n",
       "    <tr>\n",
       "      <th>0</th>\n",
       "      <td>04/13/09</td>\n",
       "      <td>0</td>\n",
       "      <td>33.5200</td>\n",
       "      <td>33.5200</td>\n",
       "      <td>33.435</td>\n",
       "      <td>33.4500</td>\n",
       "      <td>395168000</td>\n",
       "      <td>2009</td>\n",
       "      <td>4</td>\n",
       "      <td>13</td>\n",
       "      <td>0</td>\n",
       "    </tr>\n",
       "    <tr>\n",
       "      <th>1</th>\n",
       "      <td>04/14/09</td>\n",
       "      <td>0</td>\n",
       "      <td>33.3155</td>\n",
       "      <td>33.4300</td>\n",
       "      <td>33.300</td>\n",
       "      <td>33.3476</td>\n",
       "      <td>800589000</td>\n",
       "      <td>2009</td>\n",
       "      <td>4</td>\n",
       "      <td>14</td>\n",
       "      <td>1</td>\n",
       "    </tr>\n",
       "    <tr>\n",
       "      <th>2</th>\n",
       "      <td>04/15/09</td>\n",
       "      <td>0</td>\n",
       "      <td>33.4700</td>\n",
       "      <td>33.4885</td>\n",
       "      <td>33.320</td>\n",
       "      <td>33.3300</td>\n",
       "      <td>772763000</td>\n",
       "      <td>2009</td>\n",
       "      <td>4</td>\n",
       "      <td>15</td>\n",
       "      <td>2</td>\n",
       "    </tr>\n",
       "    <tr>\n",
       "      <th>3</th>\n",
       "      <td>04/16/09</td>\n",
       "      <td>0</td>\n",
       "      <td>33.4454</td>\n",
       "      <td>33.4545</td>\n",
       "      <td>33.360</td>\n",
       "      <td>33.3950</td>\n",
       "      <td>745191000</td>\n",
       "      <td>2009</td>\n",
       "      <td>4</td>\n",
       "      <td>16</td>\n",
       "      <td>3</td>\n",
       "    </tr>\n",
       "    <tr>\n",
       "      <th>4</th>\n",
       "      <td>04/17/09</td>\n",
       "      <td>0</td>\n",
       "      <td>33.4800</td>\n",
       "      <td>33.4800</td>\n",
       "      <td>33.388</td>\n",
       "      <td>33.4200</td>\n",
       "      <td>1017453000</td>\n",
       "      <td>2009</td>\n",
       "      <td>4</td>\n",
       "      <td>17</td>\n",
       "      <td>4</td>\n",
       "    </tr>\n",
       "  </tbody>\n",
       "</table>\n",
       "</div>"
      ],
      "text/plain": [
       "     <DATE>  <TIME>   <OPEN>   <HIGH>   <LOW>  <CLOSE>       <VOL>  Year  \\\n",
       "0  04/13/09       0  33.5200  33.5200  33.435  33.4500   395168000  2009   \n",
       "1  04/14/09       0  33.3155  33.4300  33.300  33.3476   800589000  2009   \n",
       "2  04/15/09       0  33.4700  33.4885  33.320  33.3300   772763000  2009   \n",
       "3  04/16/09       0  33.4454  33.4545  33.360  33.3950   745191000  2009   \n",
       "4  04/17/09       0  33.4800  33.4800  33.388  33.4200  1017453000  2009   \n",
       "\n",
       "   Month  Day  Weekday  \n",
       "0      4   13        0  \n",
       "1      4   14        1  \n",
       "2      4   15        2  \n",
       "3      4   16        3  \n",
       "4      4   17        4  "
      ]
     },
     "execution_count": 22,
     "metadata": {},
     "output_type": "execute_result"
    }
   ],
   "source": [
    "data['Year'] = dates.apply(lambda x: x.year)\n",
    "data['Month'] = dates.apply(lambda x: x.month)\n",
    "data['Day'] = dates.apply(lambda x: x.day)\n",
    "data['Weekday'] = dates.apply(lambda x: x.weekday())"
   ]
  },
  {
   "cell_type": "code",
   "execution_count": 49,
   "metadata": {
    "collapsed": false
   },
   "outputs": [],
   "source": [
    "data = data.rename(index=str,columns={'<OPEN>':'open','<HIGH>':'high','<LOW>':'low','<CLOSE>':'close','<VOL>':'vol'})"
   ]
  },
  {
   "cell_type": "code",
   "execution_count": 23,
   "metadata": {
    "collapsed": false
   },
   "outputs": [],
   "source": [
    "data.drop('<DATE>', axis=1, inplace=True)"
   ]
  },
  {
   "cell_type": "code",
   "execution_count": 32,
   "metadata": {
    "collapsed": true
   },
   "outputs": [],
   "source": [
    "data.drop('<TIME>', axis=1, inplace=True)"
   ]
  },
  {
   "cell_type": "code",
   "execution_count": 34,
   "metadata": {
    "collapsed": false
   },
   "outputs": [
    {
     "data": {
      "text/html": [
       "<div>\n",
       "<table border=\"1\" class=\"dataframe\">\n",
       "  <thead>\n",
       "    <tr style=\"text-align: right;\">\n",
       "      <th></th>\n",
       "      <th>&lt;OPEN&gt;</th>\n",
       "      <th>&lt;HIGH&gt;</th>\n",
       "      <th>&lt;LOW&gt;</th>\n",
       "      <th>&lt;CLOSE&gt;</th>\n",
       "      <th>&lt;VOL&gt;</th>\n",
       "      <th>Year</th>\n",
       "      <th>Month</th>\n",
       "      <th>Day</th>\n",
       "      <th>Weekday</th>\n",
       "    </tr>\n",
       "  </thead>\n",
       "  <tbody>\n",
       "    <tr>\n",
       "      <th>0</th>\n",
       "      <td>33.5200</td>\n",
       "      <td>33.5200</td>\n",
       "      <td>33.435</td>\n",
       "      <td>33.4500</td>\n",
       "      <td>395168000</td>\n",
       "      <td>2009</td>\n",
       "      <td>4</td>\n",
       "      <td>13</td>\n",
       "      <td>0</td>\n",
       "    </tr>\n",
       "    <tr>\n",
       "      <th>1</th>\n",
       "      <td>33.3155</td>\n",
       "      <td>33.4300</td>\n",
       "      <td>33.300</td>\n",
       "      <td>33.3476</td>\n",
       "      <td>800589000</td>\n",
       "      <td>2009</td>\n",
       "      <td>4</td>\n",
       "      <td>14</td>\n",
       "      <td>1</td>\n",
       "    </tr>\n",
       "    <tr>\n",
       "      <th>2</th>\n",
       "      <td>33.4700</td>\n",
       "      <td>33.4885</td>\n",
       "      <td>33.320</td>\n",
       "      <td>33.3300</td>\n",
       "      <td>772763000</td>\n",
       "      <td>2009</td>\n",
       "      <td>4</td>\n",
       "      <td>15</td>\n",
       "      <td>2</td>\n",
       "    </tr>\n",
       "    <tr>\n",
       "      <th>3</th>\n",
       "      <td>33.4454</td>\n",
       "      <td>33.4545</td>\n",
       "      <td>33.360</td>\n",
       "      <td>33.3950</td>\n",
       "      <td>745191000</td>\n",
       "      <td>2009</td>\n",
       "      <td>4</td>\n",
       "      <td>16</td>\n",
       "      <td>3</td>\n",
       "    </tr>\n",
       "    <tr>\n",
       "      <th>4</th>\n",
       "      <td>33.4800</td>\n",
       "      <td>33.4800</td>\n",
       "      <td>33.388</td>\n",
       "      <td>33.4200</td>\n",
       "      <td>1017453000</td>\n",
       "      <td>2009</td>\n",
       "      <td>4</td>\n",
       "      <td>17</td>\n",
       "      <td>4</td>\n",
       "    </tr>\n",
       "  </tbody>\n",
       "</table>\n",
       "</div>"
      ],
      "text/plain": [
       "    <OPEN>   <HIGH>   <LOW>  <CLOSE>       <VOL>  Year  Month  Day  Weekday\n",
       "0  33.5200  33.5200  33.435  33.4500   395168000  2009      4   13        0\n",
       "1  33.3155  33.4300  33.300  33.3476   800589000  2009      4   14        1\n",
       "2  33.4700  33.4885  33.320  33.3300   772763000  2009      4   15        2\n",
       "3  33.4454  33.4545  33.360  33.3950   745191000  2009      4   16        3\n",
       "4  33.4800  33.4800  33.388  33.4200  1017453000  2009      4   17        4"
      ]
     },
     "execution_count": 34,
     "metadata": {},
     "output_type": "execute_result"
    }
   ],
   "source": [
    "data.head()"
   ]
  },
  {
   "cell_type": "code",
   "execution_count": 30,
   "metadata": {
    "collapsed": false
   },
   "outputs": [
    {
     "data": {
      "text/plain": [
       "array([0])"
      ]
     },
     "execution_count": 30,
     "metadata": {},
     "output_type": "execute_result"
    }
   ],
   "source": [
    "data[\"<TIME>\"].unique()"
   ]
  },
  {
   "cell_type": "code",
   "execution_count": 36,
   "metadata": {
    "collapsed": false
   },
   "outputs": [
    {
     "name": "stderr",
     "output_type": "stream",
     "text": [
      "/home/dz/.local/lib/python3.5/site-packages/ipykernel/__main__.py:1: SettingWithCopyWarning: \n",
      "A value is trying to be set on a copy of a slice from a DataFrame\n",
      "\n",
      "See the caveats in the documentation: http://pandas.pydata.org/pandas-docs/stable/indexing.html#indexing-view-versus-copy\n",
      "  if __name__ == '__main__':\n"
     ]
    },
    {
     "data": {
      "text/html": [
       "<div>\n",
       "<table border=\"1\" class=\"dataframe\">\n",
       "  <thead>\n",
       "    <tr style=\"text-align: right;\">\n",
       "      <th></th>\n",
       "      <th>&lt;OPEN&gt;</th>\n",
       "      <th>&lt;HIGH&gt;</th>\n",
       "      <th>&lt;LOW&gt;</th>\n",
       "      <th>&lt;CLOSE&gt;</th>\n",
       "      <th>&lt;VOL&gt;</th>\n",
       "      <th>Month</th>\n",
       "      <th>Day</th>\n",
       "      <th>Weekday</th>\n",
       "    </tr>\n",
       "  </thead>\n",
       "  <tbody>\n",
       "    <tr>\n",
       "      <th>1049</th>\n",
       "      <td>75.566</td>\n",
       "      <td>76.751</td>\n",
       "      <td>75.040</td>\n",
       "      <td>75.576</td>\n",
       "      <td>1396505000</td>\n",
       "      <td>1</td>\n",
       "      <td>11</td>\n",
       "      <td>0</td>\n",
       "    </tr>\n",
       "    <tr>\n",
       "      <th>1050</th>\n",
       "      <td>76.864</td>\n",
       "      <td>77.023</td>\n",
       "      <td>75.920</td>\n",
       "      <td>76.065</td>\n",
       "      <td>1523958000</td>\n",
       "      <td>1</td>\n",
       "      <td>12</td>\n",
       "      <td>1</td>\n",
       "    </tr>\n",
       "    <tr>\n",
       "      <th>1051</th>\n",
       "      <td>76.800</td>\n",
       "      <td>76.885</td>\n",
       "      <td>75.715</td>\n",
       "      <td>76.202</td>\n",
       "      <td>1409559000</td>\n",
       "      <td>1</td>\n",
       "      <td>13</td>\n",
       "      <td>2</td>\n",
       "    </tr>\n",
       "    <tr>\n",
       "      <th>1052</th>\n",
       "      <td>77.000</td>\n",
       "      <td>77.000</td>\n",
       "      <td>76.155</td>\n",
       "      <td>76.440</td>\n",
       "      <td>1686910000</td>\n",
       "      <td>1</td>\n",
       "      <td>14</td>\n",
       "      <td>3</td>\n",
       "    </tr>\n",
       "    <tr>\n",
       "      <th>1053</th>\n",
       "      <td>76.600</td>\n",
       "      <td>77.722</td>\n",
       "      <td>76.340</td>\n",
       "      <td>77.382</td>\n",
       "      <td>1978572000</td>\n",
       "      <td>1</td>\n",
       "      <td>15</td>\n",
       "      <td>4</td>\n",
       "    </tr>\n",
       "  </tbody>\n",
       "</table>\n",
       "</div>"
      ],
      "text/plain": [
       "      <OPEN>  <HIGH>   <LOW>  <CLOSE>       <VOL>  Month  Day  Weekday\n",
       "1049  75.566  76.751  75.040   75.576  1396505000      1   11        0\n",
       "1050  76.864  77.023  75.920   76.065  1523958000      1   12        1\n",
       "1051  76.800  76.885  75.715   76.202  1409559000      1   13        2\n",
       "1052  77.000  77.000  76.155   76.440  1686910000      1   14        3\n",
       "1053  76.600  77.722  76.340   77.382  1978572000      1   15        4"
      ]
     },
     "execution_count": 36,
     "metadata": {},
     "output_type": "execute_result"
    }
   ],
   "source": [
    "dataTest=data[data.Year==2016]\n",
    "dataTest.drop('Year', axis=1, inplace=True)\n",
    "print(dataTest.shape)\n",
    "dataTest.head()"
   ]
  },
  {
   "cell_type": "code",
   "execution_count": 42,
   "metadata": {
    "collapsed": false
   },
   "outputs": [
    {
     "name": "stdout",
     "output_type": "stream",
     "text": [
      "(811, 8)\n"
     ]
    },
    {
     "name": "stderr",
     "output_type": "stream",
     "text": [
      "/home/dz/.local/lib/python3.5/site-packages/ipykernel/__main__.py:3: SettingWithCopyWarning: \n",
      "A value is trying to be set on a copy of a slice from a DataFrame\n",
      "\n",
      "See the caveats in the documentation: http://pandas.pydata.org/pandas-docs/stable/indexing.html#indexing-view-versus-copy\n",
      "  app.launch_new_instance()\n"
     ]
    },
    {
     "data": {
      "text/html": [
       "<div>\n",
       "<table border=\"1\" class=\"dataframe\">\n",
       "  <thead>\n",
       "    <tr style=\"text-align: right;\">\n",
       "      <th></th>\n",
       "      <th>&lt;OPEN&gt;</th>\n",
       "      <th>&lt;HIGH&gt;</th>\n",
       "      <th>&lt;LOW&gt;</th>\n",
       "      <th>&lt;CLOSE&gt;</th>\n",
       "      <th>&lt;VOL&gt;</th>\n",
       "      <th>Month</th>\n",
       "      <th>Day</th>\n",
       "      <th>Weekday</th>\n",
       "    </tr>\n",
       "  </thead>\n",
       "  <tbody>\n",
       "    <tr>\n",
       "      <th>0</th>\n",
       "      <td>33.5200</td>\n",
       "      <td>33.5200</td>\n",
       "      <td>33.435</td>\n",
       "      <td>33.4500</td>\n",
       "      <td>395168000</td>\n",
       "      <td>4</td>\n",
       "      <td>13</td>\n",
       "      <td>0</td>\n",
       "    </tr>\n",
       "    <tr>\n",
       "      <th>1</th>\n",
       "      <td>33.3155</td>\n",
       "      <td>33.4300</td>\n",
       "      <td>33.300</td>\n",
       "      <td>33.3476</td>\n",
       "      <td>800589000</td>\n",
       "      <td>4</td>\n",
       "      <td>14</td>\n",
       "      <td>1</td>\n",
       "    </tr>\n",
       "    <tr>\n",
       "      <th>2</th>\n",
       "      <td>33.4700</td>\n",
       "      <td>33.4885</td>\n",
       "      <td>33.320</td>\n",
       "      <td>33.3300</td>\n",
       "      <td>772763000</td>\n",
       "      <td>4</td>\n",
       "      <td>15</td>\n",
       "      <td>2</td>\n",
       "    </tr>\n",
       "    <tr>\n",
       "      <th>3</th>\n",
       "      <td>33.4454</td>\n",
       "      <td>33.4545</td>\n",
       "      <td>33.360</td>\n",
       "      <td>33.3950</td>\n",
       "      <td>745191000</td>\n",
       "      <td>4</td>\n",
       "      <td>16</td>\n",
       "      <td>3</td>\n",
       "    </tr>\n",
       "    <tr>\n",
       "      <th>4</th>\n",
       "      <td>33.4800</td>\n",
       "      <td>33.4800</td>\n",
       "      <td>33.388</td>\n",
       "      <td>33.4200</td>\n",
       "      <td>1017453000</td>\n",
       "      <td>4</td>\n",
       "      <td>17</td>\n",
       "      <td>4</td>\n",
       "    </tr>\n",
       "  </tbody>\n",
       "</table>\n",
       "</div>"
      ],
      "text/plain": [
       "    <OPEN>   <HIGH>   <LOW>  <CLOSE>       <VOL>  Month  Day  Weekday\n",
       "0  33.5200  33.5200  33.435  33.4500   395168000      4   13        0\n",
       "1  33.3155  33.4300  33.300  33.3476   800589000      4   14        1\n",
       "2  33.4700  33.4885  33.320  33.3300   772763000      4   15        2\n",
       "3  33.4454  33.4545  33.360  33.3950   745191000      4   16        3\n",
       "4  33.4800  33.4800  33.388  33.4200  1017453000      4   17        4"
      ]
     },
     "execution_count": 42,
     "metadata": {},
     "output_type": "execute_result"
    }
   ],
   "source": [
    "dataTrain=data[data.Year>2009]\n",
    "dataTrain=data[data.Year<2015]\n",
    "dataTrain.drop('Year', axis=1, inplace=True)\n",
    "print(dataTrain.shape)\n",
    "dataTrain.head()"
   ]
  },
  {
   "cell_type": "code",
   "execution_count": 41,
   "metadata": {
    "collapsed": false
   },
   "outputs": [
    {
     "name": "stdout",
     "output_type": "stream",
     "text": [
      "(238, 8)\n"
     ]
    },
    {
     "name": "stderr",
     "output_type": "stream",
     "text": [
      "/home/dz/.local/lib/python3.5/site-packages/ipykernel/__main__.py:2: SettingWithCopyWarning: \n",
      "A value is trying to be set on a copy of a slice from a DataFrame\n",
      "\n",
      "See the caveats in the documentation: http://pandas.pydata.org/pandas-docs/stable/indexing.html#indexing-view-versus-copy\n",
      "  from ipykernel import kernelapp as app\n"
     ]
    },
    {
     "data": {
      "text/html": [
       "<div>\n",
       "<table border=\"1\" class=\"dataframe\">\n",
       "  <thead>\n",
       "    <tr style=\"text-align: right;\">\n",
       "      <th></th>\n",
       "      <th>&lt;OPEN&gt;</th>\n",
       "      <th>&lt;HIGH&gt;</th>\n",
       "      <th>&lt;LOW&gt;</th>\n",
       "      <th>&lt;CLOSE&gt;</th>\n",
       "      <th>&lt;VOL&gt;</th>\n",
       "      <th>Month</th>\n",
       "      <th>Day</th>\n",
       "      <th>Weekday</th>\n",
       "    </tr>\n",
       "  </thead>\n",
       "  <tbody>\n",
       "    <tr>\n",
       "      <th>811</th>\n",
       "      <td>62.9710</td>\n",
       "      <td>63.351</td>\n",
       "      <td>62.0000</td>\n",
       "      <td>62.9650</td>\n",
       "      <td>1279863000</td>\n",
       "      <td>1</td>\n",
       "      <td>12</td>\n",
       "      <td>0</td>\n",
       "    </tr>\n",
       "    <tr>\n",
       "      <th>812</th>\n",
       "      <td>63.9050</td>\n",
       "      <td>67.999</td>\n",
       "      <td>63.9005</td>\n",
       "      <td>66.2790</td>\n",
       "      <td>1969005000</td>\n",
       "      <td>1</td>\n",
       "      <td>13</td>\n",
       "      <td>1</td>\n",
       "    </tr>\n",
       "    <tr>\n",
       "      <th>813</th>\n",
       "      <td>65.3005</td>\n",
       "      <td>66.650</td>\n",
       "      <td>65.3005</td>\n",
       "      <td>66.4995</td>\n",
       "      <td>1535326000</td>\n",
       "      <td>1</td>\n",
       "      <td>14</td>\n",
       "      <td>2</td>\n",
       "    </tr>\n",
       "    <tr>\n",
       "      <th>814</th>\n",
       "      <td>64.7690</td>\n",
       "      <td>66.080</td>\n",
       "      <td>63.1530</td>\n",
       "      <td>64.4500</td>\n",
       "      <td>1612853000</td>\n",
       "      <td>1</td>\n",
       "      <td>15</td>\n",
       "      <td>3</td>\n",
       "    </tr>\n",
       "    <tr>\n",
       "      <th>815</th>\n",
       "      <td>64.8005</td>\n",
       "      <td>65.500</td>\n",
       "      <td>64.6030</td>\n",
       "      <td>65.2025</td>\n",
       "      <td>1253180000</td>\n",
       "      <td>1</td>\n",
       "      <td>16</td>\n",
       "      <td>4</td>\n",
       "    </tr>\n",
       "  </tbody>\n",
       "</table>\n",
       "</div>"
      ],
      "text/plain": [
       "      <OPEN>  <HIGH>    <LOW>  <CLOSE>       <VOL>  Month  Day  Weekday\n",
       "811  62.9710  63.351  62.0000  62.9650  1279863000      1   12        0\n",
       "812  63.9050  67.999  63.9005  66.2790  1969005000      1   13        1\n",
       "813  65.3005  66.650  65.3005  66.4995  1535326000      1   14        2\n",
       "814  64.7690  66.080  63.1530  64.4500  1612853000      1   15        3\n",
       "815  64.8005  65.500  64.6030  65.2025  1253180000      1   16        4"
      ]
     },
     "execution_count": 41,
     "metadata": {},
     "output_type": "execute_result"
    }
   ],
   "source": [
    "dataVal = data[data.Year==2015]\n",
    "dataVal.drop('Year', axis=1, inplace=True)\n",
    "print(dataVal.shape)\n",
    "dataVal.head()"
   ]
  },
  {
   "cell_type": "code",
   "execution_count": 48,
   "metadata": {
    "collapsed": false
   },
   "outputs": [
    {
     "data": {
      "text/html": [
       "<div>\n",
       "<table border=\"1\" class=\"dataframe\">\n",
       "  <thead>\n",
       "    <tr style=\"text-align: right;\">\n",
       "      <th></th>\n",
       "      <th>&lt;OPEN&gt;</th>\n",
       "      <th>&lt;HIGH&gt;</th>\n",
       "      <th>&lt;LOW&gt;</th>\n",
       "      <th>&lt;CLOSE&gt;</th>\n",
       "      <th>&lt;VOL&gt;</th>\n",
       "      <th>Year</th>\n",
       "      <th>Month</th>\n",
       "      <th>Day</th>\n",
       "      <th>Weekday</th>\n",
       "    </tr>\n",
       "  </thead>\n",
       "  <tbody>\n",
       "    <tr>\n",
       "      <th>0</th>\n",
       "      <td>33.5200</td>\n",
       "      <td>33.5200</td>\n",
       "      <td>33.435</td>\n",
       "      <td>33.4500</td>\n",
       "      <td>395168000</td>\n",
       "      <td>2009</td>\n",
       "      <td>4</td>\n",
       "      <td>13</td>\n",
       "      <td>0</td>\n",
       "    </tr>\n",
       "    <tr>\n",
       "      <th>1</th>\n",
       "      <td>33.3155</td>\n",
       "      <td>33.4300</td>\n",
       "      <td>33.300</td>\n",
       "      <td>33.3476</td>\n",
       "      <td>800589000</td>\n",
       "      <td>2009</td>\n",
       "      <td>4</td>\n",
       "      <td>14</td>\n",
       "      <td>1</td>\n",
       "    </tr>\n",
       "    <tr>\n",
       "      <th>2</th>\n",
       "      <td>33.4700</td>\n",
       "      <td>33.4885</td>\n",
       "      <td>33.320</td>\n",
       "      <td>33.3300</td>\n",
       "      <td>772763000</td>\n",
       "      <td>2009</td>\n",
       "      <td>4</td>\n",
       "      <td>15</td>\n",
       "      <td>2</td>\n",
       "    </tr>\n",
       "    <tr>\n",
       "      <th>3</th>\n",
       "      <td>33.4454</td>\n",
       "      <td>33.4545</td>\n",
       "      <td>33.360</td>\n",
       "      <td>33.3950</td>\n",
       "      <td>745191000</td>\n",
       "      <td>2009</td>\n",
       "      <td>4</td>\n",
       "      <td>16</td>\n",
       "      <td>3</td>\n",
       "    </tr>\n",
       "    <tr>\n",
       "      <th>4</th>\n",
       "      <td>33.4800</td>\n",
       "      <td>33.4800</td>\n",
       "      <td>33.388</td>\n",
       "      <td>33.4200</td>\n",
       "      <td>1017453000</td>\n",
       "      <td>2009</td>\n",
       "      <td>4</td>\n",
       "      <td>17</td>\n",
       "      <td>4</td>\n",
       "    </tr>\n",
       "  </tbody>\n",
       "</table>\n",
       "</div>"
      ],
      "text/plain": [
       "    <OPEN>   <HIGH>   <LOW>  <CLOSE>       <VOL>  Year  Month  Day  Weekday\n",
       "0  33.5200  33.5200  33.435  33.4500   395168000  2009      4   13        0\n",
       "1  33.3155  33.4300  33.300  33.3476   800589000  2009      4   14        1\n",
       "2  33.4700  33.4885  33.320  33.3300   772763000  2009      4   15        2\n",
       "3  33.4454  33.4545  33.360  33.3950   745191000  2009      4   16        3\n",
       "4  33.4800  33.4800  33.388  33.4200  1017453000  2009      4   17        4"
      ]
     },
     "execution_count": 48,
     "metadata": {},
     "output_type": "execute_result"
    }
   ],
   "source": [
    "data.head()"
   ]
  },
  {
   "cell_type": "code",
   "execution_count": null,
   "metadata": {
    "collapsed": true
   },
   "outputs": [],
   "source": [
    "def weight(x):\n",
    "    "
   ]
  },
  {
   "cell_type": "code",
   "execution_count": 138,
   "metadata": {
    "collapsed": true
   },
   "outputs": [],
   "source": [
    "def back_test_moment(x,size):\n",
    "    pnl=[]\n",
    "    begin = size\n",
    "    for i in range(len(x)-1):\n",
    "        if x[i]>0:\n",
    "            size = size*(1+x[i+1])\n",
    "            pnl.append(size)\n",
    "        else:\n",
    "            size = size*(1-x[i+1])\n",
    "            pnl.append(size)\n",
    "    print(250*(size-begin)/(begin*len(x)))\n",
    "    return pnl"
   ]
  },
  {
   "cell_type": "code",
   "execution_count": 133,
   "metadata": {
    "collapsed": true
   },
   "outputs": [],
   "source": [
    "def back_test_moment(x,size):\n",
    "    begin = size\n",
    "    pnl=[]\n",
    "    for i in range(len(x)-5):\n",
    "        if x[i]>0 and x[i+1]>0 and x[i+2]>0 and x[i+3]>0 and x[i+4]>0:\n",
    "            size = size*(1+x[i+5])\n",
    "            pnl.append(size)\n",
    "        elif x[i]<0 and x[i+1]<0 and x[i+2]<0 and x[i+3]<0 and x[i+4]<0:\n",
    "            size = size*(1-x[i+5])\n",
    "            pnl.append(size)\n",
    "        else:\n",
    "            size = size\n",
    "            pnl.append(size)\n",
    "    print(250*(size-begin)/(begin*len(x)))\n",
    "    return pnl"
   ]
  },
  {
   "cell_type": "code",
   "execution_count": 139,
   "metadata": {
    "collapsed": false
   },
   "outputs": [],
   "source": [
    "cl = data['close']\n",
    "op = data['open']\n",
    "returns = (cl-op)/op"
   ]
  },
  {
   "cell_type": "code",
   "execution_count": 140,
   "metadata": {
    "collapsed": false
   },
   "outputs": [
    {
     "name": "stdout",
     "output_type": "stream",
     "text": [
      "0.0989421290113\n"
     ]
    }
   ],
   "source": [
    "pnl = back_test_moment(returns,3345000)"
   ]
  },
  {
   "cell_type": "code",
   "execution_count": 136,
   "metadata": {
    "collapsed": false
   },
   "outputs": [
    {
     "data": {
      "text/plain": [
       "3345000.0000000005"
      ]
     },
     "execution_count": 136,
     "metadata": {},
     "output_type": "execute_result"
    }
   ],
   "source": [
    "len(pnl)\n",
    "cl[0]*100000"
   ]
  },
  {
   "cell_type": "code",
   "execution_count": 141,
   "metadata": {
    "collapsed": false
   },
   "outputs": [
    {
     "data": {
      "image/png": "[encoded data removed]",
      "text/plain": [
       "<matplotlib.figure.Figure at 0x7fc92c6cb240>"
      ]
     },
     "metadata": {},
     "output_type": "display_data"
    }
   ],
   "source": [
    "plt.plot(pnl)\n",
    "plt.plot(cl*100000)\n",
    "plt.show()"
   ]
  },
  {
   "cell_type": "code",
   "execution_count": 122,
   "metadata": {
    "collapsed": false
   },
   "outputs": [
    {
     "data": {
      "image/png": "[encoded data removed]",
      "text/plain": [
       "<matplotlib.figure.Figure at 0x7fc95c6aba58>"
      ]
     },
     "metadata": {},
     "output_type": "display_data"
    }
   ],
   "source": [
    "plt.plot(np.exp(cl))\n",
    "plt.show()"
   ]
  },
  {
   "cell_type": "code",
   "execution_count": null,
   "metadata": {
    "collapsed": true
   },
   "outputs": [],
   "source": []
  }
 ],
 "metadata": {
  "anaconda-cloud": {},
  "kernelspec": {
   "display_name": "Python [conda root]",
   "language": "python",
   "name": "conda-root-py"
  },
  "language_info": {
   "codemirror_mode": {
    "name": "ipython",
    "version": 3
   },
   "file_extension": ".py",
   "mimetype": "text/x-python",
   "name": "python",
   "nbconvert_exporter": "python",
   "pygments_lexer": "ipython3",
   "version": "3.5.2"
  }
 },
 "nbformat": 4,
 "nbformat_minor": 1
}
